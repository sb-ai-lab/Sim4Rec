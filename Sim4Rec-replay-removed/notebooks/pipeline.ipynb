{
 "cells": [
  {
   "cell_type": "code",
   "execution_count": 1,
   "metadata": {},
   "outputs": [
    {
     "name": "stderr",
     "output_type": "stream",
     "text": [
      "WARNING: An illegal reflective access operation has occurred\n",
      "WARNING: Illegal reflective access by org.apache.spark.unsafe.Platform (file:/Users/21008814/test/lib/python3.9/site-packages/pyspark/jars/spark-unsafe_2.12-3.1.3.jar) to constructor java.nio.DirectByteBuffer(long,int)\n",
      "WARNING: Please consider reporting this to the maintainers of org.apache.spark.unsafe.Platform\n",
      "WARNING: Use --illegal-access=warn to enable warnings of further illegal reflective access operations\n",
      "WARNING: All illegal access operations will be denied in a future release\n",
      "23/06/08 15:09:47 WARN NativeCodeLoader: Unable to load native-hadoop library for your platform... using builtin-java classes where applicable\n",
      "Using Spark's default log4j profile: org/apache/spark/log4j-defaults.properties\n",
      "Setting default log level to \"WARN\".\n",
      "To adjust logging level use sc.setLogLevel(newLevel). For SparkR, use setLogLevel(newLevel).\n",
      "23/06/08 15:09:47 WARN SparkConf: Note that spark.local.dir will be overridden by the value set by the cluster manager (via SPARK_LOCAL_DIRS in mesos/standalone/kubernetes and LOCAL_DIRS in YARN).\n"
     ]
    }
   ],
   "source": [
    "import random\n",
    "\n",
    "import pandas as pd\n",
    "import numpy as np\n",
    "\n",
    "from pyspark import SparkConf\n",
    "from pyspark.sql import SparkSession\n",
    "\n",
    "from replay.session_handler import State\n",
    "# from sim4rec.utils import State\n",
    "from sim4rec.utils import pandas_to_spark\n",
    "\n",
    "SPARK_LOCAL_DIR = './tmp'\n",
    "CHECKPOINT_DIR = './tmp/checkpoints'\n",
    "\n",
    "spark = SparkSession.builder\\\n",
    "    .appName('simulator')\\\n",
    "    .master('local[4]')\\\n",
    "    .config('spark.sql.shuffle.partitions', '4')\\\n",
    "    .config('spark.default.parallelism', '4')\\\n",
    "    .config('spark.driver.extraJavaOptions', '-XX:+UseG1GC')\\\n",
    "    .config('spark.executor.extraJavaOptions', '-XX:+UseG1GC')\\\n",
    "    .config('spark.sql.autoBroadcastJoinThreshold', '-1')\\\n",
    "    .config('spark.driver.memory', '4g')\\\n",
    "    .config('spark.local.dir', SPARK_LOCAL_DIR)\\\n",
    "    .getOrCreate()\n",
    "\n",
    "State(spark)\n",
    "\n",
    "np.random.seed(1234)\n",
    "\n",
    "users_df = pd.DataFrame(data=np.random.normal(1, 1, size=(10000, 35)), columns=[f'user_attr_{i}' for i in range(35)]) \n",
    "items_df = pd.DataFrame(data=np.random.normal(-1, 1, size=(2000, 35)), columns=[f'item_attr_{i}' for i in range(35)]) \n",
    "items_df.loc[random.sample(range(2000), 1000)] = np.random.normal(1, 1, size=(1000, 35))\n",
    "users_df['user_id'] = np.arange(len(users_df))\n",
    "items_df['item_id'] = np.arange(len(items_df))\n",
    "history_df_all = pd.DataFrame()\n",
    "history_df_all['user_id'] = np.random.randint(0, 10000, size=33000)\n",
    "history_df_all['item_id'] = np.random.randint(0, 2000, size=33000)\n",
    "history_df_all['relevance'] = 0\n",
    "\n",
    "users_matrix = users_df.values[history_df_all.values[:, 0], :-1]\n",
    "items_matrix = items_df.values[history_df_all.values[:, 1], :-1]\n",
    "dot = np.sum(users_matrix * items_matrix, axis=1)\n",
    "history_df_all['relevance'] = np.where(dot >= 0.5, 1, 0)\n",
    "history_df_all = history_df_all.drop_duplicates(subset=['user_id', 'item_id'], ignore_index=True)\n",
    "\n",
    "history_df_train = history_df_all.iloc[:30000]\n",
    "history_df_val = history_df_all.iloc[30000:]\n",
    "\n",
    "users_df = pandas_to_spark(users_df)\n",
    "items_df = pandas_to_spark(items_df)\n",
    "history_df_train = pandas_to_spark(history_df_train)\n",
    "history_df_val = pandas_to_spark(history_df_val)"
   ]
  },
  {
   "attachments": {},
   "cell_type": "markdown",
   "metadata": {},
   "source": [
    "## Divide users into strats"
   ]
  },
  {
   "cell_type": "code",
   "execution_count": 2,
   "metadata": {},
   "outputs": [],
   "source": [
    "import pyspark.sql.functions as sf\n",
    "\n",
    "\n",
    "## Divide users by half for demostration purposes\n",
    "users_cluster_1_df = users_df.filter(sf.col('user_id') < 5000)\n",
    "users_cluster_2_df = users_df.filter(sf.col('user_id') >= 5000)"
   ]
  },
  {
   "attachments": {},
   "cell_type": "markdown",
   "metadata": {},
   "source": [
    "## Обучение генераторов"
   ]
  },
  {
   "cell_type": "code",
   "execution_count": 3,
   "metadata": {},
   "outputs": [
    {
     "name": "stderr",
     "output_type": "stream",
     "text": [
      "23/06/08 15:11:47 WARN package: Truncated the string representation of a plan since it was too large. This behavior can be adjusted by setting 'spark.sql.debug.maxToStringFields'.\n",
      "                                                                                \r"
     ]
    },
    {
     "name": "stdout",
     "output_type": "stream",
     "text": [
      "synth_strat_1 {'LogisticDetection': 1.0, 'SVCDetection': 0.8839081024111148, 'KSTest': 0.9855257142857143, 'ContinuousKLDivergence': 0.9671574151768041}\n"
     ]
    },
    {
     "name": "stderr",
     "output_type": "stream",
     "text": [
      "                                                                                \r"
     ]
    },
    {
     "name": "stdout",
     "output_type": "stream",
     "text": [
      "synth_strat_2 {'LogisticDetection': 1.0, 'SVCDetection': 0.8853468242957844, 'KSTest': 0.9846000000000001, 'ContinuousKLDivergence': 0.9670461996009401}\n"
     ]
    },
    {
     "name": "stderr",
     "output_type": "stream",
     "text": [
      "                                                                                \r"
     ]
    }
   ],
   "source": [
    "import warnings\n",
    "warnings.filterwarnings(\"ignore\")\n",
    "\n",
    "from sim4rec.modules import RealDataGenerator, SDVDataGenerator, CompositeGenerator\n",
    "from sim4rec.modules import evaluate_synthetic\n",
    "\n",
    "generator_1 = SDVDataGenerator(\n",
    "    label='synth_strat_1',\n",
    "    id_column_name='user_id',\n",
    "    model_name='gaussiancopula',\n",
    "    parallelization_level=4,\n",
    "    device_name='cpu',\n",
    "    seed=1234\n",
    ")\n",
    "generator_2 = SDVDataGenerator(\n",
    "    label='synth_strat_2',\n",
    "    id_column_name='user_id',\n",
    "    model_name='gaussiancopula',\n",
    "    parallelization_level=4,\n",
    "    device_name='cpu',\n",
    "    seed=1234\n",
    ")\n",
    "\n",
    "items_generator = RealDataGenerator(label='items_real', seed=1234)\n",
    "\n",
    "generator_1.fit(users_cluster_1_df.drop('user_id'))\n",
    "generator_2.fit(users_cluster_2_df.drop('user_id'))\n",
    "items_generator.fit(items_df)\n",
    "\n",
    "for g, d in zip([generator_1, generator_2], [users_cluster_1_df, users_cluster_2_df]):\n",
    "    print(g.getLabel(), evaluate_synthetic(g.generate(d.count()).drop('user_id'), d.drop('user_id')))\n",
    "\n",
    "users_com_generator = CompositeGenerator(\n",
    "    generators=[generator_1, generator_2],\n",
    "    label='users_composite',\n",
    "    weights=[0.5, 0.5]\n",
    ")\n",
    "users_com_generator.generate(10000)"
   ]
  },
  {
   "attachments": {},
   "cell_type": "markdown",
   "metadata": {},
   "source": [
    "## Simulator initialization"
   ]
  },
  {
   "cell_type": "code",
   "execution_count": 4,
   "metadata": {},
   "outputs": [],
   "source": [
    "from sim4rec.modules import Simulator\n",
    "\n",
    "sim = Simulator(\n",
    "    user_gen=users_com_generator,\n",
    "    item_gen=items_generator,\n",
    "    data_dir=f'{CHECKPOINT_DIR}/pipeline',\n",
    "    user_key_col='user_id',\n",
    "    item_key_col='item_id',\n",
    "    spark_session=spark\n",
    ")"
   ]
  },
  {
   "attachments": {},
   "cell_type": "markdown",
   "metadata": {},
   "source": [
    "## Response function"
   ]
  },
  {
   "cell_type": "code",
   "execution_count": 5,
   "metadata": {},
   "outputs": [],
   "source": [
    "from pyspark.ml.feature import VectorAssembler\n",
    "from pyspark.ml import PipelineModel\n",
    "from sim4rec.response import CosineSimilatiry, BernoulliResponse, NoiseResponse, ParametricResponseFunction\n",
    "\n",
    "\n",
    "va_users = VectorAssembler(\n",
    "    inputCols=users_df.columns[:-1],\n",
    "    outputCol='features_usr'\n",
    ")\n",
    "\n",
    "va_items = VectorAssembler(\n",
    "    inputCols=items_df.columns[:-1],\n",
    "    outputCol='features_itm'\n",
    ")\n",
    "\n",
    "cos_sim = CosineSimilatiry(\n",
    "    inputCols=[\"features_usr\", \"features_itm\"],\n",
    "    outputCol=\"cosine_proba\"\n",
    ")\n",
    "\n",
    "noise_resp = NoiseResponse(mu=0.5, sigma=0.2, outputCol='noise_proba', seed=1234)\n",
    "\n",
    "resp_func = ParametricResponseFunction(\n",
    "    inputCols=['cosine_proba', 'noise_proba'],\n",
    "    outputCol='proba',\n",
    "    weights=[1.0, 0.0]\n",
    ")\n",
    "br = BernoulliResponse(inputCol='proba', outputCol='response')\n",
    "\n",
    "cos_sim_model = PipelineModel(\n",
    "    stages=[\n",
    "        va_users,\n",
    "        va_items,\n",
    "        cos_sim,\n",
    "        noise_resp,\n",
    "        resp_func,\n",
    "        br\n",
    "    ]\n",
    ")"
   ]
  },
  {
   "cell_type": "code",
   "execution_count": 6,
   "metadata": {},
   "outputs": [
    {
     "name": "stderr",
     "output_type": "stream",
     "text": [
      "                                                                                \r"
     ]
    },
    {
     "data": {
      "text/plain": [
       "{'areaUnderROC': 0.9999997688888849, 'areaUnderPR': 0.9999997226105108}"
      ]
     },
     "execution_count": 6,
     "metadata": {},
     "output_type": "execute_result"
    }
   ],
   "source": [
    "from sim4rec.modules import EvaluateMetrics\n",
    "\n",
    "test_df = history_df_train.join(users_df, 'user_id', 'left')\\\n",
    "                          .join(items_df, 'item_id', 'left')\n",
    "\n",
    "lr_eval = EvaluateMetrics(\n",
    "    userKeyCol='user_id',\n",
    "    itemKeyCol='item_id',\n",
    "    predictionCol='proba',\n",
    "    labelCol='relevance',\n",
    "    mllib_metrics=['areaUnderROC', 'areaUnderPR']\n",
    ")\n",
    "lr_eval(cos_sim_model.transform(test_df))"
   ]
  },
  {
   "attachments": {},
   "cell_type": "markdown",
   "metadata": {},
   "source": [
    "## Recommendation algorithm training"
   ]
  },
  {
   "cell_type": "code",
   "execution_count": 7,
   "metadata": {},
   "outputs": [
    {
     "name": "stderr",
     "output_type": "stream",
     "text": [
      "23/06/08 15:15:10 WARN HintErrorLogger: A join hint (strategy=broadcast) is specified but it is not part of a join relation.\n",
      "23/06/08 15:15:10 WARN HintErrorLogger: A join hint (strategy=broadcast) is specified but it is not part of a join relation.\n",
      "23/06/08 15:15:10 WARN HintErrorLogger: A join hint (strategy=broadcast) is specified but it is not part of a join relation.\n",
      "23/06/08 15:15:10 WARN HintErrorLogger: A join hint (strategy=broadcast) is specified but it is not part of a join relation.\n"
     ]
    }
   ],
   "source": [
    "from replay.data_preparator import Indexer\n",
    "\n",
    "indexer = Indexer(user_col='user_id', item_col='item_id')\n",
    "indexer.fit(users=users_com_generator.sample(1.0), items=items_df)\n",
    "\n",
    "from replay.models import UCB\n",
    "\n",
    "model = UCB(sample=True)\n",
    "model.fit(log=indexer.transform(history_df_train.limit(1)))"
   ]
  },
  {
   "cell_type": "code",
   "execution_count": 8,
   "metadata": {},
   "outputs": [],
   "source": [
    "from sim4rec.modules import EvaluateMetrics\n",
    "# from replay.metrics import NDCG, Precision, Recall\n",
    "\n",
    "evaluator = EvaluateMetrics(\n",
    "    userKeyCol='user_id',\n",
    "    itemKeyCol='item_id',\n",
    "    predictionCol='relevance',\n",
    "    labelCol='response',\n",
    "    replay_label_filter=1.0,\n",
    "    replay_metrics={NDCG() : 10}\n",
    ")\n",
    "\n",
    "spark.sparkContext.setLogLevel('ERROR')"
   ]
  },
  {
   "cell_type": "code",
   "execution_count": 9,
   "metadata": {
    "scrolled": true
   },
   "outputs": [
    {
     "name": "stderr",
     "output_type": "stream",
     "text": [
      "                                                                                \r"
     ]
    },
    {
     "name": "stdout",
     "output_type": "stream",
     "text": [
      "Iteration 0 finished in 15.387271881103516 sec.\n",
      "Iteration 1 finished in 9.601979970932007 sec.\n",
      "Iteration 2 finished in 8.662182092666626 sec.\n",
      "Iteration 3 finished in 7.806817054748535 sec.\n",
      "Iteration 4 finished in 6.580693006515503 sec.\n",
      "Iteration 5 finished in 6.6706459522247314 sec.\n",
      "Iteration 6 finished in 6.575250148773193 sec.\n",
      "Iteration 7 finished in 6.940939903259277 sec.\n",
      "Iteration 8 finished in 6.5682597160339355 sec.\n",
      "Iteration 9 finished in 6.562450885772705 sec.\n",
      "Iteration 10 finished in 6.5772528648376465 sec.\n",
      "Iteration 11 finished in 6.724180221557617 sec.\n",
      "Iteration 12 finished in 6.942054986953735 sec.\n",
      "Iteration 13 finished in 6.655655860900879 sec.\n",
      "Iteration 14 finished in 7.062520980834961 sec.\n",
      "Iteration 15 finished in 6.480510950088501 sec.\n",
      "Iteration 16 finished in 6.40587592124939 sec.\n",
      "Iteration 17 finished in 7.005590915679932 sec.\n",
      "Iteration 18 finished in 6.557711839675903 sec.\n",
      "Iteration 19 finished in 6.39706015586853 sec.\n",
      "Iteration 20 finished in 6.35417103767395 sec.\n",
      "Iteration 21 finished in 6.9011499881744385 sec.\n",
      "Iteration 22 finished in 6.613197088241577 sec.\n",
      "Iteration 23 finished in 6.627647876739502 sec.\n",
      "Iteration 24 finished in 6.652909755706787 sec.\n",
      "Iteration 25 finished in 6.629138946533203 sec.\n",
      "Iteration 26 finished in 6.635179042816162 sec.\n",
      "Iteration 27 finished in 6.6552159786224365 sec.\n",
      "Iteration 28 finished in 6.865438222885132 sec.\n",
      "Iteration 29 finished in 6.544793128967285 sec.\n",
      "Iteration 30 finished in 6.608628034591675 sec.\n",
      "Iteration 31 finished in 6.807070970535278 sec.\n",
      "Iteration 32 finished in 7.390492916107178 sec.\n",
      "Iteration 33 finished in 7.960226774215698 sec.\n",
      "Iteration 34 finished in 6.527370929718018 sec.\n",
      "Iteration 35 finished in 9.020947933197021 sec.\n",
      "Iteration 36 finished in 10.790276765823364 sec.\n",
      "Iteration 37 finished in 8.831394910812378 sec.\n",
      "Iteration 38 finished in 7.60703706741333 sec.\n",
      "Iteration 39 finished in 8.208492994308472 sec.\n",
      "Iteration 40 finished in 9.816596031188965 sec.\n",
      "Iteration 41 finished in 7.830541133880615 sec.\n",
      "Iteration 42 finished in 7.6622161865234375 sec.\n",
      "Iteration 43 finished in 8.305279970169067 sec.\n",
      "Iteration 44 finished in 7.984253168106079 sec.\n",
      "Iteration 45 finished in 8.06136178970337 sec.\n",
      "Iteration 46 finished in 9.336400270462036 sec.\n",
      "Iteration 47 finished in 6.939671039581299 sec.\n",
      "Iteration 48 finished in 7.763420104980469 sec.\n",
      "Iteration 49 finished in 7.379204273223877 sec.\n"
     ]
    }
   ],
   "source": [
    "import time\n",
    "# from replay.utils import get_top_k_recs\n",
    "\n",
    "metrics = []\n",
    "for i in range(50):\n",
    "    iter_time = time.time()\n",
    "    ## sample a bunch of users\n",
    "    users = sim.sample_users(0.02).cache()\n",
    "\n",
    "    log = sim.get_log(users)\n",
    "    if log is None:\n",
    "        log = history_df_train.limit(1)\n",
    "    log = log.cache()\n",
    "\n",
    "    recs = model.predict(\n",
    "        log=indexer.transform(log),\n",
    "        k=10,\n",
    "        users=indexer.transform(users),\n",
    "        items=indexer.transform(items_df)\n",
    "    )\n",
    "    recs = indexer.inverse_transform(recs).cache()\n",
    "\n",
    "    ## simulate responses on recommended items\n",
    "    true_resp = sim.sample_responses(\n",
    "        recs_df=recs,\n",
    "        user_features=users,\n",
    "        item_features=items_df,\n",
    "        action_models=cos_sim_model\n",
    "    ).select('user_id', 'item_id', 'relevance', 'response').cache()\n",
    "\n",
    "    ## update log with simulated responses\n",
    "    sim.update_log(true_resp, iteration=i)\n",
    "\n",
    "    ## calculate metrics\n",
    "    metrics.append(evaluator(true_resp))\n",
    "\n",
    "    ## refit recommendation model\n",
    "    model._clear_cache()\n",
    "    train_log = sim.log.cache()\n",
    "    model.fit(\n",
    "        log=indexer.transform(\n",
    "            train_log.select('user_id', 'item_id', 'response')\\\n",
    "                     .withColumnRenamed('response', 'relevance')\n",
    "        )\n",
    "    )\n",
    "\n",
    "    users.unpersist()\n",
    "    # pairs.unpersist()\n",
    "    if log is not None:\n",
    "        log.unpersist()\n",
    "    recs.unpersist()\n",
    "    true_resp.unpersist()\n",
    "    train_log.unpersist()\n",
    "\n",
    "    print(f'Iteration {i} finished in {time.time() - iter_time} sec.')"
   ]
  },
  {
   "cell_type": "code",
   "execution_count": 10,
   "metadata": {},
   "outputs": [
    {
     "data": {
      "text/plain": [
       "(0.6, 1.01)"
      ]
     },
     "execution_count": 10,
     "metadata": {},
     "output_type": "execute_result"
    },
    {
     "data": {
      "image/png": "[encoded data removed]",
      "text/plain": [
       "<Figure size 640x480 with 1 Axes>"
      ]
     },
     "metadata": {},
     "output_type": "display_data"
    }
   ],
   "source": [
    "metrics_pdf = pd.DataFrame(metrics)\n",
    "\n",
    "%matplotlib inline\n",
    "import matplotlib.pyplot as plt\n",
    "\n",
    "plt.plot(metrics_pdf['NDCG@10'])\n",
    "plt.ylim(0.6, 1.01)"
   ]
  },
  {
   "cell_type": "code",
   "execution_count": null,
   "metadata": {},
   "outputs": [],
   "source": []
  }
 ],
 "metadata": {
  "kernelspec": {
   "display_name": "Python 3 (ipykernel)",
   "language": "python",
   "name": "python3"
  },
  "language_info": {
   "codemirror_mode": {
    "name": "ipython",
    "version": 3
   },
   "file_extension": ".py",
   "mimetype": "text/x-python",
   "name": "python",
   "nbconvert_exporter": "python",
   "pygments_lexer": "ipython3",
   "version": "3.9.6"
  },
  "vscode": {
   "interpreter": {
    "hash": "c6b6b90ef95efe8079a3f0ef22bd6f68f431f523d74a0d8953a93119eedfde3b"
   }
  }
 },
 "nbformat": 4,
 "nbformat_minor": 2
}
