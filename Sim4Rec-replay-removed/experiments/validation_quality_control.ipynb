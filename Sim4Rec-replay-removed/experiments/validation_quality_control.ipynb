{
 "cells": [
  {
   "cell_type": "markdown",
   "id": "5b178e9a",
   "metadata": {},
   "source": [
    "Этот ноутбук посвящен подбору оптимальных параметров функции отклика. С одной стороны, функция отклика должна порождать набор откликов, который был бы схож по распределению к исходным откликам. С другой стороны, функция отклика должна порождать такой набор откликов, качество рекомендательной системы на котором было бы близко к качеству рекомендательной системы на реальных данных. Поэтому была предложена следующая целевая функция для отыскания оптимальных параметров функции отклика:\n",
    "$$KS(\\alpha_1,\\alpha_2,\\ldots,\\alpha_n)+KL(\\alpha_1,\\alpha_2,\\ldots,\\alpha_n)-\\sum_{i=1}^{N}|QM_{syn}^i(\\alpha_1,\\alpha_2,\\ldots,\\alpha_n)-QM_{real}^i|\\rightarrow\\ {max}_{\\alpha_1,\\alpha_2,\\ldots,\\alpha_n},$$\n",
    "где $\\alpha_1,\\alpha_2,\\ldots,\\alpha_n$ -- параметры функции отклика, $KS(\\alpha_1,\\alpha_2,\\ldots,\\alpha_n)$ -- единица минус значение статистики Колмогорова-Смирнова между двумя распределениями, $KL(\\alpha_1,\\alpha_2,\\ldots,\\alpha_n)$ -- нормированное значение расстояния Кульбака-Лейблера.\n",
    "\n",
    "В данном эксперименте были использованы такие метрики качества, значения которых находятся в промежутке $[0;1],$ поэтому значения целевой функции лежат в диапазоне $[-1; 2].$\n",
    "\n",
    "Эксперимент проводится на валидационном датасете, в рамках которого происходит обучение рекомендательной системы с помощью симулятора на искусственно сгенерированных данных.\n",
    "\n",
    "Профили пользователей генерируются из распределения N(1,1); половина предложений генерируется из распределения N(-1, 1), другая половина -- из распределения N(1, 1). Отклики формируются как скалярное произведение профиля пользователя и профиля предложения, бинаризованное по порогу 0.5."
   ]
  },
  {
   "cell_type": "code",
   "execution_count": 8,
   "id": "68b2d9fe",
   "metadata": {},
   "outputs": [
    {
     "data": {
      "text/plain": [
       "<replay.session_handler.State at 0x7f8a3c3f4790>"
      ]
     },
     "execution_count": 8,
     "metadata": {},
     "output_type": "execute_result"
    }
   ],
   "source": [
    "import warnings\n",
    "warnings.filterwarnings(\"ignore\")\n",
    "\n",
    "import random\n",
    "import time\n",
    "import itertools\n",
    "import math\n",
    "\n",
    "import pandas as pd\n",
    "import numpy as np\n",
    "\n",
    "from pyspark.sql import SparkSession\n",
    "from pyspark.ml.classification import LogisticRegression\n",
    "from pyspark.ml.feature import VectorAssembler\n",
    "from pyspark.ml import PipelineModel\n",
    "from pyspark.sql.functions import rand \n",
    "import pyspark.sql.types as st\n",
    "import pyspark.sql.functions as sf\n",
    "\n",
    "from replay.session_handler import State\n",
    "from replay.metrics import NDCG, Precision, RocAuc\n",
    "from replay.data_preparator import Indexer\n",
    "\n",
    "from sim4rec.utils import pandas_to_spark\n",
    "from sim4rec.modules import SDVDataGenerator, RealDataGenerator\n",
    "from sim4rec.modules import evaluate_synthetic\n",
    "from sim4rec.modules import Simulator\n",
    "from sim4rec.modules import EvaluateMetrics\n",
    "from sim4rec.utils import VectorElementExtractor\n",
    "from sim4rec.response import NoiseResponse, CosineSimilatiry\n",
    "from sim4rec.response import ParametricResponseFunction, BernoulliResponse\n",
    "from sim4rec.modules import QualityControlObjective\n",
    "\n",
    "from transformers import ModelCalibration\n",
    "\n",
    "from replay.models import UCB\n",
    "\n",
    "%matplotlib inline\n",
    "import matplotlib.pyplot as plt\n",
    "from mpl_toolkits.mplot3d import Axes3D\n",
    "\n",
    "from sklearn.datasets import make_blobs\n",
    "from sklearn.preprocessing import MinMaxScaler\n",
    "from sklearn.metrics import roc_auc_score, precision_score, recall_score\n",
    "from sklearn.metrics.pairwise import cosine_similarity\n",
    "\n",
    "spark = SparkSession.builder\\\n",
    "    .appName('simulator_validation')\\\n",
    "    .master('local[4]')\\\n",
    "    .config('spark.sql.shuffle.partitions', '4')\\\n",
    "    .config('spark.default.parallelism', '4')\\\n",
    "    .config('spark.driver.extraJavaOptions', '-XX:+UseG1GC')\\\n",
    "    .config('spark.executor.extraJavaOptions', '-XX:+UseG1GC')\\\n",
    "    .config('spark.sql.autoBroadcastJoinThreshold', '-1')\\\n",
    "    .config('spark.driver.memory', '32g')\\\n",
    "    .config('spark.local.dir', './tmp')\\\n",
    "    .getOrCreate()\n",
    "\n",
    "spark.sparkContext.setLogLevel('ERROR')\n",
    "State(spark)"
   ]
  },
  {
   "cell_type": "code",
   "execution_count": 134,
   "id": "c6576b87",
   "metadata": {},
   "outputs": [],
   "source": [
    "CHECKPOINTS_DIR='/data/home/estavinova/tmp/checkpoints/validation_quality'\n",
    "CHECKPOINTS_DIR2='/data/home/estavinova/tmp/checkpoints/validation_quality_real'\n",
    "CHECKPOINTS_DIR3='/data/home/estavinova/tmp/checkpoints/validation_quality_opt'\n",
    "tmp_path = '/data/home/estavinova/tmp/models/'\n",
    "data_path = '/data/home/estavinova/simulator/'"
   ]
  },
  {
   "cell_type": "code",
   "execution_count": 74,
   "id": "bab9f225",
   "metadata": {},
   "outputs": [],
   "source": [
    "users_df = pd.DataFrame(data=np.random.normal(1, 1, size=(10000, 35)), columns=[f'user_attr_{i}' for i in range(35)]) \n",
    "items_df = pd.DataFrame(data=np.random.normal(-1, 1, size=(2000, 35)), columns=[f'item_attr_{i}' for i in range(35)]) \n",
    "items_df.loc[random.sample(range(2000), 1000)] = np.random.normal(1, 1, size=(1000, 35))\n",
    "users_df['user_id'] = np.arange(len(users_df))\n",
    "items_df['item_id'] = np.arange(len(items_df))\n",
    "history_df_all = pd.DataFrame()\n",
    "\n",
    "history_df_all['user_id'] = [i[0] for i in itertools.product(np.arange(10000), np.arange(2000))]\n",
    "history_df_all['item_id'] = [i[1] for i in itertools.product(np.arange(10000), np.arange(2000))]\n",
    "history_df_all['relevance'] = 0\n",
    "\n",
    "users_matrix = users_df.values[history_df_all.values[:, 0], :-1]\n",
    "items_matrix = items_df.values[history_df_all.values[:, 1], :-1]\n",
    "dot = np.sum(users_matrix * items_matrix, axis=1)\n",
    "den = np.linalg.norm(users_matrix, ord=2, axis=1) * np.linalg.norm(items_matrix, ord=2, axis=1)\n",
    "cosine = dot / den\n",
    "similarity = 1 - np.arccos(cosine) / math.pi\n",
    "\n",
    "history_df_all['relevance'] = np.where(np.random.random(len(similarity)) <= similarity, 1, 0)\n",
    "history_df_all['timestamp'] = 0\n",
    "history_df_all = history_df_all.drop_duplicates(subset=['user_id', 'item_id'], ignore_index=True)\n",
    "\n",
    "history_df_train = history_df_all.sample(frac = 0.1).reset_index(drop=True)\n",
    "history_df_val = pd.concat([history_df_all, history_df_train]).\\\n",
    "    drop_duplicates(subset=['user_id', 'item_id'], keep=False, ignore_index=True).\\\n",
    "    sample(frac = 0.33).reset_index(drop=True)\n",
    "\n",
    "users_df = pandas_to_spark(users_df)\n",
    "items_df = pandas_to_spark(items_df)\n",
    "history_df_train = pandas_to_spark(history_df_train)\n",
    "history_df_val = pandas_to_spark(history_df_val)\n",
    "history_df_all = pandas_to_spark(history_df_all)"
   ]
  },
  {
   "cell_type": "code",
   "execution_count": 75,
   "id": "737dc32e",
   "metadata": {},
   "outputs": [
    {
     "name": "stderr",
     "output_type": "stream",
     "text": [
      "                                                                                \r"
     ]
    }
   ],
   "source": [
    "history_df_train.write.option(\"header\",True).csv(data_path+\"history_df_train_spoiled.csv\")\n",
    "history_df_val.write.option(\"header\",True).csv(data_path+\"history_df_val_spoiled.csv\")\n",
    "history_df_all.write.option(\"header\",True).csv(data_path+\"history_df_all_spoiled.csv\")"
   ]
  },
  {
   "cell_type": "markdown",
   "id": "dafdfe90",
   "metadata": {},
   "source": [
    "# Synthetic data generation"
   ]
  },
  {
   "cell_type": "markdown",
   "id": "a28b6868",
   "metadata": {},
   "source": [
    "На искусственно сгенерированных профилях пользователей обучается модель GaussianCopula для генерации синтетических профилей."
   ]
  },
  {
   "cell_type": "code",
   "execution_count": 76,
   "id": "5bf944fd",
   "metadata": {},
   "outputs": [
    {
     "name": "stderr",
     "output_type": "stream",
     "text": [
      "                                                                                \r"
     ]
    },
    {
     "name": "stdout",
     "output_type": "stream",
     "text": [
      "{'LogisticDetection': 1.0, 'SVCDetection': 0.9156414228204114, 'KSTest': 0.9893685714285712, 'ContinuousKLDivergence': 0.9846094056449105}\n",
      "CPU times: user 4min, sys: 7.25 s, total: 4min 7s\n",
      "Wall time: 4min 9s\n"
     ]
    }
   ],
   "source": [
    "%%time\n",
    "user_generator = SDVDataGenerator(\n",
    "    label='synth',\n",
    "    id_column_name='user_id',\n",
    "    model_name='gaussiancopula',\n",
    "    parallelization_level=4,\n",
    "    seed=1234\n",
    ")\n",
    "\n",
    "item_generator = RealDataGenerator(\n",
    "    label='real',\n",
    "    seed=1234\n",
    ")\n",
    "\n",
    "user_generator.fit(users_df.drop('user_id'))\n",
    "\n",
    "item_generator.fit(items_df)\n",
    "\n",
    "syn_users = user_generator.generate(10000)\n",
    "gen_score = evaluate_synthetic(syn_users.drop('user_id'), users_df.drop('user_id'))\n",
    "print(gen_score)"
   ]
  },
  {
   "cell_type": "code",
   "execution_count": 9,
   "id": "2a26ddf7",
   "metadata": {},
   "outputs": [],
   "source": [
    "user_generator.save_model(f'{tmp_path}/validation_gaussiancopula.pkl')"
   ]
  },
  {
   "cell_type": "code",
   "execution_count": 77,
   "id": "c9baa6a9",
   "metadata": {},
   "outputs": [],
   "source": [
    "real_user_generator = RealDataGenerator(\n",
    "    label='real',\n",
    "    seed=1234\n",
    ")\n",
    "\n",
    "real_user_generator.fit(users_df)"
   ]
  },
  {
   "cell_type": "code",
   "execution_count": 94,
   "id": "31a20627",
   "metadata": {},
   "outputs": [],
   "source": [
    "sim = Simulator(\n",
    "    user_gen=user_generator,\n",
    "    item_gen=item_generator,\n",
    "    user_key_col='user_id',\n",
    "    item_key_col='item_id',\n",
    "    spark_session=spark,\n",
    "    data_dir=CHECKPOINTS_DIR,\n",
    ")\n",
    "\n",
    "evaluator = EvaluateMetrics(\n",
    "    userKeyCol='user_id',\n",
    "    itemKeyCol='item_id',\n",
    "    predictionCol='relevance',\n",
    "    labelCol='response',\n",
    "    replay_label_filter=1.0,\n",
    "    replay_metrics={NDCG() : 10, Precision() : 10, RocAuc(): 10}\n",
    ")"
   ]
  },
  {
   "cell_type": "code",
   "execution_count": 79,
   "id": "89a1c7ba",
   "metadata": {},
   "outputs": [],
   "source": [
    "sim_real = Simulator(\n",
    "    user_gen=real_user_generator,\n",
    "    item_gen=item_generator,\n",
    "    user_key_col='user_id',\n",
    "    item_key_col='item_id',\n",
    "    spark_session=spark,\n",
    "    data_dir=CHECKPOINTS_DIR2,\n",
    ")"
   ]
  },
  {
   "cell_type": "markdown",
   "id": "39e3af54",
   "metadata": {},
   "source": [
    "# Response function"
   ]
  },
  {
   "cell_type": "markdown",
   "id": "94b4ee59",
   "metadata": {},
   "source": [
    "Синтетическая функция отклика представляет собой случайную величину из распределения Бернулли, вероятность успеха которого определяется трехкомпонентной комбинацией:\n",
    "$$f_{syn}(u_i, m_j)=Ber(\\alpha_1Heur(u_i,m_j)+\\alpha_2Real(u_i,m_j)+\\alpha_3Random(u_i,m_j)),$$\n",
    "$$\\alpha_1+\\alpha_2+\\alpha_3=1; \\alpha_1,\\alpha_2,\\alpha_3\\in[0,1],$$\n",
    "$$\\forall u_i\\in U_{syn}; \\forall m_j \\in M,$$\n",
    "где $u_i$ –- вектор атрибутов пользователя, $m_j$ –- вектор атрибутов предложения, $U_{syn}$ –- набор синтетических профилей пользователей, $M$ –- набор профилей предложений, $Heur$ -– это эвристическая компонента (основанная на предположении о полезности действия пользователя), $Real$ –- компонента, которая моделирует отклик в наборе данных реального мира, $Random$ -– случайная компонента."
   ]
  },
  {
   "cell_type": "code",
   "execution_count": 80,
   "id": "3199784c",
   "metadata": {},
   "outputs": [
    {
     "name": "stderr",
     "output_type": "stream",
     "text": [
      "                                                                                \r"
     ]
    },
    {
     "name": "stdout",
     "output_type": "stream",
     "text": [
      "CPU times: user 92.5 ms, sys: 26.4 ms, total: 119 ms\n",
      "Wall time: 35.9 s\n"
     ]
    }
   ],
   "source": [
    "%%time\n",
    "va = VectorAssembler(\n",
    "    inputCols=users_df.columns[:-1] + items_df.columns[:-1],\n",
    "    outputCol='features'\n",
    ")\n",
    "\n",
    "lr = LogisticRegression(\n",
    "    featuresCol='features',\n",
    "    labelCol='relevance',\n",
    "    probabilityCol='__lr_prob'\n",
    ")\n",
    "\n",
    "vee = VectorElementExtractor(inputCol='__lr_prob', outputCol='__r1', index=1)\n",
    "\n",
    "train_df = history_df_train.join(users_df, 'user_id', 'left')\\\n",
    "                       .join(items_df, 'item_id', 'left')\\\n",
    "                       .drop('timestamp')\n",
    "\n",
    "lr_model = lr.fit(va.transform(train_df))"
   ]
  },
  {
   "cell_type": "code",
   "execution_count": 81,
   "id": "03a0defd",
   "metadata": {},
   "outputs": [
    {
     "name": "stderr",
     "output_type": "stream",
     "text": [
      "                                                                                \r"
     ]
    },
    {
     "name": "stdout",
     "output_type": "stream",
     "text": [
      "Regression ROC AUC: 0.6774498811158217\n"
     ]
    }
   ],
   "source": [
    "test_df = history_df_val.join(users_df, 'user_id', 'left')\\\n",
    "                        .join(items_df, 'item_id', 'left')\\\n",
    "                        .drop('timestamp')\n",
    "\n",
    "pred_df = vee.transform(lr_model.transform(va.transform(test_df))).select(\"user_id\", \"item_id\", \"relevance\", \"__r1\").toPandas()\n",
    "\n",
    "print(f\"Regression ROC AUC: {roc_auc_score(pred_df.relevance, pred_df.__r1)}\")"
   ]
  },
  {
   "cell_type": "markdown",
   "id": "8a816627",
   "metadata": {},
   "source": [
    "В целях демонстрации была выбрана функция отклика, состоящая из реалистичной и шумовой компоненты (с коэффициентами 0.5)."
   ]
  },
  {
   "cell_type": "code",
   "execution_count": 95,
   "id": "e35d0961",
   "metadata": {},
   "outputs": [],
   "source": [
    "vee = VectorElementExtractor(inputCol='__lr_prob', outputCol='__r1', index=1)\n",
    "noise_resp = NoiseResponse(mu=0.5, sigma=0.2, outputCol='__r2', seed=1234)\n",
    "va_users = VectorAssembler(\n",
    "    inputCols=users_df.columns[:-1],\n",
    "    outputCol='features_usr'\n",
    ")\n",
    "\n",
    "va_items = VectorAssembler(\n",
    "    inputCols=items_df.columns[:-1],\n",
    "    outputCol='features_itm'\n",
    ")\n",
    "\n",
    "cos_sim = CosineSimilatiry(\n",
    "    inputCols=[\"features_usr\", \"features_itm\"],\n",
    "    outputCol=\"__r3\"\n",
    ")\n",
    "resp_func = ParametricResponseFunction(\n",
    "    inputCols=['__r1', '__r2', '__r3'],\n",
    "    outputCol='__proba',\n",
    "    weights=[0.5, 0.5, 0.0]\n",
    ")\n",
    "\n",
    "br = BernoulliResponse(inputCol='__proba', outputCol='response', seed=1234)\n",
    "\n",
    "\n",
    "pipeline = PipelineModel(\n",
    "    stages=[\n",
    "        va,\n",
    "        lr_model,\n",
    "        vee,\n",
    "        noise_resp,\n",
    "        va_users,\n",
    "        va_items,\n",
    "        cos_sim,\n",
    "        resp_func,\n",
    "        br\n",
    "    ]\n",
    ")"
   ]
  },
  {
   "cell_type": "code",
   "execution_count": 96,
   "id": "e5bb39aa",
   "metadata": {},
   "outputs": [
    {
     "name": "stdout",
     "output_type": "stream",
     "text": [
      "CPU times: user 669 ms, sys: 245 ms, total: 914 ms\n",
      "Wall time: 4.84 s\n"
     ]
    }
   ],
   "source": [
    "%%time\n",
    "real_indexer = Indexer(user_col='user_id', item_col='item_id')\n",
    "real_indexer.fit(users=users_df, items=items_df)\n",
    "\n",
    "synth_indexer = Indexer(user_col='user_id', item_col='item_id')\n",
    "synth_indexer.fit(users=user_generator.sample(1.0), items=items_df)\n",
    "\n",
    "real_model = UCB(sample = True)\n",
    "simulator_model = UCB(sample = True)\n",
    "\n",
    "real_model.fit(log=real_indexer.transform(history_df_train.drop('timestamp').limit(1)))\n",
    "simulator_model.fit(log=synth_indexer.transform(history_df_train.drop('timestamp').limit(1)))"
   ]
  },
  {
   "cell_type": "markdown",
   "id": "1695cc15",
   "metadata": {},
   "source": [
    "# Real model training"
   ]
  },
  {
   "cell_type": "markdown",
   "id": "54b0dcc2",
   "metadata": {},
   "source": [
    "Обучаем модель UCB на реальных данных, но с использованием методологии обучения рекомендательной системы в симуляторе."
   ]
  },
  {
   "cell_type": "code",
   "execution_count": 84,
   "id": "4fa1195c",
   "metadata": {
    "scrolled": true
   },
   "outputs": [
    {
     "name": "stdout",
     "output_type": "stream",
     "text": [
      "Stage 0\n"
     ]
    },
    {
     "name": "stderr",
     "output_type": "stream",
     "text": [
      "                                                                                \r"
     ]
    },
    {
     "name": "stdout",
     "output_type": "stream",
     "text": [
      "Time of 0 iteration: \n",
      "24.15433955192566\n",
      "Stage 1\n"
     ]
    },
    {
     "name": "stderr",
     "output_type": "stream",
     "text": [
      "                                                                                \r"
     ]
    },
    {
     "name": "stdout",
     "output_type": "stream",
     "text": [
      "Time of 1 iteration: \n",
      "20.431910037994385\n",
      "Stage 2\n"
     ]
    },
    {
     "name": "stderr",
     "output_type": "stream",
     "text": [
      "                                                                                \r"
     ]
    },
    {
     "name": "stdout",
     "output_type": "stream",
     "text": [
      "Time of 2 iteration: \n",
      "18.729608058929443\n",
      "Stage 3\n"
     ]
    },
    {
     "name": "stderr",
     "output_type": "stream",
     "text": [
      "                                                                                \r"
     ]
    },
    {
     "name": "stdout",
     "output_type": "stream",
     "text": [
      "Time of 3 iteration: \n",
      "17.287887811660767\n",
      "Stage 4\n"
     ]
    },
    {
     "name": "stderr",
     "output_type": "stream",
     "text": [
      "                                                                                \r"
     ]
    },
    {
     "name": "stdout",
     "output_type": "stream",
     "text": [
      "Time of 4 iteration: \n",
      "19.051512241363525\n",
      "Stage 5\n"
     ]
    },
    {
     "name": "stderr",
     "output_type": "stream",
     "text": [
      "                                                                                \r"
     ]
    },
    {
     "name": "stdout",
     "output_type": "stream",
     "text": [
      "Time of 5 iteration: \n",
      "17.81776785850525\n",
      "Stage 6\n"
     ]
    },
    {
     "name": "stderr",
     "output_type": "stream",
     "text": [
      "                                                                                \r"
     ]
    },
    {
     "name": "stdout",
     "output_type": "stream",
     "text": [
      "Time of 6 iteration: \n",
      "19.837247848510742\n",
      "Stage 7\n"
     ]
    },
    {
     "name": "stderr",
     "output_type": "stream",
     "text": [
      "                                                                                \r"
     ]
    },
    {
     "name": "stdout",
     "output_type": "stream",
     "text": [
      "Time of 7 iteration: \n",
      "17.767375469207764\n",
      "Stage 8\n"
     ]
    },
    {
     "name": "stderr",
     "output_type": "stream",
     "text": [
      "                                                                                \r"
     ]
    },
    {
     "name": "stdout",
     "output_type": "stream",
     "text": [
      "Time of 8 iteration: \n",
      "18.321730852127075\n",
      "Stage 9\n"
     ]
    },
    {
     "name": "stderr",
     "output_type": "stream",
     "text": [
      "                                                                                \r"
     ]
    },
    {
     "name": "stdout",
     "output_type": "stream",
     "text": [
      "Time of 9 iteration: \n",
      "17.88185954093933\n",
      "Stage 10\n"
     ]
    },
    {
     "name": "stderr",
     "output_type": "stream",
     "text": [
      "                                                                                \r"
     ]
    },
    {
     "name": "stdout",
     "output_type": "stream",
     "text": [
      "Time of 10 iteration: \n",
      "19.169301986694336\n",
      "Stage 11\n"
     ]
    },
    {
     "name": "stderr",
     "output_type": "stream",
     "text": [
      "                                                                                \r"
     ]
    },
    {
     "name": "stdout",
     "output_type": "stream",
     "text": [
      "Time of 11 iteration: \n",
      "18.224119901657104\n",
      "Stage 12\n"
     ]
    },
    {
     "name": "stderr",
     "output_type": "stream",
     "text": [
      "                                                                                \r"
     ]
    },
    {
     "name": "stdout",
     "output_type": "stream",
     "text": [
      "Time of 12 iteration: \n",
      "21.889883995056152\n",
      "Stage 13\n"
     ]
    },
    {
     "name": "stderr",
     "output_type": "stream",
     "text": [
      "                                                                                \r"
     ]
    },
    {
     "name": "stdout",
     "output_type": "stream",
     "text": [
      "Time of 13 iteration: \n",
      "17.67685341835022\n",
      "Stage 14\n"
     ]
    },
    {
     "name": "stderr",
     "output_type": "stream",
     "text": [
      "                                                                                \r"
     ]
    },
    {
     "name": "stdout",
     "output_type": "stream",
     "text": [
      "Time of 14 iteration: \n",
      "19.16236400604248\n",
      "Stage 15\n"
     ]
    },
    {
     "name": "stderr",
     "output_type": "stream",
     "text": [
      "                                                                                \r"
     ]
    },
    {
     "name": "stdout",
     "output_type": "stream",
     "text": [
      "Time of 15 iteration: \n",
      "16.960163831710815\n",
      "Stage 16\n"
     ]
    },
    {
     "name": "stderr",
     "output_type": "stream",
     "text": [
      "                                                                                \r"
     ]
    },
    {
     "name": "stdout",
     "output_type": "stream",
     "text": [
      "Time of 16 iteration: \n",
      "19.802045345306396\n",
      "Stage 17\n"
     ]
    },
    {
     "name": "stderr",
     "output_type": "stream",
     "text": [
      "                                                                                \r"
     ]
    },
    {
     "name": "stdout",
     "output_type": "stream",
     "text": [
      "Time of 17 iteration: \n",
      "16.938894987106323\n",
      "Stage 18\n"
     ]
    },
    {
     "name": "stderr",
     "output_type": "stream",
     "text": [
      "                                                                                \r"
     ]
    },
    {
     "name": "stdout",
     "output_type": "stream",
     "text": [
      "Time of 18 iteration: \n",
      "19.098435163497925\n",
      "Stage 19\n"
     ]
    },
    {
     "name": "stderr",
     "output_type": "stream",
     "text": [
      "                                                                                \r"
     ]
    },
    {
     "name": "stdout",
     "output_type": "stream",
     "text": [
      "Time of 19 iteration: \n",
      "19.642553567886353\n"
     ]
    },
    {
     "name": "stderr",
     "output_type": "stream",
     "text": [
      "                                                                                \r"
     ]
    },
    {
     "name": "stdout",
     "output_type": "stream",
     "text": [
      "CPU times: user 17.9 s, sys: 4.41 s, total: 22.3 s\n",
      "Wall time: 6min 36s\n"
     ]
    },
    {
     "data": {
      "text/plain": [
       "DataFrame[item_attr_0: double, item_attr_1: double, item_attr_2: double, item_attr_3: double, item_attr_4: double, item_attr_5: double, item_attr_6: double, item_attr_7: double, item_attr_8: double, item_attr_9: double, item_attr_10: double, item_attr_11: double, item_attr_12: double, item_attr_13: double, item_attr_14: double, item_attr_15: double, item_attr_16: double, item_attr_17: double, item_attr_18: double, item_attr_19: double, item_attr_20: double, item_attr_21: double, item_attr_22: double, item_attr_23: double, item_attr_24: double, item_attr_25: double, item_attr_26: double, item_attr_27: double, item_attr_28: double, item_attr_29: double, item_attr_30: double, item_attr_31: double, item_attr_32: double, item_attr_33: double, item_attr_34: double, item_idx: int]"
      ]
     },
     "execution_count": 84,
     "metadata": {},
     "output_type": "execute_result"
    }
   ],
   "source": [
    "%%time\n",
    "\n",
    "ndcg = NDCG()\n",
    "precision = Precision()\n",
    "\n",
    "LOG_SCHEMA = st.StructType([\n",
    "    st.StructField('user_id', st.IntegerType()),\n",
    "    st.StructField('item_id', st.IntegerType()),\n",
    "    st.StructField('relevance', st.DoubleType())\n",
    "])\n",
    "\n",
    "empty_log = spark.createDataFrame(\n",
    "    data=spark.sparkContext.emptyRDD(),\n",
    "    schema=LOG_SCHEMA\n",
    ")\n",
    "\n",
    "real_learning_metrics = []\n",
    "items_replay = real_indexer.transform(items_df).cache()\n",
    "\n",
    "for i in range(20):\n",
    "    print(f'Stage {i}')\n",
    "    start_iter = time.time()\n",
    "    log = sim_real.log\n",
    "    if log is None:\n",
    "        log = empty_log\n",
    "    log = log.cache()\n",
    "    users = users_df.sample(0.02).cache()\n",
    "\n",
    "    recs = real_model.predict(\n",
    "        log=real_indexer.transform(log),\n",
    "        k=10,\n",
    "        users=real_indexer.transform(users),\n",
    "        items=items_replay\n",
    "    )\n",
    "    recs = real_indexer.inverse_transform(recs).cache()\n",
    "    \n",
    "    true_resp = history_df_all.withColumnRenamed('relevance', 'response')\\\n",
    "        .join(recs, on=['user_id', 'item_id'], how='inner').drop('timestamp').cache()\n",
    "    \n",
    "    sim_real.update_log(true_resp, iteration=i)\n",
    "    \n",
    "    real_learning_metrics.append(evaluator(true_resp))\n",
    "\n",
    "    real_model._clear_cache()\n",
    "    train_log = sim_real.log.cache()\n",
    "    real_model.fit(\n",
    "        log=real_indexer.transform(\n",
    "            train_log.select('user_id', 'item_id', 'response')\\\n",
    "                .withColumnRenamed('response', 'relevance')\n",
    "        )\n",
    "    )\n",
    "        \n",
    "    users.unpersist()\n",
    "    train_log.unpersist()\n",
    "    if log is not None:\n",
    "        log.unpersist()\n",
    "    recs.unpersist()\n",
    "    true_resp.unpersist()\n",
    "    end_iter = time.time()\n",
    "    print(f\"Time of {i} iteration: \")\n",
    "    print(end_iter - start_iter)\n",
    "\n",
    "log = sim_real.log.cache()\n",
    "users = users_df.sample(0.2).cache()\n",
    "\n",
    "real_recs = real_model.predict(\n",
    "    log=real_indexer.transform(log),\n",
    "    k=10,\n",
    "    users=real_indexer.transform(users),\n",
    "    items=items_replay\n",
    ")\n",
    "real_recs = real_indexer.inverse_transform(real_recs).cache()\n",
    "\n",
    "real_ground_truth = history_df_all.withColumnRenamed('relevance', 'response')\\\n",
    "    .join(real_recs, on=['user_id', 'item_id'], how='inner').drop('timestamp').cache()\n",
    "\n",
    "real_final_metrics = evaluator(real_ground_truth)\n",
    "\n",
    "items_replay.unpersist()"
   ]
  },
  {
   "cell_type": "code",
   "execution_count": 85,
   "id": "bc8a2a22",
   "metadata": {},
   "outputs": [
    {
     "data": {
      "text/plain": [
       "{'NDCG@10': 0.84350353159632,\n",
       " 'Precision@10': 0.5578178275694103,\n",
       " 'RocAuc@10': 0.6200580644662476}"
      ]
     },
     "execution_count": 85,
     "metadata": {},
     "output_type": "execute_result"
    }
   ],
   "source": [
    "real_final_metrics"
   ]
  },
  {
   "cell_type": "markdown",
   "id": "158efdb6",
   "metadata": {},
   "source": [
    "# Synthetic model training (in simulator)"
   ]
  },
  {
   "cell_type": "markdown",
   "id": "ff6cf216",
   "metadata": {},
   "source": [
    "Как и в предыдущих экспериментах, обучаем модель UCB с помощью симулятора на синтетических данных."
   ]
  },
  {
   "cell_type": "code",
   "execution_count": 97,
   "id": "c21e922f",
   "metadata": {
    "scrolled": true
   },
   "outputs": [
    {
     "name": "stderr",
     "output_type": "stream",
     "text": [
      "                                                                                \r"
     ]
    },
    {
     "name": "stdout",
     "output_type": "stream",
     "text": [
      "Iteration 0 finished with time 16.273345232009888 sec.\n"
     ]
    },
    {
     "name": "stderr",
     "output_type": "stream",
     "text": [
      "                                                                                \r"
     ]
    },
    {
     "name": "stdout",
     "output_type": "stream",
     "text": [
      "Iteration 1 finished with time 12.77390456199646 sec.\n",
      "Iteration 2 finished with time 10.9720458984375 sec.\n"
     ]
    },
    {
     "name": "stderr",
     "output_type": "stream",
     "text": [
      "                                                                                \r"
     ]
    },
    {
     "name": "stdout",
     "output_type": "stream",
     "text": [
      "Iteration 3 finished with time 11.906293153762817 sec.\n"
     ]
    },
    {
     "name": "stderr",
     "output_type": "stream",
     "text": [
      "                                                                                \r"
     ]
    },
    {
     "name": "stdout",
     "output_type": "stream",
     "text": [
      "Iteration 4 finished with time 12.510987997055054 sec.\n",
      "Iteration 5 finished with time 12.265539407730103 sec.\n"
     ]
    },
    {
     "name": "stderr",
     "output_type": "stream",
     "text": [
      "                                                                                \r"
     ]
    },
    {
     "name": "stdout",
     "output_type": "stream",
     "text": [
      "Iteration 6 finished with time 13.741250276565552 sec.\n"
     ]
    },
    {
     "name": "stderr",
     "output_type": "stream",
     "text": [
      "                                                                                \r"
     ]
    },
    {
     "name": "stdout",
     "output_type": "stream",
     "text": [
      "Iteration 7 finished with time 11.896373748779297 sec.\n"
     ]
    },
    {
     "name": "stderr",
     "output_type": "stream",
     "text": [
      "                                                                                \r"
     ]
    },
    {
     "name": "stdout",
     "output_type": "stream",
     "text": [
      "Iteration 8 finished with time 12.24850845336914 sec.\n"
     ]
    },
    {
     "name": "stderr",
     "output_type": "stream",
     "text": [
      "                                                                                \r"
     ]
    },
    {
     "name": "stdout",
     "output_type": "stream",
     "text": [
      "Iteration 9 finished with time 13.451990365982056 sec.\n"
     ]
    },
    {
     "name": "stderr",
     "output_type": "stream",
     "text": [
      "                                                                                \r"
     ]
    },
    {
     "name": "stdout",
     "output_type": "stream",
     "text": [
      "Iteration 10 finished with time 13.439898490905762 sec.\n"
     ]
    },
    {
     "name": "stderr",
     "output_type": "stream",
     "text": [
      "                                                                                \r"
     ]
    },
    {
     "name": "stdout",
     "output_type": "stream",
     "text": [
      "Iteration 11 finished with time 13.904045104980469 sec.\n"
     ]
    },
    {
     "name": "stderr",
     "output_type": "stream",
     "text": [
      "                                                                                \r"
     ]
    },
    {
     "name": "stdout",
     "output_type": "stream",
     "text": [
      "Iteration 12 finished with time 12.722561597824097 sec.\n"
     ]
    },
    {
     "name": "stderr",
     "output_type": "stream",
     "text": [
      "                                                                                \r"
     ]
    },
    {
     "name": "stdout",
     "output_type": "stream",
     "text": [
      "Iteration 13 finished with time 13.27617073059082 sec.\n"
     ]
    },
    {
     "name": "stderr",
     "output_type": "stream",
     "text": [
      "                                                                                \r"
     ]
    },
    {
     "name": "stdout",
     "output_type": "stream",
     "text": [
      "Iteration 14 finished with time 13.161933183670044 sec.\n"
     ]
    },
    {
     "name": "stderr",
     "output_type": "stream",
     "text": [
      "                                                                                \r"
     ]
    },
    {
     "name": "stdout",
     "output_type": "stream",
     "text": [
      "Iteration 15 finished with time 12.761510372161865 sec.\n",
      "Iteration 16 finished with time 13.232937574386597 sec.\n"
     ]
    },
    {
     "name": "stderr",
     "output_type": "stream",
     "text": [
      "                                                                                \r"
     ]
    },
    {
     "name": "stdout",
     "output_type": "stream",
     "text": [
      "Iteration 17 finished with time 13.861734867095947 sec.\n"
     ]
    },
    {
     "name": "stderr",
     "output_type": "stream",
     "text": [
      "                                                                                \r"
     ]
    },
    {
     "name": "stdout",
     "output_type": "stream",
     "text": [
      "Iteration 18 finished with time 13.172895908355713 sec.\n"
     ]
    },
    {
     "name": "stderr",
     "output_type": "stream",
     "text": [
      "                                                                                \r"
     ]
    },
    {
     "name": "stdout",
     "output_type": "stream",
     "text": [
      "Iteration 19 finished with time 14.509940147399902 sec.\n"
     ]
    },
    {
     "name": "stderr",
     "output_type": "stream",
     "text": [
      "                                                                                \r"
     ]
    },
    {
     "data": {
      "text/plain": [
       "DataFrame[item_attr_0: double, item_attr_1: double, item_attr_2: double, item_attr_3: double, item_attr_4: double, item_attr_5: double, item_attr_6: double, item_attr_7: double, item_attr_8: double, item_attr_9: double, item_attr_10: double, item_attr_11: double, item_attr_12: double, item_attr_13: double, item_attr_14: double, item_attr_15: double, item_attr_16: double, item_attr_17: double, item_attr_18: double, item_attr_19: double, item_attr_20: double, item_attr_21: double, item_attr_22: double, item_attr_23: double, item_attr_24: double, item_attr_25: double, item_attr_26: double, item_attr_27: double, item_attr_28: double, item_attr_29: double, item_attr_30: double, item_attr_31: double, item_attr_32: double, item_attr_33: double, item_attr_34: double, item_idx: int]"
      ]
     },
     "execution_count": 97,
     "metadata": {},
     "output_type": "execute_result"
    }
   ],
   "source": [
    "LOG_SCHEMA = st.StructType([\n",
    "    st.StructField('user_id', st.IntegerType()),\n",
    "    st.StructField('item_id', st.IntegerType()),\n",
    "    st.StructField('relevance', st.DoubleType())\n",
    "])\n",
    "\n",
    "empty_log = spark.createDataFrame(\n",
    "    data=spark.sparkContext.emptyRDD(),\n",
    "    schema=LOG_SCHEMA\n",
    ")\n",
    "\n",
    "items_replay = synth_indexer.transform(items_df).cache()\n",
    "\n",
    "ucb_metrics_old = []\n",
    "\n",
    "for i in range(20):\n",
    "    iter_start = time.time()\n",
    "\n",
    "    users = sim.sample_users(0.02).cache()\n",
    "    \n",
    "    log = sim.get_log(users)\n",
    "    if log is None:\n",
    "        log = empty_log\n",
    "    log = log.cache()\n",
    "\n",
    "    recs_ucb = simulator_model.predict(\n",
    "        log=synth_indexer.transform(log),\n",
    "        k=10,\n",
    "        users=synth_indexer.transform(users),\n",
    "        items=items_replay\n",
    "    )\n",
    "    recs_ucb = synth_indexer.inverse_transform(recs_ucb).cache()\n",
    "\n",
    "    resp_ucb = sim.sample_responses(\n",
    "        recs_df=recs_ucb,\n",
    "        user_features=users,\n",
    "        item_features=items_df,\n",
    "        action_models=pipeline\n",
    "    ).select('user_id', 'item_id', 'relevance', 'response').cache()\n",
    "\n",
    "    sim.update_log(resp_ucb, iteration=i)\n",
    "\n",
    "    ucb_metrics_old.append(evaluator(resp_ucb))\n",
    "\n",
    "    simulator_model._clear_cache()\n",
    "    ucb_train_log = sim.log.cache()\n",
    "    simulator_model.fit(\n",
    "        log=synth_indexer.transform(\n",
    "            ucb_train_log\\\n",
    "                .select('user_id', 'item_id', 'response')\\\n",
    "                .withColumnRenamed('response', 'relevance')\n",
    "        )\n",
    "    )\n",
    "\n",
    "    users.unpersist()\n",
    "    log.unpersist()\n",
    "    recs_ucb.unpersist()\n",
    "    resp_ucb.unpersist()\n",
    "    ucb_train_log.unpersist()\n",
    "\n",
    "    print(f'Iteration {i} finished with time {time.time() - iter_start} sec.')\n",
    "    \n",
    "users = sim.sample_users(0.2).cache()\n",
    "synth_recs = synth_indexer.inverse_transform(\n",
    "    simulator_model.predict(\n",
    "        log=synth_indexer.transform(sim.log),\n",
    "        k=10,\n",
    "        users=synth_indexer.transform(users),\n",
    "        items=items_replay\n",
    "    )\n",
    ").cache()\n",
    "synth_ground_truth = sim.sample_responses(\n",
    "    recs_df=synth_recs,\n",
    "    user_features=users,\n",
    "    item_features=items_df,\n",
    "    action_models=pipeline\n",
    ").select('user_id', 'item_id', 'relevance', 'response').cache()\n",
    "final_metrics = evaluator(synth_ground_truth)\n",
    "\n",
    "items_replay.unpersist()"
   ]
  },
  {
   "cell_type": "code",
   "execution_count": 98,
   "id": "c10048fc",
   "metadata": {},
   "outputs": [
    {
     "data": {
      "text/plain": [
       "{'NDCG@10': 0.7932256245986999,\n",
       " 'Precision@10': 0.5165770171149142,\n",
       " 'RocAuc@10': 0.5444755501222496}"
      ]
     },
     "execution_count": 98,
     "metadata": {},
     "output_type": "execute_result"
    }
   ],
   "source": [
    "final_metrics"
   ]
  },
  {
   "cell_type": "markdown",
   "id": "2ba3fbf0",
   "metadata": {},
   "source": [
    "Проверим на реальных данных качество рексистемы, обученной на синтетике."
   ]
  },
  {
   "cell_type": "code",
   "execution_count": 99,
   "id": "c71f752b",
   "metadata": {},
   "outputs": [
    {
     "name": "stderr",
     "output_type": "stream",
     "text": [
      "                                                                                \r"
     ]
    },
    {
     "data": {
      "text/plain": [
       "DataFrame[item_attr_0: double, item_attr_1: double, item_attr_2: double, item_attr_3: double, item_attr_4: double, item_attr_5: double, item_attr_6: double, item_attr_7: double, item_attr_8: double, item_attr_9: double, item_attr_10: double, item_attr_11: double, item_attr_12: double, item_attr_13: double, item_attr_14: double, item_attr_15: double, item_attr_16: double, item_attr_17: double, item_attr_18: double, item_attr_19: double, item_attr_20: double, item_attr_21: double, item_attr_22: double, item_attr_23: double, item_attr_24: double, item_attr_25: double, item_attr_26: double, item_attr_27: double, item_attr_28: double, item_attr_29: double, item_attr_30: double, item_attr_31: double, item_attr_32: double, item_attr_33: double, item_attr_34: double, item_idx: int]"
      ]
     },
     "execution_count": 99,
     "metadata": {},
     "output_type": "execute_result"
    }
   ],
   "source": [
    "items_replay = real_indexer.transform(items_df).cache()\n",
    "log = sim.log.cache()\n",
    "users = users_df.sample(0.02).cache()\n",
    "\n",
    "real_recs = simulator_model.predict(\n",
    "    log=synth_indexer.transform(log),\n",
    "    k=10,\n",
    "    users=real_indexer.transform(users),\n",
    "    items=items_replay\n",
    ")\n",
    "real_recs = real_indexer.inverse_transform(real_recs).cache()\n",
    "\n",
    "real_ground_truth = history_df_all.withColumnRenamed('relevance', 'response')\\\n",
    "    .join(real_recs, on=['user_id', 'item_id'], how='inner').drop('timestamp').cache()\n",
    "\n",
    "real_metrics_trained_on_synth = evaluator(real_ground_truth)\n",
    "items_replay.unpersist()"
   ]
  },
  {
   "cell_type": "code",
   "execution_count": 100,
   "id": "23567dde",
   "metadata": {},
   "outputs": [
    {
     "data": {
      "text/plain": [
       "{'NDCG@10': 0.8100318174258643,\n",
       " 'Precision@10': 0.5275862068965518,\n",
       " 'RocAuc@10': 0.5729011259676284}"
      ]
     },
     "execution_count": 100,
     "metadata": {},
     "output_type": "execute_result"
    }
   ],
   "source": [
    "real_metrics_trained_on_synth"
   ]
  },
  {
   "cell_type": "markdown",
   "id": "c49f5cc8",
   "metadata": {},
   "source": [
    "И наоборот: проверим на синтетических данных качество рексистемы, обученной на реальных."
   ]
  },
  {
   "cell_type": "code",
   "execution_count": 90,
   "id": "d15f7961",
   "metadata": {},
   "outputs": [
    {
     "name": "stderr",
     "output_type": "stream",
     "text": [
      "                                                                                \r"
     ]
    },
    {
     "data": {
      "text/plain": [
       "DataFrame[item_attr_0: double, item_attr_1: double, item_attr_2: double, item_attr_3: double, item_attr_4: double, item_attr_5: double, item_attr_6: double, item_attr_7: double, item_attr_8: double, item_attr_9: double, item_attr_10: double, item_attr_11: double, item_attr_12: double, item_attr_13: double, item_attr_14: double, item_attr_15: double, item_attr_16: double, item_attr_17: double, item_attr_18: double, item_attr_19: double, item_attr_20: double, item_attr_21: double, item_attr_22: double, item_attr_23: double, item_attr_24: double, item_attr_25: double, item_attr_26: double, item_attr_27: double, item_attr_28: double, item_attr_29: double, item_attr_30: double, item_attr_31: double, item_attr_32: double, item_attr_33: double, item_attr_34: double, item_idx: int]"
      ]
     },
     "execution_count": 90,
     "metadata": {},
     "output_type": "execute_result"
    }
   ],
   "source": [
    "\n",
    "items_replay = real_indexer.transform(items_df).cache()\n",
    "users = sim.sample_users(0.02).cache()\n",
    "synth_recs = synth_indexer.inverse_transform(\n",
    "    real_model.predict(\n",
    "        log=real_indexer.transform(sim_real.log),\n",
    "        k=10,\n",
    "        users=synth_indexer.transform(users),\n",
    "        items=items_replay\n",
    "    )\n",
    ").cache()\n",
    "synth_ground_truth = sim.sample_responses(\n",
    "    recs_df=synth_recs,\n",
    "    user_features=users,\n",
    "    item_features=items_df,\n",
    "    action_models=pipeline\n",
    ").select('user_id', 'item_id', 'relevance', 'response').cache()\n",
    "synth_metrics_trained_on_real = evaluator(synth_ground_truth)\n",
    "items_replay.unpersist()"
   ]
  },
  {
   "cell_type": "code",
   "execution_count": 91,
   "id": "031e0342",
   "metadata": {},
   "outputs": [
    {
     "data": {
      "text/plain": [
       "{'NDCG@10': 0.8282097179517367,\n",
       " 'Precision@10': 0.548087431693989,\n",
       " 'RocAuc@10': 0.5748456067308527}"
      ]
     },
     "execution_count": 91,
     "metadata": {},
     "output_type": "execute_result"
    }
   ],
   "source": [
    "synth_metrics_trained_on_real"
   ]
  },
  {
   "cell_type": "code",
   "execution_count": 180,
   "id": "1e9ec575",
   "metadata": {},
   "outputs": [
    {
     "data": {
      "image/png": "[encoded data removed]",
      "text/plain": [
       "<Figure size 640x480 with 1 Axes>"
      ]
     },
     "metadata": {},
     "output_type": "display_data"
    }
   ],
   "source": [
    "real_learning_metrics_pdf = pd.DataFrame(real_learning_metrics)\n",
    "ucb_metrics_old_pdf = pd.DataFrame(ucb_metrics_old)\n",
    "\n",
    "plt.plot(real_learning_metrics_pdf['NDCG@10'], color='g', label='Real')\n",
    "plt.plot(ucb_metrics_old_pdf['NDCG@10'], color='b', label='Synth old')\n",
    "plt.plot(19, real_metrics_trained_on_synth['NDCG@10'], 'gv', label='NDCG (train: synth, test: real)')\n",
    "plt.plot(19, synth_metrics_trained_on_real['NDCG@10'], 'bv', label='NDCG (train: real, test: synth)')\n",
    "\n",
    "plt.xlabel('iteration')\n",
    "plt.ylabel('NDCG')\n",
    "plt.legend()\n",
    "plt.xticks(np.arange(0, 20, step=2.0))\n",
    "plt.tight_layout()\n",
    "#plt.savefig('val_qual_sber.png', dpi=300)"
   ]
  },
  {
   "cell_type": "code",
   "execution_count": 182,
   "id": "ed29dafe",
   "metadata": {},
   "outputs": [
    {
     "data": {
      "image/png": "[encoded data removed]",
      "text/plain": [
       "<Figure size 640x480 with 1 Axes>"
      ]
     },
     "metadata": {},
     "output_type": "display_data"
    }
   ],
   "source": [
    "plt.plot(real_learning_metrics_pdf['Precision@10'], color='g', label='Real')\n",
    "plt.plot(ucb_metrics_old_pdf['Precision@10'], color='b', label='Synth old')\n",
    "\n",
    "plt.plot(19, real_metrics_trained_on_synth['Precision@10'], 'gv', label='Precision (train: synth, test: real)')\n",
    "plt.plot(19, synth_metrics_trained_on_real['Precision@10'], 'bv', label='Precision (train: real, test: synth)')\n",
    "\n",
    "plt.xlabel('iteration')\n",
    "plt.ylabel('Precision')\n",
    "plt.legend()\n",
    "plt.xticks(np.arange(0, 20, step=2.0))\n",
    "plt.tight_layout()"
   ]
  },
  {
   "cell_type": "markdown",
   "id": "8a7634e1",
   "metadata": {},
   "source": [
    "# Objective function optimization"
   ]
  },
  {
   "cell_type": "code",
   "execution_count": null,
   "id": "644c978b",
   "metadata": {
    "scrolled": true
   },
   "outputs": [
    {
     "name": "stdout",
     "output_type": "stream",
     "text": [
      "Current alpha : [0.0, 0.0, 1.0]\n",
      "Stage 0\n"
     ]
    },
    {
     "name": "stderr",
     "output_type": "stream",
     "text": [
      "                                                                                \r"
     ]
    },
    {
     "name": "stdout",
     "output_type": "stream",
     "text": [
      "Time of 0 iteration: \n",
      "12.35241985321045\n",
      "Stage 1\n"
     ]
    },
    {
     "name": "stderr",
     "output_type": "stream",
     "text": [
      "                                                                                \r"
     ]
    },
    {
     "name": "stdout",
     "output_type": "stream",
     "text": [
      "Time of 1 iteration: \n",
      "11.510929822921753\n",
      "Stage 2\n"
     ]
    },
    {
     "name": "stderr",
     "output_type": "stream",
     "text": [
      "                                                                                \r"
     ]
    },
    {
     "name": "stdout",
     "output_type": "stream",
     "text": [
      "Time of 2 iteration: \n",
      "8.871090412139893\n",
      "Stage 3\n",
      "Time of 3 iteration: \n",
      "8.987804412841797\n",
      "Stage 4\n"
     ]
    },
    {
     "name": "stderr",
     "output_type": "stream",
     "text": [
      "                                                                                \r"
     ]
    },
    {
     "name": "stdout",
     "output_type": "stream",
     "text": [
      "Time of 4 iteration: \n",
      "8.880954027175903\n",
      "Stage 5\n"
     ]
    },
    {
     "name": "stderr",
     "output_type": "stream",
     "text": [
      "                                                                                \r"
     ]
    },
    {
     "name": "stdout",
     "output_type": "stream",
     "text": [
      "Time of 5 iteration: \n",
      "9.940253019332886\n",
      "Stage 6\n",
      "Time of 6 iteration: \n",
      "10.46973443031311\n",
      "Stage 7\n"
     ]
    },
    {
     "name": "stderr",
     "output_type": "stream",
     "text": [
      "                                                                                \r"
     ]
    },
    {
     "name": "stdout",
     "output_type": "stream",
     "text": [
      "Time of 7 iteration: \n",
      "10.074403762817383\n",
      "Stage 8\n"
     ]
    },
    {
     "name": "stderr",
     "output_type": "stream",
     "text": [
      "                                                                                \r"
     ]
    },
    {
     "name": "stdout",
     "output_type": "stream",
     "text": [
      "Time of 8 iteration: \n",
      "9.250143051147461\n",
      "Stage 9\n"
     ]
    },
    {
     "name": "stderr",
     "output_type": "stream",
     "text": [
      "                                                                                \r"
     ]
    },
    {
     "name": "stdout",
     "output_type": "stream",
     "text": [
      "Time of 9 iteration: \n",
      "10.471828937530518\n",
      "Stage 10\n"
     ]
    },
    {
     "name": "stderr",
     "output_type": "stream",
     "text": [
      "                                                                                \r"
     ]
    },
    {
     "name": "stdout",
     "output_type": "stream",
     "text": [
      "Time of 10 iteration: \n",
      "10.816314697265625\n",
      "Stage 11\n",
      "Time of 11 iteration: \n",
      "9.546218872070312\n",
      "Stage 12\n"
     ]
    },
    {
     "name": "stderr",
     "output_type": "stream",
     "text": [
      "                                                                                \r"
     ]
    },
    {
     "name": "stdout",
     "output_type": "stream",
     "text": [
      "Time of 12 iteration: \n",
      "9.896090507507324\n",
      "Stage 13\n"
     ]
    },
    {
     "name": "stderr",
     "output_type": "stream",
     "text": [
      "                                                                                \r"
     ]
    },
    {
     "name": "stdout",
     "output_type": "stream",
     "text": [
      "Time of 13 iteration: \n",
      "11.078615188598633\n",
      "Stage 14\n"
     ]
    },
    {
     "name": "stderr",
     "output_type": "stream",
     "text": [
      "                                                                                \r"
     ]
    },
    {
     "name": "stdout",
     "output_type": "stream",
     "text": [
      "Time of 14 iteration: \n",
      "10.33514952659607\n",
      "Stage 15\n"
     ]
    },
    {
     "name": "stderr",
     "output_type": "stream",
     "text": [
      "                                                                                \r"
     ]
    },
    {
     "name": "stdout",
     "output_type": "stream",
     "text": [
      "Time of 15 iteration: \n",
      "10.143929958343506\n",
      "Stage 16\n"
     ]
    },
    {
     "name": "stderr",
     "output_type": "stream",
     "text": [
      "                                                                                \r"
     ]
    },
    {
     "name": "stdout",
     "output_type": "stream",
     "text": [
      "Time of 16 iteration: \n",
      "11.070913076400757\n",
      "Stage 17\n"
     ]
    },
    {
     "name": "stderr",
     "output_type": "stream",
     "text": [
      "                                                                                \r"
     ]
    },
    {
     "name": "stdout",
     "output_type": "stream",
     "text": [
      "Time of 17 iteration: \n",
      "10.106784343719482\n",
      "Stage 18\n"
     ]
    },
    {
     "name": "stderr",
     "output_type": "stream",
     "text": [
      "                                                                                \r"
     ]
    },
    {
     "name": "stdout",
     "output_type": "stream",
     "text": [
      "Time of 18 iteration: \n",
      "9.600978374481201\n",
      "Stage 19\n"
     ]
    },
    {
     "name": "stderr",
     "output_type": "stream",
     "text": [
      "                                                                                \r"
     ]
    },
    {
     "name": "stdout",
     "output_type": "stream",
     "text": [
      "Time of 19 iteration: \n",
      "10.410096645355225\n"
     ]
    },
    {
     "name": "stderr",
     "output_type": "stream",
     "text": [
      "                                                                                \r"
     ]
    },
    {
     "name": "stdout",
     "output_type": "stream",
     "text": [
      "Current alpha : [0.0, 0.1, 0.9]\n",
      "Stage 0\n"
     ]
    },
    {
     "name": "stderr",
     "output_type": "stream",
     "text": [
      "                                                                                \r"
     ]
    },
    {
     "name": "stdout",
     "output_type": "stream",
     "text": [
      "Time of 0 iteration: \n",
      "19.787757635116577\n",
      "Stage 1\n"
     ]
    },
    {
     "name": "stderr",
     "output_type": "stream",
     "text": [
      "                                                                                \r"
     ]
    },
    {
     "name": "stdout",
     "output_type": "stream",
     "text": [
      "Time of 1 iteration: \n",
      "10.228794574737549\n",
      "Stage 2\n"
     ]
    },
    {
     "name": "stderr",
     "output_type": "stream",
     "text": [
      "                                                                                \r"
     ]
    },
    {
     "name": "stdout",
     "output_type": "stream",
     "text": [
      "Time of 2 iteration: \n",
      "10.548052787780762\n",
      "Stage 3\n"
     ]
    },
    {
     "name": "stderr",
     "output_type": "stream",
     "text": [
      "                                                                                \r"
     ]
    },
    {
     "name": "stdout",
     "output_type": "stream",
     "text": [
      "Time of 3 iteration: \n",
      "11.501298904418945\n",
      "Stage 4\n"
     ]
    },
    {
     "name": "stderr",
     "output_type": "stream",
     "text": [
      "                                                                                \r"
     ]
    },
    {
     "name": "stdout",
     "output_type": "stream",
     "text": [
      "Time of 4 iteration: \n",
      "11.62491512298584\n",
      "Stage 5\n"
     ]
    },
    {
     "name": "stderr",
     "output_type": "stream",
     "text": [
      "                                                                                \r"
     ]
    },
    {
     "name": "stdout",
     "output_type": "stream",
     "text": [
      "Time of 5 iteration: \n",
      "10.269901990890503\n",
      "Stage 6\n"
     ]
    },
    {
     "name": "stderr",
     "output_type": "stream",
     "text": [
      "                                                                                \r"
     ]
    },
    {
     "name": "stdout",
     "output_type": "stream",
     "text": [
      "Time of 6 iteration: \n",
      "10.774733781814575\n",
      "Stage 7\n"
     ]
    },
    {
     "name": "stderr",
     "output_type": "stream",
     "text": [
      "                                                                                \r"
     ]
    },
    {
     "name": "stdout",
     "output_type": "stream",
     "text": [
      "Time of 7 iteration: \n",
      "18.809592485427856\n",
      "Stage 8\n"
     ]
    },
    {
     "name": "stderr",
     "output_type": "stream",
     "text": [
      "                                                                                \r"
     ]
    },
    {
     "name": "stdout",
     "output_type": "stream",
     "text": [
      "Time of 8 iteration: \n",
      "24.917052507400513\n",
      "Stage 9\n"
     ]
    },
    {
     "name": "stderr",
     "output_type": "stream",
     "text": [
      "                                                                                \r"
     ]
    },
    {
     "name": "stdout",
     "output_type": "stream",
     "text": [
      "Time of 9 iteration: \n",
      "10.674290657043457\n",
      "Stage 10\n"
     ]
    },
    {
     "name": "stderr",
     "output_type": "stream",
     "text": [
      "                                                                                \r"
     ]
    },
    {
     "name": "stdout",
     "output_type": "stream",
     "text": [
      "Time of 10 iteration: \n",
      "11.119681119918823\n",
      "Stage 11\n"
     ]
    },
    {
     "name": "stderr",
     "output_type": "stream",
     "text": [
      "                                                                                \r"
     ]
    },
    {
     "name": "stdout",
     "output_type": "stream",
     "text": [
      "Time of 11 iteration: \n",
      "10.02995252609253\n",
      "Stage 12\n"
     ]
    },
    {
     "name": "stderr",
     "output_type": "stream",
     "text": [
      "                                                                                \r"
     ]
    },
    {
     "name": "stdout",
     "output_type": "stream",
     "text": [
      "Time of 12 iteration: \n",
      "9.825921058654785\n",
      "Stage 13\n"
     ]
    },
    {
     "name": "stderr",
     "output_type": "stream",
     "text": [
      "                                                                                \r"
     ]
    },
    {
     "name": "stdout",
     "output_type": "stream",
     "text": [
      "Time of 13 iteration: \n",
      "10.096710681915283\n",
      "Stage 14\n"
     ]
    },
    {
     "name": "stderr",
     "output_type": "stream",
     "text": [
      "                                                                                \r"
     ]
    },
    {
     "name": "stdout",
     "output_type": "stream",
     "text": [
      "Time of 14 iteration: \n",
      "11.603918075561523\n",
      "Stage 15\n"
     ]
    },
    {
     "name": "stderr",
     "output_type": "stream",
     "text": [
      "                                                                                \r"
     ]
    },
    {
     "name": "stdout",
     "output_type": "stream",
     "text": [
      "Time of 15 iteration: \n",
      "10.389782667160034\n",
      "Stage 16\n"
     ]
    },
    {
     "name": "stderr",
     "output_type": "stream",
     "text": [
      "                                                                                \r"
     ]
    },
    {
     "name": "stdout",
     "output_type": "stream",
     "text": [
      "Time of 16 iteration: \n",
      "10.286679744720459\n",
      "Stage 17\n"
     ]
    },
    {
     "name": "stderr",
     "output_type": "stream",
     "text": [
      "                                                                                \r"
     ]
    },
    {
     "name": "stdout",
     "output_type": "stream",
     "text": [
      "Time of 17 iteration: \n",
      "11.319008350372314\n",
      "Stage 18\n"
     ]
    },
    {
     "name": "stderr",
     "output_type": "stream",
     "text": [
      "                                                                                \r"
     ]
    },
    {
     "name": "stdout",
     "output_type": "stream",
     "text": [
      "Time of 18 iteration: \n",
      "10.62083625793457\n",
      "Stage 19\n"
     ]
    },
    {
     "name": "stderr",
     "output_type": "stream",
     "text": [
      "                                                                                \r"
     ]
    },
    {
     "name": "stdout",
     "output_type": "stream",
     "text": [
      "Time of 19 iteration: \n",
      "11.042814254760742\n"
     ]
    },
    {
     "name": "stderr",
     "output_type": "stream",
     "text": [
      "                                                                                \r"
     ]
    },
    {
     "name": "stdout",
     "output_type": "stream",
     "text": [
      "Current alpha : [0.0, 0.2, 0.8]\n",
      "Stage 0\n",
      "Time of 0 iteration: \n",
      "8.80301308631897\n",
      "Stage 1\n"
     ]
    },
    {
     "name": "stderr",
     "output_type": "stream",
     "text": [
      "                                                                                \r"
     ]
    },
    {
     "name": "stdout",
     "output_type": "stream",
     "text": [
      "Time of 1 iteration: \n",
      "10.76414155960083\n",
      "Stage 2\n"
     ]
    },
    {
     "name": "stderr",
     "output_type": "stream",
     "text": [
      "                                                                                \r"
     ]
    },
    {
     "name": "stdout",
     "output_type": "stream",
     "text": [
      "Time of 2 iteration: \n",
      "10.925821542739868\n",
      "Stage 3\n"
     ]
    },
    {
     "name": "stderr",
     "output_type": "stream",
     "text": [
      "                                                                                \r"
     ]
    },
    {
     "name": "stdout",
     "output_type": "stream",
     "text": [
      "Time of 3 iteration: \n",
      "10.195529222488403\n",
      "Stage 4\n",
      "Time of 4 iteration: \n",
      "9.310442447662354\n",
      "Stage 5\n"
     ]
    },
    {
     "name": "stderr",
     "output_type": "stream",
     "text": [
      "                                                                                \r"
     ]
    },
    {
     "name": "stdout",
     "output_type": "stream",
     "text": [
      "Time of 5 iteration: \n",
      "10.261688470840454\n",
      "Stage 6\n",
      "Time of 6 iteration: \n",
      "8.51612663269043\n",
      "Stage 7\n"
     ]
    },
    {
     "name": "stderr",
     "output_type": "stream",
     "text": [
      "                                                                                \r"
     ]
    },
    {
     "name": "stdout",
     "output_type": "stream",
     "text": [
      "Time of 7 iteration: \n",
      "9.545380353927612\n",
      "Stage 8\n"
     ]
    },
    {
     "name": "stderr",
     "output_type": "stream",
     "text": [
      "                                                                                \r"
     ]
    },
    {
     "name": "stdout",
     "output_type": "stream",
     "text": [
      "Time of 8 iteration: \n",
      "9.515691757202148\n",
      "Stage 9\n"
     ]
    },
    {
     "name": "stderr",
     "output_type": "stream",
     "text": [
      "                                                                                \r"
     ]
    },
    {
     "name": "stdout",
     "output_type": "stream",
     "text": [
      "Time of 9 iteration: \n",
      "11.123401165008545\n",
      "Stage 10\n"
     ]
    },
    {
     "name": "stderr",
     "output_type": "stream",
     "text": [
      "                                                                                \r"
     ]
    },
    {
     "name": "stdout",
     "output_type": "stream",
     "text": [
      "Time of 10 iteration: \n",
      "10.492473602294922\n",
      "Stage 11\n"
     ]
    },
    {
     "name": "stderr",
     "output_type": "stream",
     "text": [
      "                                                                                \r"
     ]
    },
    {
     "name": "stdout",
     "output_type": "stream",
     "text": [
      "Time of 11 iteration: \n",
      "10.614847898483276\n",
      "Stage 12\n"
     ]
    },
    {
     "name": "stderr",
     "output_type": "stream",
     "text": [
      "                                                                                \r"
     ]
    },
    {
     "name": "stdout",
     "output_type": "stream",
     "text": [
      "Time of 12 iteration: \n",
      "9.812597751617432\n",
      "Stage 13\n"
     ]
    },
    {
     "name": "stderr",
     "output_type": "stream",
     "text": [
      "                                                                                \r"
     ]
    },
    {
     "name": "stdout",
     "output_type": "stream",
     "text": [
      "Time of 13 iteration: \n",
      "11.487894773483276\n",
      "Stage 14\n"
     ]
    },
    {
     "name": "stderr",
     "output_type": "stream",
     "text": [
      "                                                                                \r"
     ]
    },
    {
     "name": "stdout",
     "output_type": "stream",
     "text": [
      "Time of 14 iteration: \n",
      "9.850026607513428\n",
      "Stage 15\n"
     ]
    },
    {
     "name": "stderr",
     "output_type": "stream",
     "text": [
      "                                                                                \r"
     ]
    },
    {
     "name": "stdout",
     "output_type": "stream",
     "text": [
      "Time of 15 iteration: \n",
      "9.648193597793579\n",
      "Stage 16\n",
      "Time of 16 iteration: \n",
      "9.405424118041992\n",
      "Stage 17\n"
     ]
    },
    {
     "name": "stderr",
     "output_type": "stream",
     "text": [
      "                                                                                \r"
     ]
    },
    {
     "name": "stdout",
     "output_type": "stream",
     "text": [
      "Time of 17 iteration: \n",
      "9.421717166900635\n",
      "Stage 18\n"
     ]
    },
    {
     "name": "stderr",
     "output_type": "stream",
     "text": [
      "                                                                                \r"
     ]
    },
    {
     "name": "stdout",
     "output_type": "stream",
     "text": [
      "Time of 18 iteration: \n",
      "9.822469234466553\n",
      "Stage 19\n"
     ]
    },
    {
     "name": "stderr",
     "output_type": "stream",
     "text": [
      "                                                                                \r"
     ]
    },
    {
     "name": "stdout",
     "output_type": "stream",
     "text": [
      "Time of 19 iteration: \n",
      "9.848103046417236\n"
     ]
    },
    {
     "name": "stderr",
     "output_type": "stream",
     "text": [
      "                                                                                \r"
     ]
    },
    {
     "name": "stdout",
     "output_type": "stream",
     "text": [
      "Current alpha : [0.0, 0.3, 0.7]\n",
      "Stage 0\n",
      "Time of 0 iteration: \n",
      "8.653762102127075\n",
      "Stage 1\n"
     ]
    },
    {
     "name": "stderr",
     "output_type": "stream",
     "text": [
      "                                                                                \r"
     ]
    },
    {
     "name": "stdout",
     "output_type": "stream",
     "text": [
      "Time of 1 iteration: \n",
      "9.186483144760132\n",
      "Stage 2\n"
     ]
    },
    {
     "name": "stderr",
     "output_type": "stream",
     "text": [
      "                                                                                \r"
     ]
    },
    {
     "name": "stdout",
     "output_type": "stream",
     "text": [
      "Time of 2 iteration: \n",
      "10.53019905090332\n",
      "Stage 3\n"
     ]
    },
    {
     "name": "stderr",
     "output_type": "stream",
     "text": [
      "                                                                                \r"
     ]
    },
    {
     "name": "stdout",
     "output_type": "stream",
     "text": [
      "Time of 3 iteration: \n",
      "9.681738138198853\n",
      "Stage 4\n"
     ]
    },
    {
     "name": "stderr",
     "output_type": "stream",
     "text": [
      "                                                                                \r"
     ]
    },
    {
     "name": "stdout",
     "output_type": "stream",
     "text": [
      "Time of 4 iteration: \n",
      "10.207595825195312\n",
      "Stage 5\n"
     ]
    },
    {
     "name": "stderr",
     "output_type": "stream",
     "text": [
      "                                                                                \r"
     ]
    },
    {
     "name": "stdout",
     "output_type": "stream",
     "text": [
      "Time of 5 iteration: \n",
      "9.792607069015503\n",
      "Stage 6\n"
     ]
    },
    {
     "name": "stderr",
     "output_type": "stream",
     "text": [
      "                                                                                \r"
     ]
    },
    {
     "name": "stdout",
     "output_type": "stream",
     "text": [
      "Time of 6 iteration: \n",
      "10.229425191879272\n",
      "Stage 7\n"
     ]
    },
    {
     "name": "stderr",
     "output_type": "stream",
     "text": [
      "                                                                                \r"
     ]
    },
    {
     "name": "stdout",
     "output_type": "stream",
     "text": [
      "Time of 7 iteration: \n",
      "10.660775661468506\n",
      "Stage 8\n"
     ]
    },
    {
     "name": "stderr",
     "output_type": "stream",
     "text": [
      "                                                                                \r"
     ]
    },
    {
     "name": "stdout",
     "output_type": "stream",
     "text": [
      "Time of 8 iteration: \n",
      "10.739200830459595\n",
      "Stage 9\n"
     ]
    },
    {
     "name": "stderr",
     "output_type": "stream",
     "text": [
      "                                                                                \r"
     ]
    },
    {
     "name": "stdout",
     "output_type": "stream",
     "text": [
      "Time of 9 iteration: \n",
      "10.566742181777954\n",
      "Stage 10\n"
     ]
    },
    {
     "name": "stderr",
     "output_type": "stream",
     "text": [
      "                                                                                \r"
     ]
    },
    {
     "name": "stdout",
     "output_type": "stream",
     "text": [
      "Time of 10 iteration: \n",
      "10.473407745361328\n",
      "Stage 11\n",
      "Time of 11 iteration: \n",
      "10.548585891723633\n",
      "Stage 12\n"
     ]
    },
    {
     "name": "stderr",
     "output_type": "stream",
     "text": [
      "                                                                                \r"
     ]
    },
    {
     "name": "stdout",
     "output_type": "stream",
     "text": [
      "Time of 12 iteration: \n",
      "10.856622695922852\n",
      "Stage 13\n"
     ]
    },
    {
     "name": "stderr",
     "output_type": "stream",
     "text": [
      "                                                                                \r"
     ]
    },
    {
     "name": "stdout",
     "output_type": "stream",
     "text": [
      "Time of 13 iteration: \n",
      "10.980041742324829\n",
      "Stage 14\n"
     ]
    },
    {
     "name": "stderr",
     "output_type": "stream",
     "text": [
      "                                                                                \r"
     ]
    },
    {
     "name": "stdout",
     "output_type": "stream",
     "text": [
      "Time of 14 iteration: \n",
      "11.172977685928345\n",
      "Stage 15\n"
     ]
    },
    {
     "name": "stderr",
     "output_type": "stream",
     "text": [
      "                                                                                \r"
     ]
    },
    {
     "name": "stdout",
     "output_type": "stream",
     "text": [
      "Time of 15 iteration: \n",
      "11.483718872070312\n",
      "Stage 16\n"
     ]
    },
    {
     "name": "stderr",
     "output_type": "stream",
     "text": [
      "                                                                                \r"
     ]
    },
    {
     "name": "stdout",
     "output_type": "stream",
     "text": [
      "Time of 16 iteration: \n",
      "11.309582233428955\n",
      "Stage 17\n"
     ]
    },
    {
     "name": "stderr",
     "output_type": "stream",
     "text": [
      "                                                                                \r"
     ]
    },
    {
     "name": "stdout",
     "output_type": "stream",
     "text": [
      "Time of 17 iteration: \n",
      "10.74475646018982\n",
      "Stage 18\n"
     ]
    },
    {
     "name": "stderr",
     "output_type": "stream",
     "text": [
      "                                                                                \r"
     ]
    },
    {
     "name": "stdout",
     "output_type": "stream",
     "text": [
      "Time of 18 iteration: \n",
      "10.588345050811768\n",
      "Stage 19\n"
     ]
    },
    {
     "name": "stderr",
     "output_type": "stream",
     "text": [
      "                                                                                \r"
     ]
    },
    {
     "name": "stdout",
     "output_type": "stream",
     "text": [
      "Time of 19 iteration: \n",
      "11.798070192337036\n"
     ]
    },
    {
     "name": "stderr",
     "output_type": "stream",
     "text": [
      "                                                                                \r"
     ]
    },
    {
     "name": "stdout",
     "output_type": "stream",
     "text": [
      "Current alpha : [0.0, 0.4, 0.6]\n",
      "Stage 0\n"
     ]
    },
    {
     "name": "stderr",
     "output_type": "stream",
     "text": [
      "                                                                                \r"
     ]
    },
    {
     "name": "stdout",
     "output_type": "stream",
     "text": [
      "Time of 0 iteration: \n",
      "9.34427785873413\n",
      "Stage 1\n"
     ]
    },
    {
     "name": "stderr",
     "output_type": "stream",
     "text": [
      "                                                                                \r"
     ]
    },
    {
     "name": "stdout",
     "output_type": "stream",
     "text": [
      "Time of 1 iteration: \n",
      "11.892688989639282\n",
      "Stage 2\n"
     ]
    },
    {
     "name": "stderr",
     "output_type": "stream",
     "text": [
      "                                                                                \r"
     ]
    },
    {
     "name": "stdout",
     "output_type": "stream",
     "text": [
      "Time of 2 iteration: \n",
      "10.896308898925781\n",
      "Stage 3\n"
     ]
    },
    {
     "name": "stderr",
     "output_type": "stream",
     "text": [
      "                                                                                \r"
     ]
    },
    {
     "name": "stdout",
     "output_type": "stream",
     "text": [
      "Time of 3 iteration: \n",
      "11.450653791427612\n",
      "Stage 4\n"
     ]
    },
    {
     "name": "stderr",
     "output_type": "stream",
     "text": [
      "                                                                                \r"
     ]
    },
    {
     "name": "stdout",
     "output_type": "stream",
     "text": [
      "Time of 4 iteration: \n",
      "11.135526895523071\n",
      "Stage 5\n"
     ]
    },
    {
     "name": "stderr",
     "output_type": "stream",
     "text": [
      "                                                                                \r"
     ]
    },
    {
     "name": "stdout",
     "output_type": "stream",
     "text": [
      "Time of 5 iteration: \n",
      "11.03665828704834\n",
      "Stage 6\n"
     ]
    },
    {
     "name": "stderr",
     "output_type": "stream",
     "text": [
      "                                                                                \r"
     ]
    },
    {
     "name": "stdout",
     "output_type": "stream",
     "text": [
      "Time of 6 iteration: \n",
      "11.262505292892456\n",
      "Stage 7\n"
     ]
    },
    {
     "name": "stderr",
     "output_type": "stream",
     "text": [
      "                                                                                \r"
     ]
    },
    {
     "name": "stdout",
     "output_type": "stream",
     "text": [
      "Time of 7 iteration: \n",
      "12.254157304763794\n",
      "Stage 8\n"
     ]
    },
    {
     "name": "stderr",
     "output_type": "stream",
     "text": [
      "                                                                                \r"
     ]
    },
    {
     "name": "stdout",
     "output_type": "stream",
     "text": [
      "Time of 8 iteration: \n",
      "10.500898122787476\n",
      "Stage 9\n"
     ]
    },
    {
     "name": "stderr",
     "output_type": "stream",
     "text": [
      "                                                                                \r"
     ]
    },
    {
     "name": "stdout",
     "output_type": "stream",
     "text": [
      "Time of 9 iteration: \n",
      "11.78345274925232\n",
      "Stage 10\n"
     ]
    },
    {
     "name": "stderr",
     "output_type": "stream",
     "text": [
      "                                                                                \r"
     ]
    },
    {
     "name": "stdout",
     "output_type": "stream",
     "text": [
      "Time of 10 iteration: \n",
      "12.523247957229614\n",
      "Stage 11\n"
     ]
    },
    {
     "name": "stderr",
     "output_type": "stream",
     "text": [
      "                                                                                \r"
     ]
    },
    {
     "name": "stdout",
     "output_type": "stream",
     "text": [
      "Time of 11 iteration: \n",
      "11.44190502166748\n",
      "Stage 12\n"
     ]
    },
    {
     "name": "stderr",
     "output_type": "stream",
     "text": [
      "                                                                                \r"
     ]
    },
    {
     "name": "stdout",
     "output_type": "stream",
     "text": [
      "Time of 12 iteration: \n",
      "11.581448078155518\n",
      "Stage 13\n"
     ]
    },
    {
     "name": "stderr",
     "output_type": "stream",
     "text": [
      "                                                                                \r"
     ]
    },
    {
     "name": "stdout",
     "output_type": "stream",
     "text": [
      "Time of 13 iteration: \n",
      "13.09426999092102\n",
      "Stage 14\n"
     ]
    },
    {
     "name": "stderr",
     "output_type": "stream",
     "text": [
      "                                                                                \r"
     ]
    },
    {
     "name": "stdout",
     "output_type": "stream",
     "text": [
      "Time of 14 iteration: \n",
      "12.32116174697876\n",
      "Stage 15\n"
     ]
    },
    {
     "name": "stderr",
     "output_type": "stream",
     "text": [
      "                                                                                \r"
     ]
    },
    {
     "name": "stdout",
     "output_type": "stream",
     "text": [
      "Time of 15 iteration: \n",
      "12.402200937271118\n",
      "Stage 16\n"
     ]
    },
    {
     "name": "stderr",
     "output_type": "stream",
     "text": [
      "                                                                                \r"
     ]
    },
    {
     "name": "stdout",
     "output_type": "stream",
     "text": [
      "Time of 16 iteration: \n",
      "13.770076274871826\n",
      "Stage 17\n"
     ]
    },
    {
     "name": "stderr",
     "output_type": "stream",
     "text": [
      "                                                                                \r"
     ]
    },
    {
     "name": "stdout",
     "output_type": "stream",
     "text": [
      "Time of 17 iteration: \n",
      "12.757846355438232\n",
      "Stage 18\n"
     ]
    },
    {
     "name": "stderr",
     "output_type": "stream",
     "text": [
      "                                                                                \r"
     ]
    },
    {
     "name": "stdout",
     "output_type": "stream",
     "text": [
      "Time of 18 iteration: \n",
      "11.97464108467102\n",
      "Stage 19\n"
     ]
    },
    {
     "name": "stderr",
     "output_type": "stream",
     "text": [
      "                                                                                \r"
     ]
    },
    {
     "name": "stdout",
     "output_type": "stream",
     "text": [
      "Time of 19 iteration: \n",
      "11.993541479110718\n"
     ]
    }
   ],
   "source": [
    "qco = QualityControlObjective(\n",
    "    userKeyCol='user_id',\n",
    "    itemKeyCol='item_id',\n",
    "    predictionCol='relevance',\n",
    "    labelCol='response',\n",
    "    relevanceCol='relevance',\n",
    "    response_function=pipeline,\n",
    "    replay_metrics={NDCG() : 10, Precision() : 10}\n",
    ")\n",
    "\n",
    "LOG_SCHEMA = st.StructType([\n",
    "    st.StructField('user_id', st.IntegerType()),\n",
    "    st.StructField('item_id', st.IntegerType()),\n",
    "    st.StructField('relevance', st.DoubleType())\n",
    "])\n",
    "\n",
    "empty_log = spark.createDataFrame(\n",
    "    data=spark.sparkContext.emptyRDD(),\n",
    "    schema=LOG_SCHEMA\n",
    ")\n",
    "\n",
    "\n",
    "DISC = 10\n",
    "manifold = []\n",
    "for a1 in range(DISC + 1):\n",
    "    for a2 in range(DISC - a1 + 1):\n",
    "        a3 = DISC - a1 - a2\n",
    "\n",
    "        a_sum = a1 + a2 + a3\n",
    "        manifold.append([a1 / a_sum, a2 / a_sum, a3 / a_sum])\n",
    "\n",
    "obj = []\n",
    "items_replay = synth_indexer.transform(items_df).cache()\n",
    "for alphas in manifold:\n",
    "    print(f'Current alpha : {alphas}')\n",
    "\n",
    "    sim.clear_log()\n",
    "    sim.log_filename = f'log_{\"_\".join([str(a) for a in alphas])}.parquet'\n",
    "    resp_func.setWeights(alphas)\n",
    "\n",
    "    for i in range(20):\n",
    "        print(f'Stage {i}')\n",
    "        start_iter = time.time()\n",
    "        users = sim.sample_users(0.02).cache()\n",
    "\n",
    "        log = sim.get_log(users)\n",
    "        if log is None:\n",
    "            log = empty_log\n",
    "        log = log.cache()\n",
    "\n",
    "        recs = simulator_model.predict(\n",
    "            log=synth_indexer.transform(log),\n",
    "            k=10,\n",
    "            users=synth_indexer.transform(users),\n",
    "            items=items_replay\n",
    "        )\n",
    "        recs = synth_indexer.inverse_transform(recs)\n",
    "\n",
    "        true_resp = sim.sample_responses(\n",
    "            recs_df=recs,\n",
    "            user_features=users,\n",
    "            item_features=items_df,\n",
    "            action_models=pipeline\n",
    "        ).select('user_id', 'item_id', 'relevance', 'response')\n",
    "\n",
    "        sim.update_log(true_resp, iteration=i)\n",
    "\n",
    "        simulator_model._clear_cache()\n",
    "        train_log = sim.log.cache()\n",
    "        simulator_model.fit(\n",
    "            log=synth_indexer.transform(\n",
    "                train_log.select('user_id', 'item_id', 'response')\\\n",
    "                         .withColumnRenamed('response', 'relevance')\n",
    "            )\n",
    "        )\n",
    "\n",
    "        users.unpersist()\n",
    "        if log is not None:\n",
    "            log.unpersist()\n",
    "        train_log.unpersist()\n",
    "        end_iter = time.time()\n",
    "        print(f\"Time of {i} iteration: \")\n",
    "        print(end_iter - start_iter)\n",
    "\n",
    "    users = sim.sample_users(0.02)\n",
    "    synth_recs = synth_indexer.inverse_transform(\n",
    "        simulator_model.predict(\n",
    "            log=synth_indexer.transform(sim.log),\n",
    "            k=10,\n",
    "            users=synth_indexer.transform(users),\n",
    "            items=items_replay\n",
    "        )\n",
    "    )\n",
    "    synth_ground_truth = sim.sample_responses(\n",
    "        recs_df=synth_recs,\n",
    "        user_features=users,\n",
    "        item_features=items_df,\n",
    "        action_models=pipeline\n",
    "    ).select('user_id', 'item_id', 'response')\\\n",
    "     .withColumnRenamed('response', 'relevance')\\\n",
    "     .filter(sf.col('relevance') == 1)\n",
    "    \n",
    "    obj.append(\n",
    "        qco(\n",
    "            test_log=history_df_train,\n",
    "            user_features=users_df,\n",
    "            item_features=items_df,\n",
    "            real_recs=real_recs,\n",
    "            real_ground_truth=real_ground_truth,\n",
    "            synthetic_recs=synth_recs,\n",
    "            synthetic_ground_truth=synth_ground_truth\n",
    "        )\n",
    "    )"
   ]
  },
  {
   "cell_type": "code",
   "execution_count": 105,
   "id": "0d20bdfc",
   "metadata": {},
   "outputs": [],
   "source": [
    "res = pd.DataFrame(data=manifold, columns=['real', 'noise', 'heuristic'])\n",
    "res['obj'] = obj\n",
    "\n",
    "res.to_csv('val_quality_control_sber.csv', index=False)"
   ]
  },
  {
   "cell_type": "code",
   "execution_count": 106,
   "id": "c18c513d",
   "metadata": {},
   "outputs": [
    {
     "data": {
      "text/html": [
       "<div>\n",
       "<style scoped>\n",
       "    .dataframe tbody tr th:only-of-type {\n",
       "        vertical-align: middle;\n",
       "    }\n",
       "\n",
       "    .dataframe tbody tr th {\n",
       "        vertical-align: top;\n",
       "    }\n",
       "\n",
       "    .dataframe thead th {\n",
       "        text-align: right;\n",
       "    }\n",
       "</style>\n",
       "<table border=\"1\" class=\"dataframe\">\n",
       "  <thead>\n",
       "    <tr style=\"text-align: right;\">\n",
       "      <th></th>\n",
       "      <th>real</th>\n",
       "      <th>noise</th>\n",
       "      <th>heuristic</th>\n",
       "      <th>obj</th>\n",
       "    </tr>\n",
       "  </thead>\n",
       "  <tbody>\n",
       "    <tr>\n",
       "      <th>0</th>\n",
       "      <td>0.0</td>\n",
       "      <td>0.0</td>\n",
       "      <td>1.0</td>\n",
       "      <td>1.606157</td>\n",
       "    </tr>\n",
       "    <tr>\n",
       "      <th>1</th>\n",
       "      <td>0.0</td>\n",
       "      <td>0.1</td>\n",
       "      <td>0.9</td>\n",
       "      <td>1.674708</td>\n",
       "    </tr>\n",
       "    <tr>\n",
       "      <th>2</th>\n",
       "      <td>0.0</td>\n",
       "      <td>0.2</td>\n",
       "      <td>0.8</td>\n",
       "      <td>1.223230</td>\n",
       "    </tr>\n",
       "    <tr>\n",
       "      <th>3</th>\n",
       "      <td>0.0</td>\n",
       "      <td>0.3</td>\n",
       "      <td>0.7</td>\n",
       "      <td>1.623779</td>\n",
       "    </tr>\n",
       "    <tr>\n",
       "      <th>4</th>\n",
       "      <td>0.0</td>\n",
       "      <td>0.4</td>\n",
       "      <td>0.6</td>\n",
       "      <td>1.272851</td>\n",
       "    </tr>\n",
       "    <tr>\n",
       "      <th>...</th>\n",
       "      <td>...</td>\n",
       "      <td>...</td>\n",
       "      <td>...</td>\n",
       "      <td>...</td>\n",
       "    </tr>\n",
       "    <tr>\n",
       "      <th>61</th>\n",
       "      <td>0.8</td>\n",
       "      <td>0.1</td>\n",
       "      <td>0.1</td>\n",
       "      <td>1.387222</td>\n",
       "    </tr>\n",
       "    <tr>\n",
       "      <th>62</th>\n",
       "      <td>0.8</td>\n",
       "      <td>0.2</td>\n",
       "      <td>0.0</td>\n",
       "      <td>1.388313</td>\n",
       "    </tr>\n",
       "    <tr>\n",
       "      <th>63</th>\n",
       "      <td>0.9</td>\n",
       "      <td>0.0</td>\n",
       "      <td>0.1</td>\n",
       "      <td>1.633768</td>\n",
       "    </tr>\n",
       "    <tr>\n",
       "      <th>64</th>\n",
       "      <td>0.9</td>\n",
       "      <td>0.1</td>\n",
       "      <td>0.0</td>\n",
       "      <td>1.282362</td>\n",
       "    </tr>\n",
       "    <tr>\n",
       "      <th>65</th>\n",
       "      <td>1.0</td>\n",
       "      <td>0.0</td>\n",
       "      <td>0.0</td>\n",
       "      <td>1.050523</td>\n",
       "    </tr>\n",
       "  </tbody>\n",
       "</table>\n",
       "<p>66 rows × 4 columns</p>\n",
       "</div>"
      ],
      "text/plain": [
       "    real  noise  heuristic       obj\n",
       "0    0.0    0.0        1.0  1.606157\n",
       "1    0.0    0.1        0.9  1.674708\n",
       "2    0.0    0.2        0.8  1.223230\n",
       "3    0.0    0.3        0.7  1.623779\n",
       "4    0.0    0.4        0.6  1.272851\n",
       "..   ...    ...        ...       ...\n",
       "61   0.8    0.1        0.1  1.387222\n",
       "62   0.8    0.2        0.0  1.388313\n",
       "63   0.9    0.0        0.1  1.633768\n",
       "64   0.9    0.1        0.0  1.282362\n",
       "65   1.0    0.0        0.0  1.050523\n",
       "\n",
       "[66 rows x 4 columns]"
      ]
     },
     "execution_count": 106,
     "metadata": {},
     "output_type": "execute_result"
    }
   ],
   "source": [
    "res"
   ]
  },
  {
   "cell_type": "code",
   "execution_count": 107,
   "id": "01e65f6b",
   "metadata": {},
   "outputs": [],
   "source": [
    "x_data = []\n",
    "y_data = []\n",
    "z_data = []\n",
    "for index, row in res.iterrows():\n",
    "    x_data.append(row[\"heuristic\"])\n",
    "    y_data.append(row[\"real\"])\n",
    "    z_data.append(row['obj'])"
   ]
  },
  {
   "cell_type": "code",
   "execution_count": 109,
   "id": "04fed777",
   "metadata": {},
   "outputs": [
    {
     "data": {
      "text/html": [
       "<div>\n",
       "<style scoped>\n",
       "    .dataframe tbody tr th:only-of-type {\n",
       "        vertical-align: middle;\n",
       "    }\n",
       "\n",
       "    .dataframe tbody tr th {\n",
       "        vertical-align: top;\n",
       "    }\n",
       "\n",
       "    .dataframe thead th {\n",
       "        text-align: right;\n",
       "    }\n",
       "</style>\n",
       "<table border=\"1\" class=\"dataframe\">\n",
       "  <thead>\n",
       "    <tr style=\"text-align: right;\">\n",
       "      <th></th>\n",
       "      <th>real</th>\n",
       "      <th>noise</th>\n",
       "      <th>heuristic</th>\n",
       "      <th>obj</th>\n",
       "    </tr>\n",
       "  </thead>\n",
       "  <tbody>\n",
       "    <tr>\n",
       "      <th>47</th>\n",
       "      <td>0.5</td>\n",
       "      <td>0.2</td>\n",
       "      <td>0.3</td>\n",
       "      <td>1.703717</td>\n",
       "    </tr>\n",
       "  </tbody>\n",
       "</table>\n",
       "</div>"
      ],
      "text/plain": [
       "    real  noise  heuristic       obj\n",
       "47   0.5    0.2        0.3  1.703717"
      ]
     },
     "execution_count": 109,
     "metadata": {},
     "output_type": "execute_result"
    }
   ],
   "source": [
    "res[res['obj'] == res['obj'].max()]"
   ]
  },
  {
   "cell_type": "code",
   "execution_count": 183,
   "id": "b03aa1ec",
   "metadata": {},
   "outputs": [
    {
     "data": {
      "image/png": "[encoded data removed]",
      "text/plain": [
       "<Figure size 640x480 with 1 Axes>"
      ]
     },
     "metadata": {},
     "output_type": "display_data"
    }
   ],
   "source": [
    "fig = plt.figure()\n",
    "ax = plt.axes(projection ='3d')\n",
    "surf = ax.plot_trisurf(x_data, y_data, z_data, linewidth=0.1, alpha=0.5, color='g', cmap='plasma')\n",
    "\n",
    "ax.set_xlabel(\"β₁\")\n",
    "ax.set_ylabel(\"β₂\")\n",
    "ax.set_xlim([1,0])\n",
    "\n",
    "ax.plot(res[res['obj'] == res['obj'].max()]['heuristic'].values, \n",
    "           res[res['obj'] == res['obj'].max()]['real'].values, \n",
    "           [res['obj'].max()], c='r', marker='.')\n",
    "\n",
    "plt.savefig('quality_control_sber.png', dpi=300)"
   ]
  },
  {
   "cell_type": "markdown",
   "id": "d1464cb2",
   "metadata": {},
   "source": [
    "Получается, что наилучшее качество функции отклика с точки зрения целевой функции достигается при следующих коэффициентах:\n",
    "$$\\beta_1=\\hat{\\alpha}_1=0.3 (Heur)$$\n",
    "$$\\beta_2=\\hat{\\alpha}_2=0.5 (Real)$$\n",
    "$$\\beta_3=\\hat{\\alpha}_3=0.2 (Random)$$\n",
    "\n",
    "Теперь обучим рексистему в симуляторе с функцией отклика с подобранными параметрами."
   ]
  },
  {
   "cell_type": "code",
   "execution_count": 135,
   "id": "3b4720d0",
   "metadata": {},
   "outputs": [],
   "source": [
    "sim_opt = Simulator(\n",
    "    user_gen=user_generator,\n",
    "    item_gen=item_generator,\n",
    "    user_key_col='user_id',\n",
    "    item_key_col='item_id',\n",
    "    spark_session=spark,\n",
    "    data_dir=CHECKPOINTS_DIR3,\n",
    ")"
   ]
  },
  {
   "cell_type": "code",
   "execution_count": 136,
   "id": "219998cd",
   "metadata": {},
   "outputs": [
    {
     "data": {
      "text/plain": [
       "ParametricResponseFunction_71cded664c4b"
      ]
     },
     "execution_count": 136,
     "metadata": {},
     "output_type": "execute_result"
    }
   ],
   "source": [
    "resp_func.setWeights([0.5, 0.2, 0.3])"
   ]
  },
  {
   "cell_type": "code",
   "execution_count": 137,
   "id": "03173fd3",
   "metadata": {},
   "outputs": [],
   "source": [
    "simulator_model = UCB(sample = True)\n",
    "\n",
    "simulator_model.fit(log=synth_indexer.transform(history_df_train.drop('timestamp').limit(1)))"
   ]
  },
  {
   "cell_type": "code",
   "execution_count": 138,
   "id": "4f6b94ae",
   "metadata": {
    "scrolled": true
   },
   "outputs": [
    {
     "name": "stderr",
     "output_type": "stream",
     "text": [
      "                                                                                \r"
     ]
    },
    {
     "name": "stdout",
     "output_type": "stream",
     "text": [
      "Iteration 0 finished with time 23.50344157218933 sec.\n"
     ]
    },
    {
     "name": "stderr",
     "output_type": "stream",
     "text": [
      "                                                                                \r"
     ]
    },
    {
     "name": "stdout",
     "output_type": "stream",
     "text": [
      "Iteration 1 finished with time 13.233871936798096 sec.\n"
     ]
    },
    {
     "name": "stderr",
     "output_type": "stream",
     "text": [
      "                                                                                \r"
     ]
    },
    {
     "name": "stdout",
     "output_type": "stream",
     "text": [
      "Iteration 2 finished with time 12.707833051681519 sec.\n"
     ]
    },
    {
     "name": "stderr",
     "output_type": "stream",
     "text": [
      "                                                                                \r"
     ]
    },
    {
     "name": "stdout",
     "output_type": "stream",
     "text": [
      "Iteration 3 finished with time 13.319972038269043 sec.\n"
     ]
    },
    {
     "name": "stderr",
     "output_type": "stream",
     "text": [
      "                                                                                \r"
     ]
    },
    {
     "name": "stdout",
     "output_type": "stream",
     "text": [
      "Iteration 4 finished with time 13.428080320358276 sec.\n"
     ]
    },
    {
     "name": "stderr",
     "output_type": "stream",
     "text": [
      "                                                                                \r"
     ]
    },
    {
     "name": "stdout",
     "output_type": "stream",
     "text": [
      "Iteration 5 finished with time 13.122351884841919 sec.\n"
     ]
    },
    {
     "name": "stderr",
     "output_type": "stream",
     "text": [
      "                                                                                \r"
     ]
    },
    {
     "name": "stdout",
     "output_type": "stream",
     "text": [
      "Iteration 6 finished with time 14.29191780090332 sec.\n"
     ]
    },
    {
     "name": "stderr",
     "output_type": "stream",
     "text": [
      "                                                                                \r"
     ]
    },
    {
     "name": "stdout",
     "output_type": "stream",
     "text": [
      "Iteration 7 finished with time 14.23973536491394 sec.\n"
     ]
    },
    {
     "name": "stderr",
     "output_type": "stream",
     "text": [
      "                                                                                \r"
     ]
    },
    {
     "name": "stdout",
     "output_type": "stream",
     "text": [
      "Iteration 8 finished with time 13.849599599838257 sec.\n"
     ]
    },
    {
     "name": "stderr",
     "output_type": "stream",
     "text": [
      "                                                                                \r"
     ]
    },
    {
     "name": "stdout",
     "output_type": "stream",
     "text": [
      "Iteration 9 finished with time 15.591736078262329 sec.\n"
     ]
    },
    {
     "name": "stderr",
     "output_type": "stream",
     "text": [
      "                                                                                \r"
     ]
    },
    {
     "name": "stdout",
     "output_type": "stream",
     "text": [
      "Iteration 10 finished with time 13.316290378570557 sec.\n"
     ]
    },
    {
     "name": "stderr",
     "output_type": "stream",
     "text": [
      "                                                                                \r"
     ]
    },
    {
     "name": "stdout",
     "output_type": "stream",
     "text": [
      "Iteration 11 finished with time 12.47802186012268 sec.\n"
     ]
    },
    {
     "name": "stderr",
     "output_type": "stream",
     "text": [
      "                                                                                \r"
     ]
    },
    {
     "name": "stdout",
     "output_type": "stream",
     "text": [
      "Iteration 12 finished with time 13.126142024993896 sec.\n"
     ]
    },
    {
     "name": "stderr",
     "output_type": "stream",
     "text": [
      "                                                                                \r"
     ]
    },
    {
     "name": "stdout",
     "output_type": "stream",
     "text": [
      "Iteration 13 finished with time 19.30155038833618 sec.\n"
     ]
    },
    {
     "name": "stderr",
     "output_type": "stream",
     "text": [
      "                                                                                \r"
     ]
    },
    {
     "name": "stdout",
     "output_type": "stream",
     "text": [
      "Iteration 14 finished with time 12.708714962005615 sec.\n",
      "Iteration 15 finished with time 12.762418270111084 sec.\n"
     ]
    },
    {
     "name": "stderr",
     "output_type": "stream",
     "text": [
      "                                                                                \r"
     ]
    },
    {
     "name": "stdout",
     "output_type": "stream",
     "text": [
      "Iteration 16 finished with time 12.339107751846313 sec.\n"
     ]
    },
    {
     "name": "stderr",
     "output_type": "stream",
     "text": [
      "                                                                                \r"
     ]
    },
    {
     "name": "stdout",
     "output_type": "stream",
     "text": [
      "Iteration 17 finished with time 12.853867292404175 sec.\n"
     ]
    },
    {
     "name": "stderr",
     "output_type": "stream",
     "text": [
      "                                                                                \r"
     ]
    },
    {
     "name": "stdout",
     "output_type": "stream",
     "text": [
      "Iteration 18 finished with time 13.102487087249756 sec.\n"
     ]
    },
    {
     "name": "stderr",
     "output_type": "stream",
     "text": [
      "                                                                                \r"
     ]
    },
    {
     "name": "stdout",
     "output_type": "stream",
     "text": [
      "Iteration 19 finished with time 16.917479753494263 sec.\n"
     ]
    },
    {
     "name": "stderr",
     "output_type": "stream",
     "text": [
      "                                                                                \r"
     ]
    },
    {
     "data": {
      "text/plain": [
       "DataFrame[item_attr_0: double, item_attr_1: double, item_attr_2: double, item_attr_3: double, item_attr_4: double, item_attr_5: double, item_attr_6: double, item_attr_7: double, item_attr_8: double, item_attr_9: double, item_attr_10: double, item_attr_11: double, item_attr_12: double, item_attr_13: double, item_attr_14: double, item_attr_15: double, item_attr_16: double, item_attr_17: double, item_attr_18: double, item_attr_19: double, item_attr_20: double, item_attr_21: double, item_attr_22: double, item_attr_23: double, item_attr_24: double, item_attr_25: double, item_attr_26: double, item_attr_27: double, item_attr_28: double, item_attr_29: double, item_attr_30: double, item_attr_31: double, item_attr_32: double, item_attr_33: double, item_attr_34: double, item_idx: int]"
      ]
     },
     "execution_count": 138,
     "metadata": {},
     "output_type": "execute_result"
    }
   ],
   "source": [
    "LOG_SCHEMA = st.StructType([\n",
    "    st.StructField('user_id', st.IntegerType()),\n",
    "    st.StructField('item_id', st.IntegerType()),\n",
    "    st.StructField('relevance', st.DoubleType())\n",
    "])\n",
    "\n",
    "empty_log = spark.createDataFrame(\n",
    "    data=spark.sparkContext.emptyRDD(),\n",
    "    schema=LOG_SCHEMA\n",
    ")\n",
    "\n",
    "items_replay = synth_indexer.transform(items_df).cache()\n",
    "\n",
    "ucb_metrics = []\n",
    "\n",
    "for i in range(20):\n",
    "    iter_start = time.time()\n",
    "\n",
    "    users = sim_opt.sample_users(0.02).cache()\n",
    "    \n",
    "    log = sim_opt.get_log(users)\n",
    "    if log is None:\n",
    "        log = empty_log\n",
    "    log = log.cache()\n",
    "\n",
    "    recs_ucb = simulator_model.predict(\n",
    "        log=synth_indexer.transform(log),\n",
    "        k=10,\n",
    "        users=synth_indexer.transform(users),\n",
    "        items=items_replay\n",
    "    )\n",
    "    recs_ucb = synth_indexer.inverse_transform(recs_ucb).cache()\n",
    "\n",
    "    resp_ucb = sim_opt.sample_responses(\n",
    "        recs_df=recs_ucb,\n",
    "        user_features=users,\n",
    "        item_features=items_df,\n",
    "        action_models=pipeline\n",
    "    ).select('user_id', 'item_id', 'relevance', 'response').cache()\n",
    "\n",
    "    sim_opt.update_log(resp_ucb, iteration=i)\n",
    "\n",
    "    ucb_metrics.append(evaluator(resp_ucb))\n",
    "\n",
    "    simulator_model._clear_cache()\n",
    "    ucb_train_log = sim_opt.log.cache()\n",
    "    simulator_model.fit(\n",
    "        log=synth_indexer.transform(\n",
    "            ucb_train_log\\\n",
    "                .select('user_id', 'item_id', 'response')\\\n",
    "                .withColumnRenamed('response', 'relevance')\n",
    "        )\n",
    "    )\n",
    "\n",
    "    users.unpersist()\n",
    "    log.unpersist()\n",
    "    recs_ucb.unpersist()\n",
    "    resp_ucb.unpersist()\n",
    "    ucb_train_log.unpersist()\n",
    "\n",
    "    print(f'Iteration {i} finished with time {time.time() - iter_start} sec.')\n",
    "    \n",
    "users = sim_opt.sample_users(0.2).cache()\n",
    "synth_recs = synth_indexer.inverse_transform(\n",
    "    simulator_model.predict(\n",
    "        log=synth_indexer.transform(sim_opt.log),\n",
    "        k=10,\n",
    "        users=synth_indexer.transform(users),\n",
    "        items=items_replay\n",
    "    )\n",
    ").cache()\n",
    "synth_ground_truth = sim_opt.sample_responses(\n",
    "    recs_df=synth_recs,\n",
    "    user_features=users,\n",
    "    item_features=items_df,\n",
    "    action_models=pipeline\n",
    ").select('user_id', 'item_id', 'relevance', 'response').cache()\n",
    "final_metrics_opt = evaluator(synth_ground_truth)\n",
    "\n",
    "items_replay.unpersist()"
   ]
  },
  {
   "cell_type": "code",
   "execution_count": 139,
   "id": "4ad35835",
   "metadata": {},
   "outputs": [
    {
     "data": {
      "text/plain": [
       "{'NDCG@10': 0.8255619955885984,\n",
       " 'Precision@10': 0.5364967188288738,\n",
       " 'RocAuc@10': 0.5921267918239143}"
      ]
     },
     "execution_count": 139,
     "metadata": {},
     "output_type": "execute_result"
    }
   ],
   "source": [
    "final_metrics_opt"
   ]
  },
  {
   "cell_type": "code",
   "execution_count": 174,
   "id": "c6049f00",
   "metadata": {},
   "outputs": [
    {
     "data": {
      "image/png": "[encoded data removed]",
      "text/plain": [
       "<Figure size 640x480 with 1 Axes>"
      ]
     },
     "metadata": {},
     "output_type": "display_data"
    }
   ],
   "source": [
    "real_learning_metrics_pdf = pd.DataFrame(real_learning_metrics)\n",
    "ucb_metrics_pdf = pd.DataFrame(ucb_metrics)\n",
    "ucb_metrics_old_pdf = pd.DataFrame(ucb_metrics_old)\n",
    "plt.plot(real_learning_metrics_pdf['NDCG@10'], color='g', label='Real')\n",
    "plt.plot(ucb_metrics_old_pdf['NDCG@10'], color='b', label='Synth old')\n",
    "plt.plot(ucb_metrics_pdf['NDCG@10'], color='r', label='Synth new')\n",
    "plt.xlabel('iteration')\n",
    "plt.ylabel('NDCG')\n",
    "\n",
    "plt.plot(19, real_learning_metrics_pdf['NDCG@10'][19], 'g.')\n",
    "plt.plot(19, ucb_metrics_old_pdf['NDCG@10'][19], 'b.')\n",
    "plt.plot(19, ucb_metrics_pdf['NDCG@10'][19], 'r.')\n",
    "\n",
    "plt.legend()\n",
    "plt.xticks(np.arange(0, 20, step=2.0))\n",
    "plt.tight_layout()"
   ]
  },
  {
   "cell_type": "code",
   "execution_count": 176,
   "id": "764e340d",
   "metadata": {},
   "outputs": [
    {
     "data": {
      "image/png": "[encoded data removed]",
      "text/plain": [
       "<Figure size 640x480 with 1 Axes>"
      ]
     },
     "metadata": {},
     "output_type": "display_data"
    }
   ],
   "source": [
    "plt.plot(real_learning_metrics_pdf['Precision@10'], color='g', label='Real')\n",
    "plt.plot(ucb_metrics_old_pdf['Precision@10'], color='b', label='Synth old')\n",
    "plt.plot(ucb_metrics_pdf['Precision@10'], color='r', label='Synth new')\n",
    "plt.xlabel('iteration')\n",
    "plt.ylabel('Precision')\n",
    "\n",
    "plt.plot(19, real_learning_metrics_pdf['Precision@10'][19], 'g.')\n",
    "plt.plot(19, ucb_metrics_old_pdf['Precision@10'][19], 'b.')\n",
    "plt.plot(19, ucb_metrics_pdf['Precision@10'][19], 'r.')\n",
    "\n",
    "plt.legend()\n",
    "plt.xticks(np.arange(0, 20, step=2.0))\n",
    "plt.tight_layout()"
   ]
  },
  {
   "cell_type": "markdown",
   "id": "85d1cfb4",
   "metadata": {},
   "source": [
    "Как видно из предыдущего графика, кривая обучения рекомендательной системы на новых синтетических данных (с оптимальными параметрами функции отклика) приблизилась к кривой обучения рекомендательной системы на синтетических данных."
   ]
  },
  {
   "cell_type": "code",
   "execution_count": null,
   "id": "afc9baa5",
   "metadata": {},
   "outputs": [],
   "source": []
  }
 ],
 "metadata": {
  "kernelspec": {
   "display_name": "Python 3.8.13 ('simulator')",
   "language": "python",
   "name": "python3"
  },
  "language_info": {
   "codemirror_mode": {
    "name": "ipython",
    "version": 3
   },
   "file_extension": ".py",
   "mimetype": "text/x-python",
   "name": "python",
   "nbconvert_exporter": "python",
   "pygments_lexer": "ipython3",
   "version": "3.8.13"
  },
  "vscode": {
   "interpreter": {
    "hash": "0c23ac1ac3d03469769ffca4283c7852312778d94b2cbd9b1a60eeafc1c4055f"
   }
  }
 },
 "nbformat": 4,
 "nbformat_minor": 5
}
