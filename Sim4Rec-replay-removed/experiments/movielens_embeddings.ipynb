{
 "cells": [
  {
   "cell_type": "markdown",
   "metadata": {},
   "source": [
    "В этом ноутбуке были протестированы три метода генерации эмбеддингов (PCA, non-negative ALS, autoencoder) для генерации профилей пользователей из датасета MovieLens 20M меньшей размерности. Напомним, что исходная размерность профиля равно 320. Кроме того, применимость методов генерации эмбеддингов была исследована с точки зрения качества моделей генерации синтетических данных и с точки зрения качества компоненты функции отклика, отвечающей за приближение отклика из исторических данных."
   ]
  },
  {
   "cell_type": "code",
   "execution_count": 2,
   "metadata": {},
   "outputs": [
    {
     "name": "stderr",
     "output_type": "stream",
     "text": [
      "22/10/18 09:46:05 WARN NativeCodeLoader: Unable to load native-hadoop library for your platform... using builtin-java classes where applicable\n",
      "Using Spark's default log4j profile: org/apache/spark/log4j-defaults.properties\n",
      "Setting default log level to \"WARN\".\n",
      "To adjust logging level use sc.setLogLevel(newLevel). For SparkR, use setLogLevel(newLevel).\n",
      "22/10/18 09:46:06 WARN SparkConf: Note that spark.local.dir will be overridden by the value set by the cluster manager (via SPARK_LOCAL_DIRS in mesos/standalone/kubernetes and LOCAL_DIRS in YARN).\n",
      "22/10/18 09:46:08 WARN Utils: Service 'SparkUI' could not bind on port 4040. Attempting port 4041.\n",
      "22/10/18 09:46:08 WARN Utils: Service 'SparkUI' could not bind on port 4041. Attempting port 4042.\n",
      "22/10/18 09:46:08 WARN Utils: Service 'SparkUI' could not bind on port 4042. Attempting port 4043.\n",
      "22/10/18 09:46:08 WARN Utils: Service 'SparkUI' could not bind on port 4043. Attempting port 4044.\n",
      "22/10/18 09:46:08 WARN Utils: Service 'SparkUI' could not bind on port 4044. Attempting port 4045.\n",
      "22/10/18 09:46:08 WARN Utils: Service 'SparkUI' could not bind on port 4045. Attempting port 4046.\n"
     ]
    },
    {
     "data": {
      "text/plain": [
       "<replay.session_handler.State at 0x7f313329d4c0>"
      ]
     },
     "execution_count": 2,
     "metadata": {},
     "output_type": "execute_result"
    }
   ],
   "source": [
    "import os\n",
    "\n",
    "import pandas as pd\n",
    "import numpy as np\n",
    "import time\n",
    "import matplotlib\n",
    "import itertools\n",
    "\n",
    "from pyspark import SparkConf\n",
    "from pyspark.sql import SparkSession\n",
    "import pyspark.sql.functions as sf\n",
    "import pyspark.sql.types as st\n",
    "from pyspark.sql.functions import col\n",
    "from pyspark.ml.classification import LogisticRegression, RandomForestClassifier, FMClassifier\n",
    "from pyspark.ml.feature import VectorAssembler, PCA\n",
    "from pyspark.ml.functions import vector_to_array\n",
    "from pyspark.ml import Pipeline \n",
    "from pyspark.ml.recommendation import ALS\n",
    "from pyspark.sql.functions import monotonically_increasing_id, row_number\n",
    "from pyspark.sql.window import Window\n",
    "\n",
    "from replay.session_handler import State\n",
    "\n",
    "from sim4rec.utils import pandas_to_spark\n",
    "from sim4rec.response import ParametricResponseFunction, BernoulliResponse\n",
    "from sim4rec.utils import VectorElementExtractor\n",
    "from sim4rec.modules import RealDataGenerator, SDVDataGenerator\n",
    "from sim4rec.modules import evaluate_synthetic\n",
    "from sim4rec.modules import EncoderEstimator\n",
    "\n",
    "from sklearn.metrics import roc_auc_score, precision_score, recall_score\n",
    "\n",
    "%matplotlib inline\n",
    "import matplotlib.pyplot as plt\n",
    "from matplotlib import rcParams\n",
    "import seaborn as sns\n",
    "\n",
    "import warnings\n",
    "warnings.filterwarnings(\"ignore\")\n",
    "\n",
    "spark = SparkSession.builder\\\n",
    "    .appName('simulator_movielens')\\\n",
    "    .master('local[8]')\\\n",
    "    .config('spark.sql.shuffle.partitions', '8')\\\n",
    "    .config('spark.default.parallelism', '8')\\\n",
    "    .config('spark.driver.extraJavaOptions', '-XX:+UseG1GC')\\\n",
    "    .config('spark.executor.extraJavaOptions', '-XX:+UseG1GC')\\\n",
    "    .config('spark.sql.autoBroadcastJoinThreshold', '-1')\\\n",
    "    .config('spark.driver.memory', '128g')\\\n",
    "    .config('spark.local.dir', './tmp')\\\n",
    "    .getOrCreate()\n",
    "\n",
    "State(spark)"
   ]
  },
  {
   "cell_type": "markdown",
   "metadata": {},
   "source": [
    "# Read data"
   ]
  },
  {
   "cell_type": "markdown",
   "metadata": {},
   "source": [
    "Работаем с предобработанными данными, которые разделены на три части по времени выставления рейтинга. Оценки 1 и 2 считаем отрицательными (0); 3, 4 и 5 -- положительными (1).\n",
    "\n",
    "Данные были предварительно предобработаны (код в папке Movielens): составлены профили польззователей и предложений по истории откликов, а также данные разделены по времени выставления оценок на обучающую, валидационную и тестовую выборки."
   ]
  },
  {
   "cell_type": "code",
   "execution_count": 3,
   "metadata": {},
   "outputs": [],
   "source": [
    "DATA_PATH = r'file:///data/home/estavinova/simulator/data/Movielens/'"
   ]
  },
  {
   "cell_type": "code",
   "execution_count": 4,
   "metadata": {},
   "outputs": [
    {
     "name": "stderr",
     "output_type": "stream",
     "text": [
      "22/10/18 11:02:19 WARN package: Truncated the string representation of a plan since it was too large. This behavior can be adjusted by setting 'spark.sql.debug.maxToStringFields'.\n",
      "                                                                                \r"
     ]
    },
    {
     "data": {
      "text/plain": [
       "10000132"
      ]
     },
     "execution_count": 4,
     "metadata": {},
     "output_type": "execute_result"
    }
   ],
   "source": [
    "USER_PREFIX = 'user_'\n",
    "ITEM_PREFIX = 'item_'\n",
    "\n",
    "USER_SCHEMA = st.StructType(\n",
    "    [st.StructField('user_idx', st.IntegerType())] +\\\n",
    "    [st.StructField(f'genre{i}', st.DoubleType()) for i in range(19)] +\\\n",
    "    [st.StructField('rating_avg', st.DoubleType())] +\\\n",
    "    [st.StructField(f'w2v_{i}', st.DoubleType()) for i in range(300)]\n",
    ")\n",
    "ITEM_SCHEMA = st.StructType(\n",
    "    [st.StructField('item_idx', st.IntegerType())] +\\\n",
    "    [st.StructField('year', st.IntegerType())] +\\\n",
    "    [st.StructField('rating_avg', st.DoubleType())] +\\\n",
    "    [st.StructField(f'genre{i}', st.DoubleType()) for i in range(19)] +\\\n",
    "    [st.StructField(f'w2v_{i}', st.DoubleType()) for i in range(300)]\n",
    ")\n",
    "LOG_SCHEMA = st.StructType([\n",
    "    st.StructField('user_idx', st.IntegerType()),\n",
    "    st.StructField('item_idx', st.IntegerType()),\n",
    "    st.StructField('relevance', st.DoubleType()),\n",
    "    st.StructField('timestamp', st.IntegerType())\n",
    "])\n",
    "\n",
    "users_df_train = spark.read.csv(DATA_PATH+'train/users.csv', header=True, schema=USER_SCHEMA)\n",
    "items_df_train = spark.read.csv(DATA_PATH+'train/items.csv', header=True, schema=ITEM_SCHEMA)\n",
    "log_df_train   = spark.read.csv(DATA_PATH+'train/rating.csv', header=True, schema=LOG_SCHEMA)\n",
    "\n",
    "log_df_train = log_df_train.join(users_df_train, log_df_train['user_idx'] == users_df_train['user_idx'], 'leftsemi')\n",
    "log_df_train = log_df_train.join(items_df_train, log_df_train['item_idx'] == items_df_train['item_idx'], 'leftsemi')\n",
    "\n",
    "for c in users_df_train.columns[1:]:\n",
    "    users_df_train = users_df_train.withColumnRenamed(c, 'user_' + c)\n",
    "    \n",
    "for c in items_df_train.columns[1:]:\n",
    "    items_df_train = items_df_train.withColumnRenamed(c, 'item_' + c)\n",
    "\n",
    "log_df_train = log_df_train.withColumn(\n",
    "    'relevance', sf.when(sf.col('relevance') >= 3, 1).otherwise(0))\n",
    "\n",
    "users_df_train = users_df_train.cache()\n",
    "items_df_train = items_df_train.cache()\n",
    "log_df_train = log_df_train.cache()\n",
    "\n",
    "users_df_train.count()\n",
    "items_df_train.count()\n",
    "log_df_train.count()"
   ]
  },
  {
   "cell_type": "code",
   "execution_count": 5,
   "metadata": {},
   "outputs": [
    {
     "name": "stderr",
     "output_type": "stream",
     "text": [
      "                                                                                \r"
     ]
    },
    {
     "data": {
      "text/plain": [
       "5000065"
      ]
     },
     "execution_count": 5,
     "metadata": {},
     "output_type": "execute_result"
    }
   ],
   "source": [
    "users_df_val = spark.read.csv(DATA_PATH+'val/users.csv', header=True, schema=USER_SCHEMA)\n",
    "items_df_val = spark.read.csv(DATA_PATH+'val/items.csv', header=True, schema=ITEM_SCHEMA)\n",
    "log_df_val   = spark.read.csv(DATA_PATH+'val/rating.csv', header=True, schema=LOG_SCHEMA)\n",
    "\n",
    "log_df_val = log_df_val.join(users_df_val, log_df_val['user_idx'] == users_df_val['user_idx'], 'leftsemi')\n",
    "log_df_val = log_df_val.join(items_df_val, log_df_val['item_idx'] == items_df_val['item_idx'], 'leftsemi')\n",
    "\n",
    "for c in users_df_val.columns[1:]:\n",
    "    users_df_val = users_df_val.withColumnRenamed(c, 'user_' + c)\n",
    "    \n",
    "for c in items_df_val.columns[1:]:\n",
    "    items_df_val = items_df_val.withColumnRenamed(c, 'item_' + c)\n",
    "\n",
    "log_df_val = log_df_val.withColumn(\n",
    "    'relevance', sf.when(sf.col('relevance') >= 3, 1).otherwise(0))\n",
    "\n",
    "users_df_val = users_df_val.cache()\n",
    "items_df_val = items_df_val.cache()\n",
    "log_df_val = log_df_val.cache()\n",
    "\n",
    "users_df_val.count()\n",
    "items_df_val.count()\n",
    "log_df_val.count()"
   ]
  },
  {
   "cell_type": "code",
   "execution_count": 6,
   "metadata": {},
   "outputs": [
    {
     "name": "stderr",
     "output_type": "stream",
     "text": [
      "                                                                                \r"
     ]
    },
    {
     "data": {
      "text/plain": [
       "5000066"
      ]
     },
     "execution_count": 6,
     "metadata": {},
     "output_type": "execute_result"
    }
   ],
   "source": [
    "users_df_test = spark.read.csv(DATA_PATH+'test/users.csv', header=True, schema=USER_SCHEMA)\n",
    "items_df_test = spark.read.csv(DATA_PATH+'test/items.csv', header=True, schema=ITEM_SCHEMA)\n",
    "log_df_test   = spark.read.csv(DATA_PATH+'test/rating.csv', header=True, schema=LOG_SCHEMA)\n",
    "\n",
    "log_df_test = log_df_test.join(users_df_test, log_df_test['user_idx'] == users_df_test['user_idx'], 'leftsemi')\n",
    "log_df_test = log_df_test.join(items_df_test, log_df_test['item_idx'] == items_df_test['item_idx'], 'leftsemi')\n",
    "\n",
    "for c in users_df_test.columns[1:]:\n",
    "    users_df_test = users_df_test.withColumnRenamed(c, 'user_' + c)\n",
    "    \n",
    "for c in items_df_test.columns[1:]:\n",
    "    items_df_test = items_df_test.withColumnRenamed(c, 'item_' + c)\n",
    "\n",
    "log_df_test = log_df_test.withColumn(\n",
    "    'relevance', sf.when(sf.col('relevance') >= 3, 1).otherwise(0))\n",
    "\n",
    "items_df_test = items_df_test.na.drop()\n",
    "\n",
    "users_df_test = users_df_test.cache()\n",
    "items_df_test = items_df_test.cache()\n",
    "log_df_test = log_df_test.cache()\n",
    "\n",
    "users_df_test.count()\n",
    "items_df_test.count()\n",
    "log_df_test.count()"
   ]
  },
  {
   "cell_type": "markdown",
   "metadata": {},
   "source": [
    "# Initial quality of response function Real component"
   ]
  },
  {
   "cell_type": "markdown",
   "metadata": {},
   "source": [
    "Сначала оценим качество компоненты Real, отвечающей за приближение отклика в исторических данных, на исходных профилях польззователей и предложений.\n",
    "\n",
    "Напомним, что профили пользователей и предложений, относящиеся к периоду train (users_df_train и items_df_train соответственно) построены по истории взаимодействий из log_df_train. Поэтому для обучения модели отклика используются профили пользователей users_df_train и предложений items_df_train, а также лог log_df_val. Для оценки качества модели отклика используются профили users_df_val и items_df_val, построенные по объединенному логу log_df_train и log_df_val, а также лог log_df_test."
   ]
  },
  {
   "cell_type": "markdown",
   "metadata": {},
   "source": [
    "# Logistic regression"
   ]
  },
  {
   "cell_type": "code",
   "execution_count": 56,
   "metadata": {},
   "outputs": [
    {
     "name": "stderr",
     "output_type": "stream",
     "text": [
      "                                                                                \r"
     ]
    },
    {
     "name": "stdout",
     "output_type": "stream",
     "text": [
      "Fitting of logistic regression: \n",
      "132.58816146850586\n"
     ]
    }
   ],
   "source": [
    "va = VectorAssembler(\n",
    "    inputCols=users_df_train.columns[1:] + items_df_train.columns[2:],\n",
    "    outputCol='features'\n",
    ")\n",
    "\n",
    "lr = LogisticRegression(\n",
    "    featuresCol='features',\n",
    "    labelCol='relevance',\n",
    "    probabilityCol='__lr_prob'\n",
    ")\n",
    "\n",
    "train_df = log_df_val.join(users_df_train, 'user_idx', 'left')\\\n",
    "                     .join(items_df_train, 'item_idx', 'left')\\\n",
    "                     .drop('timestamp')\n",
    "train_df = train_df.na.drop()\n",
    "\n",
    "start = time.time()\n",
    "lr_model = lr.fit(va.transform(train_df))\n",
    "end = time.time()\n",
    "print(\"Fitting of logistic regression: \")\n",
    "print(end - start)"
   ]
  },
  {
   "cell_type": "code",
   "execution_count": 58,
   "metadata": {},
   "outputs": [],
   "source": [
    "vee = VectorElementExtractor(inputCol='__lr_prob', outputCol='__r1', index=1)\n",
    "br = BernoulliResponse (inputCol='__r1', outputCol='response', seed=1234)\n",
    "pipeline = Pipeline(\n",
    "    stages=[\n",
    "        va,\n",
    "        lr_model,\n",
    "        vee,\n",
    "        br\n",
    "    ]\n",
    ")"
   ]
  },
  {
   "cell_type": "code",
   "execution_count": 63,
   "metadata": {},
   "outputs": [],
   "source": [
    "test_df = log_df_test.join(users_df_val, 'user_idx', 'left')\\\n",
    "                     .join(items_df_val, 'item_idx', 'left')\\\n",
    "                     .drop('timestamp')\n",
    "test_df = test_df.na.drop()"
   ]
  },
  {
   "cell_type": "code",
   "execution_count": 65,
   "metadata": {},
   "outputs": [
    {
     "name": "stdout",
     "output_type": "stream",
     "text": [
      "Pipeline fitting: \n",
      "0.00027823448181152344\n"
     ]
    },
    {
     "name": "stderr",
     "output_type": "stream",
     "text": [
      "                                                                                \r"
     ]
    }
   ],
   "source": [
    "start = time.time()\n",
    "ber_lr_model = pipeline.fit(train_df)\n",
    "end = time.time()\n",
    "print(\"Pipeline fitting: \")\n",
    "print(end - start)\n",
    "pred_df = ber_lr_model.transform(test_df).select(\"user_idx\", \"item_idx\", \"relevance\", \"__r1\").toPandas()"
   ]
  },
  {
   "cell_type": "code",
   "execution_count": 66,
   "metadata": {},
   "outputs": [
    {
     "name": "stdout",
     "output_type": "stream",
     "text": [
      "Regression ROC AUC: 0.7297195129242636\n"
     ]
    }
   ],
   "source": [
    "print(f\"Regression ROC AUC: {roc_auc_score(pred_df.relevance, pred_df.__r1)}\")"
   ]
  },
  {
   "cell_type": "markdown",
   "metadata": {},
   "source": [
    "# Random forest"
   ]
  },
  {
   "cell_type": "code",
   "execution_count": 67,
   "metadata": {},
   "outputs": [
    {
     "name": "stderr",
     "output_type": "stream",
     "text": [
      "                                                                                \r"
     ]
    },
    {
     "name": "stdout",
     "output_type": "stream",
     "text": [
      "Fitting of random forest: \n",
      "113.6255989074707\n"
     ]
    }
   ],
   "source": [
    "rf = RandomForestClassifier(\n",
    "    featuresCol='features',\n",
    "    labelCol='relevance',\n",
    "    probabilityCol='__rf_prob'\n",
    ")\n",
    "\n",
    "start = time.time()\n",
    "rf_model = rf.fit(va.transform(train_df))\n",
    "end = time.time()\n",
    "print(\"Fitting of random forest: \")\n",
    "print(end - start)"
   ]
  },
  {
   "cell_type": "code",
   "execution_count": 68,
   "metadata": {},
   "outputs": [],
   "source": [
    "vee = VectorElementExtractor(inputCol='__rf_prob', outputCol='__r1', index=1)\n",
    "br = BernoulliResponse(inputCol='__r1', outputCol='response', seed=1234)\n",
    "pipeline = Pipeline(\n",
    "    stages=[\n",
    "        va,\n",
    "        rf_model,\n",
    "        vee,\n",
    "        br\n",
    "    ]\n",
    ")"
   ]
  },
  {
   "cell_type": "code",
   "execution_count": 69,
   "metadata": {},
   "outputs": [
    {
     "name": "stdout",
     "output_type": "stream",
     "text": [
      "Pipeline fitting: \n",
      "0.0010902881622314453\n"
     ]
    },
    {
     "name": "stderr",
     "output_type": "stream",
     "text": [
      "                                                                                \r"
     ]
    }
   ],
   "source": [
    "start = time.time()\n",
    "ber_rf_model = pipeline.fit(train_df)\n",
    "end = time.time()\n",
    "print(\"Pipeline fitting: \")\n",
    "print(end - start)\n",
    "pred_df = ber_rf_model.transform(test_df).select(\"user_idx\", \"item_idx\", \"relevance\", \"__r1\").toPandas()"
   ]
  },
  {
   "cell_type": "code",
   "execution_count": 70,
   "metadata": {},
   "outputs": [
    {
     "name": "stdout",
     "output_type": "stream",
     "text": [
      "Random forest ROC AUC: 0.6617090871766477\n"
     ]
    }
   ],
   "source": [
    "print(f\"Random forest ROC AUC: {roc_auc_score(pred_df.relevance, pred_df.__r1)}\")"
   ]
  },
  {
   "cell_type": "markdown",
   "metadata": {},
   "source": [
    "# Factorization machines"
   ]
  },
  {
   "cell_type": "code",
   "execution_count": 72,
   "metadata": {},
   "outputs": [
    {
     "name": "stderr",
     "output_type": "stream",
     "text": [
      "                                                                                \r"
     ]
    },
    {
     "name": "stdout",
     "output_type": "stream",
     "text": [
      "Fitting of factorization machines: \n",
      "5645.503440380096\n"
     ]
    }
   ],
   "source": [
    "fm = FMClassifier(\n",
    "    featuresCol='features',\n",
    "    labelCol='relevance',\n",
    "    probabilityCol='__fm_prob'\n",
    ")\n",
    "\n",
    "start = time.time()\n",
    "fm_model = fm.fit(va.transform(train_df))\n",
    "end = time.time()\n",
    "print(\"Fitting of factorization machines: \")\n",
    "print(end - start)"
   ]
  },
  {
   "cell_type": "code",
   "execution_count": 73,
   "metadata": {},
   "outputs": [],
   "source": [
    "vee = VectorElementExtractor(inputCol='__fm_prob', outputCol='__r1', index=1)\n",
    "br = BernoulliResponse(inputCol='__r1', outputCol='response', seed=1234)\n",
    "pipeline = Pipeline(\n",
    "    stages=[\n",
    "        va,\n",
    "        fm_model,\n",
    "        vee,\n",
    "        br\n",
    "    ]\n",
    ")"
   ]
  },
  {
   "cell_type": "code",
   "execution_count": 75,
   "metadata": {},
   "outputs": [
    {
     "name": "stdout",
     "output_type": "stream",
     "text": [
      "Pipeline fitting: \n",
      "0.0002014636993408203\n"
     ]
    },
    {
     "name": "stderr",
     "output_type": "stream",
     "text": [
      "                                                                                \r"
     ]
    }
   ],
   "source": [
    "start = time.time()\n",
    "ber_fm_model = pipeline.fit(train_df)\n",
    "end = time.time()\n",
    "print(\"Pipeline fitting: \")\n",
    "print(end - start)\n",
    "pred_df = ber_fm_model.transform(test_df).select(\"user_idx\", \"item_idx\", \"relevance\", \"__r1\").toPandas()"
   ]
  },
  {
   "cell_type": "code",
   "execution_count": 76,
   "metadata": {},
   "outputs": [
    {
     "name": "stdout",
     "output_type": "stream",
     "text": [
      "Factorization machines ROC AUC: 0.6810336369328058\n"
     ]
    }
   ],
   "source": [
    "print(f\"Factorization machines ROC AUC: {roc_auc_score(pred_df.relevance, pred_df.__r1)}\")"
   ]
  },
  {
   "cell_type": "markdown",
   "metadata": {},
   "source": [
    "# PCA"
   ]
  },
  {
   "cell_type": "markdown",
   "metadata": {},
   "source": [
    "Сгенерируем эмбеддинги профилей пользователей. Количество компонент было выбрано равным девяти, так как начиная с десятого значения прирост доли объясненной дисперсии составляет менее одной сотой."
   ]
  },
  {
   "cell_type": "code",
   "execution_count": 49,
   "metadata": {},
   "outputs": [
    {
     "name": "stderr",
     "output_type": "stream",
     "text": [
      "                                                                                \r"
     ]
    },
    {
     "name": "stdout",
     "output_type": "stream",
     "text": [
      "PCA fitting: \n",
      "3.358234405517578\n"
     ]
    },
    {
     "data": {
      "text/plain": [
       "DenseVector([0.5139, 0.1649, 0.0891, 0.0435, 0.0366, 0.0279, 0.0189, 0.0136, 0.0108])"
      ]
     },
     "execution_count": 49,
     "metadata": {},
     "output_type": "execute_result"
    }
   ],
   "source": [
    "va = VectorAssembler(\n",
    "    inputCols=users_df_train.columns[1:],\n",
    "    outputCol='features'\n",
    ")\n",
    "pca = PCA(k=9, inputCol=\"features\")\n",
    "pca.setOutputCol(\"pca_features\")\n",
    "start = time.time()\n",
    "model = pca.fit(va.transform(users_df_train))\n",
    "end = time.time()\n",
    "print(\"PCA fitting: \")\n",
    "print(end - start)\n",
    "model.explainedVariance"
   ]
  },
  {
   "cell_type": "code",
   "execution_count": 50,
   "metadata": {},
   "outputs": [
    {
     "name": "stderr",
     "output_type": "stream",
     "text": [
      "                                                                                \r"
     ]
    },
    {
     "data": {
      "text/html": [
       "<div>\n",
       "<style scoped>\n",
       "    .dataframe tbody tr th:only-of-type {\n",
       "        vertical-align: middle;\n",
       "    }\n",
       "\n",
       "    .dataframe tbody tr th {\n",
       "        vertical-align: top;\n",
       "    }\n",
       "\n",
       "    .dataframe thead th {\n",
       "        text-align: right;\n",
       "    }\n",
       "</style>\n",
       "<table border=\"1\" class=\"dataframe\">\n",
       "  <thead>\n",
       "    <tr style=\"text-align: right;\">\n",
       "      <th></th>\n",
       "      <th>user_idx</th>\n",
       "      <th>user_feature[0]</th>\n",
       "      <th>user_feature[1]</th>\n",
       "      <th>user_feature[2]</th>\n",
       "      <th>user_feature[3]</th>\n",
       "      <th>user_feature[4]</th>\n",
       "      <th>user_feature[5]</th>\n",
       "      <th>user_feature[6]</th>\n",
       "      <th>user_feature[7]</th>\n",
       "      <th>user_feature[8]</th>\n",
       "    </tr>\n",
       "  </thead>\n",
       "  <tbody>\n",
       "    <tr>\n",
       "      <th>0</th>\n",
       "      <td>1</td>\n",
       "      <td>-3.622775</td>\n",
       "      <td>-0.577107</td>\n",
       "      <td>-0.162202</td>\n",
       "      <td>-0.176447</td>\n",
       "      <td>-0.253122</td>\n",
       "      <td>-0.116941</td>\n",
       "      <td>0.235773</td>\n",
       "      <td>0.264329</td>\n",
       "      <td>0.292615</td>\n",
       "    </tr>\n",
       "    <tr>\n",
       "      <th>1</th>\n",
       "      <td>2</td>\n",
       "      <td>-3.961731</td>\n",
       "      <td>-0.617859</td>\n",
       "      <td>-0.131752</td>\n",
       "      <td>-0.185460</td>\n",
       "      <td>-0.139910</td>\n",
       "      <td>0.105091</td>\n",
       "      <td>0.191646</td>\n",
       "      <td>0.156198</td>\n",
       "      <td>0.059740</td>\n",
       "    </tr>\n",
       "    <tr>\n",
       "      <th>2</th>\n",
       "      <td>3</td>\n",
       "      <td>-4.084716</td>\n",
       "      <td>-0.625386</td>\n",
       "      <td>-0.236358</td>\n",
       "      <td>-0.193491</td>\n",
       "      <td>-0.118895</td>\n",
       "      <td>0.153699</td>\n",
       "      <td>0.044418</td>\n",
       "      <td>0.267825</td>\n",
       "      <td>-0.053132</td>\n",
       "    </tr>\n",
       "    <tr>\n",
       "      <th>3</th>\n",
       "      <td>4</td>\n",
       "      <td>-3.525531</td>\n",
       "      <td>-0.609608</td>\n",
       "      <td>-0.221708</td>\n",
       "      <td>-0.589832</td>\n",
       "      <td>0.169298</td>\n",
       "      <td>0.038561</td>\n",
       "      <td>-0.000828</td>\n",
       "      <td>0.195264</td>\n",
       "      <td>-0.038426</td>\n",
       "    </tr>\n",
       "    <tr>\n",
       "      <th>4</th>\n",
       "      <td>5</td>\n",
       "      <td>-4.251370</td>\n",
       "      <td>-0.383833</td>\n",
       "      <td>-0.341450</td>\n",
       "      <td>-0.353603</td>\n",
       "      <td>0.228462</td>\n",
       "      <td>0.070112</td>\n",
       "      <td>0.037554</td>\n",
       "      <td>0.239054</td>\n",
       "      <td>0.008435</td>\n",
       "    </tr>\n",
       "    <tr>\n",
       "      <th>...</th>\n",
       "      <td>...</td>\n",
       "      <td>...</td>\n",
       "      <td>...</td>\n",
       "      <td>...</td>\n",
       "      <td>...</td>\n",
       "      <td>...</td>\n",
       "      <td>...</td>\n",
       "      <td>...</td>\n",
       "      <td>...</td>\n",
       "      <td>...</td>\n",
       "    </tr>\n",
       "    <tr>\n",
       "      <th>80645</th>\n",
       "      <td>138483</td>\n",
       "      <td>-3.147429</td>\n",
       "      <td>-0.098111</td>\n",
       "      <td>-0.024827</td>\n",
       "      <td>-0.378338</td>\n",
       "      <td>0.148554</td>\n",
       "      <td>0.112192</td>\n",
       "      <td>0.027015</td>\n",
       "      <td>0.193308</td>\n",
       "      <td>-0.003480</td>\n",
       "    </tr>\n",
       "    <tr>\n",
       "      <th>80646</th>\n",
       "      <td>138484</td>\n",
       "      <td>-3.287778</td>\n",
       "      <td>-0.394522</td>\n",
       "      <td>-0.021202</td>\n",
       "      <td>-0.499686</td>\n",
       "      <td>0.129370</td>\n",
       "      <td>0.085624</td>\n",
       "      <td>0.015235</td>\n",
       "      <td>0.210864</td>\n",
       "      <td>0.017104</td>\n",
       "    </tr>\n",
       "    <tr>\n",
       "      <th>80647</th>\n",
       "      <td>138487</td>\n",
       "      <td>-4.226937</td>\n",
       "      <td>0.019180</td>\n",
       "      <td>-0.178634</td>\n",
       "      <td>-0.431476</td>\n",
       "      <td>0.097237</td>\n",
       "      <td>0.117792</td>\n",
       "      <td>0.046617</td>\n",
       "      <td>0.185198</td>\n",
       "      <td>0.009766</td>\n",
       "    </tr>\n",
       "    <tr>\n",
       "      <th>80648</th>\n",
       "      <td>138488</td>\n",
       "      <td>-2.773391</td>\n",
       "      <td>-0.226021</td>\n",
       "      <td>-0.468202</td>\n",
       "      <td>-0.335409</td>\n",
       "      <td>0.403278</td>\n",
       "      <td>-0.101171</td>\n",
       "      <td>0.170729</td>\n",
       "      <td>0.348078</td>\n",
       "      <td>0.041154</td>\n",
       "    </tr>\n",
       "    <tr>\n",
       "      <th>80649</th>\n",
       "      <td>138490</td>\n",
       "      <td>-3.587840</td>\n",
       "      <td>0.159587</td>\n",
       "      <td>0.228046</td>\n",
       "      <td>-0.235890</td>\n",
       "      <td>0.178379</td>\n",
       "      <td>0.121799</td>\n",
       "      <td>-0.032171</td>\n",
       "      <td>0.095645</td>\n",
       "      <td>-0.086517</td>\n",
       "    </tr>\n",
       "  </tbody>\n",
       "</table>\n",
       "<p>80650 rows × 10 columns</p>\n",
       "</div>"
      ],
      "text/plain": [
       "       user_idx  user_feature[0]  user_feature[1]  user_feature[2]  \\\n",
       "0             1        -3.622775        -0.577107        -0.162202   \n",
       "1             2        -3.961731        -0.617859        -0.131752   \n",
       "2             3        -4.084716        -0.625386        -0.236358   \n",
       "3             4        -3.525531        -0.609608        -0.221708   \n",
       "4             5        -4.251370        -0.383833        -0.341450   \n",
       "...         ...              ...              ...              ...   \n",
       "80645    138483        -3.147429        -0.098111        -0.024827   \n",
       "80646    138484        -3.287778        -0.394522        -0.021202   \n",
       "80647    138487        -4.226937         0.019180        -0.178634   \n",
       "80648    138488        -2.773391        -0.226021        -0.468202   \n",
       "80649    138490        -3.587840         0.159587         0.228046   \n",
       "\n",
       "       user_feature[3]  user_feature[4]  user_feature[5]  user_feature[6]  \\\n",
       "0            -0.176447        -0.253122        -0.116941         0.235773   \n",
       "1            -0.185460        -0.139910         0.105091         0.191646   \n",
       "2            -0.193491        -0.118895         0.153699         0.044418   \n",
       "3            -0.589832         0.169298         0.038561        -0.000828   \n",
       "4            -0.353603         0.228462         0.070112         0.037554   \n",
       "...                ...              ...              ...              ...   \n",
       "80645        -0.378338         0.148554         0.112192         0.027015   \n",
       "80646        -0.499686         0.129370         0.085624         0.015235   \n",
       "80647        -0.431476         0.097237         0.117792         0.046617   \n",
       "80648        -0.335409         0.403278        -0.101171         0.170729   \n",
       "80649        -0.235890         0.178379         0.121799        -0.032171   \n",
       "\n",
       "       user_feature[7]  user_feature[8]  \n",
       "0             0.264329         0.292615  \n",
       "1             0.156198         0.059740  \n",
       "2             0.267825        -0.053132  \n",
       "3             0.195264        -0.038426  \n",
       "4             0.239054         0.008435  \n",
       "...                ...              ...  \n",
       "80645         0.193308        -0.003480  \n",
       "80646         0.210864         0.017104  \n",
       "80647         0.185198         0.009766  \n",
       "80648         0.348078         0.041154  \n",
       "80649         0.095645        -0.086517  \n",
       "\n",
       "[80650 rows x 10 columns]"
      ]
     },
     "execution_count": 50,
     "metadata": {},
     "output_type": "execute_result"
    }
   ],
   "source": [
    "pca_users = model.transform(va.transform(users_df_train)).select(['user_idx', 'pca_features'])\n",
    "\n",
    "pca_users = (pca_users.withColumn('user_feature', vector_to_array('pca_features'))).select(['user_idx'] + [col('user_feature')[i] for i in range(9)])\n",
    "pca_users.toPandas()"
   ]
  },
  {
   "cell_type": "code",
   "execution_count": 80,
   "metadata": {},
   "outputs": [
    {
     "name": "stderr",
     "output_type": "stream",
     "text": [
      "\r\n",
      "[Stage 4252:>                                                       (0 + 8) / 8]\r\n",
      "\r\n",
      "                                                                                \r"
     ]
    },
    {
     "data": {
      "text/html": [
       "<div>\n",
       "<style scoped>\n",
       "    .dataframe tbody tr th:only-of-type {\n",
       "        vertical-align: middle;\n",
       "    }\n",
       "\n",
       "    .dataframe tbody tr th {\n",
       "        vertical-align: top;\n",
       "    }\n",
       "\n",
       "    .dataframe thead th {\n",
       "        text-align: right;\n",
       "    }\n",
       "</style>\n",
       "<table border=\"1\" class=\"dataframe\">\n",
       "  <thead>\n",
       "    <tr style=\"text-align: right;\">\n",
       "      <th></th>\n",
       "      <th>user_idx</th>\n",
       "      <th>user_feature[0]</th>\n",
       "      <th>user_feature[1]</th>\n",
       "      <th>user_feature[2]</th>\n",
       "      <th>user_feature[3]</th>\n",
       "      <th>user_feature[4]</th>\n",
       "      <th>user_feature[5]</th>\n",
       "      <th>user_feature[6]</th>\n",
       "      <th>user_feature[7]</th>\n",
       "      <th>user_feature[8]</th>\n",
       "    </tr>\n",
       "  </thead>\n",
       "  <tbody>\n",
       "    <tr>\n",
       "      <th>0</th>\n",
       "      <td>1</td>\n",
       "      <td>-3.703400</td>\n",
       "      <td>-0.645062</td>\n",
       "      <td>-0.321042</td>\n",
       "      <td>-0.159401</td>\n",
       "      <td>0.019337</td>\n",
       "      <td>-0.036376</td>\n",
       "      <td>0.057187</td>\n",
       "      <td>0.215621</td>\n",
       "      <td>0.185469</td>\n",
       "    </tr>\n",
       "    <tr>\n",
       "      <th>1</th>\n",
       "      <td>2</td>\n",
       "      <td>-3.961731</td>\n",
       "      <td>-0.617859</td>\n",
       "      <td>-0.131752</td>\n",
       "      <td>-0.185460</td>\n",
       "      <td>-0.139910</td>\n",
       "      <td>0.105091</td>\n",
       "      <td>0.191646</td>\n",
       "      <td>0.156198</td>\n",
       "      <td>0.059740</td>\n",
       "    </tr>\n",
       "    <tr>\n",
       "      <th>2</th>\n",
       "      <td>3</td>\n",
       "      <td>-4.084716</td>\n",
       "      <td>-0.625386</td>\n",
       "      <td>-0.236358</td>\n",
       "      <td>-0.193491</td>\n",
       "      <td>-0.118895</td>\n",
       "      <td>0.153699</td>\n",
       "      <td>0.044418</td>\n",
       "      <td>0.267825</td>\n",
       "      <td>-0.053132</td>\n",
       "    </tr>\n",
       "    <tr>\n",
       "      <th>3</th>\n",
       "      <td>4</td>\n",
       "      <td>-3.525531</td>\n",
       "      <td>-0.609608</td>\n",
       "      <td>-0.221708</td>\n",
       "      <td>-0.589832</td>\n",
       "      <td>0.169298</td>\n",
       "      <td>0.038561</td>\n",
       "      <td>-0.000828</td>\n",
       "      <td>0.195264</td>\n",
       "      <td>-0.038426</td>\n",
       "    </tr>\n",
       "    <tr>\n",
       "      <th>4</th>\n",
       "      <td>5</td>\n",
       "      <td>-4.251370</td>\n",
       "      <td>-0.383833</td>\n",
       "      <td>-0.341450</td>\n",
       "      <td>-0.353603</td>\n",
       "      <td>0.228462</td>\n",
       "      <td>0.070112</td>\n",
       "      <td>0.037554</td>\n",
       "      <td>0.239054</td>\n",
       "      <td>0.008435</td>\n",
       "    </tr>\n",
       "    <tr>\n",
       "      <th>...</th>\n",
       "      <td>...</td>\n",
       "      <td>...</td>\n",
       "      <td>...</td>\n",
       "      <td>...</td>\n",
       "      <td>...</td>\n",
       "      <td>...</td>\n",
       "      <td>...</td>\n",
       "      <td>...</td>\n",
       "      <td>...</td>\n",
       "      <td>...</td>\n",
       "    </tr>\n",
       "    <tr>\n",
       "      <th>106568</th>\n",
       "      <td>138486</td>\n",
       "      <td>-3.754245</td>\n",
       "      <td>-0.594776</td>\n",
       "      <td>-0.276480</td>\n",
       "      <td>-0.323980</td>\n",
       "      <td>-0.118774</td>\n",
       "      <td>-0.139955</td>\n",
       "      <td>0.160285</td>\n",
       "      <td>0.273831</td>\n",
       "      <td>0.185347</td>\n",
       "    </tr>\n",
       "    <tr>\n",
       "      <th>106569</th>\n",
       "      <td>138487</td>\n",
       "      <td>-4.226937</td>\n",
       "      <td>0.019180</td>\n",
       "      <td>-0.178634</td>\n",
       "      <td>-0.431476</td>\n",
       "      <td>0.097237</td>\n",
       "      <td>0.117792</td>\n",
       "      <td>0.046617</td>\n",
       "      <td>0.185198</td>\n",
       "      <td>0.009766</td>\n",
       "    </tr>\n",
       "    <tr>\n",
       "      <th>106570</th>\n",
       "      <td>138488</td>\n",
       "      <td>-2.773391</td>\n",
       "      <td>-0.226021</td>\n",
       "      <td>-0.468202</td>\n",
       "      <td>-0.335409</td>\n",
       "      <td>0.403278</td>\n",
       "      <td>-0.101171</td>\n",
       "      <td>0.170729</td>\n",
       "      <td>0.348078</td>\n",
       "      <td>0.041154</td>\n",
       "    </tr>\n",
       "    <tr>\n",
       "      <th>106571</th>\n",
       "      <td>138490</td>\n",
       "      <td>-3.587840</td>\n",
       "      <td>0.159587</td>\n",
       "      <td>0.228046</td>\n",
       "      <td>-0.235890</td>\n",
       "      <td>0.178379</td>\n",
       "      <td>0.121799</td>\n",
       "      <td>-0.032171</td>\n",
       "      <td>0.095645</td>\n",
       "      <td>-0.086517</td>\n",
       "    </tr>\n",
       "    <tr>\n",
       "      <th>106572</th>\n",
       "      <td>138492</td>\n",
       "      <td>-4.075187</td>\n",
       "      <td>-0.165085</td>\n",
       "      <td>-0.482203</td>\n",
       "      <td>-0.524053</td>\n",
       "      <td>0.025434</td>\n",
       "      <td>0.116126</td>\n",
       "      <td>-0.097760</td>\n",
       "      <td>0.312191</td>\n",
       "      <td>0.090167</td>\n",
       "    </tr>\n",
       "  </tbody>\n",
       "</table>\n",
       "<p>106573 rows × 10 columns</p>\n",
       "</div>"
      ],
      "text/plain": [
       "        user_idx  user_feature[0]  user_feature[1]  user_feature[2]  \\\n",
       "0              1        -3.703400        -0.645062        -0.321042   \n",
       "1              2        -3.961731        -0.617859        -0.131752   \n",
       "2              3        -4.084716        -0.625386        -0.236358   \n",
       "3              4        -3.525531        -0.609608        -0.221708   \n",
       "4              5        -4.251370        -0.383833        -0.341450   \n",
       "...          ...              ...              ...              ...   \n",
       "106568    138486        -3.754245        -0.594776        -0.276480   \n",
       "106569    138487        -4.226937         0.019180        -0.178634   \n",
       "106570    138488        -2.773391        -0.226021        -0.468202   \n",
       "106571    138490        -3.587840         0.159587         0.228046   \n",
       "106572    138492        -4.075187        -0.165085        -0.482203   \n",
       "\n",
       "        user_feature[3]  user_feature[4]  user_feature[5]  user_feature[6]  \\\n",
       "0             -0.159401         0.019337        -0.036376         0.057187   \n",
       "1             -0.185460        -0.139910         0.105091         0.191646   \n",
       "2             -0.193491        -0.118895         0.153699         0.044418   \n",
       "3             -0.589832         0.169298         0.038561        -0.000828   \n",
       "4             -0.353603         0.228462         0.070112         0.037554   \n",
       "...                 ...              ...              ...              ...   \n",
       "106568        -0.323980        -0.118774        -0.139955         0.160285   \n",
       "106569        -0.431476         0.097237         0.117792         0.046617   \n",
       "106570        -0.335409         0.403278        -0.101171         0.170729   \n",
       "106571        -0.235890         0.178379         0.121799        -0.032171   \n",
       "106572        -0.524053         0.025434         0.116126        -0.097760   \n",
       "\n",
       "        user_feature[7]  user_feature[8]  \n",
       "0              0.215621         0.185469  \n",
       "1              0.156198         0.059740  \n",
       "2              0.267825        -0.053132  \n",
       "3              0.195264        -0.038426  \n",
       "4              0.239054         0.008435  \n",
       "...                 ...              ...  \n",
       "106568         0.273831         0.185347  \n",
       "106569         0.185198         0.009766  \n",
       "106570         0.348078         0.041154  \n",
       "106571         0.095645        -0.086517  \n",
       "106572         0.312191         0.090167  \n",
       "\n",
       "[106573 rows x 10 columns]"
      ]
     },
     "execution_count": 80,
     "metadata": {},
     "output_type": "execute_result"
    }
   ],
   "source": [
    "pca_users_val = model.transform(va.transform(users_df_val)).select(['user_idx', 'pca_features'])\n",
    "\n",
    "pca_users_val = (pca_users_val.withColumn('user_feature', vector_to_array('pca_features'))).select(['user_idx'] + [col('user_feature')[i] for i in range(9)])\n",
    "pca_users_val.toPandas()"
   ]
  },
  {
   "cell_type": "markdown",
   "metadata": {},
   "source": [
    "# Generators quality with PCA"
   ]
  },
  {
   "cell_type": "markdown",
   "metadata": {},
   "source": [
    "# GaussianCopula"
   ]
  },
  {
   "cell_type": "code",
   "execution_count": 7,
   "metadata": {},
   "outputs": [
    {
     "name": "stderr",
     "output_type": "stream",
     "text": [
      "\r\n",
      "[Stage 18:=====================>                                    (3 + 5) / 8]\r\n",
      "\r\n",
      "                                                                                \r"
     ]
    },
    {
     "name": "stdout",
     "output_type": "stream",
     "text": [
      "Fitting of GaussianCopula on PCA embeddings: \n",
      "37.62059164047241\n"
     ]
    }
   ],
   "source": [
    "user_generator_1 = SDVDataGenerator(\n",
    "    label='synth',\n",
    "    id_column_name='user_idx',\n",
    "    model_name='gaussiancopula',\n",
    "    parallelization_level=4,\n",
    "    seed=1234\n",
    ")\n",
    "\n",
    "start = time.time()\n",
    "user_generator_1.fit(pca_users.drop('user_idx'))\n",
    "end = time.time()\n",
    "print('Fitting of GaussianCopula on PCA embeddings: ')\n",
    "print(end - start)"
   ]
  },
  {
   "cell_type": "code",
   "execution_count": 8,
   "metadata": {},
   "outputs": [
    {
     "name": "stderr",
     "output_type": "stream",
     "text": [
      "                                                                                \r"
     ]
    }
   ],
   "source": [
    "real_users = pca_users.sample(0.12)\n",
    "syn_users = user_generator_1.generate(real_users.count())\n",
    "gen_score = evaluate_synthetic(\n",
    "    syn_users.drop('user_idx'),\n",
    "    real_users.drop('user_idx')\n",
    ")"
   ]
  },
  {
   "cell_type": "code",
   "execution_count": 9,
   "metadata": {},
   "outputs": [
    {
     "data": {
      "text/plain": [
       "{'LogisticDetection': 0.9609056686313161,\n",
       " 'SVCDetection': 0.3050308615535612,\n",
       " 'KSTest': 0.957127399054616,\n",
       " 'ContinuousKLDivergence': 0.9423131904276859}"
      ]
     },
     "execution_count": 9,
     "metadata": {},
     "output_type": "execute_result"
    }
   ],
   "source": [
    "gen_score"
   ]
  },
  {
   "cell_type": "code",
   "execution_count": 10,
   "metadata": {},
   "outputs": [
    {
     "data": {
      "text/html": [
       "<div>\n",
       "<style scoped>\n",
       "    .dataframe tbody tr th:only-of-type {\n",
       "        vertical-align: middle;\n",
       "    }\n",
       "\n",
       "    .dataframe tbody tr th {\n",
       "        vertical-align: top;\n",
       "    }\n",
       "\n",
       "    .dataframe thead th {\n",
       "        text-align: right;\n",
       "    }\n",
       "</style>\n",
       "<table border=\"1\" class=\"dataframe\">\n",
       "  <thead>\n",
       "    <tr style=\"text-align: right;\">\n",
       "      <th></th>\n",
       "      <th>Model_name</th>\n",
       "      <th>Metric_score</th>\n",
       "      <th>Metric_name</th>\n",
       "    </tr>\n",
       "  </thead>\n",
       "  <tbody>\n",
       "    <tr>\n",
       "      <th>0</th>\n",
       "      <td>GaussianCopula</td>\n",
       "      <td>0.960906</td>\n",
       "      <td>LogisticDetection</td>\n",
       "    </tr>\n",
       "    <tr>\n",
       "      <th>1</th>\n",
       "      <td>GaussianCopula</td>\n",
       "      <td>0.305031</td>\n",
       "      <td>SVCDetection</td>\n",
       "    </tr>\n",
       "    <tr>\n",
       "      <th>2</th>\n",
       "      <td>GaussianCopula</td>\n",
       "      <td>0.957127</td>\n",
       "      <td>KSTest</td>\n",
       "    </tr>\n",
       "    <tr>\n",
       "      <th>3</th>\n",
       "      <td>GaussianCopula</td>\n",
       "      <td>0.942313</td>\n",
       "      <td>ContinuousKLDivergence</td>\n",
       "    </tr>\n",
       "  </tbody>\n",
       "</table>\n",
       "</div>"
      ],
      "text/plain": [
       "       Model_name  Metric_score             Metric_name\n",
       "0  GaussianCopula      0.960906       LogisticDetection\n",
       "1  GaussianCopula      0.305031            SVCDetection\n",
       "2  GaussianCopula      0.957127                  KSTest\n",
       "3  GaussianCopula      0.942313  ContinuousKLDivergence"
      ]
     },
     "execution_count": 10,
     "metadata": {},
     "output_type": "execute_result"
    }
   ],
   "source": [
    "gen_result = pd.DataFrame(index = np.arange(4))\n",
    "gen_result['Model_name'] = 'GaussianCopula'\n",
    "gen_result['Metric_score'] = [v for k, v in gen_score.items()]\n",
    "gen_result['Metric_name'] = [k for k, v in gen_score.items()]\n",
    "\n",
    "gen_result_df_pca = pd.DataFrame()\n",
    "gen_result_df_pca = pd.concat([gen_result_df_pca, gen_result])\n",
    "gen_result_df_pca"
   ]
  },
  {
   "cell_type": "markdown",
   "metadata": {},
   "source": [
    "# CTGAN"
   ]
  },
  {
   "cell_type": "code",
   "execution_count": 11,
   "metadata": {},
   "outputs": [
    {
     "name": "stderr",
     "output_type": "stream",
     "text": [
      "\r\n",
      "[Stage 25:>                                                         (0 + 8) / 8]\r\n",
      "\r\n",
      "                                                                                \r"
     ]
    },
    {
     "name": "stdout",
     "output_type": "stream",
     "text": [
      "Fitting of CTGAN on PCA embeddings: \n",
      "2659.908476114273\n"
     ]
    }
   ],
   "source": [
    "user_generator_2 = SDVDataGenerator(\n",
    "    label='synth',\n",
    "    id_column_name='user_idx',\n",
    "    model_name='ctgan',\n",
    "    parallelization_level=4,\n",
    "    seed=1234\n",
    ")\n",
    "\n",
    "start = time.time()\n",
    "user_generator_2.fit(pca_users.drop('user_idx'))\n",
    "end = time.time()\n",
    "print('Fitting of CTGAN on PCA embeddings: ')\n",
    "print(end - start)"
   ]
  },
  {
   "cell_type": "code",
   "execution_count": 14,
   "metadata": {},
   "outputs": [
    {
     "name": "stderr",
     "output_type": "stream",
     "text": [
      "                                                                                \r"
     ]
    }
   ],
   "source": [
    "real_users = pca_users.sample(0.12)\n",
    "syn_users = user_generator_2.generate(real_users.count())\n",
    "gen_score = evaluate_synthetic(\n",
    "    syn_users.drop('user_idx'),\n",
    "    real_users.drop('user_idx')\n",
    ")"
   ]
  },
  {
   "cell_type": "code",
   "execution_count": 15,
   "metadata": {},
   "outputs": [
    {
     "data": {
      "text/plain": [
       "{'LogisticDetection': 0.5862689619912471,\n",
       " 'SVCDetection': 0.2214573368183812,\n",
       " 'KSTest': 0.887943709304768,\n",
       " 'ContinuousKLDivergence': 0.8518635181200033}"
      ]
     },
     "execution_count": 15,
     "metadata": {},
     "output_type": "execute_result"
    }
   ],
   "source": [
    "gen_score"
   ]
  },
  {
   "cell_type": "code",
   "execution_count": 16,
   "metadata": {},
   "outputs": [
    {
     "data": {
      "text/html": [
       "<div>\n",
       "<style scoped>\n",
       "    .dataframe tbody tr th:only-of-type {\n",
       "        vertical-align: middle;\n",
       "    }\n",
       "\n",
       "    .dataframe tbody tr th {\n",
       "        vertical-align: top;\n",
       "    }\n",
       "\n",
       "    .dataframe thead th {\n",
       "        text-align: right;\n",
       "    }\n",
       "</style>\n",
       "<table border=\"1\" class=\"dataframe\">\n",
       "  <thead>\n",
       "    <tr style=\"text-align: right;\">\n",
       "      <th></th>\n",
       "      <th>Model_name</th>\n",
       "      <th>Metric_score</th>\n",
       "      <th>Metric_name</th>\n",
       "    </tr>\n",
       "  </thead>\n",
       "  <tbody>\n",
       "    <tr>\n",
       "      <th>0</th>\n",
       "      <td>GaussianCopula</td>\n",
       "      <td>0.960906</td>\n",
       "      <td>LogisticDetection</td>\n",
       "    </tr>\n",
       "    <tr>\n",
       "      <th>1</th>\n",
       "      <td>GaussianCopula</td>\n",
       "      <td>0.305031</td>\n",
       "      <td>SVCDetection</td>\n",
       "    </tr>\n",
       "    <tr>\n",
       "      <th>2</th>\n",
       "      <td>GaussianCopula</td>\n",
       "      <td>0.957127</td>\n",
       "      <td>KSTest</td>\n",
       "    </tr>\n",
       "    <tr>\n",
       "      <th>3</th>\n",
       "      <td>GaussianCopula</td>\n",
       "      <td>0.942313</td>\n",
       "      <td>ContinuousKLDivergence</td>\n",
       "    </tr>\n",
       "    <tr>\n",
       "      <th>0</th>\n",
       "      <td>CTGAN</td>\n",
       "      <td>0.586269</td>\n",
       "      <td>LogisticDetection</td>\n",
       "    </tr>\n",
       "    <tr>\n",
       "      <th>1</th>\n",
       "      <td>CTGAN</td>\n",
       "      <td>0.221457</td>\n",
       "      <td>SVCDetection</td>\n",
       "    </tr>\n",
       "    <tr>\n",
       "      <th>2</th>\n",
       "      <td>CTGAN</td>\n",
       "      <td>0.887944</td>\n",
       "      <td>KSTest</td>\n",
       "    </tr>\n",
       "    <tr>\n",
       "      <th>3</th>\n",
       "      <td>CTGAN</td>\n",
       "      <td>0.851864</td>\n",
       "      <td>ContinuousKLDivergence</td>\n",
       "    </tr>\n",
       "  </tbody>\n",
       "</table>\n",
       "</div>"
      ],
      "text/plain": [
       "       Model_name  Metric_score             Metric_name\n",
       "0  GaussianCopula      0.960906       LogisticDetection\n",
       "1  GaussianCopula      0.305031            SVCDetection\n",
       "2  GaussianCopula      0.957127                  KSTest\n",
       "3  GaussianCopula      0.942313  ContinuousKLDivergence\n",
       "0           CTGAN      0.586269       LogisticDetection\n",
       "1           CTGAN      0.221457            SVCDetection\n",
       "2           CTGAN      0.887944                  KSTest\n",
       "3           CTGAN      0.851864  ContinuousKLDivergence"
      ]
     },
     "execution_count": 16,
     "metadata": {},
     "output_type": "execute_result"
    }
   ],
   "source": [
    "gen_result = pd.DataFrame(index = np.arange(4))\n",
    "gen_result['Model_name'] = 'CTGAN'\n",
    "gen_result['Metric_score'] = [v for k, v in gen_score.items()]\n",
    "gen_result['Metric_name'] = [k for k, v in gen_score.items()]\n",
    "\n",
    "gen_result_df_pca = pd.concat([gen_result_df_pca, gen_result])\n",
    "gen_result_df_pca"
   ]
  },
  {
   "cell_type": "markdown",
   "metadata": {},
   "source": [
    "# CopulaGAN"
   ]
  },
  {
   "cell_type": "code",
   "execution_count": 17,
   "metadata": {},
   "outputs": [
    {
     "name": "stdout",
     "output_type": "stream",
     "text": [
      "Fitting of CopulaGAN on PCA embeddings: \n",
      "2606.1062290668488\n"
     ]
    }
   ],
   "source": [
    "user_generator_3 = SDVDataGenerator(\n",
    "    label='synth',\n",
    "    id_column_name='user_idx',\n",
    "    model_name='copulagan',\n",
    "    parallelization_level=4,\n",
    "    seed=1234\n",
    ")\n",
    "\n",
    "start = time.time()\n",
    "user_generator_3.fit(pca_users.drop('user_idx'))\n",
    "end = time.time()\n",
    "print('Fitting of CopulaGAN on PCA embeddings: ')\n",
    "print(end - start)"
   ]
  },
  {
   "cell_type": "code",
   "execution_count": 18,
   "metadata": {},
   "outputs": [
    {
     "name": "stderr",
     "output_type": "stream",
     "text": [
      "                                                                                \r"
     ]
    }
   ],
   "source": [
    "real_users = pca_users.sample(0.12)\n",
    "syn_users = user_generator_3.generate(real_users.count())\n",
    "gen_score = evaluate_synthetic(\n",
    "    syn_users.drop('user_idx'),\n",
    "    real_users.drop('user_idx')\n",
    ")"
   ]
  },
  {
   "cell_type": "code",
   "execution_count": 19,
   "metadata": {},
   "outputs": [
    {
     "data": {
      "text/plain": [
       "{'LogisticDetection': 0.5308309839353935,\n",
       " 'SVCDetection': 0.14414392453056024,\n",
       " 'KSTest': 0.8801101029666634,\n",
       " 'ContinuousKLDivergence': 0.7730488485630536}"
      ]
     },
     "execution_count": 19,
     "metadata": {},
     "output_type": "execute_result"
    }
   ],
   "source": [
    "gen_score"
   ]
  },
  {
   "cell_type": "code",
   "execution_count": 20,
   "metadata": {},
   "outputs": [
    {
     "data": {
      "text/html": [
       "<div>\n",
       "<style scoped>\n",
       "    .dataframe tbody tr th:only-of-type {\n",
       "        vertical-align: middle;\n",
       "    }\n",
       "\n",
       "    .dataframe tbody tr th {\n",
       "        vertical-align: top;\n",
       "    }\n",
       "\n",
       "    .dataframe thead th {\n",
       "        text-align: right;\n",
       "    }\n",
       "</style>\n",
       "<table border=\"1\" class=\"dataframe\">\n",
       "  <thead>\n",
       "    <tr style=\"text-align: right;\">\n",
       "      <th></th>\n",
       "      <th>Model_name</th>\n",
       "      <th>Metric_score</th>\n",
       "      <th>Metric_name</th>\n",
       "    </tr>\n",
       "  </thead>\n",
       "  <tbody>\n",
       "    <tr>\n",
       "      <th>0</th>\n",
       "      <td>GaussianCopula</td>\n",
       "      <td>0.960906</td>\n",
       "      <td>LogisticDetection</td>\n",
       "    </tr>\n",
       "    <tr>\n",
       "      <th>1</th>\n",
       "      <td>GaussianCopula</td>\n",
       "      <td>0.305031</td>\n",
       "      <td>SVCDetection</td>\n",
       "    </tr>\n",
       "    <tr>\n",
       "      <th>2</th>\n",
       "      <td>GaussianCopula</td>\n",
       "      <td>0.957127</td>\n",
       "      <td>KSTest</td>\n",
       "    </tr>\n",
       "    <tr>\n",
       "      <th>3</th>\n",
       "      <td>GaussianCopula</td>\n",
       "      <td>0.942313</td>\n",
       "      <td>ContinuousKLDivergence</td>\n",
       "    </tr>\n",
       "    <tr>\n",
       "      <th>0</th>\n",
       "      <td>CTGAN</td>\n",
       "      <td>0.586269</td>\n",
       "      <td>LogisticDetection</td>\n",
       "    </tr>\n",
       "    <tr>\n",
       "      <th>1</th>\n",
       "      <td>CTGAN</td>\n",
       "      <td>0.221457</td>\n",
       "      <td>SVCDetection</td>\n",
       "    </tr>\n",
       "    <tr>\n",
       "      <th>2</th>\n",
       "      <td>CTGAN</td>\n",
       "      <td>0.887944</td>\n",
       "      <td>KSTest</td>\n",
       "    </tr>\n",
       "    <tr>\n",
       "      <th>3</th>\n",
       "      <td>CTGAN</td>\n",
       "      <td>0.851864</td>\n",
       "      <td>ContinuousKLDivergence</td>\n",
       "    </tr>\n",
       "    <tr>\n",
       "      <th>0</th>\n",
       "      <td>CopulaGAN</td>\n",
       "      <td>0.530831</td>\n",
       "      <td>LogisticDetection</td>\n",
       "    </tr>\n",
       "    <tr>\n",
       "      <th>1</th>\n",
       "      <td>CopulaGAN</td>\n",
       "      <td>0.144144</td>\n",
       "      <td>SVCDetection</td>\n",
       "    </tr>\n",
       "    <tr>\n",
       "      <th>2</th>\n",
       "      <td>CopulaGAN</td>\n",
       "      <td>0.880110</td>\n",
       "      <td>KSTest</td>\n",
       "    </tr>\n",
       "    <tr>\n",
       "      <th>3</th>\n",
       "      <td>CopulaGAN</td>\n",
       "      <td>0.773049</td>\n",
       "      <td>ContinuousKLDivergence</td>\n",
       "    </tr>\n",
       "  </tbody>\n",
       "</table>\n",
       "</div>"
      ],
      "text/plain": [
       "       Model_name  Metric_score             Metric_name\n",
       "0  GaussianCopula      0.960906       LogisticDetection\n",
       "1  GaussianCopula      0.305031            SVCDetection\n",
       "2  GaussianCopula      0.957127                  KSTest\n",
       "3  GaussianCopula      0.942313  ContinuousKLDivergence\n",
       "0           CTGAN      0.586269       LogisticDetection\n",
       "1           CTGAN      0.221457            SVCDetection\n",
       "2           CTGAN      0.887944                  KSTest\n",
       "3           CTGAN      0.851864  ContinuousKLDivergence\n",
       "0       CopulaGAN      0.530831       LogisticDetection\n",
       "1       CopulaGAN      0.144144            SVCDetection\n",
       "2       CopulaGAN      0.880110                  KSTest\n",
       "3       CopulaGAN      0.773049  ContinuousKLDivergence"
      ]
     },
     "execution_count": 20,
     "metadata": {},
     "output_type": "execute_result"
    }
   ],
   "source": [
    "gen_result = pd.DataFrame(index = np.arange(4))\n",
    "gen_result['Model_name'] = 'CopulaGAN'\n",
    "gen_result['Metric_score'] = [v for k, v in gen_score.items()]\n",
    "gen_result['Metric_name'] = [k for k, v in gen_score.items()]\n",
    "\n",
    "gen_result_df_pca = pd.concat([gen_result_df_pca, gen_result])\n",
    "gen_result_df_pca"
   ]
  },
  {
   "cell_type": "markdown",
   "metadata": {},
   "source": [
    "# TVAE"
   ]
  },
  {
   "cell_type": "code",
   "execution_count": 21,
   "metadata": {},
   "outputs": [
    {
     "name": "stdout",
     "output_type": "stream",
     "text": [
      "Fitting of TVAE on PCA embeddings: \n",
      "895.7267322540283\n"
     ]
    }
   ],
   "source": [
    "user_generator_4 = SDVDataGenerator(\n",
    "    label='synth',\n",
    "    id_column_name='user_idx',\n",
    "    model_name='tvae',\n",
    "    parallelization_level=4,\n",
    "    seed=1234\n",
    ")\n",
    "\n",
    "start = time.time()\n",
    "user_generator_4.fit(pca_users.drop('user_idx'))\n",
    "end = time.time()\n",
    "print('Fitting of TVAE on PCA embeddings: ')\n",
    "print(end - start)"
   ]
  },
  {
   "cell_type": "code",
   "execution_count": 24,
   "metadata": {},
   "outputs": [
    {
     "name": "stderr",
     "output_type": "stream",
     "text": [
      "                                                                                \r"
     ]
    }
   ],
   "source": [
    "real_users = pca_users.sample(0.12)\n",
    "syn_users = user_generator_4.generate(real_users.count())\n",
    "gen_score = evaluate_synthetic(\n",
    "    syn_users.drop('user_idx'),\n",
    "    real_users.drop('user_idx')\n",
    ")"
   ]
  },
  {
   "cell_type": "code",
   "execution_count": 25,
   "metadata": {},
   "outputs": [
    {
     "data": {
      "text/plain": [
       "{'LogisticDetection': 0.6081826589356636,\n",
       " 'SVCDetection': 0.054738535666314814,\n",
       " 'KSTest': 0.7878272145230569,\n",
       " 'ContinuousKLDivergence': 0.7260824735860538}"
      ]
     },
     "execution_count": 25,
     "metadata": {},
     "output_type": "execute_result"
    }
   ],
   "source": [
    "gen_score"
   ]
  },
  {
   "cell_type": "code",
   "execution_count": 26,
   "metadata": {},
   "outputs": [
    {
     "data": {
      "text/html": [
       "<div>\n",
       "<style scoped>\n",
       "    .dataframe tbody tr th:only-of-type {\n",
       "        vertical-align: middle;\n",
       "    }\n",
       "\n",
       "    .dataframe tbody tr th {\n",
       "        vertical-align: top;\n",
       "    }\n",
       "\n",
       "    .dataframe thead th {\n",
       "        text-align: right;\n",
       "    }\n",
       "</style>\n",
       "<table border=\"1\" class=\"dataframe\">\n",
       "  <thead>\n",
       "    <tr style=\"text-align: right;\">\n",
       "      <th></th>\n",
       "      <th>Model_name</th>\n",
       "      <th>Metric_score</th>\n",
       "      <th>Metric_name</th>\n",
       "    </tr>\n",
       "  </thead>\n",
       "  <tbody>\n",
       "    <tr>\n",
       "      <th>0</th>\n",
       "      <td>GaussianCopula</td>\n",
       "      <td>0.960906</td>\n",
       "      <td>LogisticDetection</td>\n",
       "    </tr>\n",
       "    <tr>\n",
       "      <th>1</th>\n",
       "      <td>GaussianCopula</td>\n",
       "      <td>0.305031</td>\n",
       "      <td>SVCDetection</td>\n",
       "    </tr>\n",
       "    <tr>\n",
       "      <th>2</th>\n",
       "      <td>GaussianCopula</td>\n",
       "      <td>0.957127</td>\n",
       "      <td>KSTest</td>\n",
       "    </tr>\n",
       "    <tr>\n",
       "      <th>3</th>\n",
       "      <td>GaussianCopula</td>\n",
       "      <td>0.942313</td>\n",
       "      <td>ContinuousKLDivergence</td>\n",
       "    </tr>\n",
       "    <tr>\n",
       "      <th>0</th>\n",
       "      <td>CTGAN</td>\n",
       "      <td>0.586269</td>\n",
       "      <td>LogisticDetection</td>\n",
       "    </tr>\n",
       "    <tr>\n",
       "      <th>1</th>\n",
       "      <td>CTGAN</td>\n",
       "      <td>0.221457</td>\n",
       "      <td>SVCDetection</td>\n",
       "    </tr>\n",
       "    <tr>\n",
       "      <th>2</th>\n",
       "      <td>CTGAN</td>\n",
       "      <td>0.887944</td>\n",
       "      <td>KSTest</td>\n",
       "    </tr>\n",
       "    <tr>\n",
       "      <th>3</th>\n",
       "      <td>CTGAN</td>\n",
       "      <td>0.851864</td>\n",
       "      <td>ContinuousKLDivergence</td>\n",
       "    </tr>\n",
       "    <tr>\n",
       "      <th>0</th>\n",
       "      <td>CopulaGAN</td>\n",
       "      <td>0.530831</td>\n",
       "      <td>LogisticDetection</td>\n",
       "    </tr>\n",
       "    <tr>\n",
       "      <th>1</th>\n",
       "      <td>CopulaGAN</td>\n",
       "      <td>0.144144</td>\n",
       "      <td>SVCDetection</td>\n",
       "    </tr>\n",
       "    <tr>\n",
       "      <th>2</th>\n",
       "      <td>CopulaGAN</td>\n",
       "      <td>0.880110</td>\n",
       "      <td>KSTest</td>\n",
       "    </tr>\n",
       "    <tr>\n",
       "      <th>3</th>\n",
       "      <td>CopulaGAN</td>\n",
       "      <td>0.773049</td>\n",
       "      <td>ContinuousKLDivergence</td>\n",
       "    </tr>\n",
       "    <tr>\n",
       "      <th>0</th>\n",
       "      <td>TVAE</td>\n",
       "      <td>0.608183</td>\n",
       "      <td>LogisticDetection</td>\n",
       "    </tr>\n",
       "    <tr>\n",
       "      <th>1</th>\n",
       "      <td>TVAE</td>\n",
       "      <td>0.054739</td>\n",
       "      <td>SVCDetection</td>\n",
       "    </tr>\n",
       "    <tr>\n",
       "      <th>2</th>\n",
       "      <td>TVAE</td>\n",
       "      <td>0.787827</td>\n",
       "      <td>KSTest</td>\n",
       "    </tr>\n",
       "    <tr>\n",
       "      <th>3</th>\n",
       "      <td>TVAE</td>\n",
       "      <td>0.726082</td>\n",
       "      <td>ContinuousKLDivergence</td>\n",
       "    </tr>\n",
       "  </tbody>\n",
       "</table>\n",
       "</div>"
      ],
      "text/plain": [
       "       Model_name  Metric_score             Metric_name\n",
       "0  GaussianCopula      0.960906       LogisticDetection\n",
       "1  GaussianCopula      0.305031            SVCDetection\n",
       "2  GaussianCopula      0.957127                  KSTest\n",
       "3  GaussianCopula      0.942313  ContinuousKLDivergence\n",
       "0           CTGAN      0.586269       LogisticDetection\n",
       "1           CTGAN      0.221457            SVCDetection\n",
       "2           CTGAN      0.887944                  KSTest\n",
       "3           CTGAN      0.851864  ContinuousKLDivergence\n",
       "0       CopulaGAN      0.530831       LogisticDetection\n",
       "1       CopulaGAN      0.144144            SVCDetection\n",
       "2       CopulaGAN      0.880110                  KSTest\n",
       "3       CopulaGAN      0.773049  ContinuousKLDivergence\n",
       "0            TVAE      0.608183       LogisticDetection\n",
       "1            TVAE      0.054739            SVCDetection\n",
       "2            TVAE      0.787827                  KSTest\n",
       "3            TVAE      0.726082  ContinuousKLDivergence"
      ]
     },
     "execution_count": 26,
     "metadata": {},
     "output_type": "execute_result"
    }
   ],
   "source": [
    "gen_result = pd.DataFrame(index = np.arange(4))\n",
    "gen_result['Model_name'] = 'TVAE'\n",
    "gen_result['Metric_score'] = [v for k, v in gen_score.items()]\n",
    "gen_result['Metric_name'] = [k for k, v in gen_score.items()]\n",
    "\n",
    "gen_result_df_pca = pd.concat([gen_result_df_pca, gen_result])\n",
    "gen_result_df_pca"
   ]
  },
  {
   "cell_type": "code",
   "execution_count": 31,
   "metadata": {},
   "outputs": [
    {
     "data": {
      "image/png": "[encoded data removed]",
      "text/plain": [
       "<Figure size 1152x576 with 1 Axes>"
      ]
     },
     "metadata": {},
     "output_type": "display_data"
    }
   ],
   "source": [
    "def create_hist_values(df):\n",
    "    model_names = df['Model_name'].unique()\n",
    "    metric_names = df[\"Metric_name\"].unique()\n",
    "    hist_values = []\n",
    "    for model, metric in itertools.product(model_names, metric_names):\n",
    "        hist_values.append(df[(df['Model_name'] == model) & (df['Metric_name'] == metric)]['Metric_score'].values[0])\n",
    "    return hist_values\n",
    "\n",
    "rcParams['figure.figsize'] = (3, 3)\n",
    "matplotlib.rc('xtick', labelsize=15) \n",
    "matplotlib.rc('ytick', labelsize=15)\n",
    "sns.set(font_scale=1.8) \n",
    "plot = sns.catplot(data=gen_result_df_pca, x=\"Metric_name\", y=\"Metric_score\", hue=\"Model_name\", kind=\"bar\", aspect=2, height=8, palette=[\n",
    "    \"C1\", \"C2\", \"C0\", \"C3\", \"C4\"\n",
    "], legend=False)\n",
    "ax = plot.facet_axis(0,0)\n",
    "hist_val = create_hist_values(gen_result_df_pca)\n",
    "for (p, val) in zip(ax.patches, hist_val):\n",
    "    ax.text(p.get_x() - 0.01, \n",
    "            p.get_height() * 1.02, \n",
    "           '{:1.2f}'.format(val),   \n",
    "            color='black', \n",
    "            rotation='horizontal', \n",
    "            size='medium')\n",
    "plt.legend(loc='upper center', bbox_to_anchor=(0.5, -0.1), fancybox=True, ncol=5)\n",
    "plt.tight_layout()"
   ]
  },
  {
   "cell_type": "markdown",
   "metadata": {},
   "source": [
    "Видно, что GaussianCopula дает вполне приличное качество по всем метрикам. К тому же быстро обучается."
   ]
  },
  {
   "cell_type": "markdown",
   "metadata": {},
   "source": [
    "# Response function Real component quality"
   ]
  },
  {
   "cell_type": "markdown",
   "metadata": {},
   "source": [
    "Проверим, что использование эмбеддингов не ухудшает качество компоненты Real функции отклика."
   ]
  },
  {
   "cell_type": "markdown",
   "metadata": {},
   "source": [
    "# Logistic Regression"
   ]
  },
  {
   "cell_type": "code",
   "execution_count": 77,
   "metadata": {},
   "outputs": [
    {
     "name": "stderr",
     "output_type": "stream",
     "text": [
      "                                                                                \r"
     ]
    },
    {
     "name": "stdout",
     "output_type": "stream",
     "text": [
      "Fitting of logistic regression: \n",
      "58.82204461097717\n"
     ]
    }
   ],
   "source": [
    "va = VectorAssembler(\n",
    "    inputCols=pca_users.columns[1:] + items_df_train.columns[2:],\n",
    "    outputCol='features'\n",
    ")\n",
    "\n",
    "lr = LogisticRegression(\n",
    "    featuresCol='features',\n",
    "    labelCol='relevance',\n",
    "    probabilityCol='__lr_prob'\n",
    ")\n",
    "\n",
    "train_df = log_df_val.join(pca_users, 'user_idx', 'left')\\\n",
    "                     .join(items_df_train, 'item_idx', 'left')\\\n",
    "                     .drop('timestamp')\n",
    "train_df = train_df.na.drop()\n",
    "\n",
    "start = time.time()\n",
    "lr_model = lr.fit(va.transform(train_df))\n",
    "end = time.time()\n",
    "print(\"Fitting of logistic regression: \")\n",
    "print(end - start)"
   ]
  },
  {
   "cell_type": "code",
   "execution_count": 84,
   "metadata": {},
   "outputs": [],
   "source": [
    "vee = VectorElementExtractor(inputCol='__lr_prob', outputCol='__r1', index=1)\n",
    "br = BernoulliResponse (inputCol='__r1', outputCol='response', seed=1234)\n",
    "pipeline = Pipeline(\n",
    "    stages=[\n",
    "        va,\n",
    "        lr_model,\n",
    "        vee,\n",
    "        br\n",
    "    ]\n",
    ")"
   ]
  },
  {
   "cell_type": "code",
   "execution_count": 82,
   "metadata": {},
   "outputs": [],
   "source": [
    "test_df = log_df_test.join(pca_users_val, 'user_idx', 'left')\\\n",
    "                     .join(items_df_val, 'item_idx', 'left')\\\n",
    "                     .drop('timestamp')\n",
    "test_df = test_df.na.drop()"
   ]
  },
  {
   "cell_type": "code",
   "execution_count": 85,
   "metadata": {},
   "outputs": [
    {
     "name": "stdout",
     "output_type": "stream",
     "text": [
      "Pipeline fitting: \n",
      "0.00019621849060058594\n"
     ]
    },
    {
     "name": "stderr",
     "output_type": "stream",
     "text": [
      "                                                                                \r"
     ]
    }
   ],
   "source": [
    "start = time.time()\n",
    "ber_lr_model = pipeline.fit(train_df)\n",
    "end = time.time()\n",
    "print(\"Pipeline fitting: \")\n",
    "print(end - start)\n",
    "pred_df = ber_lr_model.transform(test_df).select(\"user_idx\", \"item_idx\", \"relevance\", \"__r1\").toPandas()"
   ]
  },
  {
   "cell_type": "code",
   "execution_count": 86,
   "metadata": {},
   "outputs": [
    {
     "name": "stdout",
     "output_type": "stream",
     "text": [
      "Regression ROC AUC: 0.7344131027798593\n"
     ]
    }
   ],
   "source": [
    "print(f\"Regression ROC AUC: {roc_auc_score(pred_df.relevance, pred_df.__r1)}\")"
   ]
  },
  {
   "cell_type": "markdown",
   "metadata": {},
   "source": [
    "# Random forest"
   ]
  },
  {
   "cell_type": "code",
   "execution_count": 87,
   "metadata": {},
   "outputs": [
    {
     "name": "stderr",
     "output_type": "stream",
     "text": [
      "                                                                                \r"
     ]
    },
    {
     "name": "stdout",
     "output_type": "stream",
     "text": [
      "Fitting of random forest: \n",
      "49.03646993637085\n"
     ]
    }
   ],
   "source": [
    "rf = RandomForestClassifier(\n",
    "    featuresCol='features',\n",
    "    labelCol='relevance',\n",
    "    probabilityCol='__rf_prob'\n",
    ")\n",
    "\n",
    "start = time.time()\n",
    "rf_model = rf.fit(va.transform(train_df))\n",
    "end = time.time()\n",
    "print(\"Fitting of random forest: \")\n",
    "print(end - start)"
   ]
  },
  {
   "cell_type": "code",
   "execution_count": 88,
   "metadata": {},
   "outputs": [],
   "source": [
    "vee = VectorElementExtractor(inputCol='__rf_prob', outputCol='__r1', index=1)\n",
    "br = BernoulliResponse(inputCol='__r1', outputCol='response', seed=1234)\n",
    "pipeline = Pipeline(\n",
    "    stages=[\n",
    "        va,\n",
    "        rf_model,\n",
    "        vee,\n",
    "        br\n",
    "    ]\n",
    ")"
   ]
  },
  {
   "cell_type": "code",
   "execution_count": 89,
   "metadata": {},
   "outputs": [
    {
     "name": "stdout",
     "output_type": "stream",
     "text": [
      "Pipeline fitting: \n",
      "0.0013325214385986328\n"
     ]
    },
    {
     "name": "stderr",
     "output_type": "stream",
     "text": [
      "                                                                                \r"
     ]
    }
   ],
   "source": [
    "start = time.time()\n",
    "ber_rf_model = pipeline.fit(train_df)\n",
    "end = time.time()\n",
    "print(\"Pipeline fitting: \")\n",
    "print(end - start)\n",
    "pred_df = ber_rf_model.transform(test_df).select(\"user_idx\", \"item_idx\", \"relevance\", \"__r1\").toPandas()"
   ]
  },
  {
   "cell_type": "code",
   "execution_count": 90,
   "metadata": {},
   "outputs": [
    {
     "name": "stdout",
     "output_type": "stream",
     "text": [
      "Random forest ROC AUC: 0.7060553470795717\n"
     ]
    }
   ],
   "source": [
    "print(f\"Random forest ROC AUC: {roc_auc_score(pred_df.relevance, pred_df.__r1)}\")"
   ]
  },
  {
   "cell_type": "markdown",
   "metadata": {},
   "source": [
    "# Factorization machines"
   ]
  },
  {
   "cell_type": "code",
   "execution_count": 91,
   "metadata": {},
   "outputs": [
    {
     "name": "stderr",
     "output_type": "stream",
     "text": [
      "                                                                                \r"
     ]
    },
    {
     "name": "stdout",
     "output_type": "stream",
     "text": [
      "Fitting of factorization machines: \n",
      "1590.3620653152466\n"
     ]
    }
   ],
   "source": [
    "fm = FMClassifier(\n",
    "    featuresCol='features',\n",
    "    labelCol='relevance',\n",
    "    probabilityCol='__fm_prob'\n",
    ")\n",
    "\n",
    "start = time.time()\n",
    "fm_model = fm.fit(va.transform(train_df))\n",
    "end = time.time()\n",
    "print(\"Fitting of factorization machines: \")\n",
    "print(end - start)"
   ]
  },
  {
   "cell_type": "code",
   "execution_count": 92,
   "metadata": {},
   "outputs": [],
   "source": [
    "vee = VectorElementExtractor(inputCol='__fm_prob', outputCol='__r1', index=1)\n",
    "br = BernoulliResponse(inputCol='__r1', outputCol='response', seed=1234)\n",
    "pipeline = Pipeline(\n",
    "    stages=[\n",
    "        va,\n",
    "        fm_model,\n",
    "        vee,\n",
    "        br\n",
    "    ]\n",
    ")"
   ]
  },
  {
   "cell_type": "code",
   "execution_count": 93,
   "metadata": {},
   "outputs": [
    {
     "name": "stdout",
     "output_type": "stream",
     "text": [
      "Pipeline fitting: \n",
      "0.00039696693420410156\n"
     ]
    },
    {
     "name": "stderr",
     "output_type": "stream",
     "text": [
      "                                                                                \r"
     ]
    }
   ],
   "source": [
    "start = time.time()\n",
    "ber_fm_model = pipeline.fit(train_df)\n",
    "end = time.time()\n",
    "print(\"Pipeline fitting: \")\n",
    "print(end - start)\n",
    "pred_df = ber_fm_model.transform(test_df).select(\"user_idx\", \"item_idx\", \"relevance\", \"__r1\").toPandas()"
   ]
  },
  {
   "cell_type": "code",
   "execution_count": 94,
   "metadata": {},
   "outputs": [
    {
     "name": "stdout",
     "output_type": "stream",
     "text": [
      "Factorization machines ROC AUC: 0.6982117910356826\n"
     ]
    }
   ],
   "source": [
    "print(f\"Factorization machines ROC AUC: {roc_auc_score(pred_df.relevance, pred_df.__r1)}\")"
   ]
  },
  {
   "cell_type": "markdown",
   "metadata": {},
   "source": [
    "Оказалось, что при использовании эмбеддингов PCA качество компоненты Real выше, чем в случае использования исходных атрибутов."
   ]
  },
  {
   "cell_type": "markdown",
   "metadata": {},
   "source": [
    "# Non-negative ALS"
   ]
  },
  {
   "cell_type": "markdown",
   "metadata": {},
   "source": [
    "Проделаем те же самые эксперименты с другим методом генерации эмбеддингов."
   ]
  },
  {
   "cell_type": "code",
   "execution_count": 95,
   "metadata": {},
   "outputs": [],
   "source": [
    "log_df_train = log_df_train.withColumnRenamed('user_idx', 'user')\n",
    "log_df_train = log_df_train.withColumnRenamed('item_idx', 'item')\n",
    "log_df_train = log_df_train.withColumnRenamed('relevance', 'rating')"
   ]
  },
  {
   "cell_type": "code",
   "execution_count": 96,
   "metadata": {},
   "outputs": [
    {
     "name": "stderr",
     "output_type": "stream",
     "text": [
      "                                                                                \r"
     ]
    },
    {
     "name": "stdout",
     "output_type": "stream",
     "text": [
      "Fitting of ALS: \n",
      "21.011656522750854\n"
     ]
    }
   ],
   "source": [
    "als = ALS(rank=15, maxIter=10, seed=0, nonnegative = True)\n",
    "start = time.time()\n",
    "model = als.fit(log_df_train.select([\"user\", \"item\", \"rating\"]))\n",
    "end = time.time()\n",
    "print(\"Fitting of ALS: \")\n",
    "print(end - start)"
   ]
  },
  {
   "cell_type": "code",
   "execution_count": 97,
   "metadata": {},
   "outputs": [
    {
     "data": {
      "text/html": [
       "<div>\n",
       "<style scoped>\n",
       "    .dataframe tbody tr th:only-of-type {\n",
       "        vertical-align: middle;\n",
       "    }\n",
       "\n",
       "    .dataframe tbody tr th {\n",
       "        vertical-align: top;\n",
       "    }\n",
       "\n",
       "    .dataframe thead th {\n",
       "        text-align: right;\n",
       "    }\n",
       "</style>\n",
       "<table border=\"1\" class=\"dataframe\">\n",
       "  <thead>\n",
       "    <tr style=\"text-align: right;\">\n",
       "      <th></th>\n",
       "      <th>id</th>\n",
       "      <th>user_feature[0]</th>\n",
       "      <th>user_feature[1]</th>\n",
       "      <th>user_feature[2]</th>\n",
       "      <th>user_feature[3]</th>\n",
       "      <th>user_feature[4]</th>\n",
       "      <th>user_feature[5]</th>\n",
       "      <th>user_feature[6]</th>\n",
       "      <th>user_feature[7]</th>\n",
       "      <th>user_feature[8]</th>\n",
       "      <th>user_feature[9]</th>\n",
       "      <th>user_feature[10]</th>\n",
       "      <th>user_feature[11]</th>\n",
       "      <th>user_feature[12]</th>\n",
       "      <th>user_feature[13]</th>\n",
       "      <th>user_feature[14]</th>\n",
       "    </tr>\n",
       "  </thead>\n",
       "  <tbody>\n",
       "    <tr>\n",
       "      <th>0</th>\n",
       "      <td>1</td>\n",
       "      <td>0.366036</td>\n",
       "      <td>0.167967</td>\n",
       "      <td>0.310271</td>\n",
       "      <td>0.163908</td>\n",
       "      <td>0.245759</td>\n",
       "      <td>0.115145</td>\n",
       "      <td>0.192681</td>\n",
       "      <td>0.318888</td>\n",
       "      <td>0.295416</td>\n",
       "      <td>0.109105</td>\n",
       "      <td>0.413338</td>\n",
       "      <td>0.215165</td>\n",
       "      <td>0.154725</td>\n",
       "      <td>0.252735</td>\n",
       "      <td>0.156242</td>\n",
       "    </tr>\n",
       "    <tr>\n",
       "      <th>1</th>\n",
       "      <td>2</td>\n",
       "      <td>0.346396</td>\n",
       "      <td>0.153690</td>\n",
       "      <td>0.320338</td>\n",
       "      <td>0.151222</td>\n",
       "      <td>0.227186</td>\n",
       "      <td>0.112479</td>\n",
       "      <td>0.201141</td>\n",
       "      <td>0.299084</td>\n",
       "      <td>0.275671</td>\n",
       "      <td>0.119904</td>\n",
       "      <td>0.394898</td>\n",
       "      <td>0.212090</td>\n",
       "      <td>0.161613</td>\n",
       "      <td>0.238222</td>\n",
       "      <td>0.151326</td>\n",
       "    </tr>\n",
       "    <tr>\n",
       "      <th>2</th>\n",
       "      <td>3</td>\n",
       "      <td>0.343621</td>\n",
       "      <td>0.145792</td>\n",
       "      <td>0.372653</td>\n",
       "      <td>0.144291</td>\n",
       "      <td>0.217801</td>\n",
       "      <td>0.119706</td>\n",
       "      <td>0.237619</td>\n",
       "      <td>0.298569</td>\n",
       "      <td>0.271030</td>\n",
       "      <td>0.152626</td>\n",
       "      <td>0.401229</td>\n",
       "      <td>0.232599</td>\n",
       "      <td>0.194233</td>\n",
       "      <td>0.240645</td>\n",
       "      <td>0.162552</td>\n",
       "    </tr>\n",
       "    <tr>\n",
       "      <th>3</th>\n",
       "      <td>4</td>\n",
       "      <td>0.305827</td>\n",
       "      <td>0.104898</td>\n",
       "      <td>0.462517</td>\n",
       "      <td>0.111623</td>\n",
       "      <td>0.168905</td>\n",
       "      <td>0.121152</td>\n",
       "      <td>0.313653</td>\n",
       "      <td>0.249925</td>\n",
       "      <td>0.230524</td>\n",
       "      <td>0.227674</td>\n",
       "      <td>0.373914</td>\n",
       "      <td>0.246961</td>\n",
       "      <td>0.250386</td>\n",
       "      <td>0.206972</td>\n",
       "      <td>0.160188</td>\n",
       "    </tr>\n",
       "    <tr>\n",
       "      <th>4</th>\n",
       "      <td>5</td>\n",
       "      <td>0.331969</td>\n",
       "      <td>0.140618</td>\n",
       "      <td>0.345012</td>\n",
       "      <td>0.140473</td>\n",
       "      <td>0.210842</td>\n",
       "      <td>0.111977</td>\n",
       "      <td>0.222971</td>\n",
       "      <td>0.282670</td>\n",
       "      <td>0.262012</td>\n",
       "      <td>0.142079</td>\n",
       "      <td>0.383227</td>\n",
       "      <td>0.215257</td>\n",
       "      <td>0.177955</td>\n",
       "      <td>0.226737</td>\n",
       "      <td>0.150010</td>\n",
       "    </tr>\n",
       "    <tr>\n",
       "      <th>...</th>\n",
       "      <td>...</td>\n",
       "      <td>...</td>\n",
       "      <td>...</td>\n",
       "      <td>...</td>\n",
       "      <td>...</td>\n",
       "      <td>...</td>\n",
       "      <td>...</td>\n",
       "      <td>...</td>\n",
       "      <td>...</td>\n",
       "      <td>...</td>\n",
       "      <td>...</td>\n",
       "      <td>...</td>\n",
       "      <td>...</td>\n",
       "      <td>...</td>\n",
       "      <td>...</td>\n",
       "      <td>...</td>\n",
       "    </tr>\n",
       "    <tr>\n",
       "      <th>80645</th>\n",
       "      <td>138483</td>\n",
       "      <td>0.341975</td>\n",
       "      <td>0.164484</td>\n",
       "      <td>0.238430</td>\n",
       "      <td>0.159197</td>\n",
       "      <td>0.237523</td>\n",
       "      <td>0.100451</td>\n",
       "      <td>0.143573</td>\n",
       "      <td>0.298648</td>\n",
       "      <td>0.279270</td>\n",
       "      <td>0.069936</td>\n",
       "      <td>0.377592</td>\n",
       "      <td>0.181788</td>\n",
       "      <td>0.113588</td>\n",
       "      <td>0.234198</td>\n",
       "      <td>0.136149</td>\n",
       "    </tr>\n",
       "    <tr>\n",
       "      <th>80646</th>\n",
       "      <td>138484</td>\n",
       "      <td>0.326795</td>\n",
       "      <td>0.138025</td>\n",
       "      <td>0.341891</td>\n",
       "      <td>0.138013</td>\n",
       "      <td>0.207084</td>\n",
       "      <td>0.110521</td>\n",
       "      <td>0.221111</td>\n",
       "      <td>0.278134</td>\n",
       "      <td>0.257657</td>\n",
       "      <td>0.141354</td>\n",
       "      <td>0.377557</td>\n",
       "      <td>0.212654</td>\n",
       "      <td>0.176544</td>\n",
       "      <td>0.223221</td>\n",
       "      <td>0.148033</td>\n",
       "    </tr>\n",
       "    <tr>\n",
       "      <th>80647</th>\n",
       "      <td>138487</td>\n",
       "      <td>0.351613</td>\n",
       "      <td>0.147077</td>\n",
       "      <td>0.394814</td>\n",
       "      <td>0.145958</td>\n",
       "      <td>0.220357</td>\n",
       "      <td>0.124499</td>\n",
       "      <td>0.252153</td>\n",
       "      <td>0.305143</td>\n",
       "      <td>0.275436</td>\n",
       "      <td>0.164326</td>\n",
       "      <td>0.412367</td>\n",
       "      <td>0.242892</td>\n",
       "      <td>0.206809</td>\n",
       "      <td>0.246546</td>\n",
       "      <td>0.168811</td>\n",
       "    </tr>\n",
       "    <tr>\n",
       "      <th>80648</th>\n",
       "      <td>138488</td>\n",
       "      <td>0.277533</td>\n",
       "      <td>0.107765</td>\n",
       "      <td>0.347055</td>\n",
       "      <td>0.110121</td>\n",
       "      <td>0.165953</td>\n",
       "      <td>0.101430</td>\n",
       "      <td>0.228548</td>\n",
       "      <td>0.233094</td>\n",
       "      <td>0.213485</td>\n",
       "      <td>0.156313</td>\n",
       "      <td>0.328949</td>\n",
       "      <td>0.200305</td>\n",
       "      <td>0.183627</td>\n",
       "      <td>0.189781</td>\n",
       "      <td>0.135011</td>\n",
       "    </tr>\n",
       "    <tr>\n",
       "      <th>80649</th>\n",
       "      <td>138490</td>\n",
       "      <td>0.334481</td>\n",
       "      <td>0.150036</td>\n",
       "      <td>0.300099</td>\n",
       "      <td>0.147524</td>\n",
       "      <td>0.220937</td>\n",
       "      <td>0.107061</td>\n",
       "      <td>0.188979</td>\n",
       "      <td>0.288778</td>\n",
       "      <td>0.267791</td>\n",
       "      <td>0.111331</td>\n",
       "      <td>0.379348</td>\n",
       "      <td>0.201253</td>\n",
       "      <td>0.151081</td>\n",
       "      <td>0.229480</td>\n",
       "      <td>0.144346</td>\n",
       "    </tr>\n",
       "  </tbody>\n",
       "</table>\n",
       "<p>80650 rows × 16 columns</p>\n",
       "</div>"
      ],
      "text/plain": [
       "           id  user_feature[0]  user_feature[1]  user_feature[2]  \\\n",
       "0           1         0.366036         0.167967         0.310271   \n",
       "1           2         0.346396         0.153690         0.320338   \n",
       "2           3         0.343621         0.145792         0.372653   \n",
       "3           4         0.305827         0.104898         0.462517   \n",
       "4           5         0.331969         0.140618         0.345012   \n",
       "...       ...              ...              ...              ...   \n",
       "80645  138483         0.341975         0.164484         0.238430   \n",
       "80646  138484         0.326795         0.138025         0.341891   \n",
       "80647  138487         0.351613         0.147077         0.394814   \n",
       "80648  138488         0.277533         0.107765         0.347055   \n",
       "80649  138490         0.334481         0.150036         0.300099   \n",
       "\n",
       "       user_feature[3]  user_feature[4]  user_feature[5]  user_feature[6]  \\\n",
       "0             0.163908         0.245759         0.115145         0.192681   \n",
       "1             0.151222         0.227186         0.112479         0.201141   \n",
       "2             0.144291         0.217801         0.119706         0.237619   \n",
       "3             0.111623         0.168905         0.121152         0.313653   \n",
       "4             0.140473         0.210842         0.111977         0.222971   \n",
       "...                ...              ...              ...              ...   \n",
       "80645         0.159197         0.237523         0.100451         0.143573   \n",
       "80646         0.138013         0.207084         0.110521         0.221111   \n",
       "80647         0.145958         0.220357         0.124499         0.252153   \n",
       "80648         0.110121         0.165953         0.101430         0.228548   \n",
       "80649         0.147524         0.220937         0.107061         0.188979   \n",
       "\n",
       "       user_feature[7]  user_feature[8]  user_feature[9]  user_feature[10]  \\\n",
       "0             0.318888         0.295416         0.109105          0.413338   \n",
       "1             0.299084         0.275671         0.119904          0.394898   \n",
       "2             0.298569         0.271030         0.152626          0.401229   \n",
       "3             0.249925         0.230524         0.227674          0.373914   \n",
       "4             0.282670         0.262012         0.142079          0.383227   \n",
       "...                ...              ...              ...               ...   \n",
       "80645         0.298648         0.279270         0.069936          0.377592   \n",
       "80646         0.278134         0.257657         0.141354          0.377557   \n",
       "80647         0.305143         0.275436         0.164326          0.412367   \n",
       "80648         0.233094         0.213485         0.156313          0.328949   \n",
       "80649         0.288778         0.267791         0.111331          0.379348   \n",
       "\n",
       "       user_feature[11]  user_feature[12]  user_feature[13]  user_feature[14]  \n",
       "0              0.215165          0.154725          0.252735          0.156242  \n",
       "1              0.212090          0.161613          0.238222          0.151326  \n",
       "2              0.232599          0.194233          0.240645          0.162552  \n",
       "3              0.246961          0.250386          0.206972          0.160188  \n",
       "4              0.215257          0.177955          0.226737          0.150010  \n",
       "...                 ...               ...               ...               ...  \n",
       "80645          0.181788          0.113588          0.234198          0.136149  \n",
       "80646          0.212654          0.176544          0.223221          0.148033  \n",
       "80647          0.242892          0.206809          0.246546          0.168811  \n",
       "80648          0.200305          0.183627          0.189781          0.135011  \n",
       "80649          0.201253          0.151081          0.229480          0.144346  \n",
       "\n",
       "[80650 rows x 16 columns]"
      ]
     },
     "execution_count": 97,
     "metadata": {},
     "output_type": "execute_result"
    }
   ],
   "source": [
    "user_features = model.userFactors.orderBy(\"id\")\n",
    "user_features = (user_features.withColumn('user_feature', col('features'))).select(['id'] + [col('user_feature')[i] for i in range(15)])\n",
    "user_features.toPandas()"
   ]
  },
  {
   "cell_type": "code",
   "execution_count": 103,
   "metadata": {},
   "outputs": [],
   "source": [
    "log_df_val = log_df_val.withColumnRenamed('user_idx', 'user')\n",
    "log_df_val = log_df_val.withColumnRenamed('item_idx', 'item')\n",
    "log_df_val = log_df_val.withColumnRenamed('relevance', 'rating')"
   ]
  },
  {
   "cell_type": "code",
   "execution_count": 104,
   "metadata": {},
   "outputs": [
    {
     "name": "stderr",
     "output_type": "stream",
     "text": [
      "                                                                                \r"
     ]
    },
    {
     "name": "stdout",
     "output_type": "stream",
     "text": [
      "Fitting of ALS: \n",
      "11.834988594055176\n"
     ]
    }
   ],
   "source": [
    "start = time.time()\n",
    "model_val = als.fit(log_df_val.select([\"user\", \"item\", \"rating\"]))\n",
    "end = time.time()\n",
    "print(\"Fitting of ALS: \")\n",
    "print(end - start)\n",
    "user_features_val = model_val.userFactors.orderBy(\"id\")\n",
    "user_features_val = (user_features_val.withColumn('user_feature', col('features'))).select(['id'] + [col('user_feature')[i] for i in range(15)])"
   ]
  },
  {
   "cell_type": "code",
   "execution_count": 105,
   "metadata": {},
   "outputs": [],
   "source": [
    "log_df_train = log_df_train.withColumnRenamed('user', 'user_idx')\n",
    "log_df_train = log_df_train.withColumnRenamed('item', 'item_idx')\n",
    "log_df_train = log_df_train.withColumnRenamed('rating', 'relevance')\n",
    "\n",
    "log_df_val = log_df_val.withColumnRenamed('user', 'user_idx')\n",
    "log_df_val = log_df_val.withColumnRenamed('item', 'item_idx')\n",
    "log_df_val = log_df_val.withColumnRenamed('rating', 'relevance')"
   ]
  },
  {
   "cell_type": "markdown",
   "metadata": {},
   "source": [
    "# Generators quality with NMF"
   ]
  },
  {
   "cell_type": "markdown",
   "metadata": {},
   "source": [
    "# GaussianCopula"
   ]
  },
  {
   "cell_type": "code",
   "execution_count": 143,
   "metadata": {},
   "outputs": [
    {
     "name": "stdout",
     "output_type": "stream",
     "text": [
      "Fitting of GaussianCopula on NMF embeddings: \n",
      "59.82585644721985\n"
     ]
    }
   ],
   "source": [
    "generator_1 = SDVDataGenerator(\n",
    "    label='synth',\n",
    "    id_column_name='user_id',\n",
    "    model_name='gaussiancopula',\n",
    "    parallelization_level=4,\n",
    "    device_name='cpu',\n",
    "    seed=1234\n",
    ")\n",
    "\n",
    "start = time.time()\n",
    "generator_1.fit(user_features.drop('id'))\n",
    "end = time.time()\n",
    "print(\"Fitting of GaussianCopula on NMF embeddings: \")\n",
    "print(end - start)"
   ]
  },
  {
   "cell_type": "code",
   "execution_count": 144,
   "metadata": {},
   "outputs": [
    {
     "name": "stderr",
     "output_type": "stream",
     "text": [
      "                                                                                \r"
     ]
    }
   ],
   "source": [
    "real_users = user_features.sample(0.12)\n",
    "syn_users = generator_1.generate(real_users.count())\n",
    "gen_score = evaluate_synthetic(\n",
    "    syn_users.drop('user_id'),\n",
    "    real_users.drop('id')\n",
    ")"
   ]
  },
  {
   "cell_type": "code",
   "execution_count": 145,
   "metadata": {},
   "outputs": [
    {
     "data": {
      "text/plain": [
       "{'LogisticDetection': 0.39733309970781405,\n",
       " 'SVCDetection': 0.4035581096565378,\n",
       " 'KSTest': 0.9213842356720892,\n",
       " 'ContinuousKLDivergence': 0.7948041892128036}"
      ]
     },
     "execution_count": 145,
     "metadata": {},
     "output_type": "execute_result"
    }
   ],
   "source": [
    "gen_score"
   ]
  },
  {
   "cell_type": "code",
   "execution_count": 146,
   "metadata": {},
   "outputs": [
    {
     "data": {
      "text/html": [
       "<div>\n",
       "<style scoped>\n",
       "    .dataframe tbody tr th:only-of-type {\n",
       "        vertical-align: middle;\n",
       "    }\n",
       "\n",
       "    .dataframe tbody tr th {\n",
       "        vertical-align: top;\n",
       "    }\n",
       "\n",
       "    .dataframe thead th {\n",
       "        text-align: right;\n",
       "    }\n",
       "</style>\n",
       "<table border=\"1\" class=\"dataframe\">\n",
       "  <thead>\n",
       "    <tr style=\"text-align: right;\">\n",
       "      <th></th>\n",
       "      <th>Model_name</th>\n",
       "      <th>Metric_score</th>\n",
       "      <th>Metric_name</th>\n",
       "    </tr>\n",
       "  </thead>\n",
       "  <tbody>\n",
       "    <tr>\n",
       "      <th>0</th>\n",
       "      <td>GaussianCopula</td>\n",
       "      <td>0.397333</td>\n",
       "      <td>LogisticDetection</td>\n",
       "    </tr>\n",
       "    <tr>\n",
       "      <th>1</th>\n",
       "      <td>GaussianCopula</td>\n",
       "      <td>0.403558</td>\n",
       "      <td>SVCDetection</td>\n",
       "    </tr>\n",
       "    <tr>\n",
       "      <th>2</th>\n",
       "      <td>GaussianCopula</td>\n",
       "      <td>0.921384</td>\n",
       "      <td>KSTest</td>\n",
       "    </tr>\n",
       "    <tr>\n",
       "      <th>3</th>\n",
       "      <td>GaussianCopula</td>\n",
       "      <td>0.794804</td>\n",
       "      <td>ContinuousKLDivergence</td>\n",
       "    </tr>\n",
       "  </tbody>\n",
       "</table>\n",
       "</div>"
      ],
      "text/plain": [
       "       Model_name  Metric_score             Metric_name\n",
       "0  GaussianCopula      0.397333       LogisticDetection\n",
       "1  GaussianCopula      0.403558            SVCDetection\n",
       "2  GaussianCopula      0.921384                  KSTest\n",
       "3  GaussianCopula      0.794804  ContinuousKLDivergence"
      ]
     },
     "execution_count": 146,
     "metadata": {},
     "output_type": "execute_result"
    }
   ],
   "source": [
    "gen_result = pd.DataFrame(index = np.arange(4))\n",
    "gen_result['Model_name'] = 'GaussianCopula'\n",
    "gen_result['Metric_score'] = [v for k, v in gen_score.items()]\n",
    "gen_result['Metric_name'] = [k for k, v in gen_score.items()]\n",
    "\n",
    "gen_result_df_nmf = pd.DataFrame()\n",
    "gen_result_df_nmf = pd.concat([gen_result_df_nmf, gen_result])\n",
    "gen_result_df_nmf"
   ]
  },
  {
   "cell_type": "markdown",
   "metadata": {},
   "source": [
    "# CTGAN"
   ]
  },
  {
   "cell_type": "code",
   "execution_count": 147,
   "metadata": {},
   "outputs": [
    {
     "name": "stdout",
     "output_type": "stream",
     "text": [
      "Fitting of CTGAN on NMF embeddings: \n",
      "3750.494525909424\n"
     ]
    }
   ],
   "source": [
    "generator_2 = SDVDataGenerator(\n",
    "    label='synth',\n",
    "    id_column_name='user_id',\n",
    "    model_name='ctgan',\n",
    "    parallelization_level=4,\n",
    "    device_name='cpu',\n",
    "    seed=1234\n",
    ")\n",
    "\n",
    "start = time.time()\n",
    "generator_2.fit(user_features.drop('id'))\n",
    "end = time.time()\n",
    "print(\"Fitting of CTGAN on NMF embeddings: \")\n",
    "print(end - start)"
   ]
  },
  {
   "cell_type": "code",
   "execution_count": 148,
   "metadata": {},
   "outputs": [
    {
     "name": "stderr",
     "output_type": "stream",
     "text": [
      "                                                                                \r"
     ]
    }
   ],
   "source": [
    "real_users = user_features.sample(0.12)\n",
    "syn_users = generator_2.generate(real_users.count())\n",
    "gen_score = evaluate_synthetic(\n",
    "    syn_users.drop('user_id'),\n",
    "    real_users.drop('id')\n",
    ")"
   ]
  },
  {
   "cell_type": "code",
   "execution_count": 149,
   "metadata": {},
   "outputs": [
    {
     "data": {
      "text/plain": [
       "{'LogisticDetection': 0.613782865687607,\n",
       " 'SVCDetection': 0.009318144788614036,\n",
       " 'KSTest': 0.9445163322044637,\n",
       " 'ContinuousKLDivergence': 0.7771859751128865}"
      ]
     },
     "execution_count": 149,
     "metadata": {},
     "output_type": "execute_result"
    }
   ],
   "source": [
    "gen_score"
   ]
  },
  {
   "cell_type": "code",
   "execution_count": 150,
   "metadata": {},
   "outputs": [
    {
     "data": {
      "text/html": [
       "<div>\n",
       "<style scoped>\n",
       "    .dataframe tbody tr th:only-of-type {\n",
       "        vertical-align: middle;\n",
       "    }\n",
       "\n",
       "    .dataframe tbody tr th {\n",
       "        vertical-align: top;\n",
       "    }\n",
       "\n",
       "    .dataframe thead th {\n",
       "        text-align: right;\n",
       "    }\n",
       "</style>\n",
       "<table border=\"1\" class=\"dataframe\">\n",
       "  <thead>\n",
       "    <tr style=\"text-align: right;\">\n",
       "      <th></th>\n",
       "      <th>Model_name</th>\n",
       "      <th>Metric_score</th>\n",
       "      <th>Metric_name</th>\n",
       "    </tr>\n",
       "  </thead>\n",
       "  <tbody>\n",
       "    <tr>\n",
       "      <th>0</th>\n",
       "      <td>GaussianCopula</td>\n",
       "      <td>0.397333</td>\n",
       "      <td>LogisticDetection</td>\n",
       "    </tr>\n",
       "    <tr>\n",
       "      <th>1</th>\n",
       "      <td>GaussianCopula</td>\n",
       "      <td>0.403558</td>\n",
       "      <td>SVCDetection</td>\n",
       "    </tr>\n",
       "    <tr>\n",
       "      <th>2</th>\n",
       "      <td>GaussianCopula</td>\n",
       "      <td>0.921384</td>\n",
       "      <td>KSTest</td>\n",
       "    </tr>\n",
       "    <tr>\n",
       "      <th>3</th>\n",
       "      <td>GaussianCopula</td>\n",
       "      <td>0.794804</td>\n",
       "      <td>ContinuousKLDivergence</td>\n",
       "    </tr>\n",
       "    <tr>\n",
       "      <th>0</th>\n",
       "      <td>CTGAN</td>\n",
       "      <td>0.613783</td>\n",
       "      <td>LogisticDetection</td>\n",
       "    </tr>\n",
       "    <tr>\n",
       "      <th>1</th>\n",
       "      <td>CTGAN</td>\n",
       "      <td>0.009318</td>\n",
       "      <td>SVCDetection</td>\n",
       "    </tr>\n",
       "    <tr>\n",
       "      <th>2</th>\n",
       "      <td>CTGAN</td>\n",
       "      <td>0.944516</td>\n",
       "      <td>KSTest</td>\n",
       "    </tr>\n",
       "    <tr>\n",
       "      <th>3</th>\n",
       "      <td>CTGAN</td>\n",
       "      <td>0.777186</td>\n",
       "      <td>ContinuousKLDivergence</td>\n",
       "    </tr>\n",
       "  </tbody>\n",
       "</table>\n",
       "</div>"
      ],
      "text/plain": [
       "       Model_name  Metric_score             Metric_name\n",
       "0  GaussianCopula      0.397333       LogisticDetection\n",
       "1  GaussianCopula      0.403558            SVCDetection\n",
       "2  GaussianCopula      0.921384                  KSTest\n",
       "3  GaussianCopula      0.794804  ContinuousKLDivergence\n",
       "0           CTGAN      0.613783       LogisticDetection\n",
       "1           CTGAN      0.009318            SVCDetection\n",
       "2           CTGAN      0.944516                  KSTest\n",
       "3           CTGAN      0.777186  ContinuousKLDivergence"
      ]
     },
     "execution_count": 150,
     "metadata": {},
     "output_type": "execute_result"
    }
   ],
   "source": [
    "gen_result = pd.DataFrame(index = np.arange(4))\n",
    "gen_result['Model_name'] = 'CTGAN'\n",
    "gen_result['Metric_score'] = [v for k, v in gen_score.items()]\n",
    "gen_result['Metric_name'] = [k for k, v in gen_score.items()]\n",
    "\n",
    "gen_result_df_nmf = pd.concat([gen_result_df_nmf, gen_result])\n",
    "gen_result_df_nmf"
   ]
  },
  {
   "cell_type": "markdown",
   "metadata": {},
   "source": [
    "# CopulaGAN"
   ]
  },
  {
   "cell_type": "code",
   "execution_count": 151,
   "metadata": {},
   "outputs": [
    {
     "name": "stdout",
     "output_type": "stream",
     "text": [
      "Fitting of CopulaGAN on non-negative ALS embeddings: \n",
      "3827.537360906601\n"
     ]
    }
   ],
   "source": [
    "generator_3 = SDVDataGenerator(\n",
    "    label='synth',\n",
    "    id_column_name='user_id',\n",
    "    model_name='copulagan',\n",
    "    parallelization_level=4,\n",
    "    device_name='cpu',\n",
    "    seed=1234\n",
    ")\n",
    "\n",
    "start = time.time()\n",
    "generator_3.fit(user_features.drop('id'))\n",
    "end = time.time()\n",
    "print(\"Fitting of CopulaGAN on non-negative ALS embeddings: \")\n",
    "print(end - start)"
   ]
  },
  {
   "cell_type": "code",
   "execution_count": 152,
   "metadata": {},
   "outputs": [
    {
     "name": "stderr",
     "output_type": "stream",
     "text": [
      "                                                                                \r"
     ]
    }
   ],
   "source": [
    "real_users = user_features.sample(0.12)\n",
    "syn_users = generator_3.generate(real_users.count())\n",
    "gen_score = evaluate_synthetic(\n",
    "    syn_users.drop('user_id'),\n",
    "    real_users.drop('id')\n",
    ")"
   ]
  },
  {
   "cell_type": "code",
   "execution_count": 153,
   "metadata": {},
   "outputs": [
    {
     "data": {
      "text/plain": [
       "{'LogisticDetection': 0.8000165480096171,\n",
       " 'SVCDetection': 0.01769184642172128,\n",
       " 'KSTest': 0.954912511818853,\n",
       " 'ContinuousKLDivergence': 0.7864973306546846}"
      ]
     },
     "execution_count": 153,
     "metadata": {},
     "output_type": "execute_result"
    }
   ],
   "source": [
    "gen_score"
   ]
  },
  {
   "cell_type": "code",
   "execution_count": 154,
   "metadata": {},
   "outputs": [
    {
     "data": {
      "text/html": [
       "<div>\n",
       "<style scoped>\n",
       "    .dataframe tbody tr th:only-of-type {\n",
       "        vertical-align: middle;\n",
       "    }\n",
       "\n",
       "    .dataframe tbody tr th {\n",
       "        vertical-align: top;\n",
       "    }\n",
       "\n",
       "    .dataframe thead th {\n",
       "        text-align: right;\n",
       "    }\n",
       "</style>\n",
       "<table border=\"1\" class=\"dataframe\">\n",
       "  <thead>\n",
       "    <tr style=\"text-align: right;\">\n",
       "      <th></th>\n",
       "      <th>Model_name</th>\n",
       "      <th>Metric_score</th>\n",
       "      <th>Metric_name</th>\n",
       "    </tr>\n",
       "  </thead>\n",
       "  <tbody>\n",
       "    <tr>\n",
       "      <th>0</th>\n",
       "      <td>GaussianCopula</td>\n",
       "      <td>0.397333</td>\n",
       "      <td>LogisticDetection</td>\n",
       "    </tr>\n",
       "    <tr>\n",
       "      <th>1</th>\n",
       "      <td>GaussianCopula</td>\n",
       "      <td>0.403558</td>\n",
       "      <td>SVCDetection</td>\n",
       "    </tr>\n",
       "    <tr>\n",
       "      <th>2</th>\n",
       "      <td>GaussianCopula</td>\n",
       "      <td>0.921384</td>\n",
       "      <td>KSTest</td>\n",
       "    </tr>\n",
       "    <tr>\n",
       "      <th>3</th>\n",
       "      <td>GaussianCopula</td>\n",
       "      <td>0.794804</td>\n",
       "      <td>ContinuousKLDivergence</td>\n",
       "    </tr>\n",
       "    <tr>\n",
       "      <th>0</th>\n",
       "      <td>CTGAN</td>\n",
       "      <td>0.613783</td>\n",
       "      <td>LogisticDetection</td>\n",
       "    </tr>\n",
       "    <tr>\n",
       "      <th>1</th>\n",
       "      <td>CTGAN</td>\n",
       "      <td>0.009318</td>\n",
       "      <td>SVCDetection</td>\n",
       "    </tr>\n",
       "    <tr>\n",
       "      <th>2</th>\n",
       "      <td>CTGAN</td>\n",
       "      <td>0.944516</td>\n",
       "      <td>KSTest</td>\n",
       "    </tr>\n",
       "    <tr>\n",
       "      <th>3</th>\n",
       "      <td>CTGAN</td>\n",
       "      <td>0.777186</td>\n",
       "      <td>ContinuousKLDivergence</td>\n",
       "    </tr>\n",
       "    <tr>\n",
       "      <th>0</th>\n",
       "      <td>CopulaGAN</td>\n",
       "      <td>0.800017</td>\n",
       "      <td>LogisticDetection</td>\n",
       "    </tr>\n",
       "    <tr>\n",
       "      <th>1</th>\n",
       "      <td>CopulaGAN</td>\n",
       "      <td>0.017692</td>\n",
       "      <td>SVCDetection</td>\n",
       "    </tr>\n",
       "    <tr>\n",
       "      <th>2</th>\n",
       "      <td>CopulaGAN</td>\n",
       "      <td>0.954913</td>\n",
       "      <td>KSTest</td>\n",
       "    </tr>\n",
       "    <tr>\n",
       "      <th>3</th>\n",
       "      <td>CopulaGAN</td>\n",
       "      <td>0.786497</td>\n",
       "      <td>ContinuousKLDivergence</td>\n",
       "    </tr>\n",
       "  </tbody>\n",
       "</table>\n",
       "</div>"
      ],
      "text/plain": [
       "       Model_name  Metric_score             Metric_name\n",
       "0  GaussianCopula      0.397333       LogisticDetection\n",
       "1  GaussianCopula      0.403558            SVCDetection\n",
       "2  GaussianCopula      0.921384                  KSTest\n",
       "3  GaussianCopula      0.794804  ContinuousKLDivergence\n",
       "0           CTGAN      0.613783       LogisticDetection\n",
       "1           CTGAN      0.009318            SVCDetection\n",
       "2           CTGAN      0.944516                  KSTest\n",
       "3           CTGAN      0.777186  ContinuousKLDivergence\n",
       "0       CopulaGAN      0.800017       LogisticDetection\n",
       "1       CopulaGAN      0.017692            SVCDetection\n",
       "2       CopulaGAN      0.954913                  KSTest\n",
       "3       CopulaGAN      0.786497  ContinuousKLDivergence"
      ]
     },
     "execution_count": 154,
     "metadata": {},
     "output_type": "execute_result"
    }
   ],
   "source": [
    "gen_result = pd.DataFrame(index = np.arange(4))\n",
    "gen_result['Model_name'] = 'CopulaGAN'\n",
    "gen_result['Metric_score'] = [v for k, v in gen_score.items()]\n",
    "gen_result['Metric_name'] = [k for k, v in gen_score.items()]\n",
    "\n",
    "gen_result_df_nmf = pd.concat([gen_result_df_nmf, gen_result])\n",
    "gen_result_df_nmf"
   ]
  },
  {
   "cell_type": "markdown",
   "metadata": {},
   "source": [
    "# TVAE"
   ]
  },
  {
   "cell_type": "code",
   "execution_count": 155,
   "metadata": {},
   "outputs": [
    {
     "name": "stdout",
     "output_type": "stream",
     "text": [
      "Fitting of TVAE on non-negative ALS embeddings: \n",
      "1128.608337879181\n"
     ]
    }
   ],
   "source": [
    "generator_4 = SDVDataGenerator(\n",
    "    label='synth',\n",
    "    id_column_name='user_id',\n",
    "    model_name='tvae',\n",
    "    parallelization_level=4,\n",
    "    device_name='cpu',\n",
    "    seed=1234\n",
    ")\n",
    "\n",
    "start = time.time()\n",
    "generator_4.fit(user_features.drop('id'))\n",
    "end = time.time()\n",
    "print(\"Fitting of TVAE on non-negative ALS embeddings: \")\n",
    "print(end - start)"
   ]
  },
  {
   "cell_type": "code",
   "execution_count": 156,
   "metadata": {},
   "outputs": [
    {
     "name": "stderr",
     "output_type": "stream",
     "text": [
      "                                                                                \r"
     ]
    }
   ],
   "source": [
    "real_users = user_features.sample(0.12)\n",
    "syn_users = generator_4.generate(real_users.count())\n",
    "gen_score = evaluate_synthetic(\n",
    "    syn_users.drop('user_id'),\n",
    "    real_users.drop('id')\n",
    ")"
   ]
  },
  {
   "cell_type": "code",
   "execution_count": 157,
   "metadata": {},
   "outputs": [
    {
     "data": {
      "text/plain": [
       "{'LogisticDetection': 0.1666018878960428,\n",
       " 'SVCDetection': 0.042198545158009027,\n",
       " 'KSTest': 0.8905852141133314,\n",
       " 'ContinuousKLDivergence': 0.6834628012618527}"
      ]
     },
     "execution_count": 157,
     "metadata": {},
     "output_type": "execute_result"
    }
   ],
   "source": [
    "gen_score"
   ]
  },
  {
   "cell_type": "code",
   "execution_count": 158,
   "metadata": {},
   "outputs": [
    {
     "data": {
      "text/html": [
       "<div>\n",
       "<style scoped>\n",
       "    .dataframe tbody tr th:only-of-type {\n",
       "        vertical-align: middle;\n",
       "    }\n",
       "\n",
       "    .dataframe tbody tr th {\n",
       "        vertical-align: top;\n",
       "    }\n",
       "\n",
       "    .dataframe thead th {\n",
       "        text-align: right;\n",
       "    }\n",
       "</style>\n",
       "<table border=\"1\" class=\"dataframe\">\n",
       "  <thead>\n",
       "    <tr style=\"text-align: right;\">\n",
       "      <th></th>\n",
       "      <th>Model_name</th>\n",
       "      <th>Metric_score</th>\n",
       "      <th>Metric_name</th>\n",
       "    </tr>\n",
       "  </thead>\n",
       "  <tbody>\n",
       "    <tr>\n",
       "      <th>0</th>\n",
       "      <td>GaussianCopula</td>\n",
       "      <td>0.397333</td>\n",
       "      <td>LogisticDetection</td>\n",
       "    </tr>\n",
       "    <tr>\n",
       "      <th>1</th>\n",
       "      <td>GaussianCopula</td>\n",
       "      <td>0.403558</td>\n",
       "      <td>SVCDetection</td>\n",
       "    </tr>\n",
       "    <tr>\n",
       "      <th>2</th>\n",
       "      <td>GaussianCopula</td>\n",
       "      <td>0.921384</td>\n",
       "      <td>KSTest</td>\n",
       "    </tr>\n",
       "    <tr>\n",
       "      <th>3</th>\n",
       "      <td>GaussianCopula</td>\n",
       "      <td>0.794804</td>\n",
       "      <td>ContinuousKLDivergence</td>\n",
       "    </tr>\n",
       "    <tr>\n",
       "      <th>0</th>\n",
       "      <td>CTGAN</td>\n",
       "      <td>0.613783</td>\n",
       "      <td>LogisticDetection</td>\n",
       "    </tr>\n",
       "    <tr>\n",
       "      <th>1</th>\n",
       "      <td>CTGAN</td>\n",
       "      <td>0.009318</td>\n",
       "      <td>SVCDetection</td>\n",
       "    </tr>\n",
       "    <tr>\n",
       "      <th>2</th>\n",
       "      <td>CTGAN</td>\n",
       "      <td>0.944516</td>\n",
       "      <td>KSTest</td>\n",
       "    </tr>\n",
       "    <tr>\n",
       "      <th>3</th>\n",
       "      <td>CTGAN</td>\n",
       "      <td>0.777186</td>\n",
       "      <td>ContinuousKLDivergence</td>\n",
       "    </tr>\n",
       "    <tr>\n",
       "      <th>0</th>\n",
       "      <td>CopulaGAN</td>\n",
       "      <td>0.800017</td>\n",
       "      <td>LogisticDetection</td>\n",
       "    </tr>\n",
       "    <tr>\n",
       "      <th>1</th>\n",
       "      <td>CopulaGAN</td>\n",
       "      <td>0.017692</td>\n",
       "      <td>SVCDetection</td>\n",
       "    </tr>\n",
       "    <tr>\n",
       "      <th>2</th>\n",
       "      <td>CopulaGAN</td>\n",
       "      <td>0.954913</td>\n",
       "      <td>KSTest</td>\n",
       "    </tr>\n",
       "    <tr>\n",
       "      <th>3</th>\n",
       "      <td>CopulaGAN</td>\n",
       "      <td>0.786497</td>\n",
       "      <td>ContinuousKLDivergence</td>\n",
       "    </tr>\n",
       "    <tr>\n",
       "      <th>0</th>\n",
       "      <td>TVAE</td>\n",
       "      <td>0.166602</td>\n",
       "      <td>LogisticDetection</td>\n",
       "    </tr>\n",
       "    <tr>\n",
       "      <th>1</th>\n",
       "      <td>TVAE</td>\n",
       "      <td>0.042199</td>\n",
       "      <td>SVCDetection</td>\n",
       "    </tr>\n",
       "    <tr>\n",
       "      <th>2</th>\n",
       "      <td>TVAE</td>\n",
       "      <td>0.890585</td>\n",
       "      <td>KSTest</td>\n",
       "    </tr>\n",
       "    <tr>\n",
       "      <th>3</th>\n",
       "      <td>TVAE</td>\n",
       "      <td>0.683463</td>\n",
       "      <td>ContinuousKLDivergence</td>\n",
       "    </tr>\n",
       "  </tbody>\n",
       "</table>\n",
       "</div>"
      ],
      "text/plain": [
       "       Model_name  Metric_score             Metric_name\n",
       "0  GaussianCopula      0.397333       LogisticDetection\n",
       "1  GaussianCopula      0.403558            SVCDetection\n",
       "2  GaussianCopula      0.921384                  KSTest\n",
       "3  GaussianCopula      0.794804  ContinuousKLDivergence\n",
       "0           CTGAN      0.613783       LogisticDetection\n",
       "1           CTGAN      0.009318            SVCDetection\n",
       "2           CTGAN      0.944516                  KSTest\n",
       "3           CTGAN      0.777186  ContinuousKLDivergence\n",
       "0       CopulaGAN      0.800017       LogisticDetection\n",
       "1       CopulaGAN      0.017692            SVCDetection\n",
       "2       CopulaGAN      0.954913                  KSTest\n",
       "3       CopulaGAN      0.786497  ContinuousKLDivergence\n",
       "0            TVAE      0.166602       LogisticDetection\n",
       "1            TVAE      0.042199            SVCDetection\n",
       "2            TVAE      0.890585                  KSTest\n",
       "3            TVAE      0.683463  ContinuousKLDivergence"
      ]
     },
     "execution_count": 158,
     "metadata": {},
     "output_type": "execute_result"
    }
   ],
   "source": [
    "gen_result = pd.DataFrame(index = np.arange(4))\n",
    "gen_result['Model_name'] = 'TVAE'\n",
    "gen_result['Metric_score'] = [v for k, v in gen_score.items()]\n",
    "gen_result['Metric_name'] = [k for k, v in gen_score.items()]\n",
    "\n",
    "gen_result_df_nmf = pd.concat([gen_result_df_nmf, gen_result])\n",
    "gen_result_df_nmf"
   ]
  },
  {
   "cell_type": "code",
   "execution_count": 159,
   "metadata": {},
   "outputs": [
    {
     "data": {
      "image/png": "[encoded data removed]",
      "text/plain": [
       "<Figure size 1152x576 with 1 Axes>"
      ]
     },
     "metadata": {},
     "output_type": "display_data"
    }
   ],
   "source": [
    "rcParams['figure.figsize'] = (3, 3)\n",
    "matplotlib.rc('xtick', labelsize=15) \n",
    "matplotlib.rc('ytick', labelsize=15)\n",
    "sns.set(font_scale=1.8) \n",
    "plot = sns.catplot(data=gen_result_df_nmf, x=\"Metric_name\", y=\"Metric_score\", hue=\"Model_name\", kind=\"bar\", aspect=2, height=8, palette=[\n",
    "    \"C1\", \"C2\", \"C0\", \"C3\", \"C4\"\n",
    "], legend=False)\n",
    "ax = plot.facet_axis(0,0)\n",
    "hist_val = create_hist_values(gen_result_df_nmf)\n",
    "for (p, val) in zip(ax.patches, hist_val):\n",
    "    ax.text(p.get_x() - 0.01, \n",
    "            p.get_height() * 1.02, \n",
    "           '{:1.2f}'.format(val),   \n",
    "            color='black', \n",
    "            rotation='horizontal', \n",
    "            size='medium')\n",
    "plt.legend(loc='upper center', bbox_to_anchor=(0.5, -0.1), fancybox=True, ncol=5)\n",
    "plt.tight_layout()"
   ]
  },
  {
   "cell_type": "markdown",
   "metadata": {},
   "source": [
    "# Response function Real component quality"
   ]
  },
  {
   "cell_type": "markdown",
   "metadata": {},
   "source": [
    "# Logistic Regression"
   ]
  },
  {
   "cell_type": "code",
   "execution_count": 100,
   "metadata": {},
   "outputs": [
    {
     "name": "stderr",
     "output_type": "stream",
     "text": [
      "                                                                                \r"
     ]
    },
    {
     "name": "stdout",
     "output_type": "stream",
     "text": [
      "Fitting of logistic regression: \n",
      "53.23414921760559\n"
     ]
    }
   ],
   "source": [
    "user_features = user_features.withColumnRenamed('id', 'user_idx')\n",
    "\n",
    "va = VectorAssembler(\n",
    "    inputCols=user_features.columns[1:] + items_df_train.columns[2:],\n",
    "    outputCol='features'\n",
    ")\n",
    "\n",
    "lr = LogisticRegression(\n",
    "    featuresCol='features',\n",
    "    labelCol='relevance',\n",
    "    probabilityCol='__lr_prob'\n",
    ")\n",
    "\n",
    "train_df = log_df_val.join(user_features, 'user_idx', 'left')\\\n",
    "                     .join(items_df_train, 'item_idx', 'left')\\\n",
    "                     .drop('timestamp')\n",
    "train_df = train_df.na.drop()\n",
    "\n",
    "start = time.time()\n",
    "lr_model = lr.fit(va.transform(train_df))\n",
    "end = time.time()\n",
    "print(\"Fitting of logistic regression: \")\n",
    "print(end - start)"
   ]
  },
  {
   "cell_type": "code",
   "execution_count": 101,
   "metadata": {},
   "outputs": [],
   "source": [
    "vee = VectorElementExtractor(inputCol='__lr_prob', outputCol='__r1', index=1)\n",
    "br = BernoulliResponse (inputCol='__r1', outputCol='response', seed=1234)\n",
    "pipeline = Pipeline(\n",
    "    stages=[\n",
    "        va,\n",
    "        lr_model,\n",
    "        vee,\n",
    "        br\n",
    "    ]\n",
    ")"
   ]
  },
  {
   "cell_type": "code",
   "execution_count": 107,
   "metadata": {},
   "outputs": [],
   "source": [
    "user_features_val = user_features_val.withColumnRenamed('id', 'user_idx')\n",
    "\n",
    "test_df = log_df_test.join(user_features_val, 'user_idx', 'left')\\\n",
    "                     .join(items_df_val, 'item_idx', 'left')\\\n",
    "                     .drop('timestamp')\n",
    "test_df = test_df.na.drop()"
   ]
  },
  {
   "cell_type": "code",
   "execution_count": 108,
   "metadata": {},
   "outputs": [
    {
     "name": "stdout",
     "output_type": "stream",
     "text": [
      "Pipeline fitting: \n",
      "0.0010535717010498047\n"
     ]
    },
    {
     "name": "stderr",
     "output_type": "stream",
     "text": [
      "                                                                                \r"
     ]
    }
   ],
   "source": [
    "start = time.time()\n",
    "ber_lr_model = pipeline.fit(train_df)\n",
    "end = time.time()\n",
    "print(\"Pipeline fitting: \")\n",
    "print(end - start)\n",
    "pred_df = ber_lr_model.transform(test_df).select(\"user_idx\", \"item_idx\", \"relevance\", \"__r1\").toPandas()"
   ]
  },
  {
   "cell_type": "code",
   "execution_count": 109,
   "metadata": {},
   "outputs": [
    {
     "name": "stdout",
     "output_type": "stream",
     "text": [
      "Regression ROC AUC: 0.73624768552898\n"
     ]
    }
   ],
   "source": [
    "print(f\"Regression ROC AUC: {roc_auc_score(pred_df.relevance, pred_df.__r1)}\")"
   ]
  },
  {
   "cell_type": "markdown",
   "metadata": {},
   "source": [
    "# Random forest"
   ]
  },
  {
   "cell_type": "code",
   "execution_count": 110,
   "metadata": {},
   "outputs": [
    {
     "name": "stderr",
     "output_type": "stream",
     "text": [
      "                                                                                \r"
     ]
    },
    {
     "name": "stdout",
     "output_type": "stream",
     "text": [
      "Fitting of random forest: \n",
      "42.79460883140564\n"
     ]
    }
   ],
   "source": [
    "rf = RandomForestClassifier(\n",
    "    featuresCol='features',\n",
    "    labelCol='relevance',\n",
    "    probabilityCol='__rf_prob'\n",
    ")\n",
    "\n",
    "start = time.time()\n",
    "rf_model = rf.fit(va.transform(train_df))\n",
    "end = time.time()\n",
    "print(\"Fitting of random forest: \")\n",
    "print(end - start)"
   ]
  },
  {
   "cell_type": "code",
   "execution_count": 111,
   "metadata": {},
   "outputs": [],
   "source": [
    "vee = VectorElementExtractor(inputCol='__rf_prob', outputCol='__r1', index=1)\n",
    "br = BernoulliResponse(inputCol='__r1', outputCol='response', seed=1234)\n",
    "pipeline = Pipeline(\n",
    "    stages=[\n",
    "        va,\n",
    "        rf_model,\n",
    "        vee,\n",
    "        br\n",
    "    ]\n",
    ")"
   ]
  },
  {
   "cell_type": "code",
   "execution_count": 112,
   "metadata": {},
   "outputs": [
    {
     "name": "stdout",
     "output_type": "stream",
     "text": [
      "Pipeline fitting: \n",
      "0.0009860992431640625\n"
     ]
    },
    {
     "name": "stderr",
     "output_type": "stream",
     "text": [
      "                                                                                \r"
     ]
    }
   ],
   "source": [
    "start = time.time()\n",
    "ber_rf_model = pipeline.fit(train_df)\n",
    "end = time.time()\n",
    "print(\"Pipeline fitting: \")\n",
    "print(end - start)\n",
    "pred_df = ber_rf_model.transform(test_df).select(\"user_idx\", \"item_idx\", \"relevance\", \"__r1\").toPandas()"
   ]
  },
  {
   "cell_type": "code",
   "execution_count": 113,
   "metadata": {},
   "outputs": [
    {
     "name": "stdout",
     "output_type": "stream",
     "text": [
      "Random forest ROC AUC: 0.7095099291681658\n"
     ]
    }
   ],
   "source": [
    "print(f\"Random forest ROC AUC: {roc_auc_score(pred_df.relevance, pred_df.__r1)}\")"
   ]
  },
  {
   "cell_type": "markdown",
   "metadata": {},
   "source": [
    "# Factorization machines"
   ]
  },
  {
   "cell_type": "code",
   "execution_count": 114,
   "metadata": {},
   "outputs": [
    {
     "name": "stderr",
     "output_type": "stream",
     "text": [
      "                                                                                \r"
     ]
    },
    {
     "name": "stdout",
     "output_type": "stream",
     "text": [
      "Fitting of factorization machines: \n",
      "1338.5367312431335\n"
     ]
    }
   ],
   "source": [
    "fm = FMClassifier(\n",
    "    featuresCol='features',\n",
    "    labelCol='relevance',\n",
    "    probabilityCol='__fm_prob'\n",
    ")\n",
    "\n",
    "start = time.time()\n",
    "fm_model = fm.fit(va.transform(train_df))\n",
    "end = time.time()\n",
    "print(\"Fitting of factorization machines: \")\n",
    "print(end - start)"
   ]
  },
  {
   "cell_type": "code",
   "execution_count": 115,
   "metadata": {},
   "outputs": [],
   "source": [
    "vee = VectorElementExtractor(inputCol='__fm_prob', outputCol='__r1', index=1)\n",
    "br = BernoulliResponse(inputCol='__r1', outputCol='response', seed=1234)\n",
    "pipeline = Pipeline(\n",
    "    stages=[\n",
    "        va,\n",
    "        fm_model,\n",
    "        vee,\n",
    "        br\n",
    "    ]\n",
    ")"
   ]
  },
  {
   "cell_type": "code",
   "execution_count": 116,
   "metadata": {},
   "outputs": [
    {
     "name": "stdout",
     "output_type": "stream",
     "text": [
      "Pipeline fitting: \n",
      "0.0008647441864013672\n"
     ]
    },
    {
     "name": "stderr",
     "output_type": "stream",
     "text": [
      "                                                                                \r"
     ]
    }
   ],
   "source": [
    "start = time.time()\n",
    "ber_fm_model = pipeline.fit(train_df)\n",
    "end = time.time()\n",
    "print(\"Pipeline fitting: \")\n",
    "print(end - start)\n",
    "pred_df = ber_fm_model.transform(test_df).select(\"user_idx\", \"item_idx\", \"relevance\", \"__r1\").toPandas()"
   ]
  },
  {
   "cell_type": "code",
   "execution_count": 117,
   "metadata": {},
   "outputs": [
    {
     "name": "stdout",
     "output_type": "stream",
     "text": [
      "Factorization machines ROC AUC: 0.7156298534061476\n"
     ]
    }
   ],
   "source": [
    "print(f\"Factorization machines ROC AUC: {roc_auc_score(pred_df.relevance, pred_df.__r1)}\")"
   ]
  },
  {
   "cell_type": "markdown",
   "metadata": {},
   "source": [
    "В случае метода неотрицательных наименьших квадратов нет явно доминирующей по качеству модели генерации синтетики. Но качество компоненты Real все равно выше, чем в случае исходных профилей, для всех моделей аппроксимации отклика."
   ]
  },
  {
   "cell_type": "markdown",
   "metadata": {},
   "source": [
    "# Autoencoder"
   ]
  },
  {
   "cell_type": "code",
   "execution_count": 4,
   "metadata": {},
   "outputs": [
    {
     "name": "stderr",
     "output_type": "stream",
     "text": [
      "                                                                                \r"
     ]
    },
    {
     "name": "stdout",
     "output_type": "stream",
     "text": [
      "Fitting of aetoencoder: \n",
      "174.4888231754303\n"
     ]
    },
    {
     "name": "stderr",
     "output_type": "stream",
     "text": [
      "                                                                                \r"
     ]
    },
    {
     "data": {
      "text/html": [
       "<div>\n",
       "<style scoped>\n",
       "    .dataframe tbody tr th:only-of-type {\n",
       "        vertical-align: middle;\n",
       "    }\n",
       "\n",
       "    .dataframe tbody tr th {\n",
       "        vertical-align: top;\n",
       "    }\n",
       "\n",
       "    .dataframe thead th {\n",
       "        text-align: right;\n",
       "    }\n",
       "</style>\n",
       "<table border=\"1\" class=\"dataframe\">\n",
       "  <thead>\n",
       "    <tr style=\"text-align: right;\">\n",
       "      <th></th>\n",
       "      <th>emb_0</th>\n",
       "      <th>emb_1</th>\n",
       "      <th>emb_2</th>\n",
       "      <th>emb_3</th>\n",
       "      <th>emb_4</th>\n",
       "      <th>emb_5</th>\n",
       "      <th>emb_6</th>\n",
       "      <th>emb_7</th>\n",
       "      <th>emb_8</th>\n",
       "      <th>emb_9</th>\n",
       "      <th>emb_10</th>\n",
       "      <th>emb_11</th>\n",
       "      <th>emb_12</th>\n",
       "      <th>emb_13</th>\n",
       "      <th>emb_14</th>\n",
       "    </tr>\n",
       "  </thead>\n",
       "  <tbody>\n",
       "    <tr>\n",
       "      <th>0</th>\n",
       "      <td>-0.164780</td>\n",
       "      <td>0.077169</td>\n",
       "      <td>-0.179799</td>\n",
       "      <td>0.429831</td>\n",
       "      <td>0.125795</td>\n",
       "      <td>0.207002</td>\n",
       "      <td>0.498695</td>\n",
       "      <td>0.226006</td>\n",
       "      <td>-0.081898</td>\n",
       "      <td>-0.804378</td>\n",
       "      <td>0.653181</td>\n",
       "      <td>0.094246</td>\n",
       "      <td>-0.388401</td>\n",
       "      <td>-0.043588</td>\n",
       "      <td>0.538153</td>\n",
       "    </tr>\n",
       "    <tr>\n",
       "      <th>1</th>\n",
       "      <td>-0.291889</td>\n",
       "      <td>0.182307</td>\n",
       "      <td>-0.032616</td>\n",
       "      <td>0.145877</td>\n",
       "      <td>-0.026826</td>\n",
       "      <td>0.151900</td>\n",
       "      <td>0.515950</td>\n",
       "      <td>0.181078</td>\n",
       "      <td>0.040397</td>\n",
       "      <td>-0.757345</td>\n",
       "      <td>0.607979</td>\n",
       "      <td>-0.168300</td>\n",
       "      <td>-0.386507</td>\n",
       "      <td>-0.104466</td>\n",
       "      <td>0.440279</td>\n",
       "    </tr>\n",
       "    <tr>\n",
       "      <th>2</th>\n",
       "      <td>-0.349924</td>\n",
       "      <td>0.210760</td>\n",
       "      <td>0.098084</td>\n",
       "      <td>0.161528</td>\n",
       "      <td>-0.090565</td>\n",
       "      <td>0.232034</td>\n",
       "      <td>0.587445</td>\n",
       "      <td>0.104823</td>\n",
       "      <td>0.029568</td>\n",
       "      <td>-0.804924</td>\n",
       "      <td>0.580479</td>\n",
       "      <td>-0.120621</td>\n",
       "      <td>-0.409615</td>\n",
       "      <td>-0.139824</td>\n",
       "      <td>0.443349</td>\n",
       "    </tr>\n",
       "    <tr>\n",
       "      <th>3</th>\n",
       "      <td>-0.232771</td>\n",
       "      <td>0.162551</td>\n",
       "      <td>-0.018422</td>\n",
       "      <td>0.088329</td>\n",
       "      <td>-0.032314</td>\n",
       "      <td>0.168563</td>\n",
       "      <td>0.669600</td>\n",
       "      <td>0.073684</td>\n",
       "      <td>-0.160226</td>\n",
       "      <td>-0.693659</td>\n",
       "      <td>0.472148</td>\n",
       "      <td>0.035855</td>\n",
       "      <td>-0.259959</td>\n",
       "      <td>0.089606</td>\n",
       "      <td>0.833725</td>\n",
       "    </tr>\n",
       "    <tr>\n",
       "      <th>4</th>\n",
       "      <td>-0.375645</td>\n",
       "      <td>0.195989</td>\n",
       "      <td>0.076924</td>\n",
       "      <td>-0.012892</td>\n",
       "      <td>-0.118391</td>\n",
       "      <td>0.126708</td>\n",
       "      <td>0.756820</td>\n",
       "      <td>0.112910</td>\n",
       "      <td>0.069492</td>\n",
       "      <td>-0.869674</td>\n",
       "      <td>0.548108</td>\n",
       "      <td>0.053427</td>\n",
       "      <td>-0.484422</td>\n",
       "      <td>-0.128403</td>\n",
       "      <td>0.585775</td>\n",
       "    </tr>\n",
       "    <tr>\n",
       "      <th>...</th>\n",
       "      <td>...</td>\n",
       "      <td>...</td>\n",
       "      <td>...</td>\n",
       "      <td>...</td>\n",
       "      <td>...</td>\n",
       "      <td>...</td>\n",
       "      <td>...</td>\n",
       "      <td>...</td>\n",
       "      <td>...</td>\n",
       "      <td>...</td>\n",
       "      <td>...</td>\n",
       "      <td>...</td>\n",
       "      <td>...</td>\n",
       "      <td>...</td>\n",
       "      <td>...</td>\n",
       "    </tr>\n",
       "    <tr>\n",
       "      <th>80645</th>\n",
       "      <td>-0.186152</td>\n",
       "      <td>0.123333</td>\n",
       "      <td>-0.103178</td>\n",
       "      <td>0.009931</td>\n",
       "      <td>-0.027160</td>\n",
       "      <td>0.164201</td>\n",
       "      <td>0.565275</td>\n",
       "      <td>0.278902</td>\n",
       "      <td>-0.140223</td>\n",
       "      <td>-0.685138</td>\n",
       "      <td>0.380246</td>\n",
       "      <td>0.212040</td>\n",
       "      <td>-0.223627</td>\n",
       "      <td>0.105385</td>\n",
       "      <td>0.618459</td>\n",
       "    </tr>\n",
       "    <tr>\n",
       "      <th>80646</th>\n",
       "      <td>-0.163435</td>\n",
       "      <td>0.142592</td>\n",
       "      <td>-0.073867</td>\n",
       "      <td>0.077939</td>\n",
       "      <td>-0.025052</td>\n",
       "      <td>0.172477</td>\n",
       "      <td>0.598900</td>\n",
       "      <td>0.188655</td>\n",
       "      <td>-0.219803</td>\n",
       "      <td>-0.672039</td>\n",
       "      <td>0.445496</td>\n",
       "      <td>0.142196</td>\n",
       "      <td>-0.224311</td>\n",
       "      <td>0.091841</td>\n",
       "      <td>0.770373</td>\n",
       "    </tr>\n",
       "    <tr>\n",
       "      <th>80647</th>\n",
       "      <td>-0.395069</td>\n",
       "      <td>0.135631</td>\n",
       "      <td>-0.023155</td>\n",
       "      <td>-0.098581</td>\n",
       "      <td>-0.146981</td>\n",
       "      <td>0.174019</td>\n",
       "      <td>0.700074</td>\n",
       "      <td>0.274626</td>\n",
       "      <td>0.057349</td>\n",
       "      <td>-0.918438</td>\n",
       "      <td>0.508670</td>\n",
       "      <td>0.128410</td>\n",
       "      <td>-0.499076</td>\n",
       "      <td>-0.031806</td>\n",
       "      <td>0.514576</td>\n",
       "    </tr>\n",
       "    <tr>\n",
       "      <th>80648</th>\n",
       "      <td>-0.030144</td>\n",
       "      <td>0.069214</td>\n",
       "      <td>-0.063076</td>\n",
       "      <td>0.339869</td>\n",
       "      <td>0.064605</td>\n",
       "      <td>0.060877</td>\n",
       "      <td>0.744556</td>\n",
       "      <td>0.109563</td>\n",
       "      <td>-0.192898</td>\n",
       "      <td>-0.662415</td>\n",
       "      <td>0.194027</td>\n",
       "      <td>0.592964</td>\n",
       "      <td>-0.267838</td>\n",
       "      <td>0.150874</td>\n",
       "      <td>0.808536</td>\n",
       "    </tr>\n",
       "    <tr>\n",
       "      <th>80649</th>\n",
       "      <td>-0.301370</td>\n",
       "      <td>0.144909</td>\n",
       "      <td>-0.044231</td>\n",
       "      <td>-0.229471</td>\n",
       "      <td>-0.060738</td>\n",
       "      <td>0.152091</td>\n",
       "      <td>0.328392</td>\n",
       "      <td>0.261322</td>\n",
       "      <td>-0.006290</td>\n",
       "      <td>-0.721090</td>\n",
       "      <td>0.426295</td>\n",
       "      <td>0.076004</td>\n",
       "      <td>-0.263197</td>\n",
       "      <td>0.043823</td>\n",
       "      <td>0.350579</td>\n",
       "    </tr>\n",
       "  </tbody>\n",
       "</table>\n",
       "<p>80650 rows × 15 columns</p>\n",
       "</div>"
      ],
      "text/plain": [
       "          emb_0     emb_1     emb_2     emb_3     emb_4     emb_5     emb_6  \\\n",
       "0     -0.164780  0.077169 -0.179799  0.429831  0.125795  0.207002  0.498695   \n",
       "1     -0.291889  0.182307 -0.032616  0.145877 -0.026826  0.151900  0.515950   \n",
       "2     -0.349924  0.210760  0.098084  0.161528 -0.090565  0.232034  0.587445   \n",
       "3     -0.232771  0.162551 -0.018422  0.088329 -0.032314  0.168563  0.669600   \n",
       "4     -0.375645  0.195989  0.076924 -0.012892 -0.118391  0.126708  0.756820   \n",
       "...         ...       ...       ...       ...       ...       ...       ...   \n",
       "80645 -0.186152  0.123333 -0.103178  0.009931 -0.027160  0.164201  0.565275   \n",
       "80646 -0.163435  0.142592 -0.073867  0.077939 -0.025052  0.172477  0.598900   \n",
       "80647 -0.395069  0.135631 -0.023155 -0.098581 -0.146981  0.174019  0.700074   \n",
       "80648 -0.030144  0.069214 -0.063076  0.339869  0.064605  0.060877  0.744556   \n",
       "80649 -0.301370  0.144909 -0.044231 -0.229471 -0.060738  0.152091  0.328392   \n",
       "\n",
       "          emb_7     emb_8     emb_9    emb_10    emb_11    emb_12    emb_13  \\\n",
       "0      0.226006 -0.081898 -0.804378  0.653181  0.094246 -0.388401 -0.043588   \n",
       "1      0.181078  0.040397 -0.757345  0.607979 -0.168300 -0.386507 -0.104466   \n",
       "2      0.104823  0.029568 -0.804924  0.580479 -0.120621 -0.409615 -0.139824   \n",
       "3      0.073684 -0.160226 -0.693659  0.472148  0.035855 -0.259959  0.089606   \n",
       "4      0.112910  0.069492 -0.869674  0.548108  0.053427 -0.484422 -0.128403   \n",
       "...         ...       ...       ...       ...       ...       ...       ...   \n",
       "80645  0.278902 -0.140223 -0.685138  0.380246  0.212040 -0.223627  0.105385   \n",
       "80646  0.188655 -0.219803 -0.672039  0.445496  0.142196 -0.224311  0.091841   \n",
       "80647  0.274626  0.057349 -0.918438  0.508670  0.128410 -0.499076 -0.031806   \n",
       "80648  0.109563 -0.192898 -0.662415  0.194027  0.592964 -0.267838  0.150874   \n",
       "80649  0.261322 -0.006290 -0.721090  0.426295  0.076004 -0.263197  0.043823   \n",
       "\n",
       "         emb_14  \n",
       "0      0.538153  \n",
       "1      0.440279  \n",
       "2      0.443349  \n",
       "3      0.833725  \n",
       "4      0.585775  \n",
       "...         ...  \n",
       "80645  0.618459  \n",
       "80646  0.770373  \n",
       "80647  0.514576  \n",
       "80648  0.808536  \n",
       "80649  0.350579  \n",
       "\n",
       "[80650 rows x 15 columns]"
      ]
     },
     "execution_count": 4,
     "metadata": {},
     "output_type": "execute_result"
    }
   ],
   "source": [
    "LATENT_DIM = 15\n",
    "\n",
    "encoder = EncoderEstimator(\n",
    "    inputCols=users_df_train.columns[1:],\n",
    "    outputCols=[f'emb_{i}' for i in range(LATENT_DIM)],\n",
    "    hidden_dim=16,\n",
    "    lr=0.001,\n",
    "    batch_size=64,\n",
    "    num_loader_workers=4,\n",
    "    max_iter=50,\n",
    "    device_name='cuda'\n",
    ")\n",
    "\n",
    "start = time.time()\n",
    "encoder_model = encoder.fit(users_df_train)\n",
    "end = time.time()\n",
    "print(\"Fitting of aetoencoder: \")\n",
    "print(end - start)\n",
    "enc_features = encoder_model.transform(users_df_train)\n",
    "enc_features.toPandas()"
   ]
  },
  {
   "cell_type": "code",
   "execution_count": 5,
   "metadata": {},
   "outputs": [],
   "source": [
    "enc_features = enc_features.withColumn('row_index', row_number().over(Window.orderBy(monotonically_increasing_id())))\n",
    "users_df_train = users_df_train.withColumn('row_index', row_number().over(Window.orderBy(monotonically_increasing_id())))\n",
    "\n",
    "enc_features = enc_features.join(users_df_train, on=[\"row_index\"]).drop(\"row_index\")\n",
    "cols = (users_df_train.columns[1:])\n",
    "enc_features = enc_features.drop(*cols)\n",
    "users_df_train = users_df_train.drop('row_index')"
   ]
  },
  {
   "cell_type": "code",
   "execution_count": 121,
   "metadata": {},
   "outputs": [
    {
     "name": "stderr",
     "output_type": "stream",
     "text": [
      "22/10/10 13:03:33 WARN WindowExec: No Partition Defined for Window operation! Moving all data to a single partition, this can cause serious performance degradation.\n",
      "22/10/10 13:03:33 WARN WindowExec: No Partition Defined for Window operation! Moving all data to a single partition, this can cause serious performance degradation.\n",
      "                                                                                \r"
     ]
    },
    {
     "data": {
      "text/html": [
       "<div>\n",
       "<style scoped>\n",
       "    .dataframe tbody tr th:only-of-type {\n",
       "        vertical-align: middle;\n",
       "    }\n",
       "\n",
       "    .dataframe tbody tr th {\n",
       "        vertical-align: top;\n",
       "    }\n",
       "\n",
       "    .dataframe thead th {\n",
       "        text-align: right;\n",
       "    }\n",
       "</style>\n",
       "<table border=\"1\" class=\"dataframe\">\n",
       "  <thead>\n",
       "    <tr style=\"text-align: right;\">\n",
       "      <th></th>\n",
       "      <th>emb_0</th>\n",
       "      <th>emb_1</th>\n",
       "      <th>emb_2</th>\n",
       "      <th>emb_3</th>\n",
       "      <th>emb_4</th>\n",
       "      <th>emb_5</th>\n",
       "      <th>emb_6</th>\n",
       "      <th>emb_7</th>\n",
       "      <th>emb_8</th>\n",
       "      <th>emb_9</th>\n",
       "      <th>emb_10</th>\n",
       "      <th>emb_11</th>\n",
       "      <th>emb_12</th>\n",
       "      <th>emb_13</th>\n",
       "      <th>emb_14</th>\n",
       "      <th>user_idx</th>\n",
       "    </tr>\n",
       "  </thead>\n",
       "  <tbody>\n",
       "    <tr>\n",
       "      <th>0</th>\n",
       "      <td>-0.246064</td>\n",
       "      <td>0.147953</td>\n",
       "      <td>-0.108513</td>\n",
       "      <td>0.237427</td>\n",
       "      <td>0.116161</td>\n",
       "      <td>0.183025</td>\n",
       "      <td>0.642935</td>\n",
       "      <td>0.173701</td>\n",
       "      <td>0.050572</td>\n",
       "      <td>-0.753764</td>\n",
       "      <td>0.613635</td>\n",
       "      <td>0.033574</td>\n",
       "      <td>-0.310413</td>\n",
       "      <td>-0.088402</td>\n",
       "      <td>0.527103</td>\n",
       "      <td>1</td>\n",
       "    </tr>\n",
       "    <tr>\n",
       "      <th>1</th>\n",
       "      <td>-0.291889</td>\n",
       "      <td>0.182307</td>\n",
       "      <td>-0.032616</td>\n",
       "      <td>0.145877</td>\n",
       "      <td>-0.026826</td>\n",
       "      <td>0.151900</td>\n",
       "      <td>0.515950</td>\n",
       "      <td>0.181078</td>\n",
       "      <td>0.040397</td>\n",
       "      <td>-0.757345</td>\n",
       "      <td>0.607979</td>\n",
       "      <td>-0.168300</td>\n",
       "      <td>-0.386507</td>\n",
       "      <td>-0.104466</td>\n",
       "      <td>0.440279</td>\n",
       "      <td>2</td>\n",
       "    </tr>\n",
       "    <tr>\n",
       "      <th>2</th>\n",
       "      <td>-0.349924</td>\n",
       "      <td>0.210760</td>\n",
       "      <td>0.098084</td>\n",
       "      <td>0.161528</td>\n",
       "      <td>-0.090565</td>\n",
       "      <td>0.232034</td>\n",
       "      <td>0.587445</td>\n",
       "      <td>0.104823</td>\n",
       "      <td>0.029568</td>\n",
       "      <td>-0.804924</td>\n",
       "      <td>0.580479</td>\n",
       "      <td>-0.120621</td>\n",
       "      <td>-0.409615</td>\n",
       "      <td>-0.139824</td>\n",
       "      <td>0.443349</td>\n",
       "      <td>3</td>\n",
       "    </tr>\n",
       "    <tr>\n",
       "      <th>3</th>\n",
       "      <td>-0.232771</td>\n",
       "      <td>0.162551</td>\n",
       "      <td>-0.018422</td>\n",
       "      <td>0.088329</td>\n",
       "      <td>-0.032314</td>\n",
       "      <td>0.168563</td>\n",
       "      <td>0.669600</td>\n",
       "      <td>0.073684</td>\n",
       "      <td>-0.160226</td>\n",
       "      <td>-0.693659</td>\n",
       "      <td>0.472148</td>\n",
       "      <td>0.035855</td>\n",
       "      <td>-0.259959</td>\n",
       "      <td>0.089606</td>\n",
       "      <td>0.833725</td>\n",
       "      <td>4</td>\n",
       "    </tr>\n",
       "    <tr>\n",
       "      <th>4</th>\n",
       "      <td>-0.375645</td>\n",
       "      <td>0.195989</td>\n",
       "      <td>0.076924</td>\n",
       "      <td>-0.012892</td>\n",
       "      <td>-0.118391</td>\n",
       "      <td>0.126708</td>\n",
       "      <td>0.756820</td>\n",
       "      <td>0.112910</td>\n",
       "      <td>0.069492</td>\n",
       "      <td>-0.869674</td>\n",
       "      <td>0.548108</td>\n",
       "      <td>0.053427</td>\n",
       "      <td>-0.484422</td>\n",
       "      <td>-0.128403</td>\n",
       "      <td>0.585775</td>\n",
       "      <td>5</td>\n",
       "    </tr>\n",
       "    <tr>\n",
       "      <th>...</th>\n",
       "      <td>...</td>\n",
       "      <td>...</td>\n",
       "      <td>...</td>\n",
       "      <td>...</td>\n",
       "      <td>...</td>\n",
       "      <td>...</td>\n",
       "      <td>...</td>\n",
       "      <td>...</td>\n",
       "      <td>...</td>\n",
       "      <td>...</td>\n",
       "      <td>...</td>\n",
       "      <td>...</td>\n",
       "      <td>...</td>\n",
       "      <td>...</td>\n",
       "      <td>...</td>\n",
       "      <td>...</td>\n",
       "    </tr>\n",
       "    <tr>\n",
       "      <th>106568</th>\n",
       "      <td>-0.224674</td>\n",
       "      <td>0.083823</td>\n",
       "      <td>-0.103075</td>\n",
       "      <td>0.348862</td>\n",
       "      <td>0.077923</td>\n",
       "      <td>0.201903</td>\n",
       "      <td>0.583711</td>\n",
       "      <td>0.144029</td>\n",
       "      <td>-0.090558</td>\n",
       "      <td>-0.811620</td>\n",
       "      <td>0.605752</td>\n",
       "      <td>0.116336</td>\n",
       "      <td>-0.401801</td>\n",
       "      <td>-0.004696</td>\n",
       "      <td>0.647345</td>\n",
       "      <td>138486</td>\n",
       "    </tr>\n",
       "    <tr>\n",
       "      <th>106569</th>\n",
       "      <td>-0.395069</td>\n",
       "      <td>0.135631</td>\n",
       "      <td>-0.023155</td>\n",
       "      <td>-0.098581</td>\n",
       "      <td>-0.146981</td>\n",
       "      <td>0.174019</td>\n",
       "      <td>0.700074</td>\n",
       "      <td>0.274626</td>\n",
       "      <td>0.057349</td>\n",
       "      <td>-0.918438</td>\n",
       "      <td>0.508670</td>\n",
       "      <td>0.128410</td>\n",
       "      <td>-0.499076</td>\n",
       "      <td>-0.031806</td>\n",
       "      <td>0.514576</td>\n",
       "      <td>138487</td>\n",
       "    </tr>\n",
       "    <tr>\n",
       "      <th>106570</th>\n",
       "      <td>-0.030144</td>\n",
       "      <td>0.069214</td>\n",
       "      <td>-0.063076</td>\n",
       "      <td>0.339869</td>\n",
       "      <td>0.064605</td>\n",
       "      <td>0.060877</td>\n",
       "      <td>0.744556</td>\n",
       "      <td>0.109563</td>\n",
       "      <td>-0.192898</td>\n",
       "      <td>-0.662415</td>\n",
       "      <td>0.194027</td>\n",
       "      <td>0.592964</td>\n",
       "      <td>-0.267838</td>\n",
       "      <td>0.150874</td>\n",
       "      <td>0.808536</td>\n",
       "      <td>138488</td>\n",
       "    </tr>\n",
       "    <tr>\n",
       "      <th>106571</th>\n",
       "      <td>-0.301370</td>\n",
       "      <td>0.144909</td>\n",
       "      <td>-0.044231</td>\n",
       "      <td>-0.229471</td>\n",
       "      <td>-0.060738</td>\n",
       "      <td>0.152091</td>\n",
       "      <td>0.328392</td>\n",
       "      <td>0.261322</td>\n",
       "      <td>-0.006290</td>\n",
       "      <td>-0.721090</td>\n",
       "      <td>0.426295</td>\n",
       "      <td>0.076004</td>\n",
       "      <td>-0.263197</td>\n",
       "      <td>0.043823</td>\n",
       "      <td>0.350579</td>\n",
       "      <td>138490</td>\n",
       "    </tr>\n",
       "    <tr>\n",
       "      <th>106572</th>\n",
       "      <td>-0.370583</td>\n",
       "      <td>0.105263</td>\n",
       "      <td>-0.054411</td>\n",
       "      <td>0.093692</td>\n",
       "      <td>-0.101782</td>\n",
       "      <td>0.302631</td>\n",
       "      <td>0.926841</td>\n",
       "      <td>0.291568</td>\n",
       "      <td>0.009937</td>\n",
       "      <td>-0.946286</td>\n",
       "      <td>0.502520</td>\n",
       "      <td>0.274377</td>\n",
       "      <td>-0.470124</td>\n",
       "      <td>-0.017908</td>\n",
       "      <td>0.648353</td>\n",
       "      <td>138492</td>\n",
       "    </tr>\n",
       "  </tbody>\n",
       "</table>\n",
       "<p>106573 rows × 16 columns</p>\n",
       "</div>"
      ],
      "text/plain": [
       "           emb_0     emb_1     emb_2     emb_3     emb_4     emb_5     emb_6  \\\n",
       "0      -0.246064  0.147953 -0.108513  0.237427  0.116161  0.183025  0.642935   \n",
       "1      -0.291889  0.182307 -0.032616  0.145877 -0.026826  0.151900  0.515950   \n",
       "2      -0.349924  0.210760  0.098084  0.161528 -0.090565  0.232034  0.587445   \n",
       "3      -0.232771  0.162551 -0.018422  0.088329 -0.032314  0.168563  0.669600   \n",
       "4      -0.375645  0.195989  0.076924 -0.012892 -0.118391  0.126708  0.756820   \n",
       "...          ...       ...       ...       ...       ...       ...       ...   \n",
       "106568 -0.224674  0.083823 -0.103075  0.348862  0.077923  0.201903  0.583711   \n",
       "106569 -0.395069  0.135631 -0.023155 -0.098581 -0.146981  0.174019  0.700074   \n",
       "106570 -0.030144  0.069214 -0.063076  0.339869  0.064605  0.060877  0.744556   \n",
       "106571 -0.301370  0.144909 -0.044231 -0.229471 -0.060738  0.152091  0.328392   \n",
       "106572 -0.370583  0.105263 -0.054411  0.093692 -0.101782  0.302631  0.926841   \n",
       "\n",
       "           emb_7     emb_8     emb_9    emb_10    emb_11    emb_12    emb_13  \\\n",
       "0       0.173701  0.050572 -0.753764  0.613635  0.033574 -0.310413 -0.088402   \n",
       "1       0.181078  0.040397 -0.757345  0.607979 -0.168300 -0.386507 -0.104466   \n",
       "2       0.104823  0.029568 -0.804924  0.580479 -0.120621 -0.409615 -0.139824   \n",
       "3       0.073684 -0.160226 -0.693659  0.472148  0.035855 -0.259959  0.089606   \n",
       "4       0.112910  0.069492 -0.869674  0.548108  0.053427 -0.484422 -0.128403   \n",
       "...          ...       ...       ...       ...       ...       ...       ...   \n",
       "106568  0.144029 -0.090558 -0.811620  0.605752  0.116336 -0.401801 -0.004696   \n",
       "106569  0.274626  0.057349 -0.918438  0.508670  0.128410 -0.499076 -0.031806   \n",
       "106570  0.109563 -0.192898 -0.662415  0.194027  0.592964 -0.267838  0.150874   \n",
       "106571  0.261322 -0.006290 -0.721090  0.426295  0.076004 -0.263197  0.043823   \n",
       "106572  0.291568  0.009937 -0.946286  0.502520  0.274377 -0.470124 -0.017908   \n",
       "\n",
       "          emb_14  user_idx  \n",
       "0       0.527103         1  \n",
       "1       0.440279         2  \n",
       "2       0.443349         3  \n",
       "3       0.833725         4  \n",
       "4       0.585775         5  \n",
       "...          ...       ...  \n",
       "106568  0.647345    138486  \n",
       "106569  0.514576    138487  \n",
       "106570  0.808536    138488  \n",
       "106571  0.350579    138490  \n",
       "106572  0.648353    138492  \n",
       "\n",
       "[106573 rows x 16 columns]"
      ]
     },
     "execution_count": 121,
     "metadata": {},
     "output_type": "execute_result"
    }
   ],
   "source": [
    "enc_features_val = encoder_model.transform(users_df_val)\n",
    "enc_features_val = enc_features_val.withColumn('row_index', row_number().over(Window.orderBy(monotonically_increasing_id())))\n",
    "users_df_val = users_df_val.withColumn('row_index', row_number().over(Window.orderBy(monotonically_increasing_id())))\n",
    "\n",
    "enc_features_val = enc_features_val.join(users_df_val, on=[\"row_index\"]).drop(\"row_index\")\n",
    "cols = (users_df_val.columns[1:])\n",
    "enc_features_val = enc_features_val.drop(*cols)\n",
    "\n",
    "users_df_val = users_df_val.drop('row_index')\n",
    "enc_features_val.toPandas()"
   ]
  },
  {
   "cell_type": "markdown",
   "metadata": {},
   "source": [
    "# GaussianCopula"
   ]
  },
  {
   "cell_type": "code",
   "execution_count": 18,
   "metadata": {},
   "outputs": [
    {
     "name": "stderr",
     "output_type": "stream",
     "text": [
      "22/10/08 11:54:35 WARN WindowExec: No Partition Defined for Window operation! Moving all data to a single partition, this can cause serious performance degradation.\n",
      "22/10/08 11:54:35 WARN WindowExec: No Partition Defined for Window operation! Moving all data to a single partition, this can cause serious performance degradation.\n",
      "                                                                                \r"
     ]
    },
    {
     "name": "stdout",
     "output_type": "stream",
     "text": [
      "Fitting of GaussianCopula on autoencoder embeddings: \n",
      "9.619970083236694\n"
     ]
    }
   ],
   "source": [
    "generator_1 = SDVDataGenerator(\n",
    "    label='synth',\n",
    "    id_column_name='user_id',\n",
    "    model_name='gaussiancopula',\n",
    "    parallelization_level=4,\n",
    "    device_name='cpu',\n",
    "    seed=1234\n",
    ")\n",
    "\n",
    "start = time.time()\n",
    "generator_1.fit(enc_features.drop('user_idx'))\n",
    "end = time.time()\n",
    "print(\"Fitting of GaussianCopula on autoencoder embeddings: \")\n",
    "print(end - start)"
   ]
  },
  {
   "cell_type": "code",
   "execution_count": 19,
   "metadata": {},
   "outputs": [
    {
     "name": "stderr",
     "output_type": "stream",
     "text": [
      "22/10/08 11:54:49 WARN WindowExec: No Partition Defined for Window operation! Moving all data to a single partition, this can cause serious performance degradation.\n",
      "22/10/08 11:54:49 WARN WindowExec: No Partition Defined for Window operation! Moving all data to a single partition, this can cause serious performance degradation.\n",
      "22/10/08 11:54:51 WARN WindowExec: No Partition Defined for Window operation! Moving all data to a single partition, this can cause serious performance degradation.\n",
      "22/10/08 11:54:51 WARN WindowExec: No Partition Defined for Window operation! Moving all data to a single partition, this can cause serious performance degradation.\n",
      "                                                                                \r"
     ]
    }
   ],
   "source": [
    "real_users = enc_features.sample(0.12)\n",
    "syn_users = generator_1.generate(real_users.count())\n",
    "gen_score = evaluate_synthetic(\n",
    "    syn_users.drop('user_id'),\n",
    "    real_users.drop('user_idx')\n",
    ")"
   ]
  },
  {
   "cell_type": "code",
   "execution_count": 38,
   "metadata": {},
   "outputs": [
    {
     "data": {
      "text/plain": [
       "{'LogisticDetection': 1.0,\n",
       " 'SVCDetection': 0.29530958576768185,\n",
       " 'KSTest': 0.9718063508589277,\n",
       " 'ContinuousKLDivergence': 0.9619241035364077}"
      ]
     },
     "execution_count": 38,
     "metadata": {},
     "output_type": "execute_result"
    }
   ],
   "source": [
    "gen_score"
   ]
  },
  {
   "cell_type": "code",
   "execution_count": 39,
   "metadata": {},
   "outputs": [
    {
     "data": {
      "text/html": [
       "<div>\n",
       "<style scoped>\n",
       "    .dataframe tbody tr th:only-of-type {\n",
       "        vertical-align: middle;\n",
       "    }\n",
       "\n",
       "    .dataframe tbody tr th {\n",
       "        vertical-align: top;\n",
       "    }\n",
       "\n",
       "    .dataframe thead th {\n",
       "        text-align: right;\n",
       "    }\n",
       "</style>\n",
       "<table border=\"1\" class=\"dataframe\">\n",
       "  <thead>\n",
       "    <tr style=\"text-align: right;\">\n",
       "      <th></th>\n",
       "      <th>Model_name</th>\n",
       "      <th>Metric_score</th>\n",
       "      <th>Metric_name</th>\n",
       "    </tr>\n",
       "  </thead>\n",
       "  <tbody>\n",
       "    <tr>\n",
       "      <th>0</th>\n",
       "      <td>GaussianCopula</td>\n",
       "      <td>1.000000</td>\n",
       "      <td>LogisticDetection</td>\n",
       "    </tr>\n",
       "    <tr>\n",
       "      <th>1</th>\n",
       "      <td>GaussianCopula</td>\n",
       "      <td>0.295310</td>\n",
       "      <td>SVCDetection</td>\n",
       "    </tr>\n",
       "    <tr>\n",
       "      <th>2</th>\n",
       "      <td>GaussianCopula</td>\n",
       "      <td>0.971806</td>\n",
       "      <td>KSTest</td>\n",
       "    </tr>\n",
       "    <tr>\n",
       "      <th>3</th>\n",
       "      <td>GaussianCopula</td>\n",
       "      <td>0.961924</td>\n",
       "      <td>ContinuousKLDivergence</td>\n",
       "    </tr>\n",
       "  </tbody>\n",
       "</table>\n",
       "</div>"
      ],
      "text/plain": [
       "       Model_name  Metric_score             Metric_name\n",
       "0  GaussianCopula      1.000000       LogisticDetection\n",
       "1  GaussianCopula      0.295310            SVCDetection\n",
       "2  GaussianCopula      0.971806                  KSTest\n",
       "3  GaussianCopula      0.961924  ContinuousKLDivergence"
      ]
     },
     "execution_count": 39,
     "metadata": {},
     "output_type": "execute_result"
    }
   ],
   "source": [
    "gen_result = pd.DataFrame(index = np.arange(4))\n",
    "gen_result['Model_name'] = 'GaussianCopula'\n",
    "gen_result['Metric_score'] = [v for k, v in gen_score.items()]\n",
    "gen_result['Metric_name'] = [k for k, v in gen_score.items()]\n",
    "\n",
    "gen_result_df_enc = pd.DataFrame()\n",
    "gen_result_df_enc = pd.concat([gen_result_df_enc, gen_result])\n",
    "gen_result_df_enc"
   ]
  },
  {
   "cell_type": "markdown",
   "metadata": {},
   "source": [
    "# CTGAN"
   ]
  },
  {
   "cell_type": "code",
   "execution_count": 12,
   "metadata": {},
   "outputs": [
    {
     "name": "stderr",
     "output_type": "stream",
     "text": [
      "22/10/08 09:52:12 WARN WindowExec: No Partition Defined for Window operation! Moving all data to a single partition, this can cause serious performance degradation.\n",
      "22/10/08 09:52:12 WARN WindowExec: No Partition Defined for Window operation! Moving all data to a single partition, this can cause serious performance degradation.\n",
      "                                                                                \r"
     ]
    },
    {
     "name": "stdout",
     "output_type": "stream",
     "text": [
      "Fitting of CTGAN on autoencoder embeddings: \n",
      "6960.759202718735\n"
     ]
    }
   ],
   "source": [
    "generator_2 = SDVDataGenerator(\n",
    "    label='synth',\n",
    "    id_column_name='user_id',\n",
    "    model_name='ctgan',\n",
    "    parallelization_level=4,\n",
    "    device_name='cpu',\n",
    "    seed=1234\n",
    ")\n",
    "\n",
    "start = time.time()\n",
    "generator_2.fit(enc_features.sample(0.12).drop('user_idx'))\n",
    "end = time.time()\n",
    "print(\"Fitting of CTGAN on autoencoder embeddings: \")\n",
    "print(end - start)"
   ]
  },
  {
   "cell_type": "code",
   "execution_count": 14,
   "metadata": {},
   "outputs": [
    {
     "name": "stderr",
     "output_type": "stream",
     "text": [
      "22/10/08 11:49:17 WARN WindowExec: No Partition Defined for Window operation! Moving all data to a single partition, this can cause serious performance degradation.\n",
      "22/10/08 11:49:17 WARN WindowExec: No Partition Defined for Window operation! Moving all data to a single partition, this can cause serious performance degradation.\n",
      "22/10/08 11:49:25 WARN WindowExec: No Partition Defined for Window operation! Moving all data to a single partition, this can cause serious performance degradation.\n",
      "22/10/08 11:49:25 WARN WindowExec: No Partition Defined for Window operation! Moving all data to a single partition, this can cause serious performance degradation.\n"
     ]
    }
   ],
   "source": [
    "real_users = enc_features.sample(0.12)\n",
    "syn_users = generator_2.generate(real_users.count())\n",
    "gen_score = evaluate_synthetic(\n",
    "    syn_users.drop('user_id'),\n",
    "    real_users.drop('user_idx')\n",
    ")"
   ]
  },
  {
   "cell_type": "code",
   "execution_count": 15,
   "metadata": {},
   "outputs": [
    {
     "data": {
      "text/plain": [
       "{'LogisticDetection': 0.6603109516188939,\n",
       " 'SVCDetection': 0.003336165530971935,\n",
       " 'KSTest': 0.9222405839013976,\n",
       " 'ContinuousKLDivergence': 0.8915377524894995}"
      ]
     },
     "execution_count": 15,
     "metadata": {},
     "output_type": "execute_result"
    }
   ],
   "source": [
    "gen_score"
   ]
  },
  {
   "cell_type": "code",
   "execution_count": 41,
   "metadata": {},
   "outputs": [
    {
     "data": {
      "text/html": [
       "<div>\n",
       "<style scoped>\n",
       "    .dataframe tbody tr th:only-of-type {\n",
       "        vertical-align: middle;\n",
       "    }\n",
       "\n",
       "    .dataframe tbody tr th {\n",
       "        vertical-align: top;\n",
       "    }\n",
       "\n",
       "    .dataframe thead th {\n",
       "        text-align: right;\n",
       "    }\n",
       "</style>\n",
       "<table border=\"1\" class=\"dataframe\">\n",
       "  <thead>\n",
       "    <tr style=\"text-align: right;\">\n",
       "      <th></th>\n",
       "      <th>Model_name</th>\n",
       "      <th>Metric_score</th>\n",
       "      <th>Metric_name</th>\n",
       "    </tr>\n",
       "  </thead>\n",
       "  <tbody>\n",
       "    <tr>\n",
       "      <th>0</th>\n",
       "      <td>GaussianCopula</td>\n",
       "      <td>1.000000</td>\n",
       "      <td>LogisticDetection</td>\n",
       "    </tr>\n",
       "    <tr>\n",
       "      <th>1</th>\n",
       "      <td>GaussianCopula</td>\n",
       "      <td>0.295310</td>\n",
       "      <td>SVCDetection</td>\n",
       "    </tr>\n",
       "    <tr>\n",
       "      <th>2</th>\n",
       "      <td>GaussianCopula</td>\n",
       "      <td>0.971806</td>\n",
       "      <td>KSTest</td>\n",
       "    </tr>\n",
       "    <tr>\n",
       "      <th>3</th>\n",
       "      <td>GaussianCopula</td>\n",
       "      <td>0.961924</td>\n",
       "      <td>ContinuousKLDivergence</td>\n",
       "    </tr>\n",
       "    <tr>\n",
       "      <th>0</th>\n",
       "      <td>CTGAN</td>\n",
       "      <td>0.660311</td>\n",
       "      <td>LogisticDetection</td>\n",
       "    </tr>\n",
       "    <tr>\n",
       "      <th>1</th>\n",
       "      <td>CTGAN</td>\n",
       "      <td>0.003336</td>\n",
       "      <td>SVCDetection</td>\n",
       "    </tr>\n",
       "    <tr>\n",
       "      <th>2</th>\n",
       "      <td>CTGAN</td>\n",
       "      <td>0.922241</td>\n",
       "      <td>KSTest</td>\n",
       "    </tr>\n",
       "    <tr>\n",
       "      <th>3</th>\n",
       "      <td>CTGAN</td>\n",
       "      <td>0.891538</td>\n",
       "      <td>ContinuousKLDivergence</td>\n",
       "    </tr>\n",
       "  </tbody>\n",
       "</table>\n",
       "</div>"
      ],
      "text/plain": [
       "       Model_name  Metric_score             Metric_name\n",
       "0  GaussianCopula      1.000000       LogisticDetection\n",
       "1  GaussianCopula      0.295310            SVCDetection\n",
       "2  GaussianCopula      0.971806                  KSTest\n",
       "3  GaussianCopula      0.961924  ContinuousKLDivergence\n",
       "0           CTGAN      0.660311       LogisticDetection\n",
       "1           CTGAN      0.003336            SVCDetection\n",
       "2           CTGAN      0.922241                  KSTest\n",
       "3           CTGAN      0.891538  ContinuousKLDivergence"
      ]
     },
     "execution_count": 41,
     "metadata": {},
     "output_type": "execute_result"
    }
   ],
   "source": [
    "gen_result = pd.DataFrame(index = np.arange(4))\n",
    "gen_result['Model_name'] = 'CTGAN'\n",
    "gen_result['Metric_score'] = [v for k, v in gen_score.items()]\n",
    "gen_result['Metric_name'] = [k for k, v in gen_score.items()]\n",
    "\n",
    "gen_result_df_enc = pd.concat([gen_result_df_enc, gen_result])\n",
    "gen_result_df_enc"
   ]
  },
  {
   "cell_type": "markdown",
   "metadata": {},
   "source": [
    "# CopulaGAN"
   ]
  },
  {
   "cell_type": "code",
   "execution_count": 22,
   "metadata": {},
   "outputs": [
    {
     "name": "stderr",
     "output_type": "stream",
     "text": [
      "22/10/08 11:58:46 WARN WindowExec: No Partition Defined for Window operation! Moving all data to a single partition, this can cause serious performance degradation.\n",
      "22/10/08 11:58:46 WARN WindowExec: No Partition Defined for Window operation! Moving all data to a single partition, this can cause serious performance degradation.\n",
      "                                                                                \r"
     ]
    },
    {
     "name": "stdout",
     "output_type": "stream",
     "text": [
      "Fitting of CopulaGAN on autoencoder embeddings: \n",
      "7253.474634885788\n"
     ]
    }
   ],
   "source": [
    "generator_3 = SDVDataGenerator(\n",
    "    label='synth',\n",
    "    id_column_name='user_id',\n",
    "    model_name='copulagan',\n",
    "    parallelization_level=4,\n",
    "    device_name='cpu',\n",
    "    seed=1234\n",
    ")\n",
    "\n",
    "start = time.time()\n",
    "generator_3.fit(enc_features.sample(0.12).drop('user_idx'))\n",
    "end = time.time()\n",
    "print(\"Fitting of CopulaGAN on autoencoder embeddings: \")\n",
    "print(end - start)"
   ]
  },
  {
   "cell_type": "code",
   "execution_count": 23,
   "metadata": {},
   "outputs": [
    {
     "name": "stderr",
     "output_type": "stream",
     "text": [
      "22/10/08 18:38:39 WARN WindowExec: No Partition Defined for Window operation! Moving all data to a single partition, this can cause serious performance degradation.\n",
      "22/10/08 18:38:39 WARN WindowExec: No Partition Defined for Window operation! Moving all data to a single partition, this can cause serious performance degradation.\n",
      "22/10/08 18:38:53 WARN WindowExec: No Partition Defined for Window operation! Moving all data to a single partition, this can cause serious performance degradation.\n",
      "22/10/08 18:38:53 WARN WindowExec: No Partition Defined for Window operation! Moving all data to a single partition, this can cause serious performance degradation.\n",
      "                                                                                \r"
     ]
    }
   ],
   "source": [
    "real_users = enc_features.sample(0.12)\n",
    "syn_users = generator_3.generate(real_users.count())\n",
    "gen_score = evaluate_synthetic(\n",
    "    syn_users.drop('user_id'),\n",
    "    real_users.drop('user_idx')\n",
    ")"
   ]
  },
  {
   "cell_type": "code",
   "execution_count": 24,
   "metadata": {},
   "outputs": [
    {
     "data": {
      "text/plain": [
       "{'LogisticDetection': 0.6665707938587018,\n",
       " 'SVCDetection': 0.0023839083134173933,\n",
       " 'KSTest': 0.9051830718021875,\n",
       " 'ContinuousKLDivergence': 0.8653988335761549}"
      ]
     },
     "execution_count": 24,
     "metadata": {},
     "output_type": "execute_result"
    }
   ],
   "source": [
    "gen_score"
   ]
  },
  {
   "cell_type": "code",
   "execution_count": 43,
   "metadata": {},
   "outputs": [
    {
     "data": {
      "text/html": [
       "<div>\n",
       "<style scoped>\n",
       "    .dataframe tbody tr th:only-of-type {\n",
       "        vertical-align: middle;\n",
       "    }\n",
       "\n",
       "    .dataframe tbody tr th {\n",
       "        vertical-align: top;\n",
       "    }\n",
       "\n",
       "    .dataframe thead th {\n",
       "        text-align: right;\n",
       "    }\n",
       "</style>\n",
       "<table border=\"1\" class=\"dataframe\">\n",
       "  <thead>\n",
       "    <tr style=\"text-align: right;\">\n",
       "      <th></th>\n",
       "      <th>Model_name</th>\n",
       "      <th>Metric_score</th>\n",
       "      <th>Metric_name</th>\n",
       "    </tr>\n",
       "  </thead>\n",
       "  <tbody>\n",
       "    <tr>\n",
       "      <th>0</th>\n",
       "      <td>GaussianCopula</td>\n",
       "      <td>1.000000</td>\n",
       "      <td>LogisticDetection</td>\n",
       "    </tr>\n",
       "    <tr>\n",
       "      <th>1</th>\n",
       "      <td>GaussianCopula</td>\n",
       "      <td>0.295310</td>\n",
       "      <td>SVCDetection</td>\n",
       "    </tr>\n",
       "    <tr>\n",
       "      <th>2</th>\n",
       "      <td>GaussianCopula</td>\n",
       "      <td>0.971806</td>\n",
       "      <td>KSTest</td>\n",
       "    </tr>\n",
       "    <tr>\n",
       "      <th>3</th>\n",
       "      <td>GaussianCopula</td>\n",
       "      <td>0.961924</td>\n",
       "      <td>ContinuousKLDivergence</td>\n",
       "    </tr>\n",
       "    <tr>\n",
       "      <th>0</th>\n",
       "      <td>CTGAN</td>\n",
       "      <td>0.660311</td>\n",
       "      <td>LogisticDetection</td>\n",
       "    </tr>\n",
       "    <tr>\n",
       "      <th>1</th>\n",
       "      <td>CTGAN</td>\n",
       "      <td>0.003336</td>\n",
       "      <td>SVCDetection</td>\n",
       "    </tr>\n",
       "    <tr>\n",
       "      <th>2</th>\n",
       "      <td>CTGAN</td>\n",
       "      <td>0.922241</td>\n",
       "      <td>KSTest</td>\n",
       "    </tr>\n",
       "    <tr>\n",
       "      <th>3</th>\n",
       "      <td>CTGAN</td>\n",
       "      <td>0.891538</td>\n",
       "      <td>ContinuousKLDivergence</td>\n",
       "    </tr>\n",
       "    <tr>\n",
       "      <th>0</th>\n",
       "      <td>CopulaGAN</td>\n",
       "      <td>0.666571</td>\n",
       "      <td>LogisticDetection</td>\n",
       "    </tr>\n",
       "    <tr>\n",
       "      <th>1</th>\n",
       "      <td>CopulaGAN</td>\n",
       "      <td>0.002384</td>\n",
       "      <td>SVCDetection</td>\n",
       "    </tr>\n",
       "    <tr>\n",
       "      <th>2</th>\n",
       "      <td>CopulaGAN</td>\n",
       "      <td>0.905183</td>\n",
       "      <td>KSTest</td>\n",
       "    </tr>\n",
       "    <tr>\n",
       "      <th>3</th>\n",
       "      <td>CopulaGAN</td>\n",
       "      <td>0.865399</td>\n",
       "      <td>ContinuousKLDivergence</td>\n",
       "    </tr>\n",
       "  </tbody>\n",
       "</table>\n",
       "</div>"
      ],
      "text/plain": [
       "       Model_name  Metric_score             Metric_name\n",
       "0  GaussianCopula      1.000000       LogisticDetection\n",
       "1  GaussianCopula      0.295310            SVCDetection\n",
       "2  GaussianCopula      0.971806                  KSTest\n",
       "3  GaussianCopula      0.961924  ContinuousKLDivergence\n",
       "0           CTGAN      0.660311       LogisticDetection\n",
       "1           CTGAN      0.003336            SVCDetection\n",
       "2           CTGAN      0.922241                  KSTest\n",
       "3           CTGAN      0.891538  ContinuousKLDivergence\n",
       "0       CopulaGAN      0.666571       LogisticDetection\n",
       "1       CopulaGAN      0.002384            SVCDetection\n",
       "2       CopulaGAN      0.905183                  KSTest\n",
       "3       CopulaGAN      0.865399  ContinuousKLDivergence"
      ]
     },
     "execution_count": 43,
     "metadata": {},
     "output_type": "execute_result"
    }
   ],
   "source": [
    "gen_result = pd.DataFrame(index = np.arange(4))\n",
    "gen_result['Model_name'] = 'CopulaGAN'\n",
    "gen_result['Metric_score'] = [v for k, v in gen_score.items()]\n",
    "gen_result['Metric_name'] = [k for k, v in gen_score.items()]\n",
    "\n",
    "gen_result_df_enc = pd.concat([gen_result_df_enc, gen_result])\n",
    "gen_result_df_enc"
   ]
  },
  {
   "cell_type": "markdown",
   "metadata": {},
   "source": [
    "# TVAE"
   ]
  },
  {
   "cell_type": "code",
   "execution_count": 29,
   "metadata": {},
   "outputs": [
    {
     "name": "stderr",
     "output_type": "stream",
     "text": [
      "22/10/08 19:07:16 WARN WindowExec: No Partition Defined for Window operation! Moving all data to a single partition, this can cause serious performance degradation.\n",
      "22/10/08 19:07:16 WARN WindowExec: No Partition Defined for Window operation! Moving all data to a single partition, this can cause serious performance degradation.\n",
      "                                                                                \r"
     ]
    },
    {
     "name": "stdout",
     "output_type": "stream",
     "text": [
      "Fitting of TVAE on autoencoder embeddings: \n",
      "5441.039732217789\n"
     ]
    }
   ],
   "source": [
    "generator_4 = SDVDataGenerator(\n",
    "    label='synth',\n",
    "    id_column_name='user_id',\n",
    "    model_name='tvae',\n",
    "    parallelization_level=4,\n",
    "    seed=1234\n",
    ")\n",
    "\n",
    "start = time.time()\n",
    "generator_4.fit(enc_features.drop('user_idx'))\n",
    "end = time.time()\n",
    "print(\"Fitting of TVAE on autoencoder embeddings: \")\n",
    "print(end - start)"
   ]
  },
  {
   "cell_type": "code",
   "execution_count": 30,
   "metadata": {},
   "outputs": [
    {
     "name": "stderr",
     "output_type": "stream",
     "text": [
      "22/10/08 20:38:38 WARN WindowExec: No Partition Defined for Window operation! Moving all data to a single partition, this can cause serious performance degradation.\n",
      "22/10/08 20:38:38 WARN WindowExec: No Partition Defined for Window operation! Moving all data to a single partition, this can cause serious performance degradation.\n",
      "22/10/08 20:38:49 WARN WindowExec: No Partition Defined for Window operation! Moving all data to a single partition, this can cause serious performance degradation.\n",
      "22/10/08 20:38:49 WARN WindowExec: No Partition Defined for Window operation! Moving all data to a single partition, this can cause serious performance degradation.\n"
     ]
    }
   ],
   "source": [
    "real_users = enc_features.sample(0.12)\n",
    "syn_users = generator_4.generate(real_users.count())\n",
    "gen_score = evaluate_synthetic(\n",
    "    syn_users.drop('user_id'),\n",
    "    real_users.drop('user_idx')\n",
    ")"
   ]
  },
  {
   "cell_type": "code",
   "execution_count": 31,
   "metadata": {},
   "outputs": [
    {
     "data": {
      "text/plain": [
       "{'LogisticDetection': 0.6060665911133962,\n",
       " 'SVCDetection': 0.10587860432890006,\n",
       " 'KSTest': 0.9188982297860705,\n",
       " 'ContinuousKLDivergence': 0.8967639818738263}"
      ]
     },
     "execution_count": 31,
     "metadata": {},
     "output_type": "execute_result"
    }
   ],
   "source": [
    "gen_score"
   ]
  },
  {
   "cell_type": "code",
   "execution_count": 45,
   "metadata": {},
   "outputs": [
    {
     "data": {
      "text/html": [
       "<div>\n",
       "<style scoped>\n",
       "    .dataframe tbody tr th:only-of-type {\n",
       "        vertical-align: middle;\n",
       "    }\n",
       "\n",
       "    .dataframe tbody tr th {\n",
       "        vertical-align: top;\n",
       "    }\n",
       "\n",
       "    .dataframe thead th {\n",
       "        text-align: right;\n",
       "    }\n",
       "</style>\n",
       "<table border=\"1\" class=\"dataframe\">\n",
       "  <thead>\n",
       "    <tr style=\"text-align: right;\">\n",
       "      <th></th>\n",
       "      <th>Model_name</th>\n",
       "      <th>Metric_score</th>\n",
       "      <th>Metric_name</th>\n",
       "    </tr>\n",
       "  </thead>\n",
       "  <tbody>\n",
       "    <tr>\n",
       "      <th>0</th>\n",
       "      <td>GaussianCopula</td>\n",
       "      <td>1.000000</td>\n",
       "      <td>LogisticDetection</td>\n",
       "    </tr>\n",
       "    <tr>\n",
       "      <th>1</th>\n",
       "      <td>GaussianCopula</td>\n",
       "      <td>0.295310</td>\n",
       "      <td>SVCDetection</td>\n",
       "    </tr>\n",
       "    <tr>\n",
       "      <th>2</th>\n",
       "      <td>GaussianCopula</td>\n",
       "      <td>0.971806</td>\n",
       "      <td>KSTest</td>\n",
       "    </tr>\n",
       "    <tr>\n",
       "      <th>3</th>\n",
       "      <td>GaussianCopula</td>\n",
       "      <td>0.961924</td>\n",
       "      <td>ContinuousKLDivergence</td>\n",
       "    </tr>\n",
       "    <tr>\n",
       "      <th>0</th>\n",
       "      <td>CTGAN</td>\n",
       "      <td>0.660311</td>\n",
       "      <td>LogisticDetection</td>\n",
       "    </tr>\n",
       "    <tr>\n",
       "      <th>1</th>\n",
       "      <td>CTGAN</td>\n",
       "      <td>0.003336</td>\n",
       "      <td>SVCDetection</td>\n",
       "    </tr>\n",
       "    <tr>\n",
       "      <th>2</th>\n",
       "      <td>CTGAN</td>\n",
       "      <td>0.922241</td>\n",
       "      <td>KSTest</td>\n",
       "    </tr>\n",
       "    <tr>\n",
       "      <th>3</th>\n",
       "      <td>CTGAN</td>\n",
       "      <td>0.891538</td>\n",
       "      <td>ContinuousKLDivergence</td>\n",
       "    </tr>\n",
       "    <tr>\n",
       "      <th>0</th>\n",
       "      <td>CopulaGAN</td>\n",
       "      <td>0.666571</td>\n",
       "      <td>LogisticDetection</td>\n",
       "    </tr>\n",
       "    <tr>\n",
       "      <th>1</th>\n",
       "      <td>CopulaGAN</td>\n",
       "      <td>0.002384</td>\n",
       "      <td>SVCDetection</td>\n",
       "    </tr>\n",
       "    <tr>\n",
       "      <th>2</th>\n",
       "      <td>CopulaGAN</td>\n",
       "      <td>0.905183</td>\n",
       "      <td>KSTest</td>\n",
       "    </tr>\n",
       "    <tr>\n",
       "      <th>3</th>\n",
       "      <td>CopulaGAN</td>\n",
       "      <td>0.865399</td>\n",
       "      <td>ContinuousKLDivergence</td>\n",
       "    </tr>\n",
       "    <tr>\n",
       "      <th>0</th>\n",
       "      <td>TVAE</td>\n",
       "      <td>0.606067</td>\n",
       "      <td>LogisticDetection</td>\n",
       "    </tr>\n",
       "    <tr>\n",
       "      <th>1</th>\n",
       "      <td>TVAE</td>\n",
       "      <td>0.105879</td>\n",
       "      <td>SVCDetection</td>\n",
       "    </tr>\n",
       "    <tr>\n",
       "      <th>2</th>\n",
       "      <td>TVAE</td>\n",
       "      <td>0.918898</td>\n",
       "      <td>KSTest</td>\n",
       "    </tr>\n",
       "    <tr>\n",
       "      <th>3</th>\n",
       "      <td>TVAE</td>\n",
       "      <td>0.896764</td>\n",
       "      <td>ContinuousKLDivergence</td>\n",
       "    </tr>\n",
       "  </tbody>\n",
       "</table>\n",
       "</div>"
      ],
      "text/plain": [
       "       Model_name  Metric_score             Metric_name\n",
       "0  GaussianCopula      1.000000       LogisticDetection\n",
       "1  GaussianCopula      0.295310            SVCDetection\n",
       "2  GaussianCopula      0.971806                  KSTest\n",
       "3  GaussianCopula      0.961924  ContinuousKLDivergence\n",
       "0           CTGAN      0.660311       LogisticDetection\n",
       "1           CTGAN      0.003336            SVCDetection\n",
       "2           CTGAN      0.922241                  KSTest\n",
       "3           CTGAN      0.891538  ContinuousKLDivergence\n",
       "0       CopulaGAN      0.666571       LogisticDetection\n",
       "1       CopulaGAN      0.002384            SVCDetection\n",
       "2       CopulaGAN      0.905183                  KSTest\n",
       "3       CopulaGAN      0.865399  ContinuousKLDivergence\n",
       "0            TVAE      0.606067       LogisticDetection\n",
       "1            TVAE      0.105879            SVCDetection\n",
       "2            TVAE      0.918898                  KSTest\n",
       "3            TVAE      0.896764  ContinuousKLDivergence"
      ]
     },
     "execution_count": 45,
     "metadata": {},
     "output_type": "execute_result"
    }
   ],
   "source": [
    "gen_result = pd.DataFrame(index = np.arange(4))\n",
    "gen_result['Model_name'] = 'TVAE'\n",
    "gen_result['Metric_score'] = [v for k, v in gen_score.items()]\n",
    "gen_result['Metric_name'] = [k for k, v in gen_score.items()]\n",
    "\n",
    "gen_result_df_enc = pd.concat([gen_result_df_enc, gen_result])\n",
    "gen_result_df_enc"
   ]
  },
  {
   "cell_type": "code",
   "execution_count": 46,
   "metadata": {},
   "outputs": [
    {
     "data": {
      "image/png": "[encoded data removed]",
      "text/plain": [
       "<Figure size 1600x800 with 1 Axes>"
      ]
     },
     "metadata": {},
     "output_type": "display_data"
    }
   ],
   "source": [
    "rcParams['figure.figsize'] = (3, 3)\n",
    "matplotlib.rc('xtick', labelsize=15) \n",
    "matplotlib.rc('ytick', labelsize=15)\n",
    "sns.set(font_scale=1.8) \n",
    "plot = sns.catplot(data=gen_result_df_enc, x=\"Metric_name\", y=\"Metric_score\", hue=\"Model_name\", kind=\"bar\", aspect=2, height=8, palette=[\n",
    "    \"C1\", \"C2\", \"C0\", \"C3\", \"C4\"\n",
    "], legend=False)\n",
    "ax = plot.facet_axis(0,0)\n",
    "hist_val = create_hist_values(gen_result_df_enc)\n",
    "for (p, val) in zip(ax.patches, hist_val):\n",
    "    ax.text(p.get_x() - 0.01, \n",
    "            p.get_height() * 1.02, \n",
    "           '{:1.2f}'.format(val),   \n",
    "            color='black', \n",
    "            rotation='horizontal', \n",
    "            size='medium')\n",
    "plt.legend(loc='upper center', bbox_to_anchor=(0.5, -0.1), fancybox=True, ncol=5)\n",
    "plt.tight_layout()"
   ]
  },
  {
   "cell_type": "markdown",
   "metadata": {},
   "source": [
    "# Response function Real component quality"
   ]
  },
  {
   "cell_type": "markdown",
   "metadata": {},
   "source": [
    "# Logistic Regression"
   ]
  },
  {
   "cell_type": "code",
   "execution_count": 119,
   "metadata": {},
   "outputs": [
    {
     "name": "stderr",
     "output_type": "stream",
     "text": [
      "22/10/10 12:50:52 WARN WindowExec: No Partition Defined for Window operation! Moving all data to a single partition, this can cause serious performance degradation.\n",
      "22/10/10 12:50:52 WARN WindowExec: No Partition Defined for Window operation! Moving all data to a single partition, this can cause serious performance degradation.\n",
      "22/10/10 12:50:53 WARN WindowExec: No Partition Defined for Window operation! Moving all data to a single partition, this can cause serious performance degradation.\n",
      "22/10/10 12:50:53 WARN WindowExec: No Partition Defined for Window operation! Moving all data to a single partition, this can cause serious performance degradation.\n",
      "22/10/10 12:51:16 WARN WindowExec: No Partition Defined for Window operation! Moving all data to a single partition, this can cause serious performance degradation.\n",
      "22/10/10 12:51:16 WARN WindowExec: No Partition Defined for Window operation! Moving all data to a single partition, this can cause serious performance degradation.\n",
      "22/10/10 12:51:17 WARN WindowExec: No Partition Defined for Window operation! Moving all data to a single partition, this can cause serious performance degradation.\n",
      "22/10/10 12:51:17 WARN WindowExec: No Partition Defined for Window operation! Moving all data to a single partition, this can cause serious performance degradation.\n",
      "22/10/10 12:51:31 WARN WindowExec: No Partition Defined for Window operation! Moving all data to a single partition, this can cause serious performance degradation.\n",
      "22/10/10 12:51:31 WARN WindowExec: No Partition Defined for Window operation! Moving all data to a single partition, this can cause serious performance degradation.\n"
     ]
    },
    {
     "name": "stdout",
     "output_type": "stream",
     "text": [
      "Fitting of logistic regression: \n",
      "42.29240918159485\n"
     ]
    },
    {
     "name": "stderr",
     "output_type": "stream",
     "text": [
      "22/10/10 12:51:32 WARN WindowExec: No Partition Defined for Window operation! Moving all data to a single partition, this can cause serious performance degradation.\n",
      "22/10/10 12:51:32 WARN WindowExec: No Partition Defined for Window operation! Moving all data to a single partition, this can cause serious performance degradation.\n"
     ]
    }
   ],
   "source": [
    "va = VectorAssembler(\n",
    "    inputCols=enc_features.columns[:-1] + items_df_train.columns[2:],\n",
    "    outputCol='features'\n",
    ")\n",
    "\n",
    "lr = LogisticRegression(\n",
    "    featuresCol='features',\n",
    "    labelCol='relevance',\n",
    "    probabilityCol='__lr_prob'\n",
    ")\n",
    "\n",
    "train_df = log_df_val.join(enc_features, 'user_idx', 'left')\\\n",
    "                     .join(items_df_train, 'item_idx', 'left')\\\n",
    "                     .drop('timestamp')\n",
    "train_df = train_df.na.drop()\n",
    "\n",
    "start = time.time()\n",
    "lr_model = lr.fit(va.transform(train_df))\n",
    "end = time.time()\n",
    "print(\"Fitting of logistic regression: \")\n",
    "print(end - start)"
   ]
  },
  {
   "cell_type": "code",
   "execution_count": 120,
   "metadata": {},
   "outputs": [],
   "source": [
    "vee = VectorElementExtractor(inputCol='__lr_prob', outputCol='__r1', index=1)\n",
    "br = BernoulliResponse (inputCol='__r1', outputCol='response', seed=1234)\n",
    "pipeline = Pipeline(\n",
    "    stages=[\n",
    "        va,\n",
    "        lr_model,\n",
    "        vee,\n",
    "        br\n",
    "    ]\n",
    ")"
   ]
  },
  {
   "cell_type": "code",
   "execution_count": 123,
   "metadata": {},
   "outputs": [],
   "source": [
    "test_df = log_df_test.join(enc_features_val, 'user_idx', 'left')\\\n",
    "                     .join(items_df_val, 'item_idx', 'left')\\\n",
    "                     .drop('timestamp')\n",
    "test_df = test_df.na.drop()"
   ]
  },
  {
   "cell_type": "code",
   "execution_count": 124,
   "metadata": {},
   "outputs": [
    {
     "name": "stdout",
     "output_type": "stream",
     "text": [
      "Pipeline fitting: \n",
      "0.0008294582366943359\n"
     ]
    },
    {
     "name": "stderr",
     "output_type": "stream",
     "text": [
      "22/10/10 13:04:18 WARN WindowExec: No Partition Defined for Window operation! Moving all data to a single partition, this can cause serious performance degradation.\n",
      "22/10/10 13:04:18 WARN WindowExec: No Partition Defined for Window operation! Moving all data to a single partition, this can cause serious performance degradation.\n",
      "                                                                                \r"
     ]
    }
   ],
   "source": [
    "start = time.time()\n",
    "ber_lr_model = pipeline.fit(train_df)\n",
    "end = time.time()\n",
    "print(\"Pipeline fitting: \")\n",
    "print(end - start)\n",
    "pred_df = ber_lr_model.transform(test_df).select(\"user_idx\", \"item_idx\", \"relevance\", \"__r1\").toPandas()"
   ]
  },
  {
   "cell_type": "code",
   "execution_count": 125,
   "metadata": {},
   "outputs": [
    {
     "name": "stdout",
     "output_type": "stream",
     "text": [
      "Regression ROC AUC: 0.7328205862135375\n"
     ]
    }
   ],
   "source": [
    "print(f\"Regression ROC AUC: {roc_auc_score(pred_df.relevance, pred_df.__r1)}\")"
   ]
  },
  {
   "cell_type": "markdown",
   "metadata": {},
   "source": [
    "# Random forest"
   ]
  },
  {
   "cell_type": "code",
   "execution_count": 126,
   "metadata": {},
   "outputs": [
    {
     "name": "stderr",
     "output_type": "stream",
     "text": [
      "22/10/10 13:05:48 WARN WindowExec: No Partition Defined for Window operation! Moving all data to a single partition, this can cause serious performance degradation.\n",
      "22/10/10 13:05:48 WARN WindowExec: No Partition Defined for Window operation! Moving all data to a single partition, this can cause serious performance degradation.\n",
      "22/10/10 13:05:49 WARN WindowExec: No Partition Defined for Window operation! Moving all data to a single partition, this can cause serious performance degradation.\n",
      "22/10/10 13:05:49 WARN WindowExec: No Partition Defined for Window operation! Moving all data to a single partition, this can cause serious performance degradation.\n",
      "22/10/10 13:06:03 WARN WindowExec: No Partition Defined for Window operation! Moving all data to a single partition, this can cause serious performance degradation.\n",
      "22/10/10 13:06:03 WARN WindowExec: No Partition Defined for Window operation! Moving all data to a single partition, this can cause serious performance degradation.\n",
      "22/10/10 13:06:32 WARN WindowExec: No Partition Defined for Window operation! Moving all data to a single partition, this can cause serious performance degradation.\n",
      "22/10/10 13:06:32 WARN WindowExec: No Partition Defined for Window operation! Moving all data to a single partition, this can cause serious performance degradation.\n"
     ]
    },
    {
     "name": "stdout",
     "output_type": "stream",
     "text": [
      "Fitting of random forest: \n",
      "47.818604469299316\n"
     ]
    },
    {
     "name": "stderr",
     "output_type": "stream",
     "text": [
      "22/10/10 13:06:34 WARN WindowExec: No Partition Defined for Window operation! Moving all data to a single partition, this can cause serious performance degradation.\n",
      "22/10/10 13:06:34 WARN WindowExec: No Partition Defined for Window operation! Moving all data to a single partition, this can cause serious performance degradation.\n"
     ]
    }
   ],
   "source": [
    "rf = RandomForestClassifier(\n",
    "    featuresCol='features',\n",
    "    labelCol='relevance',\n",
    "    probabilityCol='__rf_prob'\n",
    ")\n",
    "\n",
    "start = time.time()\n",
    "rf_model = rf.fit(va.transform(train_df))\n",
    "end = time.time()\n",
    "print(\"Fitting of random forest: \")\n",
    "print(end - start)"
   ]
  },
  {
   "cell_type": "code",
   "execution_count": 127,
   "metadata": {},
   "outputs": [],
   "source": [
    "vee = VectorElementExtractor(inputCol='__rf_prob', outputCol='__r1', index=1)\n",
    "br = BernoulliResponse(inputCol='__r1', outputCol='response', seed=1234)\n",
    "pipeline = Pipeline(\n",
    "    stages=[\n",
    "        va,\n",
    "        rf_model,\n",
    "        vee,\n",
    "        br\n",
    "    ]\n",
    ")"
   ]
  },
  {
   "cell_type": "code",
   "execution_count": 128,
   "metadata": {},
   "outputs": [
    {
     "name": "stdout",
     "output_type": "stream",
     "text": [
      "Pipeline fitting: \n",
      "0.0004703998565673828\n"
     ]
    },
    {
     "name": "stderr",
     "output_type": "stream",
     "text": [
      "22/10/10 13:06:52 WARN WindowExec: No Partition Defined for Window operation! Moving all data to a single partition, this can cause serious performance degradation.\n",
      "22/10/10 13:06:52 WARN WindowExec: No Partition Defined for Window operation! Moving all data to a single partition, this can cause serious performance degradation.\n",
      "                                                                                \r"
     ]
    }
   ],
   "source": [
    "start = time.time()\n",
    "ber_rf_model = pipeline.fit(train_df)\n",
    "end = time.time()\n",
    "print(\"Pipeline fitting: \")\n",
    "print(end - start)\n",
    "pred_df = ber_rf_model.transform(test_df).select(\"user_idx\", \"item_idx\", \"relevance\", \"__r1\").toPandas()"
   ]
  },
  {
   "cell_type": "code",
   "execution_count": 129,
   "metadata": {},
   "outputs": [
    {
     "name": "stdout",
     "output_type": "stream",
     "text": [
      "Random forest ROC AUC: 0.7102963776389692\n"
     ]
    }
   ],
   "source": [
    "print(f\"Random forest ROC AUC: {roc_auc_score(pred_df.relevance, pred_df.__r1)}\")"
   ]
  },
  {
   "cell_type": "markdown",
   "metadata": {},
   "source": [
    "# Factorization machines"
   ]
  },
  {
   "cell_type": "code",
   "execution_count": 130,
   "metadata": {},
   "outputs": [
    {
     "name": "stderr",
     "output_type": "stream",
     "text": [
      "22/10/10 13:08:06 WARN WindowExec: No Partition Defined for Window operation! Moving all data to a single partition, this can cause serious performance degradation.\n",
      "22/10/10 13:08:06 WARN WindowExec: No Partition Defined for Window operation! Moving all data to a single partition, this can cause serious performance degradation.\n",
      "22/10/10 13:08:07 WARN WindowExec: No Partition Defined for Window operation! Moving all data to a single partition, this can cause serious performance degradation.\n",
      "22/10/10 13:08:07 WARN WindowExec: No Partition Defined for Window operation! Moving all data to a single partition, this can cause serious performance degradation.\n",
      "22/10/10 13:28:38 WARN WindowExec: No Partition Defined for Window operation! Moving all data to a single partition, this can cause serious performance degradation.\n",
      "22/10/10 13:28:38 WARN WindowExec: No Partition Defined for Window operation! Moving all data to a single partition, this can cause serious performance degradation.\n"
     ]
    },
    {
     "name": "stdout",
     "output_type": "stream",
     "text": [
      "Fitting of factorization machines: \n",
      "1235.5770754814148\n"
     ]
    },
    {
     "name": "stderr",
     "output_type": "stream",
     "text": [
      "22/10/10 13:28:40 WARN WindowExec: No Partition Defined for Window operation! Moving all data to a single partition, this can cause serious performance degradation.\n",
      "22/10/10 13:28:40 WARN WindowExec: No Partition Defined for Window operation! Moving all data to a single partition, this can cause serious performance degradation.\n"
     ]
    }
   ],
   "source": [
    "fm = FMClassifier(\n",
    "    featuresCol='features',\n",
    "    labelCol='relevance',\n",
    "    probabilityCol='__fm_prob'\n",
    ")\n",
    "\n",
    "start = time.time()\n",
    "fm_model = fm.fit(va.transform(train_df))\n",
    "end = time.time()\n",
    "print(\"Fitting of factorization machines: \")\n",
    "print(end - start)"
   ]
  },
  {
   "cell_type": "code",
   "execution_count": 131,
   "metadata": {},
   "outputs": [],
   "source": [
    "vee = VectorElementExtractor(inputCol='__fm_prob', outputCol='__r1', index=1)\n",
    "br = BernoulliResponse(inputCol='__r1', outputCol='response', seed=1234)\n",
    "pipeline = Pipeline(\n",
    "    stages=[\n",
    "        va,\n",
    "        fm_model,\n",
    "        vee,\n",
    "        br\n",
    "    ]\n",
    ")"
   ]
  },
  {
   "cell_type": "code",
   "execution_count": 132,
   "metadata": {},
   "outputs": [
    {
     "name": "stdout",
     "output_type": "stream",
     "text": [
      "Pipeline fitting: \n",
      "0.0013365745544433594\n"
     ]
    },
    {
     "name": "stderr",
     "output_type": "stream",
     "text": [
      "22/10/10 13:29:04 WARN WindowExec: No Partition Defined for Window operation! Moving all data to a single partition, this can cause serious performance degradation.\n",
      "22/10/10 13:29:04 WARN WindowExec: No Partition Defined for Window operation! Moving all data to a single partition, this can cause serious performance degradation.\n",
      "                                                                                \r"
     ]
    }
   ],
   "source": [
    "start = time.time()\n",
    "ber_fm_model = pipeline.fit(train_df)\n",
    "end = time.time()\n",
    "print(\"Pipeline fitting: \")\n",
    "print(end - start)\n",
    "pred_df = ber_fm_model.transform(test_df).select(\"user_idx\", \"item_idx\", \"relevance\", \"__r1\").toPandas()"
   ]
  },
  {
   "cell_type": "code",
   "execution_count": 133,
   "metadata": {},
   "outputs": [
    {
     "name": "stdout",
     "output_type": "stream",
     "text": [
      "Factorization machines ROC AUC: 0.6727904587541585\n"
     ]
    }
   ],
   "source": [
    "print(f\"Factorization machines ROC AUC: {roc_auc_score(pred_df.relevance, pred_df.__r1)}\")"
   ]
  },
  {
   "cell_type": "markdown",
   "metadata": {},
   "source": [
    "Качество моделей генерации синтетики в случае эмбеддингов на основе автоэнкодера чуть хуже чем в случае PCA. Качество компоненты Real на эмбеддингах превосходит качество компоненты Real на исходных профилях для всех моделей отклика кроме Factorization machines.\n",
    "\n",
    "По результатам экспериментального исследования было принято решение об использовании метода PCA для генерации эмбеддингов профилей пользователей в случае датасета MovieLens."
   ]
  },
  {
   "cell_type": "code",
   "execution_count": null,
   "metadata": {},
   "outputs": [],
   "source": []
  }
 ],
 "metadata": {
  "kernelspec": {
   "display_name": "Python [conda env:.conda-simulator]",
   "language": "python",
   "name": "conda-env-.conda-simulator-py"
  },
  "language_info": {
   "codemirror_mode": {
    "name": "ipython",
    "version": 3
   },
   "file_extension": ".py",
   "mimetype": "text/x-python",
   "name": "python",
   "nbconvert_exporter": "python",
   "pygments_lexer": "ipython3",
   "version": "3.8.13"
  },
  "vscode": {
   "interpreter": {
    "hash": "78c166fdb4da85b875f4a1b4184bc0bbe6f549198de4823972c921f29f4d027c"
   }
  }
 },
 "nbformat": 4,
 "nbformat_minor": 4
}
