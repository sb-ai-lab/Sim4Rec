{
 "cells": [
  {
   "cell_type": "markdown",
   "id": "99db812a-14bc-42f5-8551-f3cdbc573dac",
   "metadata": {},
   "source": [
    "# Иллюстрация загрузки и подготовки данных Amazon"
   ]
  },
  {
   "cell_type": "markdown",
   "id": "3ced626a-1141-44a3-9628-52c3e9158cac",
   "metadata": {},
   "source": [
    "### $\\textbf{Содержание}$:\n",
    "\n",
    "### $\\textbf{I. Загрузка данных}$\n",
    "### Данные загружаются из сети в форме .gz архива.\n",
    "------"
   ]
  },
  {
   "cell_type": "markdown",
   "id": "c4133db2-8255-4861-bca6-d3ce94a4b2b0",
   "metadata": {},
   "source": [
    "### $\\textbf{II. Очистка данных}$\n",
    "### Из записей в txt файле для каждой записи извлекаются атрибуты и преобразуются в следующие признаки: \n",
    "#### - $\\it{item\\_id} \\in \\mathbb{N}$: идентификатор предложения; \n",
    "#### - $\\it{user\\_id} \\in \\mathbb{N}$: идентификатор пользователя;\n",
    "#### - $\\it{helpfulness} \\in \\mathbb{R}^+$: полезность предложения для пользователя;\n",
    "#### - $\\it{score} \\in [1, 5]$: полезность предложения для пользователя;\n",
    "#### - $\\it{timestamp} \\in \\mathbb{N}$: временная метка;\n",
    "#### - $\\it{review}$: полный текст отзыва клиента на предложение;\n",
    "------"
   ]
  },
  {
   "cell_type": "markdown",
   "id": "ecc3da61-b98e-4fef-a662-02443bf8c5d4",
   "metadata": {},
   "source": [
    "### I. Загрузка данных"
   ]
  },
  {
   "cell_type": "code",
   "execution_count": 1,
   "id": "b3e180bd-f676-41e4-84d1-6f4fdd543bbb",
   "metadata": {},
   "outputs": [],
   "source": [
    "import pandas as pd\n",
    "import numpy as np\n",
    "\n",
    "import requests\n",
    "import gzip\n",
    "from tqdm.notebook import tqdm\n",
    "import re"
   ]
  },
  {
   "cell_type": "code",
   "execution_count": 2,
   "id": "1cf66db9-01eb-467e-9167-1eadb5117c37",
   "metadata": {},
   "outputs": [],
   "source": [
    "archives_urls = \"http://snap.stanford.edu/data/amazon/all.txt.gz\"\n",
    "file_name = \"all.txt\"\n",
    "file_name_parquet = \"all.parquet\""
   ]
  },
  {
   "cell_type": "code",
   "execution_count": 3,
   "id": "79b612bf-ae82-4634-8f9a-297548012ab5",
   "metadata": {},
   "outputs": [],
   "source": [
    "def save_archive(\n",
    "    url, \n",
    "    local_filename\n",
    ") -> None:\n",
    "    \"\"\"\n",
    "    The function reads data from the Internet and save as archive\n",
    "    :param url: url addres\n",
    "    :type url: str\n",
    "    :param local_filename: filename for data to be saved\n",
    "    :type local_filename: str\n",
    "    \"\"\"\n",
    "    req = requests.get(url, stream=True)\n",
    "    \n",
    "    print(url)\n",
    "    with open(local_filename, 'wb') as f:\n",
    "        for chunk in tqdm(req.iter_content(chunk_size=1024)):\n",
    "            if chunk:\n",
    "                f.write(chunk)\n",
    "                f.flush()\n",
    "    print(\"Done\")"
   ]
  },
  {
   "cell_type": "code",
   "execution_count": 4,
   "id": "9f97ed4d-6c53-4afb-92e1-aea92007c48f",
   "metadata": {},
   "outputs": [
    {
     "name": "stdout",
     "output_type": "stream",
     "text": [
      "http://snap.stanford.edu/data/amazon/all.txt.gz\n"
     ]
    },
    {
     "data": {
      "application/vnd.jupyter.widget-view+json": {
       "model_id": "823406becdb34e2f9dd98451332f9fc3",
       "version_major": 2,
       "version_minor": 0
      },
      "text/plain": [
       "0it [00:00, ?it/s]"
      ]
     },
     "metadata": {},
     "output_type": "display_data"
    },
    {
     "name": "stdout",
     "output_type": "stream",
     "text": [
      "Done\n"
     ]
    }
   ],
   "source": [
    "save_archive(archives_urls, file_name + r\".gz\")"
   ]
  },
  {
   "cell_type": "markdown",
   "id": "f4f3ee0d-11a3-4c6b-b9e6-5de4cbdbfb6c",
   "metadata": {},
   "source": [
    "### II. Очистка данных"
   ]
  },
  {
   "cell_type": "code",
   "execution_count": 3,
   "id": "0f4a029d-c1a4-4bd1-8516-95d75169b0ea",
   "metadata": {},
   "outputs": [],
   "source": [
    "def helpfulness_procc(x):\n",
    "    \"\"\"\n",
    "    The function for 'helpfulness' attribute processing\n",
    "    :param x: helpfulness value\n",
    "    :type x: str\n",
    "    :return: numeric helpfulness\n",
    "    :rtype: float\n",
    "    \"\"\"\n",
    "    result = re.search(r\"(\\d+)/(\\d+)\", x)\n",
    "    try:\n",
    "        i, j = float(result.group(1)), float(result.group(2))\n",
    "    except:\n",
    "        i, j = None, None\n",
    "        \n",
    "    if i == None:\n",
    "        return 0\n",
    "    \n",
    "    if i == 0 or j == 0:\n",
    "        return 0\n",
    "    \n",
    "    return round(i/j, 3)"
   ]
  },
  {
   "cell_type": "code",
   "execution_count": 4,
   "id": "847a35cb-eb9b-4331-b909-55d7803dc6e5",
   "metadata": {},
   "outputs": [],
   "source": [
    "def clean_data(\n",
    "    file_name: str,\n",
    "    chunck_size: int = 10000\n",
    ") -> pd.DataFrame:\n",
    "    \n",
    "    with open(file_name) as f:\n",
    "        lines = f.readlines()\n",
    "    print(f\"Rows count: {len(lines)}\")\n",
    "    \n",
    "    item_id = lines[0::11]\n",
    "    user_id = lines[3::11]\n",
    "    helpfulness = lines[5::11]\n",
    "    score = lines[6::11]\n",
    "    timestamp = lines[7::11]\n",
    "    summary = lines[8::11]\n",
    "    text = lines[9::11]\n",
    "    \n",
    "    #### Преобразование данных\n",
    "    df = pd.DataFrame({\"item_id\": item_id,\n",
    "                   \"user_id\": user_id,\n",
    "                   \"helpfulness\": helpfulness,\n",
    "                   \"score\": score,\n",
    "                   \"timestamp\": timestamp,\n",
    "                   \"summary\": summary,\n",
    "                   \"text\": text})\n",
    "    \n",
    "    df_res = pd.DataFrame()\n",
    "    for i in range(int(np.ceil(df.shape[0] / chunck_size))):\n",
    "        chunck = df.iloc[i*chunck_size:(i+1)*chunck_size, :]\n",
    "    \n",
    "        chunck.item_id = chunck.item_id.apply(lambda x: x[19:-1])\n",
    "        chunck.user_id = chunck.user_id.apply(lambda x: x[15:-1])\n",
    "        chunck.helpfulness = chunck.helpfulness.apply(lambda x: x[20:-1])\n",
    "        chunck.score = chunck.score.apply(lambda x: x[14:-1])\n",
    "        chunck.timestamp = chunck.timestamp.apply(lambda x: x[13:-1])\n",
    "        chunck.summary = chunck.summary.apply(lambda x: x[16:-1])\n",
    "        chunck.text = chunck.text.apply(lambda x: x[13:-1])\n",
    "\n",
    "        chunck.score = chunck.score.astype(float)\n",
    "        chunck.timestamp = chunck.timestamp.astype(int)\n",
    "        chunck = chunck[(chunck.item_id != \"unknown\") & (chunck.user_id != \"unknown\")]\n",
    "        \n",
    "        df_res = df_res.append(chunck, ignore_index=True)\n",
    "\n",
    "    #### Обработка категориальных признаков\n",
    "    df_ = df_res.copy()\n",
    "    df_.item_id = df_.item_id.astype('category').cat.codes\n",
    "    df_.user_id = df_.user_id.astype('category').cat.codes\n",
    "    \n",
    "    #### Обработка признака helpfulness\n",
    "    df_.helpfulness = df_.helpfulness.apply(lambda x: helpfulness_procc(x))\n",
    "    \n",
    "    #### Обработка текстовых признаков (объединение в общий текст)\n",
    "    df_[\"review\"] = df_[\"summary\"] + \" \" + df_[\"text\"]\n",
    "    df_ = df_.drop([\"summary\", \"text\"], axis=1)\n",
    "    \n",
    "    return df_"
   ]
  },
  {
   "cell_type": "code",
   "execution_count": 9,
   "id": "b0d9fcc3-e6c3-4bdd-8513-21a9e4848a07",
   "metadata": {},
   "outputs": [
    {
     "name": "stdout",
     "output_type": "stream",
     "text": [
      "Rows count: 381554470\n",
      "DataFrame shape: (29667966, 6)\n"
     ]
    },
    {
     "data": {
      "text/html": [
       "<div>\n",
       "<style scoped>\n",
       "    .dataframe tbody tr th:only-of-type {\n",
       "        vertical-align: middle;\n",
       "    }\n",
       "\n",
       "    .dataframe tbody tr th {\n",
       "        vertical-align: top;\n",
       "    }\n",
       "\n",
       "    .dataframe thead th {\n",
       "        text-align: right;\n",
       "    }\n",
       "</style>\n",
       "<table border=\"1\" class=\"dataframe\">\n",
       "  <thead>\n",
       "    <tr style=\"text-align: right;\">\n",
       "      <th></th>\n",
       "      <th>item_id</th>\n",
       "      <th>user_id</th>\n",
       "      <th>helpfulness</th>\n",
       "      <th>score</th>\n",
       "      <th>timestamp</th>\n",
       "      <th>review</th>\n",
       "    </tr>\n",
       "  </thead>\n",
       "  <tbody>\n",
       "    <tr>\n",
       "      <th>0</th>\n",
       "      <td>1208658</td>\n",
       "      <td>4780343</td>\n",
       "      <td>1.0</td>\n",
       "      <td>4.0</td>\n",
       "      <td>1182816000</td>\n",
       "      <td>Periwinkle Dartmouth Blazer I own the Austin R...</td>\n",
       "    </tr>\n",
       "    <tr>\n",
       "      <th>1</th>\n",
       "      <td>1904404</td>\n",
       "      <td>5567478</td>\n",
       "      <td>0.0</td>\n",
       "      <td>5.0</td>\n",
       "      <td>1262304000</td>\n",
       "      <td>Great fun! Got these last Christmas as a gag g...</td>\n",
       "    </tr>\n",
       "    <tr>\n",
       "      <th>2</th>\n",
       "      <td>1904404</td>\n",
       "      <td>4662915</td>\n",
       "      <td>0.0</td>\n",
       "      <td>3.0</td>\n",
       "      <td>1224633600</td>\n",
       "      <td>more like funchuck Gave this to my dad for a g...</td>\n",
       "    </tr>\n",
       "    <tr>\n",
       "      <th>3</th>\n",
       "      <td>537382</td>\n",
       "      <td>6416765</td>\n",
       "      <td>1.0</td>\n",
       "      <td>4.0</td>\n",
       "      <td>940636800</td>\n",
       "      <td>Nice collection of Julie Strain images This is...</td>\n",
       "    </tr>\n",
       "    <tr>\n",
       "      <th>5</th>\n",
       "      <td>812832</td>\n",
       "      <td>2763196</td>\n",
       "      <td>0.0</td>\n",
       "      <td>5.0</td>\n",
       "      <td>1332288000</td>\n",
       "      <td>Great CD My lovely Pat has one of the GREAT vo...</td>\n",
       "    </tr>\n",
       "  </tbody>\n",
       "</table>\n",
       "</div>"
      ],
      "text/plain": [
       "   item_id  user_id  helpfulness  score   timestamp  \\\n",
       "0  1208658  4780343          1.0    4.0  1182816000   \n",
       "1  1904404  5567478          0.0    5.0  1262304000   \n",
       "2  1904404  4662915          0.0    3.0  1224633600   \n",
       "3   537382  6416765          1.0    4.0   940636800   \n",
       "5   812832  2763196          0.0    5.0  1332288000   \n",
       "\n",
       "                                              review  \n",
       "0  Periwinkle Dartmouth Blazer I own the Austin R...  \n",
       "1  Great fun! Got these last Christmas as a gag g...  \n",
       "2  more like funchuck Gave this to my dad for a g...  \n",
       "3  Nice collection of Julie Strain images This is...  \n",
       "5  Great CD My lovely Pat has one of the GREAT vo...  "
      ]
     },
     "execution_count": 9,
     "metadata": {},
     "output_type": "execute_result"
    }
   ],
   "source": [
    "df = clean_data(file_name)\n",
    "print(f\"Datafraem shape: {df.shape}\")\n",
    "df.head()"
   ]
  },
  {
   "cell_type": "code",
   "execution_count": null,
   "id": "12bd7c17-2a8a-48eb-9b89-3c78f00db4bc",
   "metadata": {},
   "outputs": [],
   "source": [
    "df.to_parquet(file_name_parquet)"
   ]
  }
 ],
 "metadata": {
  "kernelspec": {
   "display_name": "Python [conda env:.conda-sber3.8]",
   "language": "python",
   "name": "conda-env-.conda-sber3.8-py"
  },
  "language_info": {
   "codemirror_mode": {
    "name": "ipython",
    "version": 3
   },
   "file_extension": ".py",
   "mimetype": "text/x-python",
   "name": "python",
   "nbconvert_exporter": "python",
   "pygments_lexer": "ipython3",
   "version": "3.8.13"
  }
 },
 "nbformat": 4,
 "nbformat_minor": 5
}
