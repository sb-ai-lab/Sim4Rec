{
 "cells": [
  {
   "cell_type": "code",
   "execution_count": 6,
   "id": "e9c599b0",
   "metadata": {},
   "outputs": [
    {
     "data": {
      "text/plain": [
       "<replay.session_handler.State at 0x7fb6e0564910>"
      ]
     },
     "execution_count": 6,
     "metadata": {},
     "output_type": "execute_result"
    }
   ],
   "source": [
    "import warnings\n",
    "warnings.filterwarnings(\"ignore\")\n",
    "\n",
    "import random\n",
    "import time\n",
    "\n",
    "import pandas as pd\n",
    "import numpy as np\n",
    "import itertools\n",
    "\n",
    "from pyspark.sql import SparkSession\n",
    "from pyspark.ml.classification import LogisticRegression\n",
    "from pyspark.ml.feature import VectorAssembler, PCA\n",
    "from pyspark.ml import PipelineModel\n",
    "from pyspark.ml.functions import vector_to_array\n",
    "from pyspark.sql.functions import col\n",
    "import pyspark.sql.types as st\n",
    "import pyspark.sql.functions as sf\n",
    "\n",
    "from replay.session_handler import State\n",
    "from replay.metrics import NDCG, Precision, RocAuc\n",
    "from replay.data_preparator import Indexer\n",
    "\n",
    "from sim4rec.utils import pandas_to_spark\n",
    "from sim4rec.modules import SDVDataGenerator, RealDataGenerator\n",
    "from sim4rec.modules import evaluate_synthetic\n",
    "from sim4rec.modules import Simulator\n",
    "from sim4rec.modules import EvaluateMetrics\n",
    "from sim4rec.utils import VectorElementExtractor\n",
    "from sim4rec.response import NoiseResponse, CosineSimilatiry\n",
    "from sim4rec.response import ParametricResponseFunction, BernoulliResponse\n",
    "from sim4rec.modules import QualityControlObjective\n",
    "\n",
    "from transformers import ModelCalibration\n",
    "\n",
    "from replay.models import UCB\n",
    "\n",
    "%matplotlib inline\n",
    "import matplotlib.pyplot as plt\n",
    "from mpl_toolkits.mplot3d import Axes3D\n",
    "\n",
    "spark = SparkSession.builder\\\n",
    "    .appName('simulator_ml_quality')\\\n",
    "    .master('local[4]')\\\n",
    "    .config('spark.sql.shuffle.partitions', '4')\\\n",
    "    .config('spark.default.parallelism', '4')\\\n",
    "    .config('spark.driver.extraJavaOptions', '-XX:+UseG1GC')\\\n",
    "    .config('spark.executor.extraJavaOptions', '-XX:+UseG1GC')\\\n",
    "    .config('spark.sql.autoBroadcastJoinThreshold', '-1')\\\n",
    "    .config('spark.driver.memory', '32g')\\\n",
    "    .config('spark.local.dir', './tmp')\\\n",
    "    .getOrCreate()\n",
    "\n",
    "spark.sparkContext.setLogLevel('ERROR')\n",
    "State(spark)"
   ]
  },
  {
   "cell_type": "markdown",
   "id": "e395f877",
   "metadata": {},
   "source": [
    "# Read data"
   ]
  },
  {
   "cell_type": "code",
   "execution_count": 137,
   "id": "a51369ea",
   "metadata": {},
   "outputs": [],
   "source": [
    "DATA_PATH = r'file:////mnt/dgxhome/home/estavinova/simulator/data/Movielens/'\n",
    "CHECKPOINTS_DIR = '/data/home/estavinova/tmp/checkpoints/ml_quality_control'\n",
    "CHECKPOINTS_DIR2='/data/home/estavinova/tmp/checkpoints/movielens_quality_real'\n",
    "CHECKPOINTS_DIR3='/data/home/estavinova/tmp/checkpoints/movielens_quality_opt'"
   ]
  },
  {
   "cell_type": "code",
   "execution_count": 4,
   "id": "6b024f59",
   "metadata": {},
   "outputs": [
    {
     "name": "stderr",
     "output_type": "stream",
     "text": [
      "                                                                                \r"
     ]
    },
    {
     "data": {
      "text/plain": [
       "10000132"
      ]
     },
     "execution_count": 4,
     "metadata": {},
     "output_type": "execute_result"
    }
   ],
   "source": [
    "USER_PREFIX = 'user_'\n",
    "ITEM_PREFIX = 'item_'\n",
    "\n",
    "USER_SCHEMA = st.StructType(\n",
    "    [st.StructField('user_idx', st.IntegerType())] +\\\n",
    "    [st.StructField(f'genre{i}', st.DoubleType()) for i in range(19)] +\\\n",
    "    [st.StructField('rating_avg', st.DoubleType())] +\\\n",
    "    [st.StructField(f'w2v_{i}', st.DoubleType()) for i in range(300)]\n",
    ")\n",
    "ITEM_SCHEMA = st.StructType(\n",
    "    [st.StructField('item_idx', st.IntegerType())] +\\\n",
    "    [st.StructField('year', st.IntegerType())] +\\\n",
    "    [st.StructField('rating_avg', st.DoubleType())] +\\\n",
    "    [st.StructField(f'genre{i}', st.DoubleType()) for i in range(19)] +\\\n",
    "    [st.StructField(f'w2v_{i}', st.DoubleType()) for i in range(300)]\n",
    ")\n",
    "LOG_SCHEMA = st.StructType([\n",
    "    st.StructField('user_idx', st.IntegerType()),\n",
    "    st.StructField('item_idx', st.IntegerType()),\n",
    "    st.StructField('relevance', st.DoubleType()),\n",
    "    st.StructField('timestamp', st.IntegerType())\n",
    "])\n",
    "\n",
    "users_df_train = spark.read.csv(DATA_PATH+'train/users.csv', header=True, schema=USER_SCHEMA)\n",
    "items_df_train = spark.read.csv(DATA_PATH+'train/items.csv', header=True, schema=ITEM_SCHEMA)\n",
    "log_df_train   = spark.read.csv(DATA_PATH+'train/rating.csv', header=True, schema=LOG_SCHEMA)\n",
    "\n",
    "users_df_train = users_df_train.withColumnRenamed(\"user_idx\", \"user_id\")\n",
    "items_df_train = items_df_train.withColumnRenamed(\"item_idx\", \"item_id\")\n",
    "log_df_train = log_df_train.withColumnRenamed(\"user_idx\", \"user_id\")\n",
    "log_df_train = log_df_train.withColumnRenamed(\"item_idx\", \"item_id\")\n",
    "\n",
    "log_df_train = log_df_train.join(users_df_train, log_df_train['user_id'] == users_df_train['user_id'], 'leftsemi')\n",
    "log_df_train = log_df_train.join(items_df_train, log_df_train['item_id'] == items_df_train['item_id'], 'leftsemi')\n",
    "\n",
    "for c in users_df_train.columns[1:]:\n",
    "    users_df_train = users_df_train.withColumnRenamed(c, 'user_' + c)\n",
    "    \n",
    "for c in items_df_train.columns[1:]:\n",
    "    items_df_train = items_df_train.withColumnRenamed(c, 'item_' + c)\n",
    "\n",
    "log_df_train = log_df_train.withColumn(\n",
    "    'relevance', sf.when(sf.col('relevance') >= 3, 1).otherwise(0))\n",
    "\n",
    "items_df_train = items_df_train.na.drop()\n",
    "\n",
    "users_df_train = users_df_train.cache()\n",
    "items_df_train = items_df_train.cache()\n",
    "log_df_train = log_df_train.cache()\n",
    "\n",
    "users_df_train.count()\n",
    "items_df_train.count()\n",
    "log_df_train.count()"
   ]
  },
  {
   "cell_type": "code",
   "execution_count": 13,
   "id": "bba252f2",
   "metadata": {},
   "outputs": [
    {
     "name": "stderr",
     "output_type": "stream",
     "text": [
      "                                                                                \r"
     ]
    },
    {
     "data": {
      "text/plain": [
       "5000065"
      ]
     },
     "execution_count": 13,
     "metadata": {},
     "output_type": "execute_result"
    }
   ],
   "source": [
    "users_df_val = spark.read.csv(DATA_PATH+'val/users.csv', header=True, schema=USER_SCHEMA)\n",
    "items_df_val = spark.read.csv(DATA_PATH+'val/items.csv', header=True, schema=ITEM_SCHEMA)\n",
    "log_df_val   = spark.read.csv(DATA_PATH+'val/rating.csv', header=True, schema=LOG_SCHEMA)\n",
    "\n",
    "users_df_val = users_df_val.withColumnRenamed(\"user_idx\", \"user_id\")\n",
    "items_df_val = items_df_val.withColumnRenamed(\"item_idx\", \"item_id\")\n",
    "log_df_val = log_df_val.withColumnRenamed(\"user_idx\", \"user_id\")\n",
    "log_df_val = log_df_val.withColumnRenamed(\"item_idx\", \"item_id\")\n",
    "\n",
    "log_df_val = log_df_val.join(users_df_val, log_df_val['user_id'] == users_df_val['user_id'], 'leftsemi')\n",
    "log_df_val = log_df_val.join(items_df_val, log_df_val['item_id'] == items_df_val['item_id'], 'leftsemi')\n",
    "\n",
    "for c in users_df_val.columns[1:]:\n",
    "    users_df_val = users_df_val.withColumnRenamed(c, 'user_' + c)\n",
    "    \n",
    "for c in items_df_val.columns[1:]:\n",
    "    items_df_val = items_df_val.withColumnRenamed(c, 'item_' + c)\n",
    "\n",
    "log_df_val = log_df_val.withColumn(\n",
    "    'relevance', sf.when(sf.col('relevance') >= 3, 1).otherwise(0))\n",
    "\n",
    "items_df_val = items_df_val.na.drop()\n",
    "\n",
    "users_df_val = users_df_val.cache()\n",
    "items_df_val = items_df_val.cache()\n",
    "log_df_val = log_df_val.cache()\n",
    "\n",
    "users_df_val.count()\n",
    "items_df_val.count()\n",
    "log_df_val.count()"
   ]
  },
  {
   "cell_type": "code",
   "execution_count": 14,
   "id": "8edcbbfa",
   "metadata": {},
   "outputs": [
    {
     "name": "stderr",
     "output_type": "stream",
     "text": [
      "                                                                                \r"
     ]
    },
    {
     "data": {
      "text/plain": [
       "5000066"
      ]
     },
     "execution_count": 14,
     "metadata": {},
     "output_type": "execute_result"
    }
   ],
   "source": [
    "users_df_test = spark.read.csv(DATA_PATH+'test/users.csv', header=True, schema=USER_SCHEMA)\n",
    "items_df_test = spark.read.csv(DATA_PATH+'test/items.csv', header=True, schema=ITEM_SCHEMA)\n",
    "log_df_test   = spark.read.csv(DATA_PATH+'test/rating.csv', header=True, schema=LOG_SCHEMA)\n",
    "\n",
    "users_df_test = users_df_test.withColumnRenamed(\"user_idx\", \"user_id\")\n",
    "items_df_test = items_df_test.withColumnRenamed(\"item_idx\", \"item_id\")\n",
    "log_df_test = log_df_test.withColumnRenamed(\"user_idx\", \"user_id\")\n",
    "log_df_test = log_df_test.withColumnRenamed(\"item_idx\", \"item_id\")\n",
    "\n",
    "log_df_test = log_df_test.join(users_df_test, log_df_test['user_id'] == users_df_test['user_id'], 'leftsemi')\n",
    "log_df_test = log_df_test.join(items_df_test, log_df_test['item_id'] == items_df_test['item_id'], 'leftsemi')\n",
    "\n",
    "for c in users_df_test.columns[1:]:\n",
    "    users_df_test = users_df_test.withColumnRenamed(c, 'user_' + c)\n",
    "    \n",
    "for c in items_df_test.columns[1:]:\n",
    "    items_df_test = items_df_test.withColumnRenamed(c, 'item_' + c)\n",
    "\n",
    "log_df_test = log_df_test.withColumn(\n",
    "    'relevance', sf.when(sf.col('relevance') >= 3, 1).otherwise(0))\n",
    "\n",
    "items_df_test = items_df_test.na.drop()\n",
    "\n",
    "users_df_test = users_df_test.cache()\n",
    "items_df_test = items_df_test.cache()\n",
    "log_df_test = log_df_test.cache()\n",
    "\n",
    "users_df_test.count()\n",
    "items_df_test.count()\n",
    "log_df_test.count()"
   ]
  },
  {
   "cell_type": "markdown",
   "id": "15fad4e4",
   "metadata": {},
   "source": [
    "# Embeddings generation"
   ]
  },
  {
   "cell_type": "code",
   "execution_count": 15,
   "id": "d9a19b5e",
   "metadata": {},
   "outputs": [
    {
     "name": "stderr",
     "output_type": "stream",
     "text": [
      "                                                                                \r"
     ]
    },
    {
     "name": "stdout",
     "output_type": "stream",
     "text": [
      "CPU times: user 34.9 ms, sys: 4.01 ms, total: 38.9 ms\n",
      "Wall time: 6.58 s\n"
     ]
    },
    {
     "data": {
      "text/plain": [
       "DenseVector([0.5139, 0.1649, 0.0891, 0.0435, 0.0366, 0.0279, 0.0189, 0.0136, 0.0108])"
      ]
     },
     "execution_count": 15,
     "metadata": {},
     "output_type": "execute_result"
    }
   ],
   "source": [
    "%%time\n",
    "va = VectorAssembler(\n",
    "    inputCols=users_df_train.columns[1:],\n",
    "    outputCol='features'\n",
    ")\n",
    "pca = PCA(k=9, inputCol=\"features\")\n",
    "pca.setOutputCol(\"pca_features\")\n",
    "model = pca.fit(va.transform(users_df_train))\n",
    "model.explainedVariance"
   ]
  },
  {
   "cell_type": "code",
   "execution_count": 16,
   "id": "2bac6d43",
   "metadata": {},
   "outputs": [
    {
     "name": "stderr",
     "output_type": "stream",
     "text": [
      "                                                                                \r"
     ]
    },
    {
     "name": "stdout",
     "output_type": "stream",
     "text": [
      "CPU times: user 3.01 s, sys: 68.8 ms, total: 3.08 s\n",
      "Wall time: 5.96 s\n"
     ]
    },
    {
     "data": {
      "text/html": [
       "<div>\n",
       "<style scoped>\n",
       "    .dataframe tbody tr th:only-of-type {\n",
       "        vertical-align: middle;\n",
       "    }\n",
       "\n",
       "    .dataframe tbody tr th {\n",
       "        vertical-align: top;\n",
       "    }\n",
       "\n",
       "    .dataframe thead th {\n",
       "        text-align: right;\n",
       "    }\n",
       "</style>\n",
       "<table border=\"1\" class=\"dataframe\">\n",
       "  <thead>\n",
       "    <tr style=\"text-align: right;\">\n",
       "      <th></th>\n",
       "      <th>user_id</th>\n",
       "      <th>user_feature[0]</th>\n",
       "      <th>user_feature[1]</th>\n",
       "      <th>user_feature[2]</th>\n",
       "      <th>user_feature[3]</th>\n",
       "      <th>user_feature[4]</th>\n",
       "      <th>user_feature[5]</th>\n",
       "      <th>user_feature[6]</th>\n",
       "      <th>user_feature[7]</th>\n",
       "      <th>user_feature[8]</th>\n",
       "    </tr>\n",
       "  </thead>\n",
       "  <tbody>\n",
       "    <tr>\n",
       "      <th>0</th>\n",
       "      <td>1</td>\n",
       "      <td>-3.622775</td>\n",
       "      <td>-0.577107</td>\n",
       "      <td>-0.162202</td>\n",
       "      <td>-0.176447</td>\n",
       "      <td>-0.253122</td>\n",
       "      <td>-0.116941</td>\n",
       "      <td>0.235773</td>\n",
       "      <td>0.264329</td>\n",
       "      <td>0.292615</td>\n",
       "    </tr>\n",
       "    <tr>\n",
       "      <th>1</th>\n",
       "      <td>2</td>\n",
       "      <td>-3.961731</td>\n",
       "      <td>-0.617859</td>\n",
       "      <td>-0.131752</td>\n",
       "      <td>-0.185460</td>\n",
       "      <td>-0.139910</td>\n",
       "      <td>0.105091</td>\n",
       "      <td>0.191646</td>\n",
       "      <td>0.156198</td>\n",
       "      <td>0.059740</td>\n",
       "    </tr>\n",
       "    <tr>\n",
       "      <th>2</th>\n",
       "      <td>3</td>\n",
       "      <td>-4.084716</td>\n",
       "      <td>-0.625386</td>\n",
       "      <td>-0.236358</td>\n",
       "      <td>-0.193491</td>\n",
       "      <td>-0.118895</td>\n",
       "      <td>0.153699</td>\n",
       "      <td>0.044418</td>\n",
       "      <td>0.267825</td>\n",
       "      <td>-0.053132</td>\n",
       "    </tr>\n",
       "    <tr>\n",
       "      <th>3</th>\n",
       "      <td>4</td>\n",
       "      <td>-3.525531</td>\n",
       "      <td>-0.609608</td>\n",
       "      <td>-0.221708</td>\n",
       "      <td>-0.589832</td>\n",
       "      <td>0.169298</td>\n",
       "      <td>0.038561</td>\n",
       "      <td>-0.000828</td>\n",
       "      <td>0.195264</td>\n",
       "      <td>-0.038426</td>\n",
       "    </tr>\n",
       "    <tr>\n",
       "      <th>4</th>\n",
       "      <td>5</td>\n",
       "      <td>-4.251370</td>\n",
       "      <td>-0.383833</td>\n",
       "      <td>-0.341450</td>\n",
       "      <td>-0.353603</td>\n",
       "      <td>0.228462</td>\n",
       "      <td>0.070112</td>\n",
       "      <td>0.037554</td>\n",
       "      <td>0.239054</td>\n",
       "      <td>0.008435</td>\n",
       "    </tr>\n",
       "    <tr>\n",
       "      <th>...</th>\n",
       "      <td>...</td>\n",
       "      <td>...</td>\n",
       "      <td>...</td>\n",
       "      <td>...</td>\n",
       "      <td>...</td>\n",
       "      <td>...</td>\n",
       "      <td>...</td>\n",
       "      <td>...</td>\n",
       "      <td>...</td>\n",
       "      <td>...</td>\n",
       "    </tr>\n",
       "    <tr>\n",
       "      <th>80645</th>\n",
       "      <td>138483</td>\n",
       "      <td>-3.147429</td>\n",
       "      <td>-0.098111</td>\n",
       "      <td>-0.024827</td>\n",
       "      <td>-0.378338</td>\n",
       "      <td>0.148554</td>\n",
       "      <td>0.112192</td>\n",
       "      <td>0.027015</td>\n",
       "      <td>0.193308</td>\n",
       "      <td>-0.003480</td>\n",
       "    </tr>\n",
       "    <tr>\n",
       "      <th>80646</th>\n",
       "      <td>138484</td>\n",
       "      <td>-3.287778</td>\n",
       "      <td>-0.394522</td>\n",
       "      <td>-0.021202</td>\n",
       "      <td>-0.499686</td>\n",
       "      <td>0.129370</td>\n",
       "      <td>0.085624</td>\n",
       "      <td>0.015235</td>\n",
       "      <td>0.210864</td>\n",
       "      <td>0.017104</td>\n",
       "    </tr>\n",
       "    <tr>\n",
       "      <th>80647</th>\n",
       "      <td>138487</td>\n",
       "      <td>-4.226937</td>\n",
       "      <td>0.019180</td>\n",
       "      <td>-0.178634</td>\n",
       "      <td>-0.431476</td>\n",
       "      <td>0.097237</td>\n",
       "      <td>0.117792</td>\n",
       "      <td>0.046617</td>\n",
       "      <td>0.185198</td>\n",
       "      <td>0.009766</td>\n",
       "    </tr>\n",
       "    <tr>\n",
       "      <th>80648</th>\n",
       "      <td>138488</td>\n",
       "      <td>-2.773391</td>\n",
       "      <td>-0.226021</td>\n",
       "      <td>-0.468202</td>\n",
       "      <td>-0.335409</td>\n",
       "      <td>0.403278</td>\n",
       "      <td>-0.101171</td>\n",
       "      <td>0.170729</td>\n",
       "      <td>0.348078</td>\n",
       "      <td>0.041154</td>\n",
       "    </tr>\n",
       "    <tr>\n",
       "      <th>80649</th>\n",
       "      <td>138490</td>\n",
       "      <td>-3.587840</td>\n",
       "      <td>0.159587</td>\n",
       "      <td>0.228046</td>\n",
       "      <td>-0.235890</td>\n",
       "      <td>0.178379</td>\n",
       "      <td>0.121799</td>\n",
       "      <td>-0.032171</td>\n",
       "      <td>0.095645</td>\n",
       "      <td>-0.086517</td>\n",
       "    </tr>\n",
       "  </tbody>\n",
       "</table>\n",
       "<p>80650 rows × 10 columns</p>\n",
       "</div>"
      ],
      "text/plain": [
       "       user_id  user_feature[0]  user_feature[1]  user_feature[2]  \\\n",
       "0            1        -3.622775        -0.577107        -0.162202   \n",
       "1            2        -3.961731        -0.617859        -0.131752   \n",
       "2            3        -4.084716        -0.625386        -0.236358   \n",
       "3            4        -3.525531        -0.609608        -0.221708   \n",
       "4            5        -4.251370        -0.383833        -0.341450   \n",
       "...        ...              ...              ...              ...   \n",
       "80645   138483        -3.147429        -0.098111        -0.024827   \n",
       "80646   138484        -3.287778        -0.394522        -0.021202   \n",
       "80647   138487        -4.226937         0.019180        -0.178634   \n",
       "80648   138488        -2.773391        -0.226021        -0.468202   \n",
       "80649   138490        -3.587840         0.159587         0.228046   \n",
       "\n",
       "       user_feature[3]  user_feature[4]  user_feature[5]  user_feature[6]  \\\n",
       "0            -0.176447        -0.253122        -0.116941         0.235773   \n",
       "1            -0.185460        -0.139910         0.105091         0.191646   \n",
       "2            -0.193491        -0.118895         0.153699         0.044418   \n",
       "3            -0.589832         0.169298         0.038561        -0.000828   \n",
       "4            -0.353603         0.228462         0.070112         0.037554   \n",
       "...                ...              ...              ...              ...   \n",
       "80645        -0.378338         0.148554         0.112192         0.027015   \n",
       "80646        -0.499686         0.129370         0.085624         0.015235   \n",
       "80647        -0.431476         0.097237         0.117792         0.046617   \n",
       "80648        -0.335409         0.403278        -0.101171         0.170729   \n",
       "80649        -0.235890         0.178379         0.121799        -0.032171   \n",
       "\n",
       "       user_feature[7]  user_feature[8]  \n",
       "0             0.264329         0.292615  \n",
       "1             0.156198         0.059740  \n",
       "2             0.267825        -0.053132  \n",
       "3             0.195264        -0.038426  \n",
       "4             0.239054         0.008435  \n",
       "...                ...              ...  \n",
       "80645         0.193308        -0.003480  \n",
       "80646         0.210864         0.017104  \n",
       "80647         0.185198         0.009766  \n",
       "80648         0.348078         0.041154  \n",
       "80649         0.095645        -0.086517  \n",
       "\n",
       "[80650 rows x 10 columns]"
      ]
     },
     "execution_count": 16,
     "metadata": {},
     "output_type": "execute_result"
    }
   ],
   "source": [
    "%%time\n",
    "pca_users = model.transform(va.transform(users_df_train)).select(['user_id', 'pca_features'])\n",
    "\n",
    "pca_users = (pca_users.withColumn('user_feature', vector_to_array('pca_features'))).select(['user_id'] + [col('user_feature')[i] for i in range(9)])\n",
    "pca_users.toPandas()"
   ]
  },
  {
   "cell_type": "code",
   "execution_count": 17,
   "id": "3eff6d52",
   "metadata": {},
   "outputs": [
    {
     "name": "stderr",
     "output_type": "stream",
     "text": [
      "                                                                                \r"
     ]
    },
    {
     "name": "stdout",
     "output_type": "stream",
     "text": [
      "CPU times: user 34.9 ms, sys: 8.07 ms, total: 43 ms\n",
      "Wall time: 2.75 s\n"
     ]
    },
    {
     "data": {
      "text/plain": [
       "DenseVector([0.3812, 0.0605, 0.0511, 0.0405, 0.0377, 0.0259, 0.0223, 0.0193, 0.0186])"
      ]
     },
     "execution_count": 17,
     "metadata": {},
     "output_type": "execute_result"
    }
   ],
   "source": [
    "%%time\n",
    "va_it = VectorAssembler(\n",
    "    inputCols=items_df_train.columns[2:],\n",
    "    outputCol='features'\n",
    ")\n",
    "pca = PCA(k=9, inputCol=\"features\")\n",
    "pca.setOutputCol(\"pca_features\")\n",
    "model_it = pca.fit(va_it.transform(items_df_train))\n",
    "model_it.explainedVariance"
   ]
  },
  {
   "cell_type": "code",
   "execution_count": 18,
   "id": "3cd5fd8d",
   "metadata": {},
   "outputs": [
    {
     "name": "stderr",
     "output_type": "stream",
     "text": [
      "\r\n",
      "[Stage 48:>                                                         (0 + 4) / 4]\r\n",
      "\r\n",
      "                                                                                \r"
     ]
    },
    {
     "name": "stdout",
     "output_type": "stream",
     "text": [
      "CPU times: user 141 ms, sys: 26.8 ms, total: 167 ms\n",
      "Wall time: 1.98 s\n"
     ]
    },
    {
     "data": {
      "text/html": [
       "<div>\n",
       "<style scoped>\n",
       "    .dataframe tbody tr th:only-of-type {\n",
       "        vertical-align: middle;\n",
       "    }\n",
       "\n",
       "    .dataframe tbody tr th {\n",
       "        vertical-align: top;\n",
       "    }\n",
       "\n",
       "    .dataframe thead th {\n",
       "        text-align: right;\n",
       "    }\n",
       "</style>\n",
       "<table border=\"1\" class=\"dataframe\">\n",
       "  <thead>\n",
       "    <tr style=\"text-align: right;\">\n",
       "      <th></th>\n",
       "      <th>item_id</th>\n",
       "      <th>item_feature[0]</th>\n",
       "      <th>item_feature[1]</th>\n",
       "      <th>item_feature[2]</th>\n",
       "      <th>item_feature[3]</th>\n",
       "      <th>item_feature[4]</th>\n",
       "      <th>item_feature[5]</th>\n",
       "      <th>item_feature[6]</th>\n",
       "      <th>item_feature[7]</th>\n",
       "      <th>item_feature[8]</th>\n",
       "    </tr>\n",
       "  </thead>\n",
       "  <tbody>\n",
       "    <tr>\n",
       "      <th>0</th>\n",
       "      <td>1</td>\n",
       "      <td>-4.108914</td>\n",
       "      <td>-0.392348</td>\n",
       "      <td>0.806751</td>\n",
       "      <td>-0.093269</td>\n",
       "      <td>-0.485105</td>\n",
       "      <td>-0.234772</td>\n",
       "      <td>1.073468</td>\n",
       "      <td>-0.314399</td>\n",
       "      <td>0.443299</td>\n",
       "    </tr>\n",
       "    <tr>\n",
       "      <th>1</th>\n",
       "      <td>2</td>\n",
       "      <td>-3.403481</td>\n",
       "      <td>-0.209132</td>\n",
       "      <td>0.211665</td>\n",
       "      <td>0.302370</td>\n",
       "      <td>-0.018620</td>\n",
       "      <td>0.103159</td>\n",
       "      <td>0.954236</td>\n",
       "      <td>-0.034354</td>\n",
       "      <td>0.236430</td>\n",
       "    </tr>\n",
       "    <tr>\n",
       "      <th>2</th>\n",
       "      <td>3</td>\n",
       "      <td>-3.340309</td>\n",
       "      <td>-0.707462</td>\n",
       "      <td>0.456691</td>\n",
       "      <td>-0.512297</td>\n",
       "      <td>-0.687214</td>\n",
       "      <td>-0.391139</td>\n",
       "      <td>0.210067</td>\n",
       "      <td>0.629712</td>\n",
       "      <td>0.308934</td>\n",
       "    </tr>\n",
       "    <tr>\n",
       "      <th>3</th>\n",
       "      <td>4</td>\n",
       "      <td>-3.042066</td>\n",
       "      <td>-0.476312</td>\n",
       "      <td>-0.290479</td>\n",
       "      <td>-0.459616</td>\n",
       "      <td>-1.368399</td>\n",
       "      <td>-0.468484</td>\n",
       "      <td>0.494244</td>\n",
       "      <td>0.437399</td>\n",
       "      <td>0.826573</td>\n",
       "    </tr>\n",
       "    <tr>\n",
       "      <th>4</th>\n",
       "      <td>5</td>\n",
       "      <td>-3.264802</td>\n",
       "      <td>-0.730158</td>\n",
       "      <td>0.503780</td>\n",
       "      <td>-0.205840</td>\n",
       "      <td>-0.536163</td>\n",
       "      <td>-0.285285</td>\n",
       "      <td>0.068718</td>\n",
       "      <td>-0.252822</td>\n",
       "      <td>0.483914</td>\n",
       "    </tr>\n",
       "    <tr>\n",
       "      <th>...</th>\n",
       "      <td>...</td>\n",
       "      <td>...</td>\n",
       "      <td>...</td>\n",
       "      <td>...</td>\n",
       "      <td>...</td>\n",
       "      <td>...</td>\n",
       "      <td>...</td>\n",
       "      <td>...</td>\n",
       "      <td>...</td>\n",
       "      <td>...</td>\n",
       "    </tr>\n",
       "    <tr>\n",
       "      <th>27079</th>\n",
       "      <td>131254</td>\n",
       "      <td>-0.016437</td>\n",
       "      <td>-0.114364</td>\n",
       "      <td>0.499477</td>\n",
       "      <td>-0.496899</td>\n",
       "      <td>-0.378506</td>\n",
       "      <td>-0.403049</td>\n",
       "      <td>-0.068645</td>\n",
       "      <td>-0.240241</td>\n",
       "      <td>0.136272</td>\n",
       "    </tr>\n",
       "    <tr>\n",
       "      <th>27080</th>\n",
       "      <td>131256</td>\n",
       "      <td>-0.016437</td>\n",
       "      <td>-0.114364</td>\n",
       "      <td>0.499477</td>\n",
       "      <td>-0.496899</td>\n",
       "      <td>-0.378506</td>\n",
       "      <td>-0.403049</td>\n",
       "      <td>-0.068645</td>\n",
       "      <td>-0.240241</td>\n",
       "      <td>0.136272</td>\n",
       "    </tr>\n",
       "    <tr>\n",
       "      <th>27081</th>\n",
       "      <td>131258</td>\n",
       "      <td>-0.089995</td>\n",
       "      <td>-0.439620</td>\n",
       "      <td>0.090987</td>\n",
       "      <td>0.535330</td>\n",
       "      <td>-0.329515</td>\n",
       "      <td>0.023920</td>\n",
       "      <td>0.745013</td>\n",
       "      <td>-0.053127</td>\n",
       "      <td>0.322798</td>\n",
       "    </tr>\n",
       "    <tr>\n",
       "      <th>27082</th>\n",
       "      <td>131260</td>\n",
       "      <td>0.000000</td>\n",
       "      <td>0.000000</td>\n",
       "      <td>0.000000</td>\n",
       "      <td>0.000000</td>\n",
       "      <td>0.000000</td>\n",
       "      <td>0.000000</td>\n",
       "      <td>0.000000</td>\n",
       "      <td>0.000000</td>\n",
       "      <td>0.000000</td>\n",
       "    </tr>\n",
       "    <tr>\n",
       "      <th>27083</th>\n",
       "      <td>131262</td>\n",
       "      <td>0.003812</td>\n",
       "      <td>0.036260</td>\n",
       "      <td>0.201511</td>\n",
       "      <td>0.333271</td>\n",
       "      <td>0.107884</td>\n",
       "      <td>-0.093134</td>\n",
       "      <td>0.442514</td>\n",
       "      <td>0.232148</td>\n",
       "      <td>0.168232</td>\n",
       "    </tr>\n",
       "  </tbody>\n",
       "</table>\n",
       "<p>27084 rows × 10 columns</p>\n",
       "</div>"
      ],
      "text/plain": [
       "       item_id  item_feature[0]  item_feature[1]  item_feature[2]  \\\n",
       "0            1        -4.108914        -0.392348         0.806751   \n",
       "1            2        -3.403481        -0.209132         0.211665   \n",
       "2            3        -3.340309        -0.707462         0.456691   \n",
       "3            4        -3.042066        -0.476312        -0.290479   \n",
       "4            5        -3.264802        -0.730158         0.503780   \n",
       "...        ...              ...              ...              ...   \n",
       "27079   131254        -0.016437        -0.114364         0.499477   \n",
       "27080   131256        -0.016437        -0.114364         0.499477   \n",
       "27081   131258        -0.089995        -0.439620         0.090987   \n",
       "27082   131260         0.000000         0.000000         0.000000   \n",
       "27083   131262         0.003812         0.036260         0.201511   \n",
       "\n",
       "       item_feature[3]  item_feature[4]  item_feature[5]  item_feature[6]  \\\n",
       "0            -0.093269        -0.485105        -0.234772         1.073468   \n",
       "1             0.302370        -0.018620         0.103159         0.954236   \n",
       "2            -0.512297        -0.687214        -0.391139         0.210067   \n",
       "3            -0.459616        -1.368399        -0.468484         0.494244   \n",
       "4            -0.205840        -0.536163        -0.285285         0.068718   \n",
       "...                ...              ...              ...              ...   \n",
       "27079        -0.496899        -0.378506        -0.403049        -0.068645   \n",
       "27080        -0.496899        -0.378506        -0.403049        -0.068645   \n",
       "27081         0.535330        -0.329515         0.023920         0.745013   \n",
       "27082         0.000000         0.000000         0.000000         0.000000   \n",
       "27083         0.333271         0.107884        -0.093134         0.442514   \n",
       "\n",
       "       item_feature[7]  item_feature[8]  \n",
       "0            -0.314399         0.443299  \n",
       "1            -0.034354         0.236430  \n",
       "2             0.629712         0.308934  \n",
       "3             0.437399         0.826573  \n",
       "4            -0.252822         0.483914  \n",
       "...                ...              ...  \n",
       "27079        -0.240241         0.136272  \n",
       "27080        -0.240241         0.136272  \n",
       "27081        -0.053127         0.322798  \n",
       "27082         0.000000         0.000000  \n",
       "27083         0.232148         0.168232  \n",
       "\n",
       "[27084 rows x 10 columns]"
      ]
     },
     "execution_count": 18,
     "metadata": {},
     "output_type": "execute_result"
    }
   ],
   "source": [
    "%%time\n",
    "pca_items = model_it.transform(va_it.transform(items_df_train)).select(['item_id', 'pca_features'])\n",
    "\n",
    "pca_items = (pca_items.withColumn('item_feature', vector_to_array('pca_features'))).select(['item_id'] + [col('item_feature')[i] for i in range(9)])\n",
    "pca_items.toPandas()"
   ]
  },
  {
   "cell_type": "code",
   "execution_count": 19,
   "id": "fff81a7c",
   "metadata": {},
   "outputs": [
    {
     "name": "stderr",
     "output_type": "stream",
     "text": [
      "                                                                                \r"
     ]
    },
    {
     "name": "stdout",
     "output_type": "stream",
     "text": [
      "CPU times: user 2.65 s, sys: 85 ms, total: 2.73 s\n",
      "Wall time: 5.71 s\n"
     ]
    },
    {
     "data": {
      "text/html": [
       "<div>\n",
       "<style scoped>\n",
       "    .dataframe tbody tr th:only-of-type {\n",
       "        vertical-align: middle;\n",
       "    }\n",
       "\n",
       "    .dataframe tbody tr th {\n",
       "        vertical-align: top;\n",
       "    }\n",
       "\n",
       "    .dataframe thead th {\n",
       "        text-align: right;\n",
       "    }\n",
       "</style>\n",
       "<table border=\"1\" class=\"dataframe\">\n",
       "  <thead>\n",
       "    <tr style=\"text-align: right;\">\n",
       "      <th></th>\n",
       "      <th>user_id</th>\n",
       "      <th>user_feature[0]</th>\n",
       "      <th>user_feature[1]</th>\n",
       "      <th>user_feature[2]</th>\n",
       "      <th>user_feature[3]</th>\n",
       "      <th>user_feature[4]</th>\n",
       "      <th>user_feature[5]</th>\n",
       "      <th>user_feature[6]</th>\n",
       "      <th>user_feature[7]</th>\n",
       "      <th>user_feature[8]</th>\n",
       "    </tr>\n",
       "  </thead>\n",
       "  <tbody>\n",
       "    <tr>\n",
       "      <th>0</th>\n",
       "      <td>1</td>\n",
       "      <td>-3.703400</td>\n",
       "      <td>-0.645062</td>\n",
       "      <td>-0.321042</td>\n",
       "      <td>-0.159401</td>\n",
       "      <td>0.019337</td>\n",
       "      <td>-0.036376</td>\n",
       "      <td>0.057187</td>\n",
       "      <td>0.215621</td>\n",
       "      <td>0.185469</td>\n",
       "    </tr>\n",
       "    <tr>\n",
       "      <th>1</th>\n",
       "      <td>2</td>\n",
       "      <td>-3.961731</td>\n",
       "      <td>-0.617859</td>\n",
       "      <td>-0.131752</td>\n",
       "      <td>-0.185460</td>\n",
       "      <td>-0.139910</td>\n",
       "      <td>0.105091</td>\n",
       "      <td>0.191646</td>\n",
       "      <td>0.156198</td>\n",
       "      <td>0.059740</td>\n",
       "    </tr>\n",
       "    <tr>\n",
       "      <th>2</th>\n",
       "      <td>3</td>\n",
       "      <td>-4.084716</td>\n",
       "      <td>-0.625386</td>\n",
       "      <td>-0.236358</td>\n",
       "      <td>-0.193491</td>\n",
       "      <td>-0.118895</td>\n",
       "      <td>0.153699</td>\n",
       "      <td>0.044418</td>\n",
       "      <td>0.267825</td>\n",
       "      <td>-0.053132</td>\n",
       "    </tr>\n",
       "    <tr>\n",
       "      <th>3</th>\n",
       "      <td>4</td>\n",
       "      <td>-3.525531</td>\n",
       "      <td>-0.609608</td>\n",
       "      <td>-0.221708</td>\n",
       "      <td>-0.589832</td>\n",
       "      <td>0.169298</td>\n",
       "      <td>0.038561</td>\n",
       "      <td>-0.000828</td>\n",
       "      <td>0.195264</td>\n",
       "      <td>-0.038426</td>\n",
       "    </tr>\n",
       "    <tr>\n",
       "      <th>4</th>\n",
       "      <td>5</td>\n",
       "      <td>-4.251370</td>\n",
       "      <td>-0.383833</td>\n",
       "      <td>-0.341450</td>\n",
       "      <td>-0.353603</td>\n",
       "      <td>0.228462</td>\n",
       "      <td>0.070112</td>\n",
       "      <td>0.037554</td>\n",
       "      <td>0.239054</td>\n",
       "      <td>0.008435</td>\n",
       "    </tr>\n",
       "    <tr>\n",
       "      <th>...</th>\n",
       "      <td>...</td>\n",
       "      <td>...</td>\n",
       "      <td>...</td>\n",
       "      <td>...</td>\n",
       "      <td>...</td>\n",
       "      <td>...</td>\n",
       "      <td>...</td>\n",
       "      <td>...</td>\n",
       "      <td>...</td>\n",
       "      <td>...</td>\n",
       "    </tr>\n",
       "    <tr>\n",
       "      <th>106568</th>\n",
       "      <td>138486</td>\n",
       "      <td>-3.754245</td>\n",
       "      <td>-0.594776</td>\n",
       "      <td>-0.276480</td>\n",
       "      <td>-0.323980</td>\n",
       "      <td>-0.118774</td>\n",
       "      <td>-0.139955</td>\n",
       "      <td>0.160285</td>\n",
       "      <td>0.273831</td>\n",
       "      <td>0.185347</td>\n",
       "    </tr>\n",
       "    <tr>\n",
       "      <th>106569</th>\n",
       "      <td>138487</td>\n",
       "      <td>-4.226937</td>\n",
       "      <td>0.019180</td>\n",
       "      <td>-0.178634</td>\n",
       "      <td>-0.431476</td>\n",
       "      <td>0.097237</td>\n",
       "      <td>0.117792</td>\n",
       "      <td>0.046617</td>\n",
       "      <td>0.185198</td>\n",
       "      <td>0.009766</td>\n",
       "    </tr>\n",
       "    <tr>\n",
       "      <th>106570</th>\n",
       "      <td>138488</td>\n",
       "      <td>-2.773391</td>\n",
       "      <td>-0.226021</td>\n",
       "      <td>-0.468202</td>\n",
       "      <td>-0.335409</td>\n",
       "      <td>0.403278</td>\n",
       "      <td>-0.101171</td>\n",
       "      <td>0.170729</td>\n",
       "      <td>0.348078</td>\n",
       "      <td>0.041154</td>\n",
       "    </tr>\n",
       "    <tr>\n",
       "      <th>106571</th>\n",
       "      <td>138490</td>\n",
       "      <td>-3.587840</td>\n",
       "      <td>0.159587</td>\n",
       "      <td>0.228046</td>\n",
       "      <td>-0.235890</td>\n",
       "      <td>0.178379</td>\n",
       "      <td>0.121799</td>\n",
       "      <td>-0.032171</td>\n",
       "      <td>0.095645</td>\n",
       "      <td>-0.086517</td>\n",
       "    </tr>\n",
       "    <tr>\n",
       "      <th>106572</th>\n",
       "      <td>138492</td>\n",
       "      <td>-4.075187</td>\n",
       "      <td>-0.165085</td>\n",
       "      <td>-0.482203</td>\n",
       "      <td>-0.524053</td>\n",
       "      <td>0.025434</td>\n",
       "      <td>0.116126</td>\n",
       "      <td>-0.097760</td>\n",
       "      <td>0.312191</td>\n",
       "      <td>0.090167</td>\n",
       "    </tr>\n",
       "  </tbody>\n",
       "</table>\n",
       "<p>106573 rows × 10 columns</p>\n",
       "</div>"
      ],
      "text/plain": [
       "        user_id  user_feature[0]  user_feature[1]  user_feature[2]  \\\n",
       "0             1        -3.703400        -0.645062        -0.321042   \n",
       "1             2        -3.961731        -0.617859        -0.131752   \n",
       "2             3        -4.084716        -0.625386        -0.236358   \n",
       "3             4        -3.525531        -0.609608        -0.221708   \n",
       "4             5        -4.251370        -0.383833        -0.341450   \n",
       "...         ...              ...              ...              ...   \n",
       "106568   138486        -3.754245        -0.594776        -0.276480   \n",
       "106569   138487        -4.226937         0.019180        -0.178634   \n",
       "106570   138488        -2.773391        -0.226021        -0.468202   \n",
       "106571   138490        -3.587840         0.159587         0.228046   \n",
       "106572   138492        -4.075187        -0.165085        -0.482203   \n",
       "\n",
       "        user_feature[3]  user_feature[4]  user_feature[5]  user_feature[6]  \\\n",
       "0             -0.159401         0.019337        -0.036376         0.057187   \n",
       "1             -0.185460        -0.139910         0.105091         0.191646   \n",
       "2             -0.193491        -0.118895         0.153699         0.044418   \n",
       "3             -0.589832         0.169298         0.038561        -0.000828   \n",
       "4             -0.353603         0.228462         0.070112         0.037554   \n",
       "...                 ...              ...              ...              ...   \n",
       "106568        -0.323980        -0.118774        -0.139955         0.160285   \n",
       "106569        -0.431476         0.097237         0.117792         0.046617   \n",
       "106570        -0.335409         0.403278        -0.101171         0.170729   \n",
       "106571        -0.235890         0.178379         0.121799        -0.032171   \n",
       "106572        -0.524053         0.025434         0.116126        -0.097760   \n",
       "\n",
       "        user_feature[7]  user_feature[8]  \n",
       "0              0.215621         0.185469  \n",
       "1              0.156198         0.059740  \n",
       "2              0.267825        -0.053132  \n",
       "3              0.195264        -0.038426  \n",
       "4              0.239054         0.008435  \n",
       "...                 ...              ...  \n",
       "106568         0.273831         0.185347  \n",
       "106569         0.185198         0.009766  \n",
       "106570         0.348078         0.041154  \n",
       "106571         0.095645        -0.086517  \n",
       "106572         0.312191         0.090167  \n",
       "\n",
       "[106573 rows x 10 columns]"
      ]
     },
     "execution_count": 19,
     "metadata": {},
     "output_type": "execute_result"
    }
   ],
   "source": [
    "%%time\n",
    "pca_users_val = model.transform(va.transform(users_df_val)).select(['user_id', 'pca_features'])\n",
    "\n",
    "pca_users_val = (pca_users_val.withColumn('user_feature', vector_to_array('pca_features'))).select(['user_id'] + [col('user_feature')[i] for i in range(9)])\n",
    "pca_users_val.toPandas()"
   ]
  },
  {
   "cell_type": "code",
   "execution_count": 20,
   "id": "214c0361",
   "metadata": {},
   "outputs": [
    {
     "name": "stdout",
     "output_type": "stream",
     "text": [
      "CPU times: user 1.25 s, sys: 32.1 ms, total: 1.28 s\n",
      "Wall time: 2.48 s\n"
     ]
    },
    {
     "data": {
      "text/html": [
       "<div>\n",
       "<style scoped>\n",
       "    .dataframe tbody tr th:only-of-type {\n",
       "        vertical-align: middle;\n",
       "    }\n",
       "\n",
       "    .dataframe tbody tr th {\n",
       "        vertical-align: top;\n",
       "    }\n",
       "\n",
       "    .dataframe thead th {\n",
       "        text-align: right;\n",
       "    }\n",
       "</style>\n",
       "<table border=\"1\" class=\"dataframe\">\n",
       "  <thead>\n",
       "    <tr style=\"text-align: right;\">\n",
       "      <th></th>\n",
       "      <th>item_id</th>\n",
       "      <th>item_feature[0]</th>\n",
       "      <th>item_feature[1]</th>\n",
       "      <th>item_feature[2]</th>\n",
       "      <th>item_feature[3]</th>\n",
       "      <th>item_feature[4]</th>\n",
       "      <th>item_feature[5]</th>\n",
       "      <th>item_feature[6]</th>\n",
       "      <th>item_feature[7]</th>\n",
       "      <th>item_feature[8]</th>\n",
       "    </tr>\n",
       "  </thead>\n",
       "  <tbody>\n",
       "    <tr>\n",
       "      <th>0</th>\n",
       "      <td>1</td>\n",
       "      <td>-4.026548</td>\n",
       "      <td>-0.397304</td>\n",
       "      <td>0.806221</td>\n",
       "      <td>-0.091529</td>\n",
       "      <td>-0.489431</td>\n",
       "      <td>-0.235553</td>\n",
       "      <td>1.075512</td>\n",
       "      <td>-0.314614</td>\n",
       "      <td>0.446389</td>\n",
       "    </tr>\n",
       "    <tr>\n",
       "      <th>1</th>\n",
       "      <td>2</td>\n",
       "      <td>-3.287642</td>\n",
       "      <td>-0.216102</td>\n",
       "      <td>0.210920</td>\n",
       "      <td>0.304816</td>\n",
       "      <td>-0.024704</td>\n",
       "      <td>0.102062</td>\n",
       "      <td>0.957111</td>\n",
       "      <td>-0.034657</td>\n",
       "      <td>0.240776</td>\n",
       "    </tr>\n",
       "    <tr>\n",
       "      <th>2</th>\n",
       "      <td>3</td>\n",
       "      <td>-3.257134</td>\n",
       "      <td>-0.712467</td>\n",
       "      <td>0.456156</td>\n",
       "      <td>-0.510541</td>\n",
       "      <td>-0.691583</td>\n",
       "      <td>-0.391927</td>\n",
       "      <td>0.212132</td>\n",
       "      <td>0.629494</td>\n",
       "      <td>0.312054</td>\n",
       "    </tr>\n",
       "    <tr>\n",
       "      <th>3</th>\n",
       "      <td>4</td>\n",
       "      <td>-3.015346</td>\n",
       "      <td>-0.477920</td>\n",
       "      <td>-0.290651</td>\n",
       "      <td>-0.459051</td>\n",
       "      <td>-1.369802</td>\n",
       "      <td>-0.468738</td>\n",
       "      <td>0.494907</td>\n",
       "      <td>0.437329</td>\n",
       "      <td>0.827575</td>\n",
       "    </tr>\n",
       "    <tr>\n",
       "      <th>4</th>\n",
       "      <td>5</td>\n",
       "      <td>-3.194526</td>\n",
       "      <td>-0.734386</td>\n",
       "      <td>0.503328</td>\n",
       "      <td>-0.204356</td>\n",
       "      <td>-0.539855</td>\n",
       "      <td>-0.285951</td>\n",
       "      <td>0.070462</td>\n",
       "      <td>-0.253006</td>\n",
       "      <td>0.486550</td>\n",
       "    </tr>\n",
       "    <tr>\n",
       "      <th>...</th>\n",
       "      <td>...</td>\n",
       "      <td>...</td>\n",
       "      <td>...</td>\n",
       "      <td>...</td>\n",
       "      <td>...</td>\n",
       "      <td>...</td>\n",
       "      <td>...</td>\n",
       "      <td>...</td>\n",
       "      <td>...</td>\n",
       "      <td>...</td>\n",
       "    </tr>\n",
       "    <tr>\n",
       "      <th>27079</th>\n",
       "      <td>131254</td>\n",
       "      <td>-0.016437</td>\n",
       "      <td>-0.114364</td>\n",
       "      <td>0.499477</td>\n",
       "      <td>-0.496899</td>\n",
       "      <td>-0.378506</td>\n",
       "      <td>-0.403049</td>\n",
       "      <td>-0.068645</td>\n",
       "      <td>-0.240241</td>\n",
       "      <td>0.136272</td>\n",
       "    </tr>\n",
       "    <tr>\n",
       "      <th>27080</th>\n",
       "      <td>131256</td>\n",
       "      <td>-0.016437</td>\n",
       "      <td>-0.114364</td>\n",
       "      <td>0.499477</td>\n",
       "      <td>-0.496899</td>\n",
       "      <td>-0.378506</td>\n",
       "      <td>-0.403049</td>\n",
       "      <td>-0.068645</td>\n",
       "      <td>-0.240241</td>\n",
       "      <td>0.136272</td>\n",
       "    </tr>\n",
       "    <tr>\n",
       "      <th>27081</th>\n",
       "      <td>131258</td>\n",
       "      <td>-0.089995</td>\n",
       "      <td>-0.439620</td>\n",
       "      <td>0.090987</td>\n",
       "      <td>0.535330</td>\n",
       "      <td>-0.329515</td>\n",
       "      <td>0.023920</td>\n",
       "      <td>0.745013</td>\n",
       "      <td>-0.053127</td>\n",
       "      <td>0.322798</td>\n",
       "    </tr>\n",
       "    <tr>\n",
       "      <th>27082</th>\n",
       "      <td>131260</td>\n",
       "      <td>0.000000</td>\n",
       "      <td>0.000000</td>\n",
       "      <td>0.000000</td>\n",
       "      <td>0.000000</td>\n",
       "      <td>0.000000</td>\n",
       "      <td>0.000000</td>\n",
       "      <td>0.000000</td>\n",
       "      <td>0.000000</td>\n",
       "      <td>0.000000</td>\n",
       "    </tr>\n",
       "    <tr>\n",
       "      <th>27083</th>\n",
       "      <td>131262</td>\n",
       "      <td>0.003812</td>\n",
       "      <td>0.036260</td>\n",
       "      <td>0.201511</td>\n",
       "      <td>0.333271</td>\n",
       "      <td>0.107884</td>\n",
       "      <td>-0.093134</td>\n",
       "      <td>0.442514</td>\n",
       "      <td>0.232148</td>\n",
       "      <td>0.168232</td>\n",
       "    </tr>\n",
       "  </tbody>\n",
       "</table>\n",
       "<p>27084 rows × 10 columns</p>\n",
       "</div>"
      ],
      "text/plain": [
       "       item_id  item_feature[0]  item_feature[1]  item_feature[2]  \\\n",
       "0            1        -4.026548        -0.397304         0.806221   \n",
       "1            2        -3.287642        -0.216102         0.210920   \n",
       "2            3        -3.257134        -0.712467         0.456156   \n",
       "3            4        -3.015346        -0.477920        -0.290651   \n",
       "4            5        -3.194526        -0.734386         0.503328   \n",
       "...        ...              ...              ...              ...   \n",
       "27079   131254        -0.016437        -0.114364         0.499477   \n",
       "27080   131256        -0.016437        -0.114364         0.499477   \n",
       "27081   131258        -0.089995        -0.439620         0.090987   \n",
       "27082   131260         0.000000         0.000000         0.000000   \n",
       "27083   131262         0.003812         0.036260         0.201511   \n",
       "\n",
       "       item_feature[3]  item_feature[4]  item_feature[5]  item_feature[6]  \\\n",
       "0            -0.091529        -0.489431        -0.235553         1.075512   \n",
       "1             0.304816        -0.024704         0.102062         0.957111   \n",
       "2            -0.510541        -0.691583        -0.391927         0.212132   \n",
       "3            -0.459051        -1.369802        -0.468738         0.494907   \n",
       "4            -0.204356        -0.539855        -0.285951         0.070462   \n",
       "...                ...              ...              ...              ...   \n",
       "27079        -0.496899        -0.378506        -0.403049        -0.068645   \n",
       "27080        -0.496899        -0.378506        -0.403049        -0.068645   \n",
       "27081         0.535330        -0.329515         0.023920         0.745013   \n",
       "27082         0.000000         0.000000         0.000000         0.000000   \n",
       "27083         0.333271         0.107884        -0.093134         0.442514   \n",
       "\n",
       "       item_feature[7]  item_feature[8]  \n",
       "0            -0.314614         0.446389  \n",
       "1            -0.034657         0.240776  \n",
       "2             0.629494         0.312054  \n",
       "3             0.437329         0.827575  \n",
       "4            -0.253006         0.486550  \n",
       "...                ...              ...  \n",
       "27079        -0.240241         0.136272  \n",
       "27080        -0.240241         0.136272  \n",
       "27081        -0.053127         0.322798  \n",
       "27082         0.000000         0.000000  \n",
       "27083         0.232148         0.168232  \n",
       "\n",
       "[27084 rows x 10 columns]"
      ]
     },
     "execution_count": 20,
     "metadata": {},
     "output_type": "execute_result"
    }
   ],
   "source": [
    "%%time\n",
    "pca_items_val = model_it.transform(va_it.transform(items_df_val)).select(['item_id', 'pca_features'])\n",
    "\n",
    "pca_items_val = (pca_items_val.withColumn('item_feature', vector_to_array('pca_features'))).select(['item_id'] + [col('item_feature')[i] for i in range(9)])\n",
    "pca_items_val.toPandas()"
   ]
  },
  {
   "cell_type": "code",
   "execution_count": 21,
   "id": "87ac4dbf",
   "metadata": {},
   "outputs": [
    {
     "name": "stdout",
     "output_type": "stream",
     "text": [
      "CPU times: user 171 ms, sys: 8.09 ms, total: 179 ms\n",
      "Wall time: 1.34 s\n"
     ]
    },
    {
     "data": {
      "text/html": [
       "<div>\n",
       "<style scoped>\n",
       "    .dataframe tbody tr th:only-of-type {\n",
       "        vertical-align: middle;\n",
       "    }\n",
       "\n",
       "    .dataframe tbody tr th {\n",
       "        vertical-align: top;\n",
       "    }\n",
       "\n",
       "    .dataframe thead th {\n",
       "        text-align: right;\n",
       "    }\n",
       "</style>\n",
       "<table border=\"1\" class=\"dataframe\">\n",
       "  <thead>\n",
       "    <tr style=\"text-align: right;\">\n",
       "      <th></th>\n",
       "      <th>item_id</th>\n",
       "      <th>item_feature[0]</th>\n",
       "      <th>item_feature[1]</th>\n",
       "      <th>item_feature[2]</th>\n",
       "      <th>item_feature[3]</th>\n",
       "      <th>item_feature[4]</th>\n",
       "      <th>item_feature[5]</th>\n",
       "      <th>item_feature[6]</th>\n",
       "      <th>item_feature[7]</th>\n",
       "      <th>item_feature[8]</th>\n",
       "    </tr>\n",
       "  </thead>\n",
       "  <tbody>\n",
       "    <tr>\n",
       "      <th>0</th>\n",
       "      <td>1</td>\n",
       "      <td>-4.017832</td>\n",
       "      <td>-0.436516</td>\n",
       "      <td>0.514398</td>\n",
       "      <td>-0.290600</td>\n",
       "      <td>-0.768937</td>\n",
       "      <td>-0.669060</td>\n",
       "      <td>0.320834</td>\n",
       "      <td>0.433358</td>\n",
       "      <td>0.307032</td>\n",
       "    </tr>\n",
       "    <tr>\n",
       "      <th>1</th>\n",
       "      <td>2</td>\n",
       "      <td>-3.273617</td>\n",
       "      <td>-0.247726</td>\n",
       "      <td>0.055557</td>\n",
       "      <td>-0.007878</td>\n",
       "      <td>-0.327438</td>\n",
       "      <td>0.089364</td>\n",
       "      <td>0.483903</td>\n",
       "      <td>0.845774</td>\n",
       "      <td>0.187110</td>\n",
       "    </tr>\n",
       "    <tr>\n",
       "      <th>2</th>\n",
       "      <td>3</td>\n",
       "      <td>-3.223180</td>\n",
       "      <td>-0.550955</td>\n",
       "      <td>-0.098369</td>\n",
       "      <td>0.449795</td>\n",
       "      <td>-0.003503</td>\n",
       "      <td>-0.443991</td>\n",
       "      <td>-0.152576</td>\n",
       "      <td>-0.084474</td>\n",
       "      <td>0.283544</td>\n",
       "    </tr>\n",
       "    <tr>\n",
       "      <th>3</th>\n",
       "      <td>4</td>\n",
       "      <td>-2.974738</td>\n",
       "      <td>-0.307421</td>\n",
       "      <td>-0.088989</td>\n",
       "      <td>1.179618</td>\n",
       "      <td>-0.374414</td>\n",
       "      <td>-0.895785</td>\n",
       "      <td>-0.231319</td>\n",
       "      <td>0.083784</td>\n",
       "      <td>0.781328</td>\n",
       "    </tr>\n",
       "    <tr>\n",
       "      <th>4</th>\n",
       "      <td>5</td>\n",
       "      <td>-3.152596</td>\n",
       "      <td>-0.628406</td>\n",
       "      <td>-0.074024</td>\n",
       "      <td>0.418717</td>\n",
       "      <td>-0.126666</td>\n",
       "      <td>-0.277614</td>\n",
       "      <td>-0.000917</td>\n",
       "      <td>-0.170118</td>\n",
       "      <td>0.274746</td>\n",
       "    </tr>\n",
       "    <tr>\n",
       "      <th>...</th>\n",
       "      <td>...</td>\n",
       "      <td>...</td>\n",
       "      <td>...</td>\n",
       "      <td>...</td>\n",
       "      <td>...</td>\n",
       "      <td>...</td>\n",
       "      <td>...</td>\n",
       "      <td>...</td>\n",
       "      <td>...</td>\n",
       "      <td>...</td>\n",
       "    </tr>\n",
       "    <tr>\n",
       "      <th>27079</th>\n",
       "      <td>131254</td>\n",
       "      <td>-3.981681</td>\n",
       "      <td>0.232736</td>\n",
       "      <td>-0.052098</td>\n",
       "      <td>0.041546</td>\n",
       "      <td>0.245169</td>\n",
       "      <td>-0.356735</td>\n",
       "      <td>-0.239470</td>\n",
       "      <td>-0.146867</td>\n",
       "      <td>-0.225847</td>\n",
       "    </tr>\n",
       "    <tr>\n",
       "      <th>27080</th>\n",
       "      <td>131256</td>\n",
       "      <td>-3.981681</td>\n",
       "      <td>0.232736</td>\n",
       "      <td>-0.052098</td>\n",
       "      <td>0.041546</td>\n",
       "      <td>0.245169</td>\n",
       "      <td>-0.356735</td>\n",
       "      <td>-0.239470</td>\n",
       "      <td>-0.146867</td>\n",
       "      <td>-0.225847</td>\n",
       "    </tr>\n",
       "    <tr>\n",
       "      <th>27081</th>\n",
       "      <td>131258</td>\n",
       "      <td>-2.573315</td>\n",
       "      <td>-0.284153</td>\n",
       "      <td>0.052396</td>\n",
       "      <td>0.410075</td>\n",
       "      <td>-0.245121</td>\n",
       "      <td>0.107634</td>\n",
       "      <td>0.229067</td>\n",
       "      <td>-0.013334</td>\n",
       "      <td>0.310750</td>\n",
       "    </tr>\n",
       "    <tr>\n",
       "      <th>27082</th>\n",
       "      <td>131260</td>\n",
       "      <td>-2.984801</td>\n",
       "      <td>0.179601</td>\n",
       "      <td>0.019200</td>\n",
       "      <td>-0.063036</td>\n",
       "      <td>0.156784</td>\n",
       "      <td>0.028288</td>\n",
       "      <td>-0.074074</td>\n",
       "      <td>0.007811</td>\n",
       "      <td>-0.111964</td>\n",
       "    </tr>\n",
       "    <tr>\n",
       "      <th>27083</th>\n",
       "      <td>131262</td>\n",
       "      <td>-3.972862</td>\n",
       "      <td>0.237746</td>\n",
       "      <td>0.148629</td>\n",
       "      <td>-0.052618</td>\n",
       "      <td>0.252531</td>\n",
       "      <td>0.078878</td>\n",
       "      <td>0.250416</td>\n",
       "      <td>0.041421</td>\n",
       "      <td>-0.158270</td>\n",
       "    </tr>\n",
       "  </tbody>\n",
       "</table>\n",
       "<p>27084 rows × 10 columns</p>\n",
       "</div>"
      ],
      "text/plain": [
       "       item_id  item_feature[0]  item_feature[1]  item_feature[2]  \\\n",
       "0            1        -4.017832        -0.436516         0.514398   \n",
       "1            2        -3.273617        -0.247726         0.055557   \n",
       "2            3        -3.223180        -0.550955        -0.098369   \n",
       "3            4        -2.974738        -0.307421        -0.088989   \n",
       "4            5        -3.152596        -0.628406        -0.074024   \n",
       "...        ...              ...              ...              ...   \n",
       "27079   131254        -3.981681         0.232736        -0.052098   \n",
       "27080   131256        -3.981681         0.232736        -0.052098   \n",
       "27081   131258        -2.573315        -0.284153         0.052396   \n",
       "27082   131260        -2.984801         0.179601         0.019200   \n",
       "27083   131262        -3.972862         0.237746         0.148629   \n",
       "\n",
       "       item_feature[3]  item_feature[4]  item_feature[5]  item_feature[6]  \\\n",
       "0            -0.290600        -0.768937        -0.669060         0.320834   \n",
       "1            -0.007878        -0.327438         0.089364         0.483903   \n",
       "2             0.449795        -0.003503        -0.443991        -0.152576   \n",
       "3             1.179618        -0.374414        -0.895785        -0.231319   \n",
       "4             0.418717        -0.126666        -0.277614        -0.000917   \n",
       "...                ...              ...              ...              ...   \n",
       "27079         0.041546         0.245169        -0.356735        -0.239470   \n",
       "27080         0.041546         0.245169        -0.356735        -0.239470   \n",
       "27081         0.410075        -0.245121         0.107634         0.229067   \n",
       "27082        -0.063036         0.156784         0.028288        -0.074074   \n",
       "27083        -0.052618         0.252531         0.078878         0.250416   \n",
       "\n",
       "       item_feature[7]  item_feature[8]  \n",
       "0             0.433358         0.307032  \n",
       "1             0.845774         0.187110  \n",
       "2            -0.084474         0.283544  \n",
       "3             0.083784         0.781328  \n",
       "4            -0.170118         0.274746  \n",
       "...                ...              ...  \n",
       "27079        -0.146867        -0.225847  \n",
       "27080        -0.146867        -0.225847  \n",
       "27081        -0.013334         0.310750  \n",
       "27082         0.007811        -0.111964  \n",
       "27083         0.041421        -0.158270  \n",
       "\n",
       "[27084 rows x 10 columns]"
      ]
     },
     "execution_count": 21,
     "metadata": {},
     "output_type": "execute_result"
    }
   ],
   "source": [
    "%%time\n",
    "pca_items_test = model_it.transform(va_it.transform(items_df_test)).select(['item_id', 'pca_features'])\n",
    "\n",
    "pca_items_test = (pca_items_test.withColumn('item_feature', vector_to_array('pca_features'))).select(['item_id'] + [col('item_feature')[i] for i in range(9)])\n",
    "pca_items_test.toPandas()"
   ]
  },
  {
   "cell_type": "markdown",
   "id": "ca62a840",
   "metadata": {},
   "source": [
    "Создадим набор данных, который впоследствии сделаем полным."
   ]
  },
  {
   "cell_type": "code",
   "execution_count": 50,
   "id": "c28e01fe",
   "metadata": {},
   "outputs": [],
   "source": [
    "users_df_comp = pca_users.limit(10000)\n",
    "items_df_comp = pca_items.limit(2000)\n",
    "log_df_full = users_df_comp.crossJoin(items_df_comp)\n",
    "\n",
    "log_df_comp = log_df_full.join(log_df_train, on=['user_id', 'item_id'], how='leftanti')\n",
    "log_df_comp = log_df_comp.join(log_df_val, on=['user_id', 'item_id'], how='leftanti')\n",
    "log_df_comp = log_df_comp.join(log_df_test, on=['user_id', 'item_id'], how='leftanti')"
   ]
  },
  {
   "cell_type": "code",
   "execution_count": 51,
   "id": "c16ed0c4",
   "metadata": {},
   "outputs": [
    {
     "name": "stderr",
     "output_type": "stream",
     "text": [
      "                                                                                \r"
     ]
    },
    {
     "data": {
      "text/plain": [
       "19169031"
      ]
     },
     "execution_count": 51,
     "metadata": {},
     "output_type": "execute_result"
    }
   ],
   "source": [
    "log_df_comp.count()"
   ]
  },
  {
   "cell_type": "markdown",
   "id": "21b1c4e8",
   "metadata": {},
   "source": [
    "# Generator learning"
   ]
  },
  {
   "cell_type": "code",
   "execution_count": 91,
   "id": "b4b9016d",
   "metadata": {},
   "outputs": [
    {
     "name": "stderr",
     "output_type": "stream",
     "text": [
      "                                                                                \r"
     ]
    },
    {
     "name": "stdout",
     "output_type": "stream",
     "text": [
      "CPU times: user 274 ms, sys: 8.96 ms, total: 283 ms\n",
      "Wall time: 2.04 s\n"
     ]
    }
   ],
   "source": [
    "%%time\n",
    "generator_1 = SDVDataGenerator(\n",
    "    label='synth',\n",
    "    id_column_name='user_id',\n",
    "    model_name='gaussiancopula',\n",
    "    parallelization_level=4,\n",
    "    device_name='cpu',\n",
    "    seed=1234\n",
    ")\n",
    "\n",
    "items_generator = RealDataGenerator(label='items_real', seed=1234)\n",
    "generator_1.fit(users_df_comp.drop('user_id'))\n",
    "items_generator.fit(items_df_comp)"
   ]
  },
  {
   "cell_type": "code",
   "execution_count": 92,
   "id": "b482bcb5",
   "metadata": {},
   "outputs": [
    {
     "name": "stderr",
     "output_type": "stream",
     "text": [
      "                                                                                \r"
     ]
    },
    {
     "name": "stdout",
     "output_type": "stream",
     "text": [
      "{'LogisticDetection': 0.9881423055322929, 'SVCDetection': 0.29116611661040126, 'KSTest': 0.9592111111111112, 'ContinuousKLDivergence': 0.9423389088336714}\n"
     ]
    }
   ],
   "source": [
    "real_users = users_df_comp\n",
    "syn_users = generator_1.generate(real_users.count())\n",
    "gen_score = evaluate_synthetic(\n",
    "    syn_users.drop('user_id'),\n",
    "    real_users.drop('user_id')\n",
    ")\n",
    "print(gen_score)"
   ]
  },
  {
   "cell_type": "markdown",
   "id": "b08f8066",
   "metadata": {},
   "source": [
    "# Response model training"
   ]
  },
  {
   "cell_type": "code",
   "execution_count": 33,
   "id": "6a988005",
   "metadata": {},
   "outputs": [],
   "source": [
    "va = VectorAssembler(\n",
    "    inputCols=pca_users.columns[1:] + pca_items.columns[1:],\n",
    "    outputCol='features'\n",
    ")\n",
    "\n",
    "lr = LogisticRegression(\n",
    "    featuresCol='features',\n",
    "    labelCol='relevance',\n",
    "    probabilityCol='__lr_prob'\n",
    ")"
   ]
  },
  {
   "cell_type": "code",
   "execution_count": 34,
   "id": "dfb9428b",
   "metadata": {},
   "outputs": [],
   "source": [
    "train_df = log_df_val.join(pca_users, 'user_id', 'left')\\\n",
    "                       .join(pca_items, 'item_id', 'left')\\\n",
    "                       .drop('timestamp')\n",
    "train_df = train_df.na.drop()"
   ]
  },
  {
   "cell_type": "code",
   "execution_count": 35,
   "id": "7747e610",
   "metadata": {},
   "outputs": [
    {
     "name": "stderr",
     "output_type": "stream",
     "text": [
      "                                                                                \r"
     ]
    },
    {
     "name": "stdout",
     "output_type": "stream",
     "text": [
      "CPU times: user 35.3 ms, sys: 401 µs, total: 35.7 ms\n",
      "Wall time: 22.9 s\n"
     ]
    }
   ],
   "source": [
    "%%time\n",
    "lr_model = lr.fit(va.transform(train_df))"
   ]
  },
  {
   "cell_type": "markdown",
   "id": "61ec5fa4",
   "metadata": {},
   "source": [
    "# Parametric response model"
   ]
  },
  {
   "cell_type": "code",
   "execution_count": 37,
   "id": "7c03878d",
   "metadata": {},
   "outputs": [],
   "source": [
    "vee = VectorElementExtractor(inputCol='__lr_prob', outputCol='__r1', index=1)\n",
    "\n",
    "noise_resp = NoiseResponse(mu=0.5, sigma=0.2, outputCol='__r2', seed=1234)\n",
    "\n",
    "va_users = VectorAssembler(\n",
    "    inputCols=pca_users.columns[1:],\n",
    "    outputCol='features_usr'\n",
    ")\n",
    "\n",
    "va_items = VectorAssembler(\n",
    "    inputCols=pca_items.columns[1:],\n",
    "    outputCol='features_itm'\n",
    ")\n",
    "\n",
    "heur_resp = CosineSimilatiry(inputCols=['features_usr', 'features_itm'], outputCol='__r3')\n",
    "\n",
    "resp_func = ParametricResponseFunction(\n",
    "    inputCols=['__r1', '__r2', '__r3'],\n",
    "    outputCol='__proba',\n",
    "    weights=[1.0, 0.0, 0.0]\n",
    ")\n",
    "\n",
    "mc = ModelCalibration(inputCol='__proba', outputCol='__mc', value=0.25)\n",
    "\n",
    "br = BernoulliResponse(inputCol='__mc', outputCol='response', seed=1234)\n",
    "\n",
    "pipeline = PipelineModel(\n",
    "    stages=[\n",
    "        va,\n",
    "        lr_model,\n",
    "        vee,\n",
    "        noise_resp,\n",
    "        va_users,\n",
    "        va_items,\n",
    "        heur_resp,\n",
    "        resp_func,\n",
    "        mc,\n",
    "        br\n",
    "    ]\n",
    ")"
   ]
  },
  {
   "cell_type": "markdown",
   "id": "fc859a34",
   "metadata": {},
   "source": [
    "Создадим полный датасет."
   ]
  },
  {
   "cell_type": "code",
   "execution_count": 79,
   "id": "61bf0a7a",
   "metadata": {},
   "outputs": [],
   "source": [
    "log_df_comp = log_df_comp.drop('timestamp')\n",
    "\n",
    "pred_df = pipeline.transform(log_df_comp)\n",
    "pred_df = pred_df.select('user_id', 'item_id', 'response').withColumnRenamed('response', 'relevance')"
   ]
  },
  {
   "cell_type": "code",
   "execution_count": 77,
   "id": "fdd6b921",
   "metadata": {},
   "outputs": [],
   "source": [
    "log_df_ex1 = log_df_full.join(log_df_train, on=['user_id', 'item_id'], how='inner')\n",
    "log_df_ex2 = log_df_full.join(log_df_val, on=['user_id', 'item_id'], how='inner')\n",
    "log_df_ex3 = log_df_full.join(log_df_test, on=['user_id', 'item_id'], how='inner')\n",
    "log_df_ex = log_df_ex1.union(log_df_ex2).union(log_df_ex3).select('user_id', 'item_id', 'relevance')"
   ]
  },
  {
   "cell_type": "code",
   "execution_count": 80,
   "id": "1266c68c",
   "metadata": {},
   "outputs": [],
   "source": [
    "pred_df = pred_df.union(log_df_ex)"
   ]
  },
  {
   "cell_type": "code",
   "execution_count": 81,
   "id": "7b018691",
   "metadata": {},
   "outputs": [
    {
     "name": "stderr",
     "output_type": "stream",
     "text": [
      "                                                                                \r"
     ]
    },
    {
     "data": {
      "text/plain": [
       "20000000"
      ]
     },
     "execution_count": 81,
     "metadata": {},
     "output_type": "execute_result"
    }
   ],
   "source": [
    "pred_df.count()"
   ]
  },
  {
   "cell_type": "code",
   "execution_count": 107,
   "id": "2b9e4e18",
   "metadata": {},
   "outputs": [],
   "source": [
    "sim = Simulator(\n",
    "    user_gen=generator_1,\n",
    "    item_gen=items_generator,\n",
    "    user_key_col='user_id',\n",
    "    item_key_col='item_id',\n",
    "    spark_session=spark,\n",
    "    data_dir=CHECKPOINTS_DIR,\n",
    ")"
   ]
  },
  {
   "cell_type": "code",
   "execution_count": 108,
   "id": "e7b7fe62",
   "metadata": {},
   "outputs": [],
   "source": [
    "sim_real = Simulator(\n",
    "    user_gen=generator_1,\n",
    "    item_gen=items_generator,\n",
    "    user_key_col='user_id',\n",
    "    item_key_col='item_id',\n",
    "    spark_session=spark,\n",
    "    data_dir=CHECKPOINTS_DIR2,\n",
    ")"
   ]
  },
  {
   "cell_type": "code",
   "execution_count": 84,
   "id": "074f232e",
   "metadata": {},
   "outputs": [],
   "source": [
    "evaluator = EvaluateMetrics(\n",
    "    userKeyCol='user_id',\n",
    "    itemKeyCol='item_id',\n",
    "    predictionCol='relevance',\n",
    "    labelCol='response',\n",
    "    replay_label_filter=1.0,\n",
    "    replay_metrics={NDCG() : 10, Precision() : 10, RocAuc(): 10}\n",
    ")"
   ]
  },
  {
   "cell_type": "code",
   "execution_count": 109,
   "id": "43267eb7",
   "metadata": {},
   "outputs": [
    {
     "name": "stderr",
     "output_type": "stream",
     "text": [
      "[Stage 1954:>                                                       (0 + 1) / 1]\r"
     ]
    },
    {
     "name": "stdout",
     "output_type": "stream",
     "text": [
      "CPU times: user 1.1 s, sys: 289 ms, total: 1.39 s\n",
      "Wall time: 1min 23s\n"
     ]
    },
    {
     "name": "stderr",
     "output_type": "stream",
     "text": [
      "\r\n",
      "                                                                                \r"
     ]
    }
   ],
   "source": [
    "%%time\n",
    "real_indexer = Indexer(user_col='user_id', item_col='item_id')\n",
    "real_indexer.fit(users=pca_users, items=pca_items)\n",
    "\n",
    "synth_indexer = Indexer(user_col='user_id', item_col='item_id')\n",
    "synth_indexer.fit(users=generator_1.sample(1.0), items=pca_items_val)\n",
    "\n",
    "real_model = UCB(sample = True)\n",
    "simulator_model = UCB(sample = True)\n",
    "\n",
    "real_model.fit(log=synth_indexer.transform(log_df_val.drop('timestamp').limit(1)))\n",
    "simulator_model.fit(log=synth_indexer.transform(log_df_val.drop('timestamp').limit(1)))"
   ]
  },
  {
   "cell_type": "markdown",
   "id": "9654fd0e",
   "metadata": {},
   "source": [
    "# Real model training"
   ]
  },
  {
   "cell_type": "code",
   "execution_count": 110,
   "id": "b8b02d55",
   "metadata": {},
   "outputs": [
    {
     "name": "stdout",
     "output_type": "stream",
     "text": [
      "Stage 0\n"
     ]
    },
    {
     "name": "stderr",
     "output_type": "stream",
     "text": [
      "                                                                                \r"
     ]
    },
    {
     "name": "stdout",
     "output_type": "stream",
     "text": [
      "Time of 0 iteration: \n",
      "491.09450030326843\n",
      "Stage 1\n"
     ]
    },
    {
     "name": "stderr",
     "output_type": "stream",
     "text": [
      "                                                                                \r"
     ]
    },
    {
     "name": "stdout",
     "output_type": "stream",
     "text": [
      "Time of 1 iteration: \n",
      "593.4182353019714\n",
      "Stage 2\n"
     ]
    },
    {
     "name": "stderr",
     "output_type": "stream",
     "text": [
      "                                                                                \r"
     ]
    },
    {
     "name": "stdout",
     "output_type": "stream",
     "text": [
      "Time of 2 iteration: \n",
      "393.66126799583435\n",
      "Stage 3\n"
     ]
    },
    {
     "name": "stderr",
     "output_type": "stream",
     "text": [
      "                                                                                \r"
     ]
    },
    {
     "name": "stdout",
     "output_type": "stream",
     "text": [
      "Time of 3 iteration: \n",
      "411.34674859046936\n",
      "Stage 4\n"
     ]
    },
    {
     "name": "stderr",
     "output_type": "stream",
     "text": [
      "                                                                                \r"
     ]
    },
    {
     "name": "stdout",
     "output_type": "stream",
     "text": [
      "Time of 4 iteration: \n",
      "377.4309732913971\n",
      "Stage 5\n"
     ]
    },
    {
     "name": "stderr",
     "output_type": "stream",
     "text": [
      "                                                                                \r"
     ]
    },
    {
     "name": "stdout",
     "output_type": "stream",
     "text": [
      "Time of 5 iteration: \n",
      "352.13058590888977\n",
      "Stage 6\n"
     ]
    },
    {
     "name": "stderr",
     "output_type": "stream",
     "text": [
      "                                                                                \r"
     ]
    },
    {
     "name": "stdout",
     "output_type": "stream",
     "text": [
      "Time of 6 iteration: \n",
      "294.55312633514404\n",
      "Stage 7\n"
     ]
    },
    {
     "name": "stderr",
     "output_type": "stream",
     "text": [
      "                                                                                \r"
     ]
    },
    {
     "name": "stdout",
     "output_type": "stream",
     "text": [
      "Time of 7 iteration: \n",
      "296.10899329185486\n",
      "Stage 8\n"
     ]
    },
    {
     "name": "stderr",
     "output_type": "stream",
     "text": [
      "                                                                                \r"
     ]
    },
    {
     "name": "stdout",
     "output_type": "stream",
     "text": [
      "Time of 8 iteration: \n",
      "298.0825254917145\n",
      "Stage 9\n"
     ]
    },
    {
     "name": "stderr",
     "output_type": "stream",
     "text": [
      "                                                                                \r"
     ]
    },
    {
     "name": "stdout",
     "output_type": "stream",
     "text": [
      "Time of 9 iteration: \n",
      "287.2294850349426\n",
      "Stage 10\n"
     ]
    },
    {
     "name": "stderr",
     "output_type": "stream",
     "text": [
      "                                                                                \r"
     ]
    },
    {
     "name": "stdout",
     "output_type": "stream",
     "text": [
      "Time of 10 iteration: \n",
      "292.08033323287964\n",
      "Stage 11\n"
     ]
    },
    {
     "name": "stderr",
     "output_type": "stream",
     "text": [
      "                                                                                \r"
     ]
    },
    {
     "name": "stdout",
     "output_type": "stream",
     "text": [
      "Time of 11 iteration: \n",
      "327.54464983940125\n",
      "Stage 12\n"
     ]
    },
    {
     "name": "stderr",
     "output_type": "stream",
     "text": [
      "                                                                                \r"
     ]
    },
    {
     "name": "stdout",
     "output_type": "stream",
     "text": [
      "Time of 12 iteration: \n",
      "290.05182695388794\n",
      "Stage 13\n"
     ]
    },
    {
     "name": "stderr",
     "output_type": "stream",
     "text": [
      "                                                                                \r"
     ]
    },
    {
     "name": "stdout",
     "output_type": "stream",
     "text": [
      "Time of 13 iteration: \n",
      "285.3420920372009\n",
      "Stage 14\n"
     ]
    },
    {
     "name": "stderr",
     "output_type": "stream",
     "text": [
      "                                                                                \r"
     ]
    },
    {
     "name": "stdout",
     "output_type": "stream",
     "text": [
      "Time of 14 iteration: \n",
      "293.1998755931854\n",
      "Stage 15\n"
     ]
    },
    {
     "name": "stderr",
     "output_type": "stream",
     "text": [
      "                                                                                \r"
     ]
    },
    {
     "name": "stdout",
     "output_type": "stream",
     "text": [
      "Time of 15 iteration: \n",
      "296.9593107700348\n",
      "Stage 16\n"
     ]
    },
    {
     "name": "stderr",
     "output_type": "stream",
     "text": [
      "                                                                                \r"
     ]
    },
    {
     "name": "stdout",
     "output_type": "stream",
     "text": [
      "Time of 16 iteration: \n",
      "297.79289984703064\n",
      "Stage 17\n"
     ]
    },
    {
     "name": "stderr",
     "output_type": "stream",
     "text": [
      "                                                                                \r"
     ]
    },
    {
     "name": "stdout",
     "output_type": "stream",
     "text": [
      "Time of 17 iteration: \n",
      "290.90799617767334\n",
      "Stage 18\n"
     ]
    },
    {
     "name": "stderr",
     "output_type": "stream",
     "text": [
      "                                                                                \r"
     ]
    },
    {
     "name": "stdout",
     "output_type": "stream",
     "text": [
      "Time of 18 iteration: \n",
      "291.54216170310974\n",
      "Stage 19\n"
     ]
    },
    {
     "name": "stderr",
     "output_type": "stream",
     "text": [
      "                                                                                \r"
     ]
    },
    {
     "name": "stdout",
     "output_type": "stream",
     "text": [
      "Time of 19 iteration: \n",
      "285.6636793613434\n",
      "Stage 20\n"
     ]
    },
    {
     "name": "stderr",
     "output_type": "stream",
     "text": [
      "                                                                                \r"
     ]
    },
    {
     "name": "stdout",
     "output_type": "stream",
     "text": [
      "Time of 20 iteration: \n",
      "286.71636605262756\n",
      "Stage 21\n"
     ]
    },
    {
     "name": "stderr",
     "output_type": "stream",
     "text": [
      "                                                                                \r"
     ]
    },
    {
     "name": "stdout",
     "output_type": "stream",
     "text": [
      "Time of 21 iteration: \n",
      "290.691876411438\n",
      "Stage 22\n"
     ]
    },
    {
     "name": "stderr",
     "output_type": "stream",
     "text": [
      "                                                                                \r"
     ]
    },
    {
     "name": "stdout",
     "output_type": "stream",
     "text": [
      "Time of 22 iteration: \n",
      "288.6290965080261\n",
      "Stage 23\n"
     ]
    },
    {
     "name": "stderr",
     "output_type": "stream",
     "text": [
      "                                                                                \r"
     ]
    },
    {
     "name": "stdout",
     "output_type": "stream",
     "text": [
      "Time of 23 iteration: \n",
      "286.69846272468567\n",
      "Stage 24\n"
     ]
    },
    {
     "name": "stderr",
     "output_type": "stream",
     "text": [
      "                                                                                \r"
     ]
    },
    {
     "name": "stdout",
     "output_type": "stream",
     "text": [
      "Time of 24 iteration: \n",
      "295.9634380340576\n",
      "Stage 25\n"
     ]
    },
    {
     "name": "stderr",
     "output_type": "stream",
     "text": [
      "                                                                                \r"
     ]
    },
    {
     "name": "stdout",
     "output_type": "stream",
     "text": [
      "Time of 25 iteration: \n",
      "295.66212034225464\n",
      "Stage 26\n"
     ]
    },
    {
     "name": "stderr",
     "output_type": "stream",
     "text": [
      "                                                                                \r"
     ]
    },
    {
     "name": "stdout",
     "output_type": "stream",
     "text": [
      "Time of 26 iteration: \n",
      "297.4917449951172\n",
      "Stage 27\n"
     ]
    },
    {
     "name": "stderr",
     "output_type": "stream",
     "text": [
      "                                                                                \r"
     ]
    },
    {
     "name": "stdout",
     "output_type": "stream",
     "text": [
      "Time of 27 iteration: \n",
      "281.5640299320221\n",
      "Stage 28\n"
     ]
    },
    {
     "name": "stderr",
     "output_type": "stream",
     "text": [
      "                                                                                \r"
     ]
    },
    {
     "name": "stdout",
     "output_type": "stream",
     "text": [
      "Time of 28 iteration: \n",
      "291.5344588756561\n",
      "Stage 29\n"
     ]
    },
    {
     "name": "stderr",
     "output_type": "stream",
     "text": [
      "                                                                                \r"
     ]
    },
    {
     "name": "stdout",
     "output_type": "stream",
     "text": [
      "Time of 29 iteration: \n",
      "286.8751902580261\n"
     ]
    },
    {
     "name": "stderr",
     "output_type": "stream",
     "text": [
      "                                                                                \r"
     ]
    },
    {
     "name": "stdout",
     "output_type": "stream",
     "text": [
      "CPU times: user 2min 32s, sys: 34 s, total: 3min 6s\n",
      "Wall time: 2h 45min 42s\n"
     ]
    },
    {
     "data": {
      "text/plain": [
       "DataFrame[item_feature[0]: double, item_feature[1]: double, item_feature[2]: double, item_feature[3]: double, item_feature[4]: double, item_feature[5]: double, item_feature[6]: double, item_feature[7]: double, item_feature[8]: double, item_idx: int]"
      ]
     },
     "execution_count": 110,
     "metadata": {},
     "output_type": "execute_result"
    }
   ],
   "source": [
    "%%time\n",
    "\n",
    "ndcg = NDCG()\n",
    "precision = Precision()\n",
    "\n",
    "LOG_SCHEMA = st.StructType([\n",
    "    st.StructField('user_id', st.IntegerType()),\n",
    "    st.StructField('item_id', st.IntegerType()),\n",
    "    st.StructField('relevance', st.DoubleType())\n",
    "])\n",
    "\n",
    "empty_log = spark.createDataFrame(\n",
    "    data=spark.sparkContext.emptyRDD(),\n",
    "    schema=LOG_SCHEMA\n",
    ")\n",
    "\n",
    "real_learning_metrics = []\n",
    "items_replay = real_indexer.transform(items_df_comp).cache()\n",
    "\n",
    "resp_func.setWeights([0.5, 0.5, 0.0])\n",
    "\n",
    "for i in range(30):\n",
    "    print(f'Stage {i}')\n",
    "    start_iter = time.time()\n",
    "    log = sim_real.log\n",
    "    if log is None:\n",
    "        log = empty_log\n",
    "    log = log.cache()\n",
    "    users = users_df_comp.sample(0.02).cache()\n",
    "\n",
    "    recs = real_model.predict(\n",
    "        log=real_indexer.transform(log),\n",
    "        k=10,\n",
    "        users=real_indexer.transform(users),\n",
    "        items=items_replay\n",
    "    )\n",
    "    recs = real_indexer.inverse_transform(recs).cache()\n",
    "    \n",
    "    true_resp = pred_df.withColumnRenamed('relevance', 'response')\\\n",
    "        .join(recs, on=['user_id', 'item_id'], how='inner').drop('timestamp').cache()\n",
    "    \n",
    "    sim_real.update_log(true_resp, iteration=i)\n",
    "    \n",
    "    real_learning_metrics.append(evaluator(true_resp))\n",
    "\n",
    "    real_model._clear_cache()\n",
    "    train_log = sim_real.log.cache()\n",
    "    real_model.fit(\n",
    "        log=real_indexer.transform(\n",
    "            train_log.select('user_id', 'item_id', 'response')\\\n",
    "                .withColumnRenamed('response', 'relevance')\n",
    "        )\n",
    "    )\n",
    "        \n",
    "    users.unpersist()\n",
    "    train_log.unpersist()\n",
    "    if log is not None:\n",
    "        log.unpersist()\n",
    "    recs.unpersist()\n",
    "    true_resp.unpersist()\n",
    "    end_iter = time.time()\n",
    "    print(f\"Time of {i} iteration: \")\n",
    "    print(end_iter - start_iter)\n",
    "\n",
    "log = sim_real.log.cache()\n",
    "users = users_df_comp.sample(0.2).cache()\n",
    "\n",
    "real_recs = real_model.predict(\n",
    "    log=real_indexer.transform(log),\n",
    "    k=10,\n",
    "    users=real_indexer.transform(users),\n",
    "    items=items_replay\n",
    ")\n",
    "real_recs = real_indexer.inverse_transform(real_recs).cache()\n",
    "\n",
    "real_ground_truth = pred_df.withColumnRenamed('relevance', 'response')\\\n",
    "    .join(real_recs, on=['user_id', 'item_id'], how='inner').drop('timestamp').cache()\n",
    "\n",
    "real_final_metrics = evaluator(real_ground_truth)\n",
    "\n",
    "items_replay.unpersist()"
   ]
  },
  {
   "cell_type": "code",
   "execution_count": 111,
   "id": "6cb3fa62",
   "metadata": {},
   "outputs": [
    {
     "data": {
      "text/plain": [
       "{'NDCG@10': 0.6257653717618089,\n",
       " 'Precision@10': 0.2710636079249216,\n",
       " 'RocAuc@10': 0.5292636178559014}"
      ]
     },
     "execution_count": 111,
     "metadata": {},
     "output_type": "execute_result"
    }
   ],
   "source": [
    "real_final_metrics"
   ]
  },
  {
   "cell_type": "markdown",
   "id": "21c51f97",
   "metadata": {},
   "source": [
    "# Synthetic model training (in simulator)"
   ]
  },
  {
   "cell_type": "markdown",
   "id": "f6cc3c94",
   "metadata": {},
   "source": [
    "Как и в предыдущих экспериментах, обучаем модель UCB с помощью симулятора на синтетических данных."
   ]
  },
  {
   "cell_type": "code",
   "execution_count": 114,
   "id": "e9e7edac",
   "metadata": {
    "scrolled": true
   },
   "outputs": [
    {
     "name": "stderr",
     "output_type": "stream",
     "text": [
      "                                                                                \r"
     ]
    },
    {
     "name": "stdout",
     "output_type": "stream",
     "text": [
      "Iteration 0 finished with time 26.233932495117188 sec.\n",
      "Iteration 1 finished with time 19.581873178482056 sec.\n"
     ]
    },
    {
     "name": "stderr",
     "output_type": "stream",
     "text": [
      "\r\n",
      "[Stage 9012:>                                                       (0 + 4) / 4]\r\n",
      "\r\n",
      "                                                                                \r"
     ]
    },
    {
     "name": "stdout",
     "output_type": "stream",
     "text": [
      "Iteration 2 finished with time 19.51755428314209 sec.\n",
      "Iteration 3 finished with time 19.80730438232422 sec.\n",
      "Iteration 4 finished with time 19.658565282821655 sec.\n",
      "Iteration 5 finished with time 18.993682622909546 sec.\n",
      "Iteration 6 finished with time 19.63825559616089 sec.\n"
     ]
    },
    {
     "name": "stderr",
     "output_type": "stream",
     "text": [
      "                                                                                \r"
     ]
    },
    {
     "name": "stdout",
     "output_type": "stream",
     "text": [
      "Iteration 7 finished with time 19.731723070144653 sec.\n",
      "Iteration 8 finished with time 19.370787858963013 sec.\n",
      "Iteration 9 finished with time 20.188329458236694 sec.\n"
     ]
    },
    {
     "name": "stderr",
     "output_type": "stream",
     "text": [
      "                                                                                \r"
     ]
    },
    {
     "name": "stdout",
     "output_type": "stream",
     "text": [
      "Iteration 10 finished with time 19.651352882385254 sec.\n"
     ]
    },
    {
     "name": "stderr",
     "output_type": "stream",
     "text": [
      "                                                                                \r"
     ]
    },
    {
     "name": "stdout",
     "output_type": "stream",
     "text": [
      "Iteration 11 finished with time 20.92009210586548 sec.\n"
     ]
    },
    {
     "name": "stderr",
     "output_type": "stream",
     "text": [
      "                                                                                \r"
     ]
    },
    {
     "name": "stdout",
     "output_type": "stream",
     "text": [
      "Iteration 12 finished with time 20.744285821914673 sec.\n",
      "Iteration 13 finished with time 20.639321088790894 sec.\n",
      "Iteration 14 finished with time 21.07686495780945 sec.\n"
     ]
    },
    {
     "name": "stderr",
     "output_type": "stream",
     "text": [
      "                                                                                \r"
     ]
    },
    {
     "name": "stdout",
     "output_type": "stream",
     "text": [
      "Iteration 15 finished with time 20.56736421585083 sec.\n",
      "Iteration 16 finished with time 19.316908597946167 sec.\n",
      "Iteration 17 finished with time 19.331665992736816 sec.\n",
      "Iteration 18 finished with time 19.11871314048767 sec.\n",
      "Iteration 19 finished with time 19.57170796394348 sec.\n"
     ]
    },
    {
     "name": "stderr",
     "output_type": "stream",
     "text": [
      "                                                                                \r"
     ]
    },
    {
     "name": "stdout",
     "output_type": "stream",
     "text": [
      "Iteration 20 finished with time 26.231399297714233 sec.\n"
     ]
    },
    {
     "name": "stderr",
     "output_type": "stream",
     "text": [
      "                                                                                \r"
     ]
    },
    {
     "name": "stdout",
     "output_type": "stream",
     "text": [
      "Iteration 21 finished with time 19.14513874053955 sec.\n",
      "Iteration 22 finished with time 19.37420916557312 sec.\n",
      "Iteration 23 finished with time 19.97400736808777 sec.\n",
      "Iteration 24 finished with time 20.30391240119934 sec.\n",
      "Iteration 25 finished with time 19.89417862892151 sec.\n",
      "Iteration 26 finished with time 19.704529762268066 sec.\n"
     ]
    },
    {
     "name": "stderr",
     "output_type": "stream",
     "text": [
      "                                                                                \r"
     ]
    },
    {
     "name": "stdout",
     "output_type": "stream",
     "text": [
      "Iteration 27 finished with time 20.490021228790283 sec.\n"
     ]
    },
    {
     "name": "stderr",
     "output_type": "stream",
     "text": [
      "                                                                                \r"
     ]
    },
    {
     "name": "stdout",
     "output_type": "stream",
     "text": [
      "Iteration 28 finished with time 20.898277521133423 sec.\n",
      "Iteration 29 finished with time 20.062936305999756 sec.\n"
     ]
    },
    {
     "name": "stderr",
     "output_type": "stream",
     "text": [
      "                                                                                \r"
     ]
    },
    {
     "data": {
      "text/plain": [
       "DataFrame[item_feature[0]: double, item_feature[1]: double, item_feature[2]: double, item_feature[3]: double, item_feature[4]: double, item_feature[5]: double, item_feature[6]: double, item_feature[7]: double, item_feature[8]: double, item_idx: int]"
      ]
     },
     "execution_count": 114,
     "metadata": {},
     "output_type": "execute_result"
    }
   ],
   "source": [
    "LOG_SCHEMA = st.StructType([\n",
    "    st.StructField('user_id', st.IntegerType()),\n",
    "    st.StructField('item_id', st.IntegerType()),\n",
    "    st.StructField('relevance', st.DoubleType())\n",
    "])\n",
    "\n",
    "empty_log = spark.createDataFrame(\n",
    "    data=spark.sparkContext.emptyRDD(),\n",
    "    schema=LOG_SCHEMA\n",
    ")\n",
    "\n",
    "items_replay = synth_indexer.transform(items_df_comp).cache()\n",
    "\n",
    "ucb_metrics_old = []\n",
    "\n",
    "for i in range(30):\n",
    "    iter_start = time.time()\n",
    "\n",
    "    users = sim.sample_users(0.02).cache()\n",
    "    \n",
    "    log = sim.get_log(users)\n",
    "    if log is None:\n",
    "        log = empty_log\n",
    "    log = log.cache()\n",
    "\n",
    "    recs_ucb = simulator_model.predict(\n",
    "        log=synth_indexer.transform(log),\n",
    "        k=10,\n",
    "        users=synth_indexer.transform(users),\n",
    "        items=items_replay\n",
    "    )\n",
    "    recs_ucb = synth_indexer.inverse_transform(recs_ucb).cache()\n",
    "\n",
    "    resp_ucb = sim.sample_responses(\n",
    "        recs_df=recs_ucb,\n",
    "        user_features=users,\n",
    "        item_features=items_df_comp,\n",
    "        action_models=pipeline\n",
    "    ).select('user_id', 'item_id', 'relevance', 'response').cache()\n",
    "\n",
    "    sim.update_log(resp_ucb, iteration=i)\n",
    "\n",
    "    ucb_metrics_old.append(evaluator(resp_ucb))\n",
    "\n",
    "    simulator_model._clear_cache()\n",
    "    ucb_train_log = sim.log.cache()\n",
    "    simulator_model.fit(\n",
    "        log=synth_indexer.transform(\n",
    "            ucb_train_log\\\n",
    "                .select('user_id', 'item_id', 'response')\\\n",
    "                .withColumnRenamed('response', 'relevance')\n",
    "        )\n",
    "    )\n",
    "\n",
    "    users.unpersist()\n",
    "    log.unpersist()\n",
    "    recs_ucb.unpersist()\n",
    "    resp_ucb.unpersist()\n",
    "    ucb_train_log.unpersist()\n",
    "\n",
    "    print(f'Iteration {i} finished with time {time.time() - iter_start} sec.')\n",
    "    \n",
    "users = sim.sample_users(0.2).cache()\n",
    "synth_recs = synth_indexer.inverse_transform(\n",
    "    simulator_model.predict(\n",
    "        log=synth_indexer.transform(sim.log),\n",
    "        k=10,\n",
    "        users=synth_indexer.transform(users),\n",
    "        items=items_replay\n",
    "    )\n",
    ").cache()\n",
    "synth_ground_truth = sim.sample_responses(\n",
    "    recs_df=synth_recs,\n",
    "    user_features=users,\n",
    "    item_features=items_df_comp,\n",
    "    action_models=pipeline\n",
    ").select('user_id', 'item_id', 'relevance', 'response').cache()\n",
    "final_metrics = evaluator(synth_ground_truth)\n",
    "\n",
    "items_replay.unpersist()"
   ]
  },
  {
   "cell_type": "code",
   "execution_count": 115,
   "id": "9dabb984",
   "metadata": {},
   "outputs": [
    {
     "data": {
      "text/plain": [
       "{'NDCG@10': 0.533969593671985,\n",
       " 'Precision@10': 0.19638554216867485,\n",
       " 'RocAuc@10': 0.4878339434836856}"
      ]
     },
     "execution_count": 115,
     "metadata": {},
     "output_type": "execute_result"
    }
   ],
   "source": [
    "final_metrics"
   ]
  },
  {
   "cell_type": "markdown",
   "id": "68a9b5a1",
   "metadata": {},
   "source": [
    "Проверим на реальных данных качество рексистемы, обученной на синтетике."
   ]
  },
  {
   "cell_type": "code",
   "execution_count": 116,
   "id": "c47c6a25",
   "metadata": {},
   "outputs": [
    {
     "name": "stderr",
     "output_type": "stream",
     "text": [
      "                                                                                \r"
     ]
    },
    {
     "data": {
      "text/plain": [
       "DataFrame[item_feature[0]: double, item_feature[1]: double, item_feature[2]: double, item_feature[3]: double, item_feature[4]: double, item_feature[5]: double, item_feature[6]: double, item_feature[7]: double, item_feature[8]: double, item_idx: int]"
      ]
     },
     "execution_count": 116,
     "metadata": {},
     "output_type": "execute_result"
    }
   ],
   "source": [
    "items_replay = real_indexer.transform(items_df_comp).cache()\n",
    "log = sim.log.cache()\n",
    "users = users_df_comp.sample(0.02).cache()\n",
    "\n",
    "real_recs = simulator_model.predict(\n",
    "    log=synth_indexer.transform(log),\n",
    "    k=10,\n",
    "    users=real_indexer.transform(users),\n",
    "    items=items_replay\n",
    ")\n",
    "real_recs = real_indexer.inverse_transform(real_recs).cache()\n",
    "\n",
    "real_ground_truth = pred_df.withColumnRenamed('relevance', 'response')\\\n",
    "    .join(real_recs, on=['user_id', 'item_id'], how='inner').drop('timestamp').cache()\n",
    "\n",
    "real_metrics_trained_on_synth = evaluator(real_ground_truth)\n",
    "items_replay.unpersist()"
   ]
  },
  {
   "cell_type": "code",
   "execution_count": 117,
   "id": "42fcdaa9",
   "metadata": {},
   "outputs": [
    {
     "data": {
      "text/plain": [
       "{'NDCG@10': 0.5914915560215628,\n",
       " 'Precision@10': 0.255609756097561,\n",
       " 'RocAuc@10': 0.48394657375145184}"
      ]
     },
     "execution_count": 117,
     "metadata": {},
     "output_type": "execute_result"
    }
   ],
   "source": [
    "real_metrics_trained_on_synth"
   ]
  },
  {
   "cell_type": "markdown",
   "id": "d4450662",
   "metadata": {},
   "source": [
    "И наоборот: проверим на синтетических данных качество рексистемы, обученной на реальных."
   ]
  },
  {
   "cell_type": "code",
   "execution_count": 118,
   "id": "25d95d70",
   "metadata": {},
   "outputs": [
    {
     "name": "stderr",
     "output_type": "stream",
     "text": [
      "                                                                                \r"
     ]
    },
    {
     "data": {
      "text/plain": [
       "DataFrame[item_feature[0]: double, item_feature[1]: double, item_feature[2]: double, item_feature[3]: double, item_feature[4]: double, item_feature[5]: double, item_feature[6]: double, item_feature[7]: double, item_feature[8]: double, item_idx: int]"
      ]
     },
     "execution_count": 118,
     "metadata": {},
     "output_type": "execute_result"
    }
   ],
   "source": [
    "items_replay = real_indexer.transform(items_df_comp).cache()\n",
    "users = sim.sample_users(0.02).cache()\n",
    "synth_recs = synth_indexer.inverse_transform(\n",
    "    real_model.predict(\n",
    "        log=real_indexer.transform(sim_real.log),\n",
    "        k=10,\n",
    "        users=synth_indexer.transform(users),\n",
    "        items=items_replay\n",
    "    )\n",
    ").cache()\n",
    "synth_ground_truth = sim.sample_responses(\n",
    "    recs_df=synth_recs,\n",
    "    user_features=users,\n",
    "    item_features=items_df_comp,\n",
    "    action_models=pipeline\n",
    ").select('user_id', 'item_id', 'relevance', 'response').cache()\n",
    "synth_metrics_trained_on_real = evaluator(synth_ground_truth)\n",
    "items_replay.unpersist()"
   ]
  },
  {
   "cell_type": "code",
   "execution_count": 119,
   "id": "10785655",
   "metadata": {},
   "outputs": [
    {
     "data": {
      "text/plain": [
       "{'NDCG@10': 0.5583396475236223,\n",
       " 'Precision@10': 0.1999999999999999,\n",
       " 'RocAuc@10': 0.49805873995688804}"
      ]
     },
     "execution_count": 119,
     "metadata": {},
     "output_type": "execute_result"
    }
   ],
   "source": [
    "synth_metrics_trained_on_real"
   ]
  },
  {
   "cell_type": "code",
   "execution_count": 126,
   "id": "f299a4e4",
   "metadata": {},
   "outputs": [
    {
     "data": {
      "image/png": "[encoded data removed]",
      "text/plain": [
       "<Figure size 640x480 with 1 Axes>"
      ]
     },
     "metadata": {},
     "output_type": "display_data"
    }
   ],
   "source": [
    "def draw_trend(x, y):\n",
    "    trend = np.polyfit(x, y, 1)\n",
    "    result = trend[0]*x + trend[1]\n",
    "    return result\n",
    "\n",
    "real_learning_metrics_pdf = pd.DataFrame(real_learning_metrics)\n",
    "ucb_metrics_old_pdf = pd.DataFrame(ucb_metrics_old)\n",
    "\n",
    "plt.plot(real_learning_metrics_pdf['NDCG@10'], color='g', label='Real')\n",
    "plt.plot(draw_trend(range(30), real_learning_metrics_pdf['NDCG@10']), color='k')\n",
    "plt.plot(ucb_metrics_old_pdf['NDCG@10'], color='b', label='Synth old')\n",
    "\n",
    "plt.plot(29, real_metrics_trained_on_synth['NDCG@10'], 'gv', label='NDCG (train: synth, test: real)')\n",
    "plt.plot(29, synth_metrics_trained_on_real['NDCG@10'], 'bv', label='NDCG (train: real, test: synth)')\n",
    "\n",
    "plt.xlabel('iteration')\n",
    "plt.ylabel('NDCG')\n",
    "plt.legend()\n",
    "plt.xticks(np.arange(0, 30, step=2.0))\n",
    "plt.tight_layout()\n",
    "#plt.savefig('ml_qual_sber.png', dpi=300)"
   ]
  },
  {
   "cell_type": "code",
   "execution_count": 128,
   "id": "9c303f50",
   "metadata": {},
   "outputs": [
    {
     "data": {
      "image/png": "[encoded data removed]",
      "text/plain": [
       "<Figure size 640x480 with 1 Axes>"
      ]
     },
     "metadata": {},
     "output_type": "display_data"
    }
   ],
   "source": [
    "plt.plot(real_learning_metrics_pdf['Precision@10'], color='g', label='Real')\n",
    "plt.plot(draw_trend(range(30), real_learning_metrics_pdf['Precision@10']), color='k')\n",
    "plt.plot(ucb_metrics_old_pdf['Precision@10'], color='b', label='Synth old')\n",
    "\n",
    "plt.plot(29, real_metrics_trained_on_synth['Precision@10'], 'gv', label='Precision (train: synth, test: real)')\n",
    "plt.plot(29, synth_metrics_trained_on_real['Precision@10'], 'bv', label='Precision (train: real, test: synth)')\n",
    "\n",
    "plt.xlabel('iteration')\n",
    "plt.ylabel('Precision')\n",
    "plt.legend()\n",
    "plt.xticks(np.arange(0, 30, step=2.0))\n",
    "plt.tight_layout()"
   ]
  },
  {
   "cell_type": "markdown",
   "id": "5d3d20ef",
   "metadata": {},
   "source": [
    "# Objective function optimization"
   ]
  },
  {
   "cell_type": "code",
   "execution_count": null,
   "id": "38d16979",
   "metadata": {},
   "outputs": [
    {
     "name": "stdout",
     "output_type": "stream",
     "text": [
      "Current alpha : [0.0, 0.0, 1.0]\n",
      "Stage 0\n"
     ]
    },
    {
     "name": "stderr",
     "output_type": "stream",
     "text": [
      "                                                                                \r"
     ]
    },
    {
     "name": "stdout",
     "output_type": "stream",
     "text": [
      "Time of 0 iteration: \n",
      "16.752711057662964\n",
      "Stage 1\n"
     ]
    },
    {
     "name": "stderr",
     "output_type": "stream",
     "text": [
      "                                                                                \r"
     ]
    },
    {
     "name": "stdout",
     "output_type": "stream",
     "text": [
      "Time of 1 iteration: \n",
      "15.712963104248047\n",
      "Stage 2\n"
     ]
    },
    {
     "name": "stderr",
     "output_type": "stream",
     "text": [
      "\r\n",
      "[Stage 13188:>                                                      (0 + 4) / 4]\r\n",
      "\r\n",
      "                                                                                \r"
     ]
    },
    {
     "name": "stdout",
     "output_type": "stream",
     "text": [
      "Time of 2 iteration: \n",
      "14.432903289794922\n",
      "Stage 3\n"
     ]
    },
    {
     "name": "stderr",
     "output_type": "stream",
     "text": [
      "                                                                                \r"
     ]
    },
    {
     "name": "stdout",
     "output_type": "stream",
     "text": [
      "Time of 3 iteration: \n",
      "15.098358154296875\n",
      "Stage 4\n",
      "Time of 4 iteration: \n",
      "15.107399463653564\n",
      "Stage 5\n"
     ]
    },
    {
     "name": "stderr",
     "output_type": "stream",
     "text": [
      "                                                                                \r"
     ]
    },
    {
     "name": "stdout",
     "output_type": "stream",
     "text": [
      "Time of 5 iteration: \n",
      "14.9564847946167\n",
      "Stage 6\n"
     ]
    },
    {
     "name": "stderr",
     "output_type": "stream",
     "text": [
      "                                                                                \r"
     ]
    },
    {
     "name": "stdout",
     "output_type": "stream",
     "text": [
      "Time of 6 iteration: \n",
      "14.339978694915771\n",
      "Stage 7\n",
      "Time of 7 iteration: \n",
      "14.307445764541626\n",
      "Stage 8\n",
      "Time of 8 iteration: \n",
      "14.587472200393677\n",
      "Stage 9\n"
     ]
    },
    {
     "name": "stderr",
     "output_type": "stream",
     "text": [
      "                                                                                \r"
     ]
    },
    {
     "name": "stdout",
     "output_type": "stream",
     "text": [
      "Time of 9 iteration: \n",
      "15.682271242141724\n",
      "Stage 10\n",
      "Time of 10 iteration: \n",
      "15.551124095916748\n",
      "Stage 11\n"
     ]
    },
    {
     "name": "stderr",
     "output_type": "stream",
     "text": [
      "                                                                                \r"
     ]
    },
    {
     "name": "stdout",
     "output_type": "stream",
     "text": [
      "Time of 11 iteration: \n",
      "15.164228677749634\n",
      "Stage 12\n",
      "Time of 12 iteration: \n",
      "15.803000450134277\n",
      "Stage 13\n"
     ]
    },
    {
     "name": "stderr",
     "output_type": "stream",
     "text": [
      "                                                                                \r"
     ]
    },
    {
     "name": "stdout",
     "output_type": "stream",
     "text": [
      "Time of 13 iteration: \n",
      "15.68030595779419\n",
      "Stage 14\n",
      "Time of 14 iteration: \n",
      "15.740267038345337\n",
      "Stage 15\n",
      "Time of 15 iteration: \n",
      "15.91910195350647\n",
      "Stage 16\n",
      "Time of 16 iteration: \n",
      "15.707726240158081\n",
      "Stage 17\n",
      "Time of 17 iteration: \n",
      "15.96371865272522\n",
      "Stage 18\n"
     ]
    },
    {
     "name": "stderr",
     "output_type": "stream",
     "text": [
      "                                                                                \r"
     ]
    },
    {
     "name": "stdout",
     "output_type": "stream",
     "text": [
      "Time of 18 iteration: \n",
      "15.99546194076538\n",
      "Stage 19\n"
     ]
    },
    {
     "name": "stderr",
     "output_type": "stream",
     "text": [
      "                                                                                \r"
     ]
    },
    {
     "name": "stdout",
     "output_type": "stream",
     "text": [
      "Time of 19 iteration: \n",
      "15.895381689071655\n",
      "Stage 20\n"
     ]
    },
    {
     "name": "stderr",
     "output_type": "stream",
     "text": [
      "                                                                                \r"
     ]
    },
    {
     "name": "stdout",
     "output_type": "stream",
     "text": [
      "Time of 20 iteration: \n",
      "15.813839435577393\n",
      "Stage 21\n"
     ]
    },
    {
     "name": "stderr",
     "output_type": "stream",
     "text": [
      "                                                                                \r"
     ]
    },
    {
     "name": "stdout",
     "output_type": "stream",
     "text": [
      "Time of 21 iteration: \n",
      "15.968364953994751\n",
      "Stage 22\n"
     ]
    },
    {
     "name": "stderr",
     "output_type": "stream",
     "text": [
      "\r\n",
      "[Stage 14648:=============>                                         (1 + 3) / 4]\r\n",
      "\r\n",
      "                                                                                \r"
     ]
    },
    {
     "name": "stdout",
     "output_type": "stream",
     "text": [
      "Time of 22 iteration: \n",
      "15.83122968673706\n",
      "Stage 23\n"
     ]
    },
    {
     "name": "stderr",
     "output_type": "stream",
     "text": [
      "                                                                                \r"
     ]
    },
    {
     "name": "stdout",
     "output_type": "stream",
     "text": [
      "Time of 23 iteration: \n",
      "16.730961084365845\n",
      "Stage 24\n"
     ]
    },
    {
     "name": "stderr",
     "output_type": "stream",
     "text": [
      "                                                                                \r"
     ]
    },
    {
     "name": "stdout",
     "output_type": "stream",
     "text": [
      "Time of 24 iteration: \n",
      "16.01634645462036\n",
      "Stage 25\n"
     ]
    },
    {
     "name": "stderr",
     "output_type": "stream",
     "text": [
      "                                                                                \r"
     ]
    },
    {
     "name": "stdout",
     "output_type": "stream",
     "text": [
      "Time of 25 iteration: \n",
      "16.381489276885986\n",
      "Stage 26\n"
     ]
    },
    {
     "name": "stderr",
     "output_type": "stream",
     "text": [
      "                                                                                \r"
     ]
    },
    {
     "name": "stdout",
     "output_type": "stream",
     "text": [
      "Time of 26 iteration: \n",
      "16.339985132217407\n",
      "Stage 27\n",
      "Time of 27 iteration: \n",
      "15.935357332229614\n",
      "Stage 28\n",
      "Time of 28 iteration: \n",
      "16.112403631210327\n",
      "Stage 29\n"
     ]
    },
    {
     "name": "stderr",
     "output_type": "stream",
     "text": [
      "                                                                                \r"
     ]
    },
    {
     "name": "stdout",
     "output_type": "stream",
     "text": [
      "Time of 29 iteration: \n",
      "15.913851261138916\n"
     ]
    },
    {
     "name": "stderr",
     "output_type": "stream",
     "text": [
      "                                                                                \r"
     ]
    },
    {
     "name": "stdout",
     "output_type": "stream",
     "text": [
      "Current alpha : [0.0, 0.1, 0.9]\n",
      "Stage 0\n",
      "Time of 0 iteration: \n",
      "13.676395416259766\n",
      "Stage 1\n",
      "Time of 1 iteration: \n",
      "14.724708080291748\n",
      "Stage 2\n",
      "Time of 2 iteration: \n",
      "14.281186819076538\n",
      "Stage 3\n",
      "Time of 3 iteration: \n",
      "14.165992975234985\n",
      "Stage 4\n",
      "Time of 4 iteration: \n",
      "14.825519323348999\n",
      "Stage 5\n"
     ]
    },
    {
     "name": "stderr",
     "output_type": "stream",
     "text": [
      "                                                                                \r"
     ]
    },
    {
     "name": "stdout",
     "output_type": "stream",
     "text": [
      "Time of 5 iteration: \n",
      "14.840460777282715\n",
      "Stage 6\n",
      "Time of 6 iteration: \n",
      "15.23607850074768\n",
      "Stage 7\n",
      "Time of 7 iteration: \n",
      "15.421740770339966\n",
      "Stage 8\n",
      "Time of 8 iteration: \n",
      "15.35449767112732\n",
      "Stage 9\n"
     ]
    },
    {
     "name": "stderr",
     "output_type": "stream",
     "text": [
      "                                                                                \r"
     ]
    },
    {
     "name": "stdout",
     "output_type": "stream",
     "text": [
      "Time of 9 iteration: \n",
      "15.163046598434448\n",
      "Stage 10\n",
      "Time of 10 iteration: \n",
      "15.011488199234009\n",
      "Stage 11\n"
     ]
    },
    {
     "name": "stderr",
     "output_type": "stream",
     "text": [
      "                                                                                \r"
     ]
    },
    {
     "name": "stdout",
     "output_type": "stream",
     "text": [
      "Time of 11 iteration: \n",
      "15.456842422485352\n",
      "Stage 12\n"
     ]
    },
    {
     "name": "stderr",
     "output_type": "stream",
     "text": [
      "                                                                                \r"
     ]
    },
    {
     "name": "stdout",
     "output_type": "stream",
     "text": [
      "Time of 12 iteration: \n",
      "15.465660572052002\n",
      "Stage 13\n",
      "Time of 13 iteration: \n",
      "15.399626731872559\n",
      "Stage 14\n",
      "Time of 14 iteration: \n",
      "15.594023704528809\n",
      "Stage 15\n"
     ]
    },
    {
     "name": "stderr",
     "output_type": "stream",
     "text": [
      "                                                                                \r"
     ]
    },
    {
     "name": "stdout",
     "output_type": "stream",
     "text": [
      "Time of 15 iteration: \n",
      "15.762754201889038\n",
      "Stage 16\n"
     ]
    },
    {
     "name": "stderr",
     "output_type": "stream",
     "text": [
      "                                                                                \r"
     ]
    },
    {
     "name": "stdout",
     "output_type": "stream",
     "text": [
      "Time of 16 iteration: \n",
      "16.193554162979126\n",
      "Stage 17\n"
     ]
    },
    {
     "name": "stderr",
     "output_type": "stream",
     "text": [
      "                                                                                \r"
     ]
    },
    {
     "name": "stdout",
     "output_type": "stream",
     "text": [
      "Time of 17 iteration: \n",
      "16.326724767684937\n",
      "Stage 18\n"
     ]
    },
    {
     "name": "stderr",
     "output_type": "stream",
     "text": [
      "                                                                                \r"
     ]
    },
    {
     "name": "stdout",
     "output_type": "stream",
     "text": [
      "Time of 18 iteration: \n",
      "16.058490991592407\n",
      "Stage 19\n"
     ]
    },
    {
     "name": "stderr",
     "output_type": "stream",
     "text": [
      "                                                                                \r"
     ]
    },
    {
     "name": "stdout",
     "output_type": "stream",
     "text": [
      "Time of 19 iteration: \n",
      "15.554380178451538\n",
      "Stage 20\n",
      "Time of 20 iteration: \n",
      "16.03652811050415\n",
      "Stage 21\n"
     ]
    },
    {
     "name": "stderr",
     "output_type": "stream",
     "text": [
      "                                                                                \r"
     ]
    },
    {
     "name": "stdout",
     "output_type": "stream",
     "text": [
      "Time of 21 iteration: \n",
      "16.056209564208984\n",
      "Stage 22\n",
      "Time of 22 iteration: \n",
      "15.97689962387085\n",
      "Stage 23\n"
     ]
    },
    {
     "name": "stderr",
     "output_type": "stream",
     "text": [
      "                                                                                \r"
     ]
    },
    {
     "name": "stdout",
     "output_type": "stream",
     "text": [
      "Time of 23 iteration: \n",
      "16.724008798599243\n",
      "Stage 24\n"
     ]
    },
    {
     "name": "stderr",
     "output_type": "stream",
     "text": [
      "                                                                                \r"
     ]
    },
    {
     "name": "stdout",
     "output_type": "stream",
     "text": [
      "Time of 24 iteration: \n",
      "17.13979697227478\n",
      "Stage 25\n"
     ]
    },
    {
     "name": "stderr",
     "output_type": "stream",
     "text": [
      "\r\n",
      "[Stage 17256:===========================>                           (2 + 2) / 4]\r\n",
      "\r\n",
      "                                                                                \r"
     ]
    },
    {
     "name": "stdout",
     "output_type": "stream",
     "text": [
      "Time of 25 iteration: \n",
      "17.12449812889099\n",
      "Stage 26\n"
     ]
    },
    {
     "name": "stderr",
     "output_type": "stream",
     "text": [
      "\r\n",
      "[Stage 17329:===========================>                           (2 + 2) / 4]\r\n",
      "\r\n",
      "                                                                                \r"
     ]
    },
    {
     "name": "stdout",
     "output_type": "stream",
     "text": [
      "Time of 26 iteration: \n",
      "16.184794664382935\n",
      "Stage 27\n"
     ]
    },
    {
     "name": "stderr",
     "output_type": "stream",
     "text": [
      "                                                                                \r"
     ]
    },
    {
     "name": "stdout",
     "output_type": "stream",
     "text": [
      "Time of 27 iteration: \n",
      "17.129851579666138\n",
      "Stage 28\n"
     ]
    },
    {
     "name": "stderr",
     "output_type": "stream",
     "text": [
      "                                                                                \r"
     ]
    },
    {
     "name": "stdout",
     "output_type": "stream",
     "text": [
      "Time of 28 iteration: \n",
      "16.983314514160156\n",
      "Stage 29\n",
      "Time of 29 iteration: \n",
      "16.753240823745728\n"
     ]
    },
    {
     "name": "stderr",
     "output_type": "stream",
     "text": [
      "                                                                                \r"
     ]
    },
    {
     "name": "stdout",
     "output_type": "stream",
     "text": [
      "Current alpha : [0.0, 0.2, 0.8]\n",
      "Stage 0\n",
      "Time of 0 iteration: \n",
      "13.062156677246094\n",
      "Stage 1\n",
      "Time of 1 iteration: \n",
      "14.09664797782898\n",
      "Stage 2\n",
      "Time of 2 iteration: \n",
      "14.78380799293518\n",
      "Stage 3\n",
      "Time of 3 iteration: \n",
      "14.41332721710205\n",
      "Stage 4\n"
     ]
    },
    {
     "name": "stderr",
     "output_type": "stream",
     "text": [
      "\r\n",
      "[Stage 18112:=========================================>             (3 + 1) / 4]\r\n",
      "\r\n",
      "                                                                                \r"
     ]
    },
    {
     "name": "stdout",
     "output_type": "stream",
     "text": [
      "Time of 4 iteration: \n",
      "14.635344743728638\n",
      "Stage 5\n",
      "Time of 5 iteration: \n",
      "14.27989649772644\n",
      "Stage 6\n",
      "Time of 6 iteration: \n",
      "15.101073265075684\n",
      "Stage 7\n",
      "Time of 7 iteration: \n",
      "15.363267660140991\n",
      "Stage 8\n"
     ]
    },
    {
     "name": "stderr",
     "output_type": "stream",
     "text": [
      "                                                                                \r"
     ]
    },
    {
     "name": "stdout",
     "output_type": "stream",
     "text": [
      "Time of 8 iteration: \n",
      "15.047043561935425\n",
      "Stage 9\n"
     ]
    },
    {
     "name": "stderr",
     "output_type": "stream",
     "text": [
      "                                                                                \r"
     ]
    },
    {
     "name": "stdout",
     "output_type": "stream",
     "text": [
      "Time of 9 iteration: \n",
      "15.341558456420898\n",
      "Stage 10\n"
     ]
    },
    {
     "name": "stderr",
     "output_type": "stream",
     "text": [
      "\r\n",
      "[Stage 18550:===========================>                           (2 + 2) / 4]\r\n",
      "\r\n",
      "                                                                                \r"
     ]
    },
    {
     "name": "stdout",
     "output_type": "stream",
     "text": [
      "Time of 10 iteration: \n",
      "15.244892358779907\n",
      "Stage 11\n",
      "Time of 11 iteration: \n",
      "15.563448905944824\n",
      "Stage 12\n",
      "Time of 12 iteration: \n",
      "15.328272819519043\n",
      "Stage 13\n",
      "Time of 13 iteration: \n",
      "15.76148271560669\n",
      "Stage 14\n"
     ]
    },
    {
     "name": "stderr",
     "output_type": "stream",
     "text": [
      "                                                                                \r"
     ]
    },
    {
     "name": "stdout",
     "output_type": "stream",
     "text": [
      "Time of 14 iteration: \n",
      "15.457528591156006\n",
      "Stage 15\n"
     ]
    },
    {
     "name": "stderr",
     "output_type": "stream",
     "text": [
      "\r\n",
      "[Stage 18915:>                                                      (0 + 4) / 4]\r\n",
      "\r\n",
      "                                                                                \r"
     ]
    },
    {
     "name": "stdout",
     "output_type": "stream",
     "text": [
      "Time of 15 iteration: \n",
      "15.93388056755066\n",
      "Stage 16\n"
     ]
    },
    {
     "name": "stderr",
     "output_type": "stream",
     "text": [
      "                                                                                \r"
     ]
    },
    {
     "name": "stdout",
     "output_type": "stream",
     "text": [
      "Time of 16 iteration: \n",
      "15.72983455657959\n",
      "Stage 17\n",
      "Time of 17 iteration: \n",
      "16.13502550125122\n",
      "Stage 18\n",
      "Time of 18 iteration: \n",
      "15.754587411880493\n",
      "Stage 19\n"
     ]
    },
    {
     "name": "stderr",
     "output_type": "stream",
     "text": [
      "                                                                                \r"
     ]
    },
    {
     "name": "stdout",
     "output_type": "stream",
     "text": [
      "Time of 19 iteration: \n",
      "16.057667016983032\n",
      "Stage 20\n"
     ]
    },
    {
     "name": "stderr",
     "output_type": "stream",
     "text": [
      "                                                                                \r"
     ]
    },
    {
     "name": "stdout",
     "output_type": "stream",
     "text": [
      "Time of 20 iteration: \n",
      "16.18552589416504\n",
      "Stage 21\n"
     ]
    },
    {
     "name": "stderr",
     "output_type": "stream",
     "text": [
      "                                                                                \r"
     ]
    },
    {
     "name": "stdout",
     "output_type": "stream",
     "text": [
      "Time of 21 iteration: \n",
      "15.864008665084839\n",
      "Stage 22\n",
      "Time of 22 iteration: \n",
      "16.79220461845398\n",
      "Stage 23\n"
     ]
    },
    {
     "name": "stderr",
     "output_type": "stream",
     "text": [
      "\r\n",
      "[Stage 19499:===========================>                           (2 + 2) / 4]\r\n",
      "\r\n",
      "                                                                                \r"
     ]
    },
    {
     "name": "stdout",
     "output_type": "stream",
     "text": [
      "Time of 23 iteration: \n",
      "16.63018035888672\n",
      "Stage 24\n"
     ]
    },
    {
     "name": "stderr",
     "output_type": "stream",
     "text": [
      "                                                                                \r"
     ]
    },
    {
     "name": "stdout",
     "output_type": "stream",
     "text": [
      "Time of 24 iteration: \n",
      "16.73686408996582\n",
      "Stage 25\n",
      "Time of 25 iteration: \n",
      "16.740991830825806\n",
      "Stage 26\n",
      "Time of 26 iteration: \n",
      "16.98202896118164\n",
      "Stage 27\n",
      "Time of 27 iteration: \n",
      "17.48911476135254\n",
      "Stage 28\n",
      "Time of 28 iteration: \n",
      "16.952516317367554\n",
      "Stage 29\n"
     ]
    },
    {
     "name": "stderr",
     "output_type": "stream",
     "text": [
      "\r\n",
      "[Stage 19937:=============>                                         (1 + 3) / 4]\r\n",
      "\r\n",
      "                                                                                \r"
     ]
    },
    {
     "name": "stdout",
     "output_type": "stream",
     "text": [
      "Time of 29 iteration: \n",
      "17.2547767162323\n"
     ]
    },
    {
     "name": "stderr",
     "output_type": "stream",
     "text": [
      "                                                                                \r"
     ]
    },
    {
     "name": "stdout",
     "output_type": "stream",
     "text": [
      "Current alpha : [0.0, 0.3, 0.7]\n",
      "Stage 0\n",
      "Time of 0 iteration: \n",
      "13.740559339523315\n",
      "Stage 1\n",
      "Time of 1 iteration: \n",
      "14.362894535064697\n",
      "Stage 2\n"
     ]
    },
    {
     "name": "stderr",
     "output_type": "stream",
     "text": [
      "                                                                                \r"
     ]
    },
    {
     "name": "stdout",
     "output_type": "stream",
     "text": [
      "Time of 2 iteration: \n",
      "14.420575618743896\n",
      "Stage 3\n"
     ]
    },
    {
     "name": "stderr",
     "output_type": "stream",
     "text": [
      "                                                                                \r"
     ]
    },
    {
     "name": "stdout",
     "output_type": "stream",
     "text": [
      "Time of 3 iteration: \n",
      "14.954086780548096\n",
      "Stage 4\n",
      "Time of 4 iteration: \n",
      "14.804970026016235\n",
      "Stage 5\n",
      "Time of 5 iteration: \n",
      "15.171951293945312\n",
      "Stage 6\n"
     ]
    },
    {
     "name": "stderr",
     "output_type": "stream",
     "text": [
      "                                                                                \r"
     ]
    },
    {
     "name": "stdout",
     "output_type": "stream",
     "text": [
      "Time of 6 iteration: \n",
      "15.803224563598633\n",
      "Stage 7\n"
     ]
    },
    {
     "name": "stderr",
     "output_type": "stream",
     "text": [
      "                                                                                \r"
     ]
    },
    {
     "name": "stdout",
     "output_type": "stream",
     "text": [
      "Time of 7 iteration: \n",
      "15.298819303512573\n",
      "Stage 8\n",
      "Time of 8 iteration: \n",
      "15.34304690361023\n",
      "Stage 9\n",
      "Time of 9 iteration: \n",
      "15.369645118713379\n",
      "Stage 10\n",
      "Time of 10 iteration: \n",
      "15.857204675674438\n",
      "Stage 11\n"
     ]
    },
    {
     "name": "stderr",
     "output_type": "stream",
     "text": [
      "                                                                                \r"
     ]
    },
    {
     "name": "stdout",
     "output_type": "stream",
     "text": [
      "Time of 11 iteration: \n",
      "15.193297624588013\n",
      "Stage 12\n",
      "Time of 12 iteration: \n",
      "15.049065828323364\n",
      "Stage 13\n",
      "Time of 13 iteration: \n",
      "15.573325872421265\n",
      "Stage 14\n"
     ]
    },
    {
     "name": "stderr",
     "output_type": "stream",
     "text": [
      "                                                                                \r"
     ]
    },
    {
     "name": "stdout",
     "output_type": "stream",
     "text": [
      "Time of 14 iteration: \n",
      "15.4649076461792\n",
      "Stage 15\n"
     ]
    },
    {
     "name": "stderr",
     "output_type": "stream",
     "text": [
      "                                                                                \r"
     ]
    },
    {
     "name": "stdout",
     "output_type": "stream",
     "text": [
      "Time of 15 iteration: \n",
      "15.902329921722412\n",
      "Stage 16\n",
      "Time of 16 iteration: \n",
      "16.065744638442993\n",
      "Stage 17\n"
     ]
    },
    {
     "name": "stderr",
     "output_type": "stream",
     "text": [
      "                                                                                \r"
     ]
    },
    {
     "name": "stdout",
     "output_type": "stream",
     "text": [
      "Time of 17 iteration: \n",
      "15.706432580947876\n",
      "Stage 18\n",
      "Time of 18 iteration: \n",
      "16.13442635536194\n",
      "Stage 19\n",
      "Time of 19 iteration: \n",
      "15.514330863952637\n",
      "Stage 20\n"
     ]
    },
    {
     "name": "stderr",
     "output_type": "stream",
     "text": [
      "                                                                                \r"
     ]
    },
    {
     "name": "stdout",
     "output_type": "stream",
     "text": [
      "Time of 20 iteration: \n",
      "15.862889528274536\n",
      "Stage 21\n"
     ]
    },
    {
     "name": "stderr",
     "output_type": "stream",
     "text": [
      "                                                                                \r"
     ]
    },
    {
     "name": "stdout",
     "output_type": "stream",
     "text": [
      "Time of 21 iteration: \n",
      "16.38381290435791\n",
      "Stage 22\n",
      "Time of 22 iteration: \n",
      "16.30463433265686\n",
      "Stage 23\n",
      "Time of 23 iteration: \n",
      "16.794635772705078\n",
      "Stage 24\n",
      "Time of 24 iteration: \n",
      "16.522544622421265\n",
      "Stage 25\n"
     ]
    },
    {
     "name": "stderr",
     "output_type": "stream",
     "text": [
      "                                                                                \r"
     ]
    },
    {
     "name": "stdout",
     "output_type": "stream",
     "text": [
      "Time of 25 iteration: \n",
      "16.85701036453247\n",
      "Stage 26\n"
     ]
    },
    {
     "name": "stderr",
     "output_type": "stream",
     "text": [
      "                                                                                \r"
     ]
    },
    {
     "name": "stdout",
     "output_type": "stream",
     "text": [
      "Time of 26 iteration: \n",
      "17.02818012237549\n",
      "Stage 27\n"
     ]
    },
    {
     "name": "stderr",
     "output_type": "stream",
     "text": [
      "                                                                                \r"
     ]
    },
    {
     "name": "stdout",
     "output_type": "stream",
     "text": [
      "Time of 27 iteration: \n",
      "17.223270654678345\n",
      "Stage 28\n"
     ]
    },
    {
     "name": "stderr",
     "output_type": "stream",
     "text": [
      "                                                                                \r"
     ]
    },
    {
     "name": "stdout",
     "output_type": "stream",
     "text": [
      "Time of 28 iteration: \n",
      "17.405147790908813\n",
      "Stage 29\n"
     ]
    },
    {
     "name": "stderr",
     "output_type": "stream",
     "text": [
      "                                                                                \r"
     ]
    },
    {
     "name": "stdout",
     "output_type": "stream",
     "text": [
      "Time of 29 iteration: \n",
      "17.584425926208496\n"
     ]
    },
    {
     "name": "stderr",
     "output_type": "stream",
     "text": [
      "                                                                                \r"
     ]
    },
    {
     "name": "stdout",
     "output_type": "stream",
     "text": [
      "Current alpha : [0.0, 0.4, 0.6]\n",
      "Stage 0\n",
      "Time of 0 iteration: \n",
      "14.216112852096558\n",
      "Stage 1\n",
      "Time of 1 iteration: \n",
      "14.51083254814148\n",
      "Stage 2\n",
      "Time of 2 iteration: \n",
      "14.284695625305176\n",
      "Stage 3\n",
      "Time of 3 iteration: \n",
      "14.589977979660034\n",
      "Stage 4\n",
      "Time of 4 iteration: \n",
      "14.305652141571045\n",
      "Stage 5\n",
      "Time of 5 iteration: \n",
      "14.242334365844727\n",
      "Stage 6\n",
      "Time of 6 iteration: \n",
      "14.605103492736816\n",
      "Stage 7\n",
      "Time of 7 iteration: \n",
      "15.496429443359375\n",
      "Stage 8\n",
      "Time of 8 iteration: \n",
      "15.091581583023071\n",
      "Stage 9\n"
     ]
    },
    {
     "name": "stderr",
     "output_type": "stream",
     "text": [
      "                                                                                \r"
     ]
    },
    {
     "name": "stdout",
     "output_type": "stream",
     "text": [
      "Time of 9 iteration: \n",
      "15.91087818145752\n",
      "Stage 10\n",
      "Time of 10 iteration: \n",
      "15.108764410018921\n",
      "Stage 11\n",
      "Time of 11 iteration: \n",
      "15.556757926940918\n",
      "Stage 12\n"
     ]
    },
    {
     "name": "stderr",
     "output_type": "stream",
     "text": [
      "                                                                                \r"
     ]
    },
    {
     "name": "stdout",
     "output_type": "stream",
     "text": [
      "Time of 12 iteration: \n",
      "20.89657497406006\n",
      "Stage 13\n",
      "Time of 13 iteration: \n",
      "14.927610158920288\n",
      "Stage 14\n"
     ]
    },
    {
     "name": "stderr",
     "output_type": "stream",
     "text": [
      "                                                                                \r"
     ]
    },
    {
     "name": "stdout",
     "output_type": "stream",
     "text": [
      "Time of 14 iteration: \n",
      "14.76863718032837\n",
      "Stage 15\n",
      "Time of 15 iteration: \n",
      "14.827982902526855\n",
      "Stage 16\n",
      "Time of 16 iteration: \n",
      "15.042355298995972\n",
      "Stage 17\n",
      "Time of 17 iteration: \n",
      "15.010633707046509\n",
      "Stage 18\n"
     ]
    },
    {
     "name": "stderr",
     "output_type": "stream",
     "text": [
      "                                                                                \r"
     ]
    },
    {
     "name": "stdout",
     "output_type": "stream",
     "text": [
      "Time of 18 iteration: \n",
      "15.530333042144775\n",
      "Stage 19\n"
     ]
    },
    {
     "name": "stderr",
     "output_type": "stream",
     "text": [
      "                                                                                \r"
     ]
    },
    {
     "name": "stdout",
     "output_type": "stream",
     "text": [
      "Time of 19 iteration: \n",
      "15.286994695663452\n",
      "Stage 20\n"
     ]
    },
    {
     "name": "stderr",
     "output_type": "stream",
     "text": [
      "                                                                                \r"
     ]
    },
    {
     "name": "stdout",
     "output_type": "stream",
     "text": [
      "Time of 20 iteration: \n",
      "16.053735733032227\n",
      "Stage 21\n"
     ]
    },
    {
     "name": "stderr",
     "output_type": "stream",
     "text": [
      "                                                                                \r"
     ]
    },
    {
     "name": "stdout",
     "output_type": "stream",
     "text": [
      "Time of 21 iteration: \n",
      "15.387096405029297\n",
      "Stage 22\n",
      "Time of 22 iteration: \n",
      "15.88631272315979\n",
      "Stage 23\n"
     ]
    },
    {
     "name": "stderr",
     "output_type": "stream",
     "text": [
      "                                                                                \r"
     ]
    },
    {
     "name": "stdout",
     "output_type": "stream",
     "text": [
      "Time of 23 iteration: \n",
      "15.673402547836304\n",
      "Stage 24\n",
      "Time of 24 iteration: \n",
      "15.088570833206177\n",
      "Stage 25\n"
     ]
    },
    {
     "name": "stderr",
     "output_type": "stream",
     "text": [
      "                                                                                \r"
     ]
    },
    {
     "name": "stdout",
     "output_type": "stream",
     "text": [
      "Time of 25 iteration: \n",
      "15.53185486793518\n",
      "Stage 26\n"
     ]
    },
    {
     "name": "stderr",
     "output_type": "stream",
     "text": [
      "                                                                                \r"
     ]
    },
    {
     "name": "stdout",
     "output_type": "stream",
     "text": [
      "Time of 26 iteration: \n",
      "16.16706371307373\n",
      "Stage 27\n"
     ]
    },
    {
     "name": "stderr",
     "output_type": "stream",
     "text": [
      "                                                                                \r"
     ]
    },
    {
     "name": "stdout",
     "output_type": "stream",
     "text": [
      "Time of 27 iteration: \n",
      "15.906105756759644\n",
      "Stage 28\n"
     ]
    },
    {
     "name": "stderr",
     "output_type": "stream",
     "text": [
      "                                                                                \r"
     ]
    },
    {
     "name": "stdout",
     "output_type": "stream",
     "text": [
      "Time of 28 iteration: \n",
      "16.164246559143066\n",
      "Stage 29\n"
     ]
    },
    {
     "name": "stderr",
     "output_type": "stream",
     "text": [
      "                                                                                \r"
     ]
    },
    {
     "name": "stdout",
     "output_type": "stream",
     "text": [
      "Time of 29 iteration: \n",
      "16.36025333404541\n"
     ]
    },
    {
     "name": "stderr",
     "output_type": "stream",
     "text": [
      "                                                                                \r"
     ]
    },
    {
     "name": "stdout",
     "output_type": "stream",
     "text": [
      "Current alpha : [0.0, 0.5, 0.5]\n",
      "Stage 0\n",
      "Time of 0 iteration: \n",
      "13.935728788375854\n",
      "Stage 1\n",
      "Time of 1 iteration: \n",
      "13.7284677028656\n",
      "Stage 2\n"
     ]
    },
    {
     "name": "stderr",
     "output_type": "stream",
     "text": [
      "\r\n",
      "[Stage 25133:>                                                      (0 + 4) / 4]\r\n",
      "\r\n",
      "                                                                                \r"
     ]
    },
    {
     "name": "stdout",
     "output_type": "stream",
     "text": [
      "Time of 2 iteration: \n",
      "14.512823581695557\n",
      "Stage 3\n"
     ]
    },
    {
     "name": "stderr",
     "output_type": "stream",
     "text": [
      "                                                                                \r"
     ]
    },
    {
     "name": "stdout",
     "output_type": "stream",
     "text": [
      "Time of 3 iteration: \n",
      "14.461727142333984\n",
      "Stage 4\n",
      "Time of 4 iteration: \n",
      "14.450678586959839\n",
      "Stage 5\n",
      "Time of 5 iteration: \n",
      "15.288843870162964\n",
      "Stage 6\n"
     ]
    },
    {
     "name": "stderr",
     "output_type": "stream",
     "text": [
      "                                                                                \r"
     ]
    },
    {
     "name": "stdout",
     "output_type": "stream",
     "text": [
      "Time of 6 iteration: \n",
      "15.595252990722656\n",
      "Stage 7\n",
      "Time of 7 iteration: \n",
      "15.347042083740234\n",
      "Stage 8\n",
      "Time of 8 iteration: \n",
      "14.905960321426392\n",
      "Stage 9\n",
      "Time of 9 iteration: \n",
      "15.395676612854004\n",
      "Stage 10\n",
      "Time of 10 iteration: \n",
      "16.00005078315735\n",
      "Stage 11\n",
      "Time of 11 iteration: \n",
      "15.690001010894775\n",
      "Stage 12\n",
      "Time of 12 iteration: \n",
      "16.060200929641724\n",
      "Stage 13\n",
      "Time of 13 iteration: \n",
      "15.59482455253601\n",
      "Stage 14\n"
     ]
    },
    {
     "name": "stderr",
     "output_type": "stream",
     "text": [
      "                                                                                \r"
     ]
    },
    {
     "name": "stdout",
     "output_type": "stream",
     "text": [
      "Time of 14 iteration: \n",
      "15.959350347518921\n",
      "Stage 15\n",
      "Time of 15 iteration: \n",
      "16.13201355934143\n",
      "Stage 16\n",
      "Time of 16 iteration: \n",
      "16.52972149848938\n",
      "Stage 17\n"
     ]
    },
    {
     "name": "stderr",
     "output_type": "stream",
     "text": [
      "                                                                                \r"
     ]
    },
    {
     "name": "stdout",
     "output_type": "stream",
     "text": [
      "Time of 17 iteration: \n",
      "16.16038489341736\n",
      "Stage 18\n",
      "Time of 18 iteration: \n",
      "15.805171489715576\n",
      "Stage 19\n",
      "Time of 19 iteration: \n",
      "16.77061653137207\n",
      "Stage 20\n",
      "Time of 20 iteration: \n",
      "15.735187530517578\n",
      "Stage 21\n"
     ]
    },
    {
     "name": "stderr",
     "output_type": "stream",
     "text": [
      "\r\n",
      "[Stage 26520:===========================>                           (2 + 2) / 4]\r\n",
      "\r\n",
      "                                                                                \r"
     ]
    },
    {
     "name": "stdout",
     "output_type": "stream",
     "text": [
      "Time of 21 iteration: \n",
      "15.71339225769043\n",
      "Stage 22\n"
     ]
    },
    {
     "name": "stderr",
     "output_type": "stream",
     "text": [
      "                                                                                \r"
     ]
    },
    {
     "name": "stdout",
     "output_type": "stream",
     "text": [
      "Time of 22 iteration: \n",
      "16.916781663894653\n",
      "Stage 23\n"
     ]
    },
    {
     "name": "stderr",
     "output_type": "stream",
     "text": [
      "                                                                                \r"
     ]
    },
    {
     "name": "stdout",
     "output_type": "stream",
     "text": [
      "Time of 23 iteration: \n",
      "16.878584623336792\n",
      "Stage 24\n"
     ]
    },
    {
     "name": "stderr",
     "output_type": "stream",
     "text": [
      "                                                                                \r"
     ]
    },
    {
     "name": "stdout",
     "output_type": "stream",
     "text": [
      "Time of 24 iteration: \n",
      "16.863903999328613\n",
      "Stage 25\n",
      "Time of 25 iteration: \n",
      "16.485374927520752\n",
      "Stage 26\n",
      "Time of 26 iteration: \n",
      "16.89730477333069\n",
      "Stage 27\n"
     ]
    },
    {
     "name": "stderr",
     "output_type": "stream",
     "text": [
      "                                                                                \r"
     ]
    },
    {
     "name": "stdout",
     "output_type": "stream",
     "text": [
      "Time of 27 iteration: \n",
      "16.86074924468994\n",
      "Stage 28\n",
      "Time of 28 iteration: \n",
      "16.766265869140625\n",
      "Stage 29\n"
     ]
    },
    {
     "name": "stderr",
     "output_type": "stream",
     "text": [
      "                                                                                \r"
     ]
    },
    {
     "name": "stdout",
     "output_type": "stream",
     "text": [
      "Time of 29 iteration: \n",
      "16.738600254058838\n"
     ]
    },
    {
     "name": "stderr",
     "output_type": "stream",
     "text": [
      "                                                                                \r"
     ]
    },
    {
     "name": "stdout",
     "output_type": "stream",
     "text": [
      "Current alpha : [0.0, 0.6, 0.4]\n",
      "Stage 0\n",
      "Time of 0 iteration: \n",
      "13.65510630607605\n",
      "Stage 1\n",
      "Time of 1 iteration: \n",
      "14.303060531616211\n",
      "Stage 2\n",
      "Time of 2 iteration: \n",
      "14.446057081222534\n",
      "Stage 3\n",
      "Time of 3 iteration: \n",
      "14.936990022659302\n",
      "Stage 4\n",
      "Time of 4 iteration: \n",
      "15.079594373703003\n",
      "Stage 5\n"
     ]
    },
    {
     "name": "stderr",
     "output_type": "stream",
     "text": [
      "                                                                                \r"
     ]
    },
    {
     "name": "stdout",
     "output_type": "stream",
     "text": [
      "Time of 5 iteration: \n",
      "15.081943988800049\n",
      "Stage 6\n",
      "Time of 6 iteration: \n",
      "15.191749572753906\n",
      "Stage 7\n",
      "Time of 7 iteration: \n",
      "15.463115215301514\n",
      "Stage 8\n",
      "Time of 8 iteration: \n",
      "15.371503353118896\n",
      "Stage 9\n",
      "Time of 9 iteration: \n",
      "15.061158895492554\n",
      "Stage 10\n"
     ]
    },
    {
     "name": "stderr",
     "output_type": "stream",
     "text": [
      "                                                                                \r"
     ]
    },
    {
     "name": "stdout",
     "output_type": "stream",
     "text": [
      "Time of 10 iteration: \n",
      "16.033488988876343\n",
      "Stage 11\n"
     ]
    },
    {
     "name": "stderr",
     "output_type": "stream",
     "text": [
      "                                                                                \r"
     ]
    },
    {
     "name": "stdout",
     "output_type": "stream",
     "text": [
      "Time of 11 iteration: \n",
      "15.984662055969238\n",
      "Stage 12\n",
      "Time of 12 iteration: \n",
      "15.851759672164917\n",
      "Stage 13\n",
      "Time of 13 iteration: \n",
      "16.545112371444702\n",
      "Stage 14\n",
      "Time of 14 iteration: \n",
      "15.823339223861694\n",
      "Stage 15\n",
      "Time of 15 iteration: \n",
      "15.659186124801636\n",
      "Stage 16\n"
     ]
    },
    {
     "name": "stderr",
     "output_type": "stream",
     "text": [
      "                                                                                \r"
     ]
    },
    {
     "name": "stdout",
     "output_type": "stream",
     "text": [
      "Time of 16 iteration: \n",
      "15.065920352935791\n",
      "Stage 17\n"
     ]
    },
    {
     "name": "stderr",
     "output_type": "stream",
     "text": [
      "                                                                                \r"
     ]
    },
    {
     "name": "stdout",
     "output_type": "stream",
     "text": [
      "Time of 17 iteration: \n",
      "15.687249422073364\n",
      "Stage 18\n"
     ]
    },
    {
     "name": "stderr",
     "output_type": "stream",
     "text": [
      "                                                                                \r"
     ]
    },
    {
     "name": "stdout",
     "output_type": "stream",
     "text": [
      "Time of 18 iteration: \n",
      "16.00431513786316\n",
      "Stage 19\n"
     ]
    },
    {
     "name": "stderr",
     "output_type": "stream",
     "text": [
      "                                                                                \r"
     ]
    },
    {
     "name": "stdout",
     "output_type": "stream",
     "text": [
      "Time of 19 iteration: \n",
      "16.071826934814453\n",
      "Stage 20\n"
     ]
    },
    {
     "name": "stderr",
     "output_type": "stream",
     "text": [
      "                                                                                \r"
     ]
    },
    {
     "name": "stdout",
     "output_type": "stream",
     "text": [
      "Time of 20 iteration: \n",
      "16.35077428817749\n",
      "Stage 21\n",
      "Time of 21 iteration: \n",
      "16.20744252204895\n",
      "Stage 22\n",
      "Time of 22 iteration: \n",
      "16.315815687179565\n",
      "Stage 23\n"
     ]
    },
    {
     "name": "stderr",
     "output_type": "stream",
     "text": [
      "                                                                                \r"
     ]
    },
    {
     "name": "stdout",
     "output_type": "stream",
     "text": [
      "Time of 23 iteration: \n",
      "15.755830764770508\n",
      "Stage 24\n"
     ]
    },
    {
     "name": "stderr",
     "output_type": "stream",
     "text": [
      "\r\n",
      "[Stage 29130:>                                                      (0 + 4) / 4]\r\n",
      "\r\n",
      "                                                                                \r"
     ]
    },
    {
     "name": "stdout",
     "output_type": "stream",
     "text": [
      "Time of 24 iteration: \n",
      "15.774609327316284\n",
      "Stage 25\n",
      "Time of 25 iteration: \n",
      "15.885021209716797\n",
      "Stage 26\n"
     ]
    },
    {
     "name": "stderr",
     "output_type": "stream",
     "text": [
      "                                                                                \r"
     ]
    },
    {
     "name": "stdout",
     "output_type": "stream",
     "text": [
      "Time of 26 iteration: \n",
      "16.36863875389099\n",
      "Stage 27\n",
      "Time of 27 iteration: \n",
      "15.854249000549316\n",
      "Stage 28\n"
     ]
    },
    {
     "name": "stderr",
     "output_type": "stream",
     "text": [
      "                                                                                \r"
     ]
    },
    {
     "name": "stdout",
     "output_type": "stream",
     "text": [
      "Time of 28 iteration: \n",
      "16.050785541534424\n",
      "Stage 29\n"
     ]
    },
    {
     "name": "stderr",
     "output_type": "stream",
     "text": [
      "                                                                                \r"
     ]
    },
    {
     "name": "stdout",
     "output_type": "stream",
     "text": [
      "Time of 29 iteration: \n",
      "16.04685068130493\n"
     ]
    },
    {
     "name": "stderr",
     "output_type": "stream",
     "text": [
      "                                                                                \r"
     ]
    },
    {
     "name": "stdout",
     "output_type": "stream",
     "text": [
      "Current alpha : [0.0, 0.7, 0.3]\n",
      "Stage 0\n",
      "Time of 0 iteration: \n",
      "13.742030143737793\n",
      "Stage 1\n",
      "Time of 1 iteration: \n",
      "14.740372896194458\n",
      "Stage 2\n",
      "Time of 2 iteration: \n",
      "14.455439329147339\n",
      "Stage 3\n",
      "Time of 3 iteration: \n",
      "14.414170742034912\n",
      "Stage 4\n",
      "Time of 4 iteration: \n",
      "14.588940382003784\n",
      "Stage 5\n",
      "Time of 5 iteration: \n",
      "14.982353210449219\n",
      "Stage 6\n"
     ]
    },
    {
     "name": "stderr",
     "output_type": "stream",
     "text": [
      "                                                                                \r"
     ]
    },
    {
     "name": "stdout",
     "output_type": "stream",
     "text": [
      "Time of 6 iteration: \n",
      "14.838898420333862\n",
      "Stage 7\n",
      "Time of 7 iteration: \n",
      "15.12434697151184\n",
      "Stage 8\n",
      "Time of 8 iteration: \n",
      "15.480804681777954\n",
      "Stage 9\n",
      "Time of 9 iteration: \n",
      "15.349562168121338\n",
      "Stage 10\n"
     ]
    },
    {
     "name": "stderr",
     "output_type": "stream",
     "text": [
      "                                                                                \r"
     ]
    },
    {
     "name": "stdout",
     "output_type": "stream",
     "text": [
      "Time of 10 iteration: \n",
      "15.457340002059937\n",
      "Stage 11\n"
     ]
    },
    {
     "name": "stderr",
     "output_type": "stream",
     "text": [
      "                                                                                \r"
     ]
    },
    {
     "name": "stdout",
     "output_type": "stream",
     "text": [
      "Time of 11 iteration: \n",
      "15.862056732177734\n",
      "Stage 12\n",
      "Time of 12 iteration: \n",
      "15.59955358505249\n",
      "Stage 13\n"
     ]
    },
    {
     "name": "stderr",
     "output_type": "stream",
     "text": [
      "                                                                                \r"
     ]
    },
    {
     "name": "stdout",
     "output_type": "stream",
     "text": [
      "Time of 13 iteration: \n",
      "15.887861967086792\n",
      "Stage 14\n"
     ]
    },
    {
     "name": "stderr",
     "output_type": "stream",
     "text": [
      "                                                                                \r"
     ]
    },
    {
     "name": "stdout",
     "output_type": "stream",
     "text": [
      "Time of 14 iteration: \n",
      "15.736839056015015\n",
      "Stage 15\n"
     ]
    },
    {
     "name": "stderr",
     "output_type": "stream",
     "text": [
      "\r\n",
      "[Stage 30860:>                                                      (0 + 4) / 4]\r\n",
      "\r\n",
      "                                                                                \r"
     ]
    },
    {
     "name": "stdout",
     "output_type": "stream",
     "text": [
      "Time of 15 iteration: \n",
      "15.737898111343384\n",
      "Stage 16\n",
      "Time of 16 iteration: \n",
      "15.682387113571167\n",
      "Stage 17\n"
     ]
    },
    {
     "name": "stderr",
     "output_type": "stream",
     "text": [
      "\r\n",
      "[Stage 31006:=============>                                         (1 + 3) / 4]\r\n",
      "\r\n",
      "                                                                                \r"
     ]
    },
    {
     "name": "stdout",
     "output_type": "stream",
     "text": [
      "Time of 17 iteration: \n",
      "15.985138416290283\n",
      "Stage 18\n"
     ]
    },
    {
     "name": "stderr",
     "output_type": "stream",
     "text": [
      "                                                                                \r"
     ]
    },
    {
     "name": "stdout",
     "output_type": "stream",
     "text": [
      "Time of 18 iteration: \n",
      "15.955470323562622\n",
      "Stage 19\n",
      "Time of 19 iteration: \n",
      "16.00480890274048\n",
      "Stage 20\n",
      "Time of 20 iteration: \n",
      "16.17973279953003\n",
      "Stage 21\n",
      "Time of 21 iteration: \n",
      "16.50355362892151\n",
      "Stage 22\n",
      "Time of 22 iteration: \n",
      "16.59585404396057\n",
      "Stage 23\n"
     ]
    },
    {
     "name": "stderr",
     "output_type": "stream",
     "text": [
      "                                                                                \r"
     ]
    },
    {
     "name": "stdout",
     "output_type": "stream",
     "text": [
      "Time of 23 iteration: \n",
      "16.70462656021118\n",
      "Stage 24\n"
     ]
    },
    {
     "name": "stderr",
     "output_type": "stream",
     "text": [
      "                                                                                \r"
     ]
    },
    {
     "name": "stdout",
     "output_type": "stream",
     "text": [
      "Time of 24 iteration: \n",
      "16.676626205444336\n",
      "Stage 25\n"
     ]
    },
    {
     "name": "stderr",
     "output_type": "stream",
     "text": [
      "                                                                                \r"
     ]
    },
    {
     "name": "stdout",
     "output_type": "stream",
     "text": [
      "Time of 25 iteration: \n",
      "16.04763150215149\n",
      "Stage 26\n"
     ]
    },
    {
     "name": "stderr",
     "output_type": "stream",
     "text": [
      "\r\n",
      "[Stage 31663:>                                                      (0 + 4) / 4]\r\n",
      "\r\n",
      "                                                                                \r"
     ]
    },
    {
     "name": "stdout",
     "output_type": "stream",
     "text": [
      "Time of 26 iteration: \n",
      "16.18537664413452\n",
      "Stage 27\n"
     ]
    },
    {
     "name": "stderr",
     "output_type": "stream",
     "text": [
      "                                                                                \r"
     ]
    },
    {
     "name": "stdout",
     "output_type": "stream",
     "text": [
      "Time of 27 iteration: \n",
      "16.249633312225342\n",
      "Stage 28\n"
     ]
    },
    {
     "name": "stderr",
     "output_type": "stream",
     "text": [
      "                                                                                \r"
     ]
    },
    {
     "name": "stdout",
     "output_type": "stream",
     "text": [
      "Time of 28 iteration: \n",
      "17.031890869140625\n",
      "Stage 29\n",
      "Time of 29 iteration: \n",
      "16.677427291870117\n"
     ]
    },
    {
     "name": "stderr",
     "output_type": "stream",
     "text": [
      "                                                                                \r"
     ]
    },
    {
     "name": "stdout",
     "output_type": "stream",
     "text": [
      "Current alpha : [0.0, 0.8, 0.2]\n",
      "Stage 0\n",
      "Time of 0 iteration: \n",
      "13.225735187530518\n",
      "Stage 1\n",
      "Time of 1 iteration: \n",
      "14.972595691680908\n",
      "Stage 2\n",
      "Time of 2 iteration: \n",
      "14.4785737991333\n",
      "Stage 3\n",
      "Time of 3 iteration: \n",
      "14.376507043838501\n",
      "Stage 4\n",
      "Time of 4 iteration: \n",
      "14.577357053756714\n",
      "Stage 5\n",
      "Time of 5 iteration: \n",
      "15.360026121139526\n",
      "Stage 6\n"
     ]
    },
    {
     "name": "stderr",
     "output_type": "stream",
     "text": [
      "                                                                                \r"
     ]
    },
    {
     "name": "stdout",
     "output_type": "stream",
     "text": [
      "Time of 6 iteration: \n",
      "14.91817593574524\n",
      "Stage 7\n",
      "Time of 7 iteration: \n",
      "15.153984546661377\n",
      "Stage 8\n"
     ]
    },
    {
     "name": "stderr",
     "output_type": "stream",
     "text": [
      "                                                                                \r"
     ]
    },
    {
     "name": "stdout",
     "output_type": "stream",
     "text": [
      "Time of 8 iteration: \n",
      "15.060860633850098\n",
      "Stage 9\n",
      "Time of 9 iteration: \n",
      "15.4732027053833\n",
      "Stage 10\n"
     ]
    },
    {
     "name": "stderr",
     "output_type": "stream",
     "text": [
      "                                                                                \r"
     ]
    },
    {
     "name": "stdout",
     "output_type": "stream",
     "text": [
      "Time of 10 iteration: \n",
      "15.574437618255615\n",
      "Stage 11\n"
     ]
    },
    {
     "name": "stderr",
     "output_type": "stream",
     "text": [
      "                                                                                \r"
     ]
    },
    {
     "name": "stdout",
     "output_type": "stream",
     "text": [
      "Time of 11 iteration: \n",
      "15.118665218353271\n",
      "Stage 12\n"
     ]
    },
    {
     "name": "stderr",
     "output_type": "stream",
     "text": [
      "                                                                                \r"
     ]
    },
    {
     "name": "stdout",
     "output_type": "stream",
     "text": [
      "Time of 12 iteration: \n",
      "15.82949185371399\n",
      "Stage 13\n",
      "Time of 13 iteration: \n",
      "15.669923305511475\n",
      "Stage 14\n",
      "Time of 14 iteration: \n",
      "15.230496644973755\n",
      "Stage 15\n"
     ]
    },
    {
     "name": "stderr",
     "output_type": "stream",
     "text": [
      "                                                                                \r"
     ]
    },
    {
     "name": "stdout",
     "output_type": "stream",
     "text": [
      "Time of 15 iteration: \n",
      "15.639869213104248\n",
      "Stage 16\n",
      "Time of 16 iteration: \n",
      "16.189009189605713\n",
      "Stage 17\n"
     ]
    },
    {
     "name": "stderr",
     "output_type": "stream",
     "text": [
      "                                                                                \r"
     ]
    },
    {
     "name": "stdout",
     "output_type": "stream",
     "text": [
      "Time of 17 iteration: \n",
      "15.07189154624939\n",
      "Stage 18\n"
     ]
    },
    {
     "name": "stderr",
     "output_type": "stream",
     "text": [
      "                                                                                \r"
     ]
    },
    {
     "name": "stdout",
     "output_type": "stream",
     "text": [
      "Time of 18 iteration: \n",
      "15.841407060623169\n",
      "Stage 19\n",
      "Time of 19 iteration: \n",
      "15.894980192184448\n",
      "Stage 20\n"
     ]
    },
    {
     "name": "stderr",
     "output_type": "stream",
     "text": [
      "                                                                                \r"
     ]
    },
    {
     "name": "stdout",
     "output_type": "stream",
     "text": [
      "Time of 20 iteration: \n",
      "16.134431838989258\n",
      "Stage 21\n"
     ]
    },
    {
     "name": "stderr",
     "output_type": "stream",
     "text": [
      "                                                                                \r"
     ]
    },
    {
     "name": "stdout",
     "output_type": "stream",
     "text": [
      "Time of 21 iteration: \n",
      "16.109801292419434\n",
      "Stage 22\n"
     ]
    },
    {
     "name": "stderr",
     "output_type": "stream",
     "text": [
      "                                                                                \r"
     ]
    },
    {
     "name": "stdout",
     "output_type": "stream",
     "text": [
      "Time of 22 iteration: \n",
      "16.27581810951233\n",
      "Stage 23\n",
      "Time of 23 iteration: \n",
      "16.943910837173462\n",
      "Stage 24\n",
      "Time of 24 iteration: \n",
      "16.699362993240356\n",
      "Stage 25\n"
     ]
    },
    {
     "name": "stderr",
     "output_type": "stream",
     "text": [
      "                                                                                \r"
     ]
    },
    {
     "name": "stdout",
     "output_type": "stream",
     "text": [
      "Time of 25 iteration: \n",
      "17.12032413482666\n",
      "Stage 26\n",
      "Time of 26 iteration: \n",
      "16.737064838409424\n",
      "Stage 27\n",
      "Time of 27 iteration: \n",
      "16.838488817214966\n",
      "Stage 28\n"
     ]
    },
    {
     "name": "stderr",
     "output_type": "stream",
     "text": [
      "                                                                                \r"
     ]
    },
    {
     "name": "stdout",
     "output_type": "stream",
     "text": [
      "Time of 28 iteration: \n",
      "16.915720462799072\n",
      "Stage 29\n",
      "Time of 29 iteration: \n",
      "15.90958285331726\n"
     ]
    },
    {
     "name": "stderr",
     "output_type": "stream",
     "text": [
      "                                                                                \r"
     ]
    },
    {
     "name": "stdout",
     "output_type": "stream",
     "text": [
      "Current alpha : [0.0, 0.9, 0.1]\n",
      "Stage 0\n",
      "Time of 0 iteration: \n",
      "13.785417795181274\n",
      "Stage 1\n",
      "Time of 1 iteration: \n",
      "14.837491989135742\n",
      "Stage 2\n",
      "Time of 2 iteration: \n",
      "14.646285057067871\n",
      "Stage 3\n"
     ]
    },
    {
     "name": "stderr",
     "output_type": "stream",
     "text": [
      "                                                                                \r"
     ]
    },
    {
     "name": "stdout",
     "output_type": "stream",
     "text": [
      "Time of 3 iteration: \n",
      "14.332019329071045\n",
      "Stage 4\n",
      "Time of 4 iteration: \n",
      "14.895979404449463\n",
      "Stage 5\n",
      "Time of 5 iteration: \n",
      "14.92865252494812\n",
      "Stage 6\n",
      "Time of 6 iteration: \n",
      "15.019970893859863\n",
      "Stage 7\n"
     ]
    },
    {
     "name": "stderr",
     "output_type": "stream",
     "text": [
      "                                                                                \r"
     ]
    },
    {
     "name": "stdout",
     "output_type": "stream",
     "text": [
      "Time of 7 iteration: \n",
      "15.315302848815918\n",
      "Stage 8\n",
      "Time of 8 iteration: \n",
      "15.215927839279175\n",
      "Stage 9\n"
     ]
    },
    {
     "name": "stderr",
     "output_type": "stream",
     "text": [
      "                                                                                \r"
     ]
    },
    {
     "name": "stdout",
     "output_type": "stream",
     "text": [
      "Time of 9 iteration: \n",
      "15.073057174682617\n",
      "Stage 10\n"
     ]
    },
    {
     "name": "stderr",
     "output_type": "stream",
     "text": [
      "                                                                                \r"
     ]
    },
    {
     "name": "stdout",
     "output_type": "stream",
     "text": [
      "Time of 10 iteration: \n",
      "15.590570449829102\n",
      "Stage 11\n",
      "Time of 11 iteration: \n",
      "15.681691884994507\n",
      "Stage 12\n"
     ]
    },
    {
     "name": "stderr",
     "output_type": "stream",
     "text": [
      "                                                                                \r"
     ]
    },
    {
     "name": "stdout",
     "output_type": "stream",
     "text": [
      "Time of 12 iteration: \n",
      "15.766654253005981\n",
      "Stage 13\n",
      "Time of 13 iteration: \n",
      "16.30931544303894\n",
      "Stage 14\n",
      "Time of 14 iteration: \n",
      "15.481403589248657\n",
      "Stage 15\n"
     ]
    },
    {
     "name": "stderr",
     "output_type": "stream",
     "text": [
      "\r\n",
      "[Stage 35638:>                                                      (0 + 4) / 4]\r\n",
      "\r\n",
      "                                                                                \r"
     ]
    },
    {
     "name": "stdout",
     "output_type": "stream",
     "text": [
      "Time of 15 iteration: \n",
      "16.03701639175415\n",
      "Stage 16\n"
     ]
    },
    {
     "name": "stderr",
     "output_type": "stream",
     "text": [
      "                                                                                \r"
     ]
    },
    {
     "name": "stdout",
     "output_type": "stream",
     "text": [
      "Time of 16 iteration: \n",
      "16.163822412490845\n",
      "Stage 17\n",
      "Time of 17 iteration: \n",
      "15.706182718276978\n",
      "Stage 18\n",
      "Time of 18 iteration: \n",
      "16.396605253219604\n",
      "Stage 19\n"
     ]
    },
    {
     "name": "stderr",
     "output_type": "stream",
     "text": [
      "                                                                                \r"
     ]
    },
    {
     "name": "stdout",
     "output_type": "stream",
     "text": [
      "Time of 19 iteration: \n",
      "16.516966342926025\n",
      "Stage 20\n",
      "Time of 20 iteration: \n",
      "16.36247944831848\n",
      "Stage 21\n"
     ]
    },
    {
     "name": "stderr",
     "output_type": "stream",
     "text": [
      "                                                                                \r"
     ]
    },
    {
     "name": "stdout",
     "output_type": "stream",
     "text": [
      "Time of 21 iteration: \n",
      "16.37639832496643\n",
      "Stage 22\n",
      "Time of 22 iteration: \n",
      "16.751917839050293\n",
      "Stage 23\n",
      "Time of 23 iteration: \n",
      "15.88754916191101\n",
      "Stage 24\n"
     ]
    },
    {
     "name": "stderr",
     "output_type": "stream",
     "text": [
      "                                                                                \r"
     ]
    },
    {
     "name": "stdout",
     "output_type": "stream",
     "text": [
      "Time of 24 iteration: \n",
      "16.649439096450806\n",
      "Stage 25\n"
     ]
    },
    {
     "name": "stderr",
     "output_type": "stream",
     "text": [
      "                                                                                \r"
     ]
    },
    {
     "name": "stdout",
     "output_type": "stream",
     "text": [
      "Time of 25 iteration: \n",
      "23.205527544021606\n",
      "Stage 26\n"
     ]
    },
    {
     "name": "stderr",
     "output_type": "stream",
     "text": [
      "                                                                                \r"
     ]
    },
    {
     "name": "stdout",
     "output_type": "stream",
     "text": [
      "Time of 26 iteration: \n",
      "17.765489101409912\n",
      "Stage 27\n",
      "Time of 27 iteration: \n",
      "16.17709708213806\n",
      "Stage 28\n"
     ]
    },
    {
     "name": "stderr",
     "output_type": "stream",
     "text": [
      "                                                                                \r"
     ]
    },
    {
     "name": "stdout",
     "output_type": "stream",
     "text": [
      "Time of 28 iteration: \n",
      "15.264514207839966\n",
      "Stage 29\n"
     ]
    },
    {
     "name": "stderr",
     "output_type": "stream",
     "text": [
      "                                                                                \r"
     ]
    },
    {
     "name": "stdout",
     "output_type": "stream",
     "text": [
      "Time of 29 iteration: \n",
      "15.750199794769287\n"
     ]
    },
    {
     "name": "stderr",
     "output_type": "stream",
     "text": [
      "                                                                                \r"
     ]
    },
    {
     "name": "stdout",
     "output_type": "stream",
     "text": [
      "Current alpha : [0.0, 1.0, 0.0]\n",
      "Stage 0\n",
      "Time of 0 iteration: \n",
      "13.553428173065186\n",
      "Stage 1\n"
     ]
    },
    {
     "name": "stderr",
     "output_type": "stream",
     "text": [
      "                                                                                \r"
     ]
    },
    {
     "name": "stdout",
     "output_type": "stream",
     "text": [
      "Time of 1 iteration: \n",
      "14.465342998504639\n",
      "Stage 2\n",
      "Time of 2 iteration: \n",
      "14.088205099105835\n",
      "Stage 3\n",
      "Time of 3 iteration: \n",
      "14.340104103088379\n",
      "Stage 4\n",
      "Time of 4 iteration: \n",
      "14.859123229980469\n",
      "Stage 5\n",
      "Time of 5 iteration: \n",
      "15.295663833618164\n",
      "Stage 6\n",
      "Time of 6 iteration: \n",
      "15.589739084243774\n",
      "Stage 7\n"
     ]
    },
    {
     "name": "stderr",
     "output_type": "stream",
     "text": [
      "                                                                                \r"
     ]
    },
    {
     "name": "stdout",
     "output_type": "stream",
     "text": [
      "Time of 7 iteration: \n",
      "15.553094863891602\n",
      "Stage 8\n",
      "Time of 8 iteration: \n",
      "15.633862495422363\n",
      "Stage 9\n"
     ]
    },
    {
     "name": "stderr",
     "output_type": "stream",
     "text": [
      "\r\n",
      "[Stage 37589:===========================>                           (2 + 2) / 4]\r\n",
      "\r\n",
      "                                                                                \r"
     ]
    },
    {
     "name": "stdout",
     "output_type": "stream",
     "text": [
      "Time of 9 iteration: \n",
      "15.712910175323486\n",
      "Stage 10\n"
     ]
    },
    {
     "name": "stderr",
     "output_type": "stream",
     "text": [
      "                                                                                \r"
     ]
    },
    {
     "name": "stdout",
     "output_type": "stream",
     "text": [
      "Time of 10 iteration: \n",
      "15.76481580734253\n",
      "Stage 11\n"
     ]
    },
    {
     "name": "stderr",
     "output_type": "stream",
     "text": [
      "                                                                                \r"
     ]
    },
    {
     "name": "stdout",
     "output_type": "stream",
     "text": [
      "Time of 11 iteration: \n",
      "15.931349515914917\n",
      "Stage 12\n"
     ]
    },
    {
     "name": "stderr",
     "output_type": "stream",
     "text": [
      "                                                                                \r"
     ]
    },
    {
     "name": "stdout",
     "output_type": "stream",
     "text": [
      "Time of 12 iteration: \n",
      "15.676584243774414\n",
      "Stage 13\n"
     ]
    },
    {
     "name": "stderr",
     "output_type": "stream",
     "text": [
      "                                                                                \r"
     ]
    },
    {
     "name": "stdout",
     "output_type": "stream",
     "text": [
      "Time of 13 iteration: \n",
      "15.856516122817993\n",
      "Stage 14\n"
     ]
    },
    {
     "name": "stderr",
     "output_type": "stream",
     "text": [
      "                                                                                \r"
     ]
    },
    {
     "name": "stdout",
     "output_type": "stream",
     "text": [
      "Time of 14 iteration: \n",
      "16.592417240142822\n",
      "Stage 15\n"
     ]
    },
    {
     "name": "stderr",
     "output_type": "stream",
     "text": [
      "                                                                                \r"
     ]
    },
    {
     "name": "stdout",
     "output_type": "stream",
     "text": [
      "Time of 15 iteration: \n",
      "16.710814952850342\n",
      "Stage 16\n",
      "Time of 16 iteration: \n",
      "16.964839220046997\n",
      "Stage 17\n",
      "Time of 17 iteration: \n",
      "16.424829483032227\n",
      "Stage 18\n",
      "Time of 18 iteration: \n",
      "16.073139667510986\n",
      "Stage 19\n",
      "Time of 19 iteration: \n",
      "16.917054176330566\n",
      "Stage 20\n",
      "Time of 20 iteration: \n",
      "15.719045639038086\n",
      "Stage 21\n"
     ]
    },
    {
     "name": "stderr",
     "output_type": "stream",
     "text": [
      "                                                                                \r"
     ]
    },
    {
     "name": "stdout",
     "output_type": "stream",
     "text": [
      "Time of 21 iteration: \n",
      "16.138912200927734\n",
      "Stage 22\n"
     ]
    },
    {
     "name": "stderr",
     "output_type": "stream",
     "text": [
      "\r\n",
      "[Stage 38538:=============>                                         (1 + 3) / 4]\r\n",
      "\r\n",
      "                                                                                \r"
     ]
    },
    {
     "name": "stdout",
     "output_type": "stream",
     "text": [
      "Time of 22 iteration: \n",
      "15.819281101226807\n",
      "Stage 23\n",
      "Time of 23 iteration: \n",
      "16.344937562942505\n",
      "Stage 24\n",
      "Time of 24 iteration: \n",
      "17.270453214645386\n",
      "Stage 25\n"
     ]
    },
    {
     "name": "stderr",
     "output_type": "stream",
     "text": [
      "\r\n",
      "[Stage 38757:===========================>                           (2 + 2) / 4]\r\n",
      "\r\n",
      "                                                                                \r"
     ]
    },
    {
     "name": "stdout",
     "output_type": "stream",
     "text": [
      "Time of 25 iteration: \n",
      "17.832226037979126\n",
      "Stage 26\n",
      "Time of 26 iteration: \n",
      "17.0196475982666\n",
      "Stage 27\n",
      "Time of 27 iteration: \n",
      "17.341718196868896\n",
      "Stage 28\n"
     ]
    },
    {
     "name": "stderr",
     "output_type": "stream",
     "text": [
      "                                                                                \r"
     ]
    },
    {
     "name": "stdout",
     "output_type": "stream",
     "text": [
      "Time of 28 iteration: \n",
      "17.25129532814026\n",
      "Stage 29\n",
      "Time of 29 iteration: \n",
      "17.515482187271118\n"
     ]
    },
    {
     "name": "stderr",
     "output_type": "stream",
     "text": [
      "                                                                                \r"
     ]
    },
    {
     "name": "stdout",
     "output_type": "stream",
     "text": [
      "Current alpha : [0.1, 0.0, 0.9]\n",
      "Stage 0\n",
      "Time of 0 iteration: \n",
      "14.450399398803711\n",
      "Stage 1\n",
      "Time of 1 iteration: \n",
      "15.08559274673462\n",
      "Stage 2\n",
      "Time of 2 iteration: \n",
      "15.025485277175903\n",
      "Stage 3\n",
      "Time of 3 iteration: \n",
      "15.155421018600464\n",
      "Stage 4\n"
     ]
    },
    {
     "name": "stderr",
     "output_type": "stream",
     "text": [
      "                                                                                \r"
     ]
    },
    {
     "name": "stdout",
     "output_type": "stream",
     "text": [
      "Time of 4 iteration: \n",
      "15.74450159072876\n",
      "Stage 5\n",
      "Time of 5 iteration: \n",
      "15.686221599578857\n",
      "Stage 6\n"
     ]
    },
    {
     "name": "stderr",
     "output_type": "stream",
     "text": [
      "                                                                                \r"
     ]
    },
    {
     "name": "stdout",
     "output_type": "stream",
     "text": [
      "Time of 6 iteration: \n",
      "23.118024826049805\n",
      "Stage 7\n",
      "Time of 7 iteration: \n",
      "15.511280298233032\n",
      "Stage 8\n"
     ]
    },
    {
     "name": "stderr",
     "output_type": "stream",
     "text": [
      "                                                                                \r"
     ]
    },
    {
     "name": "stdout",
     "output_type": "stream",
     "text": [
      "Time of 8 iteration: \n",
      "14.950633764266968\n",
      "Stage 9\n",
      "Time of 9 iteration: \n",
      "16.044466018676758\n",
      "Stage 10\n",
      "Time of 10 iteration: \n",
      "15.56511116027832\n",
      "Stage 11\n",
      "Time of 11 iteration: \n",
      "15.801611185073853\n",
      "Stage 12\n",
      "Time of 12 iteration: \n",
      "15.451804161071777\n",
      "Stage 13\n"
     ]
    },
    {
     "name": "stderr",
     "output_type": "stream",
     "text": [
      "                                                                                \r"
     ]
    },
    {
     "name": "stdout",
     "output_type": "stream",
     "text": [
      "Time of 13 iteration: \n",
      "15.772751331329346\n",
      "Stage 14\n",
      "Time of 14 iteration: \n",
      "15.433530569076538\n",
      "Stage 15\n",
      "Time of 15 iteration: \n",
      "16.022340536117554\n",
      "Stage 16\n"
     ]
    },
    {
     "name": "stderr",
     "output_type": "stream",
     "text": [
      "                                                                                \r"
     ]
    },
    {
     "name": "stdout",
     "output_type": "stream",
     "text": [
      "Time of 16 iteration: \n",
      "16.249696254730225\n",
      "Stage 17\n"
     ]
    },
    {
     "name": "stderr",
     "output_type": "stream",
     "text": [
      "                                                                                \r"
     ]
    },
    {
     "name": "stdout",
     "output_type": "stream",
     "text": [
      "Time of 17 iteration: \n",
      "17.205179691314697\n",
      "Stage 18\n"
     ]
    },
    {
     "name": "stderr",
     "output_type": "stream",
     "text": [
      "                                                                                \r"
     ]
    },
    {
     "name": "stdout",
     "output_type": "stream",
     "text": [
      "Time of 18 iteration: \n",
      "16.108028173446655\n",
      "Stage 19\n",
      "Time of 19 iteration: \n",
      "16.26506519317627\n",
      "Stage 20\n",
      "Time of 20 iteration: \n",
      "16.612914085388184\n",
      "Stage 21\n",
      "Time of 21 iteration: \n",
      "16.48496174812317\n",
      "Stage 22\n"
     ]
    },
    {
     "name": "stderr",
     "output_type": "stream",
     "text": [
      "                                                                                \r"
     ]
    },
    {
     "name": "stdout",
     "output_type": "stream",
     "text": [
      "Time of 22 iteration: \n",
      "16.94682741165161\n",
      "Stage 23\n"
     ]
    },
    {
     "name": "stderr",
     "output_type": "stream",
     "text": [
      "                                                                                \r"
     ]
    },
    {
     "name": "stdout",
     "output_type": "stream",
     "text": [
      "Time of 23 iteration: \n",
      "17.203139543533325\n",
      "Stage 24\n"
     ]
    },
    {
     "name": "stderr",
     "output_type": "stream",
     "text": [
      "                                                                                \r"
     ]
    },
    {
     "name": "stdout",
     "output_type": "stream",
     "text": [
      "Time of 24 iteration: \n",
      "17.166764974594116\n",
      "Stage 25\n",
      "Time of 25 iteration: \n",
      "16.323997020721436\n",
      "Stage 26\n"
     ]
    },
    {
     "name": "stderr",
     "output_type": "stream",
     "text": [
      "                                                                                \r"
     ]
    },
    {
     "name": "stdout",
     "output_type": "stream",
     "text": [
      "Time of 26 iteration: \n",
      "17.131515502929688\n",
      "Stage 27\n"
     ]
    },
    {
     "name": "stderr",
     "output_type": "stream",
     "text": [
      "                                                                                \r"
     ]
    },
    {
     "name": "stdout",
     "output_type": "stream",
     "text": [
      "Time of 27 iteration: \n",
      "16.80885410308838\n",
      "Stage 28\n"
     ]
    },
    {
     "name": "stderr",
     "output_type": "stream",
     "text": [
      "                                                                                \r"
     ]
    },
    {
     "name": "stdout",
     "output_type": "stream",
     "text": [
      "Time of 28 iteration: \n",
      "17.471938848495483\n",
      "Stage 29\n"
     ]
    },
    {
     "name": "stderr",
     "output_type": "stream",
     "text": [
      "                                                                                \r"
     ]
    },
    {
     "name": "stdout",
     "output_type": "stream",
     "text": [
      "Time of 29 iteration: \n",
      "17.115376949310303\n"
     ]
    },
    {
     "name": "stderr",
     "output_type": "stream",
     "text": [
      "                                                                                \r"
     ]
    },
    {
     "name": "stdout",
     "output_type": "stream",
     "text": [
      "Current alpha : [0.1, 0.1, 0.8]\n",
      "Stage 0\n",
      "Time of 0 iteration: \n",
      "14.556608200073242\n",
      "Stage 1\n",
      "Time of 1 iteration: \n",
      "14.947420120239258\n",
      "Stage 2\n",
      "Time of 2 iteration: \n",
      "14.958208560943604\n",
      "Stage 3\n",
      "Time of 3 iteration: \n",
      "15.658353805541992\n",
      "Stage 4\n"
     ]
    },
    {
     "name": "stderr",
     "output_type": "stream",
     "text": [
      "                                                                                \r"
     ]
    },
    {
     "name": "stdout",
     "output_type": "stream",
     "text": [
      "Time of 4 iteration: \n",
      "15.611648082733154\n",
      "Stage 5\n",
      "Time of 5 iteration: \n",
      "15.14077353477478\n",
      "Stage 6\n",
      "Time of 6 iteration: \n",
      "16.58378577232361\n",
      "Stage 7\n"
     ]
    },
    {
     "name": "stderr",
     "output_type": "stream",
     "text": [
      "                                                                                \r"
     ]
    },
    {
     "name": "stdout",
     "output_type": "stream",
     "text": [
      "Time of 7 iteration: \n",
      "15.593586921691895\n",
      "Stage 8\n",
      "Time of 8 iteration: \n",
      "15.990456581115723\n",
      "Stage 9\n",
      "Time of 9 iteration: \n",
      "15.670947313308716\n",
      "Stage 10\n"
     ]
    },
    {
     "name": "stderr",
     "output_type": "stream",
     "text": [
      "                                                                                \r"
     ]
    },
    {
     "name": "stdout",
     "output_type": "stream",
     "text": [
      "Time of 10 iteration: \n",
      "16.671996355056763\n",
      "Stage 11\n",
      "Time of 11 iteration: \n",
      "16.545171976089478\n",
      "Stage 12\n",
      "Time of 12 iteration: \n",
      "16.10399627685547\n",
      "Stage 13\n"
     ]
    },
    {
     "name": "stderr",
     "output_type": "stream",
     "text": [
      "                                                                                \r"
     ]
    },
    {
     "name": "stdout",
     "output_type": "stream",
     "text": [
      "Time of 13 iteration: \n",
      "16.747585773468018\n",
      "Stage 14\n",
      "Time of 14 iteration: \n",
      "17.00239133834839\n",
      "Stage 15\n",
      "Time of 15 iteration: \n",
      "16.730251789093018\n",
      "Stage 16\n",
      "Time of 16 iteration: \n",
      "16.380849838256836\n",
      "Stage 17\n"
     ]
    },
    {
     "name": "stderr",
     "output_type": "stream",
     "text": [
      "\r\n",
      "[Stage 42951:=========================================>             (3 + 1) / 4]\r\n",
      "\r\n",
      "                                                                                \r"
     ]
    },
    {
     "name": "stdout",
     "output_type": "stream",
     "text": [
      "Time of 17 iteration: \n",
      "17.220736503601074\n",
      "Stage 18\n",
      "Time of 18 iteration: \n",
      "16.257734060287476\n",
      "Stage 19\n",
      "Time of 19 iteration: \n",
      "17.191787242889404\n",
      "Stage 20\n"
     ]
    },
    {
     "name": "stderr",
     "output_type": "stream",
     "text": [
      "                                                                                \r"
     ]
    },
    {
     "name": "stdout",
     "output_type": "stream",
     "text": [
      "Time of 20 iteration: \n",
      "16.763548851013184\n",
      "Stage 21\n",
      "Time of 21 iteration: \n",
      "16.47497820854187\n",
      "Stage 22\n"
     ]
    },
    {
     "name": "stderr",
     "output_type": "stream",
     "text": [
      "                                                                                \r"
     ]
    },
    {
     "name": "stdout",
     "output_type": "stream",
     "text": [
      "Time of 22 iteration: \n",
      "16.821181058883667\n",
      "Stage 23\n",
      "Time of 23 iteration: \n",
      "17.222840070724487\n",
      "Stage 24\n"
     ]
    },
    {
     "name": "stderr",
     "output_type": "stream",
     "text": [
      "                                                                                \r"
     ]
    },
    {
     "name": "stdout",
     "output_type": "stream",
     "text": [
      "Time of 24 iteration: \n",
      "17.41825532913208\n",
      "Stage 25\n"
     ]
    },
    {
     "name": "stderr",
     "output_type": "stream",
     "text": [
      "                                                                                \r"
     ]
    },
    {
     "name": "stdout",
     "output_type": "stream",
     "text": [
      "Time of 25 iteration: \n",
      "17.474788904190063\n",
      "Stage 26\n"
     ]
    },
    {
     "name": "stderr",
     "output_type": "stream",
     "text": [
      "                                                                                \r"
     ]
    },
    {
     "name": "stdout",
     "output_type": "stream",
     "text": [
      "Time of 26 iteration: \n",
      "17.869542837142944\n",
      "Stage 27\n",
      "Time of 27 iteration: \n",
      "17.47001051902771\n",
      "Stage 28\n"
     ]
    },
    {
     "name": "stderr",
     "output_type": "stream",
     "text": [
      "                                                                                \r"
     ]
    },
    {
     "name": "stdout",
     "output_type": "stream",
     "text": [
      "Time of 28 iteration: \n",
      "17.40513300895691\n",
      "Stage 29\n"
     ]
    },
    {
     "name": "stderr",
     "output_type": "stream",
     "text": [
      "\r\n",
      "[Stage 43827:>                                                      (0 + 4) / 4]\r\n",
      "\r\n",
      "                                                                                \r"
     ]
    },
    {
     "name": "stdout",
     "output_type": "stream",
     "text": [
      "Time of 29 iteration: \n",
      "17.62505578994751\n"
     ]
    },
    {
     "name": "stderr",
     "output_type": "stream",
     "text": [
      "                                                                                \r"
     ]
    },
    {
     "name": "stdout",
     "output_type": "stream",
     "text": [
      "Current alpha : [0.1, 0.2, 0.7]\n",
      "Stage 0\n",
      "Time of 0 iteration: \n",
      "14.131938695907593\n",
      "Stage 1\n",
      "Time of 1 iteration: \n",
      "15.005703210830688\n",
      "Stage 2\n",
      "Time of 2 iteration: \n",
      "15.112051010131836\n",
      "Stage 3\n",
      "Time of 3 iteration: \n",
      "15.465004205703735\n",
      "Stage 4\n",
      "Time of 4 iteration: \n",
      "15.065986633300781\n",
      "Stage 5\n",
      "Time of 5 iteration: \n",
      "13.987005233764648\n",
      "Stage 6\n",
      "Time of 6 iteration: \n",
      "15.394927740097046\n",
      "Stage 7\n"
     ]
    },
    {
     "name": "stderr",
     "output_type": "stream",
     "text": [
      "\r\n",
      "[Stage 44610:=========================================>             (3 + 1) / 4]\r\n",
      "\r\n",
      "                                                                                \r"
     ]
    },
    {
     "name": "stdout",
     "output_type": "stream",
     "text": [
      "Time of 7 iteration: \n",
      "15.375505208969116\n",
      "Stage 8\n"
     ]
    },
    {
     "name": "stderr",
     "output_type": "stream",
     "text": [
      "                                                                                \r"
     ]
    },
    {
     "name": "stdout",
     "output_type": "stream",
     "text": [
      "Time of 8 iteration: \n",
      "15.62655782699585\n",
      "Stage 9\n",
      "Time of 9 iteration: \n",
      "16.275946855545044\n",
      "Stage 10\n"
     ]
    },
    {
     "name": "stderr",
     "output_type": "stream",
     "text": [
      "                                                                                \r"
     ]
    },
    {
     "name": "stdout",
     "output_type": "stream",
     "text": [
      "Time of 10 iteration: \n",
      "16.128314971923828\n",
      "Stage 11\n"
     ]
    },
    {
     "name": "stderr",
     "output_type": "stream",
     "text": [
      "                                                                                \r"
     ]
    },
    {
     "name": "stdout",
     "output_type": "stream",
     "text": [
      "Time of 11 iteration: \n",
      "16.322635889053345\n",
      "Stage 12\n"
     ]
    },
    {
     "name": "stderr",
     "output_type": "stream",
     "text": [
      "                                                                                \r"
     ]
    },
    {
     "name": "stdout",
     "output_type": "stream",
     "text": [
      "Time of 12 iteration: \n",
      "16.1384859085083\n",
      "Stage 13\n"
     ]
    },
    {
     "name": "stderr",
     "output_type": "stream",
     "text": [
      "                                                                                \r"
     ]
    },
    {
     "name": "stdout",
     "output_type": "stream",
     "text": [
      "Time of 13 iteration: \n",
      "15.897414922714233\n",
      "Stage 14\n"
     ]
    },
    {
     "name": "stderr",
     "output_type": "stream",
     "text": [
      "                                                                                \r"
     ]
    },
    {
     "name": "stdout",
     "output_type": "stream",
     "text": [
      "Time of 14 iteration: \n",
      "16.241698026657104\n",
      "Stage 15\n"
     ]
    },
    {
     "name": "stderr",
     "output_type": "stream",
     "text": [
      "                                                                                \r"
     ]
    },
    {
     "name": "stdout",
     "output_type": "stream",
     "text": [
      "Time of 15 iteration: \n",
      "16.38321828842163\n",
      "Stage 16\n",
      "Time of 16 iteration: \n",
      "16.81956696510315\n",
      "Stage 17\n"
     ]
    },
    {
     "name": "stderr",
     "output_type": "stream",
     "text": [
      "                                                                                \r"
     ]
    },
    {
     "name": "stdout",
     "output_type": "stream",
     "text": [
      "Time of 17 iteration: \n",
      "16.669918298721313\n",
      "Stage 18\n",
      "Time of 18 iteration: \n",
      "16.86631417274475\n",
      "Stage 19\n"
     ]
    },
    {
     "name": "stderr",
     "output_type": "stream",
     "text": [
      "                                                                                \r"
     ]
    },
    {
     "name": "stdout",
     "output_type": "stream",
     "text": [
      "Time of 19 iteration: \n",
      "16.29118013381958\n",
      "Stage 20\n"
     ]
    },
    {
     "name": "stderr",
     "output_type": "stream",
     "text": [
      "                                                                                \r"
     ]
    },
    {
     "name": "stdout",
     "output_type": "stream",
     "text": [
      "Time of 20 iteration: \n",
      "16.40191125869751\n",
      "Stage 21\n",
      "Time of 21 iteration: \n",
      "16.78538703918457\n",
      "Stage 22\n"
     ]
    },
    {
     "name": "stderr",
     "output_type": "stream",
     "text": [
      "                                                                                \r"
     ]
    },
    {
     "name": "stdout",
     "output_type": "stream",
     "text": [
      "Time of 22 iteration: \n",
      "17.032692432403564\n",
      "Stage 23\n"
     ]
    },
    {
     "name": "stderr",
     "output_type": "stream",
     "text": [
      "                                                                                \r"
     ]
    },
    {
     "name": "stdout",
     "output_type": "stream",
     "text": [
      "Time of 23 iteration: \n",
      "17.398872137069702\n",
      "Stage 24\n"
     ]
    },
    {
     "name": "stderr",
     "output_type": "stream",
     "text": [
      "                                                                                \r"
     ]
    },
    {
     "name": "stdout",
     "output_type": "stream",
     "text": [
      "Time of 24 iteration: \n",
      "17.57387661933899\n",
      "Stage 25\n"
     ]
    },
    {
     "name": "stderr",
     "output_type": "stream",
     "text": [
      "                                                                                \r"
     ]
    },
    {
     "name": "stdout",
     "output_type": "stream",
     "text": [
      "Time of 25 iteration: \n",
      "17.462550163269043\n",
      "Stage 26\n"
     ]
    },
    {
     "name": "stderr",
     "output_type": "stream",
     "text": [
      "                                                                                \r"
     ]
    },
    {
     "name": "stdout",
     "output_type": "stream",
     "text": [
      "Time of 26 iteration: \n",
      "16.938219785690308\n",
      "Stage 27\n",
      "Time of 27 iteration: \n",
      "17.656433820724487\n",
      "Stage 28\n"
     ]
    },
    {
     "name": "stderr",
     "output_type": "stream",
     "text": [
      "                                                                                \r"
     ]
    },
    {
     "name": "stdout",
     "output_type": "stream",
     "text": [
      "Time of 28 iteration: \n",
      "18.15348744392395\n",
      "Stage 29\n"
     ]
    },
    {
     "name": "stderr",
     "output_type": "stream",
     "text": [
      "\r\n",
      "[Stage 46218:>                                                      (0 + 4) / 4]\r\n",
      "\r\n",
      "                                                                                \r"
     ]
    },
    {
     "name": "stdout",
     "output_type": "stream",
     "text": [
      "Time of 29 iteration: \n",
      "18.490460634231567\n"
     ]
    },
    {
     "name": "stderr",
     "output_type": "stream",
     "text": [
      "                                                                                \r"
     ]
    },
    {
     "name": "stdout",
     "output_type": "stream",
     "text": [
      "Current alpha : [0.1, 0.3, 0.6]\n",
      "Stage 0\n",
      "Time of 0 iteration: \n",
      "13.926481485366821\n",
      "Stage 1\n",
      "Time of 1 iteration: \n",
      "14.83668565750122\n",
      "Stage 2\n"
     ]
    },
    {
     "name": "stderr",
     "output_type": "stream",
     "text": [
      "                                                                                \r"
     ]
    },
    {
     "name": "stdout",
     "output_type": "stream",
     "text": [
      "Time of 2 iteration: \n",
      "15.80116081237793\n",
      "Stage 3\n"
     ]
    },
    {
     "name": "stderr",
     "output_type": "stream",
     "text": [
      "                                                                                \r"
     ]
    },
    {
     "name": "stdout",
     "output_type": "stream",
     "text": [
      "Time of 3 iteration: \n",
      "15.274676322937012\n",
      "Stage 4\n",
      "Time of 4 iteration: \n",
      "15.672074317932129\n",
      "Stage 5\n",
      "Time of 5 iteration: \n",
      "15.192366123199463\n",
      "Stage 6\n"
     ]
    },
    {
     "name": "stderr",
     "output_type": "stream",
     "text": [
      "                                                                                \r"
     ]
    },
    {
     "name": "stdout",
     "output_type": "stream",
     "text": [
      "Time of 6 iteration: \n",
      "15.197936773300171\n",
      "Stage 7\n"
     ]
    },
    {
     "name": "stderr",
     "output_type": "stream",
     "text": [
      "                                                                                \r"
     ]
    },
    {
     "name": "stdout",
     "output_type": "stream",
     "text": [
      "Time of 7 iteration: \n",
      "16.549525499343872\n",
      "Stage 8\n"
     ]
    },
    {
     "name": "stderr",
     "output_type": "stream",
     "text": [
      "                                                                                \r"
     ]
    },
    {
     "name": "stdout",
     "output_type": "stream",
     "text": [
      "Time of 8 iteration: \n",
      "15.588229894638062\n",
      "Stage 9\n"
     ]
    },
    {
     "name": "stderr",
     "output_type": "stream",
     "text": [
      "                                                                                \r"
     ]
    },
    {
     "name": "stdout",
     "output_type": "stream",
     "text": [
      "Time of 9 iteration: \n",
      "16.0727059841156\n",
      "Stage 10\n",
      "Time of 10 iteration: \n",
      "16.479337692260742\n",
      "Stage 11\n",
      "Time of 11 iteration: \n",
      "15.731132507324219\n",
      "Stage 12\n",
      "Time of 12 iteration: \n",
      "16.7582368850708\n",
      "Stage 13\n",
      "Time of 13 iteration: \n",
      "16.437915563583374\n",
      "Stage 14\n"
     ]
    },
    {
     "name": "stderr",
     "output_type": "stream",
     "text": [
      "\r\n",
      "[Stage 47510:=============>                                         (1 + 3) / 4]\r\n",
      "\r\n",
      "                                                                                \r"
     ]
    },
    {
     "name": "stdout",
     "output_type": "stream",
     "text": [
      "Time of 14 iteration: \n",
      "16.676334619522095\n",
      "Stage 15\n",
      "Time of 15 iteration: \n",
      "17.10781192779541\n",
      "Stage 16\n"
     ]
    },
    {
     "name": "stderr",
     "output_type": "stream",
     "text": [
      "                                                                                \r"
     ]
    },
    {
     "name": "stdout",
     "output_type": "stream",
     "text": [
      "Time of 16 iteration: \n",
      "16.682361364364624\n",
      "Stage 17\n"
     ]
    },
    {
     "name": "stderr",
     "output_type": "stream",
     "text": [
      "                                                                                \r"
     ]
    },
    {
     "name": "stdout",
     "output_type": "stream",
     "text": [
      "Time of 17 iteration: \n",
      "17.345155239105225\n",
      "Stage 18\n",
      "Time of 18 iteration: \n",
      "16.913120985031128\n",
      "Stage 19\n"
     ]
    },
    {
     "name": "stderr",
     "output_type": "stream",
     "text": [
      "                                                                                \r"
     ]
    },
    {
     "name": "stdout",
     "output_type": "stream",
     "text": [
      "Time of 19 iteration: \n",
      "17.585408926010132\n",
      "Stage 20\n"
     ]
    },
    {
     "name": "stderr",
     "output_type": "stream",
     "text": [
      "                                                                                \r"
     ]
    },
    {
     "name": "stdout",
     "output_type": "stream",
     "text": [
      "Time of 20 iteration: \n",
      "17.42355751991272\n",
      "Stage 21\n"
     ]
    },
    {
     "name": "stderr",
     "output_type": "stream",
     "text": [
      "\r\n",
      "[Stage 48021:>                                                      (0 + 4) / 4]\r\n",
      "\r\n",
      "                                                                                \r"
     ]
    },
    {
     "name": "stdout",
     "output_type": "stream",
     "text": [
      "Time of 21 iteration: \n",
      "16.941051959991455\n",
      "Stage 22\n"
     ]
    },
    {
     "name": "stderr",
     "output_type": "stream",
     "text": [
      "                                                                                \r"
     ]
    },
    {
     "name": "stdout",
     "output_type": "stream",
     "text": [
      "Time of 22 iteration: \n",
      "16.931152820587158\n",
      "Stage 23\n"
     ]
    },
    {
     "name": "stderr",
     "output_type": "stream",
     "text": [
      "                                                                                \r"
     ]
    },
    {
     "name": "stdout",
     "output_type": "stream",
     "text": [
      "Time of 23 iteration: \n",
      "17.297132968902588\n",
      "Stage 24\n"
     ]
    },
    {
     "name": "stderr",
     "output_type": "stream",
     "text": [
      "                                                                                \r"
     ]
    },
    {
     "name": "stdout",
     "output_type": "stream",
     "text": [
      "Time of 24 iteration: \n",
      "17.076414346694946\n",
      "Stage 25\n"
     ]
    },
    {
     "name": "stderr",
     "output_type": "stream",
     "text": [
      "                                                                                \r"
     ]
    },
    {
     "name": "stdout",
     "output_type": "stream",
     "text": [
      "Time of 25 iteration: \n",
      "17.25471019744873\n",
      "Stage 26\n",
      "Time of 26 iteration: \n",
      "17.769580841064453\n",
      "Stage 27\n"
     ]
    },
    {
     "name": "stderr",
     "output_type": "stream",
     "text": [
      "                                                                                \r"
     ]
    },
    {
     "name": "stdout",
     "output_type": "stream",
     "text": [
      "Time of 27 iteration: \n",
      "17.954216241836548\n",
      "Stage 28\n"
     ]
    },
    {
     "name": "stderr",
     "output_type": "stream",
     "text": [
      "                                                                                \r"
     ]
    },
    {
     "name": "stdout",
     "output_type": "stream",
     "text": [
      "Time of 28 iteration: \n",
      "17.181302547454834\n",
      "Stage 29\n"
     ]
    },
    {
     "name": "stderr",
     "output_type": "stream",
     "text": [
      "                                                                                \r"
     ]
    },
    {
     "name": "stdout",
     "output_type": "stream",
     "text": [
      "Time of 29 iteration: \n",
      "23.605568647384644\n"
     ]
    },
    {
     "name": "stderr",
     "output_type": "stream",
     "text": [
      "                                                                                \r"
     ]
    },
    {
     "name": "stdout",
     "output_type": "stream",
     "text": [
      "Current alpha : [0.1, 0.4, 0.5]\n",
      "Stage 0\n",
      "Time of 0 iteration: \n",
      "14.043664693832397\n",
      "Stage 1\n"
     ]
    },
    {
     "name": "stderr",
     "output_type": "stream",
     "text": [
      "                                                                                \r"
     ]
    },
    {
     "name": "stdout",
     "output_type": "stream",
     "text": [
      "Time of 1 iteration: \n",
      "16.09377121925354\n",
      "Stage 2\n",
      "Time of 2 iteration: \n",
      "15.437425374984741\n",
      "Stage 3\n",
      "Time of 3 iteration: \n",
      "15.550157308578491\n",
      "Stage 4\n"
     ]
    },
    {
     "name": "stderr",
     "output_type": "stream",
     "text": [
      "                                                                                \r"
     ]
    },
    {
     "name": "stdout",
     "output_type": "stream",
     "text": [
      "Time of 4 iteration: \n",
      "15.485284805297852\n",
      "Stage 5\n"
     ]
    },
    {
     "name": "stderr",
     "output_type": "stream",
     "text": [
      "\r\n",
      "[Stage 49242:=============>                                         (1 + 3) / 4]\r\n",
      "\r\n",
      "                                                                                \r"
     ]
    },
    {
     "name": "stdout",
     "output_type": "stream",
     "text": [
      "Time of 5 iteration: \n",
      "15.334639549255371\n",
      "Stage 6\n"
     ]
    },
    {
     "name": "stderr",
     "output_type": "stream",
     "text": [
      "                                                                                \r"
     ]
    },
    {
     "name": "stdout",
     "output_type": "stream",
     "text": [
      "Time of 6 iteration: \n",
      "15.989667177200317\n",
      "Stage 7\n"
     ]
    },
    {
     "name": "stderr",
     "output_type": "stream",
     "text": [
      "                                                                                \r"
     ]
    },
    {
     "name": "stdout",
     "output_type": "stream",
     "text": [
      "Time of 7 iteration: \n",
      "15.793726921081543\n",
      "Stage 8\n"
     ]
    },
    {
     "name": "stderr",
     "output_type": "stream",
     "text": [
      "                                                                                \r"
     ]
    },
    {
     "name": "stdout",
     "output_type": "stream",
     "text": [
      "Time of 8 iteration: \n",
      "15.785255908966064\n",
      "Stage 9\n",
      "Time of 9 iteration: \n",
      "15.615386962890625\n",
      "Stage 10\n",
      "Time of 10 iteration: \n",
      "16.564666271209717\n",
      "Stage 11\n",
      "Time of 11 iteration: \n",
      "15.918113470077515\n",
      "Stage 12\n",
      "Time of 12 iteration: \n",
      "16.055530071258545\n",
      "Stage 13\n",
      "Time of 13 iteration: \n",
      "16.715243339538574\n",
      "Stage 14\n",
      "Time of 14 iteration: \n",
      "16.963125467300415\n",
      "Stage 15\n"
     ]
    },
    {
     "name": "stderr",
     "output_type": "stream",
     "text": [
      "                                                                                \r"
     ]
    },
    {
     "name": "stdout",
     "output_type": "stream",
     "text": [
      "Time of 15 iteration: \n",
      "16.34382724761963\n",
      "Stage 16\n"
     ]
    },
    {
     "name": "stderr",
     "output_type": "stream",
     "text": [
      "                                                                                \r"
     ]
    },
    {
     "name": "stdout",
     "output_type": "stream",
     "text": [
      "Time of 16 iteration: \n",
      "16.619235038757324\n",
      "Stage 17\n",
      "Time of 17 iteration: \n",
      "17.242491483688354\n",
      "Stage 18\n"
     ]
    },
    {
     "name": "stderr",
     "output_type": "stream",
     "text": [
      "                                                                                \r"
     ]
    },
    {
     "name": "stdout",
     "output_type": "stream",
     "text": [
      "Time of 18 iteration: \n",
      "17.336217403411865\n",
      "Stage 19\n"
     ]
    },
    {
     "name": "stderr",
     "output_type": "stream",
     "text": [
      "                                                                                \r"
     ]
    },
    {
     "name": "stdout",
     "output_type": "stream",
     "text": [
      "Time of 19 iteration: \n",
      "16.603236198425293\n",
      "Stage 20\n"
     ]
    },
    {
     "name": "stderr",
     "output_type": "stream",
     "text": [
      "                                                                                \r"
     ]
    },
    {
     "name": "stdout",
     "output_type": "stream",
     "text": [
      "Time of 20 iteration: \n",
      "17.424975872039795\n",
      "Stage 21\n"
     ]
    },
    {
     "name": "stderr",
     "output_type": "stream",
     "text": [
      "                                                                                \r"
     ]
    },
    {
     "name": "stdout",
     "output_type": "stream",
     "text": [
      "Time of 21 iteration: \n",
      "16.70844292640686\n",
      "Stage 22\n"
     ]
    },
    {
     "name": "stderr",
     "output_type": "stream",
     "text": [
      "                                                                                \r"
     ]
    },
    {
     "name": "stdout",
     "output_type": "stream",
     "text": [
      "Time of 22 iteration: \n",
      "17.7460675239563\n",
      "Stage 23\n"
     ]
    },
    {
     "name": "stderr",
     "output_type": "stream",
     "text": [
      "                                                                                \r"
     ]
    },
    {
     "name": "stdout",
     "output_type": "stream",
     "text": [
      "Time of 23 iteration: \n",
      "16.431162357330322\n",
      "Stage 24\n",
      "Time of 24 iteration: \n",
      "16.89241361618042\n",
      "Stage 25\n"
     ]
    },
    {
     "name": "stderr",
     "output_type": "stream",
     "text": [
      "                                                                                \r"
     ]
    },
    {
     "name": "stdout",
     "output_type": "stream",
     "text": [
      "Time of 25 iteration: \n",
      "17.551924228668213\n",
      "Stage 26\n",
      "Time of 26 iteration: \n",
      "17.46209216117859\n",
      "Stage 27\n"
     ]
    },
    {
     "name": "stderr",
     "output_type": "stream",
     "text": [
      "                                                                                \r"
     ]
    },
    {
     "name": "stdout",
     "output_type": "stream",
     "text": [
      "Time of 27 iteration: \n",
      "16.730480194091797\n",
      "Stage 28\n",
      "Time of 28 iteration: \n",
      "17.650898218154907\n",
      "Stage 29\n"
     ]
    },
    {
     "name": "stderr",
     "output_type": "stream",
     "text": [
      "                                                                                \r"
     ]
    },
    {
     "name": "stdout",
     "output_type": "stream",
     "text": [
      "Time of 29 iteration: \n",
      "17.893532276153564\n"
     ]
    },
    {
     "name": "stderr",
     "output_type": "stream",
     "text": [
      "                                                                                \r"
     ]
    },
    {
     "name": "stdout",
     "output_type": "stream",
     "text": [
      "Current alpha : [0.1, 0.5, 0.4]\n",
      "Stage 0\n",
      "Time of 0 iteration: \n",
      "14.70736813545227\n",
      "Stage 1\n",
      "Time of 1 iteration: \n",
      "14.938420534133911\n",
      "Stage 2\n",
      "Time of 2 iteration: \n",
      "15.261041402816772\n",
      "Stage 3\n"
     ]
    },
    {
     "name": "stderr",
     "output_type": "stream",
     "text": [
      "                                                                                \r"
     ]
    },
    {
     "name": "stdout",
     "output_type": "stream",
     "text": [
      "Time of 3 iteration: \n",
      "16.167481422424316\n",
      "Stage 4\n",
      "Time of 4 iteration: \n",
      "15.653704404830933\n",
      "Stage 5\n",
      "Time of 5 iteration: \n",
      "16.415745973587036\n",
      "Stage 6\n",
      "Time of 6 iteration: \n",
      "15.084909915924072\n",
      "Stage 7\n"
     ]
    },
    {
     "name": "stderr",
     "output_type": "stream",
     "text": [
      "                                                                                \r"
     ]
    },
    {
     "name": "stdout",
     "output_type": "stream",
     "text": [
      "Time of 7 iteration: \n",
      "24.14011240005493\n",
      "Stage 8\n"
     ]
    },
    {
     "name": "stderr",
     "output_type": "stream",
     "text": [
      "                                                                                \r"
     ]
    },
    {
     "name": "stdout",
     "output_type": "stream",
     "text": [
      "Time of 8 iteration: \n",
      "30.093939542770386\n",
      "Stage 9\n",
      "Time of 9 iteration: \n",
      "23.84606122970581\n",
      "Stage 10\n"
     ]
    },
    {
     "name": "stderr",
     "output_type": "stream",
     "text": [
      "                                                                                \r"
     ]
    },
    {
     "name": "stdout",
     "output_type": "stream",
     "text": [
      "Time of 10 iteration: \n",
      "22.52477264404297\n",
      "Stage 11\n"
     ]
    },
    {
     "name": "stderr",
     "output_type": "stream",
     "text": [
      "\r\n",
      "[Stage 52142:>                                                      (0 + 4) / 4]\r\n",
      "\r\n",
      "                                                                                \r"
     ]
    },
    {
     "name": "stdout",
     "output_type": "stream",
     "text": [
      "Time of 12 iteration: \n",
      "21.29951500892639\n",
      "Stage 13\n"
     ]
    },
    {
     "name": "stderr",
     "output_type": "stream",
     "text": [
      "                                                                                \r"
     ]
    },
    {
     "name": "stdout",
     "output_type": "stream",
     "text": [
      "Time of 13 iteration: \n",
      "20.458680391311646\n",
      "Stage 14\n"
     ]
    },
    {
     "name": "stderr",
     "output_type": "stream",
     "text": [
      "                                                                                \r"
     ]
    },
    {
     "name": "stdout",
     "output_type": "stream",
     "text": [
      "Time of 14 iteration: \n",
      "21.500633478164673\n",
      "Stage 15\n"
     ]
    },
    {
     "name": "stderr",
     "output_type": "stream",
     "text": [
      "                                                                                \r"
     ]
    },
    {
     "name": "stdout",
     "output_type": "stream",
     "text": [
      "Time of 15 iteration: \n",
      "19.11619997024536\n",
      "Stage 16\n"
     ]
    },
    {
     "name": "stderr",
     "output_type": "stream",
     "text": [
      "\r\n",
      "[Stage 52434:>                                                      (0 + 4) / 4]\r\n",
      "\r\n",
      "                                                                                \r"
     ]
    },
    {
     "name": "stdout",
     "output_type": "stream",
     "text": [
      "Time of 16 iteration: \n",
      "22.11017155647278\n",
      "Stage 17\n",
      "Time of 17 iteration: \n",
      "22.36649513244629\n",
      "Stage 18\n"
     ]
    },
    {
     "name": "stderr",
     "output_type": "stream",
     "text": [
      "\r\n",
      "[Stage 52580:>                                                      (0 + 4) / 4]\r\n",
      "\r\n",
      "                                                                                \r"
     ]
    },
    {
     "name": "stdout",
     "output_type": "stream",
     "text": [
      "Time of 18 iteration: \n",
      "19.954671621322632\n",
      "Stage 19\n"
     ]
    },
    {
     "name": "stderr",
     "output_type": "stream",
     "text": [
      "\r\n",
      "[Stage 52653:>                                                      (0 + 4) / 4]\r\n",
      "\r\n",
      "                                                                                \r"
     ]
    },
    {
     "name": "stdout",
     "output_type": "stream",
     "text": [
      "Time of 19 iteration: \n",
      "21.174731016159058\n",
      "Stage 20\n"
     ]
    },
    {
     "name": "stderr",
     "output_type": "stream",
     "text": [
      "                                                                                \r"
     ]
    },
    {
     "name": "stdout",
     "output_type": "stream",
     "text": [
      "Time of 20 iteration: \n",
      "21.505009651184082\n",
      "Stage 21\n"
     ]
    },
    {
     "name": "stderr",
     "output_type": "stream",
     "text": [
      "\r\n",
      "[Stage 52799:>                                                      (0 + 4) / 4]\r\n",
      "\r\n",
      "                                                                                \r"
     ]
    },
    {
     "name": "stdout",
     "output_type": "stream",
     "text": [
      "Time of 21 iteration: \n",
      "21.32071566581726\n",
      "Stage 22\n"
     ]
    },
    {
     "name": "stderr",
     "output_type": "stream",
     "text": [
      "\r\n",
      "[Stage 52872:>                                                      (0 + 4) / 4]\r\n",
      "\r\n",
      "                                                                                \r"
     ]
    },
    {
     "name": "stdout",
     "output_type": "stream",
     "text": [
      "Time of 22 iteration: \n",
      "21.637561559677124\n",
      "Stage 23\n"
     ]
    },
    {
     "name": "stderr",
     "output_type": "stream",
     "text": [
      "\r\n",
      "[Stage 52945:>                                                      (0 + 4) / 4]\r\n",
      "\r\n",
      "                                                                                \r"
     ]
    },
    {
     "name": "stdout",
     "output_type": "stream",
     "text": [
      "Time of 23 iteration: \n",
      "21.517452716827393\n",
      "Stage 24\n"
     ]
    },
    {
     "name": "stderr",
     "output_type": "stream",
     "text": [
      "                                                                                \r"
     ]
    },
    {
     "name": "stdout",
     "output_type": "stream",
     "text": [
      "Time of 24 iteration: \n",
      "17.350749969482422\n",
      "Stage 25\n",
      "Time of 25 iteration: \n",
      "16.588428497314453\n",
      "Stage 26\n",
      "Time of 26 iteration: \n",
      "17.570751667022705\n",
      "Stage 27\n",
      "Time of 27 iteration: \n",
      "17.21654176712036\n",
      "Stage 28\n"
     ]
    },
    {
     "name": "stderr",
     "output_type": "stream",
     "text": [
      "                                                                                \r"
     ]
    },
    {
     "name": "stdout",
     "output_type": "stream",
     "text": [
      "Time of 28 iteration: \n",
      "17.554421186447144\n",
      "Stage 29\n"
     ]
    },
    {
     "name": "stderr",
     "output_type": "stream",
     "text": [
      "                                                                                \r"
     ]
    },
    {
     "name": "stdout",
     "output_type": "stream",
     "text": [
      "Time of 29 iteration: \n",
      "17.17274832725525\n"
     ]
    },
    {
     "name": "stderr",
     "output_type": "stream",
     "text": [
      "                                                                                \r"
     ]
    },
    {
     "name": "stdout",
     "output_type": "stream",
     "text": [
      "Current alpha : [0.1, 0.6, 0.3]\n",
      "Stage 0\n",
      "Time of 0 iteration: \n",
      "13.887960433959961\n",
      "Stage 1\n",
      "Time of 1 iteration: \n",
      "15.188304901123047\n",
      "Stage 2\n",
      "Time of 2 iteration: \n",
      "14.888378381729126\n",
      "Stage 3\n"
     ]
    },
    {
     "name": "stderr",
     "output_type": "stream",
     "text": [
      "                                                                                \r"
     ]
    },
    {
     "name": "stdout",
     "output_type": "stream",
     "text": [
      "Time of 3 iteration: \n",
      "15.111584663391113\n",
      "Stage 4\n"
     ]
    },
    {
     "name": "stderr",
     "output_type": "stream",
     "text": [
      "                                                                                \r"
     ]
    },
    {
     "name": "stdout",
     "output_type": "stream",
     "text": [
      "Time of 4 iteration: \n",
      "14.58519172668457\n",
      "Stage 5\n",
      "Time of 5 iteration: \n",
      "15.654517412185669\n",
      "Stage 6\n"
     ]
    },
    {
     "name": "stderr",
     "output_type": "stream",
     "text": [
      "                                                                                \r"
     ]
    },
    {
     "name": "stdout",
     "output_type": "stream",
     "text": [
      "Time of 6 iteration: \n",
      "15.35961389541626\n",
      "Stage 7\n"
     ]
    },
    {
     "name": "stderr",
     "output_type": "stream",
     "text": [
      "                                                                                \r"
     ]
    },
    {
     "name": "stdout",
     "output_type": "stream",
     "text": [
      "Time of 7 iteration: \n",
      "16.20733118057251\n",
      "Stage 8\n",
      "Time of 8 iteration: \n",
      "15.513535499572754\n",
      "Stage 9\n"
     ]
    },
    {
     "name": "stderr",
     "output_type": "stream",
     "text": [
      "                                                                                \r"
     ]
    },
    {
     "name": "stdout",
     "output_type": "stream",
     "text": [
      "Time of 9 iteration: \n",
      "16.145686864852905\n",
      "Stage 10\n"
     ]
    },
    {
     "name": "stderr",
     "output_type": "stream",
     "text": [
      "                                                                                \r"
     ]
    },
    {
     "name": "stdout",
     "output_type": "stream",
     "text": [
      "Time of 10 iteration: \n",
      "16.829041719436646\n",
      "Stage 11\n",
      "Time of 11 iteration: \n",
      "16.120128393173218\n",
      "Stage 12\n"
     ]
    },
    {
     "name": "stderr",
     "output_type": "stream",
     "text": [
      "                                                                                \r"
     ]
    },
    {
     "name": "stdout",
     "output_type": "stream",
     "text": [
      "Time of 12 iteration: \n",
      "16.493858098983765\n",
      "Stage 13\n",
      "Time of 13 iteration: \n",
      "16.214884519577026\n",
      "Stage 14\n"
     ]
    },
    {
     "name": "stderr",
     "output_type": "stream",
     "text": [
      "                                                                                \r"
     ]
    },
    {
     "name": "stdout",
     "output_type": "stream",
     "text": [
      "Time of 14 iteration: \n",
      "15.894843578338623\n",
      "Stage 15\n"
     ]
    },
    {
     "name": "stderr",
     "output_type": "stream",
     "text": [
      "                                                                                \r"
     ]
    },
    {
     "name": "stdout",
     "output_type": "stream",
     "text": [
      "Time of 15 iteration: \n",
      "16.280458688735962\n",
      "Stage 16\n"
     ]
    },
    {
     "name": "stderr",
     "output_type": "stream",
     "text": [
      "                                                                                \r"
     ]
    },
    {
     "name": "stdout",
     "output_type": "stream",
     "text": [
      "Time of 16 iteration: \n",
      "16.83835220336914\n",
      "Stage 17\n",
      "Time of 17 iteration: \n",
      "16.22196650505066\n",
      "Stage 18\n"
     ]
    },
    {
     "name": "stderr",
     "output_type": "stream",
     "text": [
      "\r\n",
      "[Stage 54969:>                                                      (0 + 4) / 4]\r\n",
      "\r\n",
      "                                                                                \r"
     ]
    },
    {
     "name": "stdout",
     "output_type": "stream",
     "text": [
      "Time of 18 iteration: \n",
      "16.851248025894165\n",
      "Stage 19\n"
     ]
    },
    {
     "name": "stderr",
     "output_type": "stream",
     "text": [
      "                                                                                \r"
     ]
    },
    {
     "name": "stdout",
     "output_type": "stream",
     "text": [
      "Time of 19 iteration: \n",
      "17.002121210098267\n",
      "Stage 20\n",
      "Time of 20 iteration: \n",
      "17.17071509361267\n",
      "Stage 21\n"
     ]
    },
    {
     "name": "stderr",
     "output_type": "stream",
     "text": [
      "                                                                                \r"
     ]
    },
    {
     "name": "stdout",
     "output_type": "stream",
     "text": [
      "Time of 21 iteration: \n",
      "17.087485551834106\n",
      "Stage 22\n"
     ]
    },
    {
     "name": "stderr",
     "output_type": "stream",
     "text": [
      "                                                                                \r"
     ]
    },
    {
     "name": "stdout",
     "output_type": "stream",
     "text": [
      "Time of 22 iteration: \n",
      "17.517629146575928\n",
      "Stage 23\n"
     ]
    },
    {
     "name": "stderr",
     "output_type": "stream",
     "text": [
      "                                                                                \r"
     ]
    },
    {
     "name": "stdout",
     "output_type": "stream",
     "text": [
      "Time of 23 iteration: \n",
      "17.25556516647339\n",
      "Stage 24\n"
     ]
    },
    {
     "name": "stderr",
     "output_type": "stream",
     "text": [
      "                                                                                \r"
     ]
    },
    {
     "name": "stdout",
     "output_type": "stream",
     "text": [
      "Time of 24 iteration: \n",
      "17.572060346603394\n",
      "Stage 25\n"
     ]
    },
    {
     "name": "stderr",
     "output_type": "stream",
     "text": [
      "                                                                                \r"
     ]
    },
    {
     "name": "stdout",
     "output_type": "stream",
     "text": [
      "Time of 25 iteration: \n",
      "16.65112543106079\n",
      "Stage 26\n",
      "Time of 26 iteration: \n",
      "16.406304121017456\n",
      "Stage 27\n"
     ]
    },
    {
     "name": "stderr",
     "output_type": "stream",
     "text": [
      "                                                                                \r"
     ]
    },
    {
     "name": "stdout",
     "output_type": "stream",
     "text": [
      "Time of 27 iteration: \n",
      "20.070772171020508\n",
      "Stage 28\n"
     ]
    },
    {
     "name": "stderr",
     "output_type": "stream",
     "text": [
      "                                                                                \r"
     ]
    },
    {
     "name": "stdout",
     "output_type": "stream",
     "text": [
      "Time of 28 iteration: \n",
      "17.00852656364441\n",
      "Stage 29\n"
     ]
    },
    {
     "name": "stderr",
     "output_type": "stream",
     "text": [
      "                                                                                \r"
     ]
    },
    {
     "name": "stdout",
     "output_type": "stream",
     "text": [
      "Time of 29 iteration: \n",
      "17.73076868057251\n"
     ]
    },
    {
     "name": "stderr",
     "output_type": "stream",
     "text": [
      "                                                                                \r"
     ]
    },
    {
     "name": "stdout",
     "output_type": "stream",
     "text": [
      "Current alpha : [0.1, 0.7, 0.2]\n",
      "Stage 0\n"
     ]
    },
    {
     "name": "stderr",
     "output_type": "stream",
     "text": [
      "\r\n",
      "[Stage 56044:>                                                      (0 + 4) / 4]\r\n",
      "\r\n",
      "                                                                                \r"
     ]
    },
    {
     "name": "stdout",
     "output_type": "stream",
     "text": [
      "Time of 0 iteration: \n",
      "21.695677518844604\n",
      "Stage 1\n",
      "Time of 1 iteration: \n",
      "17.75398898124695\n",
      "Stage 2\n",
      "Time of 2 iteration: \n",
      "15.235153198242188\n",
      "Stage 3\n"
     ]
    },
    {
     "name": "stderr",
     "output_type": "stream",
     "text": [
      "                                                                                \r"
     ]
    },
    {
     "name": "stdout",
     "output_type": "stream",
     "text": [
      "Time of 3 iteration: \n",
      "14.625553369522095\n",
      "Stage 4\n",
      "Time of 4 iteration: \n",
      "15.49680495262146\n",
      "Stage 5\n",
      "Time of 5 iteration: \n",
      "15.044649362564087\n",
      "Stage 6\n",
      "Time of 6 iteration: \n",
      "15.644173383712769\n",
      "Stage 7\n"
     ]
    },
    {
     "name": "stderr",
     "output_type": "stream",
     "text": [
      "                                                                                \r"
     ]
    },
    {
     "name": "stdout",
     "output_type": "stream",
     "text": [
      "Time of 7 iteration: \n",
      "16.176454544067383\n",
      "Stage 8\n"
     ]
    },
    {
     "name": "stderr",
     "output_type": "stream",
     "text": [
      "                                                                                \r"
     ]
    },
    {
     "name": "stdout",
     "output_type": "stream",
     "text": [
      "Time of 8 iteration: \n",
      "16.791571378707886\n",
      "Stage 9\n"
     ]
    },
    {
     "name": "stderr",
     "output_type": "stream",
     "text": [
      "                                                                                \r"
     ]
    },
    {
     "name": "stdout",
     "output_type": "stream",
     "text": [
      "Time of 9 iteration: \n",
      "22.34782648086548\n",
      "Stage 10\n"
     ]
    },
    {
     "name": "stderr",
     "output_type": "stream",
     "text": [
      "                                                                                \r"
     ]
    },
    {
     "name": "stdout",
     "output_type": "stream",
     "text": [
      "Time of 10 iteration: \n",
      "22.2327082157135\n",
      "Stage 11\n"
     ]
    },
    {
     "name": "stderr",
     "output_type": "stream",
     "text": [
      "                                                                                \r"
     ]
    },
    {
     "name": "stdout",
     "output_type": "stream",
     "text": [
      "Time of 11 iteration: \n",
      "24.335489749908447\n",
      "Stage 12\n"
     ]
    },
    {
     "name": "stderr",
     "output_type": "stream",
     "text": [
      "\r\n",
      "[Stage 56920:>                                                      (0 + 4) / 4]\r\n",
      "\r\n",
      "                                                                                \r"
     ]
    },
    {
     "name": "stdout",
     "output_type": "stream",
     "text": [
      "Time of 12 iteration: \n",
      "21.071442365646362\n",
      "Stage 13\n"
     ]
    },
    {
     "name": "stderr",
     "output_type": "stream",
     "text": [
      "                                                                                \r"
     ]
    },
    {
     "name": "stdout",
     "output_type": "stream",
     "text": [
      "Time of 13 iteration: \n",
      "21.368469715118408\n",
      "Stage 14\n"
     ]
    },
    {
     "name": "stderr",
     "output_type": "stream",
     "text": [
      "\r\n",
      "[Stage 57066:===========================>                           (2 + 2) / 4]\r\n",
      "\r\n",
      "                                                                                \r"
     ]
    },
    {
     "name": "stdout",
     "output_type": "stream",
     "text": [
      "Time of 14 iteration: \n",
      "21.38007164001465\n",
      "Stage 15\n",
      "Time of 15 iteration: \n",
      "16.827962160110474\n",
      "Stage 16\n",
      "Time of 16 iteration: \n",
      "15.753121137619019\n",
      "Stage 17\n"
     ]
    },
    {
     "name": "stderr",
     "output_type": "stream",
     "text": [
      "                                                                                \r"
     ]
    },
    {
     "name": "stdout",
     "output_type": "stream",
     "text": [
      "Time of 17 iteration: \n",
      "16.220064401626587\n",
      "Stage 18\n"
     ]
    },
    {
     "name": "stderr",
     "output_type": "stream",
     "text": [
      "                                                                                \r"
     ]
    },
    {
     "name": "stdout",
     "output_type": "stream",
     "text": [
      "Time of 18 iteration: \n",
      "16.46129035949707\n",
      "Stage 19\n"
     ]
    },
    {
     "name": "stderr",
     "output_type": "stream",
     "text": [
      "                                                                                \r"
     ]
    },
    {
     "name": "stdout",
     "output_type": "stream",
     "text": [
      "Time of 19 iteration: \n",
      "16.33637833595276\n",
      "Stage 20\n",
      "Time of 20 iteration: \n",
      "16.500011682510376\n",
      "Stage 21\n",
      "Time of 21 iteration: \n",
      "16.723496913909912\n",
      "Stage 22\n",
      "Time of 22 iteration: \n",
      "17.008206844329834\n",
      "Stage 23\n"
     ]
    },
    {
     "name": "stderr",
     "output_type": "stream",
     "text": [
      "                                                                                \r"
     ]
    },
    {
     "name": "stdout",
     "output_type": "stream",
     "text": [
      "Time of 23 iteration: \n",
      "20.28375244140625\n",
      "Stage 24\n"
     ]
    },
    {
     "name": "stderr",
     "output_type": "stream",
     "text": [
      "                                                                                \r"
     ]
    },
    {
     "name": "stdout",
     "output_type": "stream",
     "text": [
      "Time of 24 iteration: \n",
      "24.62509036064148\n",
      "Stage 25\n"
     ]
    },
    {
     "name": "stderr",
     "output_type": "stream",
     "text": [
      "                                                                                \r"
     ]
    },
    {
     "name": "stdout",
     "output_type": "stream",
     "text": [
      "Time of 25 iteration: \n",
      "23.077800035476685\n",
      "Stage 26\n"
     ]
    },
    {
     "name": "stderr",
     "output_type": "stream",
     "text": [
      "                                                                                \r"
     ]
    },
    {
     "name": "stdout",
     "output_type": "stream",
     "text": [
      "Time of 26 iteration: \n",
      "23.95727252960205\n",
      "Stage 27\n"
     ]
    },
    {
     "name": "stderr",
     "output_type": "stream",
     "text": [
      "                                                                                \r"
     ]
    },
    {
     "name": "stdout",
     "output_type": "stream",
     "text": [
      "Time of 27 iteration: \n",
      "22.60880160331726\n",
      "Stage 28\n"
     ]
    },
    {
     "name": "stderr",
     "output_type": "stream",
     "text": [
      "                                                                                \r"
     ]
    },
    {
     "name": "stdout",
     "output_type": "stream",
     "text": [
      "Time of 28 iteration: \n",
      "19.67655348777771\n",
      "Stage 29\n",
      "Time of 29 iteration: \n",
      "18.49663233757019\n"
     ]
    },
    {
     "name": "stderr",
     "output_type": "stream",
     "text": [
      "                                                                                \r"
     ]
    },
    {
     "name": "stdout",
     "output_type": "stream",
     "text": [
      "Current alpha : [0.1, 0.8, 0.1]\n",
      "Stage 0\n"
     ]
    },
    {
     "name": "stderr",
     "output_type": "stream",
     "text": [
      "                                                                                \r"
     ]
    },
    {
     "name": "stdout",
     "output_type": "stream",
     "text": [
      "Time of 0 iteration: \n",
      "14.58672308921814\n",
      "Stage 1\n",
      "Time of 1 iteration: \n",
      "15.194237470626831\n",
      "Stage 2\n",
      "Time of 2 iteration: \n",
      "15.088016986846924\n",
      "Stage 3\n",
      "Time of 3 iteration: \n",
      "15.773587226867676\n",
      "Stage 4\n",
      "Time of 4 iteration: \n",
      "15.695665121078491\n",
      "Stage 5\n",
      "Time of 5 iteration: \n",
      "15.715095281600952\n",
      "Stage 6\n",
      "Time of 6 iteration: \n",
      "15.55260705947876\n",
      "Stage 7\n",
      "Time of 7 iteration: \n",
      "15.67329454421997\n",
      "Stage 8\n",
      "Time of 8 iteration: \n",
      "16.251097917556763\n",
      "Stage 9\n",
      "Time of 9 iteration: \n",
      "23.28905487060547\n",
      "Stage 10\n",
      "Time of 10 iteration: \n",
      "15.807974338531494\n",
      "Stage 11\n"
     ]
    },
    {
     "name": "stderr",
     "output_type": "stream",
     "text": [
      "                                                                                \r"
     ]
    },
    {
     "name": "stdout",
     "output_type": "stream",
     "text": [
      "Time of 11 iteration: \n",
      "15.624633312225342\n",
      "Stage 12\n",
      "Time of 12 iteration: \n",
      "15.622756242752075\n",
      "Stage 13\n"
     ]
    },
    {
     "name": "stderr",
     "output_type": "stream",
     "text": [
      "                                                                                \r"
     ]
    },
    {
     "name": "stdout",
     "output_type": "stream",
     "text": [
      "Time of 13 iteration: \n",
      "15.823455810546875\n",
      "Stage 14\n"
     ]
    },
    {
     "name": "stderr",
     "output_type": "stream",
     "text": [
      "                                                                                \r"
     ]
    },
    {
     "name": "stdout",
     "output_type": "stream",
     "text": [
      "Time of 14 iteration: \n",
      "15.844547033309937\n",
      "Stage 15\n",
      "Time of 15 iteration: \n",
      "15.749779462814331\n",
      "Stage 16\n",
      "Time of 16 iteration: \n",
      "15.901532411575317\n",
      "Stage 17\n",
      "Time of 17 iteration: \n",
      "15.940655708312988\n",
      "Stage 18\n",
      "Time of 18 iteration: \n",
      "16.480363130569458\n",
      "Stage 19\n"
     ]
    },
    {
     "name": "stderr",
     "output_type": "stream",
     "text": [
      "                                                                                \r"
     ]
    },
    {
     "name": "stdout",
     "output_type": "stream",
     "text": [
      "Time of 19 iteration: \n",
      "16.356771230697632\n",
      "Stage 20\n"
     ]
    },
    {
     "name": "stderr",
     "output_type": "stream",
     "text": [
      "                                                                                \r"
     ]
    },
    {
     "name": "stdout",
     "output_type": "stream",
     "text": [
      "Time of 20 iteration: \n",
      "16.23099112510681\n",
      "Stage 21\n",
      "Time of 21 iteration: \n",
      "16.350988388061523\n",
      "Stage 22\n"
     ]
    },
    {
     "name": "stderr",
     "output_type": "stream",
     "text": [
      "                                                                                \r"
     ]
    },
    {
     "name": "stdout",
     "output_type": "stream",
     "text": [
      "Time of 22 iteration: \n",
      "16.940730094909668\n",
      "Stage 23\n",
      "Time of 23 iteration: \n",
      "16.802202701568604\n",
      "Stage 24\n"
     ]
    },
    {
     "name": "stderr",
     "output_type": "stream",
     "text": [
      "                                                                                \r"
     ]
    },
    {
     "name": "stdout",
     "output_type": "stream",
     "text": [
      "Time of 24 iteration: \n",
      "17.08767056465149\n",
      "Stage 25\n",
      "Time of 25 iteration: \n",
      "17.528875827789307\n",
      "Stage 26\n"
     ]
    },
    {
     "name": "stderr",
     "output_type": "stream",
     "text": [
      "                                                                                \r"
     ]
    },
    {
     "name": "stdout",
     "output_type": "stream",
     "text": [
      "Time of 26 iteration: \n",
      "17.12115478515625\n",
      "Stage 27\n"
     ]
    },
    {
     "name": "stderr",
     "output_type": "stream",
     "text": [
      "                                                                                \r"
     ]
    },
    {
     "name": "stdout",
     "output_type": "stream",
     "text": [
      "Time of 27 iteration: \n",
      "16.921069622039795\n",
      "Stage 28\n"
     ]
    },
    {
     "name": "stderr",
     "output_type": "stream",
     "text": [
      "                                                                                \r"
     ]
    },
    {
     "name": "stdout",
     "output_type": "stream",
     "text": [
      "Time of 28 iteration: \n",
      "17.083868503570557\n",
      "Stage 29\n"
     ]
    },
    {
     "name": "stderr",
     "output_type": "stream",
     "text": [
      "                                                                                \r"
     ]
    },
    {
     "name": "stdout",
     "output_type": "stream",
     "text": [
      "Time of 29 iteration: \n",
      "17.238033056259155\n"
     ]
    },
    {
     "name": "stderr",
     "output_type": "stream",
     "text": [
      "                                                                                \r"
     ]
    },
    {
     "name": "stdout",
     "output_type": "stream",
     "text": [
      "Current alpha : [0.1, 0.9, 0.0]\n",
      "Stage 0\n",
      "Time of 0 iteration: \n",
      "14.48232388496399\n",
      "Stage 1\n",
      "Time of 1 iteration: \n",
      "15.456112146377563\n",
      "Stage 2\n",
      "Time of 2 iteration: \n",
      "15.953822612762451\n",
      "Stage 3\n",
      "Time of 3 iteration: \n",
      "15.69018816947937\n",
      "Stage 4\n",
      "Time of 4 iteration: \n",
      "15.242207527160645\n",
      "Stage 5\n",
      "Time of 5 iteration: \n",
      "15.985020399093628\n",
      "Stage 6\n",
      "Time of 6 iteration: \n",
      "15.654170989990234\n",
      "Stage 7\n",
      "Time of 7 iteration: \n",
      "16.186176538467407\n",
      "Stage 8\n"
     ]
    },
    {
     "name": "stderr",
     "output_type": "stream",
     "text": [
      "                                                                                \r"
     ]
    },
    {
     "name": "stdout",
     "output_type": "stream",
     "text": [
      "Time of 8 iteration: \n",
      "16.21369743347168\n",
      "Stage 9\n"
     ]
    },
    {
     "name": "stderr",
     "output_type": "stream",
     "text": [
      "                                                                                \r"
     ]
    },
    {
     "name": "stdout",
     "output_type": "stream",
     "text": [
      "Time of 9 iteration: \n",
      "16.18915033340454\n",
      "Stage 10\n",
      "Time of 10 iteration: \n",
      "16.28777027130127\n",
      "Stage 11\n",
      "Time of 11 iteration: \n",
      "16.872702598571777\n",
      "Stage 12\n"
     ]
    },
    {
     "name": "stderr",
     "output_type": "stream",
     "text": [
      "                                                                                \r"
     ]
    },
    {
     "name": "stdout",
     "output_type": "stream",
     "text": [
      "Time of 12 iteration: \n",
      "17.162042379379272\n",
      "Stage 13\n"
     ]
    },
    {
     "name": "stderr",
     "output_type": "stream",
     "text": [
      "                                                                                \r"
     ]
    },
    {
     "name": "stdout",
     "output_type": "stream",
     "text": [
      "Time of 13 iteration: \n",
      "16.20544719696045\n",
      "Stage 14\n",
      "Time of 14 iteration: \n",
      "15.95321536064148\n",
      "Stage 15\n",
      "Time of 15 iteration: \n",
      "16.335021257400513\n",
      "Stage 16\n",
      "Time of 16 iteration: \n",
      "15.721218347549438\n",
      "Stage 17\n"
     ]
    },
    {
     "name": "stderr",
     "output_type": "stream",
     "text": [
      "                                                                                \r"
     ]
    },
    {
     "name": "stdout",
     "output_type": "stream",
     "text": [
      "Time of 17 iteration: \n",
      "17.04368543624878\n",
      "Stage 18\n",
      "Time of 18 iteration: \n",
      "16.027491569519043\n",
      "Stage 19\n"
     ]
    },
    {
     "name": "stderr",
     "output_type": "stream",
     "text": [
      "                                                                                \r"
     ]
    },
    {
     "name": "stdout",
     "output_type": "stream",
     "text": [
      "Time of 19 iteration: \n",
      "16.035459995269775\n",
      "Stage 20\n",
      "Time of 20 iteration: \n",
      "16.867908716201782\n",
      "Stage 21\n",
      "Time of 21 iteration: \n",
      "17.154097080230713\n",
      "Stage 22\n"
     ]
    },
    {
     "name": "stderr",
     "output_type": "stream",
     "text": [
      "                                                                                \r"
     ]
    },
    {
     "name": "stdout",
     "output_type": "stream",
     "text": [
      "Time of 22 iteration: \n",
      "17.347728967666626\n",
      "Stage 23\n"
     ]
    },
    {
     "name": "stderr",
     "output_type": "stream",
     "text": [
      "                                                                                \r"
     ]
    },
    {
     "name": "stdout",
     "output_type": "stream",
     "text": [
      "Time of 23 iteration: \n",
      "17.55893874168396\n",
      "Stage 24\n"
     ]
    },
    {
     "name": "stderr",
     "output_type": "stream",
     "text": [
      "                                                                                \r"
     ]
    },
    {
     "name": "stdout",
     "output_type": "stream",
     "text": [
      "Time of 24 iteration: \n",
      "17.162774801254272\n",
      "Stage 25\n"
     ]
    },
    {
     "name": "stderr",
     "output_type": "stream",
     "text": [
      "                                                                                \r"
     ]
    },
    {
     "name": "stdout",
     "output_type": "stream",
     "text": [
      "Time of 25 iteration: \n",
      "17.71833610534668\n",
      "Stage 26\n",
      "Time of 26 iteration: \n",
      "17.773549795150757\n",
      "Stage 27\n"
     ]
    },
    {
     "name": "stderr",
     "output_type": "stream",
     "text": [
      "                                                                                \r"
     ]
    },
    {
     "name": "stdout",
     "output_type": "stream",
     "text": [
      "Time of 27 iteration: \n",
      "17.454500675201416\n",
      "Stage 28\n",
      "Time of 28 iteration: \n",
      "17.3193519115448\n",
      "Stage 29\n",
      "Time of 29 iteration: \n",
      "17.94058084487915\n"
     ]
    },
    {
     "name": "stderr",
     "output_type": "stream",
     "text": [
      "                                                                                \r"
     ]
    },
    {
     "name": "stdout",
     "output_type": "stream",
     "text": [
      "Current alpha : [0.2, 0.0, 0.8]\n",
      "Stage 0\n",
      "Time of 0 iteration: \n",
      "14.288781881332397\n",
      "Stage 1\n"
     ]
    },
    {
     "name": "stderr",
     "output_type": "stream",
     "text": [
      "\r\n",
      "[Stage 63284:=========================================>             (3 + 1) / 4]\r\n",
      "\r\n",
      "                                                                                \r"
     ]
    },
    {
     "name": "stdout",
     "output_type": "stream",
     "text": [
      "Time of 1 iteration: \n",
      "15.27135443687439\n",
      "Stage 2\n",
      "Time of 2 iteration: \n",
      "15.151820182800293\n",
      "Stage 3\n",
      "Time of 3 iteration: \n",
      "15.229762554168701\n",
      "Stage 4\n"
     ]
    },
    {
     "name": "stderr",
     "output_type": "stream",
     "text": [
      "                                                                                \r"
     ]
    },
    {
     "name": "stdout",
     "output_type": "stream",
     "text": [
      "Time of 4 iteration: \n",
      "15.858803272247314\n",
      "Stage 5\n",
      "Time of 5 iteration: \n",
      "15.445675373077393\n",
      "Stage 6\n",
      "Time of 6 iteration: \n",
      "15.341803312301636\n",
      "Stage 7\n",
      "Time of 7 iteration: \n",
      "15.421700954437256\n",
      "Stage 8\n",
      "Time of 8 iteration: \n",
      "15.503172397613525\n",
      "Stage 9\n"
     ]
    },
    {
     "name": "stderr",
     "output_type": "stream",
     "text": [
      "                                                                                \r"
     ]
    },
    {
     "name": "stdout",
     "output_type": "stream",
     "text": [
      "Time of 9 iteration: \n",
      "15.862194776535034\n",
      "Stage 10\n",
      "Time of 10 iteration: \n",
      "15.932801485061646\n",
      "Stage 11\n"
     ]
    },
    {
     "name": "stderr",
     "output_type": "stream",
     "text": [
      "                                                                                \r"
     ]
    },
    {
     "name": "stdout",
     "output_type": "stream",
     "text": [
      "Time of 11 iteration: \n",
      "16.77675437927246\n",
      "Stage 12\n"
     ]
    },
    {
     "name": "stderr",
     "output_type": "stream",
     "text": [
      "                                                                                \r"
     ]
    },
    {
     "name": "stdout",
     "output_type": "stream",
     "text": [
      "Time of 12 iteration: \n",
      "16.722344398498535\n",
      "Stage 13\n",
      "Time of 13 iteration: \n",
      "16.465478897094727\n",
      "Stage 14\n"
     ]
    },
    {
     "name": "stderr",
     "output_type": "stream",
     "text": [
      "                                                                                \r"
     ]
    },
    {
     "name": "stdout",
     "output_type": "stream",
     "text": [
      "Time of 14 iteration: \n",
      "16.771485090255737\n",
      "Stage 15\n",
      "Time of 15 iteration: \n",
      "16.52768898010254\n",
      "Stage 16\n"
     ]
    },
    {
     "name": "stderr",
     "output_type": "stream",
     "text": [
      "                                                                                \r"
     ]
    },
    {
     "name": "stdout",
     "output_type": "stream",
     "text": [
      "Time of 16 iteration: \n",
      "16.931438446044922\n",
      "Stage 17\n"
     ]
    },
    {
     "name": "stderr",
     "output_type": "stream",
     "text": [
      "                                                                                \r"
     ]
    },
    {
     "name": "stdout",
     "output_type": "stream",
     "text": [
      "Time of 17 iteration: \n",
      "17.12627077102661\n",
      "Stage 18\n"
     ]
    },
    {
     "name": "stderr",
     "output_type": "stream",
     "text": [
      "                                                                                \r"
     ]
    },
    {
     "name": "stdout",
     "output_type": "stream",
     "text": [
      "Time of 18 iteration: \n",
      "16.29390811920166\n",
      "Stage 19\n"
     ]
    },
    {
     "name": "stderr",
     "output_type": "stream",
     "text": [
      "                                                                                \r"
     ]
    },
    {
     "name": "stdout",
     "output_type": "stream",
     "text": [
      "Time of 19 iteration: \n",
      "16.69061589241028\n",
      "Stage 20\n",
      "Time of 20 iteration: \n",
      "17.072561264038086\n",
      "Stage 21\n"
     ]
    },
    {
     "name": "stderr",
     "output_type": "stream",
     "text": [
      "                                                                                \r"
     ]
    },
    {
     "name": "stdout",
     "output_type": "stream",
     "text": [
      "Time of 21 iteration: \n",
      "17.69700837135315\n",
      "Stage 22\n"
     ]
    },
    {
     "name": "stderr",
     "output_type": "stream",
     "text": [
      "                                                                                \r"
     ]
    },
    {
     "name": "stdout",
     "output_type": "stream",
     "text": [
      "Time of 22 iteration: \n",
      "17.260061025619507\n",
      "Stage 23\n"
     ]
    },
    {
     "name": "stderr",
     "output_type": "stream",
     "text": [
      "\r\n",
      "[Stage 64890:===========================>                           (2 + 2) / 4]\r\n",
      "\r\n",
      "                                                                                \r"
     ]
    },
    {
     "name": "stdout",
     "output_type": "stream",
     "text": [
      "Time of 23 iteration: \n",
      "17.426916122436523\n",
      "Stage 24\n",
      "Time of 24 iteration: \n",
      "17.221156120300293\n",
      "Stage 25\n",
      "Time of 25 iteration: \n",
      "16.96210551261902\n",
      "Stage 26\n",
      "Time of 26 iteration: \n",
      "18.313095092773438\n",
      "Stage 27\n"
     ]
    },
    {
     "name": "stderr",
     "output_type": "stream",
     "text": [
      "                                                                                \r"
     ]
    },
    {
     "name": "stdout",
     "output_type": "stream",
     "text": [
      "Time of 27 iteration: \n",
      "16.30526852607727\n",
      "Stage 28\n"
     ]
    },
    {
     "name": "stderr",
     "output_type": "stream",
     "text": [
      "\r\n",
      "[Stage 65255:>                                                      (0 + 4) / 4]\r\n",
      "\r\n",
      "                                                                                \r"
     ]
    },
    {
     "name": "stdout",
     "output_type": "stream",
     "text": [
      "Time of 28 iteration: \n",
      "17.425875663757324\n",
      "Stage 29\n"
     ]
    },
    {
     "name": "stderr",
     "output_type": "stream",
     "text": [
      "                                                                                \r"
     ]
    },
    {
     "name": "stdout",
     "output_type": "stream",
     "text": [
      "Time of 29 iteration: \n",
      "17.784296989440918\n"
     ]
    },
    {
     "name": "stderr",
     "output_type": "stream",
     "text": [
      "                                                                                \r"
     ]
    },
    {
     "name": "stdout",
     "output_type": "stream",
     "text": [
      "Current alpha : [0.2, 0.1, 0.7]\n",
      "Stage 0\n",
      "Time of 0 iteration: \n",
      "14.5452880859375\n",
      "Stage 1\n"
     ]
    },
    {
     "name": "stderr",
     "output_type": "stream",
     "text": [
      "                                                                                \r"
     ]
    },
    {
     "name": "stdout",
     "output_type": "stream",
     "text": [
      "Time of 1 iteration: \n",
      "15.049424409866333\n",
      "Stage 2\n",
      "Time of 2 iteration: \n",
      "15.20441198348999\n",
      "Stage 3\n",
      "Time of 3 iteration: \n",
      "16.35638403892517\n",
      "Stage 4\n",
      "Time of 4 iteration: \n",
      "14.959129095077515\n",
      "Stage 5\n",
      "Time of 5 iteration: \n",
      "15.67970061302185\n",
      "Stage 6\n"
     ]
    },
    {
     "name": "stderr",
     "output_type": "stream",
     "text": [
      "                                                                                \r"
     ]
    },
    {
     "name": "stdout",
     "output_type": "stream",
     "text": [
      "Time of 6 iteration: \n",
      "15.611533880233765\n",
      "Stage 7\n"
     ]
    },
    {
     "name": "stderr",
     "output_type": "stream",
     "text": [
      "                                                                                \r"
     ]
    },
    {
     "name": "stdout",
     "output_type": "stream",
     "text": [
      "Time of 7 iteration: \n",
      "15.087567806243896\n",
      "Stage 8\n",
      "Time of 8 iteration: \n",
      "15.86653757095337\n",
      "Stage 9\n",
      "Time of 9 iteration: \n",
      "15.53408169746399\n",
      "Stage 10\n",
      "Time of 10 iteration: \n",
      "16.200008630752563\n",
      "Stage 11\n",
      "Time of 11 iteration: \n",
      "16.212682962417603\n",
      "Stage 12\n",
      "Time of 12 iteration: \n",
      "16.734288215637207\n",
      "Stage 13\n",
      "Time of 13 iteration: \n",
      "16.30996823310852\n",
      "Stage 14\n",
      "Time of 14 iteration: \n",
      "16.577147722244263\n",
      "Stage 15\n"
     ]
    },
    {
     "name": "stderr",
     "output_type": "stream",
     "text": [
      "                                                                                \r"
     ]
    },
    {
     "name": "stdout",
     "output_type": "stream",
     "text": [
      "Time of 15 iteration: \n",
      "16.735753774642944\n",
      "Stage 16\n",
      "Time of 16 iteration: \n",
      "16.462326288223267\n",
      "Stage 17\n"
     ]
    },
    {
     "name": "stderr",
     "output_type": "stream",
     "text": [
      "                                                                                \r"
     ]
    },
    {
     "name": "stdout",
     "output_type": "stream",
     "text": [
      "Time of 17 iteration: \n",
      "16.961161375045776\n",
      "Stage 18\n"
     ]
    },
    {
     "name": "stderr",
     "output_type": "stream",
     "text": [
      "                                                                                \r"
     ]
    },
    {
     "name": "stdout",
     "output_type": "stream",
     "text": [
      "Time of 18 iteration: \n",
      "16.855287551879883\n",
      "Stage 19\n",
      "Time of 19 iteration: \n",
      "16.359514713287354\n",
      "Stage 20\n"
     ]
    },
    {
     "name": "stderr",
     "output_type": "stream",
     "text": [
      "                                                                                \r"
     ]
    },
    {
     "name": "stdout",
     "output_type": "stream",
     "text": [
      "Time of 20 iteration: \n",
      "17.216720581054688\n",
      "Stage 21\n"
     ]
    },
    {
     "name": "stderr",
     "output_type": "stream",
     "text": [
      "                                                                                \r"
     ]
    },
    {
     "name": "stdout",
     "output_type": "stream",
     "text": [
      "Time of 21 iteration: \n",
      "17.222485780715942\n",
      "Stage 22\n",
      "Time of 22 iteration: \n",
      "17.204551935195923\n",
      "Stage 23\n"
     ]
    },
    {
     "name": "stderr",
     "output_type": "stream",
     "text": [
      "                                                                                \r"
     ]
    },
    {
     "name": "stdout",
     "output_type": "stream",
     "text": [
      "Time of 23 iteration: \n",
      "17.11947774887085\n",
      "Stage 24\n"
     ]
    },
    {
     "name": "stderr",
     "output_type": "stream",
     "text": [
      "                                                                                \r"
     ]
    },
    {
     "name": "stdout",
     "output_type": "stream",
     "text": [
      "Time of 24 iteration: \n",
      "17.604828119277954\n",
      "Stage 25\n"
     ]
    },
    {
     "name": "stderr",
     "output_type": "stream",
     "text": [
      "\r\n",
      "[Stage 67425:=========================================>             (3 + 1) / 4]\r\n",
      "\r\n",
      "                                                                                \r"
     ]
    },
    {
     "name": "stdout",
     "output_type": "stream",
     "text": [
      "Time of 25 iteration: \n",
      "17.817246675491333\n",
      "Stage 26\n"
     ]
    },
    {
     "name": "stderr",
     "output_type": "stream",
     "text": [
      "\r\n",
      "[Stage 67498:>                                                      (0 + 4) / 4]\r\n",
      "\r\n",
      "                                                                                \r"
     ]
    },
    {
     "name": "stdout",
     "output_type": "stream",
     "text": [
      "Time of 26 iteration: \n",
      "17.807359218597412\n",
      "Stage 27\n"
     ]
    },
    {
     "name": "stderr",
     "output_type": "stream",
     "text": [
      "                                                                                \r"
     ]
    },
    {
     "name": "stdout",
     "output_type": "stream",
     "text": [
      "Time of 27 iteration: \n",
      "18.203028440475464\n",
      "Stage 28\n"
     ]
    },
    {
     "name": "stderr",
     "output_type": "stream",
     "text": [
      "\r\n",
      "[Stage 67644:=============>                                         (1 + 3) / 4]\r\n",
      "\r\n",
      "                                                                                \r"
     ]
    },
    {
     "name": "stdout",
     "output_type": "stream",
     "text": [
      "Time of 28 iteration: \n",
      "17.420378923416138\n",
      "Stage 29\n",
      "Time of 29 iteration: \n",
      "24.608001232147217\n"
     ]
    },
    {
     "name": "stderr",
     "output_type": "stream",
     "text": [
      "                                                                                \r"
     ]
    },
    {
     "name": "stdout",
     "output_type": "stream",
     "text": [
      "Current alpha : [0.2, 0.2, 0.6]\n",
      "Stage 0\n",
      "Time of 0 iteration: \n",
      "14.89101767539978\n",
      "Stage 1\n",
      "Time of 1 iteration: \n",
      "15.238074779510498\n",
      "Stage 2\n",
      "Time of 2 iteration: \n",
      "15.27768063545227\n",
      "Stage 3\n",
      "Time of 3 iteration: \n",
      "15.528130769729614\n",
      "Stage 4\n",
      "Time of 4 iteration: \n",
      "15.691037654876709\n",
      "Stage 5\n"
     ]
    },
    {
     "name": "stderr",
     "output_type": "stream",
     "text": [
      "                                                                                \r"
     ]
    },
    {
     "name": "stdout",
     "output_type": "stream",
     "text": [
      "Time of 5 iteration: \n",
      "15.899569749832153\n",
      "Stage 6\n",
      "Time of 6 iteration: \n",
      "15.675868034362793\n",
      "Stage 7\n",
      "Time of 7 iteration: \n",
      "15.771290063858032\n",
      "Stage 8\n",
      "Time of 8 iteration: \n",
      "15.996110677719116\n",
      "Stage 9\n"
     ]
    },
    {
     "name": "stderr",
     "output_type": "stream",
     "text": [
      "                                                                                \r"
     ]
    },
    {
     "name": "stdout",
     "output_type": "stream",
     "text": [
      "Time of 9 iteration: \n",
      "15.544984817504883\n",
      "Stage 10\n",
      "Time of 10 iteration: \n",
      "15.758728742599487\n",
      "Stage 11\n"
     ]
    },
    {
     "name": "stderr",
     "output_type": "stream",
     "text": [
      "                                                                                \r"
     ]
    },
    {
     "name": "stdout",
     "output_type": "stream",
     "text": [
      "Time of 11 iteration: \n",
      "15.978546619415283\n",
      "Stage 12\n",
      "Time of 12 iteration: \n",
      "16.4356050491333\n",
      "Stage 13\n"
     ]
    },
    {
     "name": "stderr",
     "output_type": "stream",
     "text": [
      "                                                                                \r"
     ]
    },
    {
     "name": "stdout",
     "output_type": "stream",
     "text": [
      "Time of 13 iteration: \n",
      "16.053890705108643\n",
      "Stage 14\n"
     ]
    },
    {
     "name": "stderr",
     "output_type": "stream",
     "text": [
      "                                                                                \r"
     ]
    },
    {
     "name": "stdout",
     "output_type": "stream",
     "text": [
      "Time of 14 iteration: \n",
      "16.16750717163086\n",
      "Stage 15\n",
      "Time of 15 iteration: \n",
      "16.949215412139893\n",
      "Stage 16\n"
     ]
    },
    {
     "name": "stderr",
     "output_type": "stream",
     "text": [
      "                                                                                \r"
     ]
    },
    {
     "name": "stdout",
     "output_type": "stream",
     "text": [
      "Time of 16 iteration: \n",
      "16.461821794509888\n",
      "Stage 17\n",
      "Time of 17 iteration: \n",
      "16.89497661590576\n",
      "Stage 18\n",
      "Time of 18 iteration: \n",
      "16.749172687530518\n",
      "Stage 19\n"
     ]
    },
    {
     "name": "stderr",
     "output_type": "stream",
     "text": [
      "                                                                                \r"
     ]
    },
    {
     "name": "stdout",
     "output_type": "stream",
     "text": [
      "Time of 19 iteration: \n",
      "17.335489749908447\n",
      "Stage 20\n"
     ]
    },
    {
     "name": "stderr",
     "output_type": "stream",
     "text": [
      "                                                                                \r"
     ]
    },
    {
     "name": "stdout",
     "output_type": "stream",
     "text": [
      "Time of 20 iteration: \n",
      "17.676517248153687\n",
      "Stage 21\n"
     ]
    },
    {
     "name": "stderr",
     "output_type": "stream",
     "text": [
      "\r\n",
      "[Stage 69524:===========================>                           (2 + 2) / 4]\r\n",
      "\r\n",
      "                                                                                \r"
     ]
    },
    {
     "name": "stdout",
     "output_type": "stream",
     "text": [
      "Time of 21 iteration: \n",
      "17.735315322875977\n",
      "Stage 22\n"
     ]
    },
    {
     "name": "stderr",
     "output_type": "stream",
     "text": [
      "                                                                                \r"
     ]
    },
    {
     "name": "stdout",
     "output_type": "stream",
     "text": [
      "Time of 22 iteration: \n",
      "17.801949501037598\n",
      "Stage 23\n",
      "Time of 23 iteration: \n",
      "17.476786136627197\n",
      "Stage 24\n",
      "Time of 24 iteration: \n",
      "17.59593892097473\n",
      "Stage 25\n"
     ]
    },
    {
     "name": "stderr",
     "output_type": "stream",
     "text": [
      "                                                                                \r"
     ]
    },
    {
     "name": "stdout",
     "output_type": "stream",
     "text": [
      "Time of 25 iteration: \n",
      "18.028193950653076\n",
      "Stage 26\n"
     ]
    },
    {
     "name": "stderr",
     "output_type": "stream",
     "text": [
      "                                                                                \r"
     ]
    },
    {
     "name": "stdout",
     "output_type": "stream",
     "text": [
      "Time of 26 iteration: \n",
      "18.397374868392944\n",
      "Stage 27\n"
     ]
    },
    {
     "name": "stderr",
     "output_type": "stream",
     "text": [
      "                                                                                \r"
     ]
    },
    {
     "name": "stdout",
     "output_type": "stream",
     "text": [
      "Time of 27 iteration: \n",
      "18.224088191986084\n",
      "Stage 28\n"
     ]
    },
    {
     "name": "stderr",
     "output_type": "stream",
     "text": [
      "                                                                                \r"
     ]
    },
    {
     "name": "stdout",
     "output_type": "stream",
     "text": [
      "Time of 28 iteration: \n",
      "17.956127166748047\n",
      "Stage 29\n"
     ]
    },
    {
     "name": "stderr",
     "output_type": "stream",
     "text": [
      "                                                                                \r"
     ]
    },
    {
     "name": "stdout",
     "output_type": "stream",
     "text": [
      "Time of 29 iteration: \n",
      "17.95148015022278\n"
     ]
    },
    {
     "name": "stderr",
     "output_type": "stream",
     "text": [
      "                                                                                \r"
     ]
    },
    {
     "name": "stdout",
     "output_type": "stream",
     "text": [
      "Current alpha : [0.2, 0.3, 0.5]\n",
      "Stage 0\n",
      "Time of 0 iteration: \n",
      "14.355591773986816\n",
      "Stage 1\n",
      "Time of 1 iteration: \n",
      "14.646860837936401\n",
      "Stage 2\n",
      "Time of 2 iteration: \n",
      "16.130410194396973\n",
      "Stage 3\n",
      "Time of 3 iteration: \n",
      "15.0656418800354\n",
      "Stage 4\n"
     ]
    },
    {
     "name": "stderr",
     "output_type": "stream",
     "text": [
      "                                                                                \r"
     ]
    },
    {
     "name": "stdout",
     "output_type": "stream",
     "text": [
      "Time of 4 iteration: \n",
      "15.707719326019287\n",
      "Stage 5\n",
      "Time of 5 iteration: \n",
      "15.64918828010559\n",
      "Stage 6\n"
     ]
    },
    {
     "name": "stderr",
     "output_type": "stream",
     "text": [
      "                                                                                \r"
     ]
    },
    {
     "name": "stdout",
     "output_type": "stream",
     "text": [
      "Time of 6 iteration: \n",
      "15.675359964370728\n",
      "Stage 7\n"
     ]
    },
    {
     "name": "stderr",
     "output_type": "stream",
     "text": [
      "                                                                                \r"
     ]
    },
    {
     "name": "stdout",
     "output_type": "stream",
     "text": [
      "Time of 7 iteration: \n",
      "16.048086643218994\n",
      "Stage 8\n"
     ]
    },
    {
     "name": "stderr",
     "output_type": "stream",
     "text": [
      "                                                                                \r"
     ]
    },
    {
     "name": "stdout",
     "output_type": "stream",
     "text": [
      "Time of 8 iteration: \n",
      "22.834415197372437\n",
      "Stage 9\n"
     ]
    },
    {
     "name": "stderr",
     "output_type": "stream",
     "text": [
      "                                                                                \r"
     ]
    },
    {
     "name": "stdout",
     "output_type": "stream",
     "text": [
      "Time of 9 iteration: \n",
      "15.818889141082764\n",
      "Stage 10\n",
      "Time of 10 iteration: \n",
      "15.994590044021606\n",
      "Stage 11\n"
     ]
    },
    {
     "name": "stderr",
     "output_type": "stream",
     "text": [
      "                                                                                \r"
     ]
    },
    {
     "name": "stdout",
     "output_type": "stream",
     "text": [
      "Time of 11 iteration: \n",
      "17.431630611419678\n",
      "Stage 12\n"
     ]
    },
    {
     "name": "stderr",
     "output_type": "stream",
     "text": [
      "                                                                                \r"
     ]
    },
    {
     "name": "stdout",
     "output_type": "stream",
     "text": [
      "Time of 12 iteration: \n",
      "22.415602922439575\n",
      "Stage 13\n"
     ]
    },
    {
     "name": "stderr",
     "output_type": "stream",
     "text": [
      "                                                                                \r"
     ]
    },
    {
     "name": "stdout",
     "output_type": "stream",
     "text": [
      "Time of 13 iteration: \n",
      "21.818042993545532\n",
      "Stage 14\n"
     ]
    },
    {
     "name": "stderr",
     "output_type": "stream",
     "text": [
      "                                                                                \r"
     ]
    },
    {
     "name": "stdout",
     "output_type": "stream",
     "text": [
      "Time of 14 iteration: \n",
      "21.78437352180481\n",
      "Stage 15\n",
      "Time of 15 iteration: \n",
      "15.649434089660645\n",
      "Stage 16\n",
      "Time of 16 iteration: \n",
      "15.447070598602295\n",
      "Stage 17\n"
     ]
    },
    {
     "name": "stderr",
     "output_type": "stream",
     "text": [
      "                                                                                \r"
     ]
    },
    {
     "name": "stdout",
     "output_type": "stream",
     "text": [
      "Time of 17 iteration: \n",
      "15.727140665054321\n",
      "Stage 18\n"
     ]
    },
    {
     "name": "stderr",
     "output_type": "stream",
     "text": [
      "                                                                                \r"
     ]
    },
    {
     "name": "stdout",
     "output_type": "stream",
     "text": [
      "Time of 18 iteration: \n",
      "16.433146953582764\n",
      "Stage 19\n",
      "Time of 19 iteration: \n",
      "16.10175657272339\n",
      "Stage 20\n",
      "Time of 20 iteration: \n",
      "17.028989553451538\n",
      "Stage 21\n"
     ]
    },
    {
     "name": "stderr",
     "output_type": "stream",
     "text": [
      "\r\n",
      "[Stage 71911:=========================================>             (3 + 1) / 4]\r\n",
      "\r\n",
      "                                                                                \r"
     ]
    },
    {
     "name": "stdout",
     "output_type": "stream",
     "text": [
      "Time of 21 iteration: \n",
      "16.928484439849854\n",
      "Stage 22\n"
     ]
    },
    {
     "name": "stderr",
     "output_type": "stream",
     "text": [
      "                                                                                \r"
     ]
    },
    {
     "name": "stdout",
     "output_type": "stream",
     "text": [
      "Time of 22 iteration: \n",
      "15.930660486221313\n",
      "Stage 23\n",
      "Time of 23 iteration: \n",
      "16.5770366191864\n",
      "Stage 24\n"
     ]
    },
    {
     "name": "stderr",
     "output_type": "stream",
     "text": [
      "                                                                                \r"
     ]
    },
    {
     "name": "stdout",
     "output_type": "stream",
     "text": [
      "Time of 24 iteration: \n",
      "23.26360774040222\n",
      "Stage 25\n"
     ]
    },
    {
     "name": "stderr",
     "output_type": "stream",
     "text": [
      "                                                                                \r"
     ]
    },
    {
     "name": "stdout",
     "output_type": "stream",
     "text": [
      "Time of 25 iteration: \n",
      "22.71536135673523\n",
      "Stage 26\n"
     ]
    },
    {
     "name": "stderr",
     "output_type": "stream",
     "text": [
      "                                                                                \r"
     ]
    },
    {
     "name": "stdout",
     "output_type": "stream",
     "text": [
      "Time of 26 iteration: \n",
      "24.496387243270874\n",
      "Stage 27\n"
     ]
    },
    {
     "name": "stderr",
     "output_type": "stream",
     "text": [
      "                                                                                \r"
     ]
    },
    {
     "name": "stdout",
     "output_type": "stream",
     "text": [
      "Time of 27 iteration: \n",
      "24.037973880767822\n",
      "Stage 28\n"
     ]
    },
    {
     "name": "stderr",
     "output_type": "stream",
     "text": [
      "                                                                                \r"
     ]
    },
    {
     "name": "stdout",
     "output_type": "stream",
     "text": [
      "Time of 28 iteration: \n",
      "18.761481285095215\n",
      "Stage 29\n",
      "Time of 29 iteration: \n",
      "17.758103132247925\n"
     ]
    },
    {
     "name": "stderr",
     "output_type": "stream",
     "text": [
      "                                                                                \r"
     ]
    },
    {
     "name": "stdout",
     "output_type": "stream",
     "text": [
      "Current alpha : [0.2, 0.4, 0.4]\n",
      "Stage 0\n",
      "Time of 0 iteration: \n",
      "14.082431554794312\n",
      "Stage 1\n",
      "Time of 1 iteration: \n",
      "14.985521078109741\n",
      "Stage 2\n",
      "Time of 2 iteration: \n",
      "14.960940837860107\n",
      "Stage 3\n"
     ]
    },
    {
     "name": "stderr",
     "output_type": "stream",
     "text": [
      "                                                                                \r"
     ]
    },
    {
     "name": "stdout",
     "output_type": "stream",
     "text": [
      "Time of 3 iteration: \n",
      "17.119389057159424\n",
      "Stage 4\n"
     ]
    },
    {
     "name": "stderr",
     "output_type": "stream",
     "text": [
      "                                                                                \r"
     ]
    },
    {
     "name": "stdout",
     "output_type": "stream",
     "text": [
      "Time of 4 iteration: \n",
      "22.68940043449402\n",
      "Stage 5\n"
     ]
    },
    {
     "name": "stderr",
     "output_type": "stream",
     "text": [
      "                                                                                \r"
     ]
    },
    {
     "name": "stdout",
     "output_type": "stream",
     "text": [
      "Time of 5 iteration: \n",
      "19.809337377548218\n",
      "Stage 6\n"
     ]
    },
    {
     "name": "stderr",
     "output_type": "stream",
     "text": [
      "                                                                                \r"
     ]
    },
    {
     "name": "stdout",
     "output_type": "stream",
     "text": [
      "Time of 6 iteration: \n",
      "16.697793006896973\n",
      "Stage 7\n",
      "Time of 7 iteration: \n",
      "15.493058919906616\n",
      "Stage 8\n"
     ]
    },
    {
     "name": "stderr",
     "output_type": "stream",
     "text": [
      "                                                                                \r"
     ]
    },
    {
     "name": "stdout",
     "output_type": "stream",
     "text": [
      "Time of 8 iteration: \n",
      "16.883927822113037\n",
      "Stage 9\n",
      "Time of 9 iteration: \n",
      "15.991945505142212\n",
      "Stage 10\n"
     ]
    },
    {
     "name": "stderr",
     "output_type": "stream",
     "text": [
      "                                                                                \r"
     ]
    },
    {
     "name": "stdout",
     "output_type": "stream",
     "text": [
      "Time of 10 iteration: \n",
      "18.743858814239502\n",
      "Stage 11\n"
     ]
    },
    {
     "name": "stderr",
     "output_type": "stream",
     "text": [
      "                                                                                \r"
     ]
    },
    {
     "name": "stdout",
     "output_type": "stream",
     "text": [
      "Time of 11 iteration: \n",
      "22.304590940475464\n",
      "Stage 12\n"
     ]
    },
    {
     "name": "stderr",
     "output_type": "stream",
     "text": [
      "                                                                                \r"
     ]
    },
    {
     "name": "stdout",
     "output_type": "stream",
     "text": [
      "Time of 12 iteration: \n",
      "23.871132850646973\n",
      "Stage 13\n"
     ]
    },
    {
     "name": "stderr",
     "output_type": "stream",
     "text": [
      "\r\n",
      "[Stage 73716:>                                                      (0 + 4) / 4]\r\n",
      "\r\n",
      "                                                                                \r"
     ]
    },
    {
     "name": "stdout",
     "output_type": "stream",
     "text": [
      "Time of 13 iteration: \n",
      "21.211822509765625\n",
      "Stage 14\n"
     ]
    },
    {
     "name": "stderr",
     "output_type": "stream",
     "text": [
      "\r\n",
      "[Stage 73789:>                                                      (0 + 4) / 4]\r\n",
      "\r\n",
      "                                                                                \r"
     ]
    },
    {
     "name": "stdout",
     "output_type": "stream",
     "text": [
      "Time of 14 iteration: \n",
      "23.646776914596558\n",
      "Stage 15\n"
     ]
    },
    {
     "name": "stderr",
     "output_type": "stream",
     "text": [
      "\r\n",
      "[Stage 73862:>                                                      (0 + 4) / 4]\r\n",
      "\r\n",
      "                                                                                \r"
     ]
    },
    {
     "name": "stdout",
     "output_type": "stream",
     "text": [
      "Time of 15 iteration: \n",
      "21.332984447479248\n",
      "Stage 16\n"
     ]
    },
    {
     "name": "stderr",
     "output_type": "stream",
     "text": [
      "                                                                                \r"
     ]
    },
    {
     "name": "stdout",
     "output_type": "stream",
     "text": [
      "Time of 16 iteration: \n",
      "23.786444425582886\n",
      "Stage 17\n"
     ]
    },
    {
     "name": "stderr",
     "output_type": "stream",
     "text": [
      "                                                                                \r"
     ]
    },
    {
     "name": "stdout",
     "output_type": "stream",
     "text": [
      "Time of 17 iteration: \n",
      "22.066027641296387\n",
      "Stage 18\n"
     ]
    },
    {
     "name": "stderr",
     "output_type": "stream",
     "text": [
      "                                                                                \r"
     ]
    },
    {
     "name": "stdout",
     "output_type": "stream",
     "text": [
      "Time of 18 iteration: \n",
      "21.63706636428833\n",
      "Stage 19\n"
     ]
    },
    {
     "name": "stderr",
     "output_type": "stream",
     "text": [
      "                                                                                \r"
     ]
    },
    {
     "name": "stdout",
     "output_type": "stream",
     "text": [
      "Time of 19 iteration: \n",
      "23.493921756744385\n",
      "Stage 20\n"
     ]
    },
    {
     "name": "stderr",
     "output_type": "stream",
     "text": [
      "                                                                                \r"
     ]
    },
    {
     "name": "stdout",
     "output_type": "stream",
     "text": [
      "Time of 20 iteration: \n",
      "17.236751079559326\n",
      "Stage 21\n"
     ]
    },
    {
     "name": "stderr",
     "output_type": "stream",
     "text": [
      "                                                                                \r"
     ]
    },
    {
     "name": "stdout",
     "output_type": "stream",
     "text": [
      "Time of 21 iteration: \n",
      "17.707512140274048\n",
      "Stage 22\n"
     ]
    },
    {
     "name": "stderr",
     "output_type": "stream",
     "text": [
      "                                                                                \r"
     ]
    },
    {
     "name": "stdout",
     "output_type": "stream",
     "text": [
      "Time of 22 iteration: \n",
      "16.28699541091919\n",
      "Stage 23\n"
     ]
    },
    {
     "name": "stderr",
     "output_type": "stream",
     "text": [
      "                                                                                \r"
     ]
    },
    {
     "name": "stdout",
     "output_type": "stream",
     "text": [
      "Time of 23 iteration: \n",
      "22.528029203414917\n",
      "Stage 24\n",
      "Time of 24 iteration: \n",
      "22.60740351676941\n",
      "Stage 25\n",
      "Time of 25 iteration: \n",
      "16.757771492004395\n",
      "Stage 26\n"
     ]
    },
    {
     "name": "stderr",
     "output_type": "stream",
     "text": [
      "                                                                                \r"
     ]
    },
    {
     "name": "stdout",
     "output_type": "stream",
     "text": [
      "Time of 26 iteration: \n",
      "21.266326904296875\n",
      "Stage 27\n"
     ]
    },
    {
     "name": "stderr",
     "output_type": "stream",
     "text": [
      "                                                                                \r"
     ]
    },
    {
     "name": "stdout",
     "output_type": "stream",
     "text": [
      "Time of 27 iteration: \n",
      "23.926159858703613\n",
      "Stage 28\n"
     ]
    },
    {
     "name": "stderr",
     "output_type": "stream",
     "text": [
      "\r\n",
      "[Stage 74811:>                                                      (0 + 4) / 4]\r\n",
      "\r\n",
      "                                                                                \r"
     ]
    },
    {
     "name": "stdout",
     "output_type": "stream",
     "text": [
      "Time of 28 iteration: \n",
      "24.017589330673218\n",
      "Stage 29\n"
     ]
    },
    {
     "name": "stderr",
     "output_type": "stream",
     "text": [
      "                                                                                \r"
     ]
    },
    {
     "name": "stdout",
     "output_type": "stream",
     "text": [
      "Time of 29 iteration: \n",
      "21.751875162124634\n"
     ]
    }
   ],
   "source": [
    "qco = QualityControlObjective(\n",
    "    userKeyCol='user_id',\n",
    "    itemKeyCol='item_id',\n",
    "    predictionCol='relevance',\n",
    "    labelCol='response',\n",
    "    relevanceCol='relevance',\n",
    "    response_function=pipeline,\n",
    "    replay_metrics={NDCG() : 10, Precision() : 10}\n",
    ")\n",
    "\n",
    "LOG_SCHEMA = st.StructType([\n",
    "    st.StructField('user_id', st.IntegerType()),\n",
    "    st.StructField('item_id', st.IntegerType()),\n",
    "    st.StructField('relevance', st.DoubleType())\n",
    "])\n",
    "\n",
    "empty_log = spark.createDataFrame(\n",
    "    data=spark.sparkContext.emptyRDD(),\n",
    "    schema=LOG_SCHEMA\n",
    ")\n",
    "pred_df_sample = pred_df.sample(0.1)\n",
    "\n",
    "DISC = 10\n",
    "manifold = []\n",
    "for a1 in range(DISC + 1):\n",
    "    for a2 in range(DISC - a1 + 1):\n",
    "        a3 = DISC - a1 - a2\n",
    "\n",
    "        a_sum = a1 + a2 + a3\n",
    "        manifold.append([a1 / a_sum, a2 / a_sum, a3 / a_sum])\n",
    "\n",
    "obj = []\n",
    "items_replay = synth_indexer.transform(items_df_comp).cache()\n",
    "for alphas in manifold:\n",
    "    print(f'Current alpha : {alphas}')\n",
    "\n",
    "    sim.clear_log()\n",
    "    sim.log_filename = f'log_{\"_\".join([str(a) for a in alphas])}.parquet'\n",
    "    resp_func.setWeights(alphas)\n",
    "\n",
    "    for i in range(30):\n",
    "        print(f'Stage {i}')\n",
    "        start_iter = time.time()\n",
    "        users = sim.sample_users(0.02).cache()\n",
    "\n",
    "        log = sim.get_log(users)\n",
    "        if log is None:\n",
    "            log = empty_log\n",
    "        log = log.cache()\n",
    "\n",
    "        recs = simulator_model.predict(\n",
    "            log=synth_indexer.transform(log),\n",
    "            k=10,\n",
    "            users=synth_indexer.transform(users),\n",
    "            items=items_replay\n",
    "        )\n",
    "        recs = synth_indexer.inverse_transform(recs)\n",
    "\n",
    "        true_resp = sim.sample_responses(\n",
    "            recs_df=recs,\n",
    "            user_features=users,\n",
    "            item_features=items_df_comp,\n",
    "            action_models=pipeline\n",
    "        ).select('user_id', 'item_id', 'relevance', 'response')\n",
    "\n",
    "        sim.update_log(true_resp, iteration=i)\n",
    "\n",
    "        simulator_model._clear_cache()\n",
    "        train_log = sim.log.cache()\n",
    "        simulator_model.fit(\n",
    "            log=synth_indexer.transform(\n",
    "                train_log.select('user_id', 'item_id', 'response')\\\n",
    "                         .withColumnRenamed('response', 'relevance')\n",
    "            )\n",
    "        )\n",
    "\n",
    "        users.unpersist()\n",
    "        if log is not None:\n",
    "            log.unpersist()\n",
    "        train_log.unpersist()\n",
    "        end_iter = time.time()\n",
    "        print(f\"Time of {i} iteration: \")\n",
    "        print(end_iter - start_iter)\n",
    "\n",
    "    users = sim.sample_users(0.02)\n",
    "    synth_recs = synth_indexer.inverse_transform(\n",
    "        simulator_model.predict(\n",
    "            log=synth_indexer.transform(sim.log),\n",
    "            k=10,\n",
    "            users=synth_indexer.transform(users),\n",
    "            items=items_replay\n",
    "        )\n",
    "    )\n",
    "    synth_ground_truth = sim.sample_responses(\n",
    "        recs_df=synth_recs,\n",
    "        user_features=users,\n",
    "        item_features=items_df_comp,\n",
    "        action_models=pipeline\n",
    "    ).select('user_id', 'item_id', 'response')\\\n",
    "     .withColumnRenamed('response', 'relevance')\\\n",
    "     .filter(sf.col('relevance') == 1)\n",
    "    \n",
    "    obj.append(\n",
    "        qco(\n",
    "            test_log=pred_df_sample,\n",
    "            user_features=users_df_comp,\n",
    "            item_features=items_df_comp,\n",
    "            real_recs=real_recs,\n",
    "            real_ground_truth=real_ground_truth,\n",
    "            synthetic_recs=synth_recs,\n",
    "            synthetic_ground_truth=synth_ground_truth\n",
    "        )\n",
    "    )"
   ]
  },
  {
   "cell_type": "code",
   "execution_count": 129,
   "id": "a4c16fec",
   "metadata": {},
   "outputs": [],
   "source": [
    "res = pd.DataFrame(data=manifold, columns=['real', 'noise', 'heuristic'])\n",
    "res['obj'] = obj\n",
    "\n",
    "res.to_csv('ml_quality_control_sber.csv', index=False)"
   ]
  },
  {
   "cell_type": "code",
   "execution_count": 130,
   "id": "4195b5e0",
   "metadata": {},
   "outputs": [
    {
     "data": {
      "text/html": [
       "<div>\n",
       "<style scoped>\n",
       "    .dataframe tbody tr th:only-of-type {\n",
       "        vertical-align: middle;\n",
       "    }\n",
       "\n",
       "    .dataframe tbody tr th {\n",
       "        vertical-align: top;\n",
       "    }\n",
       "\n",
       "    .dataframe thead th {\n",
       "        text-align: right;\n",
       "    }\n",
       "</style>\n",
       "<table border=\"1\" class=\"dataframe\">\n",
       "  <thead>\n",
       "    <tr style=\"text-align: right;\">\n",
       "      <th></th>\n",
       "      <th>real</th>\n",
       "      <th>noise</th>\n",
       "      <th>heuristic</th>\n",
       "      <th>obj</th>\n",
       "    </tr>\n",
       "  </thead>\n",
       "  <tbody>\n",
       "    <tr>\n",
       "      <th>0</th>\n",
       "      <td>0.0</td>\n",
       "      <td>0.0</td>\n",
       "      <td>1.0</td>\n",
       "      <td>0.376719</td>\n",
       "    </tr>\n",
       "    <tr>\n",
       "      <th>1</th>\n",
       "      <td>0.0</td>\n",
       "      <td>0.1</td>\n",
       "      <td>0.9</td>\n",
       "      <td>0.379357</td>\n",
       "    </tr>\n",
       "    <tr>\n",
       "      <th>2</th>\n",
       "      <td>0.0</td>\n",
       "      <td>0.2</td>\n",
       "      <td>0.8</td>\n",
       "      <td>0.355735</td>\n",
       "    </tr>\n",
       "    <tr>\n",
       "      <th>3</th>\n",
       "      <td>0.0</td>\n",
       "      <td>0.3</td>\n",
       "      <td>0.7</td>\n",
       "      <td>0.342394</td>\n",
       "    </tr>\n",
       "    <tr>\n",
       "      <th>4</th>\n",
       "      <td>0.0</td>\n",
       "      <td>0.4</td>\n",
       "      <td>0.6</td>\n",
       "      <td>0.311077</td>\n",
       "    </tr>\n",
       "    <tr>\n",
       "      <th>...</th>\n",
       "      <td>...</td>\n",
       "      <td>...</td>\n",
       "      <td>...</td>\n",
       "      <td>...</td>\n",
       "    </tr>\n",
       "    <tr>\n",
       "      <th>61</th>\n",
       "      <td>0.8</td>\n",
       "      <td>0.1</td>\n",
       "      <td>0.1</td>\n",
       "      <td>0.378876</td>\n",
       "    </tr>\n",
       "    <tr>\n",
       "      <th>62</th>\n",
       "      <td>0.8</td>\n",
       "      <td>0.2</td>\n",
       "      <td>0.0</td>\n",
       "      <td>0.326799</td>\n",
       "    </tr>\n",
       "    <tr>\n",
       "      <th>63</th>\n",
       "      <td>0.9</td>\n",
       "      <td>0.0</td>\n",
       "      <td>0.1</td>\n",
       "      <td>0.375237</td>\n",
       "    </tr>\n",
       "    <tr>\n",
       "      <th>64</th>\n",
       "      <td>0.9</td>\n",
       "      <td>0.1</td>\n",
       "      <td>0.0</td>\n",
       "      <td>0.357485</td>\n",
       "    </tr>\n",
       "    <tr>\n",
       "      <th>65</th>\n",
       "      <td>1.0</td>\n",
       "      <td>0.0</td>\n",
       "      <td>0.0</td>\n",
       "      <td>0.361047</td>\n",
       "    </tr>\n",
       "  </tbody>\n",
       "</table>\n",
       "<p>66 rows × 4 columns</p>\n",
       "</div>"
      ],
      "text/plain": [
       "    real  noise  heuristic       obj\n",
       "0    0.0    0.0        1.0  0.376719\n",
       "1    0.0    0.1        0.9  0.379357\n",
       "2    0.0    0.2        0.8  0.355735\n",
       "3    0.0    0.3        0.7  0.342394\n",
       "4    0.0    0.4        0.6  0.311077\n",
       "..   ...    ...        ...       ...\n",
       "61   0.8    0.1        0.1  0.378876\n",
       "62   0.8    0.2        0.0  0.326799\n",
       "63   0.9    0.0        0.1  0.375237\n",
       "64   0.9    0.1        0.0  0.357485\n",
       "65   1.0    0.0        0.0  0.361047\n",
       "\n",
       "[66 rows x 4 columns]"
      ]
     },
     "execution_count": 130,
     "metadata": {},
     "output_type": "execute_result"
    }
   ],
   "source": [
    "res"
   ]
  },
  {
   "cell_type": "code",
   "execution_count": 131,
   "id": "79be8a68",
   "metadata": {},
   "outputs": [],
   "source": [
    "x_data = []\n",
    "y_data = []\n",
    "z_data = []\n",
    "for index, row in res.iterrows():\n",
    "    x_data.append(row[\"heuristic\"])\n",
    "    y_data.append(row[\"real\"])\n",
    "    z_data.append(row['obj'])"
   ]
  },
  {
   "cell_type": "code",
   "execution_count": 132,
   "id": "f7e5714a",
   "metadata": {},
   "outputs": [
    {
     "data": {
      "text/html": [
       "<div>\n",
       "<style scoped>\n",
       "    .dataframe tbody tr th:only-of-type {\n",
       "        vertical-align: middle;\n",
       "    }\n",
       "\n",
       "    .dataframe tbody tr th {\n",
       "        vertical-align: top;\n",
       "    }\n",
       "\n",
       "    .dataframe thead th {\n",
       "        text-align: right;\n",
       "    }\n",
       "</style>\n",
       "<table border=\"1\" class=\"dataframe\">\n",
       "  <thead>\n",
       "    <tr style=\"text-align: right;\">\n",
       "      <th></th>\n",
       "      <th>real</th>\n",
       "      <th>noise</th>\n",
       "      <th>heuristic</th>\n",
       "      <th>obj</th>\n",
       "    </tr>\n",
       "  </thead>\n",
       "  <tbody>\n",
       "    <tr>\n",
       "      <th>30</th>\n",
       "      <td>0.3</td>\n",
       "      <td>0.0</td>\n",
       "      <td>0.7</td>\n",
       "      <td>0.395976</td>\n",
       "    </tr>\n",
       "  </tbody>\n",
       "</table>\n",
       "</div>"
      ],
      "text/plain": [
       "    real  noise  heuristic       obj\n",
       "30   0.3    0.0        0.7  0.395976"
      ]
     },
     "execution_count": 132,
     "metadata": {},
     "output_type": "execute_result"
    }
   ],
   "source": [
    "res[res['obj'] == res['obj'].max()]"
   ]
  },
  {
   "cell_type": "code",
   "execution_count": 135,
   "id": "8fccaac1",
   "metadata": {},
   "outputs": [
    {
     "data": {
      "image/png": "[encoded data removed]",
      "text/plain": [
       "<Figure size 640x480 with 1 Axes>"
      ]
     },
     "metadata": {},
     "output_type": "display_data"
    }
   ],
   "source": [
    "fig = plt.figure()\n",
    "ax = plt.axes(projection ='3d')\n",
    "surf = ax.plot_trisurf(x_data, y_data, z_data, linewidth=0.1, alpha=0.5, color='g', cmap='plasma')\n",
    "\n",
    "ax.set_xlabel(\"β₁\")\n",
    "ax.set_ylabel(\"β₂\")\n",
    "ax.set_xlim([1,0])\n",
    "\n",
    "ax.plot(res[res['obj'] == res['obj'].max()]['heuristic'].values, \n",
    "           res[res['obj'] == res['obj'].max()]['real'].values, \n",
    "           [res['obj'].max()], c='r', marker='.')\n",
    "\n",
    "plt.savefig('ml_quality_control_sber.png', dpi=300)"
   ]
  },
  {
   "cell_type": "markdown",
   "id": "033a594a",
   "metadata": {},
   "source": [
    "Получается, что наилучшее качество функции отклика с точки зрения целевой функции достигается при следующих коэффициентах:\n",
    "$$\\beta_1=\\hat{\\alpha}_1=0.7 (Heur)$$\n",
    "$$\\beta_2=\\hat{\\alpha}_2=0.3 (Real)$$\n",
    "$$\\beta_3=\\hat{\\alpha}_3=0.0 (Random)$$\n",
    "\n",
    "Теперь обучим рексистему в симуляторе с функцией отклика с подобранными параметрами."
   ]
  },
  {
   "cell_type": "code",
   "execution_count": 142,
   "id": "ccfc5e86",
   "metadata": {},
   "outputs": [],
   "source": [
    "sim_opt = Simulator(\n",
    "    user_gen=generator_1,\n",
    "    item_gen=items_generator,\n",
    "    user_key_col='user_id',\n",
    "    item_key_col='item_id',\n",
    "    spark_session=spark,\n",
    "    data_dir=CHECKPOINTS_DIR3,\n",
    ")"
   ]
  },
  {
   "cell_type": "code",
   "execution_count": 143,
   "id": "1807b4f5",
   "metadata": {},
   "outputs": [
    {
     "data": {
      "text/plain": [
       "ParametricResponseFunction_b16abafdbe26"
      ]
     },
     "execution_count": 143,
     "metadata": {},
     "output_type": "execute_result"
    }
   ],
   "source": [
    "resp_func.setWeights([0.3, 0.0, 0.7])"
   ]
  },
  {
   "cell_type": "code",
   "execution_count": 144,
   "id": "76d29bea",
   "metadata": {},
   "outputs": [],
   "source": [
    "simulator_model = UCB(sample = True)\n",
    "\n",
    "simulator_model.fit(log=synth_indexer.transform(log_df_val.drop('timestamp').limit(1)))"
   ]
  },
  {
   "cell_type": "code",
   "execution_count": 145,
   "id": "40f4d9f3",
   "metadata": {
    "scrolled": true
   },
   "outputs": [
    {
     "name": "stderr",
     "output_type": "stream",
     "text": [
      "                                                                                \r"
     ]
    },
    {
     "name": "stdout",
     "output_type": "stream",
     "text": [
      "Iteration 0 finished with time 25.57187056541443 sec.\n"
     ]
    },
    {
     "name": "stderr",
     "output_type": "stream",
     "text": [
      "                                                                                \r"
     ]
    },
    {
     "name": "stdout",
     "output_type": "stream",
     "text": [
      "Iteration 1 finished with time 21.942259550094604 sec.\n"
     ]
    },
    {
     "name": "stderr",
     "output_type": "stream",
     "text": [
      "                                                                                \r"
     ]
    },
    {
     "name": "stdout",
     "output_type": "stream",
     "text": [
      "Iteration 2 finished with time 21.296812057495117 sec.\n"
     ]
    },
    {
     "name": "stderr",
     "output_type": "stream",
     "text": [
      "                                                                                \r"
     ]
    },
    {
     "name": "stdout",
     "output_type": "stream",
     "text": [
      "Iteration 3 finished with time 21.528837203979492 sec.\n"
     ]
    },
    {
     "name": "stderr",
     "output_type": "stream",
     "text": [
      "                                                                                \r"
     ]
    },
    {
     "name": "stdout",
     "output_type": "stream",
     "text": [
      "Iteration 4 finished with time 21.825632095336914 sec.\n",
      "Iteration 5 finished with time 22.69623637199402 sec.\n"
     ]
    },
    {
     "name": "stderr",
     "output_type": "stream",
     "text": [
      "                                                                                \r"
     ]
    },
    {
     "name": "stdout",
     "output_type": "stream",
     "text": [
      "Iteration 6 finished with time 22.830013275146484 sec.\n"
     ]
    },
    {
     "name": "stderr",
     "output_type": "stream",
     "text": [
      "                                                                                \r"
     ]
    },
    {
     "name": "stdout",
     "output_type": "stream",
     "text": [
      "Iteration 7 finished with time 21.258943557739258 sec.\n",
      "Iteration 8 finished with time 22.066858053207397 sec.\n"
     ]
    },
    {
     "name": "stderr",
     "output_type": "stream",
     "text": [
      "                                                                                \r"
     ]
    },
    {
     "name": "stdout",
     "output_type": "stream",
     "text": [
      "Iteration 9 finished with time 21.79737377166748 sec.\n"
     ]
    },
    {
     "name": "stderr",
     "output_type": "stream",
     "text": [
      "                                                                                \r"
     ]
    },
    {
     "name": "stdout",
     "output_type": "stream",
     "text": [
      "Iteration 10 finished with time 22.883914470672607 sec.\n"
     ]
    },
    {
     "name": "stderr",
     "output_type": "stream",
     "text": [
      "                                                                                \r"
     ]
    },
    {
     "name": "stdout",
     "output_type": "stream",
     "text": [
      "Iteration 11 finished with time 22.959402561187744 sec.\n"
     ]
    },
    {
     "name": "stderr",
     "output_type": "stream",
     "text": [
      "                                                                                \r"
     ]
    },
    {
     "name": "stdout",
     "output_type": "stream",
     "text": [
      "Iteration 12 finished with time 21.501333713531494 sec.\n"
     ]
    },
    {
     "name": "stderr",
     "output_type": "stream",
     "text": [
      "                                                                                \r"
     ]
    },
    {
     "name": "stdout",
     "output_type": "stream",
     "text": [
      "Iteration 13 finished with time 22.591466665267944 sec.\n"
     ]
    },
    {
     "name": "stderr",
     "output_type": "stream",
     "text": [
      "                                                                                \r"
     ]
    },
    {
     "name": "stdout",
     "output_type": "stream",
     "text": [
      "Iteration 14 finished with time 23.08862543106079 sec.\n",
      "Iteration 15 finished with time 25.080543518066406 sec.\n"
     ]
    },
    {
     "name": "stderr",
     "output_type": "stream",
     "text": [
      "                                                                                \r"
     ]
    },
    {
     "name": "stdout",
     "output_type": "stream",
     "text": [
      "Iteration 16 finished with time 23.448610067367554 sec.\n"
     ]
    },
    {
     "name": "stderr",
     "output_type": "stream",
     "text": [
      "                                                                                \r"
     ]
    },
    {
     "name": "stdout",
     "output_type": "stream",
     "text": [
      "Iteration 17 finished with time 22.756891012191772 sec.\n"
     ]
    },
    {
     "name": "stderr",
     "output_type": "stream",
     "text": [
      "                                                                                \r"
     ]
    },
    {
     "name": "stdout",
     "output_type": "stream",
     "text": [
      "Iteration 18 finished with time 24.080568075180054 sec.\n"
     ]
    },
    {
     "name": "stderr",
     "output_type": "stream",
     "text": [
      "                                                                                \r"
     ]
    },
    {
     "name": "stdout",
     "output_type": "stream",
     "text": [
      "Iteration 19 finished with time 23.883764028549194 sec.\n"
     ]
    },
    {
     "name": "stderr",
     "output_type": "stream",
     "text": [
      "                                                                                \r"
     ]
    },
    {
     "name": "stdout",
     "output_type": "stream",
     "text": [
      "Iteration 20 finished with time 24.037561178207397 sec.\n"
     ]
    },
    {
     "name": "stderr",
     "output_type": "stream",
     "text": [
      "                                                                                \r"
     ]
    },
    {
     "name": "stdout",
     "output_type": "stream",
     "text": [
      "Iteration 21 finished with time 24.664106845855713 sec.\n",
      "Iteration 22 finished with time 24.275689601898193 sec.\n"
     ]
    },
    {
     "name": "stderr",
     "output_type": "stream",
     "text": [
      "                                                                                \r"
     ]
    },
    {
     "name": "stdout",
     "output_type": "stream",
     "text": [
      "Iteration 23 finished with time 24.846373081207275 sec.\n"
     ]
    },
    {
     "name": "stderr",
     "output_type": "stream",
     "text": [
      "                                                                                \r"
     ]
    },
    {
     "name": "stdout",
     "output_type": "stream",
     "text": [
      "Iteration 24 finished with time 25.111175775527954 sec.\n"
     ]
    },
    {
     "name": "stderr",
     "output_type": "stream",
     "text": [
      "                                                                                \r"
     ]
    },
    {
     "name": "stdout",
     "output_type": "stream",
     "text": [
      "Iteration 25 finished with time 23.826118230819702 sec.\n"
     ]
    },
    {
     "name": "stderr",
     "output_type": "stream",
     "text": [
      "                                                                                \r"
     ]
    },
    {
     "name": "stdout",
     "output_type": "stream",
     "text": [
      "Iteration 26 finished with time 24.318200826644897 sec.\n"
     ]
    },
    {
     "name": "stderr",
     "output_type": "stream",
     "text": [
      "                                                                                \r"
     ]
    },
    {
     "name": "stdout",
     "output_type": "stream",
     "text": [
      "Iteration 27 finished with time 23.831905126571655 sec.\n"
     ]
    },
    {
     "name": "stderr",
     "output_type": "stream",
     "text": [
      "                                                                                \r"
     ]
    },
    {
     "name": "stdout",
     "output_type": "stream",
     "text": [
      "Iteration 28 finished with time 32.366053104400635 sec.\n",
      "Iteration 29 finished with time 20.345972299575806 sec.\n"
     ]
    },
    {
     "name": "stderr",
     "output_type": "stream",
     "text": [
      "                                                                                \r"
     ]
    },
    {
     "data": {
      "text/plain": [
       "DataFrame[item_feature[0]: double, item_feature[1]: double, item_feature[2]: double, item_feature[3]: double, item_feature[4]: double, item_feature[5]: double, item_feature[6]: double, item_feature[7]: double, item_feature[8]: double, item_idx: int]"
      ]
     },
     "execution_count": 145,
     "metadata": {},
     "output_type": "execute_result"
    }
   ],
   "source": [
    "LOG_SCHEMA = st.StructType([\n",
    "    st.StructField('user_id', st.IntegerType()),\n",
    "    st.StructField('item_id', st.IntegerType()),\n",
    "    st.StructField('relevance', st.DoubleType())\n",
    "])\n",
    "\n",
    "empty_log = spark.createDataFrame(\n",
    "    data=spark.sparkContext.emptyRDD(),\n",
    "    schema=LOG_SCHEMA\n",
    ")\n",
    "\n",
    "items_replay = synth_indexer.transform(items_df_comp).cache()\n",
    "\n",
    "ucb_metrics = []\n",
    "\n",
    "for i in range(30):\n",
    "    iter_start = time.time()\n",
    "\n",
    "    users = sim_opt.sample_users(0.02).cache()\n",
    "    \n",
    "    log = sim_opt.get_log(users)\n",
    "    if log is None:\n",
    "        log = empty_log\n",
    "    log = log.cache()\n",
    "\n",
    "    recs_ucb = simulator_model.predict(\n",
    "        log=synth_indexer.transform(log),\n",
    "        k=10,\n",
    "        users=synth_indexer.transform(users),\n",
    "        items=items_replay\n",
    "    )\n",
    "    recs_ucb = synth_indexer.inverse_transform(recs_ucb).cache()\n",
    "\n",
    "    resp_ucb = sim_opt.sample_responses(\n",
    "        recs_df=recs_ucb,\n",
    "        user_features=users,\n",
    "        item_features=items_df_comp,\n",
    "        action_models=pipeline\n",
    "    ).select('user_id', 'item_id', 'relevance', 'response').cache()\n",
    "\n",
    "    sim_opt.update_log(resp_ucb, iteration=i)\n",
    "\n",
    "    ucb_metrics.append(evaluator(resp_ucb))\n",
    "\n",
    "    simulator_model._clear_cache()\n",
    "    ucb_train_log = sim_opt.log.cache()\n",
    "    simulator_model.fit(\n",
    "        log=synth_indexer.transform(\n",
    "            ucb_train_log\\\n",
    "                .select('user_id', 'item_id', 'response')\\\n",
    "                .withColumnRenamed('response', 'relevance')\n",
    "        )\n",
    "    )\n",
    "\n",
    "    users.unpersist()\n",
    "    log.unpersist()\n",
    "    recs_ucb.unpersist()\n",
    "    resp_ucb.unpersist()\n",
    "    ucb_train_log.unpersist()\n",
    "\n",
    "    print(f'Iteration {i} finished with time {time.time() - iter_start} sec.')\n",
    "    \n",
    "users = sim_opt.sample_users(0.2).cache()\n",
    "synth_recs = synth_indexer.inverse_transform(\n",
    "    simulator_model.predict(\n",
    "        log=synth_indexer.transform(sim_opt.log),\n",
    "        k=10,\n",
    "        users=synth_indexer.transform(users),\n",
    "        items=items_replay\n",
    "    )\n",
    ").cache()\n",
    "synth_ground_truth = sim_opt.sample_responses(\n",
    "    recs_df=synth_recs,\n",
    "    user_features=users,\n",
    "    item_features=items_df_comp,\n",
    "    action_models=pipeline\n",
    ").select('user_id', 'item_id', 'relevance', 'response').cache()\n",
    "final_metrics_opt = evaluator(synth_ground_truth)\n",
    "\n",
    "items_replay.unpersist()"
   ]
  },
  {
   "cell_type": "code",
   "execution_count": 146,
   "id": "93886606",
   "metadata": {},
   "outputs": [
    {
     "data": {
      "text/plain": [
       "{'NDCG@10': 0.573569848200266,\n",
       " 'Precision@10': 0.23216931216931205,\n",
       " 'RocAuc@10': 0.4917747753422358}"
      ]
     },
     "execution_count": 146,
     "metadata": {},
     "output_type": "execute_result"
    }
   ],
   "source": [
    "final_metrics_opt"
   ]
  },
  {
   "cell_type": "code",
   "execution_count": 150,
   "id": "c6f6f6de",
   "metadata": {},
   "outputs": [
    {
     "data": {
      "image/png": "[encoded data removed]",
      "text/plain": [
       "<Figure size 640x480 with 1 Axes>"
      ]
     },
     "metadata": {},
     "output_type": "display_data"
    }
   ],
   "source": [
    "real_learning_metrics_pdf = pd.DataFrame(real_learning_metrics)\n",
    "ucb_metrics_pdf = pd.DataFrame(ucb_metrics)\n",
    "ucb_metrics_old_pdf = pd.DataFrame(ucb_metrics_old)\n",
    "plt.plot(real_learning_metrics_pdf['NDCG@10'], color='g', label='Real')\n",
    "plt.plot(draw_trend(range(30), real_learning_metrics_pdf['NDCG@10']), color='k')\n",
    "plt.plot(ucb_metrics_old_pdf['NDCG@10'], color='b', label='Synth old')\n",
    "plt.plot(ucb_metrics_pdf['NDCG@10'], color='r', label='Synth new')\n",
    "plt.xlabel('iteration')\n",
    "plt.ylabel('NDCG')\n",
    "\n",
    "plt.plot(29, real_learning_metrics_pdf['NDCG@10'][29], 'g.')\n",
    "plt.plot(29, ucb_metrics_old_pdf['NDCG@10'][29], 'b.')\n",
    "plt.plot(29, ucb_metrics_pdf['NDCG@10'][29], 'r.')\n",
    "\n",
    "plt.legend()\n",
    "plt.xticks(np.arange(0, 30, step=2.0))\n",
    "plt.tight_layout()"
   ]
  },
  {
   "cell_type": "code",
   "execution_count": 151,
   "id": "de4f6838",
   "metadata": {},
   "outputs": [
    {
     "data": {
      "image/png": "[encoded data removed]",
      "text/plain": [
       "<Figure size 640x480 with 1 Axes>"
      ]
     },
     "metadata": {},
     "output_type": "display_data"
    }
   ],
   "source": [
    "plt.plot(real_learning_metrics_pdf['Precision@10'], color='g', label='Real')\n",
    "plt.plot(draw_trend(range(30), real_learning_metrics_pdf['Precision@10']), color='k')\n",
    "plt.plot(ucb_metrics_old_pdf['Precision@10'], color='b', label='Synth old')\n",
    "plt.plot(ucb_metrics_pdf['Precision@10'], color='r', label='Synth new')\n",
    "plt.xlabel('iteration')\n",
    "plt.ylabel('Precision')\n",
    "\n",
    "plt.plot(29, real_learning_metrics_pdf['Precision@10'][29], 'g.')\n",
    "plt.plot(29, ucb_metrics_old_pdf['Precision@10'][29], 'b.')\n",
    "plt.plot(29, ucb_metrics_pdf['Precision@10'][29], 'r.')\n",
    "\n",
    "plt.legend()\n",
    "plt.xticks(np.arange(0, 30, step=2.0))\n",
    "plt.tight_layout()"
   ]
  },
  {
   "cell_type": "markdown",
   "id": "81ebca84",
   "metadata": {},
   "source": [
    "Как видно из предыдущего графика, кривая обучения рекомендательной системы на новых синтетических данных (с оптимальными параметрами функции отклика) приблизилась к кривой обучения рекомендательной системы на синтетических данных."
   ]
  },
  {
   "cell_type": "code",
   "execution_count": null,
   "id": "77226dcb",
   "metadata": {},
   "outputs": [],
   "source": []
  }
 ],
 "metadata": {
  "kernelspec": {
   "display_name": "Python [conda env:.conda-sim-exp]",
   "language": "python",
   "name": "conda-env-.conda-sim-exp-py"
  },
  "language_info": {
   "codemirror_mode": {
    "name": "ipython",
    "version": 3
   },
   "file_extension": ".py",
   "mimetype": "text/x-python",
   "name": "python",
   "nbconvert_exporter": "python",
   "pygments_lexer": "ipython3",
   "version": "3.8.13"
  }
 },
 "nbformat": 4,
 "nbformat_minor": 5
}
