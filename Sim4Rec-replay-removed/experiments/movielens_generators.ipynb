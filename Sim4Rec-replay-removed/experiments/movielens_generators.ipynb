{
 "cells": [
  {
   "cell_type": "markdown",
   "metadata": {},
   "source": [
    "В этом ноутбуке исследуется качество четырех моделей (GaussianCopula, CTGAN, CopulaGAN, TVAE) генерации синтетических данных применительно к задаче генерации синтетических профилей пользователей из датасета MovieLens."
   ]
  },
  {
   "cell_type": "code",
   "execution_count": 3,
   "metadata": {},
   "outputs": [
    {
     "name": "stderr",
     "output_type": "stream",
     "text": [
      "/data/home/estavinova/.conda/envs/SynEvaRec/lib/python3.8/site-packages/tqdm/auto.py:22: TqdmWarning: IProgress not found. Please update jupyter and ipywidgets. See https://ipywidgets.readthedocs.io/en/stable/user_install.html\n",
      "  from .autonotebook import tqdm as notebook_tqdm\n",
      "22/10/18 11:09:42 WARN NativeCodeLoader: Unable to load native-hadoop library for your platform... using builtin-java classes where applicable\n",
      "Using Spark's default log4j profile: org/apache/spark/log4j-defaults.properties\n",
      "Setting default log level to \"WARN\".\n",
      "To adjust logging level use sc.setLogLevel(newLevel). For SparkR, use setLogLevel(newLevel).\n",
      "22/10/18 11:09:43 WARN SparkConf: Note that spark.local.dir will be overridden by the value set by the cluster manager (via SPARK_LOCAL_DIRS in mesos/standalone/kubernetes and LOCAL_DIRS in YARN).\n",
      "22/10/18 11:09:45 WARN Utils: Service 'SparkUI' could not bind on port 4040. Attempting port 4041.\n",
      "22/10/18 11:09:45 WARN Utils: Service 'SparkUI' could not bind on port 4041. Attempting port 4042.\n",
      "22/10/18 11:09:45 WARN Utils: Service 'SparkUI' could not bind on port 4042. Attempting port 4043.\n",
      "22/10/18 11:09:45 WARN Utils: Service 'SparkUI' could not bind on port 4043. Attempting port 4044.\n",
      "22/10/18 11:09:45 WARN Utils: Service 'SparkUI' could not bind on port 4044. Attempting port 4045.\n",
      "22/10/18 11:09:45 WARN Utils: Service 'SparkUI' could not bind on port 4045. Attempting port 4046.\n",
      "22/10/18 11:09:45 WARN Utils: Service 'SparkUI' could not bind on port 4046. Attempting port 4047.\n"
     ]
    },
    {
     "data": {
      "text/plain": [
       "<replay.session_handler.State at 0x7fec3034eb20>"
      ]
     },
     "execution_count": 3,
     "metadata": {},
     "output_type": "execute_result"
    }
   ],
   "source": [
    "import os\n",
    "# os.environ[\"CUDA_VISIBLE_DEVICES\"]=\"\"\n",
    "\n",
    "import pandas as pd\n",
    "import numpy as np\n",
    "\n",
    "from pyspark import SparkConf\n",
    "from pyspark.sql import SparkSession\n",
    "import pyspark.sql.functions as sf\n",
    "\n",
    "from replay.session_handler import State\n",
    "\n",
    "from sim4rec.utils import pandas_to_spark\n",
    "\n",
    "%matplotlib inline\n",
    "import matplotlib.pyplot as plt\n",
    "\n",
    "spark = SparkSession.builder\\\n",
    "    .appName('simulator_movielens')\\\n",
    "    .master('local[8]')\\\n",
    "    .config('spark.sql.shuffle.partitions', '8')\\\n",
    "    .config('spark.default.parallelism', '8')\\\n",
    "    .config('spark.driver.extraJavaOptions', '-XX:+UseG1GC')\\\n",
    "    .config('spark.executor.extraJavaOptions', '-XX:+UseG1GC')\\\n",
    "    .config('spark.sql.autoBroadcastJoinThreshold', '-1')\\\n",
    "    .config('spark.driver.memory', '128g')\\\n",
    "    .config('spark.local.dir', './tmp')\\\n",
    "    .getOrCreate()\n",
    "\n",
    "State(spark)"
   ]
  },
  {
   "cell_type": "markdown",
   "metadata": {},
   "source": [
    "# Read data"
   ]
  },
  {
   "cell_type": "markdown",
   "metadata": {},
   "source": [
    "Работаем с предобработанными данными, которые разделены на три части по времени выставления рейтинга. Оценки 1 и 2 считаем отрицательными (0); 3, 4 и 5 -- положительными (1).\n",
    "\n",
    "Данные были предварительно предобработаны (код в папке Movielens): составлены профили польззователей и предложений по истории откликов, а также данные разделены по времени выставления оценок на обучающую, валидационную и тестовую выборки."
   ]
  },
  {
   "cell_type": "code",
   "execution_count": 4,
   "metadata": {},
   "outputs": [],
   "source": [
    "DATA_PATH = r'file:///data/home/estavinova/simulator/data/Movielens/'"
   ]
  },
  {
   "cell_type": "code",
   "execution_count": 5,
   "metadata": {},
   "outputs": [
    {
     "name": "stderr",
     "output_type": "stream",
     "text": [
      "22/10/18 11:10:28 WARN package: Truncated the string representation of a plan since it was too large. This behavior can be adjusted by setting 'spark.sql.debug.maxToStringFields'.\n",
      "                                                                                \r"
     ]
    },
    {
     "data": {
      "text/plain": [
       "10000132"
      ]
     },
     "execution_count": 5,
     "metadata": {},
     "output_type": "execute_result"
    }
   ],
   "source": [
    "import pyspark.sql.types as st\n",
    "\n",
    "USER_PREFIX = 'user_'\n",
    "ITEM_PREFIX = 'item_'\n",
    "\n",
    "USER_SCHEMA = st.StructType(\n",
    "    [st.StructField('user_idx', st.IntegerType())] +\\\n",
    "    [st.StructField(f'genre{i}', st.DoubleType()) for i in range(19)] +\\\n",
    "    [st.StructField('rating_avg', st.DoubleType())] +\\\n",
    "    [st.StructField(f'w2v_{i}', st.DoubleType()) for i in range(300)]\n",
    ")\n",
    "ITEM_SCHEMA = st.StructType(\n",
    "    [st.StructField('item_idx', st.IntegerType())] +\\\n",
    "    [st.StructField('year', st.IntegerType())] +\\\n",
    "    [st.StructField('rating_avg', st.DoubleType())] +\\\n",
    "    [st.StructField(f'genre{i}', st.DoubleType()) for i in range(19)] +\\\n",
    "    [st.StructField(f'w2v_{i}', st.DoubleType()) for i in range(300)]\n",
    ")\n",
    "LOG_SCHEMA = st.StructType([\n",
    "    st.StructField('user_idx', st.IntegerType()),\n",
    "    st.StructField('item_idx', st.IntegerType()),\n",
    "    st.StructField('relevance', st.DoubleType()),\n",
    "    st.StructField('timestamp', st.IntegerType())\n",
    "])\n",
    "\n",
    "users_df_train = spark.read.csv(DATA_PATH+'train/users.csv', header=True, schema=USER_SCHEMA)\n",
    "items_df_train = spark.read.csv(DATA_PATH+'train/items.csv', header=True, schema=ITEM_SCHEMA)\n",
    "log_df_train   = spark.read.csv(DATA_PATH+'train/rating.csv', header=True, schema=LOG_SCHEMA)\n",
    "\n",
    "log_df_train = log_df_train.join(users_df_train, log_df_train['user_idx'] == users_df_train['user_idx'], 'leftsemi')\n",
    "log_df_train = log_df_train.join(items_df_train, log_df_train['item_idx'] == items_df_train['item_idx'], 'leftsemi')\n",
    "\n",
    "for c in users_df_train.columns[1:]:\n",
    "    users_df_train = users_df_train.withColumnRenamed(c, 'user_' + c)\n",
    "    \n",
    "for c in items_df_train.columns[1:]:\n",
    "    items_df_train = items_df_train.withColumnRenamed(c, 'item_' + c)\n",
    "\n",
    "log_df_train = log_df_train.withColumn(\n",
    "    'relevance', sf.when(sf.col('relevance') >= 3, 1).otherwise(0))\n",
    "\n",
    "users_df_train = users_df_train.cache()\n",
    "items_df_train = items_df_train.cache()\n",
    "log_df_train = log_df_train.cache()\n",
    "\n",
    "users_df_train.count()\n",
    "items_df_train.count()\n",
    "log_df_train.count()"
   ]
  },
  {
   "cell_type": "code",
   "execution_count": 4,
   "metadata": {},
   "outputs": [],
   "source": [
    "import warnings\n",
    "warnings.filterwarnings(\"ignore\")"
   ]
  },
  {
   "cell_type": "markdown",
   "metadata": {},
   "source": [
    "# Fit Gaussian Copula"
   ]
  },
  {
   "cell_type": "markdown",
   "metadata": {},
   "source": [
    "Обучаем генераторы на сэмплах (sample(0.12) -- примерно 10 тыс. пользователей, sample(0.06) -- примерно 5 тыс., sample(0.5) -- примерно 40 тыс.) с целью экономии времени в данном ноутбуке. Вообще пробовали и на больших кусках, но на качество особенно не влияло."
   ]
  },
  {
   "cell_type": "code",
   "execution_count": 5,
   "metadata": {},
   "outputs": [
    {
     "name": "stderr",
     "output_type": "stream",
     "text": [
      "                                                                                \r"
     ]
    },
    {
     "name": "stdout",
     "output_type": "stream",
     "text": [
      "Fitting of GaussianCopula: \n",
      "164.43548011779785\n"
     ]
    },
    {
     "name": "stderr",
     "output_type": "stream",
     "text": [
      "22/10/11 13:47:24 WARN CacheManager: Asked to cache already cached data.\n"
     ]
    }
   ],
   "source": [
    "from sim4rec.modules import RealDataGenerator, SDVDataGenerator, CompositeGenerator\n",
    "import time\n",
    "\n",
    "generator_1 = SDVDataGenerator(\n",
    "    label='synth',\n",
    "    id_column_name='user_idx',\n",
    "    model_name='gaussiancopula',\n",
    "    parallelization_level=4,\n",
    "    device_name='cpu',\n",
    "    seed=1234\n",
    ")\n",
    "\n",
    "items_generator = RealDataGenerator(label='items_real', seed=1234)\n",
    "start = time.time()\n",
    "generator_1.fit(users_df_train.sample(0.12).drop('user_idx'))\n",
    "end = time.time()\n",
    "print(f\"Fitting of GaussianCopula: \")\n",
    "print(end - start)\n",
    "items_generator.fit(items_df_train)"
   ]
  },
  {
   "cell_type": "markdown",
   "metadata": {},
   "source": [
    "# Gaussian Copula data quality"
   ]
  },
  {
   "cell_type": "markdown",
   "metadata": {},
   "source": [
    "Качество моделей генерации синтетических данных оценивается с помощью четырех метрик:\n",
    "\n",
    "-- Logistic Detection\n",
    "\n",
    "-- SVC Detection\n",
    "\n",
    "-- KS Test\n",
    "\n",
    "-- KL Divergence"
   ]
  },
  {
   "cell_type": "code",
   "execution_count": 10,
   "metadata": {},
   "outputs": [
    {
     "name": "stderr",
     "output_type": "stream",
     "text": [
      "                                                                                \r"
     ]
    }
   ],
   "source": [
    "from sim4rec.modules import evaluate_synthetic\n",
    "\n",
    "real_users = users_df_train.sample(0.12)\n",
    "syn_users = generator_1.generate(real_users.count())\n",
    "gen_score = evaluate_synthetic(\n",
    "    syn_users.drop('user_idx'),\n",
    "    real_users.drop('user_idx')\n",
    ")"
   ]
  },
  {
   "cell_type": "code",
   "execution_count": 11,
   "metadata": {},
   "outputs": [
    {
     "data": {
      "text/plain": [
       "{'LogisticDetection': 0.15174806191536983,\n",
       " 'SVCDetection': 0.009282137041030425,\n",
       " 'KSTest': 0.9584878886943986,\n",
       " 'ContinuousKLDivergence': 0.9641274904925053}"
      ]
     },
     "execution_count": 11,
     "metadata": {},
     "output_type": "execute_result"
    }
   ],
   "source": [
    "gen_score"
   ]
  },
  {
   "cell_type": "code",
   "execution_count": 27,
   "metadata": {},
   "outputs": [],
   "source": [
    "gen_result = pd.DataFrame(index = np.arange(4))\n",
    "gen_result['Model_name'] = 'GaussianCopula'\n",
    "gen_result['Metric_score'] = [v for k, v in gen_score.items()]\n",
    "gen_result['Metric_name'] = [k for k, v in gen_score.items()]"
   ]
  },
  {
   "cell_type": "code",
   "execution_count": 28,
   "metadata": {},
   "outputs": [],
   "source": [
    "gen_result_df = pd.DataFrame()\n",
    "gen_result_df = pd.concat([gen_result_df, gen_result])"
   ]
  },
  {
   "cell_type": "code",
   "execution_count": 29,
   "metadata": {},
   "outputs": [
    {
     "data": {
      "text/html": [
       "<div>\n",
       "<style scoped>\n",
       "    .dataframe tbody tr th:only-of-type {\n",
       "        vertical-align: middle;\n",
       "    }\n",
       "\n",
       "    .dataframe tbody tr th {\n",
       "        vertical-align: top;\n",
       "    }\n",
       "\n",
       "    .dataframe thead th {\n",
       "        text-align: right;\n",
       "    }\n",
       "</style>\n",
       "<table border=\"1\" class=\"dataframe\">\n",
       "  <thead>\n",
       "    <tr style=\"text-align: right;\">\n",
       "      <th></th>\n",
       "      <th>Model_name</th>\n",
       "      <th>Metric_score</th>\n",
       "      <th>Metric_name</th>\n",
       "    </tr>\n",
       "  </thead>\n",
       "  <tbody>\n",
       "    <tr>\n",
       "      <th>0</th>\n",
       "      <td>GaussianCopula</td>\n",
       "      <td>0.151748</td>\n",
       "      <td>LogisticDetection</td>\n",
       "    </tr>\n",
       "    <tr>\n",
       "      <th>1</th>\n",
       "      <td>GaussianCopula</td>\n",
       "      <td>0.009282</td>\n",
       "      <td>SVCDetection</td>\n",
       "    </tr>\n",
       "    <tr>\n",
       "      <th>2</th>\n",
       "      <td>GaussianCopula</td>\n",
       "      <td>0.958488</td>\n",
       "      <td>KSTest</td>\n",
       "    </tr>\n",
       "    <tr>\n",
       "      <th>3</th>\n",
       "      <td>GaussianCopula</td>\n",
       "      <td>0.964127</td>\n",
       "      <td>ContinuousKLDivergence</td>\n",
       "    </tr>\n",
       "  </tbody>\n",
       "</table>\n",
       "</div>"
      ],
      "text/plain": [
       "       Model_name  Metric_score             Metric_name\n",
       "0  GaussianCopula      0.151748       LogisticDetection\n",
       "1  GaussianCopula      0.009282            SVCDetection\n",
       "2  GaussianCopula      0.958488                  KSTest\n",
       "3  GaussianCopula      0.964127  ContinuousKLDivergence"
      ]
     },
     "execution_count": 29,
     "metadata": {},
     "output_type": "execute_result"
    }
   ],
   "source": [
    "gen_result_df"
   ]
  },
  {
   "cell_type": "markdown",
   "metadata": {},
   "source": [
    "# Fit CTGAN"
   ]
  },
  {
   "cell_type": "code",
   "execution_count": 18,
   "metadata": {},
   "outputs": [
    {
     "name": "stdout",
     "output_type": "stream",
     "text": [
      "Fitting of CTGAN: \n",
      "2902.8997361660004\n"
     ]
    },
    {
     "name": "stderr",
     "output_type": "stream",
     "text": [
      "22/09/29 09:19:41 WARN CacheManager: Asked to cache already cached data.\n"
     ]
    }
   ],
   "source": [
    "from sim4rec.modules import RealDataGenerator, SDVDataGenerator, CompositeGenerator\n",
    "import time\n",
    "\n",
    "generator_2 = SDVDataGenerator(\n",
    "    label='synth',\n",
    "    id_column_name='user_idx',\n",
    "    model_name='ctgan',\n",
    "    parallelization_level=4,\n",
    "    device_name='cpu',\n",
    "    seed=1234\n",
    ")\n",
    "\n",
    "items_generator = RealDataGenerator(label='items_real', seed=1234)\n",
    "start = time.time()\n",
    "generator_2.fit(users_df_train.sample(0.06).drop('user_idx'))\n",
    "end = time.time()\n",
    "print(f\"Fitting of CTGAN: \")\n",
    "print(end - start)\n",
    "items_generator.fit(items_df_train)"
   ]
  },
  {
   "cell_type": "markdown",
   "metadata": {},
   "source": [
    "# CTGAN data quality"
   ]
  },
  {
   "cell_type": "code",
   "execution_count": 19,
   "metadata": {},
   "outputs": [
    {
     "name": "stderr",
     "output_type": "stream",
     "text": [
      "                                                                                \r"
     ]
    }
   ],
   "source": [
    "real_users = users_df_train.sample(0.12)\n",
    "syn_users = generator_2.generate(real_users.count())\n",
    "gen_score = evaluate_synthetic(\n",
    "    syn_users.drop('user_idx'),\n",
    "    real_users.drop('user_idx')\n",
    ")"
   ]
  },
  {
   "cell_type": "code",
   "execution_count": 20,
   "metadata": {},
   "outputs": [
    {
     "data": {
      "text/plain": [
       "{'LogisticDetection': 0.0,\n",
       " 'SVCDetection': 0.0,\n",
       " 'KSTest': 0.7161023292398254,\n",
       " 'ContinuousKLDivergence': 0.4877222117961356}"
      ]
     },
     "execution_count": 20,
     "metadata": {},
     "output_type": "execute_result"
    }
   ],
   "source": [
    "gen_score"
   ]
  },
  {
   "cell_type": "code",
   "execution_count": 31,
   "metadata": {},
   "outputs": [],
   "source": [
    "gen_result = pd.DataFrame(index = np.arange(4))\n",
    "gen_result['Model_name'] = 'CTGAN'\n",
    "gen_result['Metric_score'] = [v for k, v in gen_score.items()]\n",
    "gen_result['Metric_name'] = [k for k, v in gen_score.items()]"
   ]
  },
  {
   "cell_type": "code",
   "execution_count": 32,
   "metadata": {},
   "outputs": [
    {
     "data": {
      "text/html": [
       "<div>\n",
       "<style scoped>\n",
       "    .dataframe tbody tr th:only-of-type {\n",
       "        vertical-align: middle;\n",
       "    }\n",
       "\n",
       "    .dataframe tbody tr th {\n",
       "        vertical-align: top;\n",
       "    }\n",
       "\n",
       "    .dataframe thead th {\n",
       "        text-align: right;\n",
       "    }\n",
       "</style>\n",
       "<table border=\"1\" class=\"dataframe\">\n",
       "  <thead>\n",
       "    <tr style=\"text-align: right;\">\n",
       "      <th></th>\n",
       "      <th>Model_name</th>\n",
       "      <th>Metric_score</th>\n",
       "      <th>Metric_name</th>\n",
       "    </tr>\n",
       "  </thead>\n",
       "  <tbody>\n",
       "    <tr>\n",
       "      <th>0</th>\n",
       "      <td>GaussianCopula</td>\n",
       "      <td>0.151748</td>\n",
       "      <td>LogisticDetection</td>\n",
       "    </tr>\n",
       "    <tr>\n",
       "      <th>1</th>\n",
       "      <td>GaussianCopula</td>\n",
       "      <td>0.009282</td>\n",
       "      <td>SVCDetection</td>\n",
       "    </tr>\n",
       "    <tr>\n",
       "      <th>2</th>\n",
       "      <td>GaussianCopula</td>\n",
       "      <td>0.958488</td>\n",
       "      <td>KSTest</td>\n",
       "    </tr>\n",
       "    <tr>\n",
       "      <th>3</th>\n",
       "      <td>GaussianCopula</td>\n",
       "      <td>0.964127</td>\n",
       "      <td>ContinuousKLDivergence</td>\n",
       "    </tr>\n",
       "    <tr>\n",
       "      <th>0</th>\n",
       "      <td>CTGAN</td>\n",
       "      <td>0.000000</td>\n",
       "      <td>LogisticDetection</td>\n",
       "    </tr>\n",
       "    <tr>\n",
       "      <th>1</th>\n",
       "      <td>CTGAN</td>\n",
       "      <td>0.000000</td>\n",
       "      <td>SVCDetection</td>\n",
       "    </tr>\n",
       "    <tr>\n",
       "      <th>2</th>\n",
       "      <td>CTGAN</td>\n",
       "      <td>0.716102</td>\n",
       "      <td>KSTest</td>\n",
       "    </tr>\n",
       "    <tr>\n",
       "      <th>3</th>\n",
       "      <td>CTGAN</td>\n",
       "      <td>0.487722</td>\n",
       "      <td>ContinuousKLDivergence</td>\n",
       "    </tr>\n",
       "  </tbody>\n",
       "</table>\n",
       "</div>"
      ],
      "text/plain": [
       "       Model_name  Metric_score             Metric_name\n",
       "0  GaussianCopula      0.151748       LogisticDetection\n",
       "1  GaussianCopula      0.009282            SVCDetection\n",
       "2  GaussianCopula      0.958488                  KSTest\n",
       "3  GaussianCopula      0.964127  ContinuousKLDivergence\n",
       "0           CTGAN      0.000000       LogisticDetection\n",
       "1           CTGAN      0.000000            SVCDetection\n",
       "2           CTGAN      0.716102                  KSTest\n",
       "3           CTGAN      0.487722  ContinuousKLDivergence"
      ]
     },
     "execution_count": 32,
     "metadata": {},
     "output_type": "execute_result"
    }
   ],
   "source": [
    "gen_result_df = pd.concat([gen_result_df, gen_result])\n",
    "gen_result_df"
   ]
  },
  {
   "cell_type": "markdown",
   "metadata": {},
   "source": [
    "# Fit CopulaGAN"
   ]
  },
  {
   "cell_type": "code",
   "execution_count": 25,
   "metadata": {},
   "outputs": [
    {
     "name": "stdout",
     "output_type": "stream",
     "text": [
      "Fitting of CopulaGAN: \n",
      "3258.1744406223297\n"
     ]
    },
    {
     "name": "stderr",
     "output_type": "stream",
     "text": [
      "22/09/29 11:48:10 WARN CacheManager: Asked to cache already cached data.\n"
     ]
    }
   ],
   "source": [
    "from sim4rec.modules import RealDataGenerator, SDVDataGenerator, CompositeGenerator\n",
    "import time\n",
    "\n",
    "generator_3= SDVDataGenerator(\n",
    "    label='synth',\n",
    "    id_column_name='user_idx',\n",
    "    model_name='copulagan',\n",
    "    parallelization_level=4,\n",
    "    device_name='cpu',\n",
    "    seed=1234\n",
    ")\n",
    "\n",
    "items_generator = RealDataGenerator(label='items_real', seed=1234)\n",
    "start = time.time()\n",
    "generator_3.fit(users_df_train.sample(0.06).drop('user_idx'))\n",
    "end = time.time()\n",
    "print(f\"Fitting of CopulaGAN: \")\n",
    "print(end - start)\n",
    "items_generator.fit(items_df_train)"
   ]
  },
  {
   "cell_type": "markdown",
   "metadata": {},
   "source": [
    "# CopulaGAN data quality"
   ]
  },
  {
   "cell_type": "code",
   "execution_count": 26,
   "metadata": {},
   "outputs": [
    {
     "name": "stderr",
     "output_type": "stream",
     "text": [
      "                                                                                \r"
     ]
    }
   ],
   "source": [
    "real_users = users_df_train.sample(0.12)\n",
    "syn_users = generator_3.generate(real_users.count())\n",
    "gen_score = evaluate_synthetic(\n",
    "    syn_users.drop('user_idx'),\n",
    "    real_users.drop('user_idx')\n",
    ")"
   ]
  },
  {
   "cell_type": "code",
   "execution_count": 27,
   "metadata": {},
   "outputs": [
    {
     "data": {
      "text/plain": [
       "{'LogisticDetection': 4.461774025799059e-07,\n",
       " 'SVCDetection': 0.0,\n",
       " 'KSTest': 0.841080722456972,\n",
       " 'ContinuousKLDivergence': 0.734579322128674}"
      ]
     },
     "execution_count": 27,
     "metadata": {},
     "output_type": "execute_result"
    }
   ],
   "source": [
    "gen_score"
   ]
  },
  {
   "cell_type": "code",
   "execution_count": 34,
   "metadata": {},
   "outputs": [],
   "source": [
    "gen_result = pd.DataFrame(index = np.arange(4))\n",
    "gen_result['Model_name'] = 'CopulaGAN'\n",
    "gen_result['Metric_score'] = [v for k, v in gen_score.items()]\n",
    "gen_result['Metric_name'] = [k for k, v in gen_score.items()]"
   ]
  },
  {
   "cell_type": "code",
   "execution_count": 35,
   "metadata": {},
   "outputs": [
    {
     "data": {
      "text/html": [
       "<div>\n",
       "<style scoped>\n",
       "    .dataframe tbody tr th:only-of-type {\n",
       "        vertical-align: middle;\n",
       "    }\n",
       "\n",
       "    .dataframe tbody tr th {\n",
       "        vertical-align: top;\n",
       "    }\n",
       "\n",
       "    .dataframe thead th {\n",
       "        text-align: right;\n",
       "    }\n",
       "</style>\n",
       "<table border=\"1\" class=\"dataframe\">\n",
       "  <thead>\n",
       "    <tr style=\"text-align: right;\">\n",
       "      <th></th>\n",
       "      <th>Model_name</th>\n",
       "      <th>Metric_score</th>\n",
       "      <th>Metric_name</th>\n",
       "    </tr>\n",
       "  </thead>\n",
       "  <tbody>\n",
       "    <tr>\n",
       "      <th>0</th>\n",
       "      <td>GaussianCopula</td>\n",
       "      <td>1.517481e-01</td>\n",
       "      <td>LogisticDetection</td>\n",
       "    </tr>\n",
       "    <tr>\n",
       "      <th>1</th>\n",
       "      <td>GaussianCopula</td>\n",
       "      <td>9.282137e-03</td>\n",
       "      <td>SVCDetection</td>\n",
       "    </tr>\n",
       "    <tr>\n",
       "      <th>2</th>\n",
       "      <td>GaussianCopula</td>\n",
       "      <td>9.584879e-01</td>\n",
       "      <td>KSTest</td>\n",
       "    </tr>\n",
       "    <tr>\n",
       "      <th>3</th>\n",
       "      <td>GaussianCopula</td>\n",
       "      <td>9.641275e-01</td>\n",
       "      <td>ContinuousKLDivergence</td>\n",
       "    </tr>\n",
       "    <tr>\n",
       "      <th>0</th>\n",
       "      <td>CTGAN</td>\n",
       "      <td>0.000000e+00</td>\n",
       "      <td>LogisticDetection</td>\n",
       "    </tr>\n",
       "    <tr>\n",
       "      <th>1</th>\n",
       "      <td>CTGAN</td>\n",
       "      <td>0.000000e+00</td>\n",
       "      <td>SVCDetection</td>\n",
       "    </tr>\n",
       "    <tr>\n",
       "      <th>2</th>\n",
       "      <td>CTGAN</td>\n",
       "      <td>7.161023e-01</td>\n",
       "      <td>KSTest</td>\n",
       "    </tr>\n",
       "    <tr>\n",
       "      <th>3</th>\n",
       "      <td>CTGAN</td>\n",
       "      <td>4.877222e-01</td>\n",
       "      <td>ContinuousKLDivergence</td>\n",
       "    </tr>\n",
       "    <tr>\n",
       "      <th>0</th>\n",
       "      <td>CopulaGAN</td>\n",
       "      <td>4.461774e-07</td>\n",
       "      <td>LogisticDetection</td>\n",
       "    </tr>\n",
       "    <tr>\n",
       "      <th>1</th>\n",
       "      <td>CopulaGAN</td>\n",
       "      <td>0.000000e+00</td>\n",
       "      <td>SVCDetection</td>\n",
       "    </tr>\n",
       "    <tr>\n",
       "      <th>2</th>\n",
       "      <td>CopulaGAN</td>\n",
       "      <td>8.410807e-01</td>\n",
       "      <td>KSTest</td>\n",
       "    </tr>\n",
       "    <tr>\n",
       "      <th>3</th>\n",
       "      <td>CopulaGAN</td>\n",
       "      <td>7.345793e-01</td>\n",
       "      <td>ContinuousKLDivergence</td>\n",
       "    </tr>\n",
       "  </tbody>\n",
       "</table>\n",
       "</div>"
      ],
      "text/plain": [
       "       Model_name  Metric_score             Metric_name\n",
       "0  GaussianCopula  1.517481e-01       LogisticDetection\n",
       "1  GaussianCopula  9.282137e-03            SVCDetection\n",
       "2  GaussianCopula  9.584879e-01                  KSTest\n",
       "3  GaussianCopula  9.641275e-01  ContinuousKLDivergence\n",
       "0           CTGAN  0.000000e+00       LogisticDetection\n",
       "1           CTGAN  0.000000e+00            SVCDetection\n",
       "2           CTGAN  7.161023e-01                  KSTest\n",
       "3           CTGAN  4.877222e-01  ContinuousKLDivergence\n",
       "0       CopulaGAN  4.461774e-07       LogisticDetection\n",
       "1       CopulaGAN  0.000000e+00            SVCDetection\n",
       "2       CopulaGAN  8.410807e-01                  KSTest\n",
       "3       CopulaGAN  7.345793e-01  ContinuousKLDivergence"
      ]
     },
     "execution_count": 35,
     "metadata": {},
     "output_type": "execute_result"
    }
   ],
   "source": [
    "gen_result_df = pd.concat([gen_result_df, gen_result])\n",
    "gen_result_df"
   ]
  },
  {
   "cell_type": "markdown",
   "metadata": {},
   "source": [
    "# Fit TVAE"
   ]
  },
  {
   "cell_type": "code",
   "execution_count": 30,
   "metadata": {},
   "outputs": [
    {
     "name": "stdout",
     "output_type": "stream",
     "text": [
      "Fitting of TVAE: \n",
      "1908.250057220459\n"
     ]
    },
    {
     "name": "stderr",
     "output_type": "stream",
     "text": [
      "22/09/29 12:31:00 WARN CacheManager: Asked to cache already cached data.\n"
     ]
    }
   ],
   "source": [
    "generator_4= SDVDataGenerator(\n",
    "    label='synth',\n",
    "    id_column_name='user_idx',\n",
    "    model_name='tvae',\n",
    "    parallelization_level=4,\n",
    "    device_name='cpu',\n",
    "    seed=1234\n",
    ")\n",
    "\n",
    "items_generator = RealDataGenerator(label='items_real', seed=1234)\n",
    "start = time.time()\n",
    "generator_4.fit(users_df_train.sample(0.12).drop('user_idx'))\n",
    "end = time.time()\n",
    "print(f\"Fitting of TVAE: \")\n",
    "print(end - start)\n",
    "items_generator.fit(items_df_train)"
   ]
  },
  {
   "cell_type": "markdown",
   "metadata": {},
   "source": [
    "# TVAE data quality"
   ]
  },
  {
   "cell_type": "code",
   "execution_count": 31,
   "metadata": {},
   "outputs": [
    {
     "name": "stderr",
     "output_type": "stream",
     "text": [
      "                                                                                \r"
     ]
    }
   ],
   "source": [
    "real_users = users_df_train.sample(0.12)\n",
    "syn_users = generator_4.generate(real_users.count())\n",
    "gen_score = evaluate_synthetic(\n",
    "    syn_users.drop('user_idx'),\n",
    "    real_users.drop('user_idx')\n",
    ")"
   ]
  },
  {
   "cell_type": "code",
   "execution_count": 32,
   "metadata": {},
   "outputs": [
    {
     "data": {
      "text/plain": [
       "{'LogisticDetection': 0.26135843707308626,\n",
       " 'SVCDetection': 0.0960480188591788,\n",
       " 'KSTest': 0.9458112383440926,\n",
       " 'ContinuousKLDivergence': 0.9551500439344971}"
      ]
     },
     "execution_count": 32,
     "metadata": {},
     "output_type": "execute_result"
    }
   ],
   "source": [
    "gen_score"
   ]
  },
  {
   "cell_type": "code",
   "execution_count": 37,
   "metadata": {},
   "outputs": [],
   "source": [
    "gen_result = pd.DataFrame(index = np.arange(4))\n",
    "gen_result['Model_name'] = 'TVAE'\n",
    "gen_result['Metric_score'] = [v for k, v in gen_score.items()]\n",
    "gen_result['Metric_name'] = [k for k, v in gen_score.items()]"
   ]
  },
  {
   "cell_type": "code",
   "execution_count": 38,
   "metadata": {},
   "outputs": [
    {
     "data": {
      "text/html": [
       "<div>\n",
       "<style scoped>\n",
       "    .dataframe tbody tr th:only-of-type {\n",
       "        vertical-align: middle;\n",
       "    }\n",
       "\n",
       "    .dataframe tbody tr th {\n",
       "        vertical-align: top;\n",
       "    }\n",
       "\n",
       "    .dataframe thead th {\n",
       "        text-align: right;\n",
       "    }\n",
       "</style>\n",
       "<table border=\"1\" class=\"dataframe\">\n",
       "  <thead>\n",
       "    <tr style=\"text-align: right;\">\n",
       "      <th></th>\n",
       "      <th>Model_name</th>\n",
       "      <th>Metric_score</th>\n",
       "      <th>Metric_name</th>\n",
       "    </tr>\n",
       "  </thead>\n",
       "  <tbody>\n",
       "    <tr>\n",
       "      <th>0</th>\n",
       "      <td>GaussianCopula</td>\n",
       "      <td>1.517481e-01</td>\n",
       "      <td>LogisticDetection</td>\n",
       "    </tr>\n",
       "    <tr>\n",
       "      <th>1</th>\n",
       "      <td>GaussianCopula</td>\n",
       "      <td>9.282137e-03</td>\n",
       "      <td>SVCDetection</td>\n",
       "    </tr>\n",
       "    <tr>\n",
       "      <th>2</th>\n",
       "      <td>GaussianCopula</td>\n",
       "      <td>9.584879e-01</td>\n",
       "      <td>KSTest</td>\n",
       "    </tr>\n",
       "    <tr>\n",
       "      <th>3</th>\n",
       "      <td>GaussianCopula</td>\n",
       "      <td>9.641275e-01</td>\n",
       "      <td>ContinuousKLDivergence</td>\n",
       "    </tr>\n",
       "    <tr>\n",
       "      <th>0</th>\n",
       "      <td>CTGAN</td>\n",
       "      <td>0.000000e+00</td>\n",
       "      <td>LogisticDetection</td>\n",
       "    </tr>\n",
       "    <tr>\n",
       "      <th>1</th>\n",
       "      <td>CTGAN</td>\n",
       "      <td>0.000000e+00</td>\n",
       "      <td>SVCDetection</td>\n",
       "    </tr>\n",
       "    <tr>\n",
       "      <th>2</th>\n",
       "      <td>CTGAN</td>\n",
       "      <td>7.161023e-01</td>\n",
       "      <td>KSTest</td>\n",
       "    </tr>\n",
       "    <tr>\n",
       "      <th>3</th>\n",
       "      <td>CTGAN</td>\n",
       "      <td>4.877222e-01</td>\n",
       "      <td>ContinuousKLDivergence</td>\n",
       "    </tr>\n",
       "    <tr>\n",
       "      <th>0</th>\n",
       "      <td>CopulaGAN</td>\n",
       "      <td>4.461774e-07</td>\n",
       "      <td>LogisticDetection</td>\n",
       "    </tr>\n",
       "    <tr>\n",
       "      <th>1</th>\n",
       "      <td>CopulaGAN</td>\n",
       "      <td>0.000000e+00</td>\n",
       "      <td>SVCDetection</td>\n",
       "    </tr>\n",
       "    <tr>\n",
       "      <th>2</th>\n",
       "      <td>CopulaGAN</td>\n",
       "      <td>8.410807e-01</td>\n",
       "      <td>KSTest</td>\n",
       "    </tr>\n",
       "    <tr>\n",
       "      <th>3</th>\n",
       "      <td>CopulaGAN</td>\n",
       "      <td>7.345793e-01</td>\n",
       "      <td>ContinuousKLDivergence</td>\n",
       "    </tr>\n",
       "    <tr>\n",
       "      <th>0</th>\n",
       "      <td>TVAE</td>\n",
       "      <td>2.613584e-01</td>\n",
       "      <td>LogisticDetection</td>\n",
       "    </tr>\n",
       "    <tr>\n",
       "      <th>1</th>\n",
       "      <td>TVAE</td>\n",
       "      <td>9.604802e-02</td>\n",
       "      <td>SVCDetection</td>\n",
       "    </tr>\n",
       "    <tr>\n",
       "      <th>2</th>\n",
       "      <td>TVAE</td>\n",
       "      <td>9.458112e-01</td>\n",
       "      <td>KSTest</td>\n",
       "    </tr>\n",
       "    <tr>\n",
       "      <th>3</th>\n",
       "      <td>TVAE</td>\n",
       "      <td>9.551500e-01</td>\n",
       "      <td>ContinuousKLDivergence</td>\n",
       "    </tr>\n",
       "  </tbody>\n",
       "</table>\n",
       "</div>"
      ],
      "text/plain": [
       "       Model_name  Metric_score             Metric_name\n",
       "0  GaussianCopula  1.517481e-01       LogisticDetection\n",
       "1  GaussianCopula  9.282137e-03            SVCDetection\n",
       "2  GaussianCopula  9.584879e-01                  KSTest\n",
       "3  GaussianCopula  9.641275e-01  ContinuousKLDivergence\n",
       "0           CTGAN  0.000000e+00       LogisticDetection\n",
       "1           CTGAN  0.000000e+00            SVCDetection\n",
       "2           CTGAN  7.161023e-01                  KSTest\n",
       "3           CTGAN  4.877222e-01  ContinuousKLDivergence\n",
       "0       CopulaGAN  4.461774e-07       LogisticDetection\n",
       "1       CopulaGAN  0.000000e+00            SVCDetection\n",
       "2       CopulaGAN  8.410807e-01                  KSTest\n",
       "3       CopulaGAN  7.345793e-01  ContinuousKLDivergence\n",
       "0            TVAE  2.613584e-01       LogisticDetection\n",
       "1            TVAE  9.604802e-02            SVCDetection\n",
       "2            TVAE  9.458112e-01                  KSTest\n",
       "3            TVAE  9.551500e-01  ContinuousKLDivergence"
      ]
     },
     "execution_count": 38,
     "metadata": {},
     "output_type": "execute_result"
    }
   ],
   "source": [
    "gen_result_df = pd.concat([gen_result_df, gen_result])\n",
    "gen_result_df"
   ]
  },
  {
   "cell_type": "markdown",
   "metadata": {},
   "source": [
    "# Baseline quality"
   ]
  },
  {
   "cell_type": "markdown",
   "metadata": {},
   "source": [
    "В качестве бейзлайна возьмем синтетические данные, сгенерированные из многомерного нормального распределения со вектором средних, равных среднему значению признака в исходных данных, и диагональной ковариационной матрицей, элементы диагонали которой равны стандартному отклонению признака в исходных данных."
   ]
  },
  {
   "cell_type": "code",
   "execution_count": 22,
   "metadata": {},
   "outputs": [
    {
     "name": "stderr",
     "output_type": "stream",
     "text": [
      "                                                                                \r"
     ]
    }
   ],
   "source": [
    "means = users_df_train.toPandas().drop(columns=['user_idx']).mean().values\n",
    "stds = users_df_train.toPandas().drop(columns=['user_idx']).std().values\n",
    "cov_m = np.diag(stds)\n",
    "\n",
    "real_users = users_df_train.sample(0.12)\n",
    "rand_arr = np.random.multivariate_normal(means, cov_m, users_df_train.sample(0.12).count())\n",
    "users_df_baseline = pd.DataFrame(data = rand_arr,\n",
    "                                columns=[f'user_genre{i}' for i in range(19)]+['user_rating_avg']+[f'user_w2v_{i}' for i in range(300)])\n",
    "num_partitions = int(spark.sparkContext.getConf().get('spark.sql.shuffle.partitions'))\n",
    "users_df_baseline = pandas_to_spark(users_df_baseline, spark_session=spark).repartition(num_partitions)"
   ]
  },
  {
   "cell_type": "code",
   "execution_count": 24,
   "metadata": {},
   "outputs": [
    {
     "name": "stderr",
     "output_type": "stream",
     "text": [
      "22/10/11 14:26:10 WARN TaskSetManager: Stage 26 contains a task of very large size (2887 KiB). The maximum recommended task size is 1000 KiB.\n",
      "                                                                                \r"
     ]
    }
   ],
   "source": [
    "from sim4rec.utils import evaluate_synthetic\n",
    "\n",
    "baseline_score = evaluate_synthetic(\n",
    "    users_df_baseline,\n",
    "    real_users.drop('user_idx')\n",
    ")"
   ]
  },
  {
   "cell_type": "code",
   "execution_count": 25,
   "metadata": {},
   "outputs": [
    {
     "data": {
      "text/plain": [
       "{'LogisticDetection': 0.9968993231273967,\n",
       " 'SVCDetection': 0.0,\n",
       " 'KSTest': 0.6004301614137736,\n",
       " 'ContinuousKLDivergence': 0.13140950091006912}"
      ]
     },
     "execution_count": 25,
     "metadata": {},
     "output_type": "execute_result"
    }
   ],
   "source": [
    "baseline_score"
   ]
  },
  {
   "cell_type": "code",
   "execution_count": 39,
   "metadata": {},
   "outputs": [],
   "source": [
    "gen_result = pd.DataFrame(index = np.arange(4))\n",
    "gen_result['Model_name'] = 'Baseline'\n",
    "gen_result['Metric_score'] = [v for k, v in baseline_score.items()]\n",
    "gen_result['Metric_name'] = [k for k, v in baseline_score.items()]"
   ]
  },
  {
   "cell_type": "code",
   "execution_count": 40,
   "metadata": {},
   "outputs": [],
   "source": [
    "gen_result_df = pd.concat([gen_result_df, gen_result])"
   ]
  },
  {
   "cell_type": "code",
   "execution_count": 41,
   "metadata": {},
   "outputs": [
    {
     "data": {
      "text/html": [
       "<div>\n",
       "<style scoped>\n",
       "    .dataframe tbody tr th:only-of-type {\n",
       "        vertical-align: middle;\n",
       "    }\n",
       "\n",
       "    .dataframe tbody tr th {\n",
       "        vertical-align: top;\n",
       "    }\n",
       "\n",
       "    .dataframe thead th {\n",
       "        text-align: right;\n",
       "    }\n",
       "</style>\n",
       "<table border=\"1\" class=\"dataframe\">\n",
       "  <thead>\n",
       "    <tr style=\"text-align: right;\">\n",
       "      <th></th>\n",
       "      <th>Model_name</th>\n",
       "      <th>Metric_score</th>\n",
       "      <th>Metric_name</th>\n",
       "    </tr>\n",
       "  </thead>\n",
       "  <tbody>\n",
       "    <tr>\n",
       "      <th>0</th>\n",
       "      <td>GaussianCopula</td>\n",
       "      <td>1.517481e-01</td>\n",
       "      <td>LogisticDetection</td>\n",
       "    </tr>\n",
       "    <tr>\n",
       "      <th>1</th>\n",
       "      <td>GaussianCopula</td>\n",
       "      <td>9.282137e-03</td>\n",
       "      <td>SVCDetection</td>\n",
       "    </tr>\n",
       "    <tr>\n",
       "      <th>2</th>\n",
       "      <td>GaussianCopula</td>\n",
       "      <td>9.584879e-01</td>\n",
       "      <td>KSTest</td>\n",
       "    </tr>\n",
       "    <tr>\n",
       "      <th>3</th>\n",
       "      <td>GaussianCopula</td>\n",
       "      <td>9.641275e-01</td>\n",
       "      <td>ContinuousKLDivergence</td>\n",
       "    </tr>\n",
       "    <tr>\n",
       "      <th>0</th>\n",
       "      <td>CTGAN</td>\n",
       "      <td>0.000000e+00</td>\n",
       "      <td>LogisticDetection</td>\n",
       "    </tr>\n",
       "    <tr>\n",
       "      <th>1</th>\n",
       "      <td>CTGAN</td>\n",
       "      <td>0.000000e+00</td>\n",
       "      <td>SVCDetection</td>\n",
       "    </tr>\n",
       "    <tr>\n",
       "      <th>2</th>\n",
       "      <td>CTGAN</td>\n",
       "      <td>7.161023e-01</td>\n",
       "      <td>KSTest</td>\n",
       "    </tr>\n",
       "    <tr>\n",
       "      <th>3</th>\n",
       "      <td>CTGAN</td>\n",
       "      <td>4.877222e-01</td>\n",
       "      <td>ContinuousKLDivergence</td>\n",
       "    </tr>\n",
       "    <tr>\n",
       "      <th>0</th>\n",
       "      <td>CopulaGAN</td>\n",
       "      <td>4.461774e-07</td>\n",
       "      <td>LogisticDetection</td>\n",
       "    </tr>\n",
       "    <tr>\n",
       "      <th>1</th>\n",
       "      <td>CopulaGAN</td>\n",
       "      <td>0.000000e+00</td>\n",
       "      <td>SVCDetection</td>\n",
       "    </tr>\n",
       "    <tr>\n",
       "      <th>2</th>\n",
       "      <td>CopulaGAN</td>\n",
       "      <td>8.410807e-01</td>\n",
       "      <td>KSTest</td>\n",
       "    </tr>\n",
       "    <tr>\n",
       "      <th>3</th>\n",
       "      <td>CopulaGAN</td>\n",
       "      <td>7.345793e-01</td>\n",
       "      <td>ContinuousKLDivergence</td>\n",
       "    </tr>\n",
       "    <tr>\n",
       "      <th>0</th>\n",
       "      <td>TVAE</td>\n",
       "      <td>2.613584e-01</td>\n",
       "      <td>LogisticDetection</td>\n",
       "    </tr>\n",
       "    <tr>\n",
       "      <th>1</th>\n",
       "      <td>TVAE</td>\n",
       "      <td>9.604802e-02</td>\n",
       "      <td>SVCDetection</td>\n",
       "    </tr>\n",
       "    <tr>\n",
       "      <th>2</th>\n",
       "      <td>TVAE</td>\n",
       "      <td>9.458112e-01</td>\n",
       "      <td>KSTest</td>\n",
       "    </tr>\n",
       "    <tr>\n",
       "      <th>3</th>\n",
       "      <td>TVAE</td>\n",
       "      <td>9.551500e-01</td>\n",
       "      <td>ContinuousKLDivergence</td>\n",
       "    </tr>\n",
       "    <tr>\n",
       "      <th>0</th>\n",
       "      <td>Baseline</td>\n",
       "      <td>9.968993e-01</td>\n",
       "      <td>LogisticDetection</td>\n",
       "    </tr>\n",
       "    <tr>\n",
       "      <th>1</th>\n",
       "      <td>Baseline</td>\n",
       "      <td>0.000000e+00</td>\n",
       "      <td>SVCDetection</td>\n",
       "    </tr>\n",
       "    <tr>\n",
       "      <th>2</th>\n",
       "      <td>Baseline</td>\n",
       "      <td>6.004302e-01</td>\n",
       "      <td>KSTest</td>\n",
       "    </tr>\n",
       "    <tr>\n",
       "      <th>3</th>\n",
       "      <td>Baseline</td>\n",
       "      <td>1.314095e-01</td>\n",
       "      <td>ContinuousKLDivergence</td>\n",
       "    </tr>\n",
       "  </tbody>\n",
       "</table>\n",
       "</div>"
      ],
      "text/plain": [
       "       Model_name  Metric_score             Metric_name\n",
       "0  GaussianCopula  1.517481e-01       LogisticDetection\n",
       "1  GaussianCopula  9.282137e-03            SVCDetection\n",
       "2  GaussianCopula  9.584879e-01                  KSTest\n",
       "3  GaussianCopula  9.641275e-01  ContinuousKLDivergence\n",
       "0           CTGAN  0.000000e+00       LogisticDetection\n",
       "1           CTGAN  0.000000e+00            SVCDetection\n",
       "2           CTGAN  7.161023e-01                  KSTest\n",
       "3           CTGAN  4.877222e-01  ContinuousKLDivergence\n",
       "0       CopulaGAN  4.461774e-07       LogisticDetection\n",
       "1       CopulaGAN  0.000000e+00            SVCDetection\n",
       "2       CopulaGAN  8.410807e-01                  KSTest\n",
       "3       CopulaGAN  7.345793e-01  ContinuousKLDivergence\n",
       "0            TVAE  2.613584e-01       LogisticDetection\n",
       "1            TVAE  9.604802e-02            SVCDetection\n",
       "2            TVAE  9.458112e-01                  KSTest\n",
       "3            TVAE  9.551500e-01  ContinuousKLDivergence\n",
       "0        Baseline  9.968993e-01       LogisticDetection\n",
       "1        Baseline  0.000000e+00            SVCDetection\n",
       "2        Baseline  6.004302e-01                  KSTest\n",
       "3        Baseline  1.314095e-01  ContinuousKLDivergence"
      ]
     },
     "execution_count": 41,
     "metadata": {},
     "output_type": "execute_result"
    }
   ],
   "source": [
    "gen_result_df"
   ]
  },
  {
   "cell_type": "code",
   "execution_count": 42,
   "metadata": {},
   "outputs": [
    {
     "data": {
      "image/png": "[encoded data removed]",
      "text/plain": [
       "<Figure size 1152x576 with 1 Axes>"
      ]
     },
     "metadata": {},
     "output_type": "display_data"
    }
   ],
   "source": [
    "import matplotlib\n",
    "import seaborn as sns\n",
    "from matplotlib import rcParams\n",
    "import matplotlib.pyplot as plt\n",
    "import itertools\n",
    "\n",
    "rcParams['figure.figsize'] = (3, 3)\n",
    "matplotlib.rc('xtick', labelsize=15) \n",
    "matplotlib.rc('ytick', labelsize=15)\n",
    "sns.set(font_scale=1.8)  # crazy big\n",
    "plot = sns.catplot(data=gen_result_df, x=\"Metric_name\", y=\"Metric_score\", hue=\"Model_name\", kind=\"bar\", aspect=2, height=8, palette=[\n",
    "    \"C1\", \"C2\", \"C0\", \"C3\", \"C4\"\n",
    "], legend=False)\n",
    "ax = plot.facet_axis(0,0)\n",
    "def create_hist_values(df):\n",
    "    model_names = df['Model_name'].unique()\n",
    "    metric_names = df[\"Metric_name\"].unique()\n",
    "    hist_values = []\n",
    "    for model, metric in itertools.product(model_names, metric_names):\n",
    "        hist_values.append(df[(df['Model_name'] == model) & (df['Metric_name'] == metric)]['Metric_score'].values[0])\n",
    "    return hist_values\n",
    "hist_val = create_hist_values(gen_result_df)\n",
    "for (p, val) in zip(ax.patches, hist_val):\n",
    "    ax.text(p.get_x() - 0.01, \n",
    "            p.get_height() * 1.02, \n",
    "           '{:1.2f}'.format(val),   \n",
    "            color='black', \n",
    "            rotation='horizontal', \n",
    "            size='medium')\n",
    "plt.legend(loc='upper center', bbox_to_anchor=(0.5, -0.1), fancybox=True, ncol=5)\n",
    "plt.tight_layout()"
   ]
  },
  {
   "cell_type": "markdown",
   "metadata": {},
   "source": [
    "Оказалось, что синтетические данные, сгенерированные из многомерногог нормального распределения, не отличимы от исходных логистической регрессией. По остальным метрикам качество бейзлайна ниже (или такое же), как у остальных моделей.\n",
    "\n",
    "В целом, качество моделей генерации кажется недостаточно высоким с точки зрения метрик LogisticDetection и SVCDetection. Кроме того, все модели на нейронных сетях требуют достаточно много времени на обучение (на это влияет размерность профилей пользователей, 320). Для дальнейшей работы было решено генерировать эмбеддинги профилей пользователей. Экспериментальное исследование эмбеддингов и их влияния на качество генерации синтетики представлено в ноутбуке movielens_embeddings.ipynb."
   ]
  },
  {
   "cell_type": "code",
   "execution_count": null,
   "metadata": {},
   "outputs": [],
   "source": []
  }
 ],
 "metadata": {
  "kernelspec": {
   "display_name": "Python [conda env:.conda-SynEvaRec]",
   "language": "python",
   "name": "conda-env-.conda-SynEvaRec-py"
  },
  "language_info": {
   "codemirror_mode": {
    "name": "ipython",
    "version": 3
   },
   "file_extension": ".py",
   "mimetype": "text/x-python",
   "name": "python",
   "nbconvert_exporter": "python",
   "pygments_lexer": "ipython3",
   "version": "3.8.11"
  },
  "vscode": {
   "interpreter": {
    "hash": "78c166fdb4da85b875f4a1b4184bc0bbe6f549198de4823972c921f29f4d027c"
   }
  }
 },
 "nbformat": 4,
 "nbformat_minor": 4
}
