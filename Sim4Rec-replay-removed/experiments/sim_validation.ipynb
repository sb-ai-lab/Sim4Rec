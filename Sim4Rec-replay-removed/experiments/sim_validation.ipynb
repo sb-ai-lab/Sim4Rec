{
 "cells": [
  {
   "cell_type": "markdown",
   "metadata": {},
   "source": [
    "В этом ноутбуке приведен валидационный эксперимент, в рамках которого происходит обучение рекомендательной системы с помощью симулятора на искусственно сгенерированных данных.\n",
    "\n",
    "Профили пользователей генерируются из распределения N(1,1); половина предложений генерируется из распределения N(-1, 1), другая половина -- из распределения N(1, 1). Отклики формируются как скалярное произведение профиля пользователя и профиля предложения, бинаризованное по порогу 0.5."
   ]
  },
  {
   "cell_type": "code",
   "execution_count": 1,
   "metadata": {},
   "outputs": [
    {
     "name": "stderr",
     "output_type": "stream",
     "text": [
      "22/11/10 12:27:36 WARN NativeCodeLoader: Unable to load native-hadoop library for your platform... using builtin-java classes where applicable\n",
      "Using Spark's default log4j profile: org/apache/spark/log4j-defaults.properties\n",
      "Setting default log level to \"WARN\".\n",
      "To adjust logging level use sc.setLogLevel(newLevel). For SparkR, use setLogLevel(newLevel).\n",
      "22/11/10 12:27:37 WARN SparkConf: Note that spark.local.dir will be overridden by the value set by the cluster manager (via SPARK_LOCAL_DIRS in mesos/standalone/kubernetes and LOCAL_DIRS in YARN).\n",
      "22/11/10 12:27:38 WARN Utils: Service 'SparkUI' could not bind on port 4040. Attempting port 4041.\n",
      "22/11/10 12:27:38 WARN Utils: Service 'SparkUI' could not bind on port 4041. Attempting port 4042.\n"
     ]
    }
   ],
   "source": [
    "import warnings\n",
    "warnings.filterwarnings(\"ignore\")\n",
    "\n",
    "import random\n",
    "\n",
    "import pandas as pd\n",
    "import numpy as np\n",
    "\n",
    "from pyspark.sql import SparkSession\n",
    "\n",
    "from replay.session_handler import State\n",
    "\n",
    "from sim4rec.utils import pandas_to_spark\n",
    "\n",
    "SPARK_LOCAL_DIR = './tmp'\n",
    "CHECKPOINT_DIR = '/data/home/estavinova/tmp/checkpoints'\n",
    "\n",
    "spark = SparkSession.builder\\\n",
    "    .appName('simulator_validation')\\\n",
    "    .master('local[4]')\\\n",
    "    .config('spark.sql.shuffle.partitions', '4')\\\n",
    "    .config('spark.default.parallelism', '4')\\\n",
    "    .config('spark.driver.extraJavaOptions', '-XX:+UseG1GC')\\\n",
    "    .config('spark.executor.extraJavaOptions', '-XX:+UseG1GC')\\\n",
    "    .config('spark.sql.autoBroadcastJoinThreshold', '-1')\\\n",
    "    .config('spark.driver.memory', '32g')\\\n",
    "    .config('spark.local.dir', SPARK_LOCAL_DIR)\\\n",
    "    .getOrCreate()\n",
    "\n",
    "State(spark)\n",
    "\n",
    "users_df = pd.DataFrame(data=np.random.normal(1, 1, size=(10000, 35)), columns=[f'user_attr_{i}' for i in range(35)]) \n",
    "items_df = pd.DataFrame(data=np.random.normal(-1, 1, size=(2000, 35)), columns=[f'item_attr_{i}' for i in range(35)]) \n",
    "items_df.loc[random.sample(range(2000), 1000)] = np.random.normal(1, 1, size=(1000, 35))\n",
    "users_df['user_id'] = np.arange(len(users_df))\n",
    "items_df['item_id'] = np.arange(len(items_df))\n",
    "history_df_all = pd.DataFrame()\n",
    "history_df_all['user_id'] = np.random.randint(0, 10000, size=33000)\n",
    "history_df_all['item_id'] = np.random.randint(0, 2000, size=33000)\n",
    "history_df_all['relevance'] = 0\n",
    "\n",
    "users_matrix = users_df.values[history_df_all.values[:, 0], :-1]\n",
    "items_matrix = items_df.values[history_df_all.values[:, 1], :-1]\n",
    "dot = np.sum(users_matrix * items_matrix, axis=1)\n",
    "history_df_all['relevance'] = np.where(dot >= 0.5, 1, 0)\n",
    "history_df_all['timestamp'] = 0\n",
    "history_df_all = history_df_all.drop_duplicates(subset=['user_id', 'item_id'], ignore_index=True)\n",
    "\n",
    "history_df_train = history_df_all.iloc[:30000]\n",
    "history_df_val = history_df_all.iloc[30000:]\n",
    "\n",
    "users_df = pandas_to_spark(users_df)\n",
    "items_df = pandas_to_spark(items_df)\n",
    "history_df_train = pandas_to_spark(history_df_train)\n",
    "history_df_val = pandas_to_spark(history_df_val)"
   ]
  },
  {
   "cell_type": "markdown",
   "metadata": {},
   "source": [
    "### Syn data quality"
   ]
  },
  {
   "cell_type": "markdown",
   "metadata": {},
   "source": [
    "На искусственно сгенерированных профилях пользователей обучается модель GaussianCopula для генерации синтетических профилей."
   ]
  },
  {
   "cell_type": "code",
   "execution_count": 2,
   "metadata": {},
   "outputs": [
    {
     "name": "stderr",
     "output_type": "stream",
     "text": [
      "22/11/10 12:28:10 WARN package: Truncated the string representation of a plan since it was too large. This behavior can be adjusted by setting 'spark.sql.debug.maxToStringFields'.\n",
      "                                                                                \r"
     ]
    },
    {
     "name": "stdout",
     "output_type": "stream",
     "text": [
      "Fitting of users generator: 5.110503196716309\n"
     ]
    },
    {
     "name": "stderr",
     "output_type": "stream",
     "text": [
      "                                                                                \r"
     ]
    },
    {
     "name": "stdout",
     "output_type": "stream",
     "text": [
      "{'LogisticDetection': 1.0, 'SVCDetection': 0.925038533099306, 'KSTest': 0.9892714285714285, 'ContinuousKLDivergence': 0.9843989737554713}\n"
     ]
    }
   ],
   "source": [
    "from sim4rec.modules import SDVDataGenerator, RealDataGenerator\n",
    "from sim4rec.modules import evaluate_synthetic\n",
    "import time\n",
    "\n",
    "user_generator = SDVDataGenerator(\n",
    "    label='synth',\n",
    "    id_column_name='user_id',\n",
    "    model_name='gaussiancopula',\n",
    "    parallelization_level=4,\n",
    "    seed=1234\n",
    ")\n",
    "\n",
    "item_generator = RealDataGenerator(\n",
    "    label='real',\n",
    "    seed=1234\n",
    ")\n",
    "\n",
    "start = time.time()\n",
    "user_generator.fit(users_df.drop('user_id'))\n",
    "end = time.time()\n",
    "print(f'Fitting of users generator: {end - start}')\n",
    "\n",
    "item_generator.fit(items_df)\n",
    "\n",
    "syn_users = user_generator.generate(10000)\n",
    "gen_score = evaluate_synthetic(syn_users.drop('user_id'), users_df.drop('user_id'))\n",
    "print(gen_score)"
   ]
  },
  {
   "cell_type": "markdown",
   "metadata": {},
   "source": [
    "### Response function quality"
   ]
  },
  {
   "cell_type": "markdown",
   "metadata": {},
   "source": [
    "Синтетическая функция отклика представляет собой случайную величину из распределения Бернулли, вероятность успеха которого определяется косинусным расстоянием между профилями пользователя и предложения."
   ]
  },
  {
   "cell_type": "code",
   "execution_count": 3,
   "metadata": {},
   "outputs": [],
   "source": [
    "from pyspark.ml.feature import VectorAssembler\n",
    "from pyspark.ml import PipelineModel\n",
    "from sim4rec.response import CosineSimilatiry, BernoulliResponse\n",
    "\n",
    "\n",
    "va_users = VectorAssembler(\n",
    "    inputCols=users_df.columns[:-1],\n",
    "    outputCol='features_usr'\n",
    ")\n",
    "\n",
    "va_items = VectorAssembler(\n",
    "    inputCols=items_df.columns[:-1],\n",
    "    outputCol='features_itm'\n",
    ")\n",
    "\n",
    "cos_sim = CosineSimilatiry(\n",
    "    inputCols=[\"features_usr\", \"features_itm\"],\n",
    "    outputCol=\"proba\"\n",
    ")\n",
    "\n",
    "br = BernoulliResponse(inputCol='proba', outputCol='response')\n",
    "\n",
    "cos_sim_model = PipelineModel(\n",
    "    stages=[\n",
    "        va_users,\n",
    "        va_items,\n",
    "        cos_sim,\n",
    "        br\n",
    "    ]\n",
    ")"
   ]
  },
  {
   "cell_type": "code",
   "execution_count": 4,
   "metadata": {},
   "outputs": [
    {
     "name": "stderr",
     "output_type": "stream",
     "text": [
      "                                                                                \r"
     ]
    },
    {
     "data": {
      "text/html": [
       "<div>\n",
       "<style scoped>\n",
       "    .dataframe tbody tr th:only-of-type {\n",
       "        vertical-align: middle;\n",
       "    }\n",
       "\n",
       "    .dataframe tbody tr th {\n",
       "        vertical-align: top;\n",
       "    }\n",
       "\n",
       "    .dataframe thead th {\n",
       "        text-align: right;\n",
       "    }\n",
       "</style>\n",
       "<table border=\"1\" class=\"dataframe\">\n",
       "  <thead>\n",
       "    <tr style=\"text-align: right;\">\n",
       "      <th></th>\n",
       "      <th>relevance</th>\n",
       "      <th>response</th>\n",
       "    </tr>\n",
       "  </thead>\n",
       "  <tbody>\n",
       "    <tr>\n",
       "      <th>0</th>\n",
       "      <td>1.0</td>\n",
       "      <td>1.0</td>\n",
       "    </tr>\n",
       "    <tr>\n",
       "      <th>1</th>\n",
       "      <td>1.0</td>\n",
       "      <td>1.0</td>\n",
       "    </tr>\n",
       "    <tr>\n",
       "      <th>2</th>\n",
       "      <td>1.0</td>\n",
       "      <td>0.0</td>\n",
       "    </tr>\n",
       "    <tr>\n",
       "      <th>3</th>\n",
       "      <td>1.0</td>\n",
       "      <td>1.0</td>\n",
       "    </tr>\n",
       "    <tr>\n",
       "      <th>4</th>\n",
       "      <td>1.0</td>\n",
       "      <td>0.0</td>\n",
       "    </tr>\n",
       "    <tr>\n",
       "      <th>5</th>\n",
       "      <td>1.0</td>\n",
       "      <td>1.0</td>\n",
       "    </tr>\n",
       "    <tr>\n",
       "      <th>6</th>\n",
       "      <td>1.0</td>\n",
       "      <td>0.0</td>\n",
       "    </tr>\n",
       "  </tbody>\n",
       "</table>\n",
       "</div>"
      ],
      "text/plain": [
       "   relevance  response\n",
       "0        1.0       1.0\n",
       "1        1.0       1.0\n",
       "2        1.0       0.0\n",
       "3        1.0       1.0\n",
       "4        1.0       0.0\n",
       "5        1.0       1.0\n",
       "6        1.0       0.0"
      ]
     },
     "execution_count": 4,
     "metadata": {},
     "output_type": "execute_result"
    }
   ],
   "source": [
    "import pyspark.sql.functions as sf\n",
    "\n",
    "train_df = history_df_train.join(users_df, 'user_id', 'left')\\\n",
    "                           .join(items_df, 'item_id', 'left')\\\n",
    "                           .drop('timestamp')\n",
    "\n",
    "cos_df = cos_sim_model.transform(train_df)\\\n",
    "                      .select(\"user_id\", \"item_id\", \"relevance\", \"proba\", \"response\")\\\n",
    "                      .withColumn('relevance', sf.col('relevance').cast('double'))\\\n",
    "                      .withColumn('response', sf.col('response').cast('double'))\n",
    "\n",
    "cos_pdf = cos_df.toPandas()\n",
    "cos_pdf[[\"relevance\", \"response\"]].head(7)"
   ]
  },
  {
   "cell_type": "code",
   "execution_count": 5,
   "metadata": {},
   "outputs": [
    {
     "data": {
      "text/html": [
       "<div>\n",
       "<style scoped>\n",
       "    .dataframe tbody tr th:only-of-type {\n",
       "        vertical-align: middle;\n",
       "    }\n",
       "\n",
       "    .dataframe tbody tr th {\n",
       "        vertical-align: top;\n",
       "    }\n",
       "\n",
       "    .dataframe thead th {\n",
       "        text-align: right;\n",
       "    }\n",
       "</style>\n",
       "<table border=\"1\" class=\"dataframe\">\n",
       "  <thead>\n",
       "    <tr style=\"text-align: right;\">\n",
       "      <th></th>\n",
       "      <th>relevance</th>\n",
       "      <th>response</th>\n",
       "    </tr>\n",
       "  </thead>\n",
       "  <tbody>\n",
       "    <tr>\n",
       "      <th>count</th>\n",
       "      <td>30000.000000</td>\n",
       "      <td>30000.000000</td>\n",
       "    </tr>\n",
       "    <tr>\n",
       "      <th>mean</th>\n",
       "      <td>0.501867</td>\n",
       "      <td>0.499967</td>\n",
       "    </tr>\n",
       "    <tr>\n",
       "      <th>std</th>\n",
       "      <td>0.500005</td>\n",
       "      <td>0.500008</td>\n",
       "    </tr>\n",
       "    <tr>\n",
       "      <th>min</th>\n",
       "      <td>0.000000</td>\n",
       "      <td>0.000000</td>\n",
       "    </tr>\n",
       "    <tr>\n",
       "      <th>25%</th>\n",
       "      <td>0.000000</td>\n",
       "      <td>0.000000</td>\n",
       "    </tr>\n",
       "    <tr>\n",
       "      <th>50%</th>\n",
       "      <td>1.000000</td>\n",
       "      <td>0.000000</td>\n",
       "    </tr>\n",
       "    <tr>\n",
       "      <th>75%</th>\n",
       "      <td>1.000000</td>\n",
       "      <td>1.000000</td>\n",
       "    </tr>\n",
       "    <tr>\n",
       "      <th>max</th>\n",
       "      <td>1.000000</td>\n",
       "      <td>1.000000</td>\n",
       "    </tr>\n",
       "  </tbody>\n",
       "</table>\n",
       "</div>"
      ],
      "text/plain": [
       "          relevance      response\n",
       "count  30000.000000  30000.000000\n",
       "mean       0.501867      0.499967\n",
       "std        0.500005      0.500008\n",
       "min        0.000000      0.000000\n",
       "25%        0.000000      0.000000\n",
       "50%        1.000000      0.000000\n",
       "75%        1.000000      1.000000\n",
       "max        1.000000      1.000000"
      ]
     },
     "execution_count": 5,
     "metadata": {},
     "output_type": "execute_result"
    }
   ],
   "source": [
    "cos_pdf[[\"relevance\", \"response\"]].describe()"
   ]
  },
  {
   "cell_type": "code",
   "execution_count": 6,
   "metadata": {},
   "outputs": [
    {
     "data": {
      "text/plain": [
       "<AxesSubplot: >"
      ]
     },
     "execution_count": 6,
     "metadata": {},
     "output_type": "execute_result"
    },
    {
     "data": {
      "image/png": "[encoded data removed]",
      "text/plain": [
       "<Figure size 640x480 with 1 Axes>"
      ]
     },
     "metadata": {},
     "output_type": "display_data"
    }
   ],
   "source": [
    "cos_pdf['proba'].hist()"
   ]
  },
  {
   "cell_type": "code",
   "execution_count": 7,
   "metadata": {},
   "outputs": [
    {
     "data": {
      "text/plain": [
       "<AxesSubplot: >"
      ]
     },
     "execution_count": 7,
     "metadata": {},
     "output_type": "execute_result"
    },
    {
     "data": {
      "image/png": "[encoded data removed]",
      "text/plain": [
       "<Figure size 640x480 with 1 Axes>"
      ]
     },
     "metadata": {},
     "output_type": "display_data"
    }
   ],
   "source": [
    "cos_pdf['response'].hist()"
   ]
  },
  {
   "cell_type": "code",
   "execution_count": 8,
   "metadata": {},
   "outputs": [
    {
     "name": "stderr",
     "output_type": "stream",
     "text": [
      "                                                                                \r"
     ]
    },
    {
     "name": "stdout",
     "output_type": "stream",
     "text": [
      "{'areaUnderROC': 0.9999997688856677} {'weightedPrecision': 0.6665738021969205, 'weightedRecall': 0.6665666666666666}\n"
     ]
    }
   ],
   "source": [
    "from sim4rec.modules import EvaluateMetrics\n",
    "\n",
    "prob_eval = EvaluateMetrics(\n",
    "    userKeyCol='user_id', itemKeyCol='item_id',\n",
    "    predictionCol='proba', labelCol='relevance',\n",
    "    mllib_metrics='areaUnderROC'\n",
    ")\n",
    "\n",
    "resp_eval = EvaluateMetrics(\n",
    "    userKeyCol='user_id', itemKeyCol='item_id',\n",
    "    predictionCol='response', labelCol='relevance',\n",
    "    mllib_metrics=['weightedPrecision', 'weightedRecall']\n",
    ")\n",
    "\n",
    "print(prob_eval(cos_df), resp_eval(cos_df))"
   ]
  },
  {
   "cell_type": "markdown",
   "metadata": {},
   "source": [
    "### RecSys training"
   ]
  },
  {
   "cell_type": "markdown",
   "metadata": {},
   "source": [
    "Рекомендательная система обучается с помощью взаимодействия с симулятором в цикле. Качество рекомендательной системы оценивается с помощью метрик NDCG@10 и Precision@10."
   ]
  },
  {
   "cell_type": "code",
   "execution_count": 9,
   "metadata": {},
   "outputs": [],
   "source": [
    "from sim4rec.modules import Simulator\n",
    "\n",
    "sim = Simulator(\n",
    "    user_gen=user_generator,\n",
    "    item_gen=item_generator,\n",
    "    user_key_col='user_id',\n",
    "    item_key_col='item_id',\n",
    "    spark_session=spark,\n",
    "    data_dir=f'{CHECKPOINT_DIR}/validation',\n",
    ")\n",
    "\n",
    "from sim4rec.modules import EvaluateMetrics\n",
    "from replay.metrics import NDCG, Precision, RocAuc\n",
    "\n",
    "evaluator = EvaluateMetrics(\n",
    "    userKeyCol='user_id',\n",
    "    itemKeyCol='item_id',\n",
    "    predictionCol='relevance',\n",
    "    labelCol='response',\n",
    "    replay_label_filter=1.0,\n",
    "    replay_metrics={NDCG() : 10, Precision() : 10, RocAuc(): 10}\n",
    ")"
   ]
  },
  {
   "cell_type": "code",
   "execution_count": 10,
   "metadata": {},
   "outputs": [
    {
     "name": "stderr",
     "output_type": "stream",
     "text": [
      "                                                                                \r"
     ]
    }
   ],
   "source": [
    "from replay.data_preparator import Indexer\n",
    "\n",
    "indexer = Indexer(user_col='user_id', item_col='item_id')\n",
    "indexer.fit(users=user_generator.sample(0.01).unionByName(users_df), items=items_df)\n",
    "\n",
    "from replay.models import UCB\n",
    "from replay.models import RandomRec\n",
    "\n",
    "ucb = UCB(sample=True)\n",
    "ucb.fit(log=indexer.transform(history_df_train.drop('response').limit(1)))\n",
    "\n",
    "random_uni = RandomRec(distribution=\"uniform\")\n",
    "random_uni.fit(log=indexer.transform(history_df_train.drop('response')))"
   ]
  },
  {
   "cell_type": "code",
   "execution_count": 11,
   "metadata": {},
   "outputs": [
    {
     "name": "stderr",
     "output_type": "stream",
     "text": [
      "                                                                                \r"
     ]
    },
    {
     "name": "stdout",
     "output_type": "stream",
     "text": [
      "Iteration 0 finished with time 26.462904453277588 sec.\n"
     ]
    },
    {
     "name": "stderr",
     "output_type": "stream",
     "text": [
      "                                                                                \r"
     ]
    },
    {
     "name": "stdout",
     "output_type": "stream",
     "text": [
      "Iteration 1 finished with time 20.171639442443848 sec.\n"
     ]
    },
    {
     "name": "stderr",
     "output_type": "stream",
     "text": [
      "                                                                                \r"
     ]
    },
    {
     "name": "stdout",
     "output_type": "stream",
     "text": [
      "Iteration 2 finished with time 19.744935750961304 sec.\n"
     ]
    },
    {
     "name": "stderr",
     "output_type": "stream",
     "text": [
      "                                                                                \r"
     ]
    },
    {
     "name": "stdout",
     "output_type": "stream",
     "text": [
      "Iteration 3 finished with time 19.00027561187744 sec.\n"
     ]
    },
    {
     "name": "stderr",
     "output_type": "stream",
     "text": [
      "                                                                                \r"
     ]
    },
    {
     "name": "stdout",
     "output_type": "stream",
     "text": [
      "Iteration 4 finished with time 18.42926049232483 sec.\n"
     ]
    },
    {
     "name": "stderr",
     "output_type": "stream",
     "text": [
      "                                                                                \r"
     ]
    },
    {
     "name": "stdout",
     "output_type": "stream",
     "text": [
      "Iteration 5 finished with time 18.510125637054443 sec.\n"
     ]
    },
    {
     "name": "stderr",
     "output_type": "stream",
     "text": [
      "                                                                                \r"
     ]
    },
    {
     "name": "stdout",
     "output_type": "stream",
     "text": [
      "Iteration 6 finished with time 19.945218563079834 sec.\n"
     ]
    },
    {
     "name": "stderr",
     "output_type": "stream",
     "text": [
      "                                                                                \r"
     ]
    },
    {
     "name": "stdout",
     "output_type": "stream",
     "text": [
      "Iteration 7 finished with time 18.58321762084961 sec.\n"
     ]
    },
    {
     "name": "stderr",
     "output_type": "stream",
     "text": [
      "                                                                                \r"
     ]
    },
    {
     "name": "stdout",
     "output_type": "stream",
     "text": [
      "Iteration 8 finished with time 18.815234184265137 sec.\n"
     ]
    },
    {
     "name": "stderr",
     "output_type": "stream",
     "text": [
      "                                                                                \r"
     ]
    },
    {
     "name": "stdout",
     "output_type": "stream",
     "text": [
      "Iteration 9 finished with time 19.674676656723022 sec.\n"
     ]
    },
    {
     "name": "stderr",
     "output_type": "stream",
     "text": [
      "                                                                                \r"
     ]
    },
    {
     "name": "stdout",
     "output_type": "stream",
     "text": [
      "Iteration 10 finished with time 20.404094219207764 sec.\n"
     ]
    },
    {
     "name": "stderr",
     "output_type": "stream",
     "text": [
      "                                                                                \r"
     ]
    },
    {
     "name": "stdout",
     "output_type": "stream",
     "text": [
      "Iteration 11 finished with time 18.29623579978943 sec.\n",
      "Iteration 12 finished with time 19.717498064041138 sec.\n"
     ]
    },
    {
     "name": "stderr",
     "output_type": "stream",
     "text": [
      "                                                                                \r"
     ]
    },
    {
     "name": "stdout",
     "output_type": "stream",
     "text": [
      "Iteration 13 finished with time 19.423592805862427 sec.\n",
      "Iteration 14 finished with time 19.836686849594116 sec.\n"
     ]
    },
    {
     "name": "stderr",
     "output_type": "stream",
     "text": [
      "                                                                                \r"
     ]
    },
    {
     "name": "stdout",
     "output_type": "stream",
     "text": [
      "Iteration 15 finished with time 21.0124614238739 sec.\n"
     ]
    },
    {
     "name": "stderr",
     "output_type": "stream",
     "text": [
      "                                                                                \r"
     ]
    },
    {
     "name": "stdout",
     "output_type": "stream",
     "text": [
      "Iteration 16 finished with time 24.49916911125183 sec.\n"
     ]
    },
    {
     "name": "stderr",
     "output_type": "stream",
     "text": [
      "                                                                                \r"
     ]
    },
    {
     "name": "stdout",
     "output_type": "stream",
     "text": [
      "Iteration 17 finished with time 21.81140375137329 sec.\n"
     ]
    },
    {
     "name": "stderr",
     "output_type": "stream",
     "text": [
      "22/11/10 12:43:42 WARN DAGScheduler: Broadcasting large task binary with size 1003.2 KiB\n",
      "                                                                                \r"
     ]
    },
    {
     "name": "stdout",
     "output_type": "stream",
     "text": [
      "Iteration 18 finished with time 20.23279857635498 sec.\n"
     ]
    },
    {
     "name": "stderr",
     "output_type": "stream",
     "text": [
      "22/11/10 12:44:02 WARN DAGScheduler: Broadcasting large task binary with size 1006.6 KiB\n",
      "                                                                                \r"
     ]
    },
    {
     "name": "stdout",
     "output_type": "stream",
     "text": [
      "Iteration 19 finished with time 20.62009596824646 sec.\n"
     ]
    },
    {
     "name": "stderr",
     "output_type": "stream",
     "text": [
      "22/11/10 12:44:24 WARN DAGScheduler: Broadcasting large task binary with size 1010.2 KiB\n",
      "                                                                                \r"
     ]
    },
    {
     "name": "stdout",
     "output_type": "stream",
     "text": [
      "Iteration 20 finished with time 23.068140268325806 sec.\n"
     ]
    },
    {
     "name": "stderr",
     "output_type": "stream",
     "text": [
      "22/11/10 12:44:46 WARN DAGScheduler: Broadcasting large task binary with size 1013.3 KiB\n",
      "                                                                                \r"
     ]
    },
    {
     "name": "stdout",
     "output_type": "stream",
     "text": [
      "Iteration 21 finished with time 21.041341543197632 sec.\n"
     ]
    },
    {
     "name": "stderr",
     "output_type": "stream",
     "text": [
      "22/11/10 12:45:08 WARN DAGScheduler: Broadcasting large task binary with size 1017.0 KiB\n",
      "                                                                                \r"
     ]
    },
    {
     "name": "stdout",
     "output_type": "stream",
     "text": [
      "Iteration 22 finished with time 22.477156162261963 sec.\n"
     ]
    },
    {
     "name": "stderr",
     "output_type": "stream",
     "text": [
      "22/11/10 12:45:31 WARN DAGScheduler: Broadcasting large task binary with size 1020.5 KiB\n",
      "                                                                                \r"
     ]
    },
    {
     "name": "stdout",
     "output_type": "stream",
     "text": [
      "Iteration 23 finished with time 22.329046487808228 sec.\n"
     ]
    },
    {
     "name": "stderr",
     "output_type": "stream",
     "text": [
      "22/11/10 12:45:52 WARN DAGScheduler: Broadcasting large task binary with size 1024.0 KiB\n",
      "                                                                                \r"
     ]
    },
    {
     "name": "stdout",
     "output_type": "stream",
     "text": [
      "Iteration 24 finished with time 21.76172423362732 sec.\n"
     ]
    },
    {
     "name": "stderr",
     "output_type": "stream",
     "text": [
      "22/11/10 12:46:16 WARN DAGScheduler: Broadcasting large task binary with size 1027.3 KiB\n",
      "                                                                                \r"
     ]
    },
    {
     "name": "stdout",
     "output_type": "stream",
     "text": [
      "Iteration 25 finished with time 26.302621841430664 sec.\n"
     ]
    },
    {
     "name": "stderr",
     "output_type": "stream",
     "text": [
      "22/11/10 12:46:42 WARN DAGScheduler: Broadcasting large task binary with size 1030.3 KiB\n",
      "                                                                                \r"
     ]
    },
    {
     "name": "stdout",
     "output_type": "stream",
     "text": [
      "Iteration 26 finished with time 26.068089962005615 sec.\n"
     ]
    },
    {
     "name": "stderr",
     "output_type": "stream",
     "text": [
      "22/11/10 12:47:09 WARN DAGScheduler: Broadcasting large task binary with size 1033.7 KiB\n",
      "                                                                                \r"
     ]
    },
    {
     "name": "stdout",
     "output_type": "stream",
     "text": [
      "Iteration 27 finished with time 27.74761939048767 sec.\n"
     ]
    },
    {
     "name": "stderr",
     "output_type": "stream",
     "text": [
      "22/11/10 12:47:37 WARN DAGScheduler: Broadcasting large task binary with size 1037.4 KiB\n",
      "                                                                                \r"
     ]
    },
    {
     "name": "stdout",
     "output_type": "stream",
     "text": [
      "Iteration 28 finished with time 27.85243272781372 sec.\n"
     ]
    },
    {
     "name": "stderr",
     "output_type": "stream",
     "text": [
      "22/11/10 12:48:05 WARN DAGScheduler: Broadcasting large task binary with size 1040.4 KiB\n",
      "                                                                                \r"
     ]
    },
    {
     "name": "stdout",
     "output_type": "stream",
     "text": [
      "Iteration 29 finished with time 26.252649307250977 sec.\n"
     ]
    },
    {
     "name": "stderr",
     "output_type": "stream",
     "text": [
      "22/11/10 12:48:29 WARN DAGScheduler: Broadcasting large task binary with size 1043.8 KiB\n",
      "                                                                                \r"
     ]
    },
    {
     "name": "stdout",
     "output_type": "stream",
     "text": [
      "Iteration 30 finished with time 24.413100481033325 sec.\n"
     ]
    },
    {
     "name": "stderr",
     "output_type": "stream",
     "text": [
      "22/11/10 12:48:55 WARN DAGScheduler: Broadcasting large task binary with size 1046.8 KiB\n",
      "                                                                                \r"
     ]
    },
    {
     "name": "stdout",
     "output_type": "stream",
     "text": [
      "Iteration 31 finished with time 26.34947419166565 sec.\n"
     ]
    },
    {
     "name": "stderr",
     "output_type": "stream",
     "text": [
      "22/11/10 12:49:20 WARN DAGScheduler: Broadcasting large task binary with size 1049.5 KiB\n",
      "22/11/10 12:49:29 WARN DAGScheduler: Broadcasting large task binary with size 1000.7 KiB\n",
      "22/11/10 12:49:29 WARN DAGScheduler: Broadcasting large task binary with size 1000.7 KiB\n",
      "22/11/10 12:49:29 WARN DAGScheduler: Broadcasting large task binary with size 1000.7 KiB\n"
     ]
    },
    {
     "name": "stdout",
     "output_type": "stream",
     "text": [
      "Iteration 32 finished with time 25.110827922821045 sec.\n"
     ]
    },
    {
     "name": "stderr",
     "output_type": "stream",
     "text": [
      "22/11/10 12:49:45 WARN DAGScheduler: Broadcasting large task binary with size 1052.5 KiB\n",
      "22/11/10 12:49:53 WARN DAGScheduler: Broadcasting large task binary with size 1003.7 KiB\n",
      "22/11/10 12:49:53 WARN DAGScheduler: Broadcasting large task binary with size 1003.8 KiB\n",
      "22/11/10 12:49:54 WARN DAGScheduler: Broadcasting large task binary with size 1003.8 KiB\n"
     ]
    },
    {
     "name": "stdout",
     "output_type": "stream",
     "text": [
      "Iteration 33 finished with time 24.793837070465088 sec.\n"
     ]
    },
    {
     "name": "stderr",
     "output_type": "stream",
     "text": [
      "22/11/10 12:50:11 WARN DAGScheduler: Broadcasting large task binary with size 1055.2 KiB\n",
      "22/11/10 12:50:20 WARN DAGScheduler: Broadcasting large task binary with size 1006.4 KiB\n",
      "22/11/10 12:50:20 WARN DAGScheduler: Broadcasting large task binary with size 1006.4 KiB\n",
      "22/11/10 12:50:21 WARN DAGScheduler: Broadcasting large task binary with size 1006.4 KiB\n"
     ]
    },
    {
     "name": "stdout",
     "output_type": "stream",
     "text": [
      "Iteration 34 finished with time 27.259754180908203 sec.\n"
     ]
    },
    {
     "name": "stderr",
     "output_type": "stream",
     "text": [
      "22/11/10 12:50:37 WARN DAGScheduler: Broadcasting large task binary with size 1057.8 KiB\n",
      "22/11/10 12:50:45 WARN DAGScheduler: Broadcasting large task binary with size 1009.0 KiB\n",
      "22/11/10 12:50:46 WARN DAGScheduler: Broadcasting large task binary with size 1009.0 KiB\n",
      "22/11/10 12:50:46 WARN DAGScheduler: Broadcasting large task binary with size 1009.0 KiB\n"
     ]
    },
    {
     "name": "stdout",
     "output_type": "stream",
     "text": [
      "Iteration 35 finished with time 25.160664558410645 sec.\n"
     ]
    },
    {
     "name": "stderr",
     "output_type": "stream",
     "text": [
      "22/11/10 12:51:04 WARN DAGScheduler: Broadcasting large task binary with size 1060.6 KiB\n",
      "22/11/10 12:51:12 WARN DAGScheduler: Broadcasting large task binary with size 1011.8 KiB\n",
      "22/11/10 12:51:13 WARN DAGScheduler: Broadcasting large task binary with size 1011.8 KiB\n",
      "22/11/10 12:51:13 WARN DAGScheduler: Broadcasting large task binary with size 1011.8 KiB\n",
      "                                                                                \r"
     ]
    },
    {
     "name": "stdout",
     "output_type": "stream",
     "text": [
      "Iteration 36 finished with time 27.19590735435486 sec.\n"
     ]
    },
    {
     "name": "stderr",
     "output_type": "stream",
     "text": [
      "22/11/10 12:51:31 WARN DAGScheduler: Broadcasting large task binary with size 1063.2 KiB\n",
      "22/11/10 12:51:41 WARN DAGScheduler: Broadcasting large task binary with size 1014.4 KiB\n",
      "22/11/10 12:51:41 WARN DAGScheduler: Broadcasting large task binary with size 1014.4 KiB\n",
      "22/11/10 12:51:42 WARN DAGScheduler: Broadcasting large task binary with size 1014.4 KiB\n"
     ]
    },
    {
     "name": "stdout",
     "output_type": "stream",
     "text": [
      "Iteration 37 finished with time 28.509807586669922 sec.\n"
     ]
    },
    {
     "name": "stderr",
     "output_type": "stream",
     "text": [
      "22/11/10 12:51:59 WARN DAGScheduler: Broadcasting large task binary with size 1065.7 KiB\n",
      "22/11/10 12:52:09 WARN DAGScheduler: Broadcasting large task binary with size 1017.0 KiB\n",
      "22/11/10 12:52:09 WARN DAGScheduler: Broadcasting large task binary with size 1017.0 KiB\n",
      "22/11/10 12:52:10 WARN DAGScheduler: Broadcasting large task binary with size 1017.0 KiB\n",
      "                                                                                \r"
     ]
    },
    {
     "name": "stdout",
     "output_type": "stream",
     "text": [
      "Iteration 38 finished with time 28.73331642150879 sec.\n"
     ]
    },
    {
     "name": "stderr",
     "output_type": "stream",
     "text": [
      "22/11/10 12:52:28 WARN DAGScheduler: Broadcasting large task binary with size 1068.5 KiB\n",
      "22/11/10 12:52:37 WARN DAGScheduler: Broadcasting large task binary with size 1019.7 KiB\n",
      "22/11/10 12:52:38 WARN DAGScheduler: Broadcasting large task binary with size 1019.7 KiB\n",
      "22/11/10 12:52:38 WARN DAGScheduler: Broadcasting large task binary with size 1019.7 KiB\n",
      "                                                                                \r"
     ]
    },
    {
     "name": "stdout",
     "output_type": "stream",
     "text": [
      "Iteration 39 finished with time 28.395448207855225 sec.\n"
     ]
    },
    {
     "name": "stderr",
     "output_type": "stream",
     "text": [
      "22/11/10 12:52:57 WARN DAGScheduler: Broadcasting large task binary with size 1071.1 KiB\n",
      "22/11/10 12:53:06 WARN DAGScheduler: Broadcasting large task binary with size 1022.3 KiB\n",
      "22/11/10 12:53:07 WARN DAGScheduler: Broadcasting large task binary with size 1022.3 KiB\n",
      "22/11/10 12:53:07 WARN DAGScheduler: Broadcasting large task binary with size 1022.3 KiB\n"
     ]
    },
    {
     "name": "stdout",
     "output_type": "stream",
     "text": [
      "Iteration 40 finished with time 28.72240686416626 sec.\n"
     ]
    },
    {
     "name": "stderr",
     "output_type": "stream",
     "text": [
      "22/11/10 12:53:25 WARN DAGScheduler: Broadcasting large task binary with size 1073.7 KiB\n",
      "22/11/10 12:53:35 WARN DAGScheduler: Broadcasting large task binary with size 1025.0 KiB\n",
      "22/11/10 12:53:35 WARN DAGScheduler: Broadcasting large task binary with size 1025.0 KiB\n",
      "22/11/10 12:53:36 WARN DAGScheduler: Broadcasting large task binary with size 1025.0 KiB\n",
      "                                                                                \r"
     ]
    },
    {
     "name": "stdout",
     "output_type": "stream",
     "text": [
      "Iteration 41 finished with time 28.435955286026 sec.\n"
     ]
    },
    {
     "name": "stderr",
     "output_type": "stream",
     "text": [
      "22/11/10 12:53:54 WARN DAGScheduler: Broadcasting large task binary with size 1075.8 KiB\n",
      "22/11/10 12:54:04 WARN DAGScheduler: Broadcasting large task binary with size 1001.3 KiB\n",
      "22/11/10 12:54:04 WARN DAGScheduler: Broadcasting large task binary with size 1027.0 KiB\n",
      "22/11/10 12:54:04 WARN DAGScheduler: Broadcasting large task binary with size 1027.0 KiB\n",
      "22/11/10 12:54:05 WARN DAGScheduler: Broadcasting large task binary with size 1027.0 KiB\n",
      "                                                                                \r"
     ]
    },
    {
     "name": "stdout",
     "output_type": "stream",
     "text": [
      "Iteration 42 finished with time 29.134895086288452 sec.\n"
     ]
    },
    {
     "name": "stderr",
     "output_type": "stream",
     "text": [
      "22/11/10 12:54:23 WARN DAGScheduler: Broadcasting large task binary with size 1078.3 KiB\n",
      "22/11/10 12:54:33 WARN DAGScheduler: Broadcasting large task binary with size 1003.8 KiB\n",
      "22/11/10 12:54:33 WARN DAGScheduler: Broadcasting large task binary with size 1029.5 KiB\n",
      "22/11/10 12:54:34 WARN DAGScheduler: Broadcasting large task binary with size 1029.5 KiB\n",
      "22/11/10 12:54:34 WARN DAGScheduler: Broadcasting large task binary with size 1029.5 KiB\n"
     ]
    },
    {
     "name": "stdout",
     "output_type": "stream",
     "text": [
      "Iteration 43 finished with time 29.05633568763733 sec.\n"
     ]
    },
    {
     "name": "stderr",
     "output_type": "stream",
     "text": [
      "22/11/10 12:54:52 WARN DAGScheduler: Broadcasting large task binary with size 1081.1 KiB\n",
      "22/11/10 12:55:01 WARN DAGScheduler: Broadcasting large task binary with size 1006.6 KiB\n",
      "22/11/10 12:55:01 WARN DAGScheduler: Broadcasting large task binary with size 1032.3 KiB\n",
      "22/11/10 12:55:02 WARN DAGScheduler: Broadcasting large task binary with size 1032.3 KiB\n",
      "22/11/10 12:55:02 WARN DAGScheduler: Broadcasting large task binary with size 1032.3 KiB\n",
      "                                                                                \r"
     ]
    },
    {
     "name": "stdout",
     "output_type": "stream",
     "text": [
      "Iteration 44 finished with time 28.680014610290527 sec.\n"
     ]
    },
    {
     "name": "stderr",
     "output_type": "stream",
     "text": [
      "22/11/10 12:55:21 WARN DAGScheduler: Broadcasting large task binary with size 1083.6 KiB\n",
      "22/11/10 12:55:30 WARN DAGScheduler: Broadcasting large task binary with size 1001.0 KiB\n",
      "22/11/10 12:55:30 WARN DAGScheduler: Broadcasting large task binary with size 1001.4 KiB\n",
      "22/11/10 12:55:30 WARN DAGScheduler: Broadcasting large task binary with size 1009.1 KiB\n",
      "22/11/10 12:55:31 WARN DAGScheduler: Broadcasting large task binary with size 1034.8 KiB\n",
      "22/11/10 12:55:31 WARN DAGScheduler: Broadcasting large task binary with size 1034.8 KiB\n",
      "22/11/10 12:55:32 WARN DAGScheduler: Broadcasting large task binary with size 1034.8 KiB\n",
      "                                                                                \r"
     ]
    },
    {
     "name": "stdout",
     "output_type": "stream",
     "text": [
      "Iteration 45 finished with time 29.089479684829712 sec.\n"
     ]
    },
    {
     "name": "stderr",
     "output_type": "stream",
     "text": [
      "22/11/10 12:55:51 WARN DAGScheduler: Broadcasting large task binary with size 1086.2 KiB\n",
      "22/11/10 12:55:59 WARN DAGScheduler: Broadcasting large task binary with size 1003.6 KiB\n",
      "22/11/10 12:55:59 WARN DAGScheduler: Broadcasting large task binary with size 1004.0 KiB\n",
      "22/11/10 12:56:00 WARN DAGScheduler: Broadcasting large task binary with size 1011.7 KiB\n",
      "22/11/10 12:56:00 WARN DAGScheduler: Broadcasting large task binary with size 1037.4 KiB\n",
      "22/11/10 12:56:01 WARN DAGScheduler: Broadcasting large task binary with size 1037.5 KiB\n",
      "22/11/10 12:56:01 WARN DAGScheduler: Broadcasting large task binary with size 1037.4 KiB\n",
      "                                                                                \r"
     ]
    },
    {
     "name": "stdout",
     "output_type": "stream",
     "text": [
      "Iteration 46 finished with time 30.082010984420776 sec.\n"
     ]
    },
    {
     "name": "stderr",
     "output_type": "stream",
     "text": [
      "22/11/10 12:56:20 WARN DAGScheduler: Broadcasting large task binary with size 1088.3 KiB\n",
      "22/11/10 12:56:31 WARN DAGScheduler: Broadcasting large task binary with size 1006.0 KiB\n",
      "22/11/10 12:56:31 WARN DAGScheduler: Broadcasting large task binary with size 1005.7 KiB\n",
      "22/11/10 12:56:31 WARN DAGScheduler: Broadcasting large task binary with size 1013.8 KiB\n",
      "22/11/10 12:56:31 WARN DAGScheduler: Broadcasting large task binary with size 1039.5 KiB\n",
      "22/11/10 12:56:32 WARN DAGScheduler: Broadcasting large task binary with size 1039.5 KiB\n",
      "22/11/10 12:56:32 WARN DAGScheduler: Broadcasting large task binary with size 1039.5 KiB\n",
      "                                                                                \r"
     ]
    },
    {
     "name": "stdout",
     "output_type": "stream",
     "text": [
      "Iteration 47 finished with time 29.418415069580078 sec.\n"
     ]
    },
    {
     "name": "stderr",
     "output_type": "stream",
     "text": [
      "22/11/10 12:56:47 WARN DAGScheduler: Broadcasting large task binary with size 1090.0 KiB\n",
      "22/11/10 12:56:51 WARN DAGScheduler: Broadcasting large task binary with size 1007.7 KiB\n",
      "22/11/10 12:56:51 WARN DAGScheduler: Broadcasting large task binary with size 1007.4 KiB\n",
      "22/11/10 12:56:52 WARN DAGScheduler: Broadcasting large task binary with size 1015.5 KiB\n",
      "22/11/10 12:56:52 WARN DAGScheduler: Broadcasting large task binary with size 1041.2 KiB\n",
      "22/11/10 12:56:52 WARN DAGScheduler: Broadcasting large task binary with size 1041.2 KiB\n",
      "22/11/10 12:56:52 WARN DAGScheduler: Broadcasting large task binary with size 1041.2 KiB\n"
     ]
    },
    {
     "name": "stdout",
     "output_type": "stream",
     "text": [
      "Iteration 48 finished with time 20.773516416549683 sec.\n"
     ]
    },
    {
     "name": "stderr",
     "output_type": "stream",
     "text": [
      "22/11/10 12:57:08 WARN DAGScheduler: Broadcasting large task binary with size 1092.3 KiB\n",
      "22/11/10 12:57:13 WARN DAGScheduler: Broadcasting large task binary with size 1009.7 KiB\n",
      "22/11/10 12:57:13 WARN DAGScheduler: Broadcasting large task binary with size 1010.1 KiB\n",
      "22/11/10 12:57:14 WARN DAGScheduler: Broadcasting large task binary with size 1017.8 KiB\n",
      "22/11/10 12:57:14 WARN DAGScheduler: Broadcasting large task binary with size 1043.5 KiB\n",
      "22/11/10 12:57:15 WARN DAGScheduler: Broadcasting large task binary with size 1043.5 KiB\n",
      "22/11/10 12:57:15 WARN DAGScheduler: Broadcasting large task binary with size 1043.5 KiB\n",
      "                                                                                \r"
     ]
    },
    {
     "name": "stdout",
     "output_type": "stream",
     "text": [
      "Iteration 49 finished with time 22.39671540260315 sec.\n"
     ]
    },
    {
     "data": {
      "text/plain": [
       "DataFrame[item_attr_0: double, item_attr_1: double, item_attr_2: double, item_attr_3: double, item_attr_4: double, item_attr_5: double, item_attr_6: double, item_attr_7: double, item_attr_8: double, item_attr_9: double, item_attr_10: double, item_attr_11: double, item_attr_12: double, item_attr_13: double, item_attr_14: double, item_attr_15: double, item_attr_16: double, item_attr_17: double, item_attr_18: double, item_attr_19: double, item_attr_20: double, item_attr_21: double, item_attr_22: double, item_attr_23: double, item_attr_24: double, item_attr_25: double, item_attr_26: double, item_attr_27: double, item_attr_28: double, item_attr_29: double, item_attr_30: double, item_attr_31: double, item_attr_32: double, item_attr_33: double, item_attr_34: double, item_idx: int]"
      ]
     },
     "execution_count": 11,
     "metadata": {},
     "output_type": "execute_result"
    }
   ],
   "source": [
    "from operator import index\n",
    "import pyspark.sql.types as st\n",
    "\n",
    "LOG_SCHEMA = st.StructType([\n",
    "    st.StructField('user_id', st.IntegerType()),\n",
    "    st.StructField('item_id', st.IntegerType()),\n",
    "    st.StructField('relevance', st.DoubleType())\n",
    "])\n",
    "\n",
    "empty_log = spark.createDataFrame(\n",
    "    data=spark.sparkContext.emptyRDD(),\n",
    "    schema=LOG_SCHEMA\n",
    ")\n",
    "\n",
    "items_replay = indexer.transform(items_df).cache()\n",
    "\n",
    "ucb_metrics = []\n",
    "random_metrics = []\n",
    "\n",
    "for i in range(50):\n",
    "    iter_start = time.time()\n",
    "\n",
    "    users = sim.sample_users(0.02).cache()\n",
    "    \n",
    "    log = sim.get_log(users)\n",
    "    if log is None:\n",
    "        log = empty_log\n",
    "    log = log.cache()\n",
    "\n",
    "    recs_ucb = ucb.predict(\n",
    "        log=indexer.transform(log),\n",
    "        k=10,\n",
    "        users=indexer.transform(users),\n",
    "        items=items_replay,\n",
    "        filter_seen_items = False\n",
    "    )\n",
    "    recs_ucb = indexer.inverse_transform(recs_ucb).cache()\n",
    "\n",
    "    recs_random = random_uni.predict(\n",
    "        log=indexer.transform(log),\n",
    "        k=10,\n",
    "        users=indexer.transform(users),\n",
    "        items=items_replay,\n",
    "        filter_seen_items = False\n",
    "    )\n",
    "    recs_random = indexer.inverse_transform(recs_random).cache()\n",
    "\n",
    "    resp_ucb = sim.sample_responses(\n",
    "        recs_df=recs_ucb,\n",
    "        user_features=users,\n",
    "        item_features=items_df,\n",
    "        action_models=cos_sim_model\n",
    "    ).select('user_id', 'item_id', 'relevance', 'response').cache()\n",
    "\n",
    "    resp_random = sim.sample_responses(\n",
    "        recs_df=recs_random,\n",
    "        user_features=users,\n",
    "        item_features=items_df,\n",
    "        action_models=cos_sim_model\n",
    "    ).select('user_id', 'item_id', 'relevance', 'response').cache()\n",
    "\n",
    "    sim.update_log(resp_ucb, iteration=i)\n",
    "\n",
    "    ucb_metrics.append(evaluator(resp_ucb))\n",
    "    random_metrics.append(evaluator(resp_random))\n",
    "\n",
    "    ucb._clear_cache()\n",
    "    ucb_train_log = sim.log.cache()\n",
    "    ucb.fit(\n",
    "        log=indexer.transform(\n",
    "            ucb_train_log\\\n",
    "                .select('user_id', 'item_id', 'response')\\\n",
    "                .withColumnRenamed('response', 'relevance')\n",
    "        )\n",
    "    )\n",
    "\n",
    "    users.unpersist()\n",
    "    log.unpersist()\n",
    "    recs_ucb.unpersist()\n",
    "    recs_random.unpersist()\n",
    "    resp_ucb.unpersist()\n",
    "    resp_random.unpersist()\n",
    "    ucb_train_log.unpersist()\n",
    "\n",
    "    print(f'Iteration {i} finished with time {time.time() - iter_start} sec.')\n",
    "\n",
    "items_replay.unpersist()"
   ]
  },
  {
   "cell_type": "code",
   "execution_count": 12,
   "metadata": {},
   "outputs": [
    {
     "data": {
      "text/plain": [
       "(0.6, 1.01)"
      ]
     },
     "execution_count": 12,
     "metadata": {},
     "output_type": "execute_result"
    },
    {
     "data": {
      "image/png": "[encoded data removed]",
      "text/plain": [
       "<Figure size 640x480 with 1 Axes>"
      ]
     },
     "metadata": {},
     "output_type": "display_data"
    }
   ],
   "source": [
    "%matplotlib inline\n",
    "import matplotlib.pyplot as plt\n",
    "\n",
    "metrics_pdf = pd.DataFrame(ucb_metrics)\n",
    "baseline_metrics_pdf = pd.DataFrame(random_metrics)\n",
    "plt.plot(metrics_pdf['NDCG@10'], color='b')\n",
    "plt.plot(baseline_metrics_pdf['NDCG@10'], color='g')\n",
    "plt.xlabel('iteration')\n",
    "plt.ylabel('NDCG')\n",
    "plt.ylim(0.6, 1.01)\n",
    "#plt.savefig('ndcg_mixed_sample.png', dpi=300) "
   ]
  },
  {
   "cell_type": "code",
   "execution_count": 17,
   "metadata": {},
   "outputs": [
    {
     "data": {
      "text/plain": [
       "(0.3, 0.7)"
      ]
     },
     "execution_count": 17,
     "metadata": {},
     "output_type": "execute_result"
    },
    {
     "data": {
      "image/png": "[encoded data removed]",
      "text/plain": [
       "<Figure size 640x480 with 1 Axes>"
      ]
     },
     "metadata": {},
     "output_type": "display_data"
    }
   ],
   "source": [
    "%matplotlib inline\n",
    "import matplotlib.pyplot as plt\n",
    "\n",
    "plt.plot(metrics_pdf['Precision@10'], color='b')\n",
    "plt.plot(baseline_metrics_pdf['Precision@10'], color='g')\n",
    "plt.xlabel('iteration')\n",
    "plt.ylabel('Precision')\n",
    "plt.ylim(0.3, 0.7)\n",
    "#plt.savefig('precision_mixed_sample.png', dpi=300) "
   ]
  },
  {
   "cell_type": "code",
   "execution_count": 14,
   "metadata": {},
   "outputs": [
    {
     "data": {
      "text/plain": [
       "(0.0, 1.01)"
      ]
     },
     "execution_count": 14,
     "metadata": {},
     "output_type": "execute_result"
    },
    {
     "data": {
      "image/png": "[encoded data removed]",
      "text/plain": [
       "<Figure size 640x480 with 1 Axes>"
      ]
     },
     "metadata": {},
     "output_type": "display_data"
    }
   ],
   "source": [
    "plt.plot(metrics_pdf['RocAuc@10'], color='b')\n",
    "plt.plot(baseline_metrics_pdf['RocAuc@10'], color='g')\n",
    "plt.xlabel('iteration')\n",
    "plt.ylabel('ROC-AUC')\n",
    "plt.ylim(0.0, 1.01)"
   ]
  },
  {
   "cell_type": "code",
   "execution_count": null,
   "metadata": {},
   "outputs": [],
   "source": []
  }
 ],
 "metadata": {
  "kernelspec": {
   "display_name": "Python 3.8.13 ('simulator')",
   "language": "python",
   "name": "python3"
  },
  "language_info": {
   "codemirror_mode": {
    "name": "ipython",
    "version": 3
   },
   "file_extension": ".py",
   "mimetype": "text/x-python",
   "name": "python",
   "nbconvert_exporter": "python",
   "pygments_lexer": "ipython3",
   "version": "3.8.13"
  },
  "vscode": {
   "interpreter": {
    "hash": "0c23ac1ac3d03469769ffca4283c7852312778d94b2cbd9b1a60eeafc1c4055f"
   }
  }
 },
 "nbformat": 4,
 "nbformat_minor": 4
}
