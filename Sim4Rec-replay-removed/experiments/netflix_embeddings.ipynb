{
 "cells": [
  {
   "cell_type": "markdown",
   "metadata": {},
   "source": [
    "В этом ноутбуке были протестированы три метода генерации эмбеддингов (PCA, non-negative ALS, autoencoder) для генерации профилей пользователей из датасета Netflix меньшей размерности. Напомним, что исходная размерность профиля 302. Кроме того, применимость методов генерации эмбеддингов была исследована с точки зрения качества моделей генерации синтетических данных и с точки зрения качества компоненты функции отклика, отвечающей за приближение отклика из исторических данных."
   ]
  },
  {
   "cell_type": "code",
   "execution_count": 1,
   "metadata": {},
   "outputs": [
    {
     "name": "stderr",
     "output_type": "stream",
     "text": [
      "22/11/17 13:09:55 WARN NativeCodeLoader: Unable to load native-hadoop library for your platform... using builtin-java classes where applicable\n",
      "Using Spark's default log4j profile: org/apache/spark/log4j-defaults.properties\n",
      "Setting default log level to \"WARN\".\n",
      "To adjust logging level use sc.setLogLevel(newLevel). For SparkR, use setLogLevel(newLevel).\n",
      "22/11/17 13:09:56 WARN SparkConf: Note that spark.local.dir will be overridden by the value set by the cluster manager (via SPARK_LOCAL_DIRS in mesos/standalone/kubernetes and LOCAL_DIRS in YARN).\n",
      "22/11/17 13:09:58 WARN Utils: Service 'SparkUI' could not bind on port 4040. Attempting port 4041.\n",
      "22/11/17 13:09:58 WARN Utils: Service 'SparkUI' could not bind on port 4041. Attempting port 4042.\n",
      "22/11/17 13:09:58 WARN Utils: Service 'SparkUI' could not bind on port 4042. Attempting port 4043.\n",
      "22/11/17 13:09:58 WARN Utils: Service 'SparkUI' could not bind on port 4043. Attempting port 4044.\n"
     ]
    },
    {
     "data": {
      "text/plain": [
       "<replay.session_handler.State at 0x7f2b9eb7b9d0>"
      ]
     },
     "execution_count": 1,
     "metadata": {},
     "output_type": "execute_result"
    }
   ],
   "source": [
    "import warnings\n",
    "warnings.filterwarnings(\"ignore\")\n",
    "\n",
    "import os\n",
    "import time\n",
    "import itertools\n",
    "\n",
    "import pandas as pd\n",
    "import numpy as np\n",
    "from sklearn.metrics import roc_auc_score, precision_score, recall_score\n",
    "\n",
    "import pyspark.sql.functions as sf\n",
    "import pyspark.sql.types as st\n",
    "import pyspark.ml.functions as smf\n",
    "from pyspark import SparkConf\n",
    "from pyspark.sql import SparkSession\n",
    "from pyspark.ml.classification import LogisticRegression, RandomForestClassifier\n",
    "from pyspark.ml.feature import VectorAssembler, PCA\n",
    "from pyspark.ml import Pipeline\n",
    "from pyspark.ml.recommendation import ALS\n",
    "from pyspark.sql.window import Window\n",
    "\n",
    "from replay.session_handler import State\n",
    "\n",
    "from sim4rec.utils import pandas_to_spark\n",
    "from sim4rec.response import ParametricResponseFunction, BernoulliResponse\n",
    "from sim4rec.utils import VectorElementExtractor\n",
    "from sim4rec.modules import RealDataGenerator, SDVDataGenerator\n",
    "from sim4rec.modules import evaluate_synthetic\n",
    "from sim4rec.modules import EncoderEstimator\n",
    "\n",
    "from datautils import *\n",
    "\n",
    "%matplotlib inline\n",
    "import matplotlib\n",
    "import seaborn as sns\n",
    "import matplotlib.pyplot as plt\n",
    "from matplotlib import rcParams\n",
    "\n",
    "SPARK_LOCAL_DIR = './tmp'\n",
    "DATA_PATH = r'file:///data/home/estavinova/DL_0/real_data_simulator/Netflix'\n",
    "\n",
    "spark = SparkSession.builder\\\n",
    "    .appName('simulator_movielens')\\\n",
    "    .master('local[8]')\\\n",
    "    .config('spark.sql.shuffle.partitions', '8')\\\n",
    "    .config('spark.default.parallelism', '8')\\\n",
    "    .config('spark.driver.extraJavaOptions', '-XX:+UseG1GC')\\\n",
    "    .config('spark.executor.extraJavaOptions', '-XX:+UseG1GC')\\\n",
    "    .config('spark.sql.autoBroadcastJoinThreshold', '-1')\\\n",
    "    .config('spark.driver.memory', '128g')\\\n",
    "    .config('spark.local.dir', SPARK_LOCAL_DIR)\\\n",
    "    .getOrCreate()\n",
    "\n",
    "State(spark)"
   ]
  },
  {
   "cell_type": "markdown",
   "metadata": {},
   "source": [
    "# Read data"
   ]
  },
  {
   "cell_type": "markdown",
   "metadata": {},
   "source": [
    "Работаем с предобработанными данными, которые разделены на три части по времени выставления рейтинга. Оценки 1 и 2 считаем отрицательными (0); 3, 4 и 5 -- положительными (1).\n",
    "\n",
    "Данные были предварительно предобработаны (код в папке Netflix): составлены профили польззователей и предложений по истории откликов, а также данные разделены по времени выставления оценок на обучающую, валидационную и тестовую выборки."
   ]
  },
  {
   "cell_type": "code",
   "execution_count": 2,
   "metadata": {},
   "outputs": [
    {
     "name": "stderr",
     "output_type": "stream",
     "text": [
      "22/11/17 13:10:54 WARN package: Truncated the string representation of a plan since it was too large. This behavior can be adjusted by setting 'spark.sql.debug.maxToStringFields'.\n",
      "                                                                                \r"
     ]
    },
    {
     "data": {
      "text/plain": [
       "10032322"
      ]
     },
     "execution_count": 2,
     "metadata": {},
     "output_type": "execute_result"
    }
   ],
   "source": [
    "USER_GENERATOR_FRAC = 0.028 # 10k users\n",
    "\n",
    "users_df_train = spark.read.csv(f'{DATA_PATH}/train/users.csv', header=True, schema=NETFLIX_USER_SCHEMA)\n",
    "items_df_train = spark.read.csv(f'{DATA_PATH}/train/items.csv', header=True, schema=NETFLIX_ITEM_SCHEMA)\n",
    "log_df_train   = spark.read.csv(f'{DATA_PATH}/train/rating.csv', header=True, schema=NETFLIX_LOG_SCHEMA)\n",
    "\n",
    "log_df_train = log_df_train.join(users_df_train, log_df_train['user_idx'] == users_df_train['user_idx'], 'leftsemi')\n",
    "log_df_train = log_df_train.join(items_df_train, log_df_train['item_idx'] == items_df_train['item_idx'], 'leftsemi')\n",
    "\n",
    "for c in users_df_train.columns[1:]:\n",
    "    users_df_train = users_df_train.withColumnRenamed(c, 'user_' + c)\n",
    "    \n",
    "for c in items_df_train.columns[1:]:\n",
    "    items_df_train = items_df_train.withColumnRenamed(c, 'item_' + c)\n",
    "\n",
    "ITEMS_FEATURES = items_df_train.columns[1:2] + items_df_train.columns[4:]\n",
    "\n",
    "log_df_train = log_df_train.withColumn(\n",
    "    'relevance', sf.when(sf.col('relevance') >= 3, 1).otherwise(0))\n",
    "\n",
    "users_df_train = users_df_train.cache()\n",
    "items_df_train = items_df_train.cache()\n",
    "log_df_train = log_df_train.sample(0.197).cache()\n",
    "\n",
    "users_df_train.count()\n",
    "items_df_train.count()\n",
    "log_df_train.count()"
   ]
  },
  {
   "cell_type": "code",
   "execution_count": 3,
   "metadata": {},
   "outputs": [
    {
     "name": "stderr",
     "output_type": "stream",
     "text": [
      "                                                                                \r"
     ]
    },
    {
     "data": {
      "text/plain": [
       "4998642"
      ]
     },
     "execution_count": 3,
     "metadata": {},
     "output_type": "execute_result"
    }
   ],
   "source": [
    "users_df_val = spark.read.csv(f'{DATA_PATH}/val/users.csv', header=True, schema=NETFLIX_USER_SCHEMA)\n",
    "items_df_val = spark.read.csv(f'{DATA_PATH}/val/items.csv', header=True, schema=NETFLIX_ITEM_SCHEMA)\n",
    "log_df_val   = spark.read.csv(f'{DATA_PATH}/val/rating.csv', header=True, schema=NETFLIX_LOG_SCHEMA)\n",
    "\n",
    "log_df_val = log_df_val.join(users_df_val, log_df_val['user_idx'] == users_df_val['user_idx'], 'leftsemi')\n",
    "log_df_val = log_df_val.join(items_df_val, log_df_val['item_idx'] == items_df_val['item_idx'], 'leftsemi')\n",
    "\n",
    "for c in users_df_val.columns[1:]:\n",
    "    users_df_val = users_df_val.withColumnRenamed(c, 'user_' + c)\n",
    "    \n",
    "for c in items_df_val.columns[1:]:\n",
    "    items_df_val = items_df_val.withColumnRenamed(c, 'item_' + c)\n",
    "\n",
    "log_df_val = log_df_val.withColumn(\n",
    "    'relevance', sf.when(sf.col('relevance') >= 3, 1).otherwise(0))\n",
    "\n",
    "users_df_val = users_df_val.cache()\n",
    "items_df_val = items_df_val.cache()\n",
    "log_df_val = log_df_val.sample(0.2047).cache()\n",
    "\n",
    "users_df_val.count()\n",
    "items_df_val.count()\n",
    "log_df_val.count()"
   ]
  },
  {
   "cell_type": "code",
   "execution_count": 4,
   "metadata": {},
   "outputs": [
    {
     "name": "stderr",
     "output_type": "stream",
     "text": [
      "                                                                                \r"
     ]
    },
    {
     "data": {
      "text/plain": [
       "5024095"
      ]
     },
     "execution_count": 4,
     "metadata": {},
     "output_type": "execute_result"
    }
   ],
   "source": [
    "users_df_test = spark.read.csv(f'{DATA_PATH}/test/users.csv', header=True, schema=NETFLIX_USER_SCHEMA)\n",
    "items_df_test = spark.read.csv(f'{DATA_PATH}/test/items.csv', header=True, schema=NETFLIX_ITEM_SCHEMA)\n",
    "log_df_test   = spark.read.csv(f'{DATA_PATH}/test/rating.csv', header=True, schema=NETFLIX_LOG_SCHEMA)\n",
    "\n",
    "log_df_test = log_df_test.join(users_df_test, log_df_test['user_idx'] == users_df_test['user_idx'], 'leftsemi')\n",
    "log_df_test = log_df_test.join(items_df_test, log_df_test['item_idx'] == items_df_test['item_idx'], 'leftsemi')\n",
    "\n",
    "for c in users_df_test.columns[1:]:\n",
    "    users_df_test = users_df_test.withColumnRenamed(c, 'user_' + c)\n",
    "    \n",
    "for c in items_df_test.columns[1:]:\n",
    "    items_df_test = items_df_test.withColumnRenamed(c, 'item_' + c)\n",
    "\n",
    "log_df_test = log_df_test.withColumn(\n",
    "    'relevance', sf.when(sf.col('relevance') >= 3, 1).otherwise(0))\n",
    "\n",
    "items_df_test = items_df_test.na.drop()\n",
    "\n",
    "users_df_test = users_df_test.cache()\n",
    "items_df_test = items_df_test.cache()\n",
    "log_df_test = log_df_test.sample(0.2).cache()\n",
    "\n",
    "users_df_test.count()\n",
    "items_df_test.count()\n",
    "log_df_test.count()"
   ]
  },
  {
   "cell_type": "code",
   "execution_count": 5,
   "metadata": {},
   "outputs": [],
   "source": [
    "def test_model(model_class, train_data, test_data, assembler, extractor, bernoulli):\n",
    "    model = model_class(featuresCol='features', labelCol='relevance', probabilityCol='__prob_vec')\n",
    "\n",
    "    start = time.time()\n",
    "    pipeline = Pipeline(stages=[assembler, model, extractor, bernoulli]).fit(train_data)\n",
    "    print(f'Fitting of pipeline with {type(model).__name__}: {time.time() - start}')\n",
    "\n",
    "    pred_pdf = pipeline.transform(test_data).select(\"relevance\", \"__prob\").toPandas()\n",
    "    roc_auc = roc_auc_score(pred_pdf.relevance, pred_pdf.__prob)\n",
    "    print(f'Regression ROC AUC: {roc_auc}')\n",
    "\n",
    "    return {'Model' : type(model).__name__, 'ROC-AUC' : roc_auc}\n",
    "\n",
    "def test_generator(train_data, generator_name, fancy_generator_name, embeddings_name):\n",
    "    user_generator = SDVDataGenerator(\n",
    "        label='synth',\n",
    "        id_column_name='user_idx',\n",
    "        model_name=generator_name,\n",
    "        parallelization_level=8,\n",
    "        seed=1234\n",
    "    )\n",
    "\n",
    "    start = time.time()\n",
    "    user_generator.fit(train_data.drop('user_idx').sample(USER_GENERATOR_FRAC))\n",
    "    print(f'Fitting of {generator_name} on {embeddings_name} embeddings: {time.time() - start}')\n",
    "\n",
    "    real_users = train_data.sample(USER_GENERATOR_FRAC)\n",
    "    syn_users = user_generator.generate(real_users.count())\n",
    "    gen_score = evaluate_synthetic(syn_users.drop('user_idx'), real_users.drop('user_idx'))\n",
    "    print(gen_score)\n",
    "\n",
    "    gen_result = pd.DataFrame(index = np.arange(4))\n",
    "    gen_result['Model_name'] = fancy_generator_name\n",
    "    gen_result['Metric_score'] = [v for k, v in gen_score.items()]\n",
    "    gen_result['Metric_name'] = [k for k, v in gen_score.items()]\n",
    "\n",
    "    return gen_result\n",
    "\n",
    "def create_hist_values(df):\n",
    "    model_names = df['Model_name'].unique()\n",
    "    metric_names = df[\"Metric_name\"].unique()\n",
    "    hist_values = []\n",
    "    for model, metric in itertools.product(model_names, metric_names):\n",
    "        hist_values.append(df[(df['Model_name'] == model) & (df['Metric_name'] == metric)]['Metric_score'].values[0])\n",
    "    return hist_values"
   ]
  },
  {
   "cell_type": "markdown",
   "metadata": {},
   "source": [
    "# Initial quality of response function Real component"
   ]
  },
  {
   "cell_type": "markdown",
   "metadata": {},
   "source": [
    "Сначала оценим качество компоненты Real, отвечающей за приближение отклика в исторических данных, на исходных профилях польззователей и предложений.\n",
    "\n",
    "Напомним, что профили пользователей и предложений, относящиеся к периоду train (users_df_train и items_df_train соответственно) построены по истории взаимодействий из log_df_train. Поэтому для обучения модели отклика используются профили пользователей users_df_train и предложений items_df_train, а также лог log_df_val. Для оценки качества модели отклика используются профили users_df_val и items_df_val, построенные по объединенному логу log_df_train и log_df_val, а также лог log_df_test."
   ]
  },
  {
   "cell_type": "code",
   "execution_count": 6,
   "metadata": {},
   "outputs": [],
   "source": [
    "va = VectorAssembler(\n",
    "    inputCols=users_df_train.columns[1:-1] + ITEMS_FEATURES,\n",
    "    outputCol='features'\n",
    ")\n",
    "\n",
    "vee = VectorElementExtractor(inputCol='__prob_vec', outputCol='__prob', index=1)\n",
    "br = BernoulliResponse (inputCol='__prob', outputCol='response', seed=1234)\n",
    "\n",
    "train_df = log_df_val\\\n",
    "    .join(users_df_train, 'user_idx', 'left')\\\n",
    "    .join(items_df_train, 'item_idx', 'left')\\\n",
    "    .drop('timestamp')\\\n",
    "    .na.drop()\\\n",
    "    .cache()\n",
    "\n",
    "test_df = log_df_test\\\n",
    "    .join(users_df_val, 'user_idx', 'left')\\\n",
    "    .join(items_df_val, 'item_idx', 'left')\\\n",
    "    .drop('timestamp')\\\n",
    "    .na.drop()\\\n",
    "    .cache()"
   ]
  },
  {
   "cell_type": "code",
   "execution_count": 7,
   "metadata": {},
   "outputs": [],
   "source": [
    "full_feature_metrics = []"
   ]
  },
  {
   "cell_type": "markdown",
   "metadata": {},
   "source": [
    "# Logistic regression"
   ]
  },
  {
   "cell_type": "code",
   "execution_count": 8,
   "metadata": {},
   "outputs": [
    {
     "name": "stderr",
     "output_type": "stream",
     "text": [
      "22/11/17 13:20:15 WARN BLAS: Failed to load implementation from: com.github.fommil.netlib.NativeSystemBLAS\n",
      "22/11/17 13:20:15 WARN BLAS: Failed to load implementation from: com.github.fommil.netlib.NativeRefBLAS\n",
      "                                                                                \r"
     ]
    },
    {
     "name": "stdout",
     "output_type": "stream",
     "text": [
      "Fitting of pipeline with LogisticRegression: 420.9364013671875\n"
     ]
    },
    {
     "name": "stderr",
     "output_type": "stream",
     "text": [
      "                                                                                \r"
     ]
    },
    {
     "name": "stdout",
     "output_type": "stream",
     "text": [
      "Regression ROC AUC: 0.7208425342578532\n"
     ]
    }
   ],
   "source": [
    "full_feature_metrics.append(\n",
    "    test_model(\n",
    "        model_class=LogisticRegression,\n",
    "        train_data=train_df,\n",
    "        test_data=test_df,\n",
    "        assembler=va,\n",
    "        extractor=vee,\n",
    "        bernoulli=br\n",
    "    )\n",
    ")"
   ]
  },
  {
   "cell_type": "markdown",
   "metadata": {},
   "source": [
    "# Random forest"
   ]
  },
  {
   "cell_type": "code",
   "execution_count": 15,
   "metadata": {},
   "outputs": [
    {
     "name": "stderr",
     "output_type": "stream",
     "text": [
      "                                                                                \r"
     ]
    },
    {
     "name": "stdout",
     "output_type": "stream",
     "text": [
      "Fitting of pipeline with RandomForestClassifier: 160.53016710281372\n"
     ]
    },
    {
     "name": "stderr",
     "output_type": "stream",
     "text": [
      "                                                                                \r"
     ]
    },
    {
     "name": "stdout",
     "output_type": "stream",
     "text": [
      "Regression ROC AUC: 0.559561956373764\n"
     ]
    }
   ],
   "source": [
    "full_feature_metrics.append(\n",
    "    test_model(\n",
    "        model_class=RandomForestClassifier,\n",
    "        train_data=train_df,\n",
    "        test_data=test_df,\n",
    "        assembler=va,\n",
    "        extractor=vee,\n",
    "        bernoulli=br\n",
    "    )\n",
    ")"
   ]
  },
  {
   "cell_type": "code",
   "execution_count": 16,
   "metadata": {},
   "outputs": [
    {
     "data": {
      "text/html": [
       "<div>\n",
       "<style scoped>\n",
       "    .dataframe tbody tr th:only-of-type {\n",
       "        vertical-align: middle;\n",
       "    }\n",
       "\n",
       "    .dataframe tbody tr th {\n",
       "        vertical-align: top;\n",
       "    }\n",
       "\n",
       "    .dataframe thead th {\n",
       "        text-align: right;\n",
       "    }\n",
       "</style>\n",
       "<table border=\"1\" class=\"dataframe\">\n",
       "  <thead>\n",
       "    <tr style=\"text-align: right;\">\n",
       "      <th></th>\n",
       "      <th>Model</th>\n",
       "      <th>ROC-AUC</th>\n",
       "    </tr>\n",
       "  </thead>\n",
       "  <tbody>\n",
       "    <tr>\n",
       "      <th>0</th>\n",
       "      <td>LogisticRegression</td>\n",
       "      <td>0.720843</td>\n",
       "    </tr>\n",
       "    <tr>\n",
       "      <th>1</th>\n",
       "      <td>RandomForestClassifier</td>\n",
       "      <td>0.559562</td>\n",
       "    </tr>\n",
       "  </tbody>\n",
       "</table>\n",
       "</div>"
      ],
      "text/plain": [
       "                    Model   ROC-AUC\n",
       "0      LogisticRegression  0.720843\n",
       "1  RandomForestClassifier  0.559562"
      ]
     },
     "execution_count": 16,
     "metadata": {},
     "output_type": "execute_result"
    }
   ],
   "source": [
    "train_df.unpersist()\n",
    "test_df.unpersist()\n",
    "\n",
    "pd.DataFrame(full_feature_metrics)"
   ]
  },
  {
   "cell_type": "markdown",
   "metadata": {},
   "source": [
    "# PCA"
   ]
  },
  {
   "cell_type": "code",
   "execution_count": 9,
   "metadata": {},
   "outputs": [
    {
     "name": "stderr",
     "output_type": "stream",
     "text": [
      "22/11/17 13:36:32 WARN LAPACK: Failed to load implementation from: com.github.fommil.netlib.NativeSystemLAPACK\n",
      "22/11/17 13:36:32 WARN LAPACK: Failed to load implementation from: com.github.fommil.netlib.NativeRefLAPACK\n"
     ]
    },
    {
     "name": "stdout",
     "output_type": "stream",
     "text": [
      "PCA fit time: 11.431146383285522\n"
     ]
    },
    {
     "data": {
      "text/plain": [
       "DenseVector([0.3486, 0.0279, 0.0214, 0.0185, 0.0157, 0.0143, 0.0136, 0.0122, 0.0117])"
      ]
     },
     "execution_count": 9,
     "metadata": {},
     "output_type": "execute_result"
    }
   ],
   "source": [
    "pca_va = VectorAssembler(\n",
    "    inputCols=users_df_train.columns[1:-1],\n",
    "    outputCol='features'\n",
    ")\n",
    "\n",
    "start = time.time()\n",
    "pca = PCA(k=9, inputCol='features', outputCol='pca_features').fit(pca_va.transform(users_df_train))\n",
    "print(f'PCA fit time: {time.time() - start}')\n",
    "\n",
    "pca.explainedVariance"
   ]
  },
  {
   "cell_type": "code",
   "execution_count": 11,
   "metadata": {},
   "outputs": [
    {
     "name": "stderr",
     "output_type": "stream",
     "text": [
      "                                                                                \r"
     ]
    },
    {
     "data": {
      "text/html": [
       "<div>\n",
       "<style scoped>\n",
       "    .dataframe tbody tr th:only-of-type {\n",
       "        vertical-align: middle;\n",
       "    }\n",
       "\n",
       "    .dataframe tbody tr th {\n",
       "        vertical-align: top;\n",
       "    }\n",
       "\n",
       "    .dataframe thead th {\n",
       "        text-align: right;\n",
       "    }\n",
       "</style>\n",
       "<table border=\"1\" class=\"dataframe\">\n",
       "  <thead>\n",
       "    <tr style=\"text-align: right;\">\n",
       "      <th></th>\n",
       "      <th>user_idx</th>\n",
       "      <th>user_feature[0]</th>\n",
       "      <th>user_feature[1]</th>\n",
       "      <th>user_feature[2]</th>\n",
       "      <th>user_feature[3]</th>\n",
       "      <th>user_feature[4]</th>\n",
       "      <th>user_feature[5]</th>\n",
       "      <th>user_feature[6]</th>\n",
       "      <th>user_feature[7]</th>\n",
       "      <th>user_feature[8]</th>\n",
       "    </tr>\n",
       "  </thead>\n",
       "  <tbody>\n",
       "    <tr>\n",
       "      <th>0</th>\n",
       "      <td>0</td>\n",
       "      <td>-3.595783</td>\n",
       "      <td>0.316566</td>\n",
       "      <td>0.214321</td>\n",
       "      <td>0.193317</td>\n",
       "      <td>-0.029960</td>\n",
       "      <td>-0.076129</td>\n",
       "      <td>0.294963</td>\n",
       "      <td>-0.024910</td>\n",
       "      <td>0.208980</td>\n",
       "    </tr>\n",
       "    <tr>\n",
       "      <th>1</th>\n",
       "      <td>1</td>\n",
       "      <td>-4.025625</td>\n",
       "      <td>0.289827</td>\n",
       "      <td>0.173262</td>\n",
       "      <td>0.174404</td>\n",
       "      <td>0.001099</td>\n",
       "      <td>-0.131625</td>\n",
       "      <td>0.297719</td>\n",
       "      <td>-0.013480</td>\n",
       "      <td>0.212237</td>\n",
       "    </tr>\n",
       "    <tr>\n",
       "      <th>2</th>\n",
       "      <td>3</td>\n",
       "      <td>-3.384291</td>\n",
       "      <td>0.342881</td>\n",
       "      <td>0.271273</td>\n",
       "      <td>0.212901</td>\n",
       "      <td>0.000769</td>\n",
       "      <td>-0.104027</td>\n",
       "      <td>0.291688</td>\n",
       "      <td>-0.066392</td>\n",
       "      <td>0.217279</td>\n",
       "    </tr>\n",
       "    <tr>\n",
       "      <th>3</th>\n",
       "      <td>4</td>\n",
       "      <td>-3.003308</td>\n",
       "      <td>0.205835</td>\n",
       "      <td>0.249211</td>\n",
       "      <td>0.480577</td>\n",
       "      <td>0.211469</td>\n",
       "      <td>-0.177333</td>\n",
       "      <td>0.551470</td>\n",
       "      <td>0.261086</td>\n",
       "      <td>0.099394</td>\n",
       "    </tr>\n",
       "    <tr>\n",
       "      <th>4</th>\n",
       "      <td>5</td>\n",
       "      <td>-3.799361</td>\n",
       "      <td>0.102418</td>\n",
       "      <td>0.130506</td>\n",
       "      <td>0.077469</td>\n",
       "      <td>0.067097</td>\n",
       "      <td>-0.189672</td>\n",
       "      <td>0.277142</td>\n",
       "      <td>-0.073044</td>\n",
       "      <td>0.112268</td>\n",
       "    </tr>\n",
       "    <tr>\n",
       "      <th>...</th>\n",
       "      <td>...</td>\n",
       "      <td>...</td>\n",
       "      <td>...</td>\n",
       "      <td>...</td>\n",
       "      <td>...</td>\n",
       "      <td>...</td>\n",
       "      <td>...</td>\n",
       "      <td>...</td>\n",
       "      <td>...</td>\n",
       "      <td>...</td>\n",
       "    </tr>\n",
       "    <tr>\n",
       "      <th>365787</th>\n",
       "      <td>480182</td>\n",
       "      <td>-3.312829</td>\n",
       "      <td>0.293105</td>\n",
       "      <td>0.218792</td>\n",
       "      <td>0.196616</td>\n",
       "      <td>0.093704</td>\n",
       "      <td>-0.102092</td>\n",
       "      <td>0.312283</td>\n",
       "      <td>-0.051719</td>\n",
       "      <td>0.231047</td>\n",
       "    </tr>\n",
       "    <tr>\n",
       "      <th>365788</th>\n",
       "      <td>480183</td>\n",
       "      <td>-4.007493</td>\n",
       "      <td>0.609736</td>\n",
       "      <td>0.930526</td>\n",
       "      <td>0.354990</td>\n",
       "      <td>-1.246593</td>\n",
       "      <td>-0.781468</td>\n",
       "      <td>0.707859</td>\n",
       "      <td>0.208256</td>\n",
       "      <td>-1.127146</td>\n",
       "    </tr>\n",
       "    <tr>\n",
       "      <th>365789</th>\n",
       "      <td>480185</td>\n",
       "      <td>-3.648306</td>\n",
       "      <td>0.183644</td>\n",
       "      <td>0.190015</td>\n",
       "      <td>0.190791</td>\n",
       "      <td>-0.067906</td>\n",
       "      <td>-0.165746</td>\n",
       "      <td>0.412720</td>\n",
       "      <td>-0.016262</td>\n",
       "      <td>0.188441</td>\n",
       "    </tr>\n",
       "    <tr>\n",
       "      <th>365790</th>\n",
       "      <td>480187</td>\n",
       "      <td>-3.867481</td>\n",
       "      <td>0.286790</td>\n",
       "      <td>0.257627</td>\n",
       "      <td>0.175143</td>\n",
       "      <td>0.028162</td>\n",
       "      <td>-0.155398</td>\n",
       "      <td>0.323344</td>\n",
       "      <td>-0.027551</td>\n",
       "      <td>0.222202</td>\n",
       "    </tr>\n",
       "    <tr>\n",
       "      <th>365791</th>\n",
       "      <td>480188</td>\n",
       "      <td>-4.235295</td>\n",
       "      <td>0.288542</td>\n",
       "      <td>0.226397</td>\n",
       "      <td>0.181302</td>\n",
       "      <td>-0.034229</td>\n",
       "      <td>-0.106291</td>\n",
       "      <td>0.318139</td>\n",
       "      <td>0.001697</td>\n",
       "      <td>0.222295</td>\n",
       "    </tr>\n",
       "  </tbody>\n",
       "</table>\n",
       "<p>365792 rows × 10 columns</p>\n",
       "</div>"
      ],
      "text/plain": [
       "        user_idx  user_feature[0]  user_feature[1]  user_feature[2]  \\\n",
       "0              0        -3.595783         0.316566         0.214321   \n",
       "1              1        -4.025625         0.289827         0.173262   \n",
       "2              3        -3.384291         0.342881         0.271273   \n",
       "3              4        -3.003308         0.205835         0.249211   \n",
       "4              5        -3.799361         0.102418         0.130506   \n",
       "...          ...              ...              ...              ...   \n",
       "365787    480182        -3.312829         0.293105         0.218792   \n",
       "365788    480183        -4.007493         0.609736         0.930526   \n",
       "365789    480185        -3.648306         0.183644         0.190015   \n",
       "365790    480187        -3.867481         0.286790         0.257627   \n",
       "365791    480188        -4.235295         0.288542         0.226397   \n",
       "\n",
       "        user_feature[3]  user_feature[4]  user_feature[5]  user_feature[6]  \\\n",
       "0              0.193317        -0.029960        -0.076129         0.294963   \n",
       "1              0.174404         0.001099        -0.131625         0.297719   \n",
       "2              0.212901         0.000769        -0.104027         0.291688   \n",
       "3              0.480577         0.211469        -0.177333         0.551470   \n",
       "4              0.077469         0.067097        -0.189672         0.277142   \n",
       "...                 ...              ...              ...              ...   \n",
       "365787         0.196616         0.093704        -0.102092         0.312283   \n",
       "365788         0.354990        -1.246593        -0.781468         0.707859   \n",
       "365789         0.190791        -0.067906        -0.165746         0.412720   \n",
       "365790         0.175143         0.028162        -0.155398         0.323344   \n",
       "365791         0.181302        -0.034229        -0.106291         0.318139   \n",
       "\n",
       "        user_feature[7]  user_feature[8]  \n",
       "0             -0.024910         0.208980  \n",
       "1             -0.013480         0.212237  \n",
       "2             -0.066392         0.217279  \n",
       "3              0.261086         0.099394  \n",
       "4             -0.073044         0.112268  \n",
       "...                 ...              ...  \n",
       "365787        -0.051719         0.231047  \n",
       "365788         0.208256        -1.127146  \n",
       "365789        -0.016262         0.188441  \n",
       "365790        -0.027551         0.222202  \n",
       "365791         0.001697         0.222295  \n",
       "\n",
       "[365792 rows x 10 columns]"
      ]
     },
     "execution_count": 11,
     "metadata": {},
     "output_type": "execute_result"
    }
   ],
   "source": [
    "pca_users_train = pca.transform(pca_va.transform(users_df_train)).select('user_idx', 'pca_features')\n",
    "\n",
    "pca_users_train = pca_users_train\\\n",
    "    .withColumn('user_feature', smf.vector_to_array('pca_features'))\\\n",
    "    .select(['user_idx'] + [sf.col('user_feature')[i] for i in range(9)])\\\n",
    "    .cache()\n",
    "\n",
    "pca_users_train.toPandas()"
   ]
  },
  {
   "cell_type": "code",
   "execution_count": 12,
   "metadata": {},
   "outputs": [
    {
     "name": "stderr",
     "output_type": "stream",
     "text": [
      "                                                                                \r"
     ]
    },
    {
     "data": {
      "text/html": [
       "<div>\n",
       "<style scoped>\n",
       "    .dataframe tbody tr th:only-of-type {\n",
       "        vertical-align: middle;\n",
       "    }\n",
       "\n",
       "    .dataframe tbody tr th {\n",
       "        vertical-align: top;\n",
       "    }\n",
       "\n",
       "    .dataframe thead th {\n",
       "        text-align: right;\n",
       "    }\n",
       "</style>\n",
       "<table border=\"1\" class=\"dataframe\">\n",
       "  <thead>\n",
       "    <tr style=\"text-align: right;\">\n",
       "      <th></th>\n",
       "      <th>user_idx</th>\n",
       "      <th>user_feature[0]</th>\n",
       "      <th>user_feature[1]</th>\n",
       "      <th>user_feature[2]</th>\n",
       "      <th>user_feature[3]</th>\n",
       "      <th>user_feature[4]</th>\n",
       "      <th>user_feature[5]</th>\n",
       "      <th>user_feature[6]</th>\n",
       "      <th>user_feature[7]</th>\n",
       "      <th>user_feature[8]</th>\n",
       "    </tr>\n",
       "  </thead>\n",
       "  <tbody>\n",
       "    <tr>\n",
       "      <th>0</th>\n",
       "      <td>0</td>\n",
       "      <td>-3.500338</td>\n",
       "      <td>0.330837</td>\n",
       "      <td>0.224767</td>\n",
       "      <td>0.201715</td>\n",
       "      <td>-0.024323</td>\n",
       "      <td>-0.085068</td>\n",
       "      <td>0.307592</td>\n",
       "      <td>-0.030815</td>\n",
       "      <td>0.205077</td>\n",
       "    </tr>\n",
       "    <tr>\n",
       "      <th>1</th>\n",
       "      <td>1</td>\n",
       "      <td>-4.063943</td>\n",
       "      <td>0.305376</td>\n",
       "      <td>0.174499</td>\n",
       "      <td>0.181510</td>\n",
       "      <td>-0.010718</td>\n",
       "      <td>-0.131645</td>\n",
       "      <td>0.288134</td>\n",
       "      <td>-0.011218</td>\n",
       "      <td>0.214673</td>\n",
       "    </tr>\n",
       "    <tr>\n",
       "      <th>2</th>\n",
       "      <td>3</td>\n",
       "      <td>-3.383029</td>\n",
       "      <td>0.336954</td>\n",
       "      <td>0.256217</td>\n",
       "      <td>0.214335</td>\n",
       "      <td>-0.009671</td>\n",
       "      <td>-0.118181</td>\n",
       "      <td>0.291216</td>\n",
       "      <td>-0.064696</td>\n",
       "      <td>0.216930</td>\n",
       "    </tr>\n",
       "    <tr>\n",
       "      <th>3</th>\n",
       "      <td>4</td>\n",
       "      <td>-4.158492</td>\n",
       "      <td>0.127731</td>\n",
       "      <td>0.128297</td>\n",
       "      <td>0.669201</td>\n",
       "      <td>0.093987</td>\n",
       "      <td>-0.130010</td>\n",
       "      <td>0.248748</td>\n",
       "      <td>0.085271</td>\n",
       "      <td>0.148341</td>\n",
       "    </tr>\n",
       "    <tr>\n",
       "      <th>4</th>\n",
       "      <td>5</td>\n",
       "      <td>-3.799361</td>\n",
       "      <td>0.102418</td>\n",
       "      <td>0.130506</td>\n",
       "      <td>0.077469</td>\n",
       "      <td>0.067097</td>\n",
       "      <td>-0.189672</td>\n",
       "      <td>0.277142</td>\n",
       "      <td>-0.073044</td>\n",
       "      <td>0.112268</td>\n",
       "    </tr>\n",
       "    <tr>\n",
       "      <th>...</th>\n",
       "      <td>...</td>\n",
       "      <td>...</td>\n",
       "      <td>...</td>\n",
       "      <td>...</td>\n",
       "      <td>...</td>\n",
       "      <td>...</td>\n",
       "      <td>...</td>\n",
       "      <td>...</td>\n",
       "      <td>...</td>\n",
       "      <td>...</td>\n",
       "    </tr>\n",
       "    <tr>\n",
       "      <th>460684</th>\n",
       "      <td>480184</td>\n",
       "      <td>-4.019537</td>\n",
       "      <td>0.301630</td>\n",
       "      <td>0.309988</td>\n",
       "      <td>0.176899</td>\n",
       "      <td>-0.037969</td>\n",
       "      <td>-0.091258</td>\n",
       "      <td>0.317922</td>\n",
       "      <td>0.022903</td>\n",
       "      <td>0.224169</td>\n",
       "    </tr>\n",
       "    <tr>\n",
       "      <th>460685</th>\n",
       "      <td>480185</td>\n",
       "      <td>-3.690053</td>\n",
       "      <td>0.259013</td>\n",
       "      <td>0.169464</td>\n",
       "      <td>0.156307</td>\n",
       "      <td>-0.012174</td>\n",
       "      <td>-0.111663</td>\n",
       "      <td>0.325537</td>\n",
       "      <td>0.001159</td>\n",
       "      <td>0.183525</td>\n",
       "    </tr>\n",
       "    <tr>\n",
       "      <th>460686</th>\n",
       "      <td>480186</td>\n",
       "      <td>-4.335519</td>\n",
       "      <td>0.184928</td>\n",
       "      <td>0.301842</td>\n",
       "      <td>0.379964</td>\n",
       "      <td>0.332384</td>\n",
       "      <td>-0.160480</td>\n",
       "      <td>0.461215</td>\n",
       "      <td>0.012197</td>\n",
       "      <td>0.253595</td>\n",
       "    </tr>\n",
       "    <tr>\n",
       "      <th>460687</th>\n",
       "      <td>480187</td>\n",
       "      <td>-4.021257</td>\n",
       "      <td>0.288347</td>\n",
       "      <td>0.260043</td>\n",
       "      <td>0.176684</td>\n",
       "      <td>-0.001241</td>\n",
       "      <td>-0.140576</td>\n",
       "      <td>0.298059</td>\n",
       "      <td>-0.031117</td>\n",
       "      <td>0.212905</td>\n",
       "    </tr>\n",
       "    <tr>\n",
       "      <th>460688</th>\n",
       "      <td>480188</td>\n",
       "      <td>-4.227087</td>\n",
       "      <td>0.291194</td>\n",
       "      <td>0.233643</td>\n",
       "      <td>0.187302</td>\n",
       "      <td>-0.037699</td>\n",
       "      <td>-0.105771</td>\n",
       "      <td>0.307477</td>\n",
       "      <td>0.007050</td>\n",
       "      <td>0.223334</td>\n",
       "    </tr>\n",
       "  </tbody>\n",
       "</table>\n",
       "<p>460689 rows × 10 columns</p>\n",
       "</div>"
      ],
      "text/plain": [
       "        user_idx  user_feature[0]  user_feature[1]  user_feature[2]  \\\n",
       "0              0        -3.500338         0.330837         0.224767   \n",
       "1              1        -4.063943         0.305376         0.174499   \n",
       "2              3        -3.383029         0.336954         0.256217   \n",
       "3              4        -4.158492         0.127731         0.128297   \n",
       "4              5        -3.799361         0.102418         0.130506   \n",
       "...          ...              ...              ...              ...   \n",
       "460684    480184        -4.019537         0.301630         0.309988   \n",
       "460685    480185        -3.690053         0.259013         0.169464   \n",
       "460686    480186        -4.335519         0.184928         0.301842   \n",
       "460687    480187        -4.021257         0.288347         0.260043   \n",
       "460688    480188        -4.227087         0.291194         0.233643   \n",
       "\n",
       "        user_feature[3]  user_feature[4]  user_feature[5]  user_feature[6]  \\\n",
       "0              0.201715        -0.024323        -0.085068         0.307592   \n",
       "1              0.181510        -0.010718        -0.131645         0.288134   \n",
       "2              0.214335        -0.009671        -0.118181         0.291216   \n",
       "3              0.669201         0.093987        -0.130010         0.248748   \n",
       "4              0.077469         0.067097        -0.189672         0.277142   \n",
       "...                 ...              ...              ...              ...   \n",
       "460684         0.176899        -0.037969        -0.091258         0.317922   \n",
       "460685         0.156307        -0.012174        -0.111663         0.325537   \n",
       "460686         0.379964         0.332384        -0.160480         0.461215   \n",
       "460687         0.176684        -0.001241        -0.140576         0.298059   \n",
       "460688         0.187302        -0.037699        -0.105771         0.307477   \n",
       "\n",
       "        user_feature[7]  user_feature[8]  \n",
       "0             -0.030815         0.205077  \n",
       "1             -0.011218         0.214673  \n",
       "2             -0.064696         0.216930  \n",
       "3              0.085271         0.148341  \n",
       "4             -0.073044         0.112268  \n",
       "...                 ...              ...  \n",
       "460684         0.022903         0.224169  \n",
       "460685         0.001159         0.183525  \n",
       "460686         0.012197         0.253595  \n",
       "460687        -0.031117         0.212905  \n",
       "460688         0.007050         0.223334  \n",
       "\n",
       "[460689 rows x 10 columns]"
      ]
     },
     "execution_count": 12,
     "metadata": {},
     "output_type": "execute_result"
    }
   ],
   "source": [
    "pca_users_val = pca.transform(pca_va.transform(users_df_val)).select('user_idx', 'pca_features')\n",
    "\n",
    "pca_users_val = pca_users_val\\\n",
    "    .withColumn('user_feature', smf.vector_to_array('pca_features'))\\\n",
    "    .select(['user_idx'] + [sf.col('user_feature')[i] for i in range(9)])\\\n",
    "    .cache()\n",
    "\n",
    "pca_users_val.toPandas()"
   ]
  },
  {
   "cell_type": "markdown",
   "metadata": {},
   "source": [
    "# Generators quality with PCA"
   ]
  },
  {
   "cell_type": "code",
   "execution_count": 18,
   "metadata": {},
   "outputs": [],
   "source": [
    "gen_result_pca = pd.DataFrame()"
   ]
  },
  {
   "cell_type": "markdown",
   "metadata": {},
   "source": [
    "# GaussianCopula"
   ]
  },
  {
   "cell_type": "code",
   "execution_count": 19,
   "metadata": {},
   "outputs": [
    {
     "name": "stdout",
     "output_type": "stream",
     "text": [
      "Fitting of gaussiancopula on PCA embeddings: 0.7895703315734863\n"
     ]
    },
    {
     "name": "stderr",
     "output_type": "stream",
     "text": [
      "                                                                                \r"
     ]
    },
    {
     "name": "stdout",
     "output_type": "stream",
     "text": [
      "{'LogisticDetection': 0.5744626971206923, 'SVCDetection': 0.04465681510766906, 'KSTest': 0.818615359315902, 'ContinuousKLDivergence': 0.8478001549689618}\n"
     ]
    }
   ],
   "source": [
    "gen_result_pca = pd.concat([\n",
    "    gen_result_pca,\n",
    "    test_generator(\n",
    "        train_data=pca_users_train,\n",
    "        generator_name='gaussiancopula',\n",
    "        fancy_generator_name='GaussianCopula',\n",
    "        embeddings_name='PCA'\n",
    "    )\n",
    "])"
   ]
  },
  {
   "cell_type": "markdown",
   "metadata": {},
   "source": [
    "# CTGAN"
   ]
  },
  {
   "cell_type": "code",
   "execution_count": 20,
   "metadata": {},
   "outputs": [
    {
     "name": "stdout",
     "output_type": "stream",
     "text": [
      "Fitting of ctgan on PCA embeddings: 6858.941332101822\n"
     ]
    },
    {
     "name": "stderr",
     "output_type": "stream",
     "text": [
      "                                                                                \r"
     ]
    },
    {
     "name": "stdout",
     "output_type": "stream",
     "text": [
      "{'LogisticDetection': 0.6853701417509372, 'SVCDetection': 0.3308623136535588, 'KSTest': 0.8755247151546304, 'ContinuousKLDivergence': 0.910540305474519}\n"
     ]
    }
   ],
   "source": [
    "gen_result_pca = pd.concat([\n",
    "    gen_result_pca,\n",
    "    test_generator(\n",
    "        train_data=pca_users_train,\n",
    "        generator_name='ctgan',\n",
    "        fancy_generator_name='CTGAN',\n",
    "        embeddings_name='PCA'\n",
    "    )\n",
    "])"
   ]
  },
  {
   "cell_type": "markdown",
   "metadata": {},
   "source": [
    "# CopulaGAN"
   ]
  },
  {
   "cell_type": "code",
   "execution_count": 21,
   "metadata": {},
   "outputs": [
    {
     "name": "stdout",
     "output_type": "stream",
     "text": [
      "Fitting of copulagan on PCA embeddings: 6239.525605678558\n"
     ]
    },
    {
     "name": "stderr",
     "output_type": "stream",
     "text": [
      "                                                                                \r"
     ]
    },
    {
     "name": "stdout",
     "output_type": "stream",
     "text": [
      "{'LogisticDetection': 0.6431148029579887, 'SVCDetection': 0.3244245279020781, 'KSTest': 0.8793625880147363, 'ContinuousKLDivergence': 0.9086657246533293}\n"
     ]
    }
   ],
   "source": [
    "gen_result_pca = pd.concat([\n",
    "    gen_result_pca,\n",
    "    test_generator(\n",
    "        train_data=pca_users_train,\n",
    "        generator_name='copulagan',\n",
    "        fancy_generator_name='CopulaGAN',\n",
    "        embeddings_name='PCA'\n",
    "    )\n",
    "])"
   ]
  },
  {
   "cell_type": "markdown",
   "metadata": {},
   "source": [
    "# TVAE"
   ]
  },
  {
   "cell_type": "code",
   "execution_count": 22,
   "metadata": {},
   "outputs": [
    {
     "name": "stdout",
     "output_type": "stream",
     "text": [
      "Fitting of tvae on PCA embeddings: 1275.8144929409027\n"
     ]
    },
    {
     "name": "stderr",
     "output_type": "stream",
     "text": [
      "                                                                                \r"
     ]
    },
    {
     "name": "stdout",
     "output_type": "stream",
     "text": [
      "{'LogisticDetection': 0.8166819904479097, 'SVCDetection': 0.33561245306319265, 'KSTest': 0.8853547787078068, 'ContinuousKLDivergence': 0.9013387182034384}\n"
     ]
    }
   ],
   "source": [
    "gen_result_pca = pd.concat([\n",
    "    gen_result_pca,\n",
    "    test_generator(\n",
    "        train_data=pca_users_train,\n",
    "        generator_name='tvae',\n",
    "        fancy_generator_name='TVAE',\n",
    "        embeddings_name='PCA'\n",
    "    )\n",
    "])"
   ]
  },
  {
   "cell_type": "code",
   "execution_count": 23,
   "metadata": {},
   "outputs": [
    {
     "data": {
      "image/png": "[encoded data removed]",
      "text/plain": [
       "<Figure size 1600x800 with 1 Axes>"
      ]
     },
     "metadata": {},
     "output_type": "display_data"
    }
   ],
   "source": [
    "rcParams['figure.figsize'] = (3, 3)\n",
    "matplotlib.rc('xtick', labelsize=15) \n",
    "matplotlib.rc('ytick', labelsize=15)\n",
    "sns.set(font_scale=1.8) \n",
    "plot = sns.catplot(data=gen_result_pca, x=\"Metric_name\", y=\"Metric_score\", hue=\"Model_name\", kind=\"bar\", aspect=2, height=8, palette=[\n",
    "    \"C1\", \"C2\", \"C0\", \"C3\", \"C4\"\n",
    "], legend=False)\n",
    "ax = plot.facet_axis(0,0)\n",
    "hist_val = create_hist_values(gen_result_pca)\n",
    "for (p, val) in zip(ax.patches, hist_val):\n",
    "    ax.text(p.get_x() - 0.01, \n",
    "            p.get_height() * 1.02, \n",
    "           '{:1.2f}'.format(val),   \n",
    "            color='black', \n",
    "            rotation='horizontal', \n",
    "            size='medium')\n",
    "plt.legend(loc='upper center', bbox_to_anchor=(0.5, -0.1), fancybox=True, ncol=5)\n",
    "plt.tight_layout()"
   ]
  },
  {
   "cell_type": "markdown",
   "metadata": {},
   "source": [
    "Видно, что TVAE дает лучшее качество по 3 из 4 метрик."
   ]
  },
  {
   "cell_type": "markdown",
   "metadata": {},
   "source": [
    "# Response function Real component quality"
   ]
  },
  {
   "cell_type": "markdown",
   "metadata": {},
   "source": [
    "Проверим, что использование эмбеддингов не ухудшает качество компоненты Real функции отклика."
   ]
  },
  {
   "cell_type": "code",
   "execution_count": 13,
   "metadata": {},
   "outputs": [],
   "source": [
    "va = VectorAssembler(\n",
    "    inputCols=pca_users_train.columns[1:] + ITEMS_FEATURES,\n",
    "    outputCol='features'\n",
    ")\n",
    "\n",
    "train_df = log_df_val\\\n",
    "    .join(pca_users_train, 'user_idx', 'left')\\\n",
    "    .join(items_df_train, 'item_idx', 'left')\\\n",
    "    .drop('timestamp')\\\n",
    "    .na.drop()\\\n",
    "    .cache()\n",
    "\n",
    "test_df = log_df_test\\\n",
    "    .join(pca_users_val, 'user_idx', 'left')\\\n",
    "    .join(items_df_val, 'item_idx', 'left')\\\n",
    "    .drop('timestamp')\\\n",
    "    .na.drop()\\\n",
    "    .cache()"
   ]
  },
  {
   "cell_type": "code",
   "execution_count": 14,
   "metadata": {},
   "outputs": [],
   "source": [
    "pca_feature_metrics = []"
   ]
  },
  {
   "cell_type": "markdown",
   "metadata": {},
   "source": [
    "# Logistic Regression"
   ]
  },
  {
   "cell_type": "code",
   "execution_count": 17,
   "metadata": {},
   "outputs": [
    {
     "name": "stderr",
     "output_type": "stream",
     "text": [
      "                                                                                \r"
     ]
    },
    {
     "name": "stdout",
     "output_type": "stream",
     "text": [
      "Fitting of pipeline with LogisticRegression: 148.79742813110352\n"
     ]
    },
    {
     "name": "stderr",
     "output_type": "stream",
     "text": [
      "                                                                                \r"
     ]
    },
    {
     "name": "stdout",
     "output_type": "stream",
     "text": [
      "Regression ROC AUC: 0.7189234243998684\n"
     ]
    }
   ],
   "source": [
    "pca_feature_metrics.append(\n",
    "    test_model(\n",
    "        model_class=LogisticRegression,\n",
    "        train_data=train_df,\n",
    "        test_data=test_df,\n",
    "        assembler=va,\n",
    "        extractor=vee,\n",
    "        bernoulli=br\n",
    "    )\n",
    ")"
   ]
  },
  {
   "cell_type": "markdown",
   "metadata": {},
   "source": [
    "# Random forest"
   ]
  },
  {
   "cell_type": "code",
   "execution_count": 18,
   "metadata": {},
   "outputs": [
    {
     "name": "stderr",
     "output_type": "stream",
     "text": [
      "                                                                                \r"
     ]
    },
    {
     "name": "stdout",
     "output_type": "stream",
     "text": [
      "Fitting of pipeline with RandomForestClassifier: 99.00051712989807\n"
     ]
    },
    {
     "name": "stderr",
     "output_type": "stream",
     "text": [
      "                                                                                \r"
     ]
    },
    {
     "name": "stdout",
     "output_type": "stream",
     "text": [
      "Regression ROC AUC: 0.559561956373764\n"
     ]
    }
   ],
   "source": [
    "pca_feature_metrics.append(\n",
    "    test_model(\n",
    "        model_class=RandomForestClassifier,\n",
    "        train_data=train_df,\n",
    "        test_data=test_df,\n",
    "        assembler=va,\n",
    "        extractor=vee,\n",
    "        bernoulli=br\n",
    "    )\n",
    ")"
   ]
  },
  {
   "cell_type": "code",
   "execution_count": 19,
   "metadata": {},
   "outputs": [
    {
     "data": {
      "text/html": [
       "<div>\n",
       "<style scoped>\n",
       "    .dataframe tbody tr th:only-of-type {\n",
       "        vertical-align: middle;\n",
       "    }\n",
       "\n",
       "    .dataframe tbody tr th {\n",
       "        vertical-align: top;\n",
       "    }\n",
       "\n",
       "    .dataframe thead th {\n",
       "        text-align: right;\n",
       "    }\n",
       "</style>\n",
       "<table border=\"1\" class=\"dataframe\">\n",
       "  <thead>\n",
       "    <tr style=\"text-align: right;\">\n",
       "      <th></th>\n",
       "      <th>Model</th>\n",
       "      <th>ROC-AUC</th>\n",
       "    </tr>\n",
       "  </thead>\n",
       "  <tbody>\n",
       "    <tr>\n",
       "      <th>0</th>\n",
       "      <td>LogisticRegression</td>\n",
       "      <td>0.718923</td>\n",
       "    </tr>\n",
       "    <tr>\n",
       "      <th>1</th>\n",
       "      <td>RandomForestClassifier</td>\n",
       "      <td>0.559562</td>\n",
       "    </tr>\n",
       "  </tbody>\n",
       "</table>\n",
       "</div>"
      ],
      "text/plain": [
       "                    Model   ROC-AUC\n",
       "0      LogisticRegression  0.718923\n",
       "1  RandomForestClassifier  0.559562"
      ]
     },
     "execution_count": 19,
     "metadata": {},
     "output_type": "execute_result"
    }
   ],
   "source": [
    "train_df.unpersist()\n",
    "test_df.unpersist()\n",
    "\n",
    "pca_users_train.unpersist()\n",
    "pca_users_val.unpersist()\n",
    "\n",
    "pd.DataFrame(pca_feature_metrics)"
   ]
  },
  {
   "cell_type": "markdown",
   "metadata": {},
   "source": [
    "При использовании эмбеддингов PCA качество компоненты Real практически не изменилось, что может быть объяснено разреженностью исходных фич."
   ]
  },
  {
   "cell_type": "markdown",
   "metadata": {},
   "source": [
    "# Non-negative ALS"
   ]
  },
  {
   "cell_type": "markdown",
   "metadata": {},
   "source": [
    "Проделаем те же самые эксперименты с другим методом генерации эмбеддингов."
   ]
  },
  {
   "cell_type": "code",
   "execution_count": 22,
   "metadata": {},
   "outputs": [
    {
     "name": "stderr",
     "output_type": "stream",
     "text": [
      "[Stage 4790:=================================================>     (9 + 1) / 10]\r"
     ]
    },
    {
     "name": "stdout",
     "output_type": "stream",
     "text": [
      "Fitting of ALS: 51.20000982284546\n"
     ]
    },
    {
     "name": "stderr",
     "output_type": "stream",
     "text": [
      "                                                                                \r"
     ]
    }
   ],
   "source": [
    "als_estimator = ALS(rank=15, maxIter=10, seed=0, nonnegative = True)\n",
    "\n",
    "start = time.time()\n",
    "als_train = als_estimator.fit(\n",
    "    log_df_train\\\n",
    "        .withColumnRenamed('user_idx', 'user')\\\n",
    "        .withColumnRenamed('item_idx', 'item')\\\n",
    "        .withColumnRenamed('relevance', 'rating')\\\n",
    "        .select('user', 'item', 'rating')\n",
    ")\n",
    "print(f'Fitting of ALS: {time.time() - start}')"
   ]
  },
  {
   "cell_type": "code",
   "execution_count": 23,
   "metadata": {},
   "outputs": [
    {
     "name": "stderr",
     "output_type": "stream",
     "text": [
      "                                                                                \r"
     ]
    },
    {
     "data": {
      "text/html": [
       "<div>\n",
       "<style scoped>\n",
       "    .dataframe tbody tr th:only-of-type {\n",
       "        vertical-align: middle;\n",
       "    }\n",
       "\n",
       "    .dataframe tbody tr th {\n",
       "        vertical-align: top;\n",
       "    }\n",
       "\n",
       "    .dataframe thead th {\n",
       "        text-align: right;\n",
       "    }\n",
       "</style>\n",
       "<table border=\"1\" class=\"dataframe\">\n",
       "  <thead>\n",
       "    <tr style=\"text-align: right;\">\n",
       "      <th></th>\n",
       "      <th>user_idx</th>\n",
       "      <th>user_feature[0]</th>\n",
       "      <th>user_feature[1]</th>\n",
       "      <th>user_feature[2]</th>\n",
       "      <th>user_feature[3]</th>\n",
       "      <th>user_feature[4]</th>\n",
       "      <th>user_feature[5]</th>\n",
       "      <th>user_feature[6]</th>\n",
       "      <th>user_feature[7]</th>\n",
       "      <th>user_feature[8]</th>\n",
       "      <th>user_feature[9]</th>\n",
       "      <th>user_feature[10]</th>\n",
       "      <th>user_feature[11]</th>\n",
       "      <th>user_feature[12]</th>\n",
       "      <th>user_feature[13]</th>\n",
       "      <th>user_feature[14]</th>\n",
       "    </tr>\n",
       "  </thead>\n",
       "  <tbody>\n",
       "    <tr>\n",
       "      <th>0</th>\n",
       "      <td>0</td>\n",
       "      <td>0.232550</td>\n",
       "      <td>0.152288</td>\n",
       "      <td>0.246190</td>\n",
       "      <td>0.266065</td>\n",
       "      <td>0.239335</td>\n",
       "      <td>0.278156</td>\n",
       "      <td>0.187780</td>\n",
       "      <td>0.255782</td>\n",
       "      <td>0.178614</td>\n",
       "      <td>0.224496</td>\n",
       "      <td>0.364796</td>\n",
       "      <td>0.254675</td>\n",
       "      <td>0.245786</td>\n",
       "      <td>0.187105</td>\n",
       "      <td>0.199692</td>\n",
       "    </tr>\n",
       "    <tr>\n",
       "      <th>1</th>\n",
       "      <td>1</td>\n",
       "      <td>0.199788</td>\n",
       "      <td>0.170998</td>\n",
       "      <td>0.263381</td>\n",
       "      <td>0.234406</td>\n",
       "      <td>0.244801</td>\n",
       "      <td>0.274344</td>\n",
       "      <td>0.235377</td>\n",
       "      <td>0.248747</td>\n",
       "      <td>0.219592</td>\n",
       "      <td>0.199968</td>\n",
       "      <td>0.329055</td>\n",
       "      <td>0.238464</td>\n",
       "      <td>0.233599</td>\n",
       "      <td>0.211901</td>\n",
       "      <td>0.210964</td>\n",
       "    </tr>\n",
       "    <tr>\n",
       "      <th>2</th>\n",
       "      <td>3</td>\n",
       "      <td>0.188168</td>\n",
       "      <td>0.168157</td>\n",
       "      <td>0.256236</td>\n",
       "      <td>0.210415</td>\n",
       "      <td>0.247141</td>\n",
       "      <td>0.259339</td>\n",
       "      <td>0.258854</td>\n",
       "      <td>0.229704</td>\n",
       "      <td>0.226710</td>\n",
       "      <td>0.175887</td>\n",
       "      <td>0.294966</td>\n",
       "      <td>0.217198</td>\n",
       "      <td>0.215464</td>\n",
       "      <td>0.205670</td>\n",
       "      <td>0.200401</td>\n",
       "    </tr>\n",
       "    <tr>\n",
       "      <th>3</th>\n",
       "      <td>5</td>\n",
       "      <td>0.273947</td>\n",
       "      <td>0.161387</td>\n",
       "      <td>0.268133</td>\n",
       "      <td>0.317653</td>\n",
       "      <td>0.260229</td>\n",
       "      <td>0.312825</td>\n",
       "      <td>0.178076</td>\n",
       "      <td>0.292506</td>\n",
       "      <td>0.177522</td>\n",
       "      <td>0.267332</td>\n",
       "      <td>0.431079</td>\n",
       "      <td>0.294211</td>\n",
       "      <td>0.283269</td>\n",
       "      <td>0.196728</td>\n",
       "      <td>0.219595</td>\n",
       "    </tr>\n",
       "    <tr>\n",
       "      <th>4</th>\n",
       "      <td>6</td>\n",
       "      <td>0.308598</td>\n",
       "      <td>0.161939</td>\n",
       "      <td>0.262925</td>\n",
       "      <td>0.344747</td>\n",
       "      <td>0.252766</td>\n",
       "      <td>0.321940</td>\n",
       "      <td>0.170058</td>\n",
       "      <td>0.292634</td>\n",
       "      <td>0.200682</td>\n",
       "      <td>0.273306</td>\n",
       "      <td>0.429825</td>\n",
       "      <td>0.309626</td>\n",
       "      <td>0.280843</td>\n",
       "      <td>0.204631</td>\n",
       "      <td>0.229492</td>\n",
       "    </tr>\n",
       "    <tr>\n",
       "      <th>...</th>\n",
       "      <td>...</td>\n",
       "      <td>...</td>\n",
       "      <td>...</td>\n",
       "      <td>...</td>\n",
       "      <td>...</td>\n",
       "      <td>...</td>\n",
       "      <td>...</td>\n",
       "      <td>...</td>\n",
       "      <td>...</td>\n",
       "      <td>...</td>\n",
       "      <td>...</td>\n",
       "      <td>...</td>\n",
       "      <td>...</td>\n",
       "      <td>...</td>\n",
       "      <td>...</td>\n",
       "      <td>...</td>\n",
       "    </tr>\n",
       "    <tr>\n",
       "      <th>316439</th>\n",
       "      <td>480182</td>\n",
       "      <td>0.200097</td>\n",
       "      <td>0.129785</td>\n",
       "      <td>0.210823</td>\n",
       "      <td>0.229940</td>\n",
       "      <td>0.203579</td>\n",
       "      <td>0.236918</td>\n",
       "      <td>0.156051</td>\n",
       "      <td>0.219658</td>\n",
       "      <td>0.149755</td>\n",
       "      <td>0.191495</td>\n",
       "      <td>0.315600</td>\n",
       "      <td>0.216704</td>\n",
       "      <td>0.209959</td>\n",
       "      <td>0.157356</td>\n",
       "      <td>0.170107</td>\n",
       "    </tr>\n",
       "    <tr>\n",
       "      <th>316440</th>\n",
       "      <td>480183</td>\n",
       "      <td>0.230725</td>\n",
       "      <td>0.161970</td>\n",
       "      <td>0.260489</td>\n",
       "      <td>0.262247</td>\n",
       "      <td>0.252456</td>\n",
       "      <td>0.286026</td>\n",
       "      <td>0.214325</td>\n",
       "      <td>0.262297</td>\n",
       "      <td>0.197109</td>\n",
       "      <td>0.220711</td>\n",
       "      <td>0.365105</td>\n",
       "      <td>0.255117</td>\n",
       "      <td>0.247349</td>\n",
       "      <td>0.199283</td>\n",
       "      <td>0.209544</td>\n",
       "    </tr>\n",
       "    <tr>\n",
       "      <th>316441</th>\n",
       "      <td>480185</td>\n",
       "      <td>0.201683</td>\n",
       "      <td>0.189383</td>\n",
       "      <td>0.289457</td>\n",
       "      <td>0.222994</td>\n",
       "      <td>0.276238</td>\n",
       "      <td>0.285132</td>\n",
       "      <td>0.301591</td>\n",
       "      <td>0.252641</td>\n",
       "      <td>0.260448</td>\n",
       "      <td>0.187401</td>\n",
       "      <td>0.318663</td>\n",
       "      <td>0.235634</td>\n",
       "      <td>0.234694</td>\n",
       "      <td>0.231843</td>\n",
       "      <td>0.224073</td>\n",
       "    </tr>\n",
       "    <tr>\n",
       "      <th>316442</th>\n",
       "      <td>480187</td>\n",
       "      <td>0.233588</td>\n",
       "      <td>0.170555</td>\n",
       "      <td>0.269629</td>\n",
       "      <td>0.259516</td>\n",
       "      <td>0.277403</td>\n",
       "      <td>0.292691</td>\n",
       "      <td>0.246911</td>\n",
       "      <td>0.262892</td>\n",
       "      <td>0.214821</td>\n",
       "      <td>0.217429</td>\n",
       "      <td>0.360925</td>\n",
       "      <td>0.253709</td>\n",
       "      <td>0.259198</td>\n",
       "      <td>0.211194</td>\n",
       "      <td>0.218394</td>\n",
       "    </tr>\n",
       "    <tr>\n",
       "      <th>316443</th>\n",
       "      <td>480188</td>\n",
       "      <td>0.228260</td>\n",
       "      <td>0.172884</td>\n",
       "      <td>0.271995</td>\n",
       "      <td>0.258420</td>\n",
       "      <td>0.263310</td>\n",
       "      <td>0.296915</td>\n",
       "      <td>0.240809</td>\n",
       "      <td>0.262909</td>\n",
       "      <td>0.214574</td>\n",
       "      <td>0.215086</td>\n",
       "      <td>0.355453</td>\n",
       "      <td>0.256023</td>\n",
       "      <td>0.251561</td>\n",
       "      <td>0.216969</td>\n",
       "      <td>0.214448</td>\n",
       "    </tr>\n",
       "  </tbody>\n",
       "</table>\n",
       "<p>316444 rows × 16 columns</p>\n",
       "</div>"
      ],
      "text/plain": [
       "        user_idx  user_feature[0]  user_feature[1]  user_feature[2]  \\\n",
       "0              0         0.232550         0.152288         0.246190   \n",
       "1              1         0.199788         0.170998         0.263381   \n",
       "2              3         0.188168         0.168157         0.256236   \n",
       "3              5         0.273947         0.161387         0.268133   \n",
       "4              6         0.308598         0.161939         0.262925   \n",
       "...          ...              ...              ...              ...   \n",
       "316439    480182         0.200097         0.129785         0.210823   \n",
       "316440    480183         0.230725         0.161970         0.260489   \n",
       "316441    480185         0.201683         0.189383         0.289457   \n",
       "316442    480187         0.233588         0.170555         0.269629   \n",
       "316443    480188         0.228260         0.172884         0.271995   \n",
       "\n",
       "        user_feature[3]  user_feature[4]  user_feature[5]  user_feature[6]  \\\n",
       "0              0.266065         0.239335         0.278156         0.187780   \n",
       "1              0.234406         0.244801         0.274344         0.235377   \n",
       "2              0.210415         0.247141         0.259339         0.258854   \n",
       "3              0.317653         0.260229         0.312825         0.178076   \n",
       "4              0.344747         0.252766         0.321940         0.170058   \n",
       "...                 ...              ...              ...              ...   \n",
       "316439         0.229940         0.203579         0.236918         0.156051   \n",
       "316440         0.262247         0.252456         0.286026         0.214325   \n",
       "316441         0.222994         0.276238         0.285132         0.301591   \n",
       "316442         0.259516         0.277403         0.292691         0.246911   \n",
       "316443         0.258420         0.263310         0.296915         0.240809   \n",
       "\n",
       "        user_feature[7]  user_feature[8]  user_feature[9]  user_feature[10]  \\\n",
       "0              0.255782         0.178614         0.224496          0.364796   \n",
       "1              0.248747         0.219592         0.199968          0.329055   \n",
       "2              0.229704         0.226710         0.175887          0.294966   \n",
       "3              0.292506         0.177522         0.267332          0.431079   \n",
       "4              0.292634         0.200682         0.273306          0.429825   \n",
       "...                 ...              ...              ...               ...   \n",
       "316439         0.219658         0.149755         0.191495          0.315600   \n",
       "316440         0.262297         0.197109         0.220711          0.365105   \n",
       "316441         0.252641         0.260448         0.187401          0.318663   \n",
       "316442         0.262892         0.214821         0.217429          0.360925   \n",
       "316443         0.262909         0.214574         0.215086          0.355453   \n",
       "\n",
       "        user_feature[11]  user_feature[12]  user_feature[13]  user_feature[14]  \n",
       "0               0.254675          0.245786          0.187105          0.199692  \n",
       "1               0.238464          0.233599          0.211901          0.210964  \n",
       "2               0.217198          0.215464          0.205670          0.200401  \n",
       "3               0.294211          0.283269          0.196728          0.219595  \n",
       "4               0.309626          0.280843          0.204631          0.229492  \n",
       "...                  ...               ...               ...               ...  \n",
       "316439          0.216704          0.209959          0.157356          0.170107  \n",
       "316440          0.255117          0.247349          0.199283          0.209544  \n",
       "316441          0.235634          0.234694          0.231843          0.224073  \n",
       "316442          0.253709          0.259198          0.211194          0.218394  \n",
       "316443          0.256023          0.251561          0.216969          0.214448  \n",
       "\n",
       "[316444 rows x 16 columns]"
      ]
     },
     "execution_count": 23,
     "metadata": {},
     "output_type": "execute_result"
    }
   ],
   "source": [
    "als_users_train = als_train.userFactors.orderBy(\"id\")\n",
    "als_users_train = als_users_train\\\n",
    "    .withColumn('user_feature', sf.col('features'))\\\n",
    "    .select(['id'] + [sf.col('user_feature')[i] for i in range(15)])\\\n",
    "    .withColumnRenamed('id', 'user_idx')\\\n",
    "    .cache()\n",
    "\n",
    "als_users_train.toPandas()"
   ]
  },
  {
   "cell_type": "code",
   "execution_count": 24,
   "metadata": {},
   "outputs": [
    {
     "name": "stderr",
     "output_type": "stream",
     "text": [
      "                                                                                \r"
     ]
    },
    {
     "name": "stdout",
     "output_type": "stream",
     "text": [
      "Fitting of ALS: 37.75630807876587\n"
     ]
    }
   ],
   "source": [
    "start = time.time()\n",
    "als_val = als_estimator.fit(\n",
    "    log_df_val\\\n",
    "        .withColumnRenamed('user_idx', 'user')\\\n",
    "        .withColumnRenamed('item_idx', 'item')\\\n",
    "        .withColumnRenamed('relevance', 'rating')\\\n",
    "        .select([\"user\", \"item\", \"rating\"])\n",
    ")\n",
    "print(f'Fitting of ALS: {time.time() - start}')"
   ]
  },
  {
   "cell_type": "code",
   "execution_count": 25,
   "metadata": {},
   "outputs": [
    {
     "data": {
      "text/html": [
       "<div>\n",
       "<style scoped>\n",
       "    .dataframe tbody tr th:only-of-type {\n",
       "        vertical-align: middle;\n",
       "    }\n",
       "\n",
       "    .dataframe tbody tr th {\n",
       "        vertical-align: top;\n",
       "    }\n",
       "\n",
       "    .dataframe thead th {\n",
       "        text-align: right;\n",
       "    }\n",
       "</style>\n",
       "<table border=\"1\" class=\"dataframe\">\n",
       "  <thead>\n",
       "    <tr style=\"text-align: right;\">\n",
       "      <th></th>\n",
       "      <th>user_idx</th>\n",
       "      <th>user_feature[0]</th>\n",
       "      <th>user_feature[1]</th>\n",
       "      <th>user_feature[2]</th>\n",
       "      <th>user_feature[3]</th>\n",
       "      <th>user_feature[4]</th>\n",
       "      <th>user_feature[5]</th>\n",
       "      <th>user_feature[6]</th>\n",
       "      <th>user_feature[7]</th>\n",
       "      <th>user_feature[8]</th>\n",
       "      <th>user_feature[9]</th>\n",
       "      <th>user_feature[10]</th>\n",
       "      <th>user_feature[11]</th>\n",
       "      <th>user_feature[12]</th>\n",
       "      <th>user_feature[13]</th>\n",
       "      <th>user_feature[14]</th>\n",
       "    </tr>\n",
       "  </thead>\n",
       "  <tbody>\n",
       "    <tr>\n",
       "      <th>0</th>\n",
       "      <td>0</td>\n",
       "      <td>0.226237</td>\n",
       "      <td>0.235622</td>\n",
       "      <td>0.260999</td>\n",
       "      <td>0.319470</td>\n",
       "      <td>0.194825</td>\n",
       "      <td>0.324018</td>\n",
       "      <td>0.210438</td>\n",
       "      <td>0.316089</td>\n",
       "      <td>0.318821</td>\n",
       "      <td>0.176400</td>\n",
       "      <td>0.295383</td>\n",
       "      <td>0.215653</td>\n",
       "      <td>0.224771</td>\n",
       "      <td>0.218575</td>\n",
       "      <td>0.226772</td>\n",
       "    </tr>\n",
       "    <tr>\n",
       "      <th>1</th>\n",
       "      <td>1</td>\n",
       "      <td>0.250455</td>\n",
       "      <td>0.280127</td>\n",
       "      <td>0.271094</td>\n",
       "      <td>0.265474</td>\n",
       "      <td>0.230185</td>\n",
       "      <td>0.260251</td>\n",
       "      <td>0.257965</td>\n",
       "      <td>0.253303</td>\n",
       "      <td>0.259886</td>\n",
       "      <td>0.228702</td>\n",
       "      <td>0.241557</td>\n",
       "      <td>0.197926</td>\n",
       "      <td>0.234548</td>\n",
       "      <td>0.252371</td>\n",
       "      <td>0.271342</td>\n",
       "    </tr>\n",
       "    <tr>\n",
       "      <th>2</th>\n",
       "      <td>3</td>\n",
       "      <td>0.403181</td>\n",
       "      <td>0.217063</td>\n",
       "      <td>0.333598</td>\n",
       "      <td>0.335841</td>\n",
       "      <td>0.165457</td>\n",
       "      <td>0.271333</td>\n",
       "      <td>0.312029</td>\n",
       "      <td>0.252316</td>\n",
       "      <td>0.257432</td>\n",
       "      <td>0.221066</td>\n",
       "      <td>0.298611</td>\n",
       "      <td>0.248170</td>\n",
       "      <td>0.173710</td>\n",
       "      <td>0.175853</td>\n",
       "      <td>0.207499</td>\n",
       "    </tr>\n",
       "    <tr>\n",
       "      <th>3</th>\n",
       "      <td>4</td>\n",
       "      <td>0.268693</td>\n",
       "      <td>0.305017</td>\n",
       "      <td>0.313423</td>\n",
       "      <td>0.244886</td>\n",
       "      <td>0.258977</td>\n",
       "      <td>0.242677</td>\n",
       "      <td>0.259071</td>\n",
       "      <td>0.229137</td>\n",
       "      <td>0.220566</td>\n",
       "      <td>0.267110</td>\n",
       "      <td>0.207121</td>\n",
       "      <td>0.191487</td>\n",
       "      <td>0.254154</td>\n",
       "      <td>0.284349</td>\n",
       "      <td>0.290818</td>\n",
       "    </tr>\n",
       "    <tr>\n",
       "      <th>4</th>\n",
       "      <td>6</td>\n",
       "      <td>0.269083</td>\n",
       "      <td>0.069912</td>\n",
       "      <td>0.231029</td>\n",
       "      <td>0.335587</td>\n",
       "      <td>0.101609</td>\n",
       "      <td>0.436879</td>\n",
       "      <td>0.191995</td>\n",
       "      <td>0.383199</td>\n",
       "      <td>0.394817</td>\n",
       "      <td>0.043976</td>\n",
       "      <td>0.336853</td>\n",
       "      <td>0.218101</td>\n",
       "      <td>0.081482</td>\n",
       "      <td>0.113067</td>\n",
       "      <td>0.125371</td>\n",
       "    </tr>\n",
       "    <tr>\n",
       "      <th>...</th>\n",
       "      <td>...</td>\n",
       "      <td>...</td>\n",
       "      <td>...</td>\n",
       "      <td>...</td>\n",
       "      <td>...</td>\n",
       "      <td>...</td>\n",
       "      <td>...</td>\n",
       "      <td>...</td>\n",
       "      <td>...</td>\n",
       "      <td>...</td>\n",
       "      <td>...</td>\n",
       "      <td>...</td>\n",
       "      <td>...</td>\n",
       "      <td>...</td>\n",
       "      <td>...</td>\n",
       "      <td>...</td>\n",
       "    </tr>\n",
       "    <tr>\n",
       "      <th>355499</th>\n",
       "      <td>480184</td>\n",
       "      <td>0.226614</td>\n",
       "      <td>0.227288</td>\n",
       "      <td>0.265619</td>\n",
       "      <td>0.360600</td>\n",
       "      <td>0.187788</td>\n",
       "      <td>0.340729</td>\n",
       "      <td>0.198703</td>\n",
       "      <td>0.376026</td>\n",
       "      <td>0.356928</td>\n",
       "      <td>0.156543</td>\n",
       "      <td>0.330318</td>\n",
       "      <td>0.217969</td>\n",
       "      <td>0.203930</td>\n",
       "      <td>0.205475</td>\n",
       "      <td>0.221704</td>\n",
       "    </tr>\n",
       "    <tr>\n",
       "      <th>355500</th>\n",
       "      <td>480185</td>\n",
       "      <td>0.174646</td>\n",
       "      <td>0.197049</td>\n",
       "      <td>0.231336</td>\n",
       "      <td>0.338404</td>\n",
       "      <td>0.299249</td>\n",
       "      <td>0.451879</td>\n",
       "      <td>0.207225</td>\n",
       "      <td>0.386347</td>\n",
       "      <td>0.355197</td>\n",
       "      <td>0.138603</td>\n",
       "      <td>0.316887</td>\n",
       "      <td>0.193586</td>\n",
       "      <td>0.114263</td>\n",
       "      <td>0.168961</td>\n",
       "      <td>0.098902</td>\n",
       "    </tr>\n",
       "    <tr>\n",
       "      <th>355501</th>\n",
       "      <td>480186</td>\n",
       "      <td>0.234090</td>\n",
       "      <td>0.267940</td>\n",
       "      <td>0.266711</td>\n",
       "      <td>0.308241</td>\n",
       "      <td>0.204334</td>\n",
       "      <td>0.308433</td>\n",
       "      <td>0.220504</td>\n",
       "      <td>0.321084</td>\n",
       "      <td>0.305272</td>\n",
       "      <td>0.195197</td>\n",
       "      <td>0.292424</td>\n",
       "      <td>0.213843</td>\n",
       "      <td>0.229577</td>\n",
       "      <td>0.228480</td>\n",
       "      <td>0.252296</td>\n",
       "    </tr>\n",
       "    <tr>\n",
       "      <th>355502</th>\n",
       "      <td>480187</td>\n",
       "      <td>0.231289</td>\n",
       "      <td>0.227207</td>\n",
       "      <td>0.263796</td>\n",
       "      <td>0.331225</td>\n",
       "      <td>0.186597</td>\n",
       "      <td>0.341595</td>\n",
       "      <td>0.204325</td>\n",
       "      <td>0.328662</td>\n",
       "      <td>0.344473</td>\n",
       "      <td>0.178579</td>\n",
       "      <td>0.339829</td>\n",
       "      <td>0.194740</td>\n",
       "      <td>0.194162</td>\n",
       "      <td>0.182330</td>\n",
       "      <td>0.198063</td>\n",
       "    </tr>\n",
       "    <tr>\n",
       "      <th>355503</th>\n",
       "      <td>480188</td>\n",
       "      <td>0.236145</td>\n",
       "      <td>0.256350</td>\n",
       "      <td>0.272119</td>\n",
       "      <td>0.281073</td>\n",
       "      <td>0.216679</td>\n",
       "      <td>0.294972</td>\n",
       "      <td>0.223211</td>\n",
       "      <td>0.276920</td>\n",
       "      <td>0.284029</td>\n",
       "      <td>0.207775</td>\n",
       "      <td>0.262776</td>\n",
       "      <td>0.199421</td>\n",
       "      <td>0.220754</td>\n",
       "      <td>0.241220</td>\n",
       "      <td>0.246805</td>\n",
       "    </tr>\n",
       "  </tbody>\n",
       "</table>\n",
       "<p>355504 rows × 16 columns</p>\n",
       "</div>"
      ],
      "text/plain": [
       "        user_idx  user_feature[0]  user_feature[1]  user_feature[2]  \\\n",
       "0              0         0.226237         0.235622         0.260999   \n",
       "1              1         0.250455         0.280127         0.271094   \n",
       "2              3         0.403181         0.217063         0.333598   \n",
       "3              4         0.268693         0.305017         0.313423   \n",
       "4              6         0.269083         0.069912         0.231029   \n",
       "...          ...              ...              ...              ...   \n",
       "355499    480184         0.226614         0.227288         0.265619   \n",
       "355500    480185         0.174646         0.197049         0.231336   \n",
       "355501    480186         0.234090         0.267940         0.266711   \n",
       "355502    480187         0.231289         0.227207         0.263796   \n",
       "355503    480188         0.236145         0.256350         0.272119   \n",
       "\n",
       "        user_feature[3]  user_feature[4]  user_feature[5]  user_feature[6]  \\\n",
       "0              0.319470         0.194825         0.324018         0.210438   \n",
       "1              0.265474         0.230185         0.260251         0.257965   \n",
       "2              0.335841         0.165457         0.271333         0.312029   \n",
       "3              0.244886         0.258977         0.242677         0.259071   \n",
       "4              0.335587         0.101609         0.436879         0.191995   \n",
       "...                 ...              ...              ...              ...   \n",
       "355499         0.360600         0.187788         0.340729         0.198703   \n",
       "355500         0.338404         0.299249         0.451879         0.207225   \n",
       "355501         0.308241         0.204334         0.308433         0.220504   \n",
       "355502         0.331225         0.186597         0.341595         0.204325   \n",
       "355503         0.281073         0.216679         0.294972         0.223211   \n",
       "\n",
       "        user_feature[7]  user_feature[8]  user_feature[9]  user_feature[10]  \\\n",
       "0              0.316089         0.318821         0.176400          0.295383   \n",
       "1              0.253303         0.259886         0.228702          0.241557   \n",
       "2              0.252316         0.257432         0.221066          0.298611   \n",
       "3              0.229137         0.220566         0.267110          0.207121   \n",
       "4              0.383199         0.394817         0.043976          0.336853   \n",
       "...                 ...              ...              ...               ...   \n",
       "355499         0.376026         0.356928         0.156543          0.330318   \n",
       "355500         0.386347         0.355197         0.138603          0.316887   \n",
       "355501         0.321084         0.305272         0.195197          0.292424   \n",
       "355502         0.328662         0.344473         0.178579          0.339829   \n",
       "355503         0.276920         0.284029         0.207775          0.262776   \n",
       "\n",
       "        user_feature[11]  user_feature[12]  user_feature[13]  user_feature[14]  \n",
       "0               0.215653          0.224771          0.218575          0.226772  \n",
       "1               0.197926          0.234548          0.252371          0.271342  \n",
       "2               0.248170          0.173710          0.175853          0.207499  \n",
       "3               0.191487          0.254154          0.284349          0.290818  \n",
       "4               0.218101          0.081482          0.113067          0.125371  \n",
       "...                  ...               ...               ...               ...  \n",
       "355499          0.217969          0.203930          0.205475          0.221704  \n",
       "355500          0.193586          0.114263          0.168961          0.098902  \n",
       "355501          0.213843          0.229577          0.228480          0.252296  \n",
       "355502          0.194740          0.194162          0.182330          0.198063  \n",
       "355503          0.199421          0.220754          0.241220          0.246805  \n",
       "\n",
       "[355504 rows x 16 columns]"
      ]
     },
     "execution_count": 25,
     "metadata": {},
     "output_type": "execute_result"
    }
   ],
   "source": [
    "als_users_val = als_val.userFactors.orderBy(\"id\")\n",
    "als_users_val = als_users_val\\\n",
    "    .withColumn('user_feature', sf.col('features'))\\\n",
    "    .select(['id'] + [sf.col('user_feature')[i] for i in range(15)])\\\n",
    "    .withColumnRenamed('id', 'user_idx')\\\n",
    "    .cache()\n",
    "\n",
    "als_users_val.toPandas()"
   ]
  },
  {
   "cell_type": "markdown",
   "metadata": {},
   "source": [
    "# Generators quality with ALS"
   ]
  },
  {
   "cell_type": "code",
   "execution_count": 46,
   "metadata": {},
   "outputs": [],
   "source": [
    "gen_result_als = pd.DataFrame()"
   ]
  },
  {
   "cell_type": "markdown",
   "metadata": {},
   "source": [
    "# GaussianCopula"
   ]
  },
  {
   "cell_type": "code",
   "execution_count": 47,
   "metadata": {},
   "outputs": [
    {
     "name": "stdout",
     "output_type": "stream",
     "text": [
      "Fitting of gaussiancopula on NMF embeddings: 0.8351452350616455\n"
     ]
    },
    {
     "name": "stderr",
     "output_type": "stream",
     "text": [
      "                                                                                \r"
     ]
    },
    {
     "name": "stdout",
     "output_type": "stream",
     "text": [
      "{'LogisticDetection': 0.834907405215444, 'SVCDetection': 0.3004577710613424, 'KSTest': 0.8962627748236982, 'ContinuousKLDivergence': 0.7689682155353067}\n"
     ]
    }
   ],
   "source": [
    "gen_result_als = pd.concat([\n",
    "    gen_result_als,\n",
    "    test_generator(\n",
    "        train_data=als_users_train,\n",
    "        generator_name='gaussiancopula',\n",
    "        fancy_generator_name='GaussianCopula',\n",
    "        embeddings_name='NMF'\n",
    "    )\n",
    "])"
   ]
  },
  {
   "cell_type": "markdown",
   "metadata": {},
   "source": [
    "# CTGAN"
   ]
  },
  {
   "cell_type": "code",
   "execution_count": 48,
   "metadata": {},
   "outputs": [
    {
     "name": "stdout",
     "output_type": "stream",
     "text": [
      "Fitting of ctgan on NMF embeddings: 6989.19064950943\n"
     ]
    },
    {
     "name": "stderr",
     "output_type": "stream",
     "text": [
      "                                                                                \r"
     ]
    },
    {
     "name": "stdout",
     "output_type": "stream",
     "text": [
      "{'LogisticDetection': 0.35573624571075657, 'SVCDetection': 0.052430886975221136, 'KSTest': 0.8929568032146445, 'ContinuousKLDivergence': 0.7937018888735204}\n"
     ]
    }
   ],
   "source": [
    "gen_result_als = pd.concat([\n",
    "    gen_result_als,\n",
    "    test_generator(\n",
    "        train_data=als_users_train,\n",
    "        generator_name='ctgan',\n",
    "        fancy_generator_name='CTGAN',\n",
    "        embeddings_name='NMF'\n",
    "    )\n",
    "])"
   ]
  },
  {
   "cell_type": "markdown",
   "metadata": {},
   "source": [
    "# CopulaGAN"
   ]
  },
  {
   "cell_type": "code",
   "execution_count": 49,
   "metadata": {},
   "outputs": [
    {
     "name": "stdout",
     "output_type": "stream",
     "text": [
      "Fitting of copulagan on NMF embeddings: 6492.808953762054\n"
     ]
    },
    {
     "name": "stderr",
     "output_type": "stream",
     "text": [
      "                                                                                \r"
     ]
    },
    {
     "name": "stdout",
     "output_type": "stream",
     "text": [
      "{'LogisticDetection': 0.46191953381029494, 'SVCDetection': 0.0538849176707229, 'KSTest': 0.8980688876341049, 'ContinuousKLDivergence': 0.8047929774479273}\n"
     ]
    }
   ],
   "source": [
    "gen_result_als = pd.concat([\n",
    "    gen_result_als,\n",
    "    test_generator(\n",
    "        train_data=als_users_train,\n",
    "        generator_name='copulagan',\n",
    "        fancy_generator_name='CopulaGAN',\n",
    "        embeddings_name='NMF'\n",
    "    )\n",
    "])"
   ]
  },
  {
   "cell_type": "markdown",
   "metadata": {},
   "source": [
    "# TVAE"
   ]
  },
  {
   "cell_type": "code",
   "execution_count": 51,
   "metadata": {},
   "outputs": [
    {
     "name": "stdout",
     "output_type": "stream",
     "text": [
      "Fitting of tvae on NMF embeddings: 2807.3672828674316\n"
     ]
    },
    {
     "name": "stderr",
     "output_type": "stream",
     "text": [
      "                                                                                \r"
     ]
    },
    {
     "name": "stdout",
     "output_type": "stream",
     "text": [
      "{'LogisticDetection': 0.7602521793585806, 'SVCDetection': 0.2179614279658887, 'KSTest': 0.9515737243575502, 'ContinuousKLDivergence': 0.9151427038993837}\n"
     ]
    }
   ],
   "source": [
    "gen_result_als = pd.concat([\n",
    "    gen_result_als,\n",
    "    test_generator(\n",
    "        train_data=als_users_train,\n",
    "        generator_name='tvae',\n",
    "        fancy_generator_name='TVAE',\n",
    "        embeddings_name='NMF'\n",
    "    )\n",
    "])"
   ]
  },
  {
   "cell_type": "code",
   "execution_count": 52,
   "metadata": {},
   "outputs": [
    {
     "data": {
      "image/png": "[encoded data removed]",
      "text/plain": [
       "<Figure size 1600x800 with 1 Axes>"
      ]
     },
     "metadata": {},
     "output_type": "display_data"
    }
   ],
   "source": [
    "rcParams['figure.figsize'] = (3, 3)\n",
    "matplotlib.rc('xtick', labelsize=15) \n",
    "matplotlib.rc('ytick', labelsize=15)\n",
    "sns.set(font_scale=1.8) \n",
    "plot = sns.catplot(data=gen_result_als, x=\"Metric_name\", y=\"Metric_score\", hue=\"Model_name\", kind=\"bar\", aspect=2, height=8, palette=[\n",
    "    \"C1\", \"C2\", \"C0\", \"C3\", \"C4\"\n",
    "], legend=False)\n",
    "ax = plot.facet_axis(0,0)\n",
    "hist_val = create_hist_values(gen_result_als)\n",
    "for (p, val) in zip(ax.patches, hist_val):\n",
    "    ax.text(p.get_x() - 0.01, \n",
    "            p.get_height() * 1.02, \n",
    "           '{:1.2f}'.format(val),   \n",
    "            color='black', \n",
    "            rotation='horizontal', \n",
    "            size='medium')\n",
    "plt.legend(loc='upper center', bbox_to_anchor=(0.5, -0.1), fancybox=True, ncol=5)\n",
    "plt.tight_layout()"
   ]
  },
  {
   "cell_type": "markdown",
   "metadata": {},
   "source": [
    "# Response function Real component quality"
   ]
  },
  {
   "cell_type": "code",
   "execution_count": 26,
   "metadata": {},
   "outputs": [],
   "source": [
    "va = VectorAssembler(\n",
    "    inputCols=als_users_train.columns[1:] + ITEMS_FEATURES,\n",
    "    outputCol='features'\n",
    ")\n",
    "\n",
    "train_df = log_df_val\\\n",
    "    .join(als_users_train, 'user_idx', 'left')\\\n",
    "    .join(items_df_train, 'item_idx', 'left')\\\n",
    "    .drop('timestamp')\\\n",
    "    .na.drop()\\\n",
    "    .cache()\n",
    "\n",
    "test_df = log_df_test\\\n",
    "    .join(als_users_val, 'user_idx', 'left')\\\n",
    "    .join(items_df_val, 'item_idx', 'left')\\\n",
    "    .drop('timestamp')\\\n",
    "    .na.drop()\\\n",
    "    .cache()"
   ]
  },
  {
   "cell_type": "code",
   "execution_count": 27,
   "metadata": {},
   "outputs": [],
   "source": [
    "als_feature_metrics = []"
   ]
  },
  {
   "cell_type": "markdown",
   "metadata": {},
   "source": [
    "# Logistic Regression"
   ]
  },
  {
   "cell_type": "code",
   "execution_count": 28,
   "metadata": {},
   "outputs": [
    {
     "name": "stderr",
     "output_type": "stream",
     "text": [
      "                                                                                \r"
     ]
    },
    {
     "name": "stdout",
     "output_type": "stream",
     "text": [
      "Fitting of pipeline with LogisticRegression: 161.91922855377197\n"
     ]
    },
    {
     "name": "stderr",
     "output_type": "stream",
     "text": [
      "                                                                                \r"
     ]
    },
    {
     "name": "stdout",
     "output_type": "stream",
     "text": [
      "Regression ROC AUC: 0.6984341574893626\n"
     ]
    }
   ],
   "source": [
    "als_feature_metrics.append(\n",
    "    test_model(\n",
    "        model_class=LogisticRegression,\n",
    "        train_data=train_df,\n",
    "        test_data=test_df,\n",
    "        assembler=va,\n",
    "        extractor=vee,\n",
    "        bernoulli=br\n",
    "    )\n",
    ")"
   ]
  },
  {
   "cell_type": "markdown",
   "metadata": {},
   "source": [
    "# Random forest"
   ]
  },
  {
   "cell_type": "code",
   "execution_count": 29,
   "metadata": {},
   "outputs": [
    {
     "name": "stderr",
     "output_type": "stream",
     "text": [
      "                                                                                \r"
     ]
    },
    {
     "name": "stdout",
     "output_type": "stream",
     "text": [
      "Fitting of pipeline with RandomForestClassifier: 76.54342770576477\n"
     ]
    },
    {
     "name": "stderr",
     "output_type": "stream",
     "text": [
      "                                                                                \r"
     ]
    },
    {
     "name": "stdout",
     "output_type": "stream",
     "text": [
      "Regression ROC AUC: 0.6203532567756723\n"
     ]
    }
   ],
   "source": [
    "als_feature_metrics.append(\n",
    "    test_model(\n",
    "        model_class=RandomForestClassifier,\n",
    "        train_data=train_df,\n",
    "        test_data=test_df,\n",
    "        assembler=va,\n",
    "        extractor=vee,\n",
    "        bernoulli=br\n",
    "    )\n",
    ")"
   ]
  },
  {
   "cell_type": "code",
   "execution_count": 31,
   "metadata": {},
   "outputs": [
    {
     "data": {
      "text/html": [
       "<div>\n",
       "<style scoped>\n",
       "    .dataframe tbody tr th:only-of-type {\n",
       "        vertical-align: middle;\n",
       "    }\n",
       "\n",
       "    .dataframe tbody tr th {\n",
       "        vertical-align: top;\n",
       "    }\n",
       "\n",
       "    .dataframe thead th {\n",
       "        text-align: right;\n",
       "    }\n",
       "</style>\n",
       "<table border=\"1\" class=\"dataframe\">\n",
       "  <thead>\n",
       "    <tr style=\"text-align: right;\">\n",
       "      <th></th>\n",
       "      <th>Model</th>\n",
       "      <th>ROC-AUC</th>\n",
       "    </tr>\n",
       "  </thead>\n",
       "  <tbody>\n",
       "    <tr>\n",
       "      <th>0</th>\n",
       "      <td>LogisticRegression</td>\n",
       "      <td>0.698434</td>\n",
       "    </tr>\n",
       "    <tr>\n",
       "      <th>1</th>\n",
       "      <td>RandomForestClassifier</td>\n",
       "      <td>0.620353</td>\n",
       "    </tr>\n",
       "  </tbody>\n",
       "</table>\n",
       "</div>"
      ],
      "text/plain": [
       "                    Model   ROC-AUC\n",
       "0      LogisticRegression  0.698434\n",
       "1  RandomForestClassifier  0.620353"
      ]
     },
     "execution_count": 31,
     "metadata": {},
     "output_type": "execute_result"
    }
   ],
   "source": [
    "train_df.unpersist()\n",
    "test_df.unpersist()\n",
    "\n",
    "als_users_train.unpersist()\n",
    "als_users_val.unpersist()\n",
    "\n",
    "pd.DataFrame(als_feature_metrics)"
   ]
  },
  {
   "cell_type": "markdown",
   "metadata": {},
   "source": [
    "В случае метода ALS нет явно доминирующей по качеству модели генерации синтетики. Но качество компоненты Real все равно выше, чем в случае исходных профилей, для всех моделей аппроксимации отклика."
   ]
  },
  {
   "cell_type": "markdown",
   "metadata": {},
   "source": [
    "# Autoencoder"
   ]
  },
  {
   "cell_type": "code",
   "execution_count": 32,
   "metadata": {},
   "outputs": [
    {
     "name": "stderr",
     "output_type": "stream",
     "text": [
      "                                                                                \r"
     ]
    },
    {
     "name": "stdout",
     "output_type": "stream",
     "text": [
      "Fitting of aetoencoder: 15198.564724683762\n"
     ]
    }
   ],
   "source": [
    "LATENT_DIM = 15\n",
    "\n",
    "start = time.time()\n",
    "encoder = EncoderEstimator(\n",
    "    inputCols=users_df_train.columns[1:],\n",
    "    outputCols=[f'emb_{i}' for i in range(LATENT_DIM)],\n",
    "    hidden_dim=16,\n",
    "    lr=0.001,\n",
    "    batch_size=64,\n",
    "    num_loader_workers=4,\n",
    "    max_iter=50,\n",
    "    device_name='cpu'\n",
    ").fit(users_df_train)\n",
    "print(f'Fitting of aetoencoder: {time.time() - start}')"
   ]
  },
  {
   "cell_type": "code",
   "execution_count": 33,
   "metadata": {},
   "outputs": [
    {
     "name": "stderr",
     "output_type": "stream",
     "text": [
      "22/11/06 15:02:27 WARN WindowExec: No Partition Defined for Window operation! Moving all data to a single partition, this can cause serious performance degradation.\n",
      "22/11/06 15:02:27 WARN WindowExec: No Partition Defined for Window operation! Moving all data to a single partition, this can cause serious performance degradation.\n",
      "                                                                                \r"
     ]
    },
    {
     "data": {
      "text/html": [
       "<div>\n",
       "<style scoped>\n",
       "    .dataframe tbody tr th:only-of-type {\n",
       "        vertical-align: middle;\n",
       "    }\n",
       "\n",
       "    .dataframe tbody tr th {\n",
       "        vertical-align: top;\n",
       "    }\n",
       "\n",
       "    .dataframe thead th {\n",
       "        text-align: right;\n",
       "    }\n",
       "</style>\n",
       "<table border=\"1\" class=\"dataframe\">\n",
       "  <thead>\n",
       "    <tr style=\"text-align: right;\">\n",
       "      <th></th>\n",
       "      <th>emb_0</th>\n",
       "      <th>emb_1</th>\n",
       "      <th>emb_2</th>\n",
       "      <th>emb_3</th>\n",
       "      <th>emb_4</th>\n",
       "      <th>emb_5</th>\n",
       "      <th>emb_6</th>\n",
       "      <th>emb_7</th>\n",
       "      <th>emb_8</th>\n",
       "      <th>emb_9</th>\n",
       "      <th>emb_10</th>\n",
       "      <th>emb_11</th>\n",
       "      <th>emb_12</th>\n",
       "      <th>emb_13</th>\n",
       "      <th>emb_14</th>\n",
       "      <th>user_idx</th>\n",
       "    </tr>\n",
       "  </thead>\n",
       "  <tbody>\n",
       "    <tr>\n",
       "      <th>0</th>\n",
       "      <td>-1.956926</td>\n",
       "      <td>1.684702</td>\n",
       "      <td>1.184815</td>\n",
       "      <td>-1.548965</td>\n",
       "      <td>2.081555</td>\n",
       "      <td>-2.922084</td>\n",
       "      <td>2.127467</td>\n",
       "      <td>1.847809</td>\n",
       "      <td>3.896766</td>\n",
       "      <td>0.385026</td>\n",
       "      <td>0.186281</td>\n",
       "      <td>0.613285</td>\n",
       "      <td>0.661424</td>\n",
       "      <td>-2.604004</td>\n",
       "      <td>-0.416313</td>\n",
       "      <td>0</td>\n",
       "    </tr>\n",
       "    <tr>\n",
       "      <th>1</th>\n",
       "      <td>-1.846012</td>\n",
       "      <td>1.582472</td>\n",
       "      <td>1.082073</td>\n",
       "      <td>-1.630885</td>\n",
       "      <td>1.965744</td>\n",
       "      <td>-2.953809</td>\n",
       "      <td>2.011763</td>\n",
       "      <td>1.741428</td>\n",
       "      <td>3.923600</td>\n",
       "      <td>0.483600</td>\n",
       "      <td>0.278201</td>\n",
       "      <td>0.522276</td>\n",
       "      <td>0.727750</td>\n",
       "      <td>-2.492884</td>\n",
       "      <td>-0.501757</td>\n",
       "      <td>1</td>\n",
       "    </tr>\n",
       "    <tr>\n",
       "      <th>2</th>\n",
       "      <td>-1.731368</td>\n",
       "      <td>1.474834</td>\n",
       "      <td>0.967733</td>\n",
       "      <td>-1.735268</td>\n",
       "      <td>1.848678</td>\n",
       "      <td>-3.018725</td>\n",
       "      <td>1.892974</td>\n",
       "      <td>1.630361</td>\n",
       "      <td>3.985917</td>\n",
       "      <td>0.596253</td>\n",
       "      <td>0.386771</td>\n",
       "      <td>0.417589</td>\n",
       "      <td>0.813915</td>\n",
       "      <td>-2.380846</td>\n",
       "      <td>-0.605072</td>\n",
       "      <td>3</td>\n",
       "    </tr>\n",
       "    <tr>\n",
       "      <th>3</th>\n",
       "      <td>17.531099</td>\n",
       "      <td>-18.162672</td>\n",
       "      <td>-21.630281</td>\n",
       "      <td>-30.273090</td>\n",
       "      <td>-16.954407</td>\n",
       "      <td>-30.289715</td>\n",
       "      <td>-17.639231</td>\n",
       "      <td>-17.802946</td>\n",
       "      <td>33.115829</td>\n",
       "      <td>26.721695</td>\n",
       "      <td>26.146189</td>\n",
       "      <td>-22.602119</td>\n",
       "      <td>24.980513</td>\n",
       "      <td>14.578947</td>\n",
       "      <td>-25.722906</td>\n",
       "      <td>4</td>\n",
       "    </tr>\n",
       "    <tr>\n",
       "      <th>4</th>\n",
       "      <td>4.182262</td>\n",
       "      <td>-4.312871</td>\n",
       "      <td>-5.388802</td>\n",
       "      <td>-8.592231</td>\n",
       "      <td>-4.067668</td>\n",
       "      <td>-8.673961</td>\n",
       "      <td>-4.168255</td>\n",
       "      <td>-4.215481</td>\n",
       "      <td>9.799827</td>\n",
       "      <td>7.348484</td>\n",
       "      <td>7.003366</td>\n",
       "      <td>-5.738051</td>\n",
       "      <td>6.628592</td>\n",
       "      <td>3.158096</td>\n",
       "      <td>-6.989782</td>\n",
       "      <td>5</td>\n",
       "    </tr>\n",
       "    <tr>\n",
       "      <th>...</th>\n",
       "      <td>...</td>\n",
       "      <td>...</td>\n",
       "      <td>...</td>\n",
       "      <td>...</td>\n",
       "      <td>...</td>\n",
       "      <td>...</td>\n",
       "      <td>...</td>\n",
       "      <td>...</td>\n",
       "      <td>...</td>\n",
       "      <td>...</td>\n",
       "      <td>...</td>\n",
       "      <td>...</td>\n",
       "      <td>...</td>\n",
       "      <td>...</td>\n",
       "      <td>...</td>\n",
       "      <td>...</td>\n",
       "    </tr>\n",
       "    <tr>\n",
       "      <th>365787</th>\n",
       "      <td>-1.911965</td>\n",
       "      <td>1.642888</td>\n",
       "      <td>1.140737</td>\n",
       "      <td>-1.586509</td>\n",
       "      <td>2.035600</td>\n",
       "      <td>-2.943784</td>\n",
       "      <td>2.080832</td>\n",
       "      <td>1.804450</td>\n",
       "      <td>3.916358</td>\n",
       "      <td>0.426458</td>\n",
       "      <td>0.226578</td>\n",
       "      <td>0.573609</td>\n",
       "      <td>0.692776</td>\n",
       "      <td>-2.559363</td>\n",
       "      <td>-0.454704</td>\n",
       "      <td>480182</td>\n",
       "    </tr>\n",
       "    <tr>\n",
       "      <th>365788</th>\n",
       "      <td>17.479856</td>\n",
       "      <td>-18.107367</td>\n",
       "      <td>-21.579866</td>\n",
       "      <td>-30.257128</td>\n",
       "      <td>-16.895638</td>\n",
       "      <td>-30.295387</td>\n",
       "      <td>-17.582785</td>\n",
       "      <td>-17.749216</td>\n",
       "      <td>33.120239</td>\n",
       "      <td>26.678955</td>\n",
       "      <td>26.106876</td>\n",
       "      <td>-22.557756</td>\n",
       "      <td>24.950085</td>\n",
       "      <td>14.519467</td>\n",
       "      <td>-25.694792</td>\n",
       "      <td>480183</td>\n",
       "    </tr>\n",
       "    <tr>\n",
       "      <th>365789</th>\n",
       "      <td>2.574538</td>\n",
       "      <td>-2.649232</td>\n",
       "      <td>-3.475748</td>\n",
       "      <td>-6.124371</td>\n",
       "      <td>-2.505008</td>\n",
       "      <td>-6.229865</td>\n",
       "      <td>-2.544632</td>\n",
       "      <td>-2.581118</td>\n",
       "      <td>7.184253</td>\n",
       "      <td>5.114911</td>\n",
       "      <td>4.789067</td>\n",
       "      <td>-3.762928</td>\n",
       "      <td>4.506684</td>\n",
       "      <td>1.753826</td>\n",
       "      <td>-4.827384</td>\n",
       "      <td>480185</td>\n",
       "    </tr>\n",
       "    <tr>\n",
       "      <th>365790</th>\n",
       "      <td>-1.763106</td>\n",
       "      <td>1.505459</td>\n",
       "      <td>1.002227</td>\n",
       "      <td>-1.698937</td>\n",
       "      <td>1.880246</td>\n",
       "      <td>-2.989121</td>\n",
       "      <td>1.925575</td>\n",
       "      <td>1.661560</td>\n",
       "      <td>3.955859</td>\n",
       "      <td>0.560680</td>\n",
       "      <td>0.351590</td>\n",
       "      <td>0.450464</td>\n",
       "      <td>0.783505</td>\n",
       "      <td>-2.410734</td>\n",
       "      <td>-0.570959</td>\n",
       "      <td>480187</td>\n",
       "    </tr>\n",
       "    <tr>\n",
       "      <th>365791</th>\n",
       "      <td>-1.787965</td>\n",
       "      <td>1.528776</td>\n",
       "      <td>1.027997</td>\n",
       "      <td>-1.675290</td>\n",
       "      <td>1.905097</td>\n",
       "      <td>-2.971877</td>\n",
       "      <td>1.951209</td>\n",
       "      <td>1.685654</td>\n",
       "      <td>3.939697</td>\n",
       "      <td>0.536568</td>\n",
       "      <td>0.327357</td>\n",
       "      <td>0.474052</td>\n",
       "      <td>0.763502</td>\n",
       "      <td>-2.435061</td>\n",
       "      <td>-0.547390</td>\n",
       "      <td>480188</td>\n",
       "    </tr>\n",
       "  </tbody>\n",
       "</table>\n",
       "<p>365792 rows × 16 columns</p>\n",
       "</div>"
      ],
      "text/plain": [
       "            emb_0      emb_1      emb_2      emb_3      emb_4      emb_5  \\\n",
       "0       -1.956926   1.684702   1.184815  -1.548965   2.081555  -2.922084   \n",
       "1       -1.846012   1.582472   1.082073  -1.630885   1.965744  -2.953809   \n",
       "2       -1.731368   1.474834   0.967733  -1.735268   1.848678  -3.018725   \n",
       "3       17.531099 -18.162672 -21.630281 -30.273090 -16.954407 -30.289715   \n",
       "4        4.182262  -4.312871  -5.388802  -8.592231  -4.067668  -8.673961   \n",
       "...           ...        ...        ...        ...        ...        ...   \n",
       "365787  -1.911965   1.642888   1.140737  -1.586509   2.035600  -2.943784   \n",
       "365788  17.479856 -18.107367 -21.579866 -30.257128 -16.895638 -30.295387   \n",
       "365789   2.574538  -2.649232  -3.475748  -6.124371  -2.505008  -6.229865   \n",
       "365790  -1.763106   1.505459   1.002227  -1.698937   1.880246  -2.989121   \n",
       "365791  -1.787965   1.528776   1.027997  -1.675290   1.905097  -2.971877   \n",
       "\n",
       "            emb_6      emb_7      emb_8      emb_9     emb_10     emb_11  \\\n",
       "0        2.127467   1.847809   3.896766   0.385026   0.186281   0.613285   \n",
       "1        2.011763   1.741428   3.923600   0.483600   0.278201   0.522276   \n",
       "2        1.892974   1.630361   3.985917   0.596253   0.386771   0.417589   \n",
       "3      -17.639231 -17.802946  33.115829  26.721695  26.146189 -22.602119   \n",
       "4       -4.168255  -4.215481   9.799827   7.348484   7.003366  -5.738051   \n",
       "...           ...        ...        ...        ...        ...        ...   \n",
       "365787   2.080832   1.804450   3.916358   0.426458   0.226578   0.573609   \n",
       "365788 -17.582785 -17.749216  33.120239  26.678955  26.106876 -22.557756   \n",
       "365789  -2.544632  -2.581118   7.184253   5.114911   4.789067  -3.762928   \n",
       "365790   1.925575   1.661560   3.955859   0.560680   0.351590   0.450464   \n",
       "365791   1.951209   1.685654   3.939697   0.536568   0.327357   0.474052   \n",
       "\n",
       "           emb_12     emb_13     emb_14  user_idx  \n",
       "0        0.661424  -2.604004  -0.416313         0  \n",
       "1        0.727750  -2.492884  -0.501757         1  \n",
       "2        0.813915  -2.380846  -0.605072         3  \n",
       "3       24.980513  14.578947 -25.722906         4  \n",
       "4        6.628592   3.158096  -6.989782         5  \n",
       "...           ...        ...        ...       ...  \n",
       "365787   0.692776  -2.559363  -0.454704    480182  \n",
       "365788  24.950085  14.519467 -25.694792    480183  \n",
       "365789   4.506684   1.753826  -4.827384    480185  \n",
       "365790   0.783505  -2.410734  -0.570959    480187  \n",
       "365791   0.763502  -2.435061  -0.547390    480188  \n",
       "\n",
       "[365792 rows x 16 columns]"
      ]
     },
     "execution_count": 33,
     "metadata": {},
     "output_type": "execute_result"
    }
   ],
   "source": [
    "enc_users_train = encoder.transform(users_df_train)\n",
    "enc_users_train = enc_users_train.withColumn('row_index', sf.row_number().over(Window.orderBy(sf.monotonically_increasing_id())))\n",
    "enc_users_train = enc_users_train\\\n",
    "    .join(\n",
    "        users_df_train.select('user_idx').withColumn('row_index', sf.row_number().over(Window.orderBy(sf.monotonically_increasing_id()))),\n",
    "        on=[\"row_index\"]\n",
    "    )\\\n",
    "    .drop(\"row_index\")\\\n",
    "    .cache()\n",
    "enc_users_train.toPandas()"
   ]
  },
  {
   "cell_type": "code",
   "execution_count": 34,
   "metadata": {},
   "outputs": [
    {
     "name": "stderr",
     "output_type": "stream",
     "text": [
      "22/11/06 15:02:46 WARN WindowExec: No Partition Defined for Window operation! Moving all data to a single partition, this can cause serious performance degradation.\n",
      "22/11/06 15:02:46 WARN WindowExec: No Partition Defined for Window operation! Moving all data to a single partition, this can cause serious performance degradation.\n",
      "                                                                                \r"
     ]
    },
    {
     "data": {
      "text/html": [
       "<div>\n",
       "<style scoped>\n",
       "    .dataframe tbody tr th:only-of-type {\n",
       "        vertical-align: middle;\n",
       "    }\n",
       "\n",
       "    .dataframe tbody tr th {\n",
       "        vertical-align: top;\n",
       "    }\n",
       "\n",
       "    .dataframe thead th {\n",
       "        text-align: right;\n",
       "    }\n",
       "</style>\n",
       "<table border=\"1\" class=\"dataframe\">\n",
       "  <thead>\n",
       "    <tr style=\"text-align: right;\">\n",
       "      <th></th>\n",
       "      <th>emb_0</th>\n",
       "      <th>emb_1</th>\n",
       "      <th>emb_2</th>\n",
       "      <th>emb_3</th>\n",
       "      <th>emb_4</th>\n",
       "      <th>emb_5</th>\n",
       "      <th>emb_6</th>\n",
       "      <th>emb_7</th>\n",
       "      <th>emb_8</th>\n",
       "      <th>emb_9</th>\n",
       "      <th>emb_10</th>\n",
       "      <th>emb_11</th>\n",
       "      <th>emb_12</th>\n",
       "      <th>emb_13</th>\n",
       "      <th>emb_14</th>\n",
       "      <th>user_idx</th>\n",
       "    </tr>\n",
       "  </thead>\n",
       "  <tbody>\n",
       "    <tr>\n",
       "      <th>0</th>\n",
       "      <td>-2.064180</td>\n",
       "      <td>1.780533</td>\n",
       "      <td>1.281421</td>\n",
       "      <td>-1.489087</td>\n",
       "      <td>2.194449</td>\n",
       "      <td>-2.898583</td>\n",
       "      <td>2.233557</td>\n",
       "      <td>1.952838</td>\n",
       "      <td>3.878884</td>\n",
       "      <td>0.295807</td>\n",
       "      <td>0.100750</td>\n",
       "      <td>0.700082</td>\n",
       "      <td>0.599361</td>\n",
       "      <td>-2.715408</td>\n",
       "      <td>-0.340636</td>\n",
       "      <td>0</td>\n",
       "    </tr>\n",
       "    <tr>\n",
       "      <th>1</th>\n",
       "      <td>-1.895904</td>\n",
       "      <td>1.628752</td>\n",
       "      <td>1.129527</td>\n",
       "      <td>-1.591231</td>\n",
       "      <td>2.017415</td>\n",
       "      <td>-2.934687</td>\n",
       "      <td>2.063679</td>\n",
       "      <td>1.789450</td>\n",
       "      <td>3.906411</td>\n",
       "      <td>0.437838</td>\n",
       "      <td>0.234907</td>\n",
       "      <td>0.564799</td>\n",
       "      <td>0.695287</td>\n",
       "      <td>-2.542500</td>\n",
       "      <td>-0.461124</td>\n",
       "      <td>1</td>\n",
       "    </tr>\n",
       "    <tr>\n",
       "      <th>2</th>\n",
       "      <td>-1.811803</td>\n",
       "      <td>1.549728</td>\n",
       "      <td>1.045099</td>\n",
       "      <td>-1.668602</td>\n",
       "      <td>1.931784</td>\n",
       "      <td>-2.984228</td>\n",
       "      <td>1.976602</td>\n",
       "      <td>1.707927</td>\n",
       "      <td>3.953916</td>\n",
       "      <td>0.520607</td>\n",
       "      <td>0.315121</td>\n",
       "      <td>0.487415</td>\n",
       "      <td>0.759423</td>\n",
       "      <td>-2.460349</td>\n",
       "      <td>-0.537679</td>\n",
       "      <td>3</td>\n",
       "    </tr>\n",
       "    <tr>\n",
       "      <th>3</th>\n",
       "      <td>7.692895</td>\n",
       "      <td>-7.953638</td>\n",
       "      <td>-9.644883</td>\n",
       "      <td>-14.253921</td>\n",
       "      <td>-7.457622</td>\n",
       "      <td>-14.319686</td>\n",
       "      <td>-7.710581</td>\n",
       "      <td>-7.786872</td>\n",
       "      <td>15.879600</td>\n",
       "      <td>12.409604</td>\n",
       "      <td>12.008735</td>\n",
       "      <td>-10.155107</td>\n",
       "      <td>11.429889</td>\n",
       "      <td>6.168846</td>\n",
       "      <td>-11.889561</td>\n",
       "      <td>4</td>\n",
       "    </tr>\n",
       "    <tr>\n",
       "      <th>4</th>\n",
       "      <td>4.182262</td>\n",
       "      <td>-4.312871</td>\n",
       "      <td>-5.388802</td>\n",
       "      <td>-8.592231</td>\n",
       "      <td>-4.067668</td>\n",
       "      <td>-8.673961</td>\n",
       "      <td>-4.168255</td>\n",
       "      <td>-4.215481</td>\n",
       "      <td>9.799827</td>\n",
       "      <td>7.348484</td>\n",
       "      <td>7.003366</td>\n",
       "      <td>-5.738051</td>\n",
       "      <td>6.628592</td>\n",
       "      <td>3.158096</td>\n",
       "      <td>-6.989782</td>\n",
       "      <td>5</td>\n",
       "    </tr>\n",
       "    <tr>\n",
       "      <th>...</th>\n",
       "      <td>...</td>\n",
       "      <td>...</td>\n",
       "      <td>...</td>\n",
       "      <td>...</td>\n",
       "      <td>...</td>\n",
       "      <td>...</td>\n",
       "      <td>...</td>\n",
       "      <td>...</td>\n",
       "      <td>...</td>\n",
       "      <td>...</td>\n",
       "      <td>...</td>\n",
       "      <td>...</td>\n",
       "      <td>...</td>\n",
       "      <td>...</td>\n",
       "      <td>...</td>\n",
       "      <td>...</td>\n",
       "    </tr>\n",
       "    <tr>\n",
       "      <th>460684</th>\n",
       "      <td>-0.264705</td>\n",
       "      <td>0.116588</td>\n",
       "      <td>-0.418483</td>\n",
       "      <td>-2.880950</td>\n",
       "      <td>0.326219</td>\n",
       "      <td>-3.543783</td>\n",
       "      <td>0.365639</td>\n",
       "      <td>0.219857</td>\n",
       "      <td>4.453116</td>\n",
       "      <td>1.932612</td>\n",
       "      <td>1.645876</td>\n",
       "      <td>-0.820989</td>\n",
       "      <td>1.748623</td>\n",
       "      <td>-0.919730</td>\n",
       "      <td>-1.783555</td>\n",
       "      <td>480184</td>\n",
       "    </tr>\n",
       "    <tr>\n",
       "      <th>460685</th>\n",
       "      <td>0.650286</td>\n",
       "      <td>-0.733797</td>\n",
       "      <td>-1.300737</td>\n",
       "      <td>-3.624244</td>\n",
       "      <td>-0.615209</td>\n",
       "      <td>-3.939543</td>\n",
       "      <td>-0.584740</td>\n",
       "      <td>-0.661801</td>\n",
       "      <td>4.808687</td>\n",
       "      <td>2.771451</td>\n",
       "      <td>2.451087</td>\n",
       "      <td>-1.613751</td>\n",
       "      <td>2.365086</td>\n",
       "      <td>-0.010049</td>\n",
       "      <td>-2.545277</td>\n",
       "      <td>480185</td>\n",
       "    </tr>\n",
       "    <tr>\n",
       "      <th>460686</th>\n",
       "      <td>1.908279</td>\n",
       "      <td>-1.958203</td>\n",
       "      <td>-2.665185</td>\n",
       "      <td>-5.050666</td>\n",
       "      <td>-1.859753</td>\n",
       "      <td>-5.164468</td>\n",
       "      <td>-1.871731</td>\n",
       "      <td>-1.902123</td>\n",
       "      <td>6.033377</td>\n",
       "      <td>4.149773</td>\n",
       "      <td>3.836388</td>\n",
       "      <td>-2.922755</td>\n",
       "      <td>3.595826</td>\n",
       "      <td>1.181625</td>\n",
       "      <td>-3.897443</td>\n",
       "      <td>480186</td>\n",
       "    </tr>\n",
       "    <tr>\n",
       "      <th>460687</th>\n",
       "      <td>-1.888581</td>\n",
       "      <td>1.622075</td>\n",
       "      <td>1.122652</td>\n",
       "      <td>-1.596752</td>\n",
       "      <td>2.009828</td>\n",
       "      <td>-2.936909</td>\n",
       "      <td>2.056037</td>\n",
       "      <td>1.782461</td>\n",
       "      <td>3.908261</td>\n",
       "      <td>0.444328</td>\n",
       "      <td>0.241016</td>\n",
       "      <td>0.558764</td>\n",
       "      <td>0.699647</td>\n",
       "      <td>-2.535182</td>\n",
       "      <td>-0.466861</td>\n",
       "      <td>480187</td>\n",
       "    </tr>\n",
       "    <tr>\n",
       "      <th>460688</th>\n",
       "      <td>-1.794347</td>\n",
       "      <td>1.534710</td>\n",
       "      <td>1.034078</td>\n",
       "      <td>-1.670174</td>\n",
       "      <td>1.911707</td>\n",
       "      <td>-2.969362</td>\n",
       "      <td>1.957849</td>\n",
       "      <td>1.691804</td>\n",
       "      <td>3.937415</td>\n",
       "      <td>0.530678</td>\n",
       "      <td>0.321785</td>\n",
       "      <td>0.479517</td>\n",
       "      <td>0.759301</td>\n",
       "      <td>-2.441401</td>\n",
       "      <td>-0.542161</td>\n",
       "      <td>480188</td>\n",
       "    </tr>\n",
       "  </tbody>\n",
       "</table>\n",
       "<p>460689 rows × 16 columns</p>\n",
       "</div>"
      ],
      "text/plain": [
       "           emb_0     emb_1     emb_2      emb_3     emb_4      emb_5  \\\n",
       "0      -2.064180  1.780533  1.281421  -1.489087  2.194449  -2.898583   \n",
       "1      -1.895904  1.628752  1.129527  -1.591231  2.017415  -2.934687   \n",
       "2      -1.811803  1.549728  1.045099  -1.668602  1.931784  -2.984228   \n",
       "3       7.692895 -7.953638 -9.644883 -14.253921 -7.457622 -14.319686   \n",
       "4       4.182262 -4.312871 -5.388802  -8.592231 -4.067668  -8.673961   \n",
       "...          ...       ...       ...        ...       ...        ...   \n",
       "460684 -0.264705  0.116588 -0.418483  -2.880950  0.326219  -3.543783   \n",
       "460685  0.650286 -0.733797 -1.300737  -3.624244 -0.615209  -3.939543   \n",
       "460686  1.908279 -1.958203 -2.665185  -5.050666 -1.859753  -5.164468   \n",
       "460687 -1.888581  1.622075  1.122652  -1.596752  2.009828  -2.936909   \n",
       "460688 -1.794347  1.534710  1.034078  -1.670174  1.911707  -2.969362   \n",
       "\n",
       "           emb_6     emb_7      emb_8      emb_9     emb_10     emb_11  \\\n",
       "0       2.233557  1.952838   3.878884   0.295807   0.100750   0.700082   \n",
       "1       2.063679  1.789450   3.906411   0.437838   0.234907   0.564799   \n",
       "2       1.976602  1.707927   3.953916   0.520607   0.315121   0.487415   \n",
       "3      -7.710581 -7.786872  15.879600  12.409604  12.008735 -10.155107   \n",
       "4      -4.168255 -4.215481   9.799827   7.348484   7.003366  -5.738051   \n",
       "...          ...       ...        ...        ...        ...        ...   \n",
       "460684  0.365639  0.219857   4.453116   1.932612   1.645876  -0.820989   \n",
       "460685 -0.584740 -0.661801   4.808687   2.771451   2.451087  -1.613751   \n",
       "460686 -1.871731 -1.902123   6.033377   4.149773   3.836388  -2.922755   \n",
       "460687  2.056037  1.782461   3.908261   0.444328   0.241016   0.558764   \n",
       "460688  1.957849  1.691804   3.937415   0.530678   0.321785   0.479517   \n",
       "\n",
       "           emb_12    emb_13     emb_14  user_idx  \n",
       "0        0.599361 -2.715408  -0.340636         0  \n",
       "1        0.695287 -2.542500  -0.461124         1  \n",
       "2        0.759423 -2.460349  -0.537679         3  \n",
       "3       11.429889  6.168846 -11.889561         4  \n",
       "4        6.628592  3.158096  -6.989782         5  \n",
       "...           ...       ...        ...       ...  \n",
       "460684   1.748623 -0.919730  -1.783555    480184  \n",
       "460685   2.365086 -0.010049  -2.545277    480185  \n",
       "460686   3.595826  1.181625  -3.897443    480186  \n",
       "460687   0.699647 -2.535182  -0.466861    480187  \n",
       "460688   0.759301 -2.441401  -0.542161    480188  \n",
       "\n",
       "[460689 rows x 16 columns]"
      ]
     },
     "execution_count": 34,
     "metadata": {},
     "output_type": "execute_result"
    }
   ],
   "source": [
    "enc_users_val = encoder.transform(users_df_val)\n",
    "enc_users_val = enc_users_val.withColumn('row_index', sf.row_number().over(Window.orderBy(sf.monotonically_increasing_id())))\n",
    "enc_users_val = enc_users_val\\\n",
    "    .join(\n",
    "        users_df_val.select('user_idx').withColumn('row_index', sf.row_number().over(Window.orderBy(sf.monotonically_increasing_id()))),\n",
    "        on=[\"row_index\"]\n",
    "    )\\\n",
    "    .drop(\"row_index\")\\\n",
    "    .cache()\n",
    "enc_users_val.toPandas()"
   ]
  },
  {
   "cell_type": "markdown",
   "metadata": {},
   "source": [
    "# Generators quality with AutoEncoder"
   ]
  },
  {
   "cell_type": "code",
   "execution_count": 10,
   "metadata": {},
   "outputs": [],
   "source": [
    "gen_result_enc = pd.DataFrame()"
   ]
  },
  {
   "cell_type": "markdown",
   "metadata": {},
   "source": [
    "# GaussianCopula"
   ]
  },
  {
   "cell_type": "code",
   "execution_count": 11,
   "metadata": {},
   "outputs": [
    {
     "name": "stdout",
     "output_type": "stream",
     "text": [
      "Fitting of gaussiancopula on AutoEncoder embeddings: 1.633981466293335\n",
      "{'LogisticDetection': 0.32033675558402386, 'SVCDetection': 0.11243233462054791, 'KSTest': 0.6140525425933152, 'ContinuousKLDivergence': 0.7011301850274119}\n"
     ]
    }
   ],
   "source": [
    "gen_result_enc = pd.concat([\n",
    "    gen_result_enc,\n",
    "    test_generator(\n",
    "        train_data=enc_users_train,\n",
    "        generator_name='gaussiancopula',\n",
    "        fancy_generator_name='GaussianCopula',\n",
    "        embeddings_name='AutoEncoder'\n",
    "    )\n",
    "])"
   ]
  },
  {
   "cell_type": "markdown",
   "metadata": {},
   "source": [
    "# CTGAN"
   ]
  },
  {
   "cell_type": "code",
   "execution_count": 64,
   "metadata": {},
   "outputs": [
    {
     "name": "stdout",
     "output_type": "stream",
     "text": [
      "Fitting of ctgan on AutoEncoder embeddings: 7723.024939060211\n"
     ]
    },
    {
     "name": "stderr",
     "output_type": "stream",
     "text": [
      "                                                                                \r"
     ]
    },
    {
     "name": "stdout",
     "output_type": "stream",
     "text": [
      "{'LogisticDetection': 0.28799491291565715, 'SVCDetection': 0.06281986340011836, 'KSTest': 0.9081204977079239, 'ContinuousKLDivergence': 0.3252390851810245}\n"
     ]
    }
   ],
   "source": [
    "gen_result_enc = pd.concat([\n",
    "    gen_result_enc,\n",
    "    test_generator(\n",
    "        train_data=enc_users_train,\n",
    "        generator_name='ctgan',\n",
    "        fancy_generator_name='CTGAN',\n",
    "        embeddings_name='AutoEncoder'\n",
    "    )\n",
    "])"
   ]
  },
  {
   "cell_type": "markdown",
   "metadata": {},
   "source": [
    "# CopulaGAN"
   ]
  },
  {
   "cell_type": "code",
   "execution_count": 65,
   "metadata": {},
   "outputs": [
    {
     "name": "stdout",
     "output_type": "stream",
     "text": [
      "Fitting of copulagan on AutoEncoder embeddings: 7589.907639980316\n"
     ]
    },
    {
     "name": "stderr",
     "output_type": "stream",
     "text": [
      "                                                                                \r"
     ]
    },
    {
     "name": "stdout",
     "output_type": "stream",
     "text": [
      "{'LogisticDetection': 0.31646429397762466, 'SVCDetection': 0.061077520568323274, 'KSTest': 0.9046558900396865, 'ContinuousKLDivergence': 0.2762998173736959}\n"
     ]
    }
   ],
   "source": [
    "gen_result_enc = pd.concat([\n",
    "    gen_result_enc,\n",
    "    test_generator(\n",
    "        train_data=enc_users_train,\n",
    "        generator_name='copulagan',\n",
    "        fancy_generator_name='CopulaGAN',\n",
    "        embeddings_name='AutoEncoder'\n",
    "    )\n",
    "])"
   ]
  },
  {
   "cell_type": "markdown",
   "metadata": {},
   "source": [
    "# TVAE"
   ]
  },
  {
   "cell_type": "code",
   "execution_count": 66,
   "metadata": {},
   "outputs": [
    {
     "name": "stdout",
     "output_type": "stream",
     "text": [
      "Fitting of tvae on AutoEncoder embeddings: 3268.049218416214\n"
     ]
    },
    {
     "name": "stderr",
     "output_type": "stream",
     "text": [
      "                                                                                \r"
     ]
    },
    {
     "name": "stdout",
     "output_type": "stream",
     "text": [
      "{'LogisticDetection': 0.6960025705281643, 'SVCDetection': 0.24651949276056173, 'KSTest': 0.9426518312471024, 'ContinuousKLDivergence': 0.38489403343684025}\n"
     ]
    }
   ],
   "source": [
    "gen_result_enc = pd.concat([\n",
    "    gen_result_enc,\n",
    "    test_generator(\n",
    "        train_data=enc_users_train,\n",
    "        generator_name='tvae',\n",
    "        fancy_generator_name='TVAE',\n",
    "        embeddings_name='AutoEncoder'\n",
    "    )\n",
    "])"
   ]
  },
  {
   "cell_type": "code",
   "execution_count": 67,
   "metadata": {},
   "outputs": [
    {
     "data": {
      "image/png": "[encoded data removed]",
      "text/plain": [
       "<Figure size 1600x800 with 1 Axes>"
      ]
     },
     "metadata": {},
     "output_type": "display_data"
    }
   ],
   "source": [
    "rcParams['figure.figsize'] = (3, 3)\n",
    "matplotlib.rc('xtick', labelsize=15) \n",
    "matplotlib.rc('ytick', labelsize=15)\n",
    "sns.set(font_scale=1.8) \n",
    "plot = sns.catplot(data=gen_result_enc, x=\"Metric_name\", y=\"Metric_score\", hue=\"Model_name\", kind=\"bar\", aspect=2, height=8, palette=[\n",
    "    \"C1\", \"C2\", \"C0\", \"C3\", \"C4\"\n",
    "], legend=False)\n",
    "ax = plot.facet_axis(0,0)\n",
    "hist_val = create_hist_values(gen_result_enc)\n",
    "for (p, val) in zip(ax.patches, hist_val):\n",
    "    ax.text(p.get_x() - 0.01, \n",
    "            p.get_height() * 1.02, \n",
    "           '{:1.2f}'.format(val),   \n",
    "            color='black', \n",
    "            rotation='horizontal', \n",
    "            size='medium')\n",
    "plt.legend(loc='upper center', bbox_to_anchor=(0.5, -0.1), fancybox=True, ncol=5)\n",
    "plt.tight_layout()"
   ]
  },
  {
   "cell_type": "markdown",
   "metadata": {},
   "source": [
    "# Response function Real component quality"
   ]
  },
  {
   "cell_type": "code",
   "execution_count": 35,
   "metadata": {},
   "outputs": [],
   "source": [
    "va = VectorAssembler(\n",
    "    inputCols=enc_users_train.columns[:-1] + ITEMS_FEATURES,\n",
    "    outputCol='features'\n",
    ")\n",
    "\n",
    "train_df = log_df_val\\\n",
    "    .join(enc_users_train, 'user_idx', 'left')\\\n",
    "    .join(items_df_train, 'item_idx', 'left')\\\n",
    "    .drop('timestamp')\\\n",
    "    .na.drop()\\\n",
    "    .cache()\n",
    "\n",
    "test_df = log_df_test\\\n",
    "    .join(enc_users_val, 'user_idx', 'left')\\\n",
    "    .join(items_df_val, 'item_idx', 'left')\\\n",
    "    .drop('timestamp')\\\n",
    "    .na.drop()\\\n",
    "    .cache()"
   ]
  },
  {
   "cell_type": "code",
   "execution_count": 36,
   "metadata": {},
   "outputs": [],
   "source": [
    "enc_feature_metrics = []"
   ]
  },
  {
   "cell_type": "markdown",
   "metadata": {},
   "source": [
    "# Logistic Regression"
   ]
  },
  {
   "cell_type": "code",
   "execution_count": 37,
   "metadata": {},
   "outputs": [
    {
     "name": "stderr",
     "output_type": "stream",
     "text": [
      "                                                                                \r"
     ]
    },
    {
     "name": "stdout",
     "output_type": "stream",
     "text": [
      "Fitting of pipeline with LogisticRegression: 195.40476250648499\n"
     ]
    },
    {
     "name": "stderr",
     "output_type": "stream",
     "text": [
      "                                                                                \r"
     ]
    },
    {
     "name": "stdout",
     "output_type": "stream",
     "text": [
      "Regression ROC AUC: 0.671904108082391\n"
     ]
    }
   ],
   "source": [
    "enc_feature_metrics.append(\n",
    "    test_model(\n",
    "        model_class=LogisticRegression,\n",
    "        train_data=train_df,\n",
    "        test_data=test_df,\n",
    "        assembler=va,\n",
    "        extractor=vee,\n",
    "        bernoulli=br\n",
    "    )\n",
    ")"
   ]
  },
  {
   "cell_type": "markdown",
   "metadata": {},
   "source": [
    "# Random forest"
   ]
  },
  {
   "cell_type": "code",
   "execution_count": 38,
   "metadata": {},
   "outputs": [
    {
     "name": "stderr",
     "output_type": "stream",
     "text": [
      "                                                                                \r"
     ]
    },
    {
     "name": "stdout",
     "output_type": "stream",
     "text": [
      "Fitting of pipeline with RandomForestClassifier: 90.69589591026306\n"
     ]
    },
    {
     "name": "stderr",
     "output_type": "stream",
     "text": [
      "                                                                                \r"
     ]
    },
    {
     "name": "stdout",
     "output_type": "stream",
     "text": [
      "Regression ROC AUC: 0.6056441562548962\n"
     ]
    }
   ],
   "source": [
    "enc_feature_metrics.append(\n",
    "    test_model(\n",
    "        model_class=RandomForestClassifier,\n",
    "        train_data=train_df,\n",
    "        test_data=test_df,\n",
    "        assembler=va,\n",
    "        extractor=vee,\n",
    "        bernoulli=br\n",
    "    )\n",
    ")"
   ]
  },
  {
   "cell_type": "code",
   "execution_count": 40,
   "metadata": {},
   "outputs": [
    {
     "data": {
      "text/html": [
       "<div>\n",
       "<style scoped>\n",
       "    .dataframe tbody tr th:only-of-type {\n",
       "        vertical-align: middle;\n",
       "    }\n",
       "\n",
       "    .dataframe tbody tr th {\n",
       "        vertical-align: top;\n",
       "    }\n",
       "\n",
       "    .dataframe thead th {\n",
       "        text-align: right;\n",
       "    }\n",
       "</style>\n",
       "<table border=\"1\" class=\"dataframe\">\n",
       "  <thead>\n",
       "    <tr style=\"text-align: right;\">\n",
       "      <th></th>\n",
       "      <th>Model</th>\n",
       "      <th>ROC-AUC</th>\n",
       "    </tr>\n",
       "  </thead>\n",
       "  <tbody>\n",
       "    <tr>\n",
       "      <th>0</th>\n",
       "      <td>LogisticRegression</td>\n",
       "      <td>0.671904</td>\n",
       "    </tr>\n",
       "    <tr>\n",
       "      <th>1</th>\n",
       "      <td>RandomForestClassifier</td>\n",
       "      <td>0.605644</td>\n",
       "    </tr>\n",
       "  </tbody>\n",
       "</table>\n",
       "</div>"
      ],
      "text/plain": [
       "                    Model   ROC-AUC\n",
       "0      LogisticRegression  0.671904\n",
       "1  RandomForestClassifier  0.605644"
      ]
     },
     "execution_count": 40,
     "metadata": {},
     "output_type": "execute_result"
    }
   ],
   "source": [
    "train_df.unpersist()\n",
    "test_df.unpersist()\n",
    "\n",
    "enc_users_train.unpersist()\n",
    "enc_users_val.unpersist()\n",
    "\n",
    "pd.DataFrame(enc_feature_metrics)"
   ]
  },
  {
   "cell_type": "markdown",
   "metadata": {},
   "source": [
    "Качество моделей генерации синтетики в случае эмбеддингов на основе автоэнкодера хуже чем в случае PCA. Качество компоненты Real на эмбеддингах сопоставимо с качеством компоненты Real на исходных профилях для всех моделей отклика.\n",
    "\n",
    "По результатам экспериментального исследования было принято решение об использовании метода главных компонент для датасета Netflix (в сочетании с моделью генерации TVAE)."
   ]
  },
  {
   "cell_type": "code",
   "execution_count": null,
   "metadata": {},
   "outputs": [],
   "source": []
  }
 ],
 "metadata": {
  "kernelspec": {
   "display_name": "Python [conda env:.conda-sim-exp]",
   "language": "python",
   "name": "conda-env-.conda-sim-exp-py"
  },
  "language_info": {
   "codemirror_mode": {
    "name": "ipython",
    "version": 3
   },
   "file_extension": ".py",
   "mimetype": "text/x-python",
   "name": "python",
   "nbconvert_exporter": "python",
   "pygments_lexer": "ipython3",
   "version": "3.8.13"
  },
  "vscode": {
   "interpreter": {
    "hash": "0c23ac1ac3d03469769ffca4283c7852312778d94b2cbd9b1a60eeafc1c4055f"
   }
  }
 },
 "nbformat": 4,
 "nbformat_minor": 4
}
