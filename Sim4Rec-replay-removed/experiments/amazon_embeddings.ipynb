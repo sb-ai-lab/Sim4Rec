{
 "cells": [
  {
   "cell_type": "markdown",
   "metadata": {},
   "source": [
    "В этом ноутбуке были протестированы три метода генерации эмбеддингов (PCA, non-negative ALS, autoencoder) для генерации профилей пользователей из датасета Amazon меньшей размерности. Напомним, что исходная размерность профиля равно 303. Кроме того, применимость методов генерации эмбеддингов была исследована с точки зрения качества моделей генерации синтетических данных и с точки зрения качества компоненты функции отклика, отвечающей за приближение отклика из исторических данных."
   ]
  },
  {
   "cell_type": "code",
   "execution_count": 1,
   "metadata": {},
   "outputs": [
    {
     "name": "stderr",
     "output_type": "stream",
     "text": [
      "/data/home/estavinova/.conda/envs/sim-exp/lib/python3.8/site-packages/tqdm/auto.py:22: TqdmWarning: IProgress not found. Please update jupyter and ipywidgets. See https://ipywidgets.readthedocs.io/en/stable/user_install.html\n",
      "  from .autonotebook import tqdm as notebook_tqdm\n",
      "22/11/17 13:51:31 WARN NativeCodeLoader: Unable to load native-hadoop library for your platform... using builtin-java classes where applicable\n",
      "Using Spark's default log4j profile: org/apache/spark/log4j-defaults.properties\n",
      "Setting default log level to \"WARN\".\n",
      "To adjust logging level use sc.setLogLevel(newLevel). For SparkR, use setLogLevel(newLevel).\n",
      "22/11/17 13:51:32 WARN SparkConf: Note that spark.local.dir will be overridden by the value set by the cluster manager (via SPARK_LOCAL_DIRS in mesos/standalone/kubernetes and LOCAL_DIRS in YARN).\n",
      "22/11/17 13:51:33 WARN Utils: Service 'SparkUI' could not bind on port 4040. Attempting port 4041.\n",
      "22/11/17 13:51:33 WARN Utils: Service 'SparkUI' could not bind on port 4041. Attempting port 4042.\n",
      "22/11/17 13:51:33 WARN Utils: Service 'SparkUI' could not bind on port 4042. Attempting port 4043.\n",
      "22/11/17 13:51:33 WARN Utils: Service 'SparkUI' could not bind on port 4043. Attempting port 4044.\n"
     ]
    },
    {
     "data": {
      "text/plain": [
       "<replay.session_handler.State at 0x7f694583dd90>"
      ]
     },
     "execution_count": 1,
     "metadata": {},
     "output_type": "execute_result"
    }
   ],
   "source": [
    "import os\n",
    "\n",
    "import pandas as pd\n",
    "import numpy as np\n",
    "import time\n",
    "import matplotlib\n",
    "import itertools\n",
    "\n",
    "from pyspark import SparkConf\n",
    "from pyspark.sql import SparkSession\n",
    "import pyspark.sql.functions as sf\n",
    "import pyspark.sql.types as st\n",
    "from pyspark.sql.functions import col\n",
    "from pyspark.ml.classification import LogisticRegression, RandomForestClassifier\n",
    "from pyspark.ml.feature import VectorAssembler, PCA\n",
    "from pyspark.ml.functions import vector_to_array\n",
    "from pyspark.ml import Pipeline \n",
    "from pyspark.ml.recommendation import ALS\n",
    "from pyspark.sql.functions import monotonically_increasing_id, row_number\n",
    "from pyspark.sql.window import Window\n",
    "\n",
    "from replay.session_handler import State\n",
    "\n",
    "from sim4rec.utils import pandas_to_spark\n",
    "from sim4rec.response import ParametricResponseFunction, BernoulliResponse\n",
    "from sim4rec.utils import VectorElementExtractor\n",
    "from sim4rec.modules import RealDataGenerator, SDVDataGenerator\n",
    "from sim4rec.modules import evaluate_synthetic\n",
    "from sim4rec.modules import EncoderEstimator\n",
    "\n",
    "from sklearn.metrics import roc_auc_score, precision_score, recall_score\n",
    "\n",
    "%matplotlib inline\n",
    "import matplotlib.pyplot as plt\n",
    "from matplotlib import rcParams\n",
    "import seaborn as sns\n",
    "\n",
    "import warnings\n",
    "warnings.filterwarnings(\"ignore\")\n",
    "\n",
    "SPARK_LOCAL_DIR = './tmp'\n",
    "\n",
    "spark = SparkSession.builder\\\n",
    "    .appName('simulator_movielens')\\\n",
    "    .master('local[8]')\\\n",
    "    .config('spark.sql.shuffle.partitions', '8')\\\n",
    "    .config('spark.default.parallelism', '8')\\\n",
    "    .config('spark.driver.extraJavaOptions', '-XX:+UseG1GC')\\\n",
    "    .config('spark.executor.extraJavaOptions', '-XX:+UseG1GC')\\\n",
    "    .config('spark.sql.autoBroadcastJoinThreshold', '-1')\\\n",
    "    .config('spark.driver.memory', '128g')\\\n",
    "    .config('spark.local.dir', SPARK_LOCAL_DIR)\\\n",
    "    .getOrCreate()\n",
    "\n",
    "State(spark)"
   ]
  },
  {
   "cell_type": "markdown",
   "metadata": {},
   "source": [
    "# Read data"
   ]
  },
  {
   "cell_type": "markdown",
   "metadata": {},
   "source": [
    "Работаем с предобработанными данными, которые разделены на три части по времени выставления рейтинга. Оценки 1 и 2 считаем отрицательными (0); 3, 4 и 5 -- положительными (1).\n",
    "\n",
    "Данные были предварительно предобработаны (код в папке Amazon): составлены профили польззователей и предложений по истории откликов, а также данные разделены по времени выставления оценок на обучающую, валидационную и тестовую выборки."
   ]
  },
  {
   "cell_type": "code",
   "execution_count": 2,
   "metadata": {},
   "outputs": [],
   "source": [
    "DATA_PATH = r'file:///mnt/dgxhome/home/estavinova/simulator/Amazon/home'"
   ]
  },
  {
   "cell_type": "code",
   "execution_count": 3,
   "metadata": {},
   "outputs": [
    {
     "name": "stderr",
     "output_type": "stream",
     "text": [
      "22/11/17 13:52:58 WARN package: Truncated the string representation of a plan since it was too large. This behavior can be adjusted by setting 'spark.sql.debug.maxToStringFields'.\n",
      "                                                                                \r"
     ]
    },
    {
     "data": {
      "text/plain": [
       "9998142"
      ]
     },
     "execution_count": 3,
     "metadata": {},
     "output_type": "execute_result"
    }
   ],
   "source": [
    "USER_PREFIX = 'user_'\n",
    "ITEM_PREFIX = 'item_'\n",
    "\n",
    "USER_GENERATOR_FRAC = 0.0033 # 10k users\n",
    "\n",
    "users_df_train = spark.read.parquet(f'{DATA_PATH}/train/users.parquet')\n",
    "items_df_train = spark.read.parquet(f'{DATA_PATH}/train/items.parquet')\n",
    "log_df_train   = spark.read.parquet(f'{DATA_PATH}/train/rating.parquet')\n",
    "\n",
    "log_df_train = log_df_train.join(users_df_train, log_df_train['user_idx'] == users_df_train['user_idx'], 'leftsemi')\n",
    "log_df_train = log_df_train.join(items_df_train, log_df_train['item_idx'] == items_df_train['item_idx'], 'leftsemi')\n",
    "\n",
    "for c in users_df_train.columns[1:]:\n",
    "    users_df_train = users_df_train.withColumnRenamed(c, 'user_' + c)\n",
    "    \n",
    "for c in items_df_train.columns[1:]:\n",
    "    items_df_train = items_df_train.withColumnRenamed(c, 'item_' + c)\n",
    "    \n",
    "ITEMS_FEATURES = items_df_train.columns[1:3] + items_df_train.columns[4:]\n",
    "\n",
    "log_df_train = log_df_train.withColumn(\n",
    "    'relevance', sf.when(sf.col('relevance') >= 3, 1).otherwise(0))\n",
    "\n",
    "users_df_train = users_df_train.cache()\n",
    "items_df_train = items_df_train.cache()\n",
    "log_df_train = log_df_train.sample(0.6818).cache()\n",
    "\n",
    "users_df_train.count()\n",
    "items_df_train.count()\n",
    "log_df_train.count()"
   ]
  },
  {
   "cell_type": "code",
   "execution_count": 4,
   "metadata": {},
   "outputs": [
    {
     "name": "stderr",
     "output_type": "stream",
     "text": [
      "                                                                                \r"
     ]
    },
    {
     "data": {
      "text/plain": [
       "5000169"
      ]
     },
     "execution_count": 4,
     "metadata": {},
     "output_type": "execute_result"
    }
   ],
   "source": [
    "users_df_val = spark.read.parquet(f'{DATA_PATH}/val/users.parquet')\n",
    "items_df_val = spark.read.parquet(f'{DATA_PATH}/val/items.parquet')\n",
    "log_df_val   = spark.read.parquet(f'{DATA_PATH}/val/rating.parquet')\n",
    "\n",
    "log_df_val = log_df_val.join(users_df_val, log_df_val['user_idx'] == users_df_val['user_idx'], 'leftsemi')\n",
    "log_df_val = log_df_val.join(items_df_val, log_df_val['item_idx'] == items_df_val['item_idx'], 'leftsemi')\n",
    "\n",
    "for c in users_df_val.columns[1:]:\n",
    "    users_df_val = users_df_val.withColumnRenamed(c, 'user_' + c)\n",
    "    \n",
    "for c in items_df_val.columns[1:]:\n",
    "    items_df_val = items_df_val.withColumnRenamed(c, 'item_' + c)\n",
    "\n",
    "log_df_val = log_df_val.withColumn(\n",
    "    'relevance', sf.when(sf.col('relevance') >= 3, 1).otherwise(0))\n",
    "\n",
    "users_df_val = users_df_val.cache()\n",
    "items_df_val = items_df_val.cache()\n",
    "log_df_val = log_df_val.sample(0.6778).cache()\n",
    "\n",
    "users_df_val.count()\n",
    "items_df_val.count()\n",
    "log_df_val.count()"
   ]
  },
  {
   "cell_type": "code",
   "execution_count": 5,
   "metadata": {},
   "outputs": [
    {
     "name": "stderr",
     "output_type": "stream",
     "text": [
      "                                                                                \r"
     ]
    },
    {
     "data": {
      "text/plain": [
       "5000212"
      ]
     },
     "execution_count": 5,
     "metadata": {},
     "output_type": "execute_result"
    }
   ],
   "source": [
    "users_df_test = spark.read.parquet(f'{DATA_PATH}/test/users.parquet')\n",
    "items_df_test = spark.read.parquet(f'{DATA_PATH}/test/items.parquet')\n",
    "log_df_test   = spark.read.parquet(f'{DATA_PATH}/test/rating.parquet')\n",
    "\n",
    "log_df_test = log_df_test.join(users_df_test, log_df_test['user_idx'] == users_df_test['user_idx'], 'leftsemi')\n",
    "log_df_test = log_df_test.join(items_df_test, log_df_test['item_idx'] == items_df_test['item_idx'], 'leftsemi')\n",
    "\n",
    "for c in users_df_test.columns[1:]:\n",
    "    users_df_test = users_df_test.withColumnRenamed(c, 'user_' + c)\n",
    "    \n",
    "for c in items_df_test.columns[1:]:\n",
    "    items_df_test = items_df_test.withColumnRenamed(c, 'item_' + c)\n",
    "\n",
    "log_df_test = log_df_test.withColumn(\n",
    "    'relevance', sf.when(sf.col('relevance') >= 3, 1).otherwise(0))\n",
    "\n",
    "items_df_test = items_df_test.na.drop()\n",
    "\n",
    "users_df_test = users_df_test.cache()\n",
    "items_df_test = items_df_test.cache()\n",
    "log_df_test = log_df_test.sample(0.6758).cache()\n",
    "\n",
    "users_df_test.count()\n",
    "items_df_test.count()\n",
    "log_df_test.count()"
   ]
  },
  {
   "cell_type": "markdown",
   "metadata": {},
   "source": [
    "# Initial quality of response function Real component"
   ]
  },
  {
   "cell_type": "markdown",
   "metadata": {},
   "source": [
    "Сначала оценим качество компоненты Real, отвечающей за приближение отклика в исторических данных, на исходных профилях польззователей и предложений.\n",
    "\n",
    "Напомним, что профили пользователей и предложений, относящиеся к периоду train (users_df_train и items_df_train соответственно) построены по истории взаимодействий из log_df_train. Поэтому для обучения модели отклика используются профили пользователей users_df_train и предложений items_df_train, а также лог log_df_val. Для оценки качества модели отклика используются профили users_df_val и items_df_val, построенные по объединенному логу log_df_train и log_df_val, а также лог log_df_test."
   ]
  },
  {
   "cell_type": "markdown",
   "metadata": {},
   "source": [
    "# Logistic regression"
   ]
  },
  {
   "cell_type": "code",
   "execution_count": 6,
   "metadata": {},
   "outputs": [
    {
     "name": "stderr",
     "output_type": "stream",
     "text": [
      "22/11/07 01:03:14 WARN BLAS: Failed to load implementation from: com.github.fommil.netlib.NativeSystemBLAS\n",
      "22/11/07 01:03:14 WARN BLAS: Failed to load implementation from: com.github.fommil.netlib.NativeRefBLAS\n",
      "                                                                                \r"
     ]
    },
    {
     "name": "stdout",
     "output_type": "stream",
     "text": [
      "Fitting of logistic regression: \n",
      "358.73981070518494\n"
     ]
    }
   ],
   "source": [
    "va = VectorAssembler(\n",
    "    inputCols=users_df_train.columns[1:3] + users_df_train.columns[4:] + ITEMS_FEATURES,\n",
    "    outputCol='features'\n",
    ")\n",
    "\n",
    "lr = LogisticRegression(\n",
    "    featuresCol='features',\n",
    "    labelCol='relevance',\n",
    "    probabilityCol='__lr_prob'\n",
    ")\n",
    "\n",
    "train_df = log_df_val.join(users_df_train, 'user_idx', 'left')\\\n",
    "                     .join(items_df_train, 'item_idx', 'left')\\\n",
    "                     .drop('timestamp')\n",
    "train_df = train_df.na.drop()\n",
    "\n",
    "start = time.time()\n",
    "lr_model = lr.fit(va.transform(train_df))\n",
    "end = time.time()\n",
    "print(\"Fitting of logistic regression: \")\n",
    "print(end - start)"
   ]
  },
  {
   "cell_type": "code",
   "execution_count": 7,
   "metadata": {},
   "outputs": [],
   "source": [
    "vee = VectorElementExtractor(inputCol='__lr_prob', outputCol='__r1', index=1)\n",
    "br = BernoulliResponse (inputCol='__r1', outputCol='response', seed=1234)\n",
    "pipeline = Pipeline(\n",
    "    stages=[\n",
    "        va,\n",
    "        lr_model,\n",
    "        vee,\n",
    "        br\n",
    "    ]\n",
    ")"
   ]
  },
  {
   "cell_type": "code",
   "execution_count": 8,
   "metadata": {},
   "outputs": [],
   "source": [
    "test_df = log_df_test.join(users_df_val, 'user_idx', 'left')\\\n",
    "                     .join(items_df_val, 'item_idx', 'left')\\\n",
    "                     .drop('timestamp')\n",
    "test_df = test_df.na.drop()"
   ]
  },
  {
   "cell_type": "code",
   "execution_count": 9,
   "metadata": {},
   "outputs": [
    {
     "name": "stdout",
     "output_type": "stream",
     "text": [
      "Pipeline fitting: \n",
      "0.00354766845703125\n"
     ]
    },
    {
     "name": "stderr",
     "output_type": "stream",
     "text": [
      "                                                                                \r"
     ]
    }
   ],
   "source": [
    "start = time.time()\n",
    "ber_lr_model = pipeline.fit(train_df)\n",
    "end = time.time()\n",
    "print(\"Pipeline fitting: \")\n",
    "print(end - start)\n",
    "pred_df = ber_lr_model.transform(test_df).select(\"user_idx\", \"item_idx\", \"relevance\", \"__r1\").toPandas()"
   ]
  },
  {
   "cell_type": "code",
   "execution_count": 10,
   "metadata": {},
   "outputs": [
    {
     "name": "stdout",
     "output_type": "stream",
     "text": [
      "Regression ROC AUC: 0.7094342331809629\n"
     ]
    }
   ],
   "source": [
    "print(f\"Regression ROC AUC: {roc_auc_score(pred_df.relevance, pred_df.__r1)}\")"
   ]
  },
  {
   "cell_type": "markdown",
   "metadata": {},
   "source": [
    "# Random forest"
   ]
  },
  {
   "cell_type": "code",
   "execution_count": 11,
   "metadata": {},
   "outputs": [
    {
     "name": "stderr",
     "output_type": "stream",
     "text": [
      "                                                                                \r"
     ]
    },
    {
     "name": "stdout",
     "output_type": "stream",
     "text": [
      "Fitting of random forest: \n",
      "549.5236835479736\n"
     ]
    }
   ],
   "source": [
    "rf = RandomForestClassifier(\n",
    "    featuresCol='features',\n",
    "    labelCol='relevance',\n",
    "    probabilityCol='__rf_prob'\n",
    ")\n",
    "\n",
    "start = time.time()\n",
    "rf_model = rf.fit(va.transform(train_df))\n",
    "end = time.time()\n",
    "print(\"Fitting of random forest: \")\n",
    "print(end - start)"
   ]
  },
  {
   "cell_type": "code",
   "execution_count": 12,
   "metadata": {},
   "outputs": [],
   "source": [
    "vee = VectorElementExtractor(inputCol='__rf_prob', outputCol='__r1', index=1)\n",
    "br = BernoulliResponse(inputCol='__r1', outputCol='response', seed=1234)\n",
    "pipeline = Pipeline(\n",
    "    stages=[\n",
    "        va,\n",
    "        rf_model,\n",
    "        vee,\n",
    "        br\n",
    "    ]\n",
    ")"
   ]
  },
  {
   "cell_type": "code",
   "execution_count": 13,
   "metadata": {},
   "outputs": [
    {
     "name": "stdout",
     "output_type": "stream",
     "text": [
      "Pipeline fitting: \n",
      "0.0005574226379394531\n"
     ]
    },
    {
     "name": "stderr",
     "output_type": "stream",
     "text": [
      "                                                                                \r"
     ]
    }
   ],
   "source": [
    "start = time.time()\n",
    "ber_rf_model = pipeline.fit(train_df)\n",
    "end = time.time()\n",
    "print(\"Pipeline fitting: \")\n",
    "print(end - start)\n",
    "pred_df = ber_rf_model.transform(test_df).select(\"user_idx\", \"item_idx\", \"relevance\", \"__r1\").toPandas()"
   ]
  },
  {
   "cell_type": "code",
   "execution_count": 14,
   "metadata": {},
   "outputs": [
    {
     "name": "stdout",
     "output_type": "stream",
     "text": [
      "Random forest ROC AUC: 0.5739361266676747\n"
     ]
    }
   ],
   "source": [
    "print(f\"Random forest ROC AUC: {roc_auc_score(pred_df.relevance, pred_df.__r1)}\")"
   ]
  },
  {
   "cell_type": "markdown",
   "metadata": {},
   "source": [
    "# PCA"
   ]
  },
  {
   "cell_type": "code",
   "execution_count": 8,
   "metadata": {},
   "outputs": [
    {
     "name": "stderr",
     "output_type": "stream",
     "text": [
      "22/11/17 14:00:22 WARN BLAS: Failed to load implementation from: com.github.fommil.netlib.NativeSystemBLAS\n",
      "22/11/17 14:00:22 WARN BLAS: Failed to load implementation from: com.github.fommil.netlib.NativeRefBLAS\n",
      "22/11/17 14:00:52 WARN LAPACK: Failed to load implementation from: com.github.fommil.netlib.NativeSystemLAPACK\n",
      "22/11/17 14:00:52 WARN LAPACK: Failed to load implementation from: com.github.fommil.netlib.NativeRefLAPACK\n"
     ]
    },
    {
     "name": "stdout",
     "output_type": "stream",
     "text": [
      "PCA fitting: \n",
      "52.55409598350525\n"
     ]
    },
    {
     "data": {
      "text/plain": [
       "DenseVector([0.7563, 0.0684, 0.0162, 0.0123, 0.0097, 0.0068, 0.006, 0.0046, 0.0044])"
      ]
     },
     "execution_count": 8,
     "metadata": {},
     "output_type": "execute_result"
    }
   ],
   "source": [
    "va = VectorAssembler(\n",
    "    inputCols=users_df_train.columns[1:3] + users_df_train.columns[4:],\n",
    "    outputCol='features'\n",
    ")\n",
    "pca = PCA(k=9, inputCol=\"features\")\n",
    "pca.setOutputCol(\"pca_features\")\n",
    "start = time.time()\n",
    "model = pca.fit(va.transform(users_df_train))\n",
    "end = time.time()\n",
    "print(\"PCA fitting: \")\n",
    "print(end - start)\n",
    "model.explainedVariance"
   ]
  },
  {
   "cell_type": "code",
   "execution_count": 10,
   "metadata": {},
   "outputs": [
    {
     "name": "stderr",
     "output_type": "stream",
     "text": [
      "                                                                                \r"
     ]
    },
    {
     "data": {
      "text/html": [
       "<div>\n",
       "<style scoped>\n",
       "    .dataframe tbody tr th:only-of-type {\n",
       "        vertical-align: middle;\n",
       "    }\n",
       "\n",
       "    .dataframe tbody tr th {\n",
       "        vertical-align: top;\n",
       "    }\n",
       "\n",
       "    .dataframe thead th {\n",
       "        text-align: right;\n",
       "    }\n",
       "</style>\n",
       "<table border=\"1\" class=\"dataframe\">\n",
       "  <thead>\n",
       "    <tr style=\"text-align: right;\">\n",
       "      <th></th>\n",
       "      <th>user_idx</th>\n",
       "      <th>user_feature[0]</th>\n",
       "      <th>user_feature[1]</th>\n",
       "      <th>user_feature[2]</th>\n",
       "      <th>user_feature[3]</th>\n",
       "      <th>user_feature[4]</th>\n",
       "      <th>user_feature[5]</th>\n",
       "      <th>user_feature[6]</th>\n",
       "      <th>user_feature[7]</th>\n",
       "      <th>user_feature[8]</th>\n",
       "    </tr>\n",
       "  </thead>\n",
       "  <tbody>\n",
       "    <tr>\n",
       "      <th>0</th>\n",
       "      <td>4024009</td>\n",
       "      <td>-5.011489</td>\n",
       "      <td>-0.208618</td>\n",
       "      <td>-0.518342</td>\n",
       "      <td>0.096146</td>\n",
       "      <td>0.128758</td>\n",
       "      <td>-0.025352</td>\n",
       "      <td>0.231048</td>\n",
       "      <td>0.015152</td>\n",
       "      <td>0.018341</td>\n",
       "    </tr>\n",
       "    <tr>\n",
       "      <th>1</th>\n",
       "      <td>1756928</td>\n",
       "      <td>-5.004752</td>\n",
       "      <td>-0.189431</td>\n",
       "      <td>-0.341130</td>\n",
       "      <td>-0.019720</td>\n",
       "      <td>0.301034</td>\n",
       "      <td>-0.102309</td>\n",
       "      <td>0.114777</td>\n",
       "      <td>-0.027779</td>\n",
       "      <td>0.058556</td>\n",
       "    </tr>\n",
       "    <tr>\n",
       "      <th>2</th>\n",
       "      <td>1459280</td>\n",
       "      <td>-5.030922</td>\n",
       "      <td>0.814557</td>\n",
       "      <td>-0.393165</td>\n",
       "      <td>-0.024644</td>\n",
       "      <td>0.365638</td>\n",
       "      <td>0.049733</td>\n",
       "      <td>0.094488</td>\n",
       "      <td>-0.010670</td>\n",
       "      <td>0.119320</td>\n",
       "    </tr>\n",
       "    <tr>\n",
       "      <th>3</th>\n",
       "      <td>5276428</td>\n",
       "      <td>-4.012828</td>\n",
       "      <td>0.859328</td>\n",
       "      <td>0.006674</td>\n",
       "      <td>-0.330849</td>\n",
       "      <td>0.199110</td>\n",
       "      <td>-0.067980</td>\n",
       "      <td>0.098179</td>\n",
       "      <td>-0.008086</td>\n",
       "      <td>0.111363</td>\n",
       "    </tr>\n",
       "    <tr>\n",
       "      <th>4</th>\n",
       "      <td>1716148</td>\n",
       "      <td>-5.020726</td>\n",
       "      <td>0.837062</td>\n",
       "      <td>-0.136077</td>\n",
       "      <td>-0.136654</td>\n",
       "      <td>0.430284</td>\n",
       "      <td>-0.229096</td>\n",
       "      <td>0.133218</td>\n",
       "      <td>-0.054900</td>\n",
       "      <td>0.165446</td>\n",
       "    </tr>\n",
       "    <tr>\n",
       "      <th>...</th>\n",
       "      <td>...</td>\n",
       "      <td>...</td>\n",
       "      <td>...</td>\n",
       "      <td>...</td>\n",
       "      <td>...</td>\n",
       "      <td>...</td>\n",
       "      <td>...</td>\n",
       "      <td>...</td>\n",
       "      <td>...</td>\n",
       "      <td>...</td>\n",
       "    </tr>\n",
       "    <tr>\n",
       "      <th>3053588</th>\n",
       "      <td>265805</td>\n",
       "      <td>-5.033073</td>\n",
       "      <td>0.826746</td>\n",
       "      <td>-0.016870</td>\n",
       "      <td>0.269960</td>\n",
       "      <td>0.265318</td>\n",
       "      <td>-0.253668</td>\n",
       "      <td>0.546574</td>\n",
       "      <td>-0.013333</td>\n",
       "      <td>-0.052161</td>\n",
       "    </tr>\n",
       "    <tr>\n",
       "      <th>3053589</th>\n",
       "      <td>2933675</td>\n",
       "      <td>-5.011009</td>\n",
       "      <td>-0.165077</td>\n",
       "      <td>-0.057404</td>\n",
       "      <td>0.071152</td>\n",
       "      <td>0.252052</td>\n",
       "      <td>-0.182114</td>\n",
       "      <td>0.347975</td>\n",
       "      <td>-0.108967</td>\n",
       "      <td>-0.261822</td>\n",
       "    </tr>\n",
       "    <tr>\n",
       "      <th>3053590</th>\n",
       "      <td>4264698</td>\n",
       "      <td>-4.008367</td>\n",
       "      <td>-0.132868</td>\n",
       "      <td>0.022372</td>\n",
       "      <td>0.211736</td>\n",
       "      <td>0.121479</td>\n",
       "      <td>-0.165102</td>\n",
       "      <td>0.411344</td>\n",
       "      <td>-0.224446</td>\n",
       "      <td>-0.163983</td>\n",
       "    </tr>\n",
       "    <tr>\n",
       "      <th>3053591</th>\n",
       "      <td>811746</td>\n",
       "      <td>-4.754839</td>\n",
       "      <td>0.084321</td>\n",
       "      <td>-0.142392</td>\n",
       "      <td>-0.019201</td>\n",
       "      <td>0.217673</td>\n",
       "      <td>-0.178274</td>\n",
       "      <td>0.336264</td>\n",
       "      <td>0.008475</td>\n",
       "      <td>0.124137</td>\n",
       "    </tr>\n",
       "    <tr>\n",
       "      <th>3053592</th>\n",
       "      <td>962940</td>\n",
       "      <td>-4.369437</td>\n",
       "      <td>0.715605</td>\n",
       "      <td>-0.284390</td>\n",
       "      <td>-0.069027</td>\n",
       "      <td>0.207479</td>\n",
       "      <td>0.052151</td>\n",
       "      <td>0.224573</td>\n",
       "      <td>0.026938</td>\n",
       "      <td>0.122199</td>\n",
       "    </tr>\n",
       "  </tbody>\n",
       "</table>\n",
       "<p>3053593 rows × 10 columns</p>\n",
       "</div>"
      ],
      "text/plain": [
       "         user_idx  user_feature[0]  user_feature[1]  user_feature[2]  \\\n",
       "0         4024009        -5.011489        -0.208618        -0.518342   \n",
       "1         1756928        -5.004752        -0.189431        -0.341130   \n",
       "2         1459280        -5.030922         0.814557        -0.393165   \n",
       "3         5276428        -4.012828         0.859328         0.006674   \n",
       "4         1716148        -5.020726         0.837062        -0.136077   \n",
       "...           ...              ...              ...              ...   \n",
       "3053588    265805        -5.033073         0.826746        -0.016870   \n",
       "3053589   2933675        -5.011009        -0.165077        -0.057404   \n",
       "3053590   4264698        -4.008367        -0.132868         0.022372   \n",
       "3053591    811746        -4.754839         0.084321        -0.142392   \n",
       "3053592    962940        -4.369437         0.715605        -0.284390   \n",
       "\n",
       "         user_feature[3]  user_feature[4]  user_feature[5]  user_feature[6]  \\\n",
       "0               0.096146         0.128758        -0.025352         0.231048   \n",
       "1              -0.019720         0.301034        -0.102309         0.114777   \n",
       "2              -0.024644         0.365638         0.049733         0.094488   \n",
       "3              -0.330849         0.199110        -0.067980         0.098179   \n",
       "4              -0.136654         0.430284        -0.229096         0.133218   \n",
       "...                  ...              ...              ...              ...   \n",
       "3053588         0.269960         0.265318        -0.253668         0.546574   \n",
       "3053589         0.071152         0.252052        -0.182114         0.347975   \n",
       "3053590         0.211736         0.121479        -0.165102         0.411344   \n",
       "3053591        -0.019201         0.217673        -0.178274         0.336264   \n",
       "3053592        -0.069027         0.207479         0.052151         0.224573   \n",
       "\n",
       "         user_feature[7]  user_feature[8]  \n",
       "0               0.015152         0.018341  \n",
       "1              -0.027779         0.058556  \n",
       "2              -0.010670         0.119320  \n",
       "3              -0.008086         0.111363  \n",
       "4              -0.054900         0.165446  \n",
       "...                  ...              ...  \n",
       "3053588        -0.013333        -0.052161  \n",
       "3053589        -0.108967        -0.261822  \n",
       "3053590        -0.224446        -0.163983  \n",
       "3053591         0.008475         0.124137  \n",
       "3053592         0.026938         0.122199  \n",
       "\n",
       "[3053593 rows x 10 columns]"
      ]
     },
     "execution_count": 10,
     "metadata": {},
     "output_type": "execute_result"
    }
   ],
   "source": [
    "pca_users = model.transform(va.transform(users_df_train)).select(['user_idx', 'pca_features'])\n",
    "\n",
    "pca_users = (pca_users.withColumn('user_feature', vector_to_array('pca_features'))).select(['user_idx'] + [col('user_feature')[i] for i in range(9)])\n",
    "pca_users.toPandas()"
   ]
  },
  {
   "cell_type": "code",
   "execution_count": 11,
   "metadata": {},
   "outputs": [
    {
     "name": "stderr",
     "output_type": "stream",
     "text": [
      "                                                                                \r"
     ]
    },
    {
     "data": {
      "text/html": [
       "<div>\n",
       "<style scoped>\n",
       "    .dataframe tbody tr th:only-of-type {\n",
       "        vertical-align: middle;\n",
       "    }\n",
       "\n",
       "    .dataframe tbody tr th {\n",
       "        vertical-align: top;\n",
       "    }\n",
       "\n",
       "    .dataframe thead th {\n",
       "        text-align: right;\n",
       "    }\n",
       "</style>\n",
       "<table border=\"1\" class=\"dataframe\">\n",
       "  <thead>\n",
       "    <tr style=\"text-align: right;\">\n",
       "      <th></th>\n",
       "      <th>user_idx</th>\n",
       "      <th>user_feature[0]</th>\n",
       "      <th>user_feature[1]</th>\n",
       "      <th>user_feature[2]</th>\n",
       "      <th>user_feature[3]</th>\n",
       "      <th>user_feature[4]</th>\n",
       "      <th>user_feature[5]</th>\n",
       "      <th>user_feature[6]</th>\n",
       "      <th>user_feature[7]</th>\n",
       "      <th>user_feature[8]</th>\n",
       "    </tr>\n",
       "  </thead>\n",
       "  <tbody>\n",
       "    <tr>\n",
       "      <th>0</th>\n",
       "      <td>3835593</td>\n",
       "      <td>-4.018266</td>\n",
       "      <td>0.575734</td>\n",
       "      <td>-0.199374</td>\n",
       "      <td>0.083997</td>\n",
       "      <td>0.243594</td>\n",
       "      <td>-0.166446</td>\n",
       "      <td>0.217244</td>\n",
       "      <td>0.062339</td>\n",
       "      <td>0.162609</td>\n",
       "    </tr>\n",
       "    <tr>\n",
       "      <th>1</th>\n",
       "      <td>5139399</td>\n",
       "      <td>-4.233633</td>\n",
       "      <td>0.737578</td>\n",
       "      <td>0.019695</td>\n",
       "      <td>0.107156</td>\n",
       "      <td>0.061601</td>\n",
       "      <td>-0.137092</td>\n",
       "      <td>0.155856</td>\n",
       "      <td>0.027708</td>\n",
       "      <td>0.152988</td>\n",
       "    </tr>\n",
       "    <tr>\n",
       "      <th>2</th>\n",
       "      <td>5140169</td>\n",
       "      <td>-5.000499</td>\n",
       "      <td>-0.147954</td>\n",
       "      <td>-0.137309</td>\n",
       "      <td>-0.178179</td>\n",
       "      <td>0.170674</td>\n",
       "      <td>0.023876</td>\n",
       "      <td>0.100537</td>\n",
       "      <td>-0.280599</td>\n",
       "      <td>-0.158016</td>\n",
       "    </tr>\n",
       "    <tr>\n",
       "      <th>3</th>\n",
       "      <td>4971574</td>\n",
       "      <td>-3.015294</td>\n",
       "      <td>0.686470</td>\n",
       "      <td>-0.107664</td>\n",
       "      <td>0.023585</td>\n",
       "      <td>0.342761</td>\n",
       "      <td>-0.251908</td>\n",
       "      <td>0.248121</td>\n",
       "      <td>0.074736</td>\n",
       "      <td>0.161313</td>\n",
       "    </tr>\n",
       "    <tr>\n",
       "      <th>4</th>\n",
       "      <td>6464618</td>\n",
       "      <td>-3.518191</td>\n",
       "      <td>0.890409</td>\n",
       "      <td>-0.105630</td>\n",
       "      <td>-0.245642</td>\n",
       "      <td>0.322576</td>\n",
       "      <td>-0.139870</td>\n",
       "      <td>0.142940</td>\n",
       "      <td>-0.060403</td>\n",
       "      <td>0.117284</td>\n",
       "    </tr>\n",
       "    <tr>\n",
       "      <th>...</th>\n",
       "      <td>...</td>\n",
       "      <td>...</td>\n",
       "      <td>...</td>\n",
       "      <td>...</td>\n",
       "      <td>...</td>\n",
       "      <td>...</td>\n",
       "      <td>...</td>\n",
       "      <td>...</td>\n",
       "      <td>...</td>\n",
       "      <td>...</td>\n",
       "    </tr>\n",
       "    <tr>\n",
       "      <th>4904850</th>\n",
       "      <td>5881176</td>\n",
       "      <td>-4.012465</td>\n",
       "      <td>0.348928</td>\n",
       "      <td>-0.061895</td>\n",
       "      <td>0.144897</td>\n",
       "      <td>0.336046</td>\n",
       "      <td>-0.275247</td>\n",
       "      <td>0.356929</td>\n",
       "      <td>0.072356</td>\n",
       "      <td>0.231705</td>\n",
       "    </tr>\n",
       "    <tr>\n",
       "      <th>4904851</th>\n",
       "      <td>3784723</td>\n",
       "      <td>-4.503359</td>\n",
       "      <td>-0.062602</td>\n",
       "      <td>0.027887</td>\n",
       "      <td>0.152505</td>\n",
       "      <td>0.263011</td>\n",
       "      <td>-0.138721</td>\n",
       "      <td>0.189733</td>\n",
       "      <td>-0.017565</td>\n",
       "      <td>0.132839</td>\n",
       "    </tr>\n",
       "    <tr>\n",
       "      <th>4904852</th>\n",
       "      <td>334079</td>\n",
       "      <td>-4.865045</td>\n",
       "      <td>0.458615</td>\n",
       "      <td>-0.127472</td>\n",
       "      <td>0.091447</td>\n",
       "      <td>0.276285</td>\n",
       "      <td>-0.113452</td>\n",
       "      <td>0.136682</td>\n",
       "      <td>0.040471</td>\n",
       "      <td>0.155970</td>\n",
       "    </tr>\n",
       "    <tr>\n",
       "      <th>4904853</th>\n",
       "      <td>5091065</td>\n",
       "      <td>-3.870936</td>\n",
       "      <td>0.315534</td>\n",
       "      <td>-0.030943</td>\n",
       "      <td>0.105532</td>\n",
       "      <td>0.229117</td>\n",
       "      <td>-0.111851</td>\n",
       "      <td>0.118768</td>\n",
       "      <td>-0.067275</td>\n",
       "      <td>0.174136</td>\n",
       "    </tr>\n",
       "    <tr>\n",
       "      <th>4904854</th>\n",
       "      <td>2903562</td>\n",
       "      <td>-2.966948</td>\n",
       "      <td>0.657864</td>\n",
       "      <td>-0.096169</td>\n",
       "      <td>0.117433</td>\n",
       "      <td>0.319278</td>\n",
       "      <td>-0.180653</td>\n",
       "      <td>0.162760</td>\n",
       "      <td>-0.018191</td>\n",
       "      <td>0.150055</td>\n",
       "    </tr>\n",
       "  </tbody>\n",
       "</table>\n",
       "<p>4904855 rows × 10 columns</p>\n",
       "</div>"
      ],
      "text/plain": [
       "         user_idx  user_feature[0]  user_feature[1]  user_feature[2]  \\\n",
       "0         3835593        -4.018266         0.575734        -0.199374   \n",
       "1         5139399        -4.233633         0.737578         0.019695   \n",
       "2         5140169        -5.000499        -0.147954        -0.137309   \n",
       "3         4971574        -3.015294         0.686470        -0.107664   \n",
       "4         6464618        -3.518191         0.890409        -0.105630   \n",
       "...           ...              ...              ...              ...   \n",
       "4904850   5881176        -4.012465         0.348928        -0.061895   \n",
       "4904851   3784723        -4.503359        -0.062602         0.027887   \n",
       "4904852    334079        -4.865045         0.458615        -0.127472   \n",
       "4904853   5091065        -3.870936         0.315534        -0.030943   \n",
       "4904854   2903562        -2.966948         0.657864        -0.096169   \n",
       "\n",
       "         user_feature[3]  user_feature[4]  user_feature[5]  user_feature[6]  \\\n",
       "0               0.083997         0.243594        -0.166446         0.217244   \n",
       "1               0.107156         0.061601        -0.137092         0.155856   \n",
       "2              -0.178179         0.170674         0.023876         0.100537   \n",
       "3               0.023585         0.342761        -0.251908         0.248121   \n",
       "4              -0.245642         0.322576        -0.139870         0.142940   \n",
       "...                  ...              ...              ...              ...   \n",
       "4904850         0.144897         0.336046        -0.275247         0.356929   \n",
       "4904851         0.152505         0.263011        -0.138721         0.189733   \n",
       "4904852         0.091447         0.276285        -0.113452         0.136682   \n",
       "4904853         0.105532         0.229117        -0.111851         0.118768   \n",
       "4904854         0.117433         0.319278        -0.180653         0.162760   \n",
       "\n",
       "         user_feature[7]  user_feature[8]  \n",
       "0               0.062339         0.162609  \n",
       "1               0.027708         0.152988  \n",
       "2              -0.280599        -0.158016  \n",
       "3               0.074736         0.161313  \n",
       "4              -0.060403         0.117284  \n",
       "...                  ...              ...  \n",
       "4904850         0.072356         0.231705  \n",
       "4904851        -0.017565         0.132839  \n",
       "4904852         0.040471         0.155970  \n",
       "4904853        -0.067275         0.174136  \n",
       "4904854        -0.018191         0.150055  \n",
       "\n",
       "[4904855 rows x 10 columns]"
      ]
     },
     "execution_count": 11,
     "metadata": {},
     "output_type": "execute_result"
    }
   ],
   "source": [
    "pca_users_val = model.transform(va.transform(users_df_val)).select(['user_idx', 'pca_features'])\n",
    "\n",
    "pca_users_val = (pca_users_val.withColumn('user_feature', vector_to_array('pca_features'))).select(['user_idx'] + [col('user_feature')[i] for i in range(9)])\n",
    "pca_users_val.toPandas()"
   ]
  },
  {
   "cell_type": "markdown",
   "metadata": {},
   "source": [
    "# Generators quality with PCA"
   ]
  },
  {
   "cell_type": "markdown",
   "metadata": {},
   "source": [
    "# GaussianCopula"
   ]
  },
  {
   "cell_type": "code",
   "execution_count": 22,
   "metadata": {},
   "outputs": [
    {
     "name": "stderr",
     "output_type": "stream",
     "text": [
      "                                                                                \r"
     ]
    },
    {
     "name": "stdout",
     "output_type": "stream",
     "text": [
      "Fitting of GaussianCopula on PCA embeddings: \n",
      "18.543222904205322\n"
     ]
    }
   ],
   "source": [
    "user_generator_1 = SDVDataGenerator(\n",
    "    label='synth',\n",
    "    id_column_name='user_idx',\n",
    "    model_name='gaussiancopula',\n",
    "    parallelization_level=4,\n",
    "    seed=1234\n",
    ")\n",
    "\n",
    "start = time.time()\n",
    "user_generator_1.fit(pca_users.drop('user_idx').sample(USER_GENERATOR_FRAC))\n",
    "end = time.time()\n",
    "print('Fitting of GaussianCopula on PCA embeddings: ')\n",
    "print(end - start)"
   ]
  },
  {
   "cell_type": "code",
   "execution_count": 23,
   "metadata": {},
   "outputs": [
    {
     "name": "stderr",
     "output_type": "stream",
     "text": [
      "                                                                                \r"
     ]
    }
   ],
   "source": [
    "real_users = pca_users.sample(USER_GENERATOR_FRAC)\n",
    "syn_users = user_generator_1.generate(real_users.count())\n",
    "gen_score = evaluate_synthetic(\n",
    "    syn_users.drop('user_idx'),\n",
    "    real_users.drop('user_idx')\n",
    ")"
   ]
  },
  {
   "cell_type": "code",
   "execution_count": 24,
   "metadata": {},
   "outputs": [
    {
     "data": {
      "text/plain": [
       "{'LogisticDetection': 0.17951934567648564,\n",
       " 'SVCDetection': 0.07221784544797083,\n",
       " 'KSTest': 0.8165961479130855,\n",
       " 'ContinuousKLDivergence': 0.8394175511860158}"
      ]
     },
     "execution_count": 24,
     "metadata": {},
     "output_type": "execute_result"
    }
   ],
   "source": [
    "gen_score"
   ]
  },
  {
   "cell_type": "code",
   "execution_count": 25,
   "metadata": {},
   "outputs": [
    {
     "data": {
      "text/html": [
       "<div>\n",
       "<style scoped>\n",
       "    .dataframe tbody tr th:only-of-type {\n",
       "        vertical-align: middle;\n",
       "    }\n",
       "\n",
       "    .dataframe tbody tr th {\n",
       "        vertical-align: top;\n",
       "    }\n",
       "\n",
       "    .dataframe thead th {\n",
       "        text-align: right;\n",
       "    }\n",
       "</style>\n",
       "<table border=\"1\" class=\"dataframe\">\n",
       "  <thead>\n",
       "    <tr style=\"text-align: right;\">\n",
       "      <th></th>\n",
       "      <th>Model_name</th>\n",
       "      <th>Metric_score</th>\n",
       "      <th>Metric_name</th>\n",
       "    </tr>\n",
       "  </thead>\n",
       "  <tbody>\n",
       "    <tr>\n",
       "      <th>0</th>\n",
       "      <td>GaussianCopula</td>\n",
       "      <td>0.179519</td>\n",
       "      <td>LogisticDetection</td>\n",
       "    </tr>\n",
       "    <tr>\n",
       "      <th>1</th>\n",
       "      <td>GaussianCopula</td>\n",
       "      <td>0.072218</td>\n",
       "      <td>SVCDetection</td>\n",
       "    </tr>\n",
       "    <tr>\n",
       "      <th>2</th>\n",
       "      <td>GaussianCopula</td>\n",
       "      <td>0.816596</td>\n",
       "      <td>KSTest</td>\n",
       "    </tr>\n",
       "    <tr>\n",
       "      <th>3</th>\n",
       "      <td>GaussianCopula</td>\n",
       "      <td>0.839418</td>\n",
       "      <td>ContinuousKLDivergence</td>\n",
       "    </tr>\n",
       "  </tbody>\n",
       "</table>\n",
       "</div>"
      ],
      "text/plain": [
       "       Model_name  Metric_score             Metric_name\n",
       "0  GaussianCopula      0.179519       LogisticDetection\n",
       "1  GaussianCopula      0.072218            SVCDetection\n",
       "2  GaussianCopula      0.816596                  KSTest\n",
       "3  GaussianCopula      0.839418  ContinuousKLDivergence"
      ]
     },
     "execution_count": 25,
     "metadata": {},
     "output_type": "execute_result"
    }
   ],
   "source": [
    "gen_result = pd.DataFrame(index = np.arange(4))\n",
    "gen_result['Model_name'] = 'GaussianCopula'\n",
    "gen_result['Metric_score'] = [v for k, v in gen_score.items()]\n",
    "gen_result['Metric_name'] = [k for k, v in gen_score.items()]\n",
    "\n",
    "gen_result_df_pca = pd.DataFrame()\n",
    "gen_result_df_pca = pd.concat([gen_result_df_pca, gen_result])\n",
    "gen_result_df_pca"
   ]
  },
  {
   "cell_type": "markdown",
   "metadata": {},
   "source": [
    "# CTGAN"
   ]
  },
  {
   "cell_type": "code",
   "execution_count": 26,
   "metadata": {},
   "outputs": [
    {
     "name": "stderr",
     "output_type": "stream",
     "text": [
      "                                                                                \r"
     ]
    },
    {
     "name": "stdout",
     "output_type": "stream",
     "text": [
      "Fitting of CTGAN on PCA embeddings: \n",
      "7499.069165945053\n"
     ]
    }
   ],
   "source": [
    "user_generator_2 = SDVDataGenerator(\n",
    "    label='synth',\n",
    "    id_column_name='user_idx',\n",
    "    model_name='ctgan',\n",
    "    parallelization_level=4,\n",
    "    seed=1234\n",
    ")\n",
    "\n",
    "start = time.time()\n",
    "user_generator_2.fit(pca_users.drop('user_idx').sample(USER_GENERATOR_FRAC))\n",
    "end = time.time()\n",
    "print('Fitting of CTGAN on PCA embeddings: ')\n",
    "print(end - start)"
   ]
  },
  {
   "cell_type": "code",
   "execution_count": 27,
   "metadata": {},
   "outputs": [
    {
     "name": "stderr",
     "output_type": "stream",
     "text": [
      "                                                                                \r"
     ]
    }
   ],
   "source": [
    "real_users = pca_users.sample(USER_GENERATOR_FRAC)\n",
    "syn_users = user_generator_2.generate(real_users.count())\n",
    "gen_score = evaluate_synthetic(\n",
    "    syn_users.drop('user_idx'),\n",
    "    real_users.drop('user_idx')\n",
    ")"
   ]
  },
  {
   "cell_type": "code",
   "execution_count": 28,
   "metadata": {},
   "outputs": [
    {
     "data": {
      "text/plain": [
       "{'LogisticDetection': 0.6229707913376676,\n",
       " 'SVCDetection': 0.5541295968667392,\n",
       " 'KSTest': 0.8476679918549404,\n",
       " 'ContinuousKLDivergence': 0.8847449773694891}"
      ]
     },
     "execution_count": 28,
     "metadata": {},
     "output_type": "execute_result"
    }
   ],
   "source": [
    "gen_score"
   ]
  },
  {
   "cell_type": "code",
   "execution_count": 29,
   "metadata": {},
   "outputs": [
    {
     "data": {
      "text/html": [
       "<div>\n",
       "<style scoped>\n",
       "    .dataframe tbody tr th:only-of-type {\n",
       "        vertical-align: middle;\n",
       "    }\n",
       "\n",
       "    .dataframe tbody tr th {\n",
       "        vertical-align: top;\n",
       "    }\n",
       "\n",
       "    .dataframe thead th {\n",
       "        text-align: right;\n",
       "    }\n",
       "</style>\n",
       "<table border=\"1\" class=\"dataframe\">\n",
       "  <thead>\n",
       "    <tr style=\"text-align: right;\">\n",
       "      <th></th>\n",
       "      <th>Model_name</th>\n",
       "      <th>Metric_score</th>\n",
       "      <th>Metric_name</th>\n",
       "    </tr>\n",
       "  </thead>\n",
       "  <tbody>\n",
       "    <tr>\n",
       "      <th>0</th>\n",
       "      <td>GaussianCopula</td>\n",
       "      <td>0.179519</td>\n",
       "      <td>LogisticDetection</td>\n",
       "    </tr>\n",
       "    <tr>\n",
       "      <th>1</th>\n",
       "      <td>GaussianCopula</td>\n",
       "      <td>0.072218</td>\n",
       "      <td>SVCDetection</td>\n",
       "    </tr>\n",
       "    <tr>\n",
       "      <th>2</th>\n",
       "      <td>GaussianCopula</td>\n",
       "      <td>0.816596</td>\n",
       "      <td>KSTest</td>\n",
       "    </tr>\n",
       "    <tr>\n",
       "      <th>3</th>\n",
       "      <td>GaussianCopula</td>\n",
       "      <td>0.839418</td>\n",
       "      <td>ContinuousKLDivergence</td>\n",
       "    </tr>\n",
       "    <tr>\n",
       "      <th>0</th>\n",
       "      <td>CTGAN</td>\n",
       "      <td>0.622971</td>\n",
       "      <td>LogisticDetection</td>\n",
       "    </tr>\n",
       "    <tr>\n",
       "      <th>1</th>\n",
       "      <td>CTGAN</td>\n",
       "      <td>0.554130</td>\n",
       "      <td>SVCDetection</td>\n",
       "    </tr>\n",
       "    <tr>\n",
       "      <th>2</th>\n",
       "      <td>CTGAN</td>\n",
       "      <td>0.847668</td>\n",
       "      <td>KSTest</td>\n",
       "    </tr>\n",
       "    <tr>\n",
       "      <th>3</th>\n",
       "      <td>CTGAN</td>\n",
       "      <td>0.884745</td>\n",
       "      <td>ContinuousKLDivergence</td>\n",
       "    </tr>\n",
       "  </tbody>\n",
       "</table>\n",
       "</div>"
      ],
      "text/plain": [
       "       Model_name  Metric_score             Metric_name\n",
       "0  GaussianCopula      0.179519       LogisticDetection\n",
       "1  GaussianCopula      0.072218            SVCDetection\n",
       "2  GaussianCopula      0.816596                  KSTest\n",
       "3  GaussianCopula      0.839418  ContinuousKLDivergence\n",
       "0           CTGAN      0.622971       LogisticDetection\n",
       "1           CTGAN      0.554130            SVCDetection\n",
       "2           CTGAN      0.847668                  KSTest\n",
       "3           CTGAN      0.884745  ContinuousKLDivergence"
      ]
     },
     "execution_count": 29,
     "metadata": {},
     "output_type": "execute_result"
    }
   ],
   "source": [
    "gen_result = pd.DataFrame(index = np.arange(4))\n",
    "gen_result['Model_name'] = 'CTGAN'\n",
    "gen_result['Metric_score'] = [v for k, v in gen_score.items()]\n",
    "gen_result['Metric_name'] = [k for k, v in gen_score.items()]\n",
    "\n",
    "gen_result_df_pca = pd.concat([gen_result_df_pca, gen_result])\n",
    "gen_result_df_pca"
   ]
  },
  {
   "cell_type": "markdown",
   "metadata": {},
   "source": [
    "# CopulaGAN"
   ]
  },
  {
   "cell_type": "code",
   "execution_count": 30,
   "metadata": {},
   "outputs": [
    {
     "name": "stderr",
     "output_type": "stream",
     "text": [
      "                                                                                \r"
     ]
    },
    {
     "name": "stdout",
     "output_type": "stream",
     "text": [
      "Fitting of CopulaGAN on PCA embeddings: \n",
      "3021.2092459201813\n"
     ]
    }
   ],
   "source": [
    "user_generator_3 = SDVDataGenerator(\n",
    "    label='synth',\n",
    "    id_column_name='user_idx',\n",
    "    model_name='copulagan',\n",
    "    parallelization_level=4,\n",
    "    seed=1234\n",
    ")\n",
    "\n",
    "start = time.time()\n",
    "user_generator_3.fit(pca_users.drop('user_idx').sample(USER_GENERATOR_FRAC))\n",
    "end = time.time()\n",
    "print('Fitting of CopulaGAN on PCA embeddings: ')\n",
    "print(end - start)"
   ]
  },
  {
   "cell_type": "code",
   "execution_count": 31,
   "metadata": {},
   "outputs": [
    {
     "name": "stderr",
     "output_type": "stream",
     "text": [
      "                                                                                \r"
     ]
    }
   ],
   "source": [
    "real_users = pca_users.sample(USER_GENERATOR_FRAC)\n",
    "syn_users = user_generator_3.generate(real_users.count())\n",
    "gen_score = evaluate_synthetic(\n",
    "    syn_users.drop('user_idx'),\n",
    "    real_users.drop('user_idx')\n",
    ")"
   ]
  },
  {
   "cell_type": "code",
   "execution_count": 32,
   "metadata": {},
   "outputs": [
    {
     "data": {
      "text/plain": [
       "{'LogisticDetection': 0.7329180050034023,\n",
       " 'SVCDetection': 0.6748138285404188,\n",
       " 'KSTest': 0.8803800821083301,\n",
       " 'ContinuousKLDivergence': 0.9159482484899245}"
      ]
     },
     "execution_count": 32,
     "metadata": {},
     "output_type": "execute_result"
    }
   ],
   "source": [
    "gen_score"
   ]
  },
  {
   "cell_type": "code",
   "execution_count": 33,
   "metadata": {},
   "outputs": [
    {
     "data": {
      "text/html": [
       "<div>\n",
       "<style scoped>\n",
       "    .dataframe tbody tr th:only-of-type {\n",
       "        vertical-align: middle;\n",
       "    }\n",
       "\n",
       "    .dataframe tbody tr th {\n",
       "        vertical-align: top;\n",
       "    }\n",
       "\n",
       "    .dataframe thead th {\n",
       "        text-align: right;\n",
       "    }\n",
       "</style>\n",
       "<table border=\"1\" class=\"dataframe\">\n",
       "  <thead>\n",
       "    <tr style=\"text-align: right;\">\n",
       "      <th></th>\n",
       "      <th>Model_name</th>\n",
       "      <th>Metric_score</th>\n",
       "      <th>Metric_name</th>\n",
       "    </tr>\n",
       "  </thead>\n",
       "  <tbody>\n",
       "    <tr>\n",
       "      <th>0</th>\n",
       "      <td>GaussianCopula</td>\n",
       "      <td>0.179519</td>\n",
       "      <td>LogisticDetection</td>\n",
       "    </tr>\n",
       "    <tr>\n",
       "      <th>1</th>\n",
       "      <td>GaussianCopula</td>\n",
       "      <td>0.072218</td>\n",
       "      <td>SVCDetection</td>\n",
       "    </tr>\n",
       "    <tr>\n",
       "      <th>2</th>\n",
       "      <td>GaussianCopula</td>\n",
       "      <td>0.816596</td>\n",
       "      <td>KSTest</td>\n",
       "    </tr>\n",
       "    <tr>\n",
       "      <th>3</th>\n",
       "      <td>GaussianCopula</td>\n",
       "      <td>0.839418</td>\n",
       "      <td>ContinuousKLDivergence</td>\n",
       "    </tr>\n",
       "    <tr>\n",
       "      <th>0</th>\n",
       "      <td>CTGAN</td>\n",
       "      <td>0.622971</td>\n",
       "      <td>LogisticDetection</td>\n",
       "    </tr>\n",
       "    <tr>\n",
       "      <th>1</th>\n",
       "      <td>CTGAN</td>\n",
       "      <td>0.554130</td>\n",
       "      <td>SVCDetection</td>\n",
       "    </tr>\n",
       "    <tr>\n",
       "      <th>2</th>\n",
       "      <td>CTGAN</td>\n",
       "      <td>0.847668</td>\n",
       "      <td>KSTest</td>\n",
       "    </tr>\n",
       "    <tr>\n",
       "      <th>3</th>\n",
       "      <td>CTGAN</td>\n",
       "      <td>0.884745</td>\n",
       "      <td>ContinuousKLDivergence</td>\n",
       "    </tr>\n",
       "    <tr>\n",
       "      <th>0</th>\n",
       "      <td>CopulaGAN</td>\n",
       "      <td>0.732918</td>\n",
       "      <td>LogisticDetection</td>\n",
       "    </tr>\n",
       "    <tr>\n",
       "      <th>1</th>\n",
       "      <td>CopulaGAN</td>\n",
       "      <td>0.674814</td>\n",
       "      <td>SVCDetection</td>\n",
       "    </tr>\n",
       "    <tr>\n",
       "      <th>2</th>\n",
       "      <td>CopulaGAN</td>\n",
       "      <td>0.880380</td>\n",
       "      <td>KSTest</td>\n",
       "    </tr>\n",
       "    <tr>\n",
       "      <th>3</th>\n",
       "      <td>CopulaGAN</td>\n",
       "      <td>0.915948</td>\n",
       "      <td>ContinuousKLDivergence</td>\n",
       "    </tr>\n",
       "  </tbody>\n",
       "</table>\n",
       "</div>"
      ],
      "text/plain": [
       "       Model_name  Metric_score             Metric_name\n",
       "0  GaussianCopula      0.179519       LogisticDetection\n",
       "1  GaussianCopula      0.072218            SVCDetection\n",
       "2  GaussianCopula      0.816596                  KSTest\n",
       "3  GaussianCopula      0.839418  ContinuousKLDivergence\n",
       "0           CTGAN      0.622971       LogisticDetection\n",
       "1           CTGAN      0.554130            SVCDetection\n",
       "2           CTGAN      0.847668                  KSTest\n",
       "3           CTGAN      0.884745  ContinuousKLDivergence\n",
       "0       CopulaGAN      0.732918       LogisticDetection\n",
       "1       CopulaGAN      0.674814            SVCDetection\n",
       "2       CopulaGAN      0.880380                  KSTest\n",
       "3       CopulaGAN      0.915948  ContinuousKLDivergence"
      ]
     },
     "execution_count": 33,
     "metadata": {},
     "output_type": "execute_result"
    }
   ],
   "source": [
    "gen_result = pd.DataFrame(index = np.arange(4))\n",
    "gen_result['Model_name'] = 'CopulaGAN'\n",
    "gen_result['Metric_score'] = [v for k, v in gen_score.items()]\n",
    "gen_result['Metric_name'] = [k for k, v in gen_score.items()]\n",
    "\n",
    "gen_result_df_pca = pd.concat([gen_result_df_pca, gen_result])\n",
    "gen_result_df_pca"
   ]
  },
  {
   "cell_type": "markdown",
   "metadata": {},
   "source": [
    "# TVAE"
   ]
  },
  {
   "cell_type": "code",
   "execution_count": 34,
   "metadata": {},
   "outputs": [
    {
     "name": "stderr",
     "output_type": "stream",
     "text": [
      "                                                                                \r"
     ]
    },
    {
     "name": "stdout",
     "output_type": "stream",
     "text": [
      "Fitting of TVAE on PCA embeddings: \n",
      "1921.6223571300507\n"
     ]
    }
   ],
   "source": [
    "user_generator_4 = SDVDataGenerator(\n",
    "    label='synth',\n",
    "    id_column_name='user_idx',\n",
    "    model_name='tvae',\n",
    "    parallelization_level=4,\n",
    "    seed=1234\n",
    ")\n",
    "\n",
    "start = time.time()\n",
    "user_generator_4.fit(pca_users.drop('user_idx').sample(USER_GENERATOR_FRAC))\n",
    "end = time.time()\n",
    "print('Fitting of TVAE on PCA embeddings: ')\n",
    "print(end - start)"
   ]
  },
  {
   "cell_type": "code",
   "execution_count": 35,
   "metadata": {},
   "outputs": [
    {
     "name": "stderr",
     "output_type": "stream",
     "text": [
      "                                                                                \r"
     ]
    }
   ],
   "source": [
    "real_users = pca_users.sample(USER_GENERATOR_FRAC)\n",
    "syn_users = user_generator_4.generate(real_users.count())\n",
    "gen_score = evaluate_synthetic(\n",
    "    syn_users.drop('user_idx'),\n",
    "    real_users.drop('user_idx')\n",
    ")"
   ]
  },
  {
   "cell_type": "code",
   "execution_count": 36,
   "metadata": {},
   "outputs": [
    {
     "data": {
      "text/plain": [
       "{'LogisticDetection': 0.6446007181426567,\n",
       " 'SVCDetection': 0.2992697562185255,\n",
       " 'KSTest': 0.8491267186919361,\n",
       " 'ContinuousKLDivergence': 0.8698876832279299}"
      ]
     },
     "execution_count": 36,
     "metadata": {},
     "output_type": "execute_result"
    }
   ],
   "source": [
    "gen_score"
   ]
  },
  {
   "cell_type": "code",
   "execution_count": 37,
   "metadata": {},
   "outputs": [
    {
     "data": {
      "text/html": [
       "<div>\n",
       "<style scoped>\n",
       "    .dataframe tbody tr th:only-of-type {\n",
       "        vertical-align: middle;\n",
       "    }\n",
       "\n",
       "    .dataframe tbody tr th {\n",
       "        vertical-align: top;\n",
       "    }\n",
       "\n",
       "    .dataframe thead th {\n",
       "        text-align: right;\n",
       "    }\n",
       "</style>\n",
       "<table border=\"1\" class=\"dataframe\">\n",
       "  <thead>\n",
       "    <tr style=\"text-align: right;\">\n",
       "      <th></th>\n",
       "      <th>Model_name</th>\n",
       "      <th>Metric_score</th>\n",
       "      <th>Metric_name</th>\n",
       "    </tr>\n",
       "  </thead>\n",
       "  <tbody>\n",
       "    <tr>\n",
       "      <th>0</th>\n",
       "      <td>GaussianCopula</td>\n",
       "      <td>0.179519</td>\n",
       "      <td>LogisticDetection</td>\n",
       "    </tr>\n",
       "    <tr>\n",
       "      <th>1</th>\n",
       "      <td>GaussianCopula</td>\n",
       "      <td>0.072218</td>\n",
       "      <td>SVCDetection</td>\n",
       "    </tr>\n",
       "    <tr>\n",
       "      <th>2</th>\n",
       "      <td>GaussianCopula</td>\n",
       "      <td>0.816596</td>\n",
       "      <td>KSTest</td>\n",
       "    </tr>\n",
       "    <tr>\n",
       "      <th>3</th>\n",
       "      <td>GaussianCopula</td>\n",
       "      <td>0.839418</td>\n",
       "      <td>ContinuousKLDivergence</td>\n",
       "    </tr>\n",
       "    <tr>\n",
       "      <th>0</th>\n",
       "      <td>CTGAN</td>\n",
       "      <td>0.622971</td>\n",
       "      <td>LogisticDetection</td>\n",
       "    </tr>\n",
       "    <tr>\n",
       "      <th>1</th>\n",
       "      <td>CTGAN</td>\n",
       "      <td>0.554130</td>\n",
       "      <td>SVCDetection</td>\n",
       "    </tr>\n",
       "    <tr>\n",
       "      <th>2</th>\n",
       "      <td>CTGAN</td>\n",
       "      <td>0.847668</td>\n",
       "      <td>KSTest</td>\n",
       "    </tr>\n",
       "    <tr>\n",
       "      <th>3</th>\n",
       "      <td>CTGAN</td>\n",
       "      <td>0.884745</td>\n",
       "      <td>ContinuousKLDivergence</td>\n",
       "    </tr>\n",
       "    <tr>\n",
       "      <th>0</th>\n",
       "      <td>CopulaGAN</td>\n",
       "      <td>0.732918</td>\n",
       "      <td>LogisticDetection</td>\n",
       "    </tr>\n",
       "    <tr>\n",
       "      <th>1</th>\n",
       "      <td>CopulaGAN</td>\n",
       "      <td>0.674814</td>\n",
       "      <td>SVCDetection</td>\n",
       "    </tr>\n",
       "    <tr>\n",
       "      <th>2</th>\n",
       "      <td>CopulaGAN</td>\n",
       "      <td>0.880380</td>\n",
       "      <td>KSTest</td>\n",
       "    </tr>\n",
       "    <tr>\n",
       "      <th>3</th>\n",
       "      <td>CopulaGAN</td>\n",
       "      <td>0.915948</td>\n",
       "      <td>ContinuousKLDivergence</td>\n",
       "    </tr>\n",
       "    <tr>\n",
       "      <th>0</th>\n",
       "      <td>TVAE</td>\n",
       "      <td>0.644601</td>\n",
       "      <td>LogisticDetection</td>\n",
       "    </tr>\n",
       "    <tr>\n",
       "      <th>1</th>\n",
       "      <td>TVAE</td>\n",
       "      <td>0.299270</td>\n",
       "      <td>SVCDetection</td>\n",
       "    </tr>\n",
       "    <tr>\n",
       "      <th>2</th>\n",
       "      <td>TVAE</td>\n",
       "      <td>0.849127</td>\n",
       "      <td>KSTest</td>\n",
       "    </tr>\n",
       "    <tr>\n",
       "      <th>3</th>\n",
       "      <td>TVAE</td>\n",
       "      <td>0.869888</td>\n",
       "      <td>ContinuousKLDivergence</td>\n",
       "    </tr>\n",
       "  </tbody>\n",
       "</table>\n",
       "</div>"
      ],
      "text/plain": [
       "       Model_name  Metric_score             Metric_name\n",
       "0  GaussianCopula      0.179519       LogisticDetection\n",
       "1  GaussianCopula      0.072218            SVCDetection\n",
       "2  GaussianCopula      0.816596                  KSTest\n",
       "3  GaussianCopula      0.839418  ContinuousKLDivergence\n",
       "0           CTGAN      0.622971       LogisticDetection\n",
       "1           CTGAN      0.554130            SVCDetection\n",
       "2           CTGAN      0.847668                  KSTest\n",
       "3           CTGAN      0.884745  ContinuousKLDivergence\n",
       "0       CopulaGAN      0.732918       LogisticDetection\n",
       "1       CopulaGAN      0.674814            SVCDetection\n",
       "2       CopulaGAN      0.880380                  KSTest\n",
       "3       CopulaGAN      0.915948  ContinuousKLDivergence\n",
       "0            TVAE      0.644601       LogisticDetection\n",
       "1            TVAE      0.299270            SVCDetection\n",
       "2            TVAE      0.849127                  KSTest\n",
       "3            TVAE      0.869888  ContinuousKLDivergence"
      ]
     },
     "execution_count": 37,
     "metadata": {},
     "output_type": "execute_result"
    }
   ],
   "source": [
    "gen_result = pd.DataFrame(index = np.arange(4))\n",
    "gen_result['Model_name'] = 'TVAE'\n",
    "gen_result['Metric_score'] = [v for k, v in gen_score.items()]\n",
    "gen_result['Metric_name'] = [k for k, v in gen_score.items()]\n",
    "\n",
    "gen_result_df_pca = pd.concat([gen_result_df_pca, gen_result])\n",
    "gen_result_df_pca"
   ]
  },
  {
   "cell_type": "code",
   "execution_count": 38,
   "metadata": {},
   "outputs": [
    {
     "data": {
      "image/png": "[encoded data removed]",
      "text/plain": [
       "<Figure size 1600x800 with 1 Axes>"
      ]
     },
     "metadata": {},
     "output_type": "display_data"
    }
   ],
   "source": [
    "def create_hist_values(df):\n",
    "    model_names = df['Model_name'].unique()\n",
    "    metric_names = df[\"Metric_name\"].unique()\n",
    "    hist_values = []\n",
    "    for model, metric in itertools.product(model_names, metric_names):\n",
    "        hist_values.append(df[(df['Model_name'] == model) & (df['Metric_name'] == metric)]['Metric_score'].values[0])\n",
    "    return hist_values\n",
    "\n",
    "rcParams['figure.figsize'] = (3, 3)\n",
    "matplotlib.rc('xtick', labelsize=15) \n",
    "matplotlib.rc('ytick', labelsize=15)\n",
    "sns.set(font_scale=1.8) \n",
    "plot = sns.catplot(data=gen_result_df_pca, x=\"Metric_name\", y=\"Metric_score\", hue=\"Model_name\", kind=\"bar\", aspect=2, height=8, palette=[\n",
    "    \"C1\", \"C2\", \"C0\", \"C3\", \"C4\"\n",
    "], legend=False)\n",
    "ax = plot.facet_axis(0,0)\n",
    "hist_val = create_hist_values(gen_result_df_pca)\n",
    "for (p, val) in zip(ax.patches, hist_val):\n",
    "    ax.text(p.get_x() - 0.01, \n",
    "            p.get_height() * 1.02, \n",
    "           '{:1.2f}'.format(val),   \n",
    "            color='black', \n",
    "            rotation='horizontal', \n",
    "            size='medium')\n",
    "plt.legend(loc='upper center', bbox_to_anchor=(0.5, -0.1), fancybox=True, ncol=5)\n",
    "plt.tight_layout()"
   ]
  },
  {
   "cell_type": "markdown",
   "metadata": {},
   "source": [
    "Видно, что CopulaGAN дает вполне приличное качество по всем метрикам."
   ]
  },
  {
   "cell_type": "markdown",
   "metadata": {},
   "source": [
    "# Response function Real component quality"
   ]
  },
  {
   "cell_type": "markdown",
   "metadata": {},
   "source": [
    "Проверим, что использование эмбеддингов не ухудшает качество компоненты Real функции отклика."
   ]
  },
  {
   "cell_type": "markdown",
   "metadata": {},
   "source": [
    "# Logistic Regression"
   ]
  },
  {
   "cell_type": "code",
   "execution_count": 12,
   "metadata": {},
   "outputs": [
    {
     "name": "stderr",
     "output_type": "stream",
     "text": [
      "                                                                                \r"
     ]
    },
    {
     "name": "stdout",
     "output_type": "stream",
     "text": [
      "Fitting of logistic regression: \n",
      "162.77151155471802\n"
     ]
    }
   ],
   "source": [
    "va = VectorAssembler(\n",
    "    inputCols=pca_users.columns[1:] + ITEMS_FEATURES,\n",
    "    outputCol='features'\n",
    ")\n",
    "\n",
    "lr = LogisticRegression(\n",
    "    featuresCol='features',\n",
    "    labelCol='relevance',\n",
    "    probabilityCol='__lr_prob'\n",
    ")\n",
    "\n",
    "train_df = log_df_val.join(pca_users, 'user_idx', 'left')\\\n",
    "                     .join(items_df_train, 'item_idx', 'left')\\\n",
    "                     .drop('timestamp')\n",
    "train_df = train_df.na.drop()\n",
    "\n",
    "start = time.time()\n",
    "lr_model = lr.fit(va.transform(train_df))\n",
    "end = time.time()\n",
    "print(\"Fitting of logistic regression: \")\n",
    "print(end - start)"
   ]
  },
  {
   "cell_type": "code",
   "execution_count": 13,
   "metadata": {},
   "outputs": [],
   "source": [
    "vee = VectorElementExtractor(inputCol='__lr_prob', outputCol='__r1', index=1)\n",
    "br = BernoulliResponse (inputCol='__r1', outputCol='response', seed=1234)\n",
    "pipeline = Pipeline(\n",
    "    stages=[\n",
    "        va,\n",
    "        lr_model,\n",
    "        vee,\n",
    "        br\n",
    "    ]\n",
    ")"
   ]
  },
  {
   "cell_type": "code",
   "execution_count": 14,
   "metadata": {},
   "outputs": [],
   "source": [
    "test_df = log_df_test.join(pca_users_val, 'user_idx', 'left')\\\n",
    "                     .join(items_df_val, 'item_idx', 'left')\\\n",
    "                     .drop('timestamp')\n",
    "test_df = test_df.na.drop()"
   ]
  },
  {
   "cell_type": "code",
   "execution_count": 15,
   "metadata": {},
   "outputs": [
    {
     "name": "stdout",
     "output_type": "stream",
     "text": [
      "Pipeline fitting: \n",
      "0.003083467483520508\n"
     ]
    },
    {
     "name": "stderr",
     "output_type": "stream",
     "text": [
      "                                                                                \r"
     ]
    }
   ],
   "source": [
    "start = time.time()\n",
    "ber_lr_model = pipeline.fit(train_df)\n",
    "end = time.time()\n",
    "print(\"Pipeline fitting: \")\n",
    "print(end - start)\n",
    "pred_df = ber_lr_model.transform(test_df).select(\"user_idx\", \"item_idx\", \"relevance\", \"__r1\").toPandas()"
   ]
  },
  {
   "cell_type": "code",
   "execution_count": 16,
   "metadata": {},
   "outputs": [
    {
     "name": "stdout",
     "output_type": "stream",
     "text": [
      "Regression ROC AUC: 0.7034078193581302\n"
     ]
    }
   ],
   "source": [
    "print(f\"Regression ROC AUC: {roc_auc_score(pred_df.relevance, pred_df.__r1)}\")"
   ]
  },
  {
   "cell_type": "markdown",
   "metadata": {},
   "source": [
    "# Random forest"
   ]
  },
  {
   "cell_type": "code",
   "execution_count": 17,
   "metadata": {},
   "outputs": [
    {
     "name": "stderr",
     "output_type": "stream",
     "text": [
      "                                                                                \r"
     ]
    },
    {
     "name": "stdout",
     "output_type": "stream",
     "text": [
      "Fitting of random forest: \n",
      "221.1154909133911\n"
     ]
    }
   ],
   "source": [
    "rf = RandomForestClassifier(\n",
    "    featuresCol='features',\n",
    "    labelCol='relevance',\n",
    "    probabilityCol='__rf_prob'\n",
    ")\n",
    "\n",
    "start = time.time()\n",
    "rf_model = rf.fit(va.transform(train_df))\n",
    "end = time.time()\n",
    "print(\"Fitting of random forest: \")\n",
    "print(end - start)"
   ]
  },
  {
   "cell_type": "code",
   "execution_count": 18,
   "metadata": {},
   "outputs": [],
   "source": [
    "vee = VectorElementExtractor(inputCol='__rf_prob', outputCol='__r1', index=1)\n",
    "br = BernoulliResponse(inputCol='__r1', outputCol='response', seed=1234)\n",
    "pipeline = Pipeline(\n",
    "    stages=[\n",
    "        va,\n",
    "        rf_model,\n",
    "        vee,\n",
    "        br\n",
    "    ]\n",
    ")"
   ]
  },
  {
   "cell_type": "code",
   "execution_count": 19,
   "metadata": {},
   "outputs": [
    {
     "name": "stdout",
     "output_type": "stream",
     "text": [
      "Pipeline fitting: \n",
      "0.001392364501953125\n"
     ]
    },
    {
     "name": "stderr",
     "output_type": "stream",
     "text": [
      "                                                                                \r"
     ]
    }
   ],
   "source": [
    "start = time.time()\n",
    "ber_rf_model = pipeline.fit(train_df)\n",
    "end = time.time()\n",
    "print(\"Pipeline fitting: \")\n",
    "print(end - start)\n",
    "pred_df = ber_rf_model.transform(test_df).select(\"user_idx\", \"item_idx\", \"relevance\", \"__r1\").toPandas()"
   ]
  },
  {
   "cell_type": "code",
   "execution_count": 20,
   "metadata": {},
   "outputs": [
    {
     "name": "stdout",
     "output_type": "stream",
     "text": [
      "Random forest ROC AUC: 0.654858320485635\n"
     ]
    }
   ],
   "source": [
    "print(f\"Random forest ROC AUC: {roc_auc_score(pred_df.relevance, pred_df.__r1)}\")"
   ]
  },
  {
   "cell_type": "markdown",
   "metadata": {},
   "source": [
    "Оказалось, что при использовании эмбеддингов PCA качество компоненты Real примерно такое же, что в случае исходных фич."
   ]
  },
  {
   "cell_type": "markdown",
   "metadata": {},
   "source": [
    "# Non-negative ALS"
   ]
  },
  {
   "cell_type": "markdown",
   "metadata": {},
   "source": [
    "Проделаем те же самые эксперименты с другим методом генерации эмбеддингов."
   ]
  },
  {
   "cell_type": "code",
   "execution_count": 35,
   "metadata": {},
   "outputs": [],
   "source": [
    "log_df_train = log_df_train.withColumnRenamed('user_idx', 'user')\n",
    "log_df_train = log_df_train.withColumnRenamed('item_idx', 'item')\n",
    "log_df_train = log_df_train.withColumnRenamed('relevance', 'rating')"
   ]
  },
  {
   "cell_type": "code",
   "execution_count": 36,
   "metadata": {},
   "outputs": [
    {
     "name": "stderr",
     "output_type": "stream",
     "text": [
      "[Stage 4809:============================================>          (8 + 2) / 10]\r"
     ]
    },
    {
     "name": "stdout",
     "output_type": "stream",
     "text": [
      "Fitting of ALS: \n",
      "217.14171171188354\n"
     ]
    },
    {
     "name": "stderr",
     "output_type": "stream",
     "text": [
      "                                                                                \r"
     ]
    }
   ],
   "source": [
    "als = ALS(rank=15, maxIter=10, seed=0, nonnegative = True)\n",
    "start = time.time()\n",
    "model = als.fit(log_df_train.select([\"user\", \"item\", \"rating\"]))\n",
    "end = time.time()\n",
    "print(\"Fitting of ALS: \")\n",
    "print(end - start)"
   ]
  },
  {
   "cell_type": "code",
   "execution_count": 37,
   "metadata": {},
   "outputs": [
    {
     "name": "stderr",
     "output_type": "stream",
     "text": [
      "                                                                                \r"
     ]
    },
    {
     "data": {
      "text/html": [
       "<div>\n",
       "<style scoped>\n",
       "    .dataframe tbody tr th:only-of-type {\n",
       "        vertical-align: middle;\n",
       "    }\n",
       "\n",
       "    .dataframe tbody tr th {\n",
       "        vertical-align: top;\n",
       "    }\n",
       "\n",
       "    .dataframe thead th {\n",
       "        text-align: right;\n",
       "    }\n",
       "</style>\n",
       "<table border=\"1\" class=\"dataframe\">\n",
       "  <thead>\n",
       "    <tr style=\"text-align: right;\">\n",
       "      <th></th>\n",
       "      <th>id</th>\n",
       "      <th>user_feature[0]</th>\n",
       "      <th>user_feature[1]</th>\n",
       "      <th>user_feature[2]</th>\n",
       "      <th>user_feature[3]</th>\n",
       "      <th>user_feature[4]</th>\n",
       "      <th>user_feature[5]</th>\n",
       "      <th>user_feature[6]</th>\n",
       "      <th>user_feature[7]</th>\n",
       "      <th>user_feature[8]</th>\n",
       "      <th>user_feature[9]</th>\n",
       "      <th>user_feature[10]</th>\n",
       "      <th>user_feature[11]</th>\n",
       "      <th>user_feature[12]</th>\n",
       "      <th>user_feature[13]</th>\n",
       "      <th>user_feature[14]</th>\n",
       "    </tr>\n",
       "  </thead>\n",
       "  <tbody>\n",
       "    <tr>\n",
       "      <th>0</th>\n",
       "      <td>2383</td>\n",
       "      <td>0.000000</td>\n",
       "      <td>0.000000</td>\n",
       "      <td>0.000000</td>\n",
       "      <td>0.000000</td>\n",
       "      <td>0.000000</td>\n",
       "      <td>0.000000</td>\n",
       "      <td>0.000000</td>\n",
       "      <td>0.000000</td>\n",
       "      <td>0.000000</td>\n",
       "      <td>0.000000</td>\n",
       "      <td>0.000000</td>\n",
       "      <td>0.000000</td>\n",
       "      <td>0.000000</td>\n",
       "      <td>0.000000</td>\n",
       "      <td>0.000000</td>\n",
       "    </tr>\n",
       "    <tr>\n",
       "      <th>1</th>\n",
       "      <td>2385</td>\n",
       "      <td>0.245534</td>\n",
       "      <td>0.172440</td>\n",
       "      <td>0.344327</td>\n",
       "      <td>0.200965</td>\n",
       "      <td>0.146040</td>\n",
       "      <td>0.327830</td>\n",
       "      <td>0.187076</td>\n",
       "      <td>0.275170</td>\n",
       "      <td>0.300525</td>\n",
       "      <td>0.269674</td>\n",
       "      <td>0.193302</td>\n",
       "      <td>0.245313</td>\n",
       "      <td>0.185434</td>\n",
       "      <td>0.171727</td>\n",
       "      <td>0.135572</td>\n",
       "    </tr>\n",
       "    <tr>\n",
       "      <th>2</th>\n",
       "      <td>2390</td>\n",
       "      <td>0.251908</td>\n",
       "      <td>0.207670</td>\n",
       "      <td>0.247288</td>\n",
       "      <td>0.282505</td>\n",
       "      <td>0.208803</td>\n",
       "      <td>0.078348</td>\n",
       "      <td>0.221029</td>\n",
       "      <td>0.291001</td>\n",
       "      <td>0.277436</td>\n",
       "      <td>0.171312</td>\n",
       "      <td>0.237023</td>\n",
       "      <td>0.275307</td>\n",
       "      <td>0.294408</td>\n",
       "      <td>0.278260</td>\n",
       "      <td>0.272838</td>\n",
       "    </tr>\n",
       "    <tr>\n",
       "      <th>3</th>\n",
       "      <td>2392</td>\n",
       "      <td>0.186774</td>\n",
       "      <td>0.257921</td>\n",
       "      <td>0.201331</td>\n",
       "      <td>0.246305</td>\n",
       "      <td>0.159625</td>\n",
       "      <td>0.176895</td>\n",
       "      <td>0.194542</td>\n",
       "      <td>0.220106</td>\n",
       "      <td>0.197501</td>\n",
       "      <td>0.360084</td>\n",
       "      <td>0.193724</td>\n",
       "      <td>0.170992</td>\n",
       "      <td>0.267877</td>\n",
       "      <td>0.421415</td>\n",
       "      <td>0.309787</td>\n",
       "    </tr>\n",
       "    <tr>\n",
       "      <th>4</th>\n",
       "      <td>2395</td>\n",
       "      <td>0.246700</td>\n",
       "      <td>0.208987</td>\n",
       "      <td>0.278949</td>\n",
       "      <td>0.202035</td>\n",
       "      <td>0.292729</td>\n",
       "      <td>0.274730</td>\n",
       "      <td>0.300689</td>\n",
       "      <td>0.261377</td>\n",
       "      <td>0.285108</td>\n",
       "      <td>0.258784</td>\n",
       "      <td>0.195615</td>\n",
       "      <td>0.210507</td>\n",
       "      <td>0.206208</td>\n",
       "      <td>0.176201</td>\n",
       "      <td>0.254942</td>\n",
       "    </tr>\n",
       "    <tr>\n",
       "      <th>...</th>\n",
       "      <td>...</td>\n",
       "      <td>...</td>\n",
       "      <td>...</td>\n",
       "      <td>...</td>\n",
       "      <td>...</td>\n",
       "      <td>...</td>\n",
       "      <td>...</td>\n",
       "      <td>...</td>\n",
       "      <td>...</td>\n",
       "      <td>...</td>\n",
       "      <td>...</td>\n",
       "      <td>...</td>\n",
       "      <td>...</td>\n",
       "      <td>...</td>\n",
       "      <td>...</td>\n",
       "      <td>...</td>\n",
       "    </tr>\n",
       "    <tr>\n",
       "      <th>2463375</th>\n",
       "      <td>6643662</td>\n",
       "      <td>0.281950</td>\n",
       "      <td>0.000000</td>\n",
       "      <td>0.126189</td>\n",
       "      <td>0.369250</td>\n",
       "      <td>0.000000</td>\n",
       "      <td>0.312394</td>\n",
       "      <td>0.000000</td>\n",
       "      <td>0.409704</td>\n",
       "      <td>0.043337</td>\n",
       "      <td>0.135041</td>\n",
       "      <td>0.000000</td>\n",
       "      <td>0.000000</td>\n",
       "      <td>0.563691</td>\n",
       "      <td>0.230912</td>\n",
       "      <td>0.076006</td>\n",
       "    </tr>\n",
       "    <tr>\n",
       "      <th>2463376</th>\n",
       "      <td>6643663</td>\n",
       "      <td>0.250640</td>\n",
       "      <td>0.239879</td>\n",
       "      <td>0.192922</td>\n",
       "      <td>0.208241</td>\n",
       "      <td>0.054838</td>\n",
       "      <td>0.285122</td>\n",
       "      <td>0.154413</td>\n",
       "      <td>0.139436</td>\n",
       "      <td>0.181964</td>\n",
       "      <td>0.271455</td>\n",
       "      <td>0.141526</td>\n",
       "      <td>0.176288</td>\n",
       "      <td>0.285867</td>\n",
       "      <td>0.215032</td>\n",
       "      <td>0.287565</td>\n",
       "    </tr>\n",
       "    <tr>\n",
       "      <th>2463377</th>\n",
       "      <td>6643664</td>\n",
       "      <td>0.000000</td>\n",
       "      <td>0.206310</td>\n",
       "      <td>0.118919</td>\n",
       "      <td>0.000000</td>\n",
       "      <td>0.300441</td>\n",
       "      <td>0.581755</td>\n",
       "      <td>0.000000</td>\n",
       "      <td>0.000000</td>\n",
       "      <td>0.013241</td>\n",
       "      <td>0.156436</td>\n",
       "      <td>0.000000</td>\n",
       "      <td>0.258774</td>\n",
       "      <td>0.073263</td>\n",
       "      <td>0.554780</td>\n",
       "      <td>0.000000</td>\n",
       "    </tr>\n",
       "    <tr>\n",
       "      <th>2463378</th>\n",
       "      <td>6643666</td>\n",
       "      <td>0.000000</td>\n",
       "      <td>0.335162</td>\n",
       "      <td>0.081699</td>\n",
       "      <td>0.000000</td>\n",
       "      <td>0.561159</td>\n",
       "      <td>0.000000</td>\n",
       "      <td>0.000000</td>\n",
       "      <td>0.234718</td>\n",
       "      <td>0.125929</td>\n",
       "      <td>0.000000</td>\n",
       "      <td>0.445215</td>\n",
       "      <td>0.000000</td>\n",
       "      <td>0.132593</td>\n",
       "      <td>0.421750</td>\n",
       "      <td>0.011664</td>\n",
       "    </tr>\n",
       "    <tr>\n",
       "      <th>2463379</th>\n",
       "      <td>6643667</td>\n",
       "      <td>0.091298</td>\n",
       "      <td>0.168752</td>\n",
       "      <td>0.045057</td>\n",
       "      <td>0.414712</td>\n",
       "      <td>0.000000</td>\n",
       "      <td>0.385765</td>\n",
       "      <td>0.112744</td>\n",
       "      <td>0.000000</td>\n",
       "      <td>0.121969</td>\n",
       "      <td>0.097889</td>\n",
       "      <td>0.523608</td>\n",
       "      <td>0.190203</td>\n",
       "      <td>0.411010</td>\n",
       "      <td>0.133933</td>\n",
       "      <td>0.000000</td>\n",
       "    </tr>\n",
       "  </tbody>\n",
       "</table>\n",
       "<p>2463380 rows × 16 columns</p>\n",
       "</div>"
      ],
      "text/plain": [
       "              id  user_feature[0]  user_feature[1]  user_feature[2]  \\\n",
       "0           2383         0.000000         0.000000         0.000000   \n",
       "1           2385         0.245534         0.172440         0.344327   \n",
       "2           2390         0.251908         0.207670         0.247288   \n",
       "3           2392         0.186774         0.257921         0.201331   \n",
       "4           2395         0.246700         0.208987         0.278949   \n",
       "...          ...              ...              ...              ...   \n",
       "2463375  6643662         0.281950         0.000000         0.126189   \n",
       "2463376  6643663         0.250640         0.239879         0.192922   \n",
       "2463377  6643664         0.000000         0.206310         0.118919   \n",
       "2463378  6643666         0.000000         0.335162         0.081699   \n",
       "2463379  6643667         0.091298         0.168752         0.045057   \n",
       "\n",
       "         user_feature[3]  user_feature[4]  user_feature[5]  user_feature[6]  \\\n",
       "0               0.000000         0.000000         0.000000         0.000000   \n",
       "1               0.200965         0.146040         0.327830         0.187076   \n",
       "2               0.282505         0.208803         0.078348         0.221029   \n",
       "3               0.246305         0.159625         0.176895         0.194542   \n",
       "4               0.202035         0.292729         0.274730         0.300689   \n",
       "...                  ...              ...              ...              ...   \n",
       "2463375         0.369250         0.000000         0.312394         0.000000   \n",
       "2463376         0.208241         0.054838         0.285122         0.154413   \n",
       "2463377         0.000000         0.300441         0.581755         0.000000   \n",
       "2463378         0.000000         0.561159         0.000000         0.000000   \n",
       "2463379         0.414712         0.000000         0.385765         0.112744   \n",
       "\n",
       "         user_feature[7]  user_feature[8]  user_feature[9]  user_feature[10]  \\\n",
       "0               0.000000         0.000000         0.000000          0.000000   \n",
       "1               0.275170         0.300525         0.269674          0.193302   \n",
       "2               0.291001         0.277436         0.171312          0.237023   \n",
       "3               0.220106         0.197501         0.360084          0.193724   \n",
       "4               0.261377         0.285108         0.258784          0.195615   \n",
       "...                  ...              ...              ...               ...   \n",
       "2463375         0.409704         0.043337         0.135041          0.000000   \n",
       "2463376         0.139436         0.181964         0.271455          0.141526   \n",
       "2463377         0.000000         0.013241         0.156436          0.000000   \n",
       "2463378         0.234718         0.125929         0.000000          0.445215   \n",
       "2463379         0.000000         0.121969         0.097889          0.523608   \n",
       "\n",
       "         user_feature[11]  user_feature[12]  user_feature[13]  \\\n",
       "0                0.000000          0.000000          0.000000   \n",
       "1                0.245313          0.185434          0.171727   \n",
       "2                0.275307          0.294408          0.278260   \n",
       "3                0.170992          0.267877          0.421415   \n",
       "4                0.210507          0.206208          0.176201   \n",
       "...                   ...               ...               ...   \n",
       "2463375          0.000000          0.563691          0.230912   \n",
       "2463376          0.176288          0.285867          0.215032   \n",
       "2463377          0.258774          0.073263          0.554780   \n",
       "2463378          0.000000          0.132593          0.421750   \n",
       "2463379          0.190203          0.411010          0.133933   \n",
       "\n",
       "         user_feature[14]  \n",
       "0                0.000000  \n",
       "1                0.135572  \n",
       "2                0.272838  \n",
       "3                0.309787  \n",
       "4                0.254942  \n",
       "...                   ...  \n",
       "2463375          0.076006  \n",
       "2463376          0.287565  \n",
       "2463377          0.000000  \n",
       "2463378          0.011664  \n",
       "2463379          0.000000  \n",
       "\n",
       "[2463380 rows x 16 columns]"
      ]
     },
     "execution_count": 37,
     "metadata": {},
     "output_type": "execute_result"
    }
   ],
   "source": [
    "user_features = model.userFactors.orderBy(\"id\")\n",
    "user_features = (user_features.withColumn('user_feature', col('features'))).select(['id'] + [col('user_feature')[i] for i in range(15)])\n",
    "user_features.toPandas()"
   ]
  },
  {
   "cell_type": "code",
   "execution_count": 38,
   "metadata": {},
   "outputs": [],
   "source": [
    "log_df_val = log_df_val.withColumnRenamed('user_idx', 'user')\n",
    "log_df_val = log_df_val.withColumnRenamed('item_idx', 'item')\n",
    "log_df_val = log_df_val.withColumnRenamed('relevance', 'rating')"
   ]
  },
  {
   "cell_type": "code",
   "execution_count": 39,
   "metadata": {},
   "outputs": [
    {
     "name": "stderr",
     "output_type": "stream",
     "text": [
      "[Stage 4940:============================================>          (8 + 2) / 10]\r"
     ]
    },
    {
     "name": "stdout",
     "output_type": "stream",
     "text": [
      "Fitting of ALS: \n",
      "133.6954460144043\n"
     ]
    },
    {
     "name": "stderr",
     "output_type": "stream",
     "text": [
      "                                                                                \r"
     ]
    }
   ],
   "source": [
    "start = time.time()\n",
    "model_val = als.fit(log_df_val.select([\"user\", \"item\", \"rating\"]))\n",
    "end = time.time()\n",
    "print(\"Fitting of ALS: \")\n",
    "print(end - start)\n",
    "user_features_val = model_val.userFactors.orderBy(\"id\")\n",
    "user_features_val = (user_features_val.withColumn('user_feature', col('features'))).select(['id'] + [col('user_feature')[i] for i in range(15)])"
   ]
  },
  {
   "cell_type": "code",
   "execution_count": 40,
   "metadata": {},
   "outputs": [],
   "source": [
    "log_df_train = log_df_train.withColumnRenamed('user', 'user_idx')\n",
    "log_df_train = log_df_train.withColumnRenamed('item', 'item_idx')\n",
    "log_df_train = log_df_train.withColumnRenamed('rating', 'relevance')\n",
    "\n",
    "log_df_val = log_df_val.withColumnRenamed('user', 'user_idx')\n",
    "log_df_val = log_df_val.withColumnRenamed('item', 'item_idx')\n",
    "log_df_val = log_df_val.withColumnRenamed('rating', 'relevance')"
   ]
  },
  {
   "cell_type": "markdown",
   "metadata": {},
   "source": [
    "# Generators quality with ALS"
   ]
  },
  {
   "cell_type": "markdown",
   "metadata": {},
   "source": [
    "# GaussianCopula"
   ]
  },
  {
   "cell_type": "code",
   "execution_count": 58,
   "metadata": {},
   "outputs": [
    {
     "name": "stderr",
     "output_type": "stream",
     "text": [
      "                                                                                \r"
     ]
    },
    {
     "name": "stdout",
     "output_type": "stream",
     "text": [
      "Fitting of GaussianCopula on NMF embeddings: \n",
      "6.25581955909729\n"
     ]
    }
   ],
   "source": [
    "generator_1 = SDVDataGenerator(\n",
    "    label='synth',\n",
    "    id_column_name='user_id',\n",
    "    model_name='gaussiancopula',\n",
    "    parallelization_level=4,\n",
    "    device_name='cpu',\n",
    "    seed=1234\n",
    ")\n",
    "\n",
    "start = time.time()\n",
    "generator_1.fit(user_features.drop('id').sample(USER_GENERATOR_FRAC))\n",
    "end = time.time()\n",
    "print(\"Fitting of GaussianCopula on NMF embeddings: \")\n",
    "print(end - start)"
   ]
  },
  {
   "cell_type": "code",
   "execution_count": 59,
   "metadata": {},
   "outputs": [
    {
     "name": "stderr",
     "output_type": "stream",
     "text": [
      "                                                                                \r"
     ]
    }
   ],
   "source": [
    "real_users = user_features.sample(USER_GENERATOR_FRAC)\n",
    "syn_users = generator_1.generate(real_users.count())\n",
    "gen_score = evaluate_synthetic(\n",
    "    syn_users.drop('user_id'),\n",
    "    real_users.drop('id')\n",
    ")"
   ]
  },
  {
   "cell_type": "code",
   "execution_count": 60,
   "metadata": {},
   "outputs": [
    {
     "data": {
      "text/plain": [
       "{'LogisticDetection': 0.6727182924515471,\n",
       " 'SVCDetection': 0.049607051532405966,\n",
       " 'KSTest': 0.7916596951294133,\n",
       " 'ContinuousKLDivergence': 0.7743578382331898}"
      ]
     },
     "execution_count": 60,
     "metadata": {},
     "output_type": "execute_result"
    }
   ],
   "source": [
    "gen_score"
   ]
  },
  {
   "cell_type": "code",
   "execution_count": 61,
   "metadata": {},
   "outputs": [
    {
     "data": {
      "text/html": [
       "<div>\n",
       "<style scoped>\n",
       "    .dataframe tbody tr th:only-of-type {\n",
       "        vertical-align: middle;\n",
       "    }\n",
       "\n",
       "    .dataframe tbody tr th {\n",
       "        vertical-align: top;\n",
       "    }\n",
       "\n",
       "    .dataframe thead th {\n",
       "        text-align: right;\n",
       "    }\n",
       "</style>\n",
       "<table border=\"1\" class=\"dataframe\">\n",
       "  <thead>\n",
       "    <tr style=\"text-align: right;\">\n",
       "      <th></th>\n",
       "      <th>Model_name</th>\n",
       "      <th>Metric_score</th>\n",
       "      <th>Metric_name</th>\n",
       "    </tr>\n",
       "  </thead>\n",
       "  <tbody>\n",
       "    <tr>\n",
       "      <th>0</th>\n",
       "      <td>GaussianCopula</td>\n",
       "      <td>0.672718</td>\n",
       "      <td>LogisticDetection</td>\n",
       "    </tr>\n",
       "    <tr>\n",
       "      <th>1</th>\n",
       "      <td>GaussianCopula</td>\n",
       "      <td>0.049607</td>\n",
       "      <td>SVCDetection</td>\n",
       "    </tr>\n",
       "    <tr>\n",
       "      <th>2</th>\n",
       "      <td>GaussianCopula</td>\n",
       "      <td>0.791660</td>\n",
       "      <td>KSTest</td>\n",
       "    </tr>\n",
       "    <tr>\n",
       "      <th>3</th>\n",
       "      <td>GaussianCopula</td>\n",
       "      <td>0.774358</td>\n",
       "      <td>ContinuousKLDivergence</td>\n",
       "    </tr>\n",
       "  </tbody>\n",
       "</table>\n",
       "</div>"
      ],
      "text/plain": [
       "       Model_name  Metric_score             Metric_name\n",
       "0  GaussianCopula      0.672718       LogisticDetection\n",
       "1  GaussianCopula      0.049607            SVCDetection\n",
       "2  GaussianCopula      0.791660                  KSTest\n",
       "3  GaussianCopula      0.774358  ContinuousKLDivergence"
      ]
     },
     "execution_count": 61,
     "metadata": {},
     "output_type": "execute_result"
    }
   ],
   "source": [
    "gen_result = pd.DataFrame(index = np.arange(4))\n",
    "gen_result['Model_name'] = 'GaussianCopula'\n",
    "gen_result['Metric_score'] = [v for k, v in gen_score.items()]\n",
    "gen_result['Metric_name'] = [k for k, v in gen_score.items()]\n",
    "\n",
    "gen_result_df_nmf = pd.DataFrame()\n",
    "gen_result_df_nmf = pd.concat([gen_result_df_nmf, gen_result])\n",
    "gen_result_df_nmf"
   ]
  },
  {
   "cell_type": "markdown",
   "metadata": {},
   "source": [
    "# CTGAN"
   ]
  },
  {
   "cell_type": "code",
   "execution_count": 62,
   "metadata": {},
   "outputs": [
    {
     "name": "stderr",
     "output_type": "stream",
     "text": [
      "                                                                                \r"
     ]
    },
    {
     "name": "stdout",
     "output_type": "stream",
     "text": [
      "Fitting of CTGAN on NMF embeddings: \n",
      "6652.749155282974\n"
     ]
    }
   ],
   "source": [
    "generator_2 = SDVDataGenerator(\n",
    "    label='synth',\n",
    "    id_column_name='user_id',\n",
    "    model_name='ctgan',\n",
    "    parallelization_level=4,\n",
    "    device_name='cpu',\n",
    "    seed=1234\n",
    ")\n",
    "\n",
    "start = time.time()\n",
    "generator_2.fit(user_features.drop('id').sample(USER_GENERATOR_FRAC))\n",
    "end = time.time()\n",
    "print(\"Fitting of CTGAN on NMF embeddings: \")\n",
    "print(end - start)"
   ]
  },
  {
   "cell_type": "code",
   "execution_count": 63,
   "metadata": {},
   "outputs": [
    {
     "name": "stderr",
     "output_type": "stream",
     "text": [
      "                                                                                \r"
     ]
    }
   ],
   "source": [
    "real_users = user_features.sample(USER_GENERATOR_FRAC)\n",
    "syn_users = generator_2.generate(real_users.count())\n",
    "gen_score = evaluate_synthetic(\n",
    "    syn_users.drop('user_id'),\n",
    "    real_users.drop('id')\n",
    ")"
   ]
  },
  {
   "cell_type": "code",
   "execution_count": 64,
   "metadata": {},
   "outputs": [
    {
     "data": {
      "text/plain": [
       "{'LogisticDetection': 0.6299084624889948,\n",
       " 'SVCDetection': 0.2721343397638917,\n",
       " 'KSTest': 0.8876131738906519,\n",
       " 'ContinuousKLDivergence': 0.928989422128462}"
      ]
     },
     "execution_count": 64,
     "metadata": {},
     "output_type": "execute_result"
    }
   ],
   "source": [
    "gen_score"
   ]
  },
  {
   "cell_type": "code",
   "execution_count": 65,
   "metadata": {},
   "outputs": [
    {
     "data": {
      "text/html": [
       "<div>\n",
       "<style scoped>\n",
       "    .dataframe tbody tr th:only-of-type {\n",
       "        vertical-align: middle;\n",
       "    }\n",
       "\n",
       "    .dataframe tbody tr th {\n",
       "        vertical-align: top;\n",
       "    }\n",
       "\n",
       "    .dataframe thead th {\n",
       "        text-align: right;\n",
       "    }\n",
       "</style>\n",
       "<table border=\"1\" class=\"dataframe\">\n",
       "  <thead>\n",
       "    <tr style=\"text-align: right;\">\n",
       "      <th></th>\n",
       "      <th>Model_name</th>\n",
       "      <th>Metric_score</th>\n",
       "      <th>Metric_name</th>\n",
       "    </tr>\n",
       "  </thead>\n",
       "  <tbody>\n",
       "    <tr>\n",
       "      <th>0</th>\n",
       "      <td>GaussianCopula</td>\n",
       "      <td>0.672718</td>\n",
       "      <td>LogisticDetection</td>\n",
       "    </tr>\n",
       "    <tr>\n",
       "      <th>1</th>\n",
       "      <td>GaussianCopula</td>\n",
       "      <td>0.049607</td>\n",
       "      <td>SVCDetection</td>\n",
       "    </tr>\n",
       "    <tr>\n",
       "      <th>2</th>\n",
       "      <td>GaussianCopula</td>\n",
       "      <td>0.791660</td>\n",
       "      <td>KSTest</td>\n",
       "    </tr>\n",
       "    <tr>\n",
       "      <th>3</th>\n",
       "      <td>GaussianCopula</td>\n",
       "      <td>0.774358</td>\n",
       "      <td>ContinuousKLDivergence</td>\n",
       "    </tr>\n",
       "    <tr>\n",
       "      <th>0</th>\n",
       "      <td>CTGAN</td>\n",
       "      <td>0.629908</td>\n",
       "      <td>LogisticDetection</td>\n",
       "    </tr>\n",
       "    <tr>\n",
       "      <th>1</th>\n",
       "      <td>CTGAN</td>\n",
       "      <td>0.272134</td>\n",
       "      <td>SVCDetection</td>\n",
       "    </tr>\n",
       "    <tr>\n",
       "      <th>2</th>\n",
       "      <td>CTGAN</td>\n",
       "      <td>0.887613</td>\n",
       "      <td>KSTest</td>\n",
       "    </tr>\n",
       "    <tr>\n",
       "      <th>3</th>\n",
       "      <td>CTGAN</td>\n",
       "      <td>0.928989</td>\n",
       "      <td>ContinuousKLDivergence</td>\n",
       "    </tr>\n",
       "  </tbody>\n",
       "</table>\n",
       "</div>"
      ],
      "text/plain": [
       "       Model_name  Metric_score             Metric_name\n",
       "0  GaussianCopula      0.672718       LogisticDetection\n",
       "1  GaussianCopula      0.049607            SVCDetection\n",
       "2  GaussianCopula      0.791660                  KSTest\n",
       "3  GaussianCopula      0.774358  ContinuousKLDivergence\n",
       "0           CTGAN      0.629908       LogisticDetection\n",
       "1           CTGAN      0.272134            SVCDetection\n",
       "2           CTGAN      0.887613                  KSTest\n",
       "3           CTGAN      0.928989  ContinuousKLDivergence"
      ]
     },
     "execution_count": 65,
     "metadata": {},
     "output_type": "execute_result"
    }
   ],
   "source": [
    "gen_result = pd.DataFrame(index = np.arange(4))\n",
    "gen_result['Model_name'] = 'CTGAN'\n",
    "gen_result['Metric_score'] = [v for k, v in gen_score.items()]\n",
    "gen_result['Metric_name'] = [k for k, v in gen_score.items()]\n",
    "\n",
    "gen_result_df_nmf = pd.concat([gen_result_df_nmf, gen_result])\n",
    "gen_result_df_nmf"
   ]
  },
  {
   "cell_type": "markdown",
   "metadata": {},
   "source": [
    "# CopulaGAN"
   ]
  },
  {
   "cell_type": "code",
   "execution_count": 66,
   "metadata": {},
   "outputs": [
    {
     "name": "stderr",
     "output_type": "stream",
     "text": [
      "                                                                                \r"
     ]
    },
    {
     "name": "stdout",
     "output_type": "stream",
     "text": [
      "Fitting of CopulaGAN on non-negative ALS embeddings: \n",
      "7050.286105632782\n"
     ]
    }
   ],
   "source": [
    "generator_3 = SDVDataGenerator(\n",
    "    label='synth',\n",
    "    id_column_name='user_id',\n",
    "    model_name='copulagan',\n",
    "    parallelization_level=4,\n",
    "    device_name='cpu',\n",
    "    seed=1234\n",
    ")\n",
    "\n",
    "start = time.time()\n",
    "generator_3.fit(user_features.drop('id').sample(USER_GENERATOR_FRAC))\n",
    "end = time.time()\n",
    "print(\"Fitting of CopulaGAN on non-negative ALS embeddings: \")\n",
    "print(end - start)"
   ]
  },
  {
   "cell_type": "code",
   "execution_count": 67,
   "metadata": {},
   "outputs": [
    {
     "name": "stderr",
     "output_type": "stream",
     "text": [
      "                                                                                \r"
     ]
    }
   ],
   "source": [
    "real_users = user_features.sample(USER_GENERATOR_FRAC)\n",
    "syn_users = generator_3.generate(real_users.count())\n",
    "gen_score = evaluate_synthetic(\n",
    "    syn_users.drop('user_id'),\n",
    "    real_users.drop('id')\n",
    ")"
   ]
  },
  {
   "cell_type": "code",
   "execution_count": 68,
   "metadata": {},
   "outputs": [
    {
     "data": {
      "text/plain": [
       "{'LogisticDetection': 0.47315122149595534,\n",
       " 'SVCDetection': 0.1717674190077375,\n",
       " 'KSTest': 0.8528850313851325,\n",
       " 'ContinuousKLDivergence': 0.8818845465920642}"
      ]
     },
     "execution_count": 68,
     "metadata": {},
     "output_type": "execute_result"
    }
   ],
   "source": [
    "gen_score"
   ]
  },
  {
   "cell_type": "code",
   "execution_count": 69,
   "metadata": {},
   "outputs": [
    {
     "data": {
      "text/html": [
       "<div>\n",
       "<style scoped>\n",
       "    .dataframe tbody tr th:only-of-type {\n",
       "        vertical-align: middle;\n",
       "    }\n",
       "\n",
       "    .dataframe tbody tr th {\n",
       "        vertical-align: top;\n",
       "    }\n",
       "\n",
       "    .dataframe thead th {\n",
       "        text-align: right;\n",
       "    }\n",
       "</style>\n",
       "<table border=\"1\" class=\"dataframe\">\n",
       "  <thead>\n",
       "    <tr style=\"text-align: right;\">\n",
       "      <th></th>\n",
       "      <th>Model_name</th>\n",
       "      <th>Metric_score</th>\n",
       "      <th>Metric_name</th>\n",
       "    </tr>\n",
       "  </thead>\n",
       "  <tbody>\n",
       "    <tr>\n",
       "      <th>0</th>\n",
       "      <td>GaussianCopula</td>\n",
       "      <td>0.672718</td>\n",
       "      <td>LogisticDetection</td>\n",
       "    </tr>\n",
       "    <tr>\n",
       "      <th>1</th>\n",
       "      <td>GaussianCopula</td>\n",
       "      <td>0.049607</td>\n",
       "      <td>SVCDetection</td>\n",
       "    </tr>\n",
       "    <tr>\n",
       "      <th>2</th>\n",
       "      <td>GaussianCopula</td>\n",
       "      <td>0.791660</td>\n",
       "      <td>KSTest</td>\n",
       "    </tr>\n",
       "    <tr>\n",
       "      <th>3</th>\n",
       "      <td>GaussianCopula</td>\n",
       "      <td>0.774358</td>\n",
       "      <td>ContinuousKLDivergence</td>\n",
       "    </tr>\n",
       "    <tr>\n",
       "      <th>0</th>\n",
       "      <td>CTGAN</td>\n",
       "      <td>0.629908</td>\n",
       "      <td>LogisticDetection</td>\n",
       "    </tr>\n",
       "    <tr>\n",
       "      <th>1</th>\n",
       "      <td>CTGAN</td>\n",
       "      <td>0.272134</td>\n",
       "      <td>SVCDetection</td>\n",
       "    </tr>\n",
       "    <tr>\n",
       "      <th>2</th>\n",
       "      <td>CTGAN</td>\n",
       "      <td>0.887613</td>\n",
       "      <td>KSTest</td>\n",
       "    </tr>\n",
       "    <tr>\n",
       "      <th>3</th>\n",
       "      <td>CTGAN</td>\n",
       "      <td>0.928989</td>\n",
       "      <td>ContinuousKLDivergence</td>\n",
       "    </tr>\n",
       "    <tr>\n",
       "      <th>0</th>\n",
       "      <td>CopulaGAN</td>\n",
       "      <td>0.473151</td>\n",
       "      <td>LogisticDetection</td>\n",
       "    </tr>\n",
       "    <tr>\n",
       "      <th>1</th>\n",
       "      <td>CopulaGAN</td>\n",
       "      <td>0.171767</td>\n",
       "      <td>SVCDetection</td>\n",
       "    </tr>\n",
       "    <tr>\n",
       "      <th>2</th>\n",
       "      <td>CopulaGAN</td>\n",
       "      <td>0.852885</td>\n",
       "      <td>KSTest</td>\n",
       "    </tr>\n",
       "    <tr>\n",
       "      <th>3</th>\n",
       "      <td>CopulaGAN</td>\n",
       "      <td>0.881885</td>\n",
       "      <td>ContinuousKLDivergence</td>\n",
       "    </tr>\n",
       "  </tbody>\n",
       "</table>\n",
       "</div>"
      ],
      "text/plain": [
       "       Model_name  Metric_score             Metric_name\n",
       "0  GaussianCopula      0.672718       LogisticDetection\n",
       "1  GaussianCopula      0.049607            SVCDetection\n",
       "2  GaussianCopula      0.791660                  KSTest\n",
       "3  GaussianCopula      0.774358  ContinuousKLDivergence\n",
       "0           CTGAN      0.629908       LogisticDetection\n",
       "1           CTGAN      0.272134            SVCDetection\n",
       "2           CTGAN      0.887613                  KSTest\n",
       "3           CTGAN      0.928989  ContinuousKLDivergence\n",
       "0       CopulaGAN      0.473151       LogisticDetection\n",
       "1       CopulaGAN      0.171767            SVCDetection\n",
       "2       CopulaGAN      0.852885                  KSTest\n",
       "3       CopulaGAN      0.881885  ContinuousKLDivergence"
      ]
     },
     "execution_count": 69,
     "metadata": {},
     "output_type": "execute_result"
    }
   ],
   "source": [
    "gen_result = pd.DataFrame(index = np.arange(4))\n",
    "gen_result['Model_name'] = 'CopulaGAN'\n",
    "gen_result['Metric_score'] = [v for k, v in gen_score.items()]\n",
    "gen_result['Metric_name'] = [k for k, v in gen_score.items()]\n",
    "\n",
    "gen_result_df_nmf = pd.concat([gen_result_df_nmf, gen_result])\n",
    "gen_result_df_nmf"
   ]
  },
  {
   "cell_type": "markdown",
   "metadata": {},
   "source": [
    "# TVAE"
   ]
  },
  {
   "cell_type": "code",
   "execution_count": 70,
   "metadata": {},
   "outputs": [
    {
     "name": "stderr",
     "output_type": "stream",
     "text": [
      "                                                                                \r"
     ]
    },
    {
     "name": "stdout",
     "output_type": "stream",
     "text": [
      "Fitting of TVAE on non-negative ALS embeddings: \n",
      "3171.737803220749\n"
     ]
    }
   ],
   "source": [
    "generator_4 = SDVDataGenerator(\n",
    "    label='synth',\n",
    "    id_column_name='user_id',\n",
    "    model_name='tvae',\n",
    "    parallelization_level=4,\n",
    "    device_name='cpu',\n",
    "    seed=1234\n",
    ")\n",
    "\n",
    "start = time.time()\n",
    "generator_4.fit(user_features.drop('id').sample(USER_GENERATOR_FRAC))\n",
    "end = time.time()\n",
    "print(\"Fitting of TVAE on non-negative ALS embeddings: \")\n",
    "print(end - start)"
   ]
  },
  {
   "cell_type": "code",
   "execution_count": 71,
   "metadata": {},
   "outputs": [
    {
     "name": "stderr",
     "output_type": "stream",
     "text": [
      "                                                                                \r"
     ]
    }
   ],
   "source": [
    "real_users = user_features.sample(USER_GENERATOR_FRAC)\n",
    "syn_users = generator_4.generate(real_users.count())\n",
    "gen_score = evaluate_synthetic(\n",
    "    syn_users.drop('user_id'),\n",
    "    real_users.drop('id')\n",
    ")"
   ]
  },
  {
   "cell_type": "code",
   "execution_count": 72,
   "metadata": {},
   "outputs": [
    {
     "data": {
      "text/plain": [
       "{'LogisticDetection': 0.6724847238513756,\n",
       " 'SVCDetection': 0.10973090123239704,\n",
       " 'KSTest': 0.8164847347326842,\n",
       " 'ContinuousKLDivergence': 0.7971667636446195}"
      ]
     },
     "execution_count": 72,
     "metadata": {},
     "output_type": "execute_result"
    }
   ],
   "source": [
    "gen_score"
   ]
  },
  {
   "cell_type": "code",
   "execution_count": 73,
   "metadata": {},
   "outputs": [
    {
     "data": {
      "text/html": [
       "<div>\n",
       "<style scoped>\n",
       "    .dataframe tbody tr th:only-of-type {\n",
       "        vertical-align: middle;\n",
       "    }\n",
       "\n",
       "    .dataframe tbody tr th {\n",
       "        vertical-align: top;\n",
       "    }\n",
       "\n",
       "    .dataframe thead th {\n",
       "        text-align: right;\n",
       "    }\n",
       "</style>\n",
       "<table border=\"1\" class=\"dataframe\">\n",
       "  <thead>\n",
       "    <tr style=\"text-align: right;\">\n",
       "      <th></th>\n",
       "      <th>Model_name</th>\n",
       "      <th>Metric_score</th>\n",
       "      <th>Metric_name</th>\n",
       "    </tr>\n",
       "  </thead>\n",
       "  <tbody>\n",
       "    <tr>\n",
       "      <th>0</th>\n",
       "      <td>GaussianCopula</td>\n",
       "      <td>0.672718</td>\n",
       "      <td>LogisticDetection</td>\n",
       "    </tr>\n",
       "    <tr>\n",
       "      <th>1</th>\n",
       "      <td>GaussianCopula</td>\n",
       "      <td>0.049607</td>\n",
       "      <td>SVCDetection</td>\n",
       "    </tr>\n",
       "    <tr>\n",
       "      <th>2</th>\n",
       "      <td>GaussianCopula</td>\n",
       "      <td>0.791660</td>\n",
       "      <td>KSTest</td>\n",
       "    </tr>\n",
       "    <tr>\n",
       "      <th>3</th>\n",
       "      <td>GaussianCopula</td>\n",
       "      <td>0.774358</td>\n",
       "      <td>ContinuousKLDivergence</td>\n",
       "    </tr>\n",
       "    <tr>\n",
       "      <th>0</th>\n",
       "      <td>CTGAN</td>\n",
       "      <td>0.629908</td>\n",
       "      <td>LogisticDetection</td>\n",
       "    </tr>\n",
       "    <tr>\n",
       "      <th>1</th>\n",
       "      <td>CTGAN</td>\n",
       "      <td>0.272134</td>\n",
       "      <td>SVCDetection</td>\n",
       "    </tr>\n",
       "    <tr>\n",
       "      <th>2</th>\n",
       "      <td>CTGAN</td>\n",
       "      <td>0.887613</td>\n",
       "      <td>KSTest</td>\n",
       "    </tr>\n",
       "    <tr>\n",
       "      <th>3</th>\n",
       "      <td>CTGAN</td>\n",
       "      <td>0.928989</td>\n",
       "      <td>ContinuousKLDivergence</td>\n",
       "    </tr>\n",
       "    <tr>\n",
       "      <th>0</th>\n",
       "      <td>CopulaGAN</td>\n",
       "      <td>0.473151</td>\n",
       "      <td>LogisticDetection</td>\n",
       "    </tr>\n",
       "    <tr>\n",
       "      <th>1</th>\n",
       "      <td>CopulaGAN</td>\n",
       "      <td>0.171767</td>\n",
       "      <td>SVCDetection</td>\n",
       "    </tr>\n",
       "    <tr>\n",
       "      <th>2</th>\n",
       "      <td>CopulaGAN</td>\n",
       "      <td>0.852885</td>\n",
       "      <td>KSTest</td>\n",
       "    </tr>\n",
       "    <tr>\n",
       "      <th>3</th>\n",
       "      <td>CopulaGAN</td>\n",
       "      <td>0.881885</td>\n",
       "      <td>ContinuousKLDivergence</td>\n",
       "    </tr>\n",
       "    <tr>\n",
       "      <th>0</th>\n",
       "      <td>TVAE</td>\n",
       "      <td>0.672485</td>\n",
       "      <td>LogisticDetection</td>\n",
       "    </tr>\n",
       "    <tr>\n",
       "      <th>1</th>\n",
       "      <td>TVAE</td>\n",
       "      <td>0.109731</td>\n",
       "      <td>SVCDetection</td>\n",
       "    </tr>\n",
       "    <tr>\n",
       "      <th>2</th>\n",
       "      <td>TVAE</td>\n",
       "      <td>0.816485</td>\n",
       "      <td>KSTest</td>\n",
       "    </tr>\n",
       "    <tr>\n",
       "      <th>3</th>\n",
       "      <td>TVAE</td>\n",
       "      <td>0.797167</td>\n",
       "      <td>ContinuousKLDivergence</td>\n",
       "    </tr>\n",
       "  </tbody>\n",
       "</table>\n",
       "</div>"
      ],
      "text/plain": [
       "       Model_name  Metric_score             Metric_name\n",
       "0  GaussianCopula      0.672718       LogisticDetection\n",
       "1  GaussianCopula      0.049607            SVCDetection\n",
       "2  GaussianCopula      0.791660                  KSTest\n",
       "3  GaussianCopula      0.774358  ContinuousKLDivergence\n",
       "0           CTGAN      0.629908       LogisticDetection\n",
       "1           CTGAN      0.272134            SVCDetection\n",
       "2           CTGAN      0.887613                  KSTest\n",
       "3           CTGAN      0.928989  ContinuousKLDivergence\n",
       "0       CopulaGAN      0.473151       LogisticDetection\n",
       "1       CopulaGAN      0.171767            SVCDetection\n",
       "2       CopulaGAN      0.852885                  KSTest\n",
       "3       CopulaGAN      0.881885  ContinuousKLDivergence\n",
       "0            TVAE      0.672485       LogisticDetection\n",
       "1            TVAE      0.109731            SVCDetection\n",
       "2            TVAE      0.816485                  KSTest\n",
       "3            TVAE      0.797167  ContinuousKLDivergence"
      ]
     },
     "execution_count": 73,
     "metadata": {},
     "output_type": "execute_result"
    }
   ],
   "source": [
    "gen_result = pd.DataFrame(index = np.arange(4))\n",
    "gen_result['Model_name'] = 'TVAE'\n",
    "gen_result['Metric_score'] = [v for k, v in gen_score.items()]\n",
    "gen_result['Metric_name'] = [k for k, v in gen_score.items()]\n",
    "\n",
    "gen_result_df_nmf = pd.concat([gen_result_df_nmf, gen_result])\n",
    "gen_result_df_nmf"
   ]
  },
  {
   "cell_type": "code",
   "execution_count": 74,
   "metadata": {},
   "outputs": [
    {
     "data": {
      "image/png": "[encoded data removed]",
      "text/plain": [
       "<Figure size 1600x800 with 1 Axes>"
      ]
     },
     "metadata": {},
     "output_type": "display_data"
    }
   ],
   "source": [
    "rcParams['figure.figsize'] = (3, 3)\n",
    "matplotlib.rc('xtick', labelsize=15) \n",
    "matplotlib.rc('ytick', labelsize=15)\n",
    "sns.set(font_scale=1.8) \n",
    "plot = sns.catplot(data=gen_result_df_nmf, x=\"Metric_name\", y=\"Metric_score\", hue=\"Model_name\", kind=\"bar\", aspect=2, height=8, palette=[\n",
    "    \"C1\", \"C2\", \"C0\", \"C3\", \"C4\"\n",
    "], legend=False)\n",
    "ax = plot.facet_axis(0,0)\n",
    "hist_val = create_hist_values(gen_result_df_nmf)\n",
    "for (p, val) in zip(ax.patches, hist_val):\n",
    "    ax.text(p.get_x() - 0.01, \n",
    "            p.get_height() * 1.02, \n",
    "           '{:1.2f}'.format(val),   \n",
    "            color='black', \n",
    "            rotation='horizontal', \n",
    "            size='medium')\n",
    "plt.legend(loc='upper center', bbox_to_anchor=(0.5, -0.1), fancybox=True, ncol=5)\n",
    "plt.tight_layout()"
   ]
  },
  {
   "cell_type": "markdown",
   "metadata": {},
   "source": [
    "# Response function Real component quality"
   ]
  },
  {
   "cell_type": "markdown",
   "metadata": {},
   "source": [
    "# Logistic Regression"
   ]
  },
  {
   "cell_type": "code",
   "execution_count": 41,
   "metadata": {},
   "outputs": [
    {
     "name": "stderr",
     "output_type": "stream",
     "text": [
      "                                                                                \r"
     ]
    },
    {
     "name": "stdout",
     "output_type": "stream",
     "text": [
      "Fitting of logistic regression: \n",
      "152.76289582252502\n"
     ]
    }
   ],
   "source": [
    "user_features = user_features.withColumnRenamed('id', 'user_idx')\n",
    "\n",
    "va = VectorAssembler(\n",
    "    inputCols=user_features.columns[1:] + ITEMS_FEATURES,\n",
    "    outputCol='features'\n",
    ")\n",
    "\n",
    "lr = LogisticRegression(\n",
    "    featuresCol='features',\n",
    "    labelCol='relevance',\n",
    "    probabilityCol='__lr_prob'\n",
    ")\n",
    "\n",
    "train_df = log_df_val.join(user_features, 'user_idx', 'left')\\\n",
    "                     .join(items_df_train, 'item_idx', 'left')\\\n",
    "                     .drop('timestamp')\n",
    "train_df = train_df.na.drop()\n",
    "\n",
    "start = time.time()\n",
    "lr_model = lr.fit(va.transform(train_df))\n",
    "end = time.time()\n",
    "print(\"Fitting of logistic regression: \")\n",
    "print(end - start)"
   ]
  },
  {
   "cell_type": "code",
   "execution_count": 42,
   "metadata": {},
   "outputs": [],
   "source": [
    "vee = VectorElementExtractor(inputCol='__lr_prob', outputCol='__r1', index=1)\n",
    "br = BernoulliResponse (inputCol='__r1', outputCol='response', seed=1234)\n",
    "pipeline = Pipeline(\n",
    "    stages=[\n",
    "        va,\n",
    "        lr_model,\n",
    "        vee,\n",
    "        br\n",
    "    ]\n",
    ")"
   ]
  },
  {
   "cell_type": "code",
   "execution_count": 43,
   "metadata": {},
   "outputs": [],
   "source": [
    "user_features_val = user_features_val.withColumnRenamed('id', 'user_idx')\n",
    "\n",
    "test_df = log_df_test.join(user_features_val, 'user_idx', 'left')\\\n",
    "                     .join(items_df_val, 'item_idx', 'left')\\\n",
    "                     .drop('timestamp')\n",
    "test_df = test_df.na.drop()"
   ]
  },
  {
   "cell_type": "code",
   "execution_count": 44,
   "metadata": {},
   "outputs": [
    {
     "name": "stdout",
     "output_type": "stream",
     "text": [
      "Pipeline fitting: \n",
      "0.0014138221740722656\n"
     ]
    },
    {
     "name": "stderr",
     "output_type": "stream",
     "text": [
      "                                                                                \r"
     ]
    }
   ],
   "source": [
    "start = time.time()\n",
    "ber_lr_model = pipeline.fit(train_df)\n",
    "end = time.time()\n",
    "print(\"Pipeline fitting: \")\n",
    "print(end - start)\n",
    "pred_df = ber_lr_model.transform(test_df).select(\"user_idx\", \"item_idx\", \"relevance\", \"__r1\").toPandas()"
   ]
  },
  {
   "cell_type": "code",
   "execution_count": 45,
   "metadata": {},
   "outputs": [
    {
     "name": "stdout",
     "output_type": "stream",
     "text": [
      "Regression ROC AUC: 0.6971615915446185\n"
     ]
    }
   ],
   "source": [
    "print(f\"Regression ROC AUC: {roc_auc_score(pred_df.relevance, pred_df.__r1)}\")"
   ]
  },
  {
   "cell_type": "markdown",
   "metadata": {},
   "source": [
    "# Random forest"
   ]
  },
  {
   "cell_type": "code",
   "execution_count": 46,
   "metadata": {},
   "outputs": [
    {
     "name": "stderr",
     "output_type": "stream",
     "text": [
      "                                                                                \r"
     ]
    },
    {
     "name": "stdout",
     "output_type": "stream",
     "text": [
      "Fitting of random forest: \n",
      "186.4813265800476\n"
     ]
    }
   ],
   "source": [
    "rf = RandomForestClassifier(\n",
    "    featuresCol='features',\n",
    "    labelCol='relevance',\n",
    "    probabilityCol='__rf_prob'\n",
    ")\n",
    "\n",
    "start = time.time()\n",
    "rf_model = rf.fit(va.transform(train_df))\n",
    "end = time.time()\n",
    "print(\"Fitting of random forest: \")\n",
    "print(end - start)"
   ]
  },
  {
   "cell_type": "code",
   "execution_count": 47,
   "metadata": {},
   "outputs": [],
   "source": [
    "vee = VectorElementExtractor(inputCol='__rf_prob', outputCol='__r1', index=1)\n",
    "br = BernoulliResponse(inputCol='__r1', outputCol='response', seed=1234)\n",
    "pipeline = Pipeline(\n",
    "    stages=[\n",
    "        va,\n",
    "        rf_model,\n",
    "        vee,\n",
    "        br\n",
    "    ]\n",
    ")"
   ]
  },
  {
   "cell_type": "code",
   "execution_count": 48,
   "metadata": {},
   "outputs": [
    {
     "name": "stdout",
     "output_type": "stream",
     "text": [
      "Pipeline fitting: \n",
      "0.0013964176177978516\n"
     ]
    },
    {
     "name": "stderr",
     "output_type": "stream",
     "text": [
      "                                                                                \r"
     ]
    }
   ],
   "source": [
    "start = time.time()\n",
    "ber_rf_model = pipeline.fit(train_df)\n",
    "end = time.time()\n",
    "print(\"Pipeline fitting: \")\n",
    "print(end - start)\n",
    "pred_df = ber_rf_model.transform(test_df).select(\"user_idx\", \"item_idx\", \"relevance\", \"__r1\").toPandas()"
   ]
  },
  {
   "cell_type": "code",
   "execution_count": 49,
   "metadata": {},
   "outputs": [
    {
     "name": "stdout",
     "output_type": "stream",
     "text": [
      "Random forest ROC AUC: 0.6474054368489265\n"
     ]
    }
   ],
   "source": [
    "print(f\"Random forest ROC AUC: {roc_auc_score(pred_df.relevance, pred_df.__r1)}\")"
   ]
  },
  {
   "cell_type": "markdown",
   "metadata": {},
   "source": [
    "В случае метода ALS нет явно доминирующей по качеству модели генерации синтетики. Но качество компоненты Real все равно выше, чем в случае исходных профилей, для всех моделей аппроксимации отклика."
   ]
  },
  {
   "cell_type": "markdown",
   "metadata": {},
   "source": [
    "# Autoencoder"
   ]
  },
  {
   "cell_type": "code",
   "execution_count": 7,
   "metadata": {},
   "outputs": [
    {
     "name": "stderr",
     "output_type": "stream",
     "text": [
      "                                                                                \r"
     ]
    },
    {
     "name": "stdout",
     "output_type": "stream",
     "text": [
      "Fitting of aetoencoder: \n",
      "4831.841965913773\n"
     ]
    },
    {
     "name": "stderr",
     "output_type": "stream",
     "text": [
      "                                                                                \r"
     ]
    },
    {
     "data": {
      "text/html": [
       "<div>\n",
       "<style scoped>\n",
       "    .dataframe tbody tr th:only-of-type {\n",
       "        vertical-align: middle;\n",
       "    }\n",
       "\n",
       "    .dataframe tbody tr th {\n",
       "        vertical-align: top;\n",
       "    }\n",
       "\n",
       "    .dataframe thead th {\n",
       "        text-align: right;\n",
       "    }\n",
       "</style>\n",
       "<table border=\"1\" class=\"dataframe\">\n",
       "  <thead>\n",
       "    <tr style=\"text-align: right;\">\n",
       "      <th></th>\n",
       "      <th>emb_0</th>\n",
       "      <th>emb_1</th>\n",
       "      <th>emb_2</th>\n",
       "      <th>emb_3</th>\n",
       "      <th>emb_4</th>\n",
       "      <th>emb_5</th>\n",
       "      <th>emb_6</th>\n",
       "      <th>emb_7</th>\n",
       "      <th>emb_8</th>\n",
       "      <th>emb_9</th>\n",
       "      <th>emb_10</th>\n",
       "      <th>emb_11</th>\n",
       "      <th>emb_12</th>\n",
       "      <th>emb_13</th>\n",
       "      <th>emb_14</th>\n",
       "    </tr>\n",
       "  </thead>\n",
       "  <tbody>\n",
       "    <tr>\n",
       "      <th>0</th>\n",
       "      <td>-55.384621</td>\n",
       "      <td>-26.066240</td>\n",
       "      <td>23.602779</td>\n",
       "      <td>12.890759</td>\n",
       "      <td>35.191856</td>\n",
       "      <td>-38.570072</td>\n",
       "      <td>4.376272</td>\n",
       "      <td>27.026125</td>\n",
       "      <td>-13.948597</td>\n",
       "      <td>-15.030750</td>\n",
       "      <td>23.267294</td>\n",
       "      <td>43.803852</td>\n",
       "      <td>-21.134106</td>\n",
       "      <td>-39.547306</td>\n",
       "      <td>-46.060371</td>\n",
       "    </tr>\n",
       "    <tr>\n",
       "      <th>1</th>\n",
       "      <td>-54.289749</td>\n",
       "      <td>-25.601341</td>\n",
       "      <td>22.953699</td>\n",
       "      <td>12.534408</td>\n",
       "      <td>34.544460</td>\n",
       "      <td>-37.623722</td>\n",
       "      <td>4.406793</td>\n",
       "      <td>26.299332</td>\n",
       "      <td>-13.708128</td>\n",
       "      <td>-14.836297</td>\n",
       "      <td>22.642275</td>\n",
       "      <td>42.942104</td>\n",
       "      <td>-20.769413</td>\n",
       "      <td>-38.785439</td>\n",
       "      <td>-45.145412</td>\n",
       "    </tr>\n",
       "    <tr>\n",
       "      <th>2</th>\n",
       "      <td>-56.165520</td>\n",
       "      <td>-26.429953</td>\n",
       "      <td>23.964571</td>\n",
       "      <td>13.070158</td>\n",
       "      <td>35.681751</td>\n",
       "      <td>-39.131130</td>\n",
       "      <td>4.422016</td>\n",
       "      <td>27.437536</td>\n",
       "      <td>-14.154895</td>\n",
       "      <td>-15.224020</td>\n",
       "      <td>23.619669</td>\n",
       "      <td>44.429665</td>\n",
       "      <td>-21.431757</td>\n",
       "      <td>-40.110004</td>\n",
       "      <td>-46.715702</td>\n",
       "    </tr>\n",
       "    <tr>\n",
       "      <th>3</th>\n",
       "      <td>-53.748413</td>\n",
       "      <td>-26.056036</td>\n",
       "      <td>20.574642</td>\n",
       "      <td>10.862814</td>\n",
       "      <td>34.778706</td>\n",
       "      <td>-34.892262</td>\n",
       "      <td>5.761095</td>\n",
       "      <td>23.809723</td>\n",
       "      <td>-14.359859</td>\n",
       "      <td>-15.878355</td>\n",
       "      <td>20.441793</td>\n",
       "      <td>42.739540</td>\n",
       "      <td>-21.372662</td>\n",
       "      <td>-38.760834</td>\n",
       "      <td>-44.804886</td>\n",
       "    </tr>\n",
       "    <tr>\n",
       "      <th>4</th>\n",
       "      <td>-62.251606</td>\n",
       "      <td>-29.532825</td>\n",
       "      <td>25.857595</td>\n",
       "      <td>13.924690</td>\n",
       "      <td>39.733356</td>\n",
       "      <td>-42.577969</td>\n",
       "      <td>5.367488</td>\n",
       "      <td>29.702234</td>\n",
       "      <td>-15.980300</td>\n",
       "      <td>-17.252796</td>\n",
       "      <td>25.562141</td>\n",
       "      <td>49.351486</td>\n",
       "      <td>-24.053757</td>\n",
       "      <td>-44.594120</td>\n",
       "      <td>-51.830814</td>\n",
       "    </tr>\n",
       "    <tr>\n",
       "      <th>...</th>\n",
       "      <td>...</td>\n",
       "      <td>...</td>\n",
       "      <td>...</td>\n",
       "      <td>...</td>\n",
       "      <td>...</td>\n",
       "      <td>...</td>\n",
       "      <td>...</td>\n",
       "      <td>...</td>\n",
       "      <td>...</td>\n",
       "      <td>...</td>\n",
       "      <td>...</td>\n",
       "      <td>...</td>\n",
       "      <td>...</td>\n",
       "      <td>...</td>\n",
       "      <td>...</td>\n",
       "    </tr>\n",
       "    <tr>\n",
       "      <th>3053588</th>\n",
       "      <td>-66.778244</td>\n",
       "      <td>-31.429991</td>\n",
       "      <td>28.578163</td>\n",
       "      <td>15.449790</td>\n",
       "      <td>42.398212</td>\n",
       "      <td>-46.544697</td>\n",
       "      <td>5.218088</td>\n",
       "      <td>32.743382</td>\n",
       "      <td>-16.925053</td>\n",
       "      <td>-18.034348</td>\n",
       "      <td>28.188618</td>\n",
       "      <td>52.898304</td>\n",
       "      <td>-25.533972</td>\n",
       "      <td>-47.729633</td>\n",
       "      <td>-55.595181</td>\n",
       "    </tr>\n",
       "    <tr>\n",
       "      <th>3053589</th>\n",
       "      <td>-55.865372</td>\n",
       "      <td>-26.448004</td>\n",
       "      <td>23.111605</td>\n",
       "      <td>12.690089</td>\n",
       "      <td>35.662903</td>\n",
       "      <td>-38.263741</td>\n",
       "      <td>4.858248</td>\n",
       "      <td>26.549429</td>\n",
       "      <td>-14.100836</td>\n",
       "      <td>-15.547040</td>\n",
       "      <td>22.899597</td>\n",
       "      <td>44.171246</td>\n",
       "      <td>-21.495609</td>\n",
       "      <td>-39.930374</td>\n",
       "      <td>-46.406925</td>\n",
       "    </tr>\n",
       "    <tr>\n",
       "      <th>3053590</th>\n",
       "      <td>-64.568413</td>\n",
       "      <td>-31.067625</td>\n",
       "      <td>25.647390</td>\n",
       "      <td>13.469892</td>\n",
       "      <td>41.534817</td>\n",
       "      <td>-42.803436</td>\n",
       "      <td>6.334009</td>\n",
       "      <td>29.600939</td>\n",
       "      <td>-17.155216</td>\n",
       "      <td>-18.540115</td>\n",
       "      <td>25.408554</td>\n",
       "      <td>51.373940</td>\n",
       "      <td>-25.456213</td>\n",
       "      <td>-46.499519</td>\n",
       "      <td>-53.883209</td>\n",
       "    </tr>\n",
       "    <tr>\n",
       "      <th>3053591</th>\n",
       "      <td>-50.483337</td>\n",
       "      <td>-23.804317</td>\n",
       "      <td>21.433691</td>\n",
       "      <td>11.671958</td>\n",
       "      <td>32.109905</td>\n",
       "      <td>-35.044739</td>\n",
       "      <td>4.038173</td>\n",
       "      <td>24.531748</td>\n",
       "      <td>-12.790056</td>\n",
       "      <td>-13.751715</td>\n",
       "      <td>21.089542</td>\n",
       "      <td>39.938778</td>\n",
       "      <td>-19.295156</td>\n",
       "      <td>-36.073071</td>\n",
       "      <td>-42.002960</td>\n",
       "    </tr>\n",
       "    <tr>\n",
       "      <th>3053592</th>\n",
       "      <td>-13.156569</td>\n",
       "      <td>-5.876912</td>\n",
       "      <td>6.673804</td>\n",
       "      <td>3.989143</td>\n",
       "      <td>8.129778</td>\n",
       "      <td>-10.342686</td>\n",
       "      <td>0.299074</td>\n",
       "      <td>7.376222</td>\n",
       "      <td>-2.946540</td>\n",
       "      <td>-3.049171</td>\n",
       "      <td>6.234769</td>\n",
       "      <td>10.167109</td>\n",
       "      <td>-4.480659</td>\n",
       "      <td>-9.176687</td>\n",
       "      <td>-10.870475</td>\n",
       "    </tr>\n",
       "  </tbody>\n",
       "</table>\n",
       "<p>3053593 rows × 15 columns</p>\n",
       "</div>"
      ],
      "text/plain": [
       "             emb_0      emb_1      emb_2      emb_3      emb_4      emb_5  \\\n",
       "0       -55.384621 -26.066240  23.602779  12.890759  35.191856 -38.570072   \n",
       "1       -54.289749 -25.601341  22.953699  12.534408  34.544460 -37.623722   \n",
       "2       -56.165520 -26.429953  23.964571  13.070158  35.681751 -39.131130   \n",
       "3       -53.748413 -26.056036  20.574642  10.862814  34.778706 -34.892262   \n",
       "4       -62.251606 -29.532825  25.857595  13.924690  39.733356 -42.577969   \n",
       "...            ...        ...        ...        ...        ...        ...   \n",
       "3053588 -66.778244 -31.429991  28.578163  15.449790  42.398212 -46.544697   \n",
       "3053589 -55.865372 -26.448004  23.111605  12.690089  35.662903 -38.263741   \n",
       "3053590 -64.568413 -31.067625  25.647390  13.469892  41.534817 -42.803436   \n",
       "3053591 -50.483337 -23.804317  21.433691  11.671958  32.109905 -35.044739   \n",
       "3053592 -13.156569  -5.876912   6.673804   3.989143   8.129778 -10.342686   \n",
       "\n",
       "            emb_6      emb_7      emb_8      emb_9     emb_10     emb_11  \\\n",
       "0        4.376272  27.026125 -13.948597 -15.030750  23.267294  43.803852   \n",
       "1        4.406793  26.299332 -13.708128 -14.836297  22.642275  42.942104   \n",
       "2        4.422016  27.437536 -14.154895 -15.224020  23.619669  44.429665   \n",
       "3        5.761095  23.809723 -14.359859 -15.878355  20.441793  42.739540   \n",
       "4        5.367488  29.702234 -15.980300 -17.252796  25.562141  49.351486   \n",
       "...           ...        ...        ...        ...        ...        ...   \n",
       "3053588  5.218088  32.743382 -16.925053 -18.034348  28.188618  52.898304   \n",
       "3053589  4.858248  26.549429 -14.100836 -15.547040  22.899597  44.171246   \n",
       "3053590  6.334009  29.600939 -17.155216 -18.540115  25.408554  51.373940   \n",
       "3053591  4.038173  24.531748 -12.790056 -13.751715  21.089542  39.938778   \n",
       "3053592  0.299074   7.376222  -2.946540  -3.049171   6.234769  10.167109   \n",
       "\n",
       "            emb_12     emb_13     emb_14  \n",
       "0       -21.134106 -39.547306 -46.060371  \n",
       "1       -20.769413 -38.785439 -45.145412  \n",
       "2       -21.431757 -40.110004 -46.715702  \n",
       "3       -21.372662 -38.760834 -44.804886  \n",
       "4       -24.053757 -44.594120 -51.830814  \n",
       "...            ...        ...        ...  \n",
       "3053588 -25.533972 -47.729633 -55.595181  \n",
       "3053589 -21.495609 -39.930374 -46.406925  \n",
       "3053590 -25.456213 -46.499519 -53.883209  \n",
       "3053591 -19.295156 -36.073071 -42.002960  \n",
       "3053592  -4.480659  -9.176687 -10.870475  \n",
       "\n",
       "[3053593 rows x 15 columns]"
      ]
     },
     "execution_count": 7,
     "metadata": {},
     "output_type": "execute_result"
    }
   ],
   "source": [
    "LATENT_DIM = 15\n",
    "\n",
    "encoder = EncoderEstimator(\n",
    "    inputCols=users_df_train.columns[1:],\n",
    "    outputCols=[f'emb_{i}' for i in range(LATENT_DIM)],\n",
    "    hidden_dim=16,\n",
    "    lr=0.001,\n",
    "    batch_size=64,\n",
    "    num_loader_workers=4,\n",
    "    max_iter=50,\n",
    "    device_name='cpu'\n",
    ")\n",
    "\n",
    "start = time.time()\n",
    "encoder_model = encoder.fit(users_df_train.sample(0.1))\n",
    "end = time.time()\n",
    "print(\"Fitting of aetoencoder: \")\n",
    "print(end - start)\n",
    "enc_features = encoder_model.transform(users_df_train)\n",
    "enc_features.toPandas()"
   ]
  },
  {
   "cell_type": "code",
   "execution_count": 8,
   "metadata": {},
   "outputs": [],
   "source": [
    "enc_features = enc_features.withColumn('row_index', row_number().over(Window.orderBy(monotonically_increasing_id())))\n",
    "users_df_train = users_df_train.withColumn('row_index', row_number().over(Window.orderBy(monotonically_increasing_id())))\n",
    "\n",
    "enc_features = enc_features.join(users_df_train, on=[\"row_index\"]).drop(\"row_index\")\n",
    "cols = (users_df_train.columns[1:])\n",
    "enc_features = enc_features.drop(*cols)\n",
    "users_df_train = users_df_train.drop('row_index')"
   ]
  },
  {
   "cell_type": "code",
   "execution_count": 9,
   "metadata": {},
   "outputs": [
    {
     "name": "stderr",
     "output_type": "stream",
     "text": [
      "22/11/07 11:04:00 WARN WindowExec: No Partition Defined for Window operation! Moving all data to a single partition, this can cause serious performance degradation.\n",
      "22/11/07 11:04:00 WARN WindowExec: No Partition Defined for Window operation! Moving all data to a single partition, this can cause serious performance degradation.\n",
      "                                                                                \r"
     ]
    },
    {
     "data": {
      "text/html": [
       "<div>\n",
       "<style scoped>\n",
       "    .dataframe tbody tr th:only-of-type {\n",
       "        vertical-align: middle;\n",
       "    }\n",
       "\n",
       "    .dataframe tbody tr th {\n",
       "        vertical-align: top;\n",
       "    }\n",
       "\n",
       "    .dataframe thead th {\n",
       "        text-align: right;\n",
       "    }\n",
       "</style>\n",
       "<table border=\"1\" class=\"dataframe\">\n",
       "  <thead>\n",
       "    <tr style=\"text-align: right;\">\n",
       "      <th></th>\n",
       "      <th>emb_0</th>\n",
       "      <th>emb_1</th>\n",
       "      <th>emb_2</th>\n",
       "      <th>emb_3</th>\n",
       "      <th>emb_4</th>\n",
       "      <th>emb_5</th>\n",
       "      <th>emb_6</th>\n",
       "      <th>emb_7</th>\n",
       "      <th>emb_8</th>\n",
       "      <th>emb_9</th>\n",
       "      <th>emb_10</th>\n",
       "      <th>emb_11</th>\n",
       "      <th>emb_12</th>\n",
       "      <th>emb_13</th>\n",
       "      <th>emb_14</th>\n",
       "      <th>user_idx</th>\n",
       "    </tr>\n",
       "  </thead>\n",
       "  <tbody>\n",
       "    <tr>\n",
       "      <th>0</th>\n",
       "      <td>-58.567501</td>\n",
       "      <td>-27.894478</td>\n",
       "      <td>24.212231</td>\n",
       "      <td>12.857199</td>\n",
       "      <td>37.434570</td>\n",
       "      <td>-39.823933</td>\n",
       "      <td>5.127541</td>\n",
       "      <td>27.808844</td>\n",
       "      <td>-15.286071</td>\n",
       "      <td>-16.299463</td>\n",
       "      <td>23.862219</td>\n",
       "      <td>46.512699</td>\n",
       "      <td>-22.742746</td>\n",
       "      <td>-42.040653</td>\n",
       "      <td>-48.851444</td>\n",
       "      <td>3835593</td>\n",
       "    </tr>\n",
       "    <tr>\n",
       "      <th>1</th>\n",
       "      <td>-19.699715</td>\n",
       "      <td>-9.095296</td>\n",
       "      <td>9.031565</td>\n",
       "      <td>5.169590</td>\n",
       "      <td>12.395428</td>\n",
       "      <td>-14.420494</td>\n",
       "      <td>1.104160</td>\n",
       "      <td>10.145743</td>\n",
       "      <td>-4.756710</td>\n",
       "      <td>-5.052138</td>\n",
       "      <td>8.628333</td>\n",
       "      <td>15.410688</td>\n",
       "      <td>-7.164499</td>\n",
       "      <td>-13.930762</td>\n",
       "      <td>-16.339659</td>\n",
       "      <td>5139399</td>\n",
       "    </tr>\n",
       "    <tr>\n",
       "      <th>2</th>\n",
       "      <td>-56.052830</td>\n",
       "      <td>-26.870382</td>\n",
       "      <td>22.260447</td>\n",
       "      <td>11.992452</td>\n",
       "      <td>36.040092</td>\n",
       "      <td>-37.329151</td>\n",
       "      <td>5.482648</td>\n",
       "      <td>25.675209</td>\n",
       "      <td>-14.570953</td>\n",
       "      <td>-16.112244</td>\n",
       "      <td>22.102604</td>\n",
       "      <td>44.450993</td>\n",
       "      <td>-21.951124</td>\n",
       "      <td>-40.250248</td>\n",
       "      <td>-46.643150</td>\n",
       "      <td>5140169</td>\n",
       "    </tr>\n",
       "    <tr>\n",
       "      <th>3</th>\n",
       "      <td>-83.445770</td>\n",
       "      <td>-40.441757</td>\n",
       "      <td>32.965523</td>\n",
       "      <td>16.583563</td>\n",
       "      <td>53.771877</td>\n",
       "      <td>-54.711872</td>\n",
       "      <td>8.349578</td>\n",
       "      <td>38.102032</td>\n",
       "      <td>-22.974838</td>\n",
       "      <td>-24.026886</td>\n",
       "      <td>32.555832</td>\n",
       "      <td>66.752449</td>\n",
       "      <td>-33.307114</td>\n",
       "      <td>-60.397739</td>\n",
       "      <td>-69.949371</td>\n",
       "      <td>4971574</td>\n",
       "    </tr>\n",
       "    <tr>\n",
       "      <th>4</th>\n",
       "      <td>-62.774277</td>\n",
       "      <td>-30.427187</td>\n",
       "      <td>24.416502</td>\n",
       "      <td>12.594440</td>\n",
       "      <td>40.537556</td>\n",
       "      <td>-40.959835</td>\n",
       "      <td>6.501297</td>\n",
       "      <td>28.229864</td>\n",
       "      <td>-17.023096</td>\n",
       "      <td>-18.312372</td>\n",
       "      <td>24.171915</td>\n",
       "      <td>50.058212</td>\n",
       "      <td>-24.999247</td>\n",
       "      <td>-45.349346</td>\n",
       "      <td>-52.472111</td>\n",
       "      <td>6464618</td>\n",
       "    </tr>\n",
       "    <tr>\n",
       "      <th>...</th>\n",
       "      <td>...</td>\n",
       "      <td>...</td>\n",
       "      <td>...</td>\n",
       "      <td>...</td>\n",
       "      <td>...</td>\n",
       "      <td>...</td>\n",
       "      <td>...</td>\n",
       "      <td>...</td>\n",
       "      <td>...</td>\n",
       "      <td>...</td>\n",
       "      <td>...</td>\n",
       "      <td>...</td>\n",
       "      <td>...</td>\n",
       "      <td>...</td>\n",
       "      <td>...</td>\n",
       "      <td>...</td>\n",
       "    </tr>\n",
       "    <tr>\n",
       "      <th>4904850</th>\n",
       "      <td>-48.988960</td>\n",
       "      <td>-23.175135</td>\n",
       "      <td>20.841705</td>\n",
       "      <td>11.137828</td>\n",
       "      <td>31.173244</td>\n",
       "      <td>-33.911522</td>\n",
       "      <td>3.898366</td>\n",
       "      <td>23.836512</td>\n",
       "      <td>-12.664509</td>\n",
       "      <td>-13.321163</td>\n",
       "      <td>20.415144</td>\n",
       "      <td>38.850704</td>\n",
       "      <td>-18.805531</td>\n",
       "      <td>-35.087849</td>\n",
       "      <td>-40.863583</td>\n",
       "      <td>5881176</td>\n",
       "    </tr>\n",
       "    <tr>\n",
       "      <th>4904851</th>\n",
       "      <td>-23.490433</td>\n",
       "      <td>-10.868986</td>\n",
       "      <td>10.667874</td>\n",
       "      <td>6.053597</td>\n",
       "      <td>14.792820</td>\n",
       "      <td>-17.082979</td>\n",
       "      <td>1.393819</td>\n",
       "      <td>12.030607</td>\n",
       "      <td>-5.701083</td>\n",
       "      <td>-6.062965</td>\n",
       "      <td>10.264081</td>\n",
       "      <td>18.417280</td>\n",
       "      <td>-8.615094</td>\n",
       "      <td>-16.636791</td>\n",
       "      <td>-19.492374</td>\n",
       "      <td>3784723</td>\n",
       "    </tr>\n",
       "    <tr>\n",
       "      <th>4904852</th>\n",
       "      <td>-10.245093</td>\n",
       "      <td>-4.420647</td>\n",
       "      <td>5.690636</td>\n",
       "      <td>3.516591</td>\n",
       "      <td>6.213714</td>\n",
       "      <td>-8.603592</td>\n",
       "      <td>-0.101982</td>\n",
       "      <td>6.212100</td>\n",
       "      <td>-2.109897</td>\n",
       "      <td>-2.121334</td>\n",
       "      <td>5.232312</td>\n",
       "      <td>7.824577</td>\n",
       "      <td>-3.258887</td>\n",
       "      <td>-7.048341</td>\n",
       "      <td>-8.430534</td>\n",
       "      <td>334079</td>\n",
       "    </tr>\n",
       "    <tr>\n",
       "      <th>4904853</th>\n",
       "      <td>-3.217996</td>\n",
       "      <td>-1.067021</td>\n",
       "      <td>2.865878</td>\n",
       "      <td>2.021590</td>\n",
       "      <td>1.713203</td>\n",
       "      <td>-3.893046</td>\n",
       "      <td>-0.775375</td>\n",
       "      <td>2.934376</td>\n",
       "      <td>-0.292276</td>\n",
       "      <td>-0.131917</td>\n",
       "      <td>2.388185</td>\n",
       "      <td>2.231815</td>\n",
       "      <td>-0.494487</td>\n",
       "      <td>-1.998823</td>\n",
       "      <td>-2.579468</td>\n",
       "      <td>5091065</td>\n",
       "    </tr>\n",
       "    <tr>\n",
       "      <th>4904854</th>\n",
       "      <td>-15.290018</td>\n",
       "      <td>-7.001044</td>\n",
       "      <td>7.380850</td>\n",
       "      <td>4.190927</td>\n",
       "      <td>9.551538</td>\n",
       "      <td>-11.516897</td>\n",
       "      <td>0.607389</td>\n",
       "      <td>8.211018</td>\n",
       "      <td>-3.724375</td>\n",
       "      <td>-3.735119</td>\n",
       "      <td>6.910430</td>\n",
       "      <td>11.947167</td>\n",
       "      <td>-5.442532</td>\n",
       "      <td>-10.793304</td>\n",
       "      <td>-12.722939</td>\n",
       "      <td>2903562</td>\n",
       "    </tr>\n",
       "  </tbody>\n",
       "</table>\n",
       "<p>4904855 rows × 16 columns</p>\n",
       "</div>"
      ],
      "text/plain": [
       "             emb_0      emb_1      emb_2      emb_3      emb_4      emb_5  \\\n",
       "0       -58.567501 -27.894478  24.212231  12.857199  37.434570 -39.823933   \n",
       "1       -19.699715  -9.095296   9.031565   5.169590  12.395428 -14.420494   \n",
       "2       -56.052830 -26.870382  22.260447  11.992452  36.040092 -37.329151   \n",
       "3       -83.445770 -40.441757  32.965523  16.583563  53.771877 -54.711872   \n",
       "4       -62.774277 -30.427187  24.416502  12.594440  40.537556 -40.959835   \n",
       "...            ...        ...        ...        ...        ...        ...   \n",
       "4904850 -48.988960 -23.175135  20.841705  11.137828  31.173244 -33.911522   \n",
       "4904851 -23.490433 -10.868986  10.667874   6.053597  14.792820 -17.082979   \n",
       "4904852 -10.245093  -4.420647   5.690636   3.516591   6.213714  -8.603592   \n",
       "4904853  -3.217996  -1.067021   2.865878   2.021590   1.713203  -3.893046   \n",
       "4904854 -15.290018  -7.001044   7.380850   4.190927   9.551538 -11.516897   \n",
       "\n",
       "            emb_6      emb_7      emb_8      emb_9     emb_10     emb_11  \\\n",
       "0        5.127541  27.808844 -15.286071 -16.299463  23.862219  46.512699   \n",
       "1        1.104160  10.145743  -4.756710  -5.052138   8.628333  15.410688   \n",
       "2        5.482648  25.675209 -14.570953 -16.112244  22.102604  44.450993   \n",
       "3        8.349578  38.102032 -22.974838 -24.026886  32.555832  66.752449   \n",
       "4        6.501297  28.229864 -17.023096 -18.312372  24.171915  50.058212   \n",
       "...           ...        ...        ...        ...        ...        ...   \n",
       "4904850  3.898366  23.836512 -12.664509 -13.321163  20.415144  38.850704   \n",
       "4904851  1.393819  12.030607  -5.701083  -6.062965  10.264081  18.417280   \n",
       "4904852 -0.101982   6.212100  -2.109897  -2.121334   5.232312   7.824577   \n",
       "4904853 -0.775375   2.934376  -0.292276  -0.131917   2.388185   2.231815   \n",
       "4904854  0.607389   8.211018  -3.724375  -3.735119   6.910430  11.947167   \n",
       "\n",
       "            emb_12     emb_13     emb_14  user_idx  \n",
       "0       -22.742746 -42.040653 -48.851444   3835593  \n",
       "1        -7.164499 -13.930762 -16.339659   5139399  \n",
       "2       -21.951124 -40.250248 -46.643150   5140169  \n",
       "3       -33.307114 -60.397739 -69.949371   4971574  \n",
       "4       -24.999247 -45.349346 -52.472111   6464618  \n",
       "...            ...        ...        ...       ...  \n",
       "4904850 -18.805531 -35.087849 -40.863583   5881176  \n",
       "4904851  -8.615094 -16.636791 -19.492374   3784723  \n",
       "4904852  -3.258887  -7.048341  -8.430534    334079  \n",
       "4904853  -0.494487  -1.998823  -2.579468   5091065  \n",
       "4904854  -5.442532 -10.793304 -12.722939   2903562  \n",
       "\n",
       "[4904855 rows x 16 columns]"
      ]
     },
     "execution_count": 9,
     "metadata": {},
     "output_type": "execute_result"
    }
   ],
   "source": [
    "enc_features_val = encoder_model.transform(users_df_val)\n",
    "enc_features_val = enc_features_val.withColumn('row_index', row_number().over(Window.orderBy(monotonically_increasing_id())))\n",
    "users_df_val = users_df_val.withColumn('row_index', row_number().over(Window.orderBy(monotonically_increasing_id())))\n",
    "\n",
    "enc_features_val = enc_features_val.join(users_df_val, on=[\"row_index\"]).drop(\"row_index\")\n",
    "cols = (users_df_val.columns[1:])\n",
    "enc_features_val = enc_features_val.drop(*cols)\n",
    "\n",
    "users_df_val = users_df_val.drop('row_index')\n",
    "enc_features_val.toPandas()"
   ]
  },
  {
   "cell_type": "markdown",
   "metadata": {},
   "source": [
    "# GaussianCopula"
   ]
  },
  {
   "cell_type": "code",
   "execution_count": 9,
   "metadata": {},
   "outputs": [
    {
     "name": "stderr",
     "output_type": "stream",
     "text": [
      "22/10/29 17:21:37 WARN WindowExec: No Partition Defined for Window operation! Moving all data to a single partition, this can cause serious performance degradation.\n",
      "22/10/29 17:21:37 WARN WindowExec: No Partition Defined for Window operation! Moving all data to a single partition, this can cause serious performance degradation.\n",
      "                                                                                \r"
     ]
    },
    {
     "name": "stdout",
     "output_type": "stream",
     "text": [
      "Fitting of GaussianCopula on autoencoder embeddings: \n",
      "44.25078344345093\n"
     ]
    }
   ],
   "source": [
    "generator_1 = SDVDataGenerator(\n",
    "    label='synth',\n",
    "    id_column_name='user_id',\n",
    "    model_name='gaussiancopula',\n",
    "    parallelization_level=4,\n",
    "    device_name='cpu',\n",
    "    seed=1234\n",
    ")\n",
    "\n",
    "start = time.time()\n",
    "generator_1.fit(enc_features.drop('user_idx').sample(USER_GENERATOR_FRAC))\n",
    "end = time.time()\n",
    "print(\"Fitting of GaussianCopula on autoencoder embeddings: \")\n",
    "print(end - start)"
   ]
  },
  {
   "cell_type": "code",
   "execution_count": 10,
   "metadata": {},
   "outputs": [
    {
     "name": "stderr",
     "output_type": "stream",
     "text": [
      "22/10/29 17:22:21 WARN WindowExec: No Partition Defined for Window operation! Moving all data to a single partition, this can cause serious performance degradation.\n",
      "22/10/29 17:22:21 WARN WindowExec: No Partition Defined for Window operation! Moving all data to a single partition, this can cause serious performance degradation.\n",
      "22/10/29 17:22:53 WARN WindowExec: No Partition Defined for Window operation! Moving all data to a single partition, this can cause serious performance degradation.\n",
      "22/10/29 17:22:53 WARN WindowExec: No Partition Defined for Window operation! Moving all data to a single partition, this can cause serious performance degradation.\n",
      "                                                                                \r"
     ]
    }
   ],
   "source": [
    "real_users = enc_features.sample(USER_GENERATOR_FRAC)\n",
    "syn_users = generator_1.generate(real_users.count())\n",
    "gen_score = evaluate_synthetic(\n",
    "    syn_users.drop('user_id'),\n",
    "    real_users.drop('user_idx')\n",
    ")"
   ]
  },
  {
   "cell_type": "code",
   "execution_count": 11,
   "metadata": {},
   "outputs": [
    {
     "data": {
      "text/plain": [
       "{'LogisticDetection': 0.7941911534110764,\n",
       " 'SVCDetection': 0.44240807906283763,\n",
       " 'KSTest': 0.8387477195725828,\n",
       " 'ContinuousKLDivergence': 0.783709186710954}"
      ]
     },
     "execution_count": 11,
     "metadata": {},
     "output_type": "execute_result"
    }
   ],
   "source": [
    "gen_score"
   ]
  },
  {
   "cell_type": "code",
   "execution_count": 12,
   "metadata": {},
   "outputs": [
    {
     "data": {
      "text/html": [
       "<div>\n",
       "<style scoped>\n",
       "    .dataframe tbody tr th:only-of-type {\n",
       "        vertical-align: middle;\n",
       "    }\n",
       "\n",
       "    .dataframe tbody tr th {\n",
       "        vertical-align: top;\n",
       "    }\n",
       "\n",
       "    .dataframe thead th {\n",
       "        text-align: right;\n",
       "    }\n",
       "</style>\n",
       "<table border=\"1\" class=\"dataframe\">\n",
       "  <thead>\n",
       "    <tr style=\"text-align: right;\">\n",
       "      <th></th>\n",
       "      <th>Model_name</th>\n",
       "      <th>Metric_score</th>\n",
       "      <th>Metric_name</th>\n",
       "    </tr>\n",
       "  </thead>\n",
       "  <tbody>\n",
       "    <tr>\n",
       "      <th>0</th>\n",
       "      <td>GaussianCopula</td>\n",
       "      <td>0.794191</td>\n",
       "      <td>LogisticDetection</td>\n",
       "    </tr>\n",
       "    <tr>\n",
       "      <th>1</th>\n",
       "      <td>GaussianCopula</td>\n",
       "      <td>0.442408</td>\n",
       "      <td>SVCDetection</td>\n",
       "    </tr>\n",
       "    <tr>\n",
       "      <th>2</th>\n",
       "      <td>GaussianCopula</td>\n",
       "      <td>0.838748</td>\n",
       "      <td>KSTest</td>\n",
       "    </tr>\n",
       "    <tr>\n",
       "      <th>3</th>\n",
       "      <td>GaussianCopula</td>\n",
       "      <td>0.783709</td>\n",
       "      <td>ContinuousKLDivergence</td>\n",
       "    </tr>\n",
       "  </tbody>\n",
       "</table>\n",
       "</div>"
      ],
      "text/plain": [
       "       Model_name  Metric_score             Metric_name\n",
       "0  GaussianCopula      0.794191       LogisticDetection\n",
       "1  GaussianCopula      0.442408            SVCDetection\n",
       "2  GaussianCopula      0.838748                  KSTest\n",
       "3  GaussianCopula      0.783709  ContinuousKLDivergence"
      ]
     },
     "execution_count": 12,
     "metadata": {},
     "output_type": "execute_result"
    }
   ],
   "source": [
    "gen_result = pd.DataFrame(index = np.arange(4))\n",
    "gen_result['Model_name'] = 'GaussianCopula'\n",
    "gen_result['Metric_score'] = [v for k, v in gen_score.items()]\n",
    "gen_result['Metric_name'] = [k for k, v in gen_score.items()]\n",
    "\n",
    "gen_result_df_enc = pd.DataFrame()\n",
    "gen_result_df_enc = pd.concat([gen_result_df_enc, gen_result])\n",
    "gen_result_df_enc"
   ]
  },
  {
   "cell_type": "markdown",
   "metadata": {},
   "source": [
    "# CTGAN"
   ]
  },
  {
   "cell_type": "code",
   "execution_count": 13,
   "metadata": {},
   "outputs": [
    {
     "name": "stderr",
     "output_type": "stream",
     "text": [
      "22/10/29 17:25:58 WARN WindowExec: No Partition Defined for Window operation! Moving all data to a single partition, this can cause serious performance degradation.\n",
      "22/10/29 17:25:58 WARN WindowExec: No Partition Defined for Window operation! Moving all data to a single partition, this can cause serious performance degradation.\n",
      "                                                                                \r"
     ]
    },
    {
     "name": "stdout",
     "output_type": "stream",
     "text": [
      "Fitting of CTGAN on autoencoder embeddings: \n",
      "9446.064270734787\n"
     ]
    }
   ],
   "source": [
    "generator_2 = SDVDataGenerator(\n",
    "    label='synth',\n",
    "    id_column_name='user_id',\n",
    "    model_name='ctgan',\n",
    "    parallelization_level=4,\n",
    "    device_name='cpu',\n",
    "    seed=1234\n",
    ")\n",
    "\n",
    "start = time.time()\n",
    "generator_2.fit(enc_features.sample(USER_GENERATOR_FRAC).drop('user_idx'))\n",
    "end = time.time()\n",
    "print(\"Fitting of CTGAN on autoencoder embeddings: \")\n",
    "print(end - start)"
   ]
  },
  {
   "cell_type": "code",
   "execution_count": 14,
   "metadata": {},
   "outputs": [
    {
     "name": "stderr",
     "output_type": "stream",
     "text": [
      "22/10/29 20:03:25 WARN WindowExec: No Partition Defined for Window operation! Moving all data to a single partition, this can cause serious performance degradation.\n",
      "22/10/29 20:03:25 WARN WindowExec: No Partition Defined for Window operation! Moving all data to a single partition, this can cause serious performance degradation.\n",
      "22/10/29 20:04:10 WARN WindowExec: No Partition Defined for Window operation! Moving all data to a single partition, this can cause serious performance degradation.\n",
      "22/10/29 20:04:10 WARN WindowExec: No Partition Defined for Window operation! Moving all data to a single partition, this can cause serious performance degradation.\n",
      "                                                                                \r"
     ]
    }
   ],
   "source": [
    "real_users = enc_features.sample(USER_GENERATOR_FRAC)\n",
    "syn_users = generator_2.generate(real_users.count())\n",
    "gen_score = evaluate_synthetic(\n",
    "    syn_users.drop('user_id'),\n",
    "    real_users.drop('user_idx')\n",
    ")"
   ]
  },
  {
   "cell_type": "code",
   "execution_count": 15,
   "metadata": {},
   "outputs": [
    {
     "data": {
      "text/plain": [
       "{'LogisticDetection': 0.2704212742063975,\n",
       " 'SVCDetection': 0.053421013868735656,\n",
       " 'KSTest': 0.9264198023754865,\n",
       " 'ContinuousKLDivergence': 0.212964536944907}"
      ]
     },
     "execution_count": 15,
     "metadata": {},
     "output_type": "execute_result"
    }
   ],
   "source": [
    "gen_score"
   ]
  },
  {
   "cell_type": "code",
   "execution_count": 16,
   "metadata": {},
   "outputs": [
    {
     "data": {
      "text/html": [
       "<div>\n",
       "<style scoped>\n",
       "    .dataframe tbody tr th:only-of-type {\n",
       "        vertical-align: middle;\n",
       "    }\n",
       "\n",
       "    .dataframe tbody tr th {\n",
       "        vertical-align: top;\n",
       "    }\n",
       "\n",
       "    .dataframe thead th {\n",
       "        text-align: right;\n",
       "    }\n",
       "</style>\n",
       "<table border=\"1\" class=\"dataframe\">\n",
       "  <thead>\n",
       "    <tr style=\"text-align: right;\">\n",
       "      <th></th>\n",
       "      <th>Model_name</th>\n",
       "      <th>Metric_score</th>\n",
       "      <th>Metric_name</th>\n",
       "    </tr>\n",
       "  </thead>\n",
       "  <tbody>\n",
       "    <tr>\n",
       "      <th>0</th>\n",
       "      <td>GaussianCopula</td>\n",
       "      <td>0.794191</td>\n",
       "      <td>LogisticDetection</td>\n",
       "    </tr>\n",
       "    <tr>\n",
       "      <th>1</th>\n",
       "      <td>GaussianCopula</td>\n",
       "      <td>0.442408</td>\n",
       "      <td>SVCDetection</td>\n",
       "    </tr>\n",
       "    <tr>\n",
       "      <th>2</th>\n",
       "      <td>GaussianCopula</td>\n",
       "      <td>0.838748</td>\n",
       "      <td>KSTest</td>\n",
       "    </tr>\n",
       "    <tr>\n",
       "      <th>3</th>\n",
       "      <td>GaussianCopula</td>\n",
       "      <td>0.783709</td>\n",
       "      <td>ContinuousKLDivergence</td>\n",
       "    </tr>\n",
       "    <tr>\n",
       "      <th>0</th>\n",
       "      <td>CTGAN</td>\n",
       "      <td>0.270421</td>\n",
       "      <td>LogisticDetection</td>\n",
       "    </tr>\n",
       "    <tr>\n",
       "      <th>1</th>\n",
       "      <td>CTGAN</td>\n",
       "      <td>0.053421</td>\n",
       "      <td>SVCDetection</td>\n",
       "    </tr>\n",
       "    <tr>\n",
       "      <th>2</th>\n",
       "      <td>CTGAN</td>\n",
       "      <td>0.926420</td>\n",
       "      <td>KSTest</td>\n",
       "    </tr>\n",
       "    <tr>\n",
       "      <th>3</th>\n",
       "      <td>CTGAN</td>\n",
       "      <td>0.212965</td>\n",
       "      <td>ContinuousKLDivergence</td>\n",
       "    </tr>\n",
       "  </tbody>\n",
       "</table>\n",
       "</div>"
      ],
      "text/plain": [
       "       Model_name  Metric_score             Metric_name\n",
       "0  GaussianCopula      0.794191       LogisticDetection\n",
       "1  GaussianCopula      0.442408            SVCDetection\n",
       "2  GaussianCopula      0.838748                  KSTest\n",
       "3  GaussianCopula      0.783709  ContinuousKLDivergence\n",
       "0           CTGAN      0.270421       LogisticDetection\n",
       "1           CTGAN      0.053421            SVCDetection\n",
       "2           CTGAN      0.926420                  KSTest\n",
       "3           CTGAN      0.212965  ContinuousKLDivergence"
      ]
     },
     "execution_count": 16,
     "metadata": {},
     "output_type": "execute_result"
    }
   ],
   "source": [
    "gen_result = pd.DataFrame(index = np.arange(4))\n",
    "gen_result['Model_name'] = 'CTGAN'\n",
    "gen_result['Metric_score'] = [v for k, v in gen_score.items()]\n",
    "gen_result['Metric_name'] = [k for k, v in gen_score.items()]\n",
    "\n",
    "gen_result_df_enc = pd.concat([gen_result_df_enc, gen_result])\n",
    "gen_result_df_enc"
   ]
  },
  {
   "cell_type": "markdown",
   "metadata": {},
   "source": [
    "# CopulaGAN"
   ]
  },
  {
   "cell_type": "code",
   "execution_count": 17,
   "metadata": {},
   "outputs": [
    {
     "name": "stderr",
     "output_type": "stream",
     "text": [
      "22/10/29 20:05:39 WARN WindowExec: No Partition Defined for Window operation! Moving all data to a single partition, this can cause serious performance degradation.\n",
      "22/10/29 20:05:39 WARN WindowExec: No Partition Defined for Window operation! Moving all data to a single partition, this can cause serious performance degradation.\n",
      "                                                                                \r"
     ]
    },
    {
     "name": "stdout",
     "output_type": "stream",
     "text": [
      "Fitting of CopulaGAN on autoencoder embeddings: \n",
      "9411.104389429092\n"
     ]
    }
   ],
   "source": [
    "generator_3 = SDVDataGenerator(\n",
    "    label='synth',\n",
    "    id_column_name='user_id',\n",
    "    model_name='copulagan',\n",
    "    parallelization_level=4,\n",
    "    device_name='cpu',\n",
    "    seed=1234\n",
    ")\n",
    "\n",
    "start = time.time()\n",
    "generator_3.fit(enc_features.sample(USER_GENERATOR_FRAC).drop('user_idx'))\n",
    "end = time.time()\n",
    "print(\"Fitting of CopulaGAN on autoencoder embeddings: \")\n",
    "print(end - start)"
   ]
  },
  {
   "cell_type": "code",
   "execution_count": 18,
   "metadata": {},
   "outputs": [
    {
     "name": "stderr",
     "output_type": "stream",
     "text": [
      "22/10/29 22:42:30 WARN WindowExec: No Partition Defined for Window operation! Moving all data to a single partition, this can cause serious performance degradation.\n",
      "22/10/29 22:42:30 WARN WindowExec: No Partition Defined for Window operation! Moving all data to a single partition, this can cause serious performance degradation.\n",
      "22/10/29 22:43:13 WARN WindowExec: No Partition Defined for Window operation! Moving all data to a single partition, this can cause serious performance degradation.\n",
      "22/10/29 22:43:13 WARN WindowExec: No Partition Defined for Window operation! Moving all data to a single partition, this can cause serious performance degradation.\n",
      "                                                                                \r"
     ]
    }
   ],
   "source": [
    "real_users = enc_features.sample(USER_GENERATOR_FRAC)\n",
    "syn_users = generator_3.generate(real_users.count())\n",
    "gen_score = evaluate_synthetic(\n",
    "    syn_users.drop('user_id'),\n",
    "    real_users.drop('user_idx')\n",
    ")"
   ]
  },
  {
   "cell_type": "code",
   "execution_count": 19,
   "metadata": {},
   "outputs": [
    {
     "data": {
      "text/plain": [
       "{'LogisticDetection': 0.340656881103391,\n",
       " 'SVCDetection': 0.037955358432662845,\n",
       " 'KSTest': 0.9332807933536927,\n",
       " 'ContinuousKLDivergence': 0.21630132962137294}"
      ]
     },
     "execution_count": 19,
     "metadata": {},
     "output_type": "execute_result"
    }
   ],
   "source": [
    "gen_score"
   ]
  },
  {
   "cell_type": "code",
   "execution_count": 20,
   "metadata": {},
   "outputs": [
    {
     "data": {
      "text/html": [
       "<div>\n",
       "<style scoped>\n",
       "    .dataframe tbody tr th:only-of-type {\n",
       "        vertical-align: middle;\n",
       "    }\n",
       "\n",
       "    .dataframe tbody tr th {\n",
       "        vertical-align: top;\n",
       "    }\n",
       "\n",
       "    .dataframe thead th {\n",
       "        text-align: right;\n",
       "    }\n",
       "</style>\n",
       "<table border=\"1\" class=\"dataframe\">\n",
       "  <thead>\n",
       "    <tr style=\"text-align: right;\">\n",
       "      <th></th>\n",
       "      <th>Model_name</th>\n",
       "      <th>Metric_score</th>\n",
       "      <th>Metric_name</th>\n",
       "    </tr>\n",
       "  </thead>\n",
       "  <tbody>\n",
       "    <tr>\n",
       "      <th>0</th>\n",
       "      <td>GaussianCopula</td>\n",
       "      <td>0.794191</td>\n",
       "      <td>LogisticDetection</td>\n",
       "    </tr>\n",
       "    <tr>\n",
       "      <th>1</th>\n",
       "      <td>GaussianCopula</td>\n",
       "      <td>0.442408</td>\n",
       "      <td>SVCDetection</td>\n",
       "    </tr>\n",
       "    <tr>\n",
       "      <th>2</th>\n",
       "      <td>GaussianCopula</td>\n",
       "      <td>0.838748</td>\n",
       "      <td>KSTest</td>\n",
       "    </tr>\n",
       "    <tr>\n",
       "      <th>3</th>\n",
       "      <td>GaussianCopula</td>\n",
       "      <td>0.783709</td>\n",
       "      <td>ContinuousKLDivergence</td>\n",
       "    </tr>\n",
       "    <tr>\n",
       "      <th>0</th>\n",
       "      <td>CTGAN</td>\n",
       "      <td>0.270421</td>\n",
       "      <td>LogisticDetection</td>\n",
       "    </tr>\n",
       "    <tr>\n",
       "      <th>1</th>\n",
       "      <td>CTGAN</td>\n",
       "      <td>0.053421</td>\n",
       "      <td>SVCDetection</td>\n",
       "    </tr>\n",
       "    <tr>\n",
       "      <th>2</th>\n",
       "      <td>CTGAN</td>\n",
       "      <td>0.926420</td>\n",
       "      <td>KSTest</td>\n",
       "    </tr>\n",
       "    <tr>\n",
       "      <th>3</th>\n",
       "      <td>CTGAN</td>\n",
       "      <td>0.212965</td>\n",
       "      <td>ContinuousKLDivergence</td>\n",
       "    </tr>\n",
       "    <tr>\n",
       "      <th>0</th>\n",
       "      <td>CopulaGAN</td>\n",
       "      <td>0.340657</td>\n",
       "      <td>LogisticDetection</td>\n",
       "    </tr>\n",
       "    <tr>\n",
       "      <th>1</th>\n",
       "      <td>CopulaGAN</td>\n",
       "      <td>0.037955</td>\n",
       "      <td>SVCDetection</td>\n",
       "    </tr>\n",
       "    <tr>\n",
       "      <th>2</th>\n",
       "      <td>CopulaGAN</td>\n",
       "      <td>0.933281</td>\n",
       "      <td>KSTest</td>\n",
       "    </tr>\n",
       "    <tr>\n",
       "      <th>3</th>\n",
       "      <td>CopulaGAN</td>\n",
       "      <td>0.216301</td>\n",
       "      <td>ContinuousKLDivergence</td>\n",
       "    </tr>\n",
       "  </tbody>\n",
       "</table>\n",
       "</div>"
      ],
      "text/plain": [
       "       Model_name  Metric_score             Metric_name\n",
       "0  GaussianCopula      0.794191       LogisticDetection\n",
       "1  GaussianCopula      0.442408            SVCDetection\n",
       "2  GaussianCopula      0.838748                  KSTest\n",
       "3  GaussianCopula      0.783709  ContinuousKLDivergence\n",
       "0           CTGAN      0.270421       LogisticDetection\n",
       "1           CTGAN      0.053421            SVCDetection\n",
       "2           CTGAN      0.926420                  KSTest\n",
       "3           CTGAN      0.212965  ContinuousKLDivergence\n",
       "0       CopulaGAN      0.340657       LogisticDetection\n",
       "1       CopulaGAN      0.037955            SVCDetection\n",
       "2       CopulaGAN      0.933281                  KSTest\n",
       "3       CopulaGAN      0.216301  ContinuousKLDivergence"
      ]
     },
     "execution_count": 20,
     "metadata": {},
     "output_type": "execute_result"
    }
   ],
   "source": [
    "gen_result = pd.DataFrame(index = np.arange(4))\n",
    "gen_result['Model_name'] = 'CopulaGAN'\n",
    "gen_result['Metric_score'] = [v for k, v in gen_score.items()]\n",
    "gen_result['Metric_name'] = [k for k, v in gen_score.items()]\n",
    "\n",
    "gen_result_df_enc = pd.concat([gen_result_df_enc, gen_result])\n",
    "gen_result_df_enc"
   ]
  },
  {
   "cell_type": "markdown",
   "metadata": {},
   "source": [
    "# TVAE"
   ]
  },
  {
   "cell_type": "code",
   "execution_count": 21,
   "metadata": {},
   "outputs": [
    {
     "name": "stderr",
     "output_type": "stream",
     "text": [
      "22/10/29 22:44:49 WARN WindowExec: No Partition Defined for Window operation! Moving all data to a single partition, this can cause serious performance degradation.\n",
      "22/10/29 22:44:49 WARN WindowExec: No Partition Defined for Window operation! Moving all data to a single partition, this can cause serious performance degradation.\n",
      "                                                                                \r"
     ]
    },
    {
     "name": "stdout",
     "output_type": "stream",
     "text": [
      "Fitting of TVAE on autoencoder embeddings: \n",
      "3646.0534279346466\n"
     ]
    }
   ],
   "source": [
    "generator_4 = SDVDataGenerator(\n",
    "    label='synth',\n",
    "    id_column_name='user_id',\n",
    "    model_name='tvae',\n",
    "    parallelization_level=4,\n",
    "    seed=1234\n",
    ")\n",
    "\n",
    "start = time.time()\n",
    "generator_4.fit(enc_features.drop('user_idx').sample(USER_GENERATOR_FRAC))\n",
    "end = time.time()\n",
    "print(\"Fitting of TVAE on autoencoder embeddings: \")\n",
    "print(end - start)"
   ]
  },
  {
   "cell_type": "code",
   "execution_count": 22,
   "metadata": {},
   "outputs": [
    {
     "name": "stderr",
     "output_type": "stream",
     "text": [
      "22/10/29 23:45:35 WARN WindowExec: No Partition Defined for Window operation! Moving all data to a single partition, this can cause serious performance degradation.\n",
      "22/10/29 23:45:35 WARN WindowExec: No Partition Defined for Window operation! Moving all data to a single partition, this can cause serious performance degradation.\n",
      "22/10/29 23:46:17 WARN WindowExec: No Partition Defined for Window operation! Moving all data to a single partition, this can cause serious performance degradation.\n",
      "22/10/29 23:46:17 WARN WindowExec: No Partition Defined for Window operation! Moving all data to a single partition, this can cause serious performance degradation.\n",
      "                                                                                \r"
     ]
    }
   ],
   "source": [
    "real_users = enc_features.sample(USER_GENERATOR_FRAC)\n",
    "syn_users = generator_4.generate(real_users.count())\n",
    "gen_score = evaluate_synthetic(\n",
    "    syn_users.drop('user_id'),\n",
    "    real_users.drop('user_idx')\n",
    ")"
   ]
  },
  {
   "cell_type": "code",
   "execution_count": 23,
   "metadata": {},
   "outputs": [
    {
     "data": {
      "text/plain": [
       "{'LogisticDetection': 0.8064438418397505,\n",
       " 'SVCDetection': 0.11270303317607333,\n",
       " 'KSTest': 0.9681786181233029,\n",
       " 'ContinuousKLDivergence': 0.27663749841650276}"
      ]
     },
     "execution_count": 23,
     "metadata": {},
     "output_type": "execute_result"
    }
   ],
   "source": [
    "gen_score"
   ]
  },
  {
   "cell_type": "code",
   "execution_count": 24,
   "metadata": {},
   "outputs": [
    {
     "data": {
      "text/html": [
       "<div>\n",
       "<style scoped>\n",
       "    .dataframe tbody tr th:only-of-type {\n",
       "        vertical-align: middle;\n",
       "    }\n",
       "\n",
       "    .dataframe tbody tr th {\n",
       "        vertical-align: top;\n",
       "    }\n",
       "\n",
       "    .dataframe thead th {\n",
       "        text-align: right;\n",
       "    }\n",
       "</style>\n",
       "<table border=\"1\" class=\"dataframe\">\n",
       "  <thead>\n",
       "    <tr style=\"text-align: right;\">\n",
       "      <th></th>\n",
       "      <th>Model_name</th>\n",
       "      <th>Metric_score</th>\n",
       "      <th>Metric_name</th>\n",
       "    </tr>\n",
       "  </thead>\n",
       "  <tbody>\n",
       "    <tr>\n",
       "      <th>0</th>\n",
       "      <td>GaussianCopula</td>\n",
       "      <td>0.794191</td>\n",
       "      <td>LogisticDetection</td>\n",
       "    </tr>\n",
       "    <tr>\n",
       "      <th>1</th>\n",
       "      <td>GaussianCopula</td>\n",
       "      <td>0.442408</td>\n",
       "      <td>SVCDetection</td>\n",
       "    </tr>\n",
       "    <tr>\n",
       "      <th>2</th>\n",
       "      <td>GaussianCopula</td>\n",
       "      <td>0.838748</td>\n",
       "      <td>KSTest</td>\n",
       "    </tr>\n",
       "    <tr>\n",
       "      <th>3</th>\n",
       "      <td>GaussianCopula</td>\n",
       "      <td>0.783709</td>\n",
       "      <td>ContinuousKLDivergence</td>\n",
       "    </tr>\n",
       "    <tr>\n",
       "      <th>0</th>\n",
       "      <td>CTGAN</td>\n",
       "      <td>0.270421</td>\n",
       "      <td>LogisticDetection</td>\n",
       "    </tr>\n",
       "    <tr>\n",
       "      <th>1</th>\n",
       "      <td>CTGAN</td>\n",
       "      <td>0.053421</td>\n",
       "      <td>SVCDetection</td>\n",
       "    </tr>\n",
       "    <tr>\n",
       "      <th>2</th>\n",
       "      <td>CTGAN</td>\n",
       "      <td>0.926420</td>\n",
       "      <td>KSTest</td>\n",
       "    </tr>\n",
       "    <tr>\n",
       "      <th>3</th>\n",
       "      <td>CTGAN</td>\n",
       "      <td>0.212965</td>\n",
       "      <td>ContinuousKLDivergence</td>\n",
       "    </tr>\n",
       "    <tr>\n",
       "      <th>0</th>\n",
       "      <td>CopulaGAN</td>\n",
       "      <td>0.340657</td>\n",
       "      <td>LogisticDetection</td>\n",
       "    </tr>\n",
       "    <tr>\n",
       "      <th>1</th>\n",
       "      <td>CopulaGAN</td>\n",
       "      <td>0.037955</td>\n",
       "      <td>SVCDetection</td>\n",
       "    </tr>\n",
       "    <tr>\n",
       "      <th>2</th>\n",
       "      <td>CopulaGAN</td>\n",
       "      <td>0.933281</td>\n",
       "      <td>KSTest</td>\n",
       "    </tr>\n",
       "    <tr>\n",
       "      <th>3</th>\n",
       "      <td>CopulaGAN</td>\n",
       "      <td>0.216301</td>\n",
       "      <td>ContinuousKLDivergence</td>\n",
       "    </tr>\n",
       "    <tr>\n",
       "      <th>0</th>\n",
       "      <td>TVAE</td>\n",
       "      <td>0.806444</td>\n",
       "      <td>LogisticDetection</td>\n",
       "    </tr>\n",
       "    <tr>\n",
       "      <th>1</th>\n",
       "      <td>TVAE</td>\n",
       "      <td>0.112703</td>\n",
       "      <td>SVCDetection</td>\n",
       "    </tr>\n",
       "    <tr>\n",
       "      <th>2</th>\n",
       "      <td>TVAE</td>\n",
       "      <td>0.968179</td>\n",
       "      <td>KSTest</td>\n",
       "    </tr>\n",
       "    <tr>\n",
       "      <th>3</th>\n",
       "      <td>TVAE</td>\n",
       "      <td>0.276637</td>\n",
       "      <td>ContinuousKLDivergence</td>\n",
       "    </tr>\n",
       "  </tbody>\n",
       "</table>\n",
       "</div>"
      ],
      "text/plain": [
       "       Model_name  Metric_score             Metric_name\n",
       "0  GaussianCopula      0.794191       LogisticDetection\n",
       "1  GaussianCopula      0.442408            SVCDetection\n",
       "2  GaussianCopula      0.838748                  KSTest\n",
       "3  GaussianCopula      0.783709  ContinuousKLDivergence\n",
       "0           CTGAN      0.270421       LogisticDetection\n",
       "1           CTGAN      0.053421            SVCDetection\n",
       "2           CTGAN      0.926420                  KSTest\n",
       "3           CTGAN      0.212965  ContinuousKLDivergence\n",
       "0       CopulaGAN      0.340657       LogisticDetection\n",
       "1       CopulaGAN      0.037955            SVCDetection\n",
       "2       CopulaGAN      0.933281                  KSTest\n",
       "3       CopulaGAN      0.216301  ContinuousKLDivergence\n",
       "0            TVAE      0.806444       LogisticDetection\n",
       "1            TVAE      0.112703            SVCDetection\n",
       "2            TVAE      0.968179                  KSTest\n",
       "3            TVAE      0.276637  ContinuousKLDivergence"
      ]
     },
     "execution_count": 24,
     "metadata": {},
     "output_type": "execute_result"
    }
   ],
   "source": [
    "gen_result = pd.DataFrame(index = np.arange(4))\n",
    "gen_result['Model_name'] = 'TVAE'\n",
    "gen_result['Metric_score'] = [v for k, v in gen_score.items()]\n",
    "gen_result['Metric_name'] = [k for k, v in gen_score.items()]\n",
    "\n",
    "gen_result_df_enc = pd.concat([gen_result_df_enc, gen_result])\n",
    "gen_result_df_enc"
   ]
  },
  {
   "cell_type": "code",
   "execution_count": 27,
   "metadata": {},
   "outputs": [
    {
     "data": {
      "image/png": "[encoded data removed]",
      "text/plain": [
       "<Figure size 1600x800 with 1 Axes>"
      ]
     },
     "metadata": {},
     "output_type": "display_data"
    }
   ],
   "source": [
    "rcParams['figure.figsize'] = (3, 3)\n",
    "matplotlib.rc('xtick', labelsize=15) \n",
    "matplotlib.rc('ytick', labelsize=15)\n",
    "sns.set(font_scale=1.8) \n",
    "plot = sns.catplot(data=gen_result_df_enc, x=\"Metric_name\", y=\"Metric_score\", hue=\"Model_name\", kind=\"bar\", aspect=2, height=8, palette=[\n",
    "    \"C1\", \"C2\", \"C0\", \"C3\", \"C4\"\n",
    "], legend=False)\n",
    "ax = plot.facet_axis(0,0)\n",
    "hist_val = create_hist_values(gen_result_df_enc)\n",
    "for (p, val) in zip(ax.patches, hist_val):\n",
    "    ax.text(p.get_x() - 0.01, \n",
    "            p.get_height() * 1.02, \n",
    "           '{:1.2f}'.format(val),   \n",
    "            color='black', \n",
    "            rotation='horizontal', \n",
    "            size='medium')\n",
    "plt.legend(loc='upper center', bbox_to_anchor=(0.5, -0.1), fancybox=True, ncol=5)\n",
    "plt.tight_layout()"
   ]
  },
  {
   "cell_type": "markdown",
   "metadata": {},
   "source": [
    "# Response function Real component quality"
   ]
  },
  {
   "cell_type": "markdown",
   "metadata": {},
   "source": [
    "# Logistic Regression"
   ]
  },
  {
   "cell_type": "code",
   "execution_count": 10,
   "metadata": {},
   "outputs": [
    {
     "name": "stderr",
     "output_type": "stream",
     "text": [
      "22/11/07 11:05:50 WARN WindowExec: No Partition Defined for Window operation! Moving all data to a single partition, this can cause serious performance degradation.\n",
      "22/11/07 11:05:50 WARN WindowExec: No Partition Defined for Window operation! Moving all data to a single partition, this can cause serious performance degradation.\n",
      "22/11/07 11:05:52 WARN WindowExec: No Partition Defined for Window operation! Moving all data to a single partition, this can cause serious performance degradation.\n",
      "22/11/07 11:05:52 WARN WindowExec: No Partition Defined for Window operation! Moving all data to a single partition, this can cause serious performance degradation.\n",
      "22/11/07 11:08:10 WARN BLAS: Failed to load implementation from: com.github.fommil.netlib.NativeSystemBLAS\n",
      "22/11/07 11:08:10 WARN BLAS: Failed to load implementation from: com.github.fommil.netlib.NativeRefBLAS\n",
      "22/11/07 11:09:00 WARN WindowExec: No Partition Defined for Window operation! Moving all data to a single partition, this can cause serious performance degradation.\n",
      "22/11/07 11:09:00 WARN WindowExec: No Partition Defined for Window operation! Moving all data to a single partition, this can cause serious performance degradation.\n"
     ]
    },
    {
     "name": "stdout",
     "output_type": "stream",
     "text": [
      "Fitting of logistic regression: \n",
      "193.35372161865234\n"
     ]
    },
    {
     "name": "stderr",
     "output_type": "stream",
     "text": [
      "22/11/07 11:09:01 WARN WindowExec: No Partition Defined for Window operation! Moving all data to a single partition, this can cause serious performance degradation.\n",
      "22/11/07 11:09:01 WARN WindowExec: No Partition Defined for Window operation! Moving all data to a single partition, this can cause serious performance degradation.\n"
     ]
    }
   ],
   "source": [
    "va = VectorAssembler(\n",
    "    inputCols=enc_features.columns[:-1] + ITEMS_FEATURES,\n",
    "    outputCol='features'\n",
    ")\n",
    "\n",
    "lr = LogisticRegression(\n",
    "    featuresCol='features',\n",
    "    labelCol='relevance',\n",
    "    probabilityCol='__lr_prob'\n",
    ")\n",
    "\n",
    "train_df = log_df_val.join(enc_features, 'user_idx', 'left')\\\n",
    "                     .join(items_df_train, 'item_idx', 'left')\\\n",
    "                     .drop('timestamp')\n",
    "train_df = train_df.na.drop()\n",
    "\n",
    "start = time.time()\n",
    "lr_model = lr.fit(va.transform(train_df))\n",
    "end = time.time()\n",
    "print(\"Fitting of logistic regression: \")\n",
    "print(end - start)"
   ]
  },
  {
   "cell_type": "code",
   "execution_count": 11,
   "metadata": {},
   "outputs": [],
   "source": [
    "vee = VectorElementExtractor(inputCol='__lr_prob', outputCol='__r1', index=1)\n",
    "br = BernoulliResponse (inputCol='__r1', outputCol='response', seed=1234)\n",
    "pipeline = Pipeline(\n",
    "    stages=[\n",
    "        va,\n",
    "        lr_model,\n",
    "        vee,\n",
    "        br\n",
    "    ]\n",
    ")"
   ]
  },
  {
   "cell_type": "code",
   "execution_count": 12,
   "metadata": {},
   "outputs": [],
   "source": [
    "test_df = log_df_test.join(enc_features_val, 'user_idx', 'left')\\\n",
    "                     .join(items_df_val, 'item_idx', 'left')\\\n",
    "                     .drop('timestamp')\n",
    "test_df = test_df.na.drop()"
   ]
  },
  {
   "cell_type": "code",
   "execution_count": 13,
   "metadata": {},
   "outputs": [
    {
     "name": "stdout",
     "output_type": "stream",
     "text": [
      "Pipeline fitting: \n",
      "0.0043487548828125\n"
     ]
    },
    {
     "name": "stderr",
     "output_type": "stream",
     "text": [
      "22/11/07 11:09:05 WARN WindowExec: No Partition Defined for Window operation! Moving all data to a single partition, this can cause serious performance degradation.\n",
      "22/11/07 11:09:05 WARN WindowExec: No Partition Defined for Window operation! Moving all data to a single partition, this can cause serious performance degradation.\n",
      "                                                                                \r"
     ]
    }
   ],
   "source": [
    "start = time.time()\n",
    "ber_lr_model = pipeline.fit(train_df)\n",
    "end = time.time()\n",
    "print(\"Pipeline fitting: \")\n",
    "print(end - start)\n",
    "pred_df = ber_lr_model.transform(test_df).select(\"user_idx\", \"item_idx\", \"relevance\", \"__r1\").toPandas()"
   ]
  },
  {
   "cell_type": "code",
   "execution_count": 14,
   "metadata": {},
   "outputs": [
    {
     "name": "stdout",
     "output_type": "stream",
     "text": [
      "Regression ROC AUC: 0.6737337323365594\n"
     ]
    }
   ],
   "source": [
    "print(f\"Regression ROC AUC: {roc_auc_score(pred_df.relevance, pred_df.__r1)}\")"
   ]
  },
  {
   "cell_type": "markdown",
   "metadata": {},
   "source": [
    "# Random forest"
   ]
  },
  {
   "cell_type": "code",
   "execution_count": 15,
   "metadata": {},
   "outputs": [
    {
     "name": "stderr",
     "output_type": "stream",
     "text": [
      "22/11/07 11:11:59 WARN WindowExec: No Partition Defined for Window operation! Moving all data to a single partition, this can cause serious performance degradation.\n",
      "22/11/07 11:11:59 WARN WindowExec: No Partition Defined for Window operation! Moving all data to a single partition, this can cause serious performance degradation.\n",
      "22/11/07 11:12:01 WARN WindowExec: No Partition Defined for Window operation! Moving all data to a single partition, this can cause serious performance degradation.\n",
      "22/11/07 11:12:01 WARN WindowExec: No Partition Defined for Window operation! Moving all data to a single partition, this can cause serious performance degradation.\n",
      "22/11/07 11:13:52 WARN WindowExec: No Partition Defined for Window operation! Moving all data to a single partition, this can cause serious performance degradation.\n",
      "22/11/07 11:13:52 WARN WindowExec: No Partition Defined for Window operation! Moving all data to a single partition, this can cause serious performance degradation.\n",
      "22/11/07 11:16:35 WARN WindowExec: No Partition Defined for Window operation! Moving all data to a single partition, this can cause serious performance degradation.\n",
      "22/11/07 11:16:35 WARN WindowExec: No Partition Defined for Window operation! Moving all data to a single partition, this can cause serious performance degradation.\n"
     ]
    },
    {
     "name": "stdout",
     "output_type": "stream",
     "text": [
      "Fitting of random forest: \n",
      "278.3545169830322\n"
     ]
    },
    {
     "name": "stderr",
     "output_type": "stream",
     "text": [
      "22/11/07 11:16:36 WARN WindowExec: No Partition Defined for Window operation! Moving all data to a single partition, this can cause serious performance degradation.\n",
      "22/11/07 11:16:36 WARN WindowExec: No Partition Defined for Window operation! Moving all data to a single partition, this can cause serious performance degradation.\n"
     ]
    }
   ],
   "source": [
    "rf = RandomForestClassifier(\n",
    "    featuresCol='features',\n",
    "    labelCol='relevance',\n",
    "    probabilityCol='__rf_prob'\n",
    ")\n",
    "\n",
    "start = time.time()\n",
    "rf_model = rf.fit(va.transform(train_df))\n",
    "end = time.time()\n",
    "print(\"Fitting of random forest: \")\n",
    "print(end - start)"
   ]
  },
  {
   "cell_type": "code",
   "execution_count": 16,
   "metadata": {},
   "outputs": [],
   "source": [
    "vee = VectorElementExtractor(inputCol='__rf_prob', outputCol='__r1', index=1)\n",
    "br = BernoulliResponse(inputCol='__r1', outputCol='response', seed=1234)\n",
    "pipeline = Pipeline(\n",
    "    stages=[\n",
    "        va,\n",
    "        rf_model,\n",
    "        vee,\n",
    "        br\n",
    "    ]\n",
    ")"
   ]
  },
  {
   "cell_type": "code",
   "execution_count": 17,
   "metadata": {},
   "outputs": [
    {
     "name": "stdout",
     "output_type": "stream",
     "text": [
      "Pipeline fitting: \n",
      "0.0009441375732421875\n"
     ]
    },
    {
     "name": "stderr",
     "output_type": "stream",
     "text": [
      "22/11/07 11:16:39 WARN WindowExec: No Partition Defined for Window operation! Moving all data to a single partition, this can cause serious performance degradation.\n",
      "22/11/07 11:16:39 WARN WindowExec: No Partition Defined for Window operation! Moving all data to a single partition, this can cause serious performance degradation.\n",
      "                                                                                \r"
     ]
    }
   ],
   "source": [
    "start = time.time()\n",
    "ber_rf_model = pipeline.fit(train_df)\n",
    "end = time.time()\n",
    "print(\"Pipeline fitting: \")\n",
    "print(end - start)\n",
    "pred_df = ber_rf_model.transform(test_df).select(\"user_idx\", \"item_idx\", \"relevance\", \"__r1\").toPandas()"
   ]
  },
  {
   "cell_type": "code",
   "execution_count": 18,
   "metadata": {},
   "outputs": [
    {
     "name": "stdout",
     "output_type": "stream",
     "text": [
      "Random forest ROC AUC: 0.5961702447710591\n"
     ]
    }
   ],
   "source": [
    "print(f\"Random forest ROC AUC: {roc_auc_score(pred_df.relevance, pred_df.__r1)}\")"
   ]
  },
  {
   "cell_type": "markdown",
   "metadata": {},
   "source": [
    "Качество моделей генерации синтетики в случае эмбеддингов на основе автоэнкодера хуже чем в случае PCA. Качество компоненты Real на эмбеддингах сопоставимо с качеством компоненты Real на исходных профилях для всех моделей отклика.\n",
    "\n",
    "По результатам экспериментального исследования было принято решение об использовании эмбеддингов профилей пользователей на основе PCA и модели CopulaGAN в случае датасета Amazon."
   ]
  },
  {
   "cell_type": "code",
   "execution_count": null,
   "metadata": {},
   "outputs": [],
   "source": []
  }
 ],
 "metadata": {
  "kernelspec": {
   "display_name": "Python [conda env:.conda-sim-exp]",
   "language": "python",
   "name": "conda-env-.conda-sim-exp-py"
  },
  "language_info": {
   "codemirror_mode": {
    "name": "ipython",
    "version": 3
   },
   "file_extension": ".py",
   "mimetype": "text/x-python",
   "name": "python",
   "nbconvert_exporter": "python",
   "pygments_lexer": "ipython3",
   "version": "3.8.13"
  },
  "vscode": {
   "interpreter": {
    "hash": "0c23ac1ac3d03469769ffca4283c7852312778d94b2cbd9b1a60eeafc1c4055f"
   }
  }
 },
 "nbformat": 4,
 "nbformat_minor": 4
}
