{
 "cells": [
  {
   "cell_type": "markdown",
   "metadata": {},
   "source": [
    "В этом ноутбуке исследуется качество четырех моделей (GaussianCopula, CTGAN, CopulaGAN, TVAE) генерации синтетических данных применительно к задаче генерации синтетических профилей пользователей из датасета Amazon."
   ]
  },
  {
   "cell_type": "code",
   "execution_count": 1,
   "metadata": {},
   "outputs": [
    {
     "name": "stderr",
     "output_type": "stream",
     "text": [
      "22/11/14 13:35:13 WARN NativeCodeLoader: Unable to load native-hadoop library for your platform... using builtin-java classes where applicable\n",
      "Using Spark's default log4j profile: org/apache/spark/log4j-defaults.properties\n",
      "Setting default log level to \"WARN\".\n",
      "To adjust logging level use sc.setLogLevel(newLevel). For SparkR, use setLogLevel(newLevel).\n",
      "22/11/14 13:35:14 WARN SparkConf: Note that spark.local.dir will be overridden by the value set by the cluster manager (via SPARK_LOCAL_DIRS in mesos/standalone/kubernetes and LOCAL_DIRS in YARN).\n",
      "22/11/14 13:35:15 WARN Utils: Service 'SparkUI' could not bind on port 4040. Attempting port 4041.\n"
     ]
    },
    {
     "data": {
      "text/plain": [
       "<replay.session_handler.State at 0x7f54de9693a0>"
      ]
     },
     "execution_count": 1,
     "metadata": {},
     "output_type": "execute_result"
    }
   ],
   "source": [
    "import warnings\n",
    "warnings.filterwarnings(\"ignore\")\n",
    "\n",
    "import time\n",
    "import itertools\n",
    "\n",
    "import pandas as pd\n",
    "import numpy as np\n",
    "\n",
    "import pyspark.sql.types as st\n",
    "import pyspark.sql.functions as sf\n",
    "from pyspark import SparkConf\n",
    "from pyspark.sql import SparkSession\n",
    "\n",
    "from replay.session_handler import State\n",
    "from sim4rec.utils import pandas_to_spark\n",
    "from sim4rec.modules import SDVDataGenerator, evaluate_synthetic\n",
    "\n",
    "%matplotlib inline\n",
    "import matplotlib\n",
    "import seaborn as sns\n",
    "import matplotlib.pyplot as plt\n",
    "from matplotlib import rcParams\n",
    "\n",
    "SPARK_LOCAL_DIR = './tmp'\n",
    "DATA_PATH = r'file:///mnt/dgxhome/home/estavinova/simulator/Amazon/home'\n",
    "\n",
    "spark = SparkSession.builder\\\n",
    "    .appName('simulator_movielens')\\\n",
    "    .master('local[8]')\\\n",
    "    .config('spark.sql.shuffle.partitions', '8')\\\n",
    "    .config('spark.default.parallelism', '8')\\\n",
    "    .config('spark.driver.extraJavaOptions', '-XX:+UseG1GC')\\\n",
    "    .config('spark.executor.extraJavaOptions', '-XX:+UseG1GC')\\\n",
    "    .config('spark.sql.autoBroadcastJoinThreshold', '-1')\\\n",
    "    .config('spark.driver.memory', '20g')\\\n",
    "    .config('spark.local.dir', SPARK_LOCAL_DIR)\\\n",
    "    .getOrCreate()\n",
    "\n",
    "State(spark)"
   ]
  },
  {
   "cell_type": "markdown",
   "metadata": {},
   "source": [
    "# Read data"
   ]
  },
  {
   "cell_type": "markdown",
   "metadata": {},
   "source": [
    "Работаем с предобработанными данными, которые разделены на три части по времени выставления рейтинга. Оценки 1 и 2 считаем отрицательными (0); 3, 4 и 5 -- положительными (1).\n",
    "\n",
    "Данные были предварительно предобработаны (код в папке Amazon): составлены профили польззователей и предложений по истории откликов, а также данные разделены по времени выставления оценок на обучающую, валидационную и тестовую выборки."
   ]
  },
  {
   "cell_type": "code",
   "execution_count": null,
   "metadata": {},
   "outputs": [
    {
     "name": "stderr",
     "output_type": "stream",
     "text": [
      "\r\n",
      "[Stage 0:>                                                          (0 + 1) / 1]\r"
     ]
    }
   ],
   "source": [
    "USER_PREFIX = 'user_'\n",
    "\n",
    "SAMPLE_FRAC = 0.0033\n",
    "\n",
    "users_df_train = spark.read.parquet(f'{DATA_PATH}/train/users.parquet')\n",
    "\n",
    "for c in users_df_train.columns[1:]:\n",
    "    users_df_train = users_df_train.withColumnRenamed(c, USER_PREFIX + c)\n",
    "\n",
    "users_df_train = users_df_train.cache()\n",
    "users_df_train.count()"
   ]
  },
  {
   "cell_type": "markdown",
   "metadata": {},
   "source": [
    "# Fit Gaussian Copula"
   ]
  },
  {
   "cell_type": "markdown",
   "metadata": {},
   "source": [
    "Обучаем генераторы на сэмплах (sample(0.0033) -- примерно 10 тыс. пользователей) с целью экономии времени в данном ноутбуке. Вообще пробовали и на больших кусках, но на качество особенно не влияло."
   ]
  },
  {
   "cell_type": "code",
   "execution_count": 5,
   "metadata": {},
   "outputs": [
    {
     "name": "stderr",
     "output_type": "stream",
     "text": [
      "                                                                                \r"
     ]
    },
    {
     "name": "stdout",
     "output_type": "stream",
     "text": [
      "Fitting of GaussianCopula: 16.55379056930542\n"
     ]
    }
   ],
   "source": [
    "generator_1 = SDVDataGenerator(\n",
    "    label='synth',\n",
    "    id_column_name='user_idx',\n",
    "    model_name='gaussiancopula',\n",
    "    parallelization_level=4,\n",
    "    device_name='cpu',\n",
    "    seed=1234\n",
    ")\n",
    "\n",
    "start = time.time()\n",
    "generator_1.fit(users_df_train.sample(SAMPLE_FRAC).drop('user_idx'))\n",
    "print(f'Fitting of GaussianCopula: {time.time() - start}')\n",
    "\n",
    "generator_1.save_model('../bin/amazon_users_gaussiancopula.pkl')"
   ]
  },
  {
   "cell_type": "markdown",
   "metadata": {},
   "source": [
    "# Gaussian Copula data quality"
   ]
  },
  {
   "cell_type": "markdown",
   "metadata": {},
   "source": [
    "Качество моделей генерации синтетических данных оценивается с помощью четырех метрик:\n",
    "\n",
    "-- Logistic Detection\n",
    "\n",
    "-- SVC Detection\n",
    "\n",
    "-- KS Test\n",
    "\n",
    "-- KL Divergence"
   ]
  },
  {
   "cell_type": "code",
   "execution_count": 6,
   "metadata": {},
   "outputs": [
    {
     "name": "stderr",
     "output_type": "stream",
     "text": [
      "22/10/27 12:19:29 WARN DAGScheduler: Broadcasting large task binary with size 1030.1 KiB\n",
      "22/10/27 12:19:37 WARN DAGScheduler: Broadcasting large task binary with size 1031.7 KiB\n",
      "                                                                                \r"
     ]
    },
    {
     "name": "stdout",
     "output_type": "stream",
     "text": [
      "{'LogisticDetection': 0.15312028211413364, 'SVCDetection': 0.037366398393442135, 'KSTest': 0.9588792229000899, 'ContinuousKLDivergence': 0.9655466668505716}\n"
     ]
    },
    {
     "data": {
      "text/html": [
       "<div>\n",
       "<style scoped>\n",
       "    .dataframe tbody tr th:only-of-type {\n",
       "        vertical-align: middle;\n",
       "    }\n",
       "\n",
       "    .dataframe tbody tr th {\n",
       "        vertical-align: top;\n",
       "    }\n",
       "\n",
       "    .dataframe thead th {\n",
       "        text-align: right;\n",
       "    }\n",
       "</style>\n",
       "<table border=\"1\" class=\"dataframe\">\n",
       "  <thead>\n",
       "    <tr style=\"text-align: right;\">\n",
       "      <th></th>\n",
       "      <th>Model_name</th>\n",
       "      <th>Metric_score</th>\n",
       "      <th>Metric_name</th>\n",
       "    </tr>\n",
       "  </thead>\n",
       "  <tbody>\n",
       "    <tr>\n",
       "      <th>0</th>\n",
       "      <td>GaussianCopula</td>\n",
       "      <td>0.153120</td>\n",
       "      <td>LogisticDetection</td>\n",
       "    </tr>\n",
       "    <tr>\n",
       "      <th>1</th>\n",
       "      <td>GaussianCopula</td>\n",
       "      <td>0.037366</td>\n",
       "      <td>SVCDetection</td>\n",
       "    </tr>\n",
       "    <tr>\n",
       "      <th>2</th>\n",
       "      <td>GaussianCopula</td>\n",
       "      <td>0.958879</td>\n",
       "      <td>KSTest</td>\n",
       "    </tr>\n",
       "    <tr>\n",
       "      <th>3</th>\n",
       "      <td>GaussianCopula</td>\n",
       "      <td>0.965547</td>\n",
       "      <td>ContinuousKLDivergence</td>\n",
       "    </tr>\n",
       "  </tbody>\n",
       "</table>\n",
       "</div>"
      ],
      "text/plain": [
       "       Model_name  Metric_score             Metric_name\n",
       "0  GaussianCopula      0.153120       LogisticDetection\n",
       "1  GaussianCopula      0.037366            SVCDetection\n",
       "2  GaussianCopula      0.958879                  KSTest\n",
       "3  GaussianCopula      0.965547  ContinuousKLDivergence"
      ]
     },
     "execution_count": 6,
     "metadata": {},
     "output_type": "execute_result"
    }
   ],
   "source": [
    "real_users = users_df_train.sample(SAMPLE_FRAC)\n",
    "syn_users = generator_1.generate(real_users.count())\n",
    "gen_score = evaluate_synthetic(\n",
    "    syn_users.drop('user_idx'),\n",
    "    real_users.drop('user_idx')\n",
    ")\n",
    "\n",
    "print(gen_score)\n",
    "\n",
    "gen_result = pd.DataFrame(index = np.arange(4))\n",
    "gen_result['Model_name'] = 'GaussianCopula'\n",
    "gen_result['Metric_score'] = [v for k, v in gen_score.items()]\n",
    "gen_result['Metric_name'] = [k for k, v in gen_score.items()]\n",
    "\n",
    "gen_result_df = pd.DataFrame()\n",
    "gen_result_df = pd.concat([gen_result_df, gen_result])\n",
    "\n",
    "gen_result_df"
   ]
  },
  {
   "cell_type": "markdown",
   "metadata": {},
   "source": [
    "# Fit CTGAN"
   ]
  },
  {
   "cell_type": "code",
   "execution_count": 7,
   "metadata": {},
   "outputs": [
    {
     "name": "stderr",
     "output_type": "stream",
     "text": [
      "                                                                                \r"
     ]
    },
    {
     "name": "stdout",
     "output_type": "stream",
     "text": [
      "Fitting of CTGAN: 2200.7979066371918\n"
     ]
    }
   ],
   "source": [
    "generator_2 = SDVDataGenerator(\n",
    "    label='synth',\n",
    "    id_column_name='user_idx',\n",
    "    model_name='ctgan',\n",
    "    parallelization_level=4,\n",
    "    device_name='cuda:0',\n",
    "    seed=1234\n",
    ")\n",
    "\n",
    "start = time.time()\n",
    "generator_2.fit(users_df_train.sample(SAMPLE_FRAC).drop('user_idx'))\n",
    "print(f'Fitting of CTGAN: {time.time() - start}')\n",
    "\n",
    "generator_2.save_model('../bin/amazon_users_ctgan.pkl')"
   ]
  },
  {
   "cell_type": "markdown",
   "metadata": {},
   "source": [
    "# CTGAN data quality"
   ]
  },
  {
   "cell_type": "code",
   "execution_count": 8,
   "metadata": {},
   "outputs": [
    {
     "name": "stderr",
     "output_type": "stream",
     "text": [
      "                                                                                \r"
     ]
    },
    {
     "name": "stdout",
     "output_type": "stream",
     "text": [
      "{'LogisticDetection': 0.0005314714733488657, 'SVCDetection': 1.4901624196816954e-05, 'KSTest': 0.846145462054412, 'ContinuousKLDivergence': 0.7876823960060024}\n"
     ]
    },
    {
     "data": {
      "text/html": [
       "<div>\n",
       "<style scoped>\n",
       "    .dataframe tbody tr th:only-of-type {\n",
       "        vertical-align: middle;\n",
       "    }\n",
       "\n",
       "    .dataframe tbody tr th {\n",
       "        vertical-align: top;\n",
       "    }\n",
       "\n",
       "    .dataframe thead th {\n",
       "        text-align: right;\n",
       "    }\n",
       "</style>\n",
       "<table border=\"1\" class=\"dataframe\">\n",
       "  <thead>\n",
       "    <tr style=\"text-align: right;\">\n",
       "      <th></th>\n",
       "      <th>Model_name</th>\n",
       "      <th>Metric_score</th>\n",
       "      <th>Metric_name</th>\n",
       "    </tr>\n",
       "  </thead>\n",
       "  <tbody>\n",
       "    <tr>\n",
       "      <th>0</th>\n",
       "      <td>GaussianCopula</td>\n",
       "      <td>0.153120</td>\n",
       "      <td>LogisticDetection</td>\n",
       "    </tr>\n",
       "    <tr>\n",
       "      <th>1</th>\n",
       "      <td>GaussianCopula</td>\n",
       "      <td>0.037366</td>\n",
       "      <td>SVCDetection</td>\n",
       "    </tr>\n",
       "    <tr>\n",
       "      <th>2</th>\n",
       "      <td>GaussianCopula</td>\n",
       "      <td>0.958879</td>\n",
       "      <td>KSTest</td>\n",
       "    </tr>\n",
       "    <tr>\n",
       "      <th>3</th>\n",
       "      <td>GaussianCopula</td>\n",
       "      <td>0.965547</td>\n",
       "      <td>ContinuousKLDivergence</td>\n",
       "    </tr>\n",
       "    <tr>\n",
       "      <th>0</th>\n",
       "      <td>CTGAN</td>\n",
       "      <td>0.000531</td>\n",
       "      <td>LogisticDetection</td>\n",
       "    </tr>\n",
       "    <tr>\n",
       "      <th>1</th>\n",
       "      <td>CTGAN</td>\n",
       "      <td>0.000015</td>\n",
       "      <td>SVCDetection</td>\n",
       "    </tr>\n",
       "    <tr>\n",
       "      <th>2</th>\n",
       "      <td>CTGAN</td>\n",
       "      <td>0.846145</td>\n",
       "      <td>KSTest</td>\n",
       "    </tr>\n",
       "    <tr>\n",
       "      <th>3</th>\n",
       "      <td>CTGAN</td>\n",
       "      <td>0.787682</td>\n",
       "      <td>ContinuousKLDivergence</td>\n",
       "    </tr>\n",
       "  </tbody>\n",
       "</table>\n",
       "</div>"
      ],
      "text/plain": [
       "       Model_name  Metric_score             Metric_name\n",
       "0  GaussianCopula      0.153120       LogisticDetection\n",
       "1  GaussianCopula      0.037366            SVCDetection\n",
       "2  GaussianCopula      0.958879                  KSTest\n",
       "3  GaussianCopula      0.965547  ContinuousKLDivergence\n",
       "0           CTGAN      0.000531       LogisticDetection\n",
       "1           CTGAN      0.000015            SVCDetection\n",
       "2           CTGAN      0.846145                  KSTest\n",
       "3           CTGAN      0.787682  ContinuousKLDivergence"
      ]
     },
     "execution_count": 8,
     "metadata": {},
     "output_type": "execute_result"
    }
   ],
   "source": [
    "real_users = users_df_train.sample(SAMPLE_FRAC)\n",
    "syn_users = generator_2.generate(real_users.count())\n",
    "gen_score = evaluate_synthetic(\n",
    "    syn_users.drop('user_idx'),\n",
    "    real_users.drop('user_idx')\n",
    ")\n",
    "\n",
    "print(gen_score)\n",
    "\n",
    "gen_result = pd.DataFrame(index = np.arange(4))\n",
    "gen_result['Model_name'] = 'CTGAN'\n",
    "gen_result['Metric_score'] = [v for k, v in gen_score.items()]\n",
    "gen_result['Metric_name'] = [k for k, v in gen_score.items()]\n",
    "\n",
    "gen_result_df = pd.concat([gen_result_df, gen_result])\n",
    "gen_result_df"
   ]
  },
  {
   "cell_type": "markdown",
   "metadata": {},
   "source": [
    "# Fit CopulaGAN"
   ]
  },
  {
   "cell_type": "code",
   "execution_count": 9,
   "metadata": {},
   "outputs": [
    {
     "name": "stderr",
     "output_type": "stream",
     "text": [
      "                                                                                \r"
     ]
    },
    {
     "name": "stdout",
     "output_type": "stream",
     "text": [
      "Fitting of CopulaGAN: 2242.621794462204\n"
     ]
    }
   ],
   "source": [
    "generator_3= SDVDataGenerator(\n",
    "    label='synth',\n",
    "    id_column_name='user_idx',\n",
    "    model_name='copulagan',\n",
    "    parallelization_level=4,\n",
    "    device_name='cuda:0',\n",
    "    seed=1234\n",
    ")\n",
    "\n",
    "start = time.time()\n",
    "generator_3.fit(users_df_train.sample(SAMPLE_FRAC).drop('user_idx'))\n",
    "print(f'Fitting of CopulaGAN: {time.time() - start}')\n",
    "\n",
    "generator_3.save_model('../bin/amazon_users_copulagan.pkl')"
   ]
  },
  {
   "cell_type": "markdown",
   "metadata": {},
   "source": [
    "# CopulaGAN data quality"
   ]
  },
  {
   "cell_type": "code",
   "execution_count": 10,
   "metadata": {},
   "outputs": [
    {
     "name": "stderr",
     "output_type": "stream",
     "text": [
      "                                                                                \r"
     ]
    },
    {
     "name": "stdout",
     "output_type": "stream",
     "text": [
      "{'LogisticDetection': 0.0026612135045077645, 'SVCDetection': 0.00014200576779932472, 'KSTest': 0.8837671212055125, 'ContinuousKLDivergence': 0.8115995187779921}\n"
     ]
    },
    {
     "data": {
      "text/html": [
       "<div>\n",
       "<style scoped>\n",
       "    .dataframe tbody tr th:only-of-type {\n",
       "        vertical-align: middle;\n",
       "    }\n",
       "\n",
       "    .dataframe tbody tr th {\n",
       "        vertical-align: top;\n",
       "    }\n",
       "\n",
       "    .dataframe thead th {\n",
       "        text-align: right;\n",
       "    }\n",
       "</style>\n",
       "<table border=\"1\" class=\"dataframe\">\n",
       "  <thead>\n",
       "    <tr style=\"text-align: right;\">\n",
       "      <th></th>\n",
       "      <th>Model_name</th>\n",
       "      <th>Metric_score</th>\n",
       "      <th>Metric_name</th>\n",
       "    </tr>\n",
       "  </thead>\n",
       "  <tbody>\n",
       "    <tr>\n",
       "      <th>0</th>\n",
       "      <td>GaussianCopula</td>\n",
       "      <td>0.153120</td>\n",
       "      <td>LogisticDetection</td>\n",
       "    </tr>\n",
       "    <tr>\n",
       "      <th>1</th>\n",
       "      <td>GaussianCopula</td>\n",
       "      <td>0.037366</td>\n",
       "      <td>SVCDetection</td>\n",
       "    </tr>\n",
       "    <tr>\n",
       "      <th>2</th>\n",
       "      <td>GaussianCopula</td>\n",
       "      <td>0.958879</td>\n",
       "      <td>KSTest</td>\n",
       "    </tr>\n",
       "    <tr>\n",
       "      <th>3</th>\n",
       "      <td>GaussianCopula</td>\n",
       "      <td>0.965547</td>\n",
       "      <td>ContinuousKLDivergence</td>\n",
       "    </tr>\n",
       "    <tr>\n",
       "      <th>0</th>\n",
       "      <td>CTGAN</td>\n",
       "      <td>0.000531</td>\n",
       "      <td>LogisticDetection</td>\n",
       "    </tr>\n",
       "    <tr>\n",
       "      <th>1</th>\n",
       "      <td>CTGAN</td>\n",
       "      <td>0.000015</td>\n",
       "      <td>SVCDetection</td>\n",
       "    </tr>\n",
       "    <tr>\n",
       "      <th>2</th>\n",
       "      <td>CTGAN</td>\n",
       "      <td>0.846145</td>\n",
       "      <td>KSTest</td>\n",
       "    </tr>\n",
       "    <tr>\n",
       "      <th>3</th>\n",
       "      <td>CTGAN</td>\n",
       "      <td>0.787682</td>\n",
       "      <td>ContinuousKLDivergence</td>\n",
       "    </tr>\n",
       "    <tr>\n",
       "      <th>0</th>\n",
       "      <td>CopulaGAN</td>\n",
       "      <td>0.002661</td>\n",
       "      <td>LogisticDetection</td>\n",
       "    </tr>\n",
       "    <tr>\n",
       "      <th>1</th>\n",
       "      <td>CopulaGAN</td>\n",
       "      <td>0.000142</td>\n",
       "      <td>SVCDetection</td>\n",
       "    </tr>\n",
       "    <tr>\n",
       "      <th>2</th>\n",
       "      <td>CopulaGAN</td>\n",
       "      <td>0.883767</td>\n",
       "      <td>KSTest</td>\n",
       "    </tr>\n",
       "    <tr>\n",
       "      <th>3</th>\n",
       "      <td>CopulaGAN</td>\n",
       "      <td>0.811600</td>\n",
       "      <td>ContinuousKLDivergence</td>\n",
       "    </tr>\n",
       "  </tbody>\n",
       "</table>\n",
       "</div>"
      ],
      "text/plain": [
       "       Model_name  Metric_score             Metric_name\n",
       "0  GaussianCopula      0.153120       LogisticDetection\n",
       "1  GaussianCopula      0.037366            SVCDetection\n",
       "2  GaussianCopula      0.958879                  KSTest\n",
       "3  GaussianCopula      0.965547  ContinuousKLDivergence\n",
       "0           CTGAN      0.000531       LogisticDetection\n",
       "1           CTGAN      0.000015            SVCDetection\n",
       "2           CTGAN      0.846145                  KSTest\n",
       "3           CTGAN      0.787682  ContinuousKLDivergence\n",
       "0       CopulaGAN      0.002661       LogisticDetection\n",
       "1       CopulaGAN      0.000142            SVCDetection\n",
       "2       CopulaGAN      0.883767                  KSTest\n",
       "3       CopulaGAN      0.811600  ContinuousKLDivergence"
      ]
     },
     "execution_count": 10,
     "metadata": {},
     "output_type": "execute_result"
    }
   ],
   "source": [
    "real_users = users_df_train.sample(SAMPLE_FRAC)\n",
    "syn_users = generator_3.generate(real_users.count())\n",
    "gen_score = evaluate_synthetic(\n",
    "    syn_users.drop('user_idx'),\n",
    "    real_users.drop('user_idx')\n",
    ")\n",
    "\n",
    "print(gen_score)\n",
    "\n",
    "gen_result = pd.DataFrame(index = np.arange(4))\n",
    "gen_result['Model_name'] = 'CopulaGAN'\n",
    "gen_result['Metric_score'] = [v for k, v in gen_score.items()]\n",
    "gen_result['Metric_name'] = [k for k, v in gen_score.items()]\n",
    "\n",
    "gen_result_df = pd.concat([gen_result_df, gen_result])\n",
    "gen_result_df"
   ]
  },
  {
   "cell_type": "markdown",
   "metadata": {},
   "source": [
    "# Fit TVAE"
   ]
  },
  {
   "cell_type": "code",
   "execution_count": 11,
   "metadata": {},
   "outputs": [
    {
     "name": "stderr",
     "output_type": "stream",
     "text": [
      "                                                                                \r"
     ]
    },
    {
     "name": "stdout",
     "output_type": "stream",
     "text": [
      "Fitting of TVAE: 1218.0697948932648\n"
     ]
    }
   ],
   "source": [
    "generator_4= SDVDataGenerator(\n",
    "    label='synth',\n",
    "    id_column_name='user_idx',\n",
    "    model_name='tvae',\n",
    "    parallelization_level=4,\n",
    "    device_name='cuda:0',\n",
    "    seed=1234\n",
    ")\n",
    "\n",
    "start = time.time()\n",
    "generator_4.fit(users_df_train.sample(SAMPLE_FRAC).drop('user_idx'))\n",
    "print(f'Fitting of TVAE: {time.time() - start}')\n",
    "\n",
    "generator_4.save_model('../bin/amazon_users_tvae.pkl')"
   ]
  },
  {
   "cell_type": "markdown",
   "metadata": {},
   "source": [
    "# TVAE data quality"
   ]
  },
  {
   "cell_type": "code",
   "execution_count": 12,
   "metadata": {},
   "outputs": [
    {
     "name": "stderr",
     "output_type": "stream",
     "text": [
      "                                                                                \r"
     ]
    },
    {
     "name": "stdout",
     "output_type": "stream",
     "text": [
      "{'LogisticDetection': 0.38378576580287094, 'SVCDetection': 0.11407125984770261, 'KSTest': 0.9548726250297238, 'ContinuousKLDivergence': 0.9683781777645322}\n"
     ]
    },
    {
     "data": {
      "text/html": [
       "<div>\n",
       "<style scoped>\n",
       "    .dataframe tbody tr th:only-of-type {\n",
       "        vertical-align: middle;\n",
       "    }\n",
       "\n",
       "    .dataframe tbody tr th {\n",
       "        vertical-align: top;\n",
       "    }\n",
       "\n",
       "    .dataframe thead th {\n",
       "        text-align: right;\n",
       "    }\n",
       "</style>\n",
       "<table border=\"1\" class=\"dataframe\">\n",
       "  <thead>\n",
       "    <tr style=\"text-align: right;\">\n",
       "      <th></th>\n",
       "      <th>Model_name</th>\n",
       "      <th>Metric_score</th>\n",
       "      <th>Metric_name</th>\n",
       "    </tr>\n",
       "  </thead>\n",
       "  <tbody>\n",
       "    <tr>\n",
       "      <th>0</th>\n",
       "      <td>GaussianCopula</td>\n",
       "      <td>0.153120</td>\n",
       "      <td>LogisticDetection</td>\n",
       "    </tr>\n",
       "    <tr>\n",
       "      <th>1</th>\n",
       "      <td>GaussianCopula</td>\n",
       "      <td>0.037366</td>\n",
       "      <td>SVCDetection</td>\n",
       "    </tr>\n",
       "    <tr>\n",
       "      <th>2</th>\n",
       "      <td>GaussianCopula</td>\n",
       "      <td>0.958879</td>\n",
       "      <td>KSTest</td>\n",
       "    </tr>\n",
       "    <tr>\n",
       "      <th>3</th>\n",
       "      <td>GaussianCopula</td>\n",
       "      <td>0.965547</td>\n",
       "      <td>ContinuousKLDivergence</td>\n",
       "    </tr>\n",
       "    <tr>\n",
       "      <th>0</th>\n",
       "      <td>CTGAN</td>\n",
       "      <td>0.000531</td>\n",
       "      <td>LogisticDetection</td>\n",
       "    </tr>\n",
       "    <tr>\n",
       "      <th>1</th>\n",
       "      <td>CTGAN</td>\n",
       "      <td>0.000015</td>\n",
       "      <td>SVCDetection</td>\n",
       "    </tr>\n",
       "    <tr>\n",
       "      <th>2</th>\n",
       "      <td>CTGAN</td>\n",
       "      <td>0.846145</td>\n",
       "      <td>KSTest</td>\n",
       "    </tr>\n",
       "    <tr>\n",
       "      <th>3</th>\n",
       "      <td>CTGAN</td>\n",
       "      <td>0.787682</td>\n",
       "      <td>ContinuousKLDivergence</td>\n",
       "    </tr>\n",
       "    <tr>\n",
       "      <th>0</th>\n",
       "      <td>CopulaGAN</td>\n",
       "      <td>0.002661</td>\n",
       "      <td>LogisticDetection</td>\n",
       "    </tr>\n",
       "    <tr>\n",
       "      <th>1</th>\n",
       "      <td>CopulaGAN</td>\n",
       "      <td>0.000142</td>\n",
       "      <td>SVCDetection</td>\n",
       "    </tr>\n",
       "    <tr>\n",
       "      <th>2</th>\n",
       "      <td>CopulaGAN</td>\n",
       "      <td>0.883767</td>\n",
       "      <td>KSTest</td>\n",
       "    </tr>\n",
       "    <tr>\n",
       "      <th>3</th>\n",
       "      <td>CopulaGAN</td>\n",
       "      <td>0.811600</td>\n",
       "      <td>ContinuousKLDivergence</td>\n",
       "    </tr>\n",
       "    <tr>\n",
       "      <th>0</th>\n",
       "      <td>TVAE</td>\n",
       "      <td>0.383786</td>\n",
       "      <td>LogisticDetection</td>\n",
       "    </tr>\n",
       "    <tr>\n",
       "      <th>1</th>\n",
       "      <td>TVAE</td>\n",
       "      <td>0.114071</td>\n",
       "      <td>SVCDetection</td>\n",
       "    </tr>\n",
       "    <tr>\n",
       "      <th>2</th>\n",
       "      <td>TVAE</td>\n",
       "      <td>0.954873</td>\n",
       "      <td>KSTest</td>\n",
       "    </tr>\n",
       "    <tr>\n",
       "      <th>3</th>\n",
       "      <td>TVAE</td>\n",
       "      <td>0.968378</td>\n",
       "      <td>ContinuousKLDivergence</td>\n",
       "    </tr>\n",
       "  </tbody>\n",
       "</table>\n",
       "</div>"
      ],
      "text/plain": [
       "       Model_name  Metric_score             Metric_name\n",
       "0  GaussianCopula      0.153120       LogisticDetection\n",
       "1  GaussianCopula      0.037366            SVCDetection\n",
       "2  GaussianCopula      0.958879                  KSTest\n",
       "3  GaussianCopula      0.965547  ContinuousKLDivergence\n",
       "0           CTGAN      0.000531       LogisticDetection\n",
       "1           CTGAN      0.000015            SVCDetection\n",
       "2           CTGAN      0.846145                  KSTest\n",
       "3           CTGAN      0.787682  ContinuousKLDivergence\n",
       "0       CopulaGAN      0.002661       LogisticDetection\n",
       "1       CopulaGAN      0.000142            SVCDetection\n",
       "2       CopulaGAN      0.883767                  KSTest\n",
       "3       CopulaGAN      0.811600  ContinuousKLDivergence\n",
       "0            TVAE      0.383786       LogisticDetection\n",
       "1            TVAE      0.114071            SVCDetection\n",
       "2            TVAE      0.954873                  KSTest\n",
       "3            TVAE      0.968378  ContinuousKLDivergence"
      ]
     },
     "execution_count": 12,
     "metadata": {},
     "output_type": "execute_result"
    }
   ],
   "source": [
    "real_users = users_df_train.sample(SAMPLE_FRAC)\n",
    "syn_users = generator_4.generate(real_users.count())\n",
    "gen_score = evaluate_synthetic(\n",
    "    syn_users.drop('user_idx'),\n",
    "    real_users.drop('user_idx')\n",
    ")\n",
    "\n",
    "print(gen_score)\n",
    "\n",
    "gen_result = pd.DataFrame(index = np.arange(4))\n",
    "gen_result['Model_name'] = 'TVAE'\n",
    "gen_result['Metric_score'] = [v for k, v in gen_score.items()]\n",
    "gen_result['Metric_name'] = [k for k, v in gen_score.items()]\n",
    "\n",
    "gen_result_df = pd.concat([gen_result_df, gen_result])\n",
    "gen_result_df"
   ]
  },
  {
   "cell_type": "markdown",
   "metadata": {},
   "source": [
    "# Baseline quality"
   ]
  },
  {
   "cell_type": "markdown",
   "metadata": {},
   "source": [
    "В качестве бейзлайна возьмем синтетические данные, сгенерированные из многомерного нормального распределения со вектором средних, равных среднему значению признака в исходных данных, и диагональной ковариационной матрицей, элементы диагонали которой равны стандартному отклонению признака в исходных данных."
   ]
  },
  {
   "cell_type": "code",
   "execution_count": 7,
   "metadata": {},
   "outputs": [
    {
     "name": "stderr",
     "output_type": "stream",
     "text": [
      "                                                                                \r"
     ]
    }
   ],
   "source": [
    "means = users_df_train.toPandas().drop(columns=['user_idx']).mean().values\n",
    "stds = users_df_train.toPandas().drop(columns=['user_idx']).std().values\n",
    "cov_m = np.diag(stds)\n",
    "\n",
    "real_users = users_df_train.sample(SAMPLE_FRAC)\n",
    "rand_arr = np.random.multivariate_normal(means, cov_m, users_df_train.sample(0.028).count())\n",
    "users_df_baseline = pd.DataFrame(data=rand_arr, columns=users_df_train.columns[1:])\n",
    "users_df_baseline = pandas_to_spark(users_df_baseline, spark_session=spark)"
   ]
  },
  {
   "cell_type": "code",
   "execution_count": 8,
   "metadata": {},
   "outputs": [
    {
     "name": "stderr",
     "output_type": "stream",
     "text": [
      "22/10/27 16:21:20 WARN TaskSetManager: Stage 8 contains a task of very large size (27308 KiB). The maximum recommended task size is 1000 KiB.\n",
      "                                                                                \r"
     ]
    },
    {
     "name": "stdout",
     "output_type": "stream",
     "text": [
      "{'LogisticDetection': 0.8970681797324732, 'SVCDetection': 0.0003759679144406114, 'KSTest': 0.6613571883010636, 'ContinuousKLDivergence': 0.16127471231381735}\n"
     ]
    },
    {
     "data": {
      "text/html": [
       "<div>\n",
       "<style scoped>\n",
       "    .dataframe tbody tr th:only-of-type {\n",
       "        vertical-align: middle;\n",
       "    }\n",
       "\n",
       "    .dataframe tbody tr th {\n",
       "        vertical-align: top;\n",
       "    }\n",
       "\n",
       "    .dataframe thead th {\n",
       "        text-align: right;\n",
       "    }\n",
       "</style>\n",
       "<table border=\"1\" class=\"dataframe\">\n",
       "  <thead>\n",
       "    <tr style=\"text-align: right;\">\n",
       "      <th></th>\n",
       "      <th>Model_name</th>\n",
       "      <th>Metric_score</th>\n",
       "      <th>Metric_name</th>\n",
       "    </tr>\n",
       "  </thead>\n",
       "  <tbody>\n",
       "    <tr>\n",
       "      <th>0</th>\n",
       "      <td>GaussianCopula</td>\n",
       "      <td>0.153120</td>\n",
       "      <td>LogisticDetection</td>\n",
       "    </tr>\n",
       "    <tr>\n",
       "      <th>1</th>\n",
       "      <td>GaussianCopula</td>\n",
       "      <td>0.037366</td>\n",
       "      <td>SVCDetection</td>\n",
       "    </tr>\n",
       "    <tr>\n",
       "      <th>2</th>\n",
       "      <td>GaussianCopula</td>\n",
       "      <td>0.958879</td>\n",
       "      <td>KSTest</td>\n",
       "    </tr>\n",
       "    <tr>\n",
       "      <th>3</th>\n",
       "      <td>GaussianCopula</td>\n",
       "      <td>0.965547</td>\n",
       "      <td>ContinuousKLDivergence</td>\n",
       "    </tr>\n",
       "    <tr>\n",
       "      <th>4</th>\n",
       "      <td>CTGAN</td>\n",
       "      <td>0.000531</td>\n",
       "      <td>LogisticDetection</td>\n",
       "    </tr>\n",
       "    <tr>\n",
       "      <th>5</th>\n",
       "      <td>CTGAN</td>\n",
       "      <td>0.000015</td>\n",
       "      <td>SVCDetection</td>\n",
       "    </tr>\n",
       "    <tr>\n",
       "      <th>6</th>\n",
       "      <td>CTGAN</td>\n",
       "      <td>0.846145</td>\n",
       "      <td>KSTest</td>\n",
       "    </tr>\n",
       "    <tr>\n",
       "      <th>7</th>\n",
       "      <td>CTGAN</td>\n",
       "      <td>0.787682</td>\n",
       "      <td>ContinuousKLDivergence</td>\n",
       "    </tr>\n",
       "    <tr>\n",
       "      <th>8</th>\n",
       "      <td>CopulaGAN</td>\n",
       "      <td>0.002661</td>\n",
       "      <td>LogisticDetection</td>\n",
       "    </tr>\n",
       "    <tr>\n",
       "      <th>9</th>\n",
       "      <td>CopulaGAN</td>\n",
       "      <td>0.000142</td>\n",
       "      <td>SVCDetection</td>\n",
       "    </tr>\n",
       "    <tr>\n",
       "      <th>10</th>\n",
       "      <td>CopulaGAN</td>\n",
       "      <td>0.883767</td>\n",
       "      <td>KSTest</td>\n",
       "    </tr>\n",
       "    <tr>\n",
       "      <th>11</th>\n",
       "      <td>CopulaGAN</td>\n",
       "      <td>0.811600</td>\n",
       "      <td>ContinuousKLDivergence</td>\n",
       "    </tr>\n",
       "    <tr>\n",
       "      <th>12</th>\n",
       "      <td>TVAE</td>\n",
       "      <td>0.383786</td>\n",
       "      <td>LogisticDetection</td>\n",
       "    </tr>\n",
       "    <tr>\n",
       "      <th>13</th>\n",
       "      <td>TVAE</td>\n",
       "      <td>0.114071</td>\n",
       "      <td>SVCDetection</td>\n",
       "    </tr>\n",
       "    <tr>\n",
       "      <th>14</th>\n",
       "      <td>TVAE</td>\n",
       "      <td>0.954873</td>\n",
       "      <td>KSTest</td>\n",
       "    </tr>\n",
       "    <tr>\n",
       "      <th>15</th>\n",
       "      <td>TVAE</td>\n",
       "      <td>0.968378</td>\n",
       "      <td>ContinuousKLDivergence</td>\n",
       "    </tr>\n",
       "    <tr>\n",
       "      <th>0</th>\n",
       "      <td>Baseline</td>\n",
       "      <td>0.897068</td>\n",
       "      <td>LogisticDetection</td>\n",
       "    </tr>\n",
       "    <tr>\n",
       "      <th>1</th>\n",
       "      <td>Baseline</td>\n",
       "      <td>0.000376</td>\n",
       "      <td>SVCDetection</td>\n",
       "    </tr>\n",
       "    <tr>\n",
       "      <th>2</th>\n",
       "      <td>Baseline</td>\n",
       "      <td>0.661357</td>\n",
       "      <td>KSTest</td>\n",
       "    </tr>\n",
       "    <tr>\n",
       "      <th>3</th>\n",
       "      <td>Baseline</td>\n",
       "      <td>0.161275</td>\n",
       "      <td>ContinuousKLDivergence</td>\n",
       "    </tr>\n",
       "  </tbody>\n",
       "</table>\n",
       "</div>"
      ],
      "text/plain": [
       "        Model_name  Metric_score             Metric_name\n",
       "0   GaussianCopula      0.153120       LogisticDetection\n",
       "1   GaussianCopula      0.037366            SVCDetection\n",
       "2   GaussianCopula      0.958879                  KSTest\n",
       "3   GaussianCopula      0.965547  ContinuousKLDivergence\n",
       "4            CTGAN      0.000531       LogisticDetection\n",
       "5            CTGAN      0.000015            SVCDetection\n",
       "6            CTGAN      0.846145                  KSTest\n",
       "7            CTGAN      0.787682  ContinuousKLDivergence\n",
       "8        CopulaGAN      0.002661       LogisticDetection\n",
       "9        CopulaGAN      0.000142            SVCDetection\n",
       "10       CopulaGAN      0.883767                  KSTest\n",
       "11       CopulaGAN      0.811600  ContinuousKLDivergence\n",
       "12            TVAE      0.383786       LogisticDetection\n",
       "13            TVAE      0.114071            SVCDetection\n",
       "14            TVAE      0.954873                  KSTest\n",
       "15            TVAE      0.968378  ContinuousKLDivergence\n",
       "0         Baseline      0.897068       LogisticDetection\n",
       "1         Baseline      0.000376            SVCDetection\n",
       "2         Baseline      0.661357                  KSTest\n",
       "3         Baseline      0.161275  ContinuousKLDivergence"
      ]
     },
     "execution_count": 8,
     "metadata": {},
     "output_type": "execute_result"
    }
   ],
   "source": [
    "baseline_score = evaluate_synthetic(\n",
    "    users_df_baseline,\n",
    "    real_users.drop('user_idx')\n",
    ")\n",
    "\n",
    "print(baseline_score)\n",
    "\n",
    "gen_result = pd.DataFrame(index = np.arange(4))\n",
    "gen_result['Model_name'] = 'Baseline'\n",
    "gen_result['Metric_score'] = [v for k, v in baseline_score.items()]\n",
    "gen_result['Metric_name'] = [k for k, v in baseline_score.items()]\n",
    "\n",
    "gen_result_df = pd.concat([gen_result_df, gen_result])\n",
    "gen_result_df"
   ]
  },
  {
   "cell_type": "code",
   "execution_count": 9,
   "metadata": {},
   "outputs": [
    {
     "data": {
      "image/png": "[encoded data removed]",
      "text/plain": [
       "<Figure size 1600x800 with 1 Axes>"
      ]
     },
     "metadata": {},
     "output_type": "display_data"
    }
   ],
   "source": [
    "rcParams['figure.figsize'] = (3, 3)\n",
    "matplotlib.rc('xtick', labelsize=15) \n",
    "matplotlib.rc('ytick', labelsize=15)\n",
    "sns.set(font_scale=1.8)  # crazy big\n",
    "plot = sns.catplot(\n",
    "    data=gen_result_df, x=\"Metric_name\", y=\"Metric_score\",\n",
    "    hue=\"Model_name\", kind=\"bar\", aspect=2, height=8,\n",
    "    palette=[\"C1\", \"C2\", \"C0\", \"C3\", \"C4\"], legend=False\n",
    ")\n",
    "ax = plot.facet_axis(0,0)\n",
    "def create_hist_values(df):\n",
    "    model_names = df['Model_name'].unique()\n",
    "    metric_names = df[\"Metric_name\"].unique()\n",
    "    hist_values = []\n",
    "    for model, metric in itertools.product(model_names, metric_names):\n",
    "        hist_values.append(df[(df['Model_name'] == model) & (df['Metric_name'] == metric)]['Metric_score'].values[0])\n",
    "    return hist_values\n",
    "hist_val = create_hist_values(gen_result_df)\n",
    "for (p, val) in zip(ax.patches, hist_val):\n",
    "    ax.text(p.get_x() - 0.01, \n",
    "            p.get_height() * 1.02, \n",
    "           '{:1.2f}'.format(val),   \n",
    "            color='black', \n",
    "            rotation='horizontal', \n",
    "            size='medium')\n",
    "plt.legend(loc='upper center', bbox_to_anchor=(0.5, -0.1), fancybox=True, ncol=5)\n",
    "plt.tight_layout()"
   ]
  },
  {
   "cell_type": "markdown",
   "metadata": {},
   "source": [
    "Оказалось, что синтетические данные, сгенерированные из многомерногог нормального распределения, не отличимы от исходных логистической регрессией. По остальным метрикам качество бейзлайна ниже (или такое же), как у остальных моделей.\n",
    "\n",
    "В целом, качество моделей генерации кажется недостаточно высоким с точки зрения метрик LogisticDetection и SVCDetection. Кроме того, все модели на нейронных сетях требуют достаточно много времени на обучение (на это влияет размерность профилей пользователей, 303). Для дальнейшей работы было решено генерировать эмбеддинги профилей пользователей. Экспериментальное исследование эмбеддингов и их влияния на качество генерации синтетики представлено в ноутбуке amazon_embeddings.ipynb."
   ]
  },
  {
   "cell_type": "code",
   "execution_count": null,
   "metadata": {},
   "outputs": [],
   "source": []
  }
 ],
 "metadata": {
  "kernelspec": {
   "display_name": "Python [conda env:.conda-sim-exp]",
   "language": "python",
   "name": "conda-env-.conda-sim-exp-py"
  },
  "language_info": {
   "codemirror_mode": {
    "name": "ipython",
    "version": 3
   },
   "file_extension": ".py",
   "mimetype": "text/x-python",
   "name": "python",
   "nbconvert_exporter": "python",
   "pygments_lexer": "ipython3",
   "version": "3.8.13"
  },
  "vscode": {
   "interpreter": {
    "hash": "0c23ac1ac3d03469769ffca4283c7852312778d94b2cbd9b1a60eeafc1c4055f"
   }
  }
 },
 "nbformat": 4,
 "nbformat_minor": 4
}
