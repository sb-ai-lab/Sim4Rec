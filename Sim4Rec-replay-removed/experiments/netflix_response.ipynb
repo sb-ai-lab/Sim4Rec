{
 "cells": [
  {
   "cell_type": "markdown",
   "metadata": {},
   "source": [
    "В этом ноутбуке продемонстрирован весь пайплайн работы симулятора на датасете Netflix: генерация эмбеддингов профилей пользователей, обучение моделей генерации синтетических профилей пользователей, обучение функции отклика, обучение рекомендательной системы UCB путем взаимодействия с симулятором."
   ]
  },
  {
   "cell_type": "code",
   "execution_count": 1,
   "metadata": {},
   "outputs": [
    {
     "name": "stderr",
     "output_type": "stream",
     "text": [
      "22/11/15 09:48:08 WARN NativeCodeLoader: Unable to load native-hadoop library for your platform... using builtin-java classes where applicable\n",
      "Using Spark's default log4j profile: org/apache/spark/log4j-defaults.properties\n",
      "Setting default log level to \"WARN\".\n",
      "To adjust logging level use sc.setLogLevel(newLevel). For SparkR, use setLogLevel(newLevel).\n",
      "22/11/15 09:48:08 WARN SparkConf: Note that spark.local.dir will be overridden by the value set by the cluster manager (via SPARK_LOCAL_DIRS in mesos/standalone/kubernetes and LOCAL_DIRS in YARN).\n"
     ]
    },
    {
     "data": {
      "text/plain": [
       "<replay.session_handler.State at 0x7f851c239cd0>"
      ]
     },
     "execution_count": 1,
     "metadata": {},
     "output_type": "execute_result"
    }
   ],
   "source": [
    "import warnings\n",
    "warnings.filterwarnings(\"ignore\")\n",
    "\n",
    "import time\n",
    "\n",
    "import numpy as np\n",
    "import pandas as pd\n",
    "\n",
    "from pyspark.sql import SparkSession\n",
    "from replay.session_handler import State\n",
    "\n",
    "from sklearn.metrics import roc_auc_score, precision_score, recall_score\n",
    "\n",
    "import pyspark.sql.functions as sf\n",
    "import pyspark.ml.functions as smf\n",
    "from pyspark.ml.feature import VectorAssembler, PCA\n",
    "from pyspark.ml import Pipeline\n",
    "from pyspark.ml.classification import (\n",
    "    LogisticRegression, RandomForestClassifier, FMClassifier\n",
    ")\n",
    "\n",
    "from replay.metrics import NDCG, Precision, RocAuc\n",
    "from replay.data_preparator import Indexer\n",
    "from replay.models import RandomRec\n",
    "from replay.models import UCB\n",
    "\n",
    "from sim4rec.modules import (\n",
    "    SDVDataGenerator, RealDataGenerator,\n",
    "    Simulator, evaluate_synthetic,\n",
    "    EvaluateMetrics\n",
    ")\n",
    "from sim4rec.response import BernoulliResponse, ParametricResponseFunction\n",
    "from sim4rec.utils import VectorElementExtractor, pandas_to_spark\n",
    "\n",
    "from datautils import read_netflix\n",
    "\n",
    "%matplotlib inline\n",
    "import matplotlib.pyplot as plt\n",
    "\n",
    "SPARK_LOCAL_DIR = '/data/home/anthony/tmp'\n",
    "CHECKPOINT_DIR = '/data/home/anthony/tmp/checkpoints'\n",
    "DATA_PATH = r'file:///data/home/anthony/DL_0/real_data_simulator/Netflix'\n",
    "MODELS_DIR = '../bin'\n",
    "\n",
    "spark = SparkSession.builder\\\n",
    "    .appName('simulator_movielens')\\\n",
    "    .master('local[8]')\\\n",
    "    .config('spark.sql.shuffle.partitions', '8')\\\n",
    "    .config('spark.default.parallelism', '8')\\\n",
    "    .config('spark.driver.extraJavaOptions', '-XX:+UseG1GC')\\\n",
    "    .config('spark.executor.extraJavaOptions', '-XX:+UseG1GC')\\\n",
    "    .config('spark.sql.autoBroadcastJoinThreshold', '-1')\\\n",
    "    .config('spark.driver.memory', '128g')\\\n",
    "    .config('spark.local.dir', SPARK_LOCAL_DIR)\\\n",
    "    .getOrCreate()\n",
    "\n",
    "State(spark)"
   ]
  },
  {
   "cell_type": "code",
   "execution_count": 2,
   "metadata": {},
   "outputs": [],
   "source": [
    "def test_model(model_class, train_data, test_data, assembler, extractor):\n",
    "    model = model_class(featuresCol='features', labelCol='relevance', probabilityCol='__prob_vec', predictionCol='response')\n",
    "\n",
    "    start = time.time()\n",
    "    pipeline = Pipeline(stages=[assembler, model, extractor]).fit(train_data)\n",
    "    train_time = time.time() - start\n",
    "\n",
    "    pred_pdf = pipeline\\\n",
    "        .transform(test_data)\\\n",
    "        .select('relevance', '__prob_raw', 'item_rating_avg', 'response')\\\n",
    "        .toPandas()\n",
    "\n",
    "    pred_pdf['baseline_prob'] =\\\n",
    "        (pred_pdf['item_rating_avg'] - pred_pdf['item_rating_avg'].min()) /\\\n",
    "        (pred_pdf['item_rating_avg'].max() - pred_pdf['item_rating_avg'].min())\n",
    "    pred_pdf['baseline_bin'] = np.where(pred_pdf['baseline_prob'] >= 0.5, 1, 0)\n",
    "\n",
    "    roc_auc_model = roc_auc_score(pred_pdf.relevance, pred_pdf.__prob_raw)\n",
    "    roc_auc_baseline = roc_auc_score(pred_pdf.relevance, pred_pdf.baseline_prob)\n",
    "\n",
    "    precision_model = precision_score(pred_pdf.relevance, pred_pdf.response)\n",
    "    precision_baseline = precision_score(pred_pdf.relevance, pred_pdf.baseline_bin)\n",
    "\n",
    "    recall_model = recall_score(pred_pdf.relevance, pred_pdf.response)\n",
    "    recall_baseline = recall_score(pred_pdf.relevance, pred_pdf.baseline_bin)\n",
    "\n",
    "    return train_time, pred_pdf,\\\n",
    "           {\n",
    "            'roc_auc' : roc_auc_model,\n",
    "            'precision' : precision_model,\n",
    "            'recall' : recall_model\n",
    "           },\\\n",
    "           {\n",
    "            'roc_auc' : roc_auc_baseline,\n",
    "            'precision' : precision_baseline,\n",
    "            'recall' : recall_baseline\n",
    "           }"
   ]
  },
  {
   "cell_type": "markdown",
   "metadata": {},
   "source": [
    "Работаем с предобработанными данными, которые разделены на три части по времени выставления рейтинга. Оценки 1 и 2 считаем отрицательными (0); 3, 4 и 5 -- положительными (1).\n",
    "\n",
    "Данные были предварительно предобработаны (код в папке Netflix): составлены профили польззователей и предложений по истории откликов, а также данные разделены по времени выставления оценок на обучающую, валидационную и тестовую выборки."
   ]
  },
  {
   "cell_type": "code",
   "execution_count": 3,
   "metadata": {},
   "outputs": [
    {
     "name": "stderr",
     "output_type": "stream",
     "text": [
      "22/11/15 09:49:01 WARN package: Truncated the string representation of a plan since it was too large. This behavior can be adjusted by setting 'spark.sql.debug.maxToStringFields'.\n",
      "                                                                                \r"
     ]
    },
    {
     "data": {
      "text/plain": [
       "50934106"
      ]
     },
     "execution_count": 3,
     "metadata": {},
     "output_type": "execute_result"
    }
   ],
   "source": [
    "users_df_train, items_df_train, log_df_train = read_netflix(DATA_PATH, 'train', spark)\n",
    "\n",
    "users_df_train = users_df_train.cache()\n",
    "items_df_train = items_df_train.cache()\n",
    "log_df_train = log_df_train.cache()\n",
    "\n",
    "users_df_train.count()\n",
    "items_df_train.count()\n",
    "log_df_train.count()"
   ]
  },
  {
   "cell_type": "code",
   "execution_count": 4,
   "metadata": {},
   "outputs": [
    {
     "name": "stderr",
     "output_type": "stream",
     "text": [
      "                                                                                \r"
     ]
    },
    {
     "data": {
      "text/plain": [
       "24430434"
      ]
     },
     "execution_count": 4,
     "metadata": {},
     "output_type": "execute_result"
    }
   ],
   "source": [
    "users_df_val, items_df_val, log_df_val = read_netflix(DATA_PATH, 'val', spark)\n",
    "\n",
    "users_df_val = users_df_val.cache()\n",
    "items_df_val = items_df_val.cache()\n",
    "log_df_val = log_df_val.cache()\n",
    "\n",
    "users_df_val.count()\n",
    "items_df_val.count()\n",
    "log_df_val.count()"
   ]
  },
  {
   "cell_type": "code",
   "execution_count": 5,
   "metadata": {},
   "outputs": [
    {
     "name": "stderr",
     "output_type": "stream",
     "text": [
      "                                                                                \r"
     ]
    },
    {
     "data": {
      "text/plain": [
       "25115967"
      ]
     },
     "execution_count": 5,
     "metadata": {},
     "output_type": "execute_result"
    }
   ],
   "source": [
    "users_df_test, items_df_test, log_df_test = read_netflix(DATA_PATH, 'test', spark)\n",
    "\n",
    "users_df_test = users_df_test.cache()\n",
    "items_df_test = items_df_test.cache()\n",
    "log_df_test = log_df_test.cache()\n",
    "\n",
    "users_df_test.count()\n",
    "items_df_test.count()\n",
    "log_df_test.count()"
   ]
  },
  {
   "cell_type": "markdown",
   "metadata": {},
   "source": [
    "# Генерация эмбеддингов"
   ]
  },
  {
   "cell_type": "markdown",
   "metadata": {},
   "source": [
    "В результате экспериментального исследования методов генерации эмбеддингов (netflix_embeddings.ipynb) было решено использовать метод главных компонент в случае датасета Netflix. Далее с помощью этого метода генерируются профили пользователей."
   ]
  },
  {
   "cell_type": "code",
   "execution_count": 6,
   "metadata": {},
   "outputs": [
    {
     "name": "stderr",
     "output_type": "stream",
     "text": [
      "22/11/15 09:53:22 WARN BLAS: Failed to load implementation from: com.github.fommil.netlib.NativeSystemBLAS\n",
      "22/11/15 09:53:22 WARN BLAS: Failed to load implementation from: com.github.fommil.netlib.NativeRefBLAS\n",
      "22/11/15 09:53:27 WARN LAPACK: Failed to load implementation from: com.github.fommil.netlib.NativeSystemLAPACK\n",
      "22/11/15 09:53:27 WARN LAPACK: Failed to load implementation from: com.github.fommil.netlib.NativeRefLAPACK\n"
     ]
    }
   ],
   "source": [
    "pca_va = VectorAssembler(\n",
    "    inputCols=['user_rating_avg', 'user_rating_cnt'] + [f'user_w2v_{i}' for i in range(300)],\n",
    "    outputCol='features'\n",
    ")\n",
    "pca_estimator = PCA(k=10, inputCol='features', outputCol='pca_features')\n",
    "\n",
    "pca = Pipeline(stages=[pca_va, pca_estimator]).fit(users_df_train)"
   ]
  },
  {
   "cell_type": "code",
   "execution_count": 7,
   "metadata": {},
   "outputs": [],
   "source": [
    "users_df_train = pca.transform(users_df_train)\\\n",
    "    .select('user_id', 'pca_features')\\\n",
    "    .withColumn('user_features', smf.vector_to_array('pca_features'))\\\n",
    "    .select(['user_id'] + [sf.col('user_features')[i] for i in range(10)])\n",
    "\n",
    "users_df_val = pca.transform(users_df_val)\\\n",
    "    .select('user_id', 'pca_features')\\\n",
    "    .withColumn('user_features', smf.vector_to_array('pca_features'))\\\n",
    "    .select(['user_id'] + [sf.col('user_features')[i] for i in range(10)])"
   ]
  },
  {
   "cell_type": "markdown",
   "metadata": {},
   "source": [
    "# Обучение генератора"
   ]
  },
  {
   "cell_type": "markdown",
   "metadata": {},
   "source": [
    "Также в ноутбуке netflix_embeddings.ipynb был сделан вывод о том, что модель генерации TVAE является наиболее подходящей в случае датасета Netflix и эмбеддингов на основе PCA. Поэтому здесь будет использована именно эта модель."
   ]
  },
  {
   "cell_type": "code",
   "execution_count": 8,
   "metadata": {},
   "outputs": [
    {
     "name": "stdout",
     "output_type": "stream",
     "text": [
      "Cannot load model to device cuda:0. Setting cpu instead\n"
     ]
    },
    {
     "name": "stderr",
     "output_type": "stream",
     "text": [
      "                                                                                \r"
     ]
    },
    {
     "data": {
      "text/plain": [
       "{'LogisticDetection': 0.6365636500551264,\n",
       " 'SVCDetection': 0.4776006552225289,\n",
       " 'KSTest': 0.9028025667138312,\n",
       " 'ContinuousKLDivergence': 0.8172246563833353}"
      ]
     },
     "execution_count": 8,
     "metadata": {},
     "output_type": "execute_result"
    }
   ],
   "source": [
    "# user_generator = SDVDataGenerator(\n",
    "#     label='synth_user',\n",
    "#     id_column_name='user_id',\n",
    "#     model_name='tvae',\n",
    "#     parallelization_level=8,\n",
    "#     device_name='cpu',\n",
    "#     seed=1234\n",
    "# )\n",
    "\n",
    "# user_generator.fit(users_df_train)\n",
    "\n",
    "user_generator = SDVDataGenerator.load(f'{MODELS_DIR}/netflix_pca_users_tvae.pkl')\n",
    "user_generator.setDevice('cpu')\n",
    "user_generator.setParallelizationLevel(8)\n",
    "\n",
    "users_synth = user_generator.generate(users_df_train.count())\n",
    "\n",
    "eval_frac = 1000 / users_df_train.count()\n",
    "gen_score = evaluate_synthetic(\n",
    "    synth_df=users_synth.sample(eval_frac).drop('user_id'),\n",
    "    real_df=users_df_train.sample(eval_frac).drop('user_id')\n",
    ")\n",
    "\n",
    "gen_score"
   ]
  },
  {
   "cell_type": "code",
   "execution_count": 9,
   "metadata": {},
   "outputs": [
    {
     "name": "stderr",
     "output_type": "stream",
     "text": [
      "22/11/11 12:09:21 WARN CacheManager: Asked to cache already cached data.\n",
      "                                                                                \r"
     ]
    }
   ],
   "source": [
    "item_generator = RealDataGenerator(label='real_item', seed=1234)\n",
    "item_generator.fit(items_df_train)\n",
    "_ = item_generator.generate(items_df_train.count())"
   ]
  },
  {
   "cell_type": "markdown",
   "metadata": {},
   "source": [
    "# Инициализация симулятора"
   ]
  },
  {
   "cell_type": "code",
   "execution_count": 10,
   "metadata": {},
   "outputs": [],
   "source": [
    "simulator = Simulator(\n",
    "    user_gen=user_generator,\n",
    "    item_gen=item_generator,\n",
    "    user_key_col='user_id',\n",
    "    item_key_col='item_id',\n",
    "    spark_session=spark,\n",
    "    data_dir=f'{CHECKPOINT_DIR}/netflix_response'\n",
    ")"
   ]
  },
  {
   "cell_type": "markdown",
   "metadata": {},
   "source": [
    "# Обучение регрессии"
   ]
  },
  {
   "cell_type": "markdown",
   "metadata": {},
   "source": [
    "Необходимо определить, какая модель отклика наиболее точно приближает отклик, присутствующий в исторических данных. В качестве кандидатов использованы три модели:\n",
    "\n",
    "-- Logistic Regression;\n",
    "\n",
    "-- Random Forest;\n",
    "\n",
    "-- Matrix Factorization."
   ]
  },
  {
   "cell_type": "markdown",
   "metadata": {},
   "source": [
    "Напомним, что профили пользователей и предложений, относящиеся к периоду train (users_df_train и items_df_train соответственно) построены по истории взаимодействий из log_df_train. Поэтому для обучения модели отклика используются профили пользователей users_df_train и предложений items_df_train, а также лог log_df_val. Для оценки качества модели отклика используются профили users_df_val и items_df_val, построенные по объединенному логу log_df_train и log_df_val, а также лог log_df_test."
   ]
  },
  {
   "cell_type": "code",
   "execution_count": 8,
   "metadata": {},
   "outputs": [],
   "source": [
    "feature_cols = [f'user_features[{i}]' for i in range(10)] +\\\n",
    "               ['item_rating_avg'] +\\\n",
    "               [f'item_w2v_{i}' for i in range(300)]\n",
    "\n",
    "assembler = VectorAssembler(inputCols=feature_cols, outputCol='features')\n",
    "extractor = VectorElementExtractor(inputCol='__prob_vec', outputCol='__prob_raw', index=1)\n",
    "multiplier = ParametricResponseFunction(inputCols=['__prob_raw'], outputCol='__prob', weights=[0.25])\n",
    "bernoulli = BernoulliResponse(inputCol='__prob', outputCol='response', seed=1234)\n",
    "\n",
    "train_df = log_df_val\\\n",
    "    .sample(100000 / log_df_val.count())\\\n",
    "    .drop('timestamp')\\\n",
    "    .join(users_df_train, on='user_id', how='left')\\\n",
    "    .join(items_df_train, on='item_id', how='left')\\\n",
    "    .na.drop()\\\n",
    "    .cache()\n",
    "\n",
    "test_df = log_df_test\\\n",
    "    .sample(100000 / log_df_test.count())\\\n",
    "    .drop('timestamp')\\\n",
    "    .join(users_df_val, on='user_id', how='left')\\\n",
    "    .join(items_df_val, on='item_id', how='left')\\\n",
    "    .na.drop()\\\n",
    "    .cache()"
   ]
  },
  {
   "cell_type": "markdown",
   "metadata": {},
   "source": [
    "# Качество логистической регрессии"
   ]
  },
  {
   "cell_type": "code",
   "execution_count": 10,
   "metadata": {},
   "outputs": [
    {
     "name": "stderr",
     "output_type": "stream",
     "text": [
      "                                                                                \r"
     ]
    }
   ],
   "source": [
    "lr_time, lr_pdf, lr_model_metrics, lr_baseline_metrics = test_model(\n",
    "    model_class=LogisticRegression,\n",
    "    train_data=train_df,\n",
    "    test_data=test_df,\n",
    "    assembler=assembler,\n",
    "    extractor=extractor\n",
    ")"
   ]
  },
  {
   "cell_type": "code",
   "execution_count": 11,
   "metadata": {},
   "outputs": [
    {
     "name": "stdout",
     "output_type": "stream",
     "text": [
      "LogisticRegression pipeline train time: 48.16394853591919\n",
      "LogisticRegression metrics: {'roc_auc': 0.7111957241937823, 'precision': 0.8725620823148021, 'recall': 0.99714655668521}\n",
      "Baseline metrics:           {'roc_auc': 0.6696136795957677, 'precision': 0.8835787190752479, 'recall': 0.9475949549203914}\n"
     ]
    },
    {
     "data": {
      "text/plain": [
       "<AxesSubplot: >"
      ]
     },
     "execution_count": 11,
     "metadata": {},
     "output_type": "execute_result"
    },
    {
     "data": {
      "image/png": "[encoded data removed]",
      "text/plain": [
       "<Figure size 640x480 with 1 Axes>"
      ]
     },
     "metadata": {},
     "output_type": "display_data"
    }
   ],
   "source": [
    "print(f'LogisticRegression pipeline train time: {lr_time}')\n",
    "print(f'LogisticRegression metrics: {lr_model_metrics}')\n",
    "print(f'Baseline metrics:           {lr_baseline_metrics}')\n",
    "\n",
    "lr_pdf['__prob_raw'].hist()"
   ]
  },
  {
   "cell_type": "markdown",
   "metadata": {},
   "source": [
    "# Качество случайного леса"
   ]
  },
  {
   "cell_type": "code",
   "execution_count": 12,
   "metadata": {},
   "outputs": [
    {
     "name": "stderr",
     "output_type": "stream",
     "text": [
      "                                                                                \r"
     ]
    }
   ],
   "source": [
    "rf_time, rf_pdf, rf_model_metrics, rf_baseline_metrics = test_model(\n",
    "    model_class=RandomForestClassifier,\n",
    "    train_data=train_df,\n",
    "    test_data=test_df,\n",
    "    assembler=assembler,\n",
    "    extractor=extractor\n",
    ")"
   ]
  },
  {
   "cell_type": "code",
   "execution_count": 13,
   "metadata": {},
   "outputs": [
    {
     "name": "stdout",
     "output_type": "stream",
     "text": [
      "RandomForestClassifier pipeline train time: 11.264264583587646\n",
      "RandomForestClassifier metrics: {'roc_auc': 0.6736135630914598, 'precision': 0.8695579649708091, 'recall': 1.0}\n",
      "Baseline metrics:               {'roc_auc': 0.6696136795957677, 'precision': 0.8835787190752479, 'recall': 0.9475949549203914}\n"
     ]
    },
    {
     "data": {
      "text/plain": [
       "<AxesSubplot: >"
      ]
     },
     "execution_count": 13,
     "metadata": {},
     "output_type": "execute_result"
    },
    {
     "data": {
      "image/png": "[encoded data removed]",
      "text/plain": [
       "<Figure size 640x480 with 1 Axes>"
      ]
     },
     "metadata": {},
     "output_type": "display_data"
    }
   ],
   "source": [
    "print(f'RandomForestClassifier pipeline train time: {rf_time}')\n",
    "print(f'RandomForestClassifier metrics: {rf_model_metrics}')\n",
    "print(f'Baseline metrics:               {rf_baseline_metrics}')\n",
    "\n",
    "rf_pdf['__prob_raw'].hist()"
   ]
  },
  {
   "cell_type": "markdown",
   "metadata": {},
   "source": [
    "# Обучение рексистемы"
   ]
  },
  {
   "cell_type": "markdown",
   "metadata": {},
   "source": [
    "Далее будем в цикле обучать рекомендательную систему на откликах синтетических пользователей, полученных с помощью симулятора."
   ]
  },
  {
   "cell_type": "code",
   "execution_count": 18,
   "metadata": {},
   "outputs": [
    {
     "name": "stderr",
     "output_type": "stream",
     "text": [
      "                                                                                \r"
     ]
    }
   ],
   "source": [
    "lr = LogisticRegression(featuresCol='features', labelCol='relevance', probabilityCol='__prob_vec')\n",
    "pipeline = Pipeline(stages=[assembler, lr, extractor, multiplier, bernoulli]).fit(train_df)"
   ]
  },
  {
   "cell_type": "markdown",
   "metadata": {},
   "source": [
    "В качестве бейзлайна будем использовать рекомендательную систему, которая предлагает пользователю случайные предложения."
   ]
  },
  {
   "cell_type": "code",
   "execution_count": 19,
   "metadata": {},
   "outputs": [
    {
     "name": "stderr",
     "output_type": "stream",
     "text": [
      "22/11/11 12:14:54 WARN DAGScheduler: Broadcasting large task binary with size 12.9 MiB\n",
      "22/11/11 12:14:55 WARN DAGScheduler: Broadcasting large task binary with size 12.9 MiB\n",
      "22/11/11 12:14:56 WARN DAGScheduler: Broadcasting large task binary with size 12.9 MiB\n",
      "22/11/11 12:15:01 WARN DAGScheduler: Broadcasting large task binary with size 12.9 MiB\n",
      "22/11/11 12:15:01 WARN DAGScheduler: Broadcasting large task binary with size 12.9 MiB\n",
      "22/11/11 12:15:02 WARN DAGScheduler: Broadcasting large task binary with size 12.9 MiB\n",
      "                                                                                \r"
     ]
    }
   ],
   "source": [
    "indexer = Indexer(user_col='user_id', item_col='item_id')\n",
    "indexer.fit(users=user_generator.sample(1.0), items=items_df_test)\n",
    "\n",
    "dummy_log = pandas_to_spark(pd.DataFrame({'user_id' : [1], 'item_id' : [1], 'relevance' : [0.0]}))\n",
    "\n",
    "ucb = UCB(sample=True)\n",
    "ucb.fit(indexer.transform(dummy_log))\n",
    "\n",
    "random_rec = RandomRec(distribution='uniform')\n",
    "random_rec.fit(indexer.transform(dummy_log))"
   ]
  },
  {
   "cell_type": "code",
   "execution_count": 20,
   "metadata": {},
   "outputs": [],
   "source": [
    "evaluator = EvaluateMetrics(\n",
    "    userKeyCol='user_id',\n",
    "    itemKeyCol='item_id',\n",
    "    predictionCol='relevance',\n",
    "    labelCol='response',\n",
    "    replay_label_filter=1.0,\n",
    "    replay_metrics={NDCG() : 10, Precision() : 10, RocAuc(): 10}\n",
    ")"
   ]
  },
  {
   "cell_type": "code",
   "execution_count": null,
   "metadata": {},
   "outputs": [
    {
     "name": "stderr",
     "output_type": "stream",
     "text": [
      "22/11/11 12:16:14 WARN DAGScheduler: Broadcasting large task binary with size 13.1 MiB\n",
      "22/11/11 12:16:14 WARN DAGScheduler: Broadcasting large task binary with size 13.1 MiB\n",
      "22/11/11 12:16:19 WARN DAGScheduler: Broadcasting large task binary with size 20.1 MiB\n",
      "22/11/11 12:16:20 WARN DAGScheduler: Broadcasting large task binary with size 20.2 MiB\n",
      "22/11/11 12:16:22 WARN DAGScheduler: Broadcasting large task binary with size 20.5 MiB\n",
      "22/11/11 12:16:32 WARN DAGScheduler: Broadcasting large task binary with size 13.1 MiB\n",
      "22/11/11 12:16:32 WARN DAGScheduler: Broadcasting large task binary with size 13.3 MiB\n",
      "22/11/11 12:16:33 WARN DAGScheduler: Broadcasting large task binary with size 13.6 MiB\n",
      "22/11/11 12:16:37 WARN DAGScheduler: Broadcasting large task binary with size 20.6 MiB\n",
      "22/11/11 12:16:38 WARN DAGScheduler: Broadcasting large task binary with size 20.6 MiB\n",
      "22/11/11 12:16:39 WARN DAGScheduler: Broadcasting large task binary with size 21.0 MiB\n",
      "22/11/11 12:16:47 WARN DAGScheduler: Broadcasting large task binary with size 20.4 MiB\n",
      "22/11/11 12:16:47 WARN DAGScheduler: Broadcasting large task binary with size 20.4 MiB\n",
      "22/11/11 12:16:49 WARN DAGScheduler: Broadcasting large task binary with size 20.4 MiB\n",
      "22/11/11 12:16:50 WARN DAGScheduler: Broadcasting large task binary with size 20.4 MiB\n",
      "22/11/11 12:16:52 WARN DAGScheduler: Broadcasting large task binary with size 20.4 MiB\n",
      "22/11/11 12:16:53 WARN DAGScheduler: Broadcasting large task binary with size 20.4 MiB\n",
      "22/11/11 12:17:00 WARN DAGScheduler: Broadcasting large task binary with size 20.9 MiB\n",
      "22/11/11 12:17:01 WARN DAGScheduler: Broadcasting large task binary with size 20.9 MiB\n",
      "22/11/11 12:17:01 WARN DAGScheduler: Broadcasting large task binary with size 20.9 MiB\n",
      "22/11/11 12:17:03 WARN DAGScheduler: Broadcasting large task binary with size 20.9 MiB\n",
      "22/11/11 12:17:04 WARN DAGScheduler: Broadcasting large task binary with size 20.9 MiB\n",
      "22/11/11 12:17:06 WARN DAGScheduler: Broadcasting large task binary with size 20.9 MiB\n",
      "22/11/11 12:17:11 WARN DAGScheduler: Broadcasting large task binary with size 12.9 MiB\n",
      "22/11/11 12:17:12 WARN DAGScheduler: Broadcasting large task binary with size 12.9 MiB\n",
      "22/11/11 12:17:13 WARN DAGScheduler: Broadcasting large task binary with size 12.9 MiB\n",
      "22/11/11 12:17:19 WARN DAGScheduler: Broadcasting large task binary with size 12.9 MiB\n",
      "22/11/11 12:17:20 WARN DAGScheduler: Broadcasting large task binary with size 12.9 MiB\n",
      "22/11/11 12:17:21 WARN DAGScheduler: Broadcasting large task binary with size 12.9 MiB\n",
      "                                                                                \r"
     ]
    },
    {
     "name": "stdout",
     "output_type": "stream",
     "text": [
      "Iteration 0 finished in 138.49869751930237 sec.\n"
     ]
    },
    {
     "name": "stderr",
     "output_type": "stream",
     "text": [
      "22/11/11 12:18:30 WARN DAGScheduler: Broadcasting large task binary with size 13.1 MiB\n",
      "22/11/11 12:18:31 WARN DAGScheduler: Broadcasting large task binary with size 13.1 MiB\n",
      "22/11/11 12:18:35 WARN DAGScheduler: Broadcasting large task binary with size 20.1 MiB\n",
      "22/11/11 12:18:37 WARN DAGScheduler: Broadcasting large task binary with size 20.2 MiB\n",
      "22/11/11 12:18:38 WARN DAGScheduler: Broadcasting large task binary with size 20.5 MiB\n",
      "22/11/11 12:18:47 WARN DAGScheduler: Broadcasting large task binary with size 13.1 MiB\n",
      "22/11/11 12:18:47 WARN DAGScheduler: Broadcasting large task binary with size 13.6 MiB\n",
      "22/11/11 12:18:48 WARN DAGScheduler: Broadcasting large task binary with size 13.6 MiB\n",
      "22/11/11 12:18:51 WARN DAGScheduler: Broadcasting large task binary with size 20.6 MiB\n",
      "22/11/11 12:18:52 WARN DAGScheduler: Broadcasting large task binary with size 20.6 MiB\n",
      "22/11/11 12:18:54 WARN DAGScheduler: Broadcasting large task binary with size 21.0 MiB\n",
      "22/11/11 12:19:00 WARN DAGScheduler: Broadcasting large task binary with size 20.4 MiB\n",
      "22/11/11 12:19:01 WARN DAGScheduler: Broadcasting large task binary with size 20.4 MiB\n",
      "22/11/11 12:19:02 WARN DAGScheduler: Broadcasting large task binary with size 20.4 MiB\n",
      "22/11/11 12:19:04 WARN DAGScheduler: Broadcasting large task binary with size 20.4 MiB\n",
      "22/11/11 12:19:05 WARN DAGScheduler: Broadcasting large task binary with size 20.4 MiB\n",
      "22/11/11 12:19:06 WARN DAGScheduler: Broadcasting large task binary with size 20.4 MiB\n",
      "22/11/11 12:19:12 WARN DAGScheduler: Broadcasting large task binary with size 20.9 MiB\n",
      "22/11/11 12:19:13 WARN DAGScheduler: Broadcasting large task binary with size 20.9 MiB\n",
      "22/11/11 12:19:13 WARN DAGScheduler: Broadcasting large task binary with size 20.9 MiB\n",
      "22/11/11 12:19:15 WARN DAGScheduler: Broadcasting large task binary with size 20.9 MiB\n",
      "22/11/11 12:19:16 WARN DAGScheduler: Broadcasting large task binary with size 20.9 MiB\n",
      "22/11/11 12:19:17 WARN DAGScheduler: Broadcasting large task binary with size 20.9 MiB\n",
      "22/11/11 12:19:22 WARN DAGScheduler: Broadcasting large task binary with size 12.9 MiB\n",
      "22/11/11 12:19:23 WARN DAGScheduler: Broadcasting large task binary with size 12.9 MiB\n",
      "22/11/11 12:19:24 WARN DAGScheduler: Broadcasting large task binary with size 12.9 MiB\n",
      "22/11/11 12:19:29 WARN DAGScheduler: Broadcasting large task binary with size 12.9 MiB\n",
      "22/11/11 12:19:30 WARN DAGScheduler: Broadcasting large task binary with size 12.9 MiB\n",
      "22/11/11 12:19:31 WARN DAGScheduler: Broadcasting large task binary with size 12.9 MiB\n"
     ]
    },
    {
     "name": "stdout",
     "output_type": "stream",
     "text": [
      "Iteration 1 finished in 130.12956309318542 sec.\n"
     ]
    },
    {
     "name": "stderr",
     "output_type": "stream",
     "text": [
      "22/11/11 12:20:42 WARN DAGScheduler: Broadcasting large task binary with size 13.1 MiB\n",
      "22/11/11 12:20:42 WARN DAGScheduler: Broadcasting large task binary with size 13.1 MiB\n",
      "22/11/11 12:20:47 WARN DAGScheduler: Broadcasting large task binary with size 20.1 MiB\n",
      "22/11/11 12:20:49 WARN DAGScheduler: Broadcasting large task binary with size 20.2 MiB\n",
      "22/11/11 12:20:51 WARN DAGScheduler: Broadcasting large task binary with size 20.5 MiB\n",
      "22/11/11 12:20:59 WARN DAGScheduler: Broadcasting large task binary with size 13.1 MiB\n",
      "22/11/11 12:20:59 WARN DAGScheduler: Broadcasting large task binary with size 13.6 MiB\n",
      "22/11/11 12:21:00 WARN DAGScheduler: Broadcasting large task binary with size 13.6 MiB\n",
      "22/11/11 12:21:03 WARN DAGScheduler: Broadcasting large task binary with size 20.6 MiB\n",
      "22/11/11 12:21:04 WARN DAGScheduler: Broadcasting large task binary with size 20.6 MiB\n",
      "22/11/11 12:21:06 WARN DAGScheduler: Broadcasting large task binary with size 21.0 MiB\n",
      "22/11/11 12:21:12 WARN DAGScheduler: Broadcasting large task binary with size 20.4 MiB\n",
      "22/11/11 12:21:13 WARN DAGScheduler: Broadcasting large task binary with size 20.4 MiB\n",
      "22/11/11 12:21:14 WARN DAGScheduler: Broadcasting large task binary with size 20.4 MiB\n",
      "22/11/11 12:21:15 WARN DAGScheduler: Broadcasting large task binary with size 20.4 MiB\n",
      "22/11/11 12:21:17 WARN DAGScheduler: Broadcasting large task binary with size 20.4 MiB\n",
      "22/11/11 12:21:18 WARN DAGScheduler: Broadcasting large task binary with size 20.4 MiB\n",
      "22/11/11 12:21:24 WARN DAGScheduler: Broadcasting large task binary with size 20.9 MiB\n",
      "22/11/11 12:21:25 WARN DAGScheduler: Broadcasting large task binary with size 20.9 MiB\n",
      "22/11/11 12:21:26 WARN DAGScheduler: Broadcasting large task binary with size 20.9 MiB\n",
      "22/11/11 12:21:27 WARN DAGScheduler: Broadcasting large task binary with size 20.9 MiB\n",
      "22/11/11 12:21:28 WARN DAGScheduler: Broadcasting large task binary with size 20.9 MiB\n",
      "22/11/11 12:21:29 WARN DAGScheduler: Broadcasting large task binary with size 20.9 MiB\n",
      "22/11/11 12:21:35 WARN DAGScheduler: Broadcasting large task binary with size 12.9 MiB\n",
      "22/11/11 12:21:36 WARN DAGScheduler: Broadcasting large task binary with size 12.9 MiB\n",
      "22/11/11 12:21:37 WARN DAGScheduler: Broadcasting large task binary with size 12.9 MiB\n",
      "22/11/11 12:21:43 WARN DAGScheduler: Broadcasting large task binary with size 12.9 MiB\n",
      "22/11/11 12:21:43 WARN DAGScheduler: Broadcasting large task binary with size 12.9 MiB\n",
      "22/11/11 12:21:44 WARN DAGScheduler: Broadcasting large task binary with size 12.9 MiB\n",
      "                                                                                \r"
     ]
    },
    {
     "name": "stdout",
     "output_type": "stream",
     "text": [
      "Iteration 2 finished in 133.3047971725464 sec.\n"
     ]
    },
    {
     "name": "stderr",
     "output_type": "stream",
     "text": [
      "22/11/11 12:22:51 WARN DAGScheduler: Broadcasting large task binary with size 13.1 MiB\n",
      "22/11/11 12:22:51 WARN DAGScheduler: Broadcasting large task binary with size 13.1 MiB\n",
      "22/11/11 12:22:56 WARN DAGScheduler: Broadcasting large task binary with size 20.1 MiB\n",
      "22/11/11 12:22:57 WARN DAGScheduler: Broadcasting large task binary with size 20.2 MiB\n",
      "22/11/11 12:22:58 WARN DAGScheduler: Broadcasting large task binary with size 20.5 MiB\n",
      "22/11/11 12:23:07 WARN DAGScheduler: Broadcasting large task binary with size 13.1 MiB\n",
      "22/11/11 12:23:07 WARN DAGScheduler: Broadcasting large task binary with size 13.6 MiB\n",
      "22/11/11 12:23:08 WARN DAGScheduler: Broadcasting large task binary with size 13.6 MiB\n",
      "22/11/11 12:23:11 WARN DAGScheduler: Broadcasting large task binary with size 20.6 MiB\n",
      "22/11/11 12:23:12 WARN DAGScheduler: Broadcasting large task binary with size 20.6 MiB\n",
      "22/11/11 12:23:14 WARN DAGScheduler: Broadcasting large task binary with size 21.0 MiB\n",
      "22/11/11 12:23:21 WARN DAGScheduler: Broadcasting large task binary with size 20.4 MiB\n",
      "22/11/11 12:23:22 WARN DAGScheduler: Broadcasting large task binary with size 20.4 MiB\n",
      "22/11/11 12:23:23 WARN DAGScheduler: Broadcasting large task binary with size 20.4 MiB\n",
      "22/11/11 12:23:26 WARN DAGScheduler: Broadcasting large task binary with size 20.4 MiB\n",
      "22/11/11 12:23:27 WARN DAGScheduler: Broadcasting large task binary with size 20.4 MiB\n",
      "22/11/11 12:23:28 WARN DAGScheduler: Broadcasting large task binary with size 20.4 MiB\n",
      "22/11/11 12:23:34 WARN DAGScheduler: Broadcasting large task binary with size 20.9 MiB\n",
      "22/11/11 12:23:35 WARN DAGScheduler: Broadcasting large task binary with size 20.9 MiB\n",
      "22/11/11 12:23:35 WARN DAGScheduler: Broadcasting large task binary with size 20.9 MiB\n",
      "22/11/11 12:23:36 WARN DAGScheduler: Broadcasting large task binary with size 20.9 MiB\n",
      "22/11/11 12:23:38 WARN DAGScheduler: Broadcasting large task binary with size 20.9 MiB\n",
      "22/11/11 12:23:39 WARN DAGScheduler: Broadcasting large task binary with size 20.9 MiB\n",
      "22/11/11 12:23:45 WARN DAGScheduler: Broadcasting large task binary with size 12.9 MiB\n",
      "22/11/11 12:23:45 WARN DAGScheduler: Broadcasting large task binary with size 12.9 MiB\n",
      "22/11/11 12:23:47 WARN DAGScheduler: Broadcasting large task binary with size 12.9 MiB\n",
      "22/11/11 12:23:53 WARN DAGScheduler: Broadcasting large task binary with size 12.9 MiB\n",
      "22/11/11 12:23:53 WARN DAGScheduler: Broadcasting large task binary with size 12.9 MiB\n",
      "22/11/11 12:23:55 WARN DAGScheduler: Broadcasting large task binary with size 12.9 MiB\n",
      "                                                                                \r"
     ]
    },
    {
     "name": "stdout",
     "output_type": "stream",
     "text": [
      "Iteration 3 finished in 130.27756929397583 sec.\n"
     ]
    },
    {
     "name": "stderr",
     "output_type": "stream",
     "text": [
      "22/11/11 12:25:01 WARN DAGScheduler: Broadcasting large task binary with size 13.1 MiB\n",
      "22/11/11 12:25:02 WARN DAGScheduler: Broadcasting large task binary with size 13.1 MiB\n",
      "22/11/11 12:25:06 WARN DAGScheduler: Broadcasting large task binary with size 20.1 MiB\n",
      "22/11/11 12:25:07 WARN DAGScheduler: Broadcasting large task binary with size 20.2 MiB\n",
      "22/11/11 12:25:09 WARN DAGScheduler: Broadcasting large task binary with size 20.5 MiB\n",
      "22/11/11 12:25:17 WARN DAGScheduler: Broadcasting large task binary with size 13.1 MiB\n",
      "22/11/11 12:25:18 WARN DAGScheduler: Broadcasting large task binary with size 13.6 MiB\n",
      "22/11/11 12:25:18 WARN DAGScheduler: Broadcasting large task binary with size 13.6 MiB\n",
      "22/11/11 12:25:21 WARN DAGScheduler: Broadcasting large task binary with size 20.6 MiB\n",
      "22/11/11 12:25:23 WARN DAGScheduler: Broadcasting large task binary with size 20.6 MiB\n",
      "22/11/11 12:25:24 WARN DAGScheduler: Broadcasting large task binary with size 21.0 MiB\n",
      "22/11/11 12:25:31 WARN DAGScheduler: Broadcasting large task binary with size 20.4 MiB\n",
      "22/11/11 12:25:31 WARN DAGScheduler: Broadcasting large task binary with size 20.4 MiB\n",
      "22/11/11 12:25:32 WARN DAGScheduler: Broadcasting large task binary with size 20.4 MiB\n",
      "22/11/11 12:25:34 WARN DAGScheduler: Broadcasting large task binary with size 20.4 MiB\n",
      "22/11/11 12:25:35 WARN DAGScheduler: Broadcasting large task binary with size 20.4 MiB\n",
      "22/11/11 12:25:36 WARN DAGScheduler: Broadcasting large task binary with size 20.4 MiB\n",
      "22/11/11 12:25:42 WARN DAGScheduler: Broadcasting large task binary with size 20.9 MiB\n",
      "22/11/11 12:25:42 WARN DAGScheduler: Broadcasting large task binary with size 20.9 MiB\n",
      "22/11/11 12:25:43 WARN DAGScheduler: Broadcasting large task binary with size 20.9 MiB\n",
      "22/11/11 12:25:44 WARN DAGScheduler: Broadcasting large task binary with size 20.9 MiB\n",
      "22/11/11 12:25:45 WARN DAGScheduler: Broadcasting large task binary with size 20.9 MiB\n",
      "22/11/11 12:25:47 WARN DAGScheduler: Broadcasting large task binary with size 20.9 MiB\n",
      "22/11/11 12:25:53 WARN DAGScheduler: Broadcasting large task binary with size 12.9 MiB\n",
      "22/11/11 12:25:54 WARN DAGScheduler: Broadcasting large task binary with size 12.9 MiB\n",
      "22/11/11 12:25:55 WARN DAGScheduler: Broadcasting large task binary with size 12.9 MiB\n",
      "22/11/11 12:26:01 WARN DAGScheduler: Broadcasting large task binary with size 12.9 MiB\n",
      "22/11/11 12:26:02 WARN DAGScheduler: Broadcasting large task binary with size 12.9 MiB\n",
      "22/11/11 12:26:03 WARN DAGScheduler: Broadcasting large task binary with size 12.9 MiB\n"
     ]
    },
    {
     "name": "stdout",
     "output_type": "stream",
     "text": [
      "Iteration 4 finished in 128.0215449333191 sec.\n"
     ]
    },
    {
     "name": "stderr",
     "output_type": "stream",
     "text": [
      "22/11/11 12:27:08 WARN DAGScheduler: Broadcasting large task binary with size 13.1 MiB\n",
      "22/11/11 12:27:08 WARN DAGScheduler: Broadcasting large task binary with size 13.1 MiB\n",
      "22/11/11 12:27:13 WARN DAGScheduler: Broadcasting large task binary with size 20.1 MiB\n",
      "22/11/11 12:27:14 WARN DAGScheduler: Broadcasting large task binary with size 20.2 MiB\n",
      "22/11/11 12:27:16 WARN DAGScheduler: Broadcasting large task binary with size 20.5 MiB\n",
      "22/11/11 12:27:24 WARN DAGScheduler: Broadcasting large task binary with size 13.1 MiB\n",
      "22/11/11 12:27:25 WARN DAGScheduler: Broadcasting large task binary with size 13.6 MiB\n",
      "22/11/11 12:27:26 WARN DAGScheduler: Broadcasting large task binary with size 13.6 MiB\n",
      "22/11/11 12:27:29 WARN DAGScheduler: Broadcasting large task binary with size 20.6 MiB\n",
      "22/11/11 12:27:30 WARN DAGScheduler: Broadcasting large task binary with size 20.6 MiB\n",
      "22/11/11 12:27:31 WARN DAGScheduler: Broadcasting large task binary with size 21.0 MiB\n",
      "22/11/11 12:27:38 WARN DAGScheduler: Broadcasting large task binary with size 20.4 MiB\n",
      "22/11/11 12:27:39 WARN DAGScheduler: Broadcasting large task binary with size 20.4 MiB\n",
      "22/11/11 12:27:40 WARN DAGScheduler: Broadcasting large task binary with size 20.4 MiB\n",
      "22/11/11 12:27:42 WARN DAGScheduler: Broadcasting large task binary with size 20.4 MiB\n",
      "22/11/11 12:27:43 WARN DAGScheduler: Broadcasting large task binary with size 20.4 MiB\n",
      "22/11/11 12:27:44 WARN DAGScheduler: Broadcasting large task binary with size 20.4 MiB\n",
      "22/11/11 12:27:51 WARN DAGScheduler: Broadcasting large task binary with size 20.9 MiB\n",
      "22/11/11 12:27:51 WARN DAGScheduler: Broadcasting large task binary with size 20.9 MiB\n",
      "22/11/11 12:27:52 WARN DAGScheduler: Broadcasting large task binary with size 20.9 MiB\n",
      "22/11/11 12:27:53 WARN DAGScheduler: Broadcasting large task binary with size 20.9 MiB\n",
      "22/11/11 12:27:55 WARN DAGScheduler: Broadcasting large task binary with size 20.9 MiB\n",
      "22/11/11 12:27:56 WARN DAGScheduler: Broadcasting large task binary with size 20.9 MiB\n",
      "22/11/11 12:28:02 WARN DAGScheduler: Broadcasting large task binary with size 12.9 MiB\n",
      "22/11/11 12:28:03 WARN DAGScheduler: Broadcasting large task binary with size 12.9 MiB\n",
      "22/11/11 12:28:05 WARN DAGScheduler: Broadcasting large task binary with size 12.9 MiB\n",
      "22/11/11 12:28:11 WARN DAGScheduler: Broadcasting large task binary with size 12.9 MiB\n",
      "22/11/11 12:28:12 WARN DAGScheduler: Broadcasting large task binary with size 12.9 MiB\n",
      "22/11/11 12:28:13 WARN DAGScheduler: Broadcasting large task binary with size 12.9 MiB\n",
      "                                                                                \r"
     ]
    },
    {
     "name": "stdout",
     "output_type": "stream",
     "text": [
      "Iteration 5 finished in 130.26815819740295 sec.\n"
     ]
    },
    {
     "name": "stderr",
     "output_type": "stream",
     "text": [
      "22/11/11 12:29:22 WARN DAGScheduler: Broadcasting large task binary with size 13.1 MiB\n",
      "22/11/11 12:29:22 WARN DAGScheduler: Broadcasting large task binary with size 13.1 MiB\n",
      "22/11/11 12:29:27 WARN DAGScheduler: Broadcasting large task binary with size 20.1 MiB\n",
      "22/11/11 12:29:28 WARN DAGScheduler: Broadcasting large task binary with size 20.1 MiB\n",
      "22/11/11 12:29:29 WARN DAGScheduler: Broadcasting large task binary with size 20.5 MiB\n",
      "22/11/11 12:29:37 WARN DAGScheduler: Broadcasting large task binary with size 13.1 MiB\n",
      "22/11/11 12:29:38 WARN DAGScheduler: Broadcasting large task binary with size 13.6 MiB\n",
      "22/11/11 12:29:38 WARN DAGScheduler: Broadcasting large task binary with size 13.6 MiB\n",
      "22/11/11 12:29:42 WARN DAGScheduler: Broadcasting large task binary with size 20.6 MiB\n",
      "22/11/11 12:29:43 WARN DAGScheduler: Broadcasting large task binary with size 20.6 MiB\n",
      "22/11/11 12:29:45 WARN DAGScheduler: Broadcasting large task binary with size 21.0 MiB\n",
      "22/11/11 12:29:52 WARN DAGScheduler: Broadcasting large task binary with size 20.4 MiB\n",
      "22/11/11 12:29:52 WARN DAGScheduler: Broadcasting large task binary with size 20.4 MiB\n",
      "22/11/11 12:29:53 WARN DAGScheduler: Broadcasting large task binary with size 20.4 MiB\n",
      "22/11/11 12:29:55 WARN DAGScheduler: Broadcasting large task binary with size 20.4 MiB\n",
      "22/11/11 12:29:56 WARN DAGScheduler: Broadcasting large task binary with size 20.4 MiB\n",
      "22/11/11 12:29:57 WARN DAGScheduler: Broadcasting large task binary with size 20.4 MiB\n",
      "22/11/11 12:30:03 WARN DAGScheduler: Broadcasting large task binary with size 20.9 MiB\n",
      "22/11/11 12:30:03 WARN DAGScheduler: Broadcasting large task binary with size 20.9 MiB\n",
      "22/11/11 12:30:04 WARN DAGScheduler: Broadcasting large task binary with size 20.9 MiB\n",
      "22/11/11 12:30:05 WARN DAGScheduler: Broadcasting large task binary with size 20.9 MiB\n",
      "22/11/11 12:30:06 WARN DAGScheduler: Broadcasting large task binary with size 20.9 MiB\n",
      "22/11/11 12:30:07 WARN DAGScheduler: Broadcasting large task binary with size 20.9 MiB\n",
      "22/11/11 12:30:13 WARN DAGScheduler: Broadcasting large task binary with size 12.9 MiB\n",
      "22/11/11 12:30:15 WARN DAGScheduler: Broadcasting large task binary with size 12.9 MiB\n",
      "22/11/11 12:30:16 WARN DAGScheduler: Broadcasting large task binary with size 12.9 MiB\n",
      "22/11/11 12:30:22 WARN DAGScheduler: Broadcasting large task binary with size 12.9 MiB\n",
      "22/11/11 12:30:23 WARN DAGScheduler: Broadcasting large task binary with size 12.9 MiB\n",
      "22/11/11 12:30:24 WARN DAGScheduler: Broadcasting large task binary with size 12.9 MiB\n"
     ]
    },
    {
     "name": "stdout",
     "output_type": "stream",
     "text": [
      "Iteration 6 finished in 130.87359046936035 sec.\n"
     ]
    },
    {
     "name": "stderr",
     "output_type": "stream",
     "text": [
      "22/11/11 12:31:37 WARN DAGScheduler: Broadcasting large task binary with size 13.1 MiB\n",
      "22/11/11 12:31:38 WARN DAGScheduler: Broadcasting large task binary with size 13.1 MiB\n",
      "22/11/11 12:31:42 WARN DAGScheduler: Broadcasting large task binary with size 20.1 MiB\n",
      "22/11/11 12:31:44 WARN DAGScheduler: Broadcasting large task binary with size 20.2 MiB\n",
      "22/11/11 12:31:45 WARN DAGScheduler: Broadcasting large task binary with size 20.5 MiB\n",
      "22/11/11 12:31:54 WARN DAGScheduler: Broadcasting large task binary with size 13.6 MiB\n",
      "22/11/11 12:31:54 WARN DAGScheduler: Broadcasting large task binary with size 13.1 MiB\n",
      "22/11/11 12:31:55 WARN DAGScheduler: Broadcasting large task binary with size 13.6 MiB\n",
      "22/11/11 12:31:58 WARN DAGScheduler: Broadcasting large task binary with size 20.6 MiB\n",
      "22/11/11 12:32:00 WARN DAGScheduler: Broadcasting large task binary with size 20.6 MiB\n",
      "22/11/11 12:32:01 WARN DAGScheduler: Broadcasting large task binary with size 21.0 MiB\n",
      "22/11/11 12:32:09 WARN DAGScheduler: Broadcasting large task binary with size 20.4 MiB\n",
      "22/11/11 12:32:09 WARN DAGScheduler: Broadcasting large task binary with size 20.4 MiB\n",
      "22/11/11 12:32:11 WARN DAGScheduler: Broadcasting large task binary with size 20.4 MiB\n",
      "22/11/11 12:32:13 WARN DAGScheduler: Broadcasting large task binary with size 20.4 MiB\n",
      "22/11/11 12:32:14 WARN DAGScheduler: Broadcasting large task binary with size 20.4 MiB\n",
      "22/11/11 12:32:15 WARN DAGScheduler: Broadcasting large task binary with size 20.4 MiB\n",
      "22/11/11 12:32:21 WARN DAGScheduler: Broadcasting large task binary with size 20.9 MiB\n",
      "22/11/11 12:32:22 WARN DAGScheduler: Broadcasting large task binary with size 20.9 MiB\n",
      "22/11/11 12:32:23 WARN DAGScheduler: Broadcasting large task binary with size 20.9 MiB\n",
      "22/11/11 12:32:24 WARN DAGScheduler: Broadcasting large task binary with size 20.9 MiB\n",
      "22/11/11 12:32:25 WARN DAGScheduler: Broadcasting large task binary with size 20.9 MiB\n",
      "22/11/11 12:32:27 WARN DAGScheduler: Broadcasting large task binary with size 20.9 MiB\n",
      "22/11/11 12:32:35 WARN DAGScheduler: Broadcasting large task binary with size 12.9 MiB\n",
      "22/11/11 12:32:36 WARN DAGScheduler: Broadcasting large task binary with size 12.9 MiB\n",
      "22/11/11 12:32:38 WARN DAGScheduler: Broadcasting large task binary with size 12.9 MiB\n",
      "22/11/11 12:32:44 WARN DAGScheduler: Broadcasting large task binary with size 12.9 MiB\n",
      "22/11/11 12:32:45 WARN DAGScheduler: Broadcasting large task binary with size 12.9 MiB\n",
      "22/11/11 12:32:46 WARN DAGScheduler: Broadcasting large task binary with size 12.9 MiB\n",
      "                                                                                \r"
     ]
    },
    {
     "name": "stdout",
     "output_type": "stream",
     "text": [
      "Iteration 7 finished in 142.45954489707947 sec.\n"
     ]
    },
    {
     "name": "stderr",
     "output_type": "stream",
     "text": [
      "22/11/11 12:33:55 WARN DAGScheduler: Broadcasting large task binary with size 13.1 MiB\n",
      "22/11/11 12:33:56 WARN DAGScheduler: Broadcasting large task binary with size 13.1 MiB\n",
      "22/11/11 12:34:01 WARN DAGScheduler: Broadcasting large task binary with size 20.1 MiB\n",
      "22/11/11 12:34:02 WARN DAGScheduler: Broadcasting large task binary with size 20.2 MiB\n",
      "22/11/11 12:34:03 WARN DAGScheduler: Broadcasting large task binary with size 20.5 MiB\n",
      "22/11/11 12:34:12 WARN DAGScheduler: Broadcasting large task binary with size 13.6 MiB\n",
      "22/11/11 12:34:13 WARN DAGScheduler: Broadcasting large task binary with size 13.1 MiB\n",
      "22/11/11 12:34:14 WARN DAGScheduler: Broadcasting large task binary with size 13.6 MiB\n",
      "22/11/11 12:34:27 WARN DAGScheduler: Broadcasting large task binary with size 20.6 MiB\n",
      "22/11/11 12:34:28 WARN DAGScheduler: Broadcasting large task binary with size 20.6 MiB\n",
      "22/11/11 12:34:30 WARN DAGScheduler: Broadcasting large task binary with size 21.0 MiB\n",
      "22/11/11 12:34:39 WARN DAGScheduler: Broadcasting large task binary with size 20.4 MiB\n",
      "22/11/11 12:34:40 WARN DAGScheduler: Broadcasting large task binary with size 20.4 MiB\n",
      "22/11/11 12:34:41 WARN DAGScheduler: Broadcasting large task binary with size 20.4 MiB\n",
      "22/11/11 12:34:43 WARN DAGScheduler: Broadcasting large task binary with size 20.4 MiB\n",
      "22/11/11 12:34:44 WARN DAGScheduler: Broadcasting large task binary with size 20.4 MiB\n",
      "22/11/11 12:34:46 WARN DAGScheduler: Broadcasting large task binary with size 20.4 MiB\n",
      "22/11/11 12:34:53 WARN DAGScheduler: Broadcasting large task binary with size 20.9 MiB\n",
      "22/11/11 12:34:53 WARN DAGScheduler: Broadcasting large task binary with size 20.9 MiB\n",
      "22/11/11 12:34:54 WARN DAGScheduler: Broadcasting large task binary with size 20.9 MiB\n",
      "22/11/11 12:34:56 WARN DAGScheduler: Broadcasting large task binary with size 20.9 MiB\n",
      "22/11/11 12:34:57 WARN DAGScheduler: Broadcasting large task binary with size 20.9 MiB\n",
      "22/11/11 12:34:58 WARN DAGScheduler: Broadcasting large task binary with size 20.9 MiB\n",
      "22/11/11 12:35:05 WARN DAGScheduler: Broadcasting large task binary with size 12.9 MiB\n",
      "22/11/11 12:35:06 WARN DAGScheduler: Broadcasting large task binary with size 12.9 MiB\n",
      "22/11/11 12:35:08 WARN DAGScheduler: Broadcasting large task binary with size 12.9 MiB\n",
      "22/11/11 12:35:14 WARN DAGScheduler: Broadcasting large task binary with size 12.9 MiB\n",
      "22/11/11 12:35:15 WARN DAGScheduler: Broadcasting large task binary with size 12.9 MiB\n",
      "22/11/11 12:35:16 WARN DAGScheduler: Broadcasting large task binary with size 12.9 MiB\n",
      "                                                                                \r"
     ]
    },
    {
     "name": "stdout",
     "output_type": "stream",
     "text": [
      "Iteration 8 finished in 150.19155263900757 sec.\n"
     ]
    },
    {
     "name": "stderr",
     "output_type": "stream",
     "text": [
      "22/11/11 12:36:27 WARN DAGScheduler: Broadcasting large task binary with size 13.1 MiB\n",
      "22/11/11 12:36:28 WARN DAGScheduler: Broadcasting large task binary with size 13.1 MiB\n",
      "22/11/11 12:36:33 WARN DAGScheduler: Broadcasting large task binary with size 20.1 MiB\n",
      "22/11/11 12:36:35 WARN DAGScheduler: Broadcasting large task binary with size 20.1 MiB\n",
      "22/11/11 12:36:36 WARN DAGScheduler: Broadcasting large task binary with size 20.5 MiB\n",
      "22/11/11 12:36:44 WARN DAGScheduler: Broadcasting large task binary with size 13.6 MiB\n",
      "22/11/11 12:36:45 WARN DAGScheduler: Broadcasting large task binary with size 13.1 MiB\n",
      "22/11/11 12:36:45 WARN DAGScheduler: Broadcasting large task binary with size 13.6 MiB\n",
      "22/11/11 12:36:48 WARN DAGScheduler: Broadcasting large task binary with size 20.6 MiB\n",
      "22/11/11 12:36:50 WARN DAGScheduler: Broadcasting large task binary with size 20.6 MiB\n",
      "22/11/11 12:36:51 WARN DAGScheduler: Broadcasting large task binary with size 21.0 MiB\n",
      "22/11/11 12:36:57 WARN DAGScheduler: Broadcasting large task binary with size 20.4 MiB\n",
      "22/11/11 12:36:58 WARN DAGScheduler: Broadcasting large task binary with size 20.4 MiB\n",
      "22/11/11 12:36:59 WARN DAGScheduler: Broadcasting large task binary with size 20.4 MiB\n",
      "22/11/11 12:37:01 WARN DAGScheduler: Broadcasting large task binary with size 20.4 MiB\n",
      "22/11/11 12:37:02 WARN DAGScheduler: Broadcasting large task binary with size 20.4 MiB\n",
      "22/11/11 12:37:03 WARN DAGScheduler: Broadcasting large task binary with size 20.4 MiB\n",
      "22/11/11 12:37:09 WARN DAGScheduler: Broadcasting large task binary with size 20.9 MiB\n",
      "22/11/11 12:37:09 WARN DAGScheduler: Broadcasting large task binary with size 20.9 MiB\n",
      "22/11/11 12:37:10 WARN DAGScheduler: Broadcasting large task binary with size 20.9 MiB\n",
      "22/11/11 12:37:11 WARN DAGScheduler: Broadcasting large task binary with size 20.9 MiB\n",
      "22/11/11 12:37:12 WARN DAGScheduler: Broadcasting large task binary with size 20.9 MiB\n",
      "22/11/11 12:37:14 WARN DAGScheduler: Broadcasting large task binary with size 20.9 MiB\n",
      "22/11/11 12:37:21 WARN DAGScheduler: Broadcasting large task binary with size 12.9 MiB\n",
      "22/11/11 12:37:22 WARN DAGScheduler: Broadcasting large task binary with size 12.9 MiB\n",
      "22/11/11 12:37:24 WARN DAGScheduler: Broadcasting large task binary with size 12.9 MiB\n",
      "22/11/11 12:37:31 WARN DAGScheduler: Broadcasting large task binary with size 12.9 MiB\n",
      "22/11/11 12:37:31 WARN DAGScheduler: Broadcasting large task binary with size 12.9 MiB\n",
      "22/11/11 12:37:33 WARN DAGScheduler: Broadcasting large task binary with size 12.9 MiB\n",
      "                                                                                \r"
     ]
    },
    {
     "name": "stdout",
     "output_type": "stream",
     "text": [
      "Iteration 9 finished in 136.27757382392883 sec.\n"
     ]
    },
    {
     "name": "stderr",
     "output_type": "stream",
     "text": [
      "22/11/11 12:38:41 WARN DAGScheduler: Broadcasting large task binary with size 13.1 MiB\n",
      "22/11/11 12:38:42 WARN DAGScheduler: Broadcasting large task binary with size 13.1 MiB\n",
      "22/11/11 12:38:46 WARN DAGScheduler: Broadcasting large task binary with size 20.1 MiB\n",
      "22/11/11 12:38:47 WARN DAGScheduler: Broadcasting large task binary with size 20.2 MiB\n",
      "22/11/11 12:38:49 WARN DAGScheduler: Broadcasting large task binary with size 20.5 MiB\n",
      "22/11/11 12:38:58 WARN DAGScheduler: Broadcasting large task binary with size 13.6 MiB\n",
      "22/11/11 12:38:58 WARN DAGScheduler: Broadcasting large task binary with size 13.1 MiB\n",
      "22/11/11 12:38:59 WARN DAGScheduler: Broadcasting large task binary with size 13.6 MiB\n",
      "22/11/11 12:39:02 WARN DAGScheduler: Broadcasting large task binary with size 20.6 MiB\n",
      "22/11/11 12:39:03 WARN DAGScheduler: Broadcasting large task binary with size 20.6 MiB\n",
      "22/11/11 12:39:05 WARN DAGScheduler: Broadcasting large task binary with size 21.0 MiB\n",
      "22/11/11 12:39:12 WARN DAGScheduler: Broadcasting large task binary with size 20.4 MiB\n",
      "22/11/11 12:39:12 WARN DAGScheduler: Broadcasting large task binary with size 20.4 MiB\n",
      "22/11/11 12:39:13 WARN DAGScheduler: Broadcasting large task binary with size 20.4 MiB\n",
      "22/11/11 12:39:15 WARN DAGScheduler: Broadcasting large task binary with size 20.4 MiB\n",
      "22/11/11 12:39:16 WARN DAGScheduler: Broadcasting large task binary with size 20.4 MiB\n",
      "22/11/11 12:39:17 WARN DAGScheduler: Broadcasting large task binary with size 20.4 MiB\n",
      "22/11/11 12:39:23 WARN DAGScheduler: Broadcasting large task binary with size 20.9 MiB\n",
      "22/11/11 12:39:24 WARN DAGScheduler: Broadcasting large task binary with size 20.9 MiB\n",
      "22/11/11 12:39:25 WARN DAGScheduler: Broadcasting large task binary with size 20.9 MiB\n",
      "22/11/11 12:39:26 WARN DAGScheduler: Broadcasting large task binary with size 20.9 MiB\n",
      "22/11/11 12:39:28 WARN DAGScheduler: Broadcasting large task binary with size 20.9 MiB\n",
      "22/11/11 12:39:29 WARN DAGScheduler: Broadcasting large task binary with size 20.9 MiB\n",
      "22/11/11 12:39:37 WARN DAGScheduler: Broadcasting large task binary with size 12.9 MiB\n",
      "22/11/11 12:39:38 WARN DAGScheduler: Broadcasting large task binary with size 12.9 MiB\n",
      "22/11/11 12:39:40 WARN DAGScheduler: Broadcasting large task binary with size 12.9 MiB\n",
      "22/11/11 12:39:46 WARN DAGScheduler: Broadcasting large task binary with size 12.9 MiB\n",
      "22/11/11 12:39:47 WARN DAGScheduler: Broadcasting large task binary with size 12.9 MiB\n",
      "22/11/11 12:39:48 WARN DAGScheduler: Broadcasting large task binary with size 12.9 MiB\n",
      "                                                                                \r"
     ]
    },
    {
     "name": "stdout",
     "output_type": "stream",
     "text": [
      "Iteration 10 finished in 135.49125123023987 sec.\n"
     ]
    },
    {
     "name": "stderr",
     "output_type": "stream",
     "text": [
      "22/11/11 12:40:57 WARN DAGScheduler: Broadcasting large task binary with size 13.1 MiB\n",
      "22/11/11 12:40:58 WARN DAGScheduler: Broadcasting large task binary with size 13.1 MiB\n",
      "22/11/11 12:41:03 WARN DAGScheduler: Broadcasting large task binary with size 20.1 MiB\n",
      "22/11/11 12:41:04 WARN DAGScheduler: Broadcasting large task binary with size 20.2 MiB\n",
      "22/11/11 12:41:06 WARN DAGScheduler: Broadcasting large task binary with size 20.5 MiB\n",
      "22/11/11 12:41:14 WARN DAGScheduler: Broadcasting large task binary with size 13.6 MiB\n",
      "22/11/11 12:41:15 WARN DAGScheduler: Broadcasting large task binary with size 13.1 MiB\n",
      "22/11/11 12:41:15 WARN DAGScheduler: Broadcasting large task binary with size 13.6 MiB\n",
      "22/11/11 12:41:19 WARN DAGScheduler: Broadcasting large task binary with size 20.6 MiB\n",
      "22/11/11 12:41:20 WARN DAGScheduler: Broadcasting large task binary with size 20.6 MiB\n",
      "22/11/11 12:41:21 WARN DAGScheduler: Broadcasting large task binary with size 21.0 MiB\n",
      "22/11/11 12:41:29 WARN DAGScheduler: Broadcasting large task binary with size 20.4 MiB\n",
      "22/11/11 12:41:29 WARN DAGScheduler: Broadcasting large task binary with size 20.4 MiB\n",
      "22/11/11 12:41:30 WARN DAGScheduler: Broadcasting large task binary with size 20.4 MiB\n",
      "22/11/11 12:41:32 WARN DAGScheduler: Broadcasting large task binary with size 20.4 MiB\n",
      "22/11/11 12:41:33 WARN DAGScheduler: Broadcasting large task binary with size 20.4 MiB\n",
      "22/11/11 12:41:34 WARN DAGScheduler: Broadcasting large task binary with size 20.4 MiB\n",
      "22/11/11 12:41:40 WARN DAGScheduler: Broadcasting large task binary with size 20.9 MiB\n",
      "22/11/11 12:41:41 WARN DAGScheduler: Broadcasting large task binary with size 20.9 MiB\n",
      "22/11/11 12:41:42 WARN DAGScheduler: Broadcasting large task binary with size 20.9 MiB\n",
      "22/11/11 12:41:43 WARN DAGScheduler: Broadcasting large task binary with size 20.9 MiB\n",
      "22/11/11 12:41:44 WARN DAGScheduler: Broadcasting large task binary with size 20.9 MiB\n",
      "22/11/11 12:41:45 WARN DAGScheduler: Broadcasting large task binary with size 20.9 MiB\n",
      "22/11/11 12:41:54 WARN DAGScheduler: Broadcasting large task binary with size 12.9 MiB\n",
      "22/11/11 12:41:55 WARN DAGScheduler: Broadcasting large task binary with size 12.9 MiB\n",
      "22/11/11 12:41:56 WARN DAGScheduler: Broadcasting large task binary with size 12.9 MiB\n",
      "22/11/11 12:42:03 WARN DAGScheduler: Broadcasting large task binary with size 12.9 MiB\n",
      "22/11/11 12:42:04 WARN DAGScheduler: Broadcasting large task binary with size 12.9 MiB\n",
      "22/11/11 12:42:06 WARN DAGScheduler: Broadcasting large task binary with size 12.9 MiB\n",
      "                                                                                \r"
     ]
    },
    {
     "name": "stdout",
     "output_type": "stream",
     "text": [
      "Iteration 11 finished in 137.32478022575378 sec.\n"
     ]
    },
    {
     "name": "stderr",
     "output_type": "stream",
     "text": [
      "22/11/11 12:43:12 WARN DAGScheduler: Broadcasting large task binary with size 13.1 MiB\n",
      "22/11/11 12:43:13 WARN DAGScheduler: Broadcasting large task binary with size 13.1 MiB\n",
      "22/11/11 12:43:17 WARN DAGScheduler: Broadcasting large task binary with size 20.1 MiB\n",
      "22/11/11 12:43:18 WARN DAGScheduler: Broadcasting large task binary with size 20.1 MiB\n",
      "22/11/11 12:43:20 WARN DAGScheduler: Broadcasting large task binary with size 20.5 MiB\n",
      "22/11/11 12:43:29 WARN DAGScheduler: Broadcasting large task binary with size 13.1 MiB\n",
      "22/11/11 12:43:29 WARN DAGScheduler: Broadcasting large task binary with size 13.6 MiB\n",
      "22/11/11 12:43:30 WARN DAGScheduler: Broadcasting large task binary with size 13.6 MiB\n",
      "22/11/11 12:43:34 WARN DAGScheduler: Broadcasting large task binary with size 20.6 MiB\n",
      "22/11/11 12:43:35 WARN DAGScheduler: Broadcasting large task binary with size 20.6 MiB\n",
      "22/11/11 12:43:37 WARN DAGScheduler: Broadcasting large task binary with size 21.0 MiB\n",
      "22/11/11 12:43:44 WARN DAGScheduler: Broadcasting large task binary with size 20.4 MiB\n",
      "22/11/11 12:43:44 WARN DAGScheduler: Broadcasting large task binary with size 20.4 MiB\n",
      "22/11/11 12:43:45 WARN DAGScheduler: Broadcasting large task binary with size 20.4 MiB\n",
      "22/11/11 12:43:47 WARN DAGScheduler: Broadcasting large task binary with size 20.4 MiB\n",
      "22/11/11 12:43:48 WARN DAGScheduler: Broadcasting large task binary with size 20.4 MiB\n",
      "22/11/11 12:43:49 WARN DAGScheduler: Broadcasting large task binary with size 20.4 MiB\n",
      "22/11/11 12:43:55 WARN DAGScheduler: Broadcasting large task binary with size 20.9 MiB\n",
      "22/11/11 12:43:56 WARN DAGScheduler: Broadcasting large task binary with size 20.9 MiB\n",
      "22/11/11 12:43:56 WARN DAGScheduler: Broadcasting large task binary with size 20.9 MiB\n",
      "22/11/11 12:43:57 WARN DAGScheduler: Broadcasting large task binary with size 20.9 MiB\n",
      "22/11/11 12:43:59 WARN DAGScheduler: Broadcasting large task binary with size 20.9 MiB\n",
      "22/11/11 12:44:00 WARN DAGScheduler: Broadcasting large task binary with size 20.9 MiB\n",
      "22/11/11 12:44:09 WARN DAGScheduler: Broadcasting large task binary with size 12.9 MiB\n",
      "22/11/11 12:44:10 WARN DAGScheduler: Broadcasting large task binary with size 12.9 MiB\n",
      "22/11/11 12:44:12 WARN DAGScheduler: Broadcasting large task binary with size 12.9 MiB\n",
      "22/11/11 12:44:19 WARN DAGScheduler: Broadcasting large task binary with size 12.9 MiB\n",
      "22/11/11 12:44:20 WARN DAGScheduler: Broadcasting large task binary with size 12.9 MiB\n",
      "22/11/11 12:44:21 WARN DAGScheduler: Broadcasting large task binary with size 12.9 MiB\n",
      "                                                                                \r"
     ]
    },
    {
     "name": "stdout",
     "output_type": "stream",
     "text": [
      "Iteration 12 finished in 135.35119152069092 sec.\n"
     ]
    },
    {
     "name": "stderr",
     "output_type": "stream",
     "text": [
      "22/11/11 12:45:30 WARN DAGScheduler: Broadcasting large task binary with size 13.1 MiB\n",
      "22/11/11 12:45:31 WARN DAGScheduler: Broadcasting large task binary with size 13.1 MiB\n",
      "22/11/11 12:45:36 WARN DAGScheduler: Broadcasting large task binary with size 20.1 MiB\n",
      "22/11/11 12:45:38 WARN DAGScheduler: Broadcasting large task binary with size 20.2 MiB\n",
      "22/11/11 12:45:40 WARN DAGScheduler: Broadcasting large task binary with size 20.5 MiB\n",
      "22/11/11 12:45:48 WARN DAGScheduler: Broadcasting large task binary with size 13.6 MiB\n",
      "22/11/11 12:45:48 WARN DAGScheduler: Broadcasting large task binary with size 13.1 MiB\n",
      "22/11/11 12:45:49 WARN DAGScheduler: Broadcasting large task binary with size 13.6 MiB\n",
      "22/11/11 12:45:52 WARN DAGScheduler: Broadcasting large task binary with size 20.6 MiB\n",
      "22/11/11 12:45:54 WARN DAGScheduler: Broadcasting large task binary with size 20.6 MiB\n",
      "22/11/11 12:45:55 WARN DAGScheduler: Broadcasting large task binary with size 21.0 MiB\n",
      "22/11/11 12:46:02 WARN DAGScheduler: Broadcasting large task binary with size 20.4 MiB\n",
      "22/11/11 12:46:03 WARN DAGScheduler: Broadcasting large task binary with size 20.4 MiB\n",
      "22/11/11 12:46:04 WARN DAGScheduler: Broadcasting large task binary with size 20.4 MiB\n",
      "22/11/11 12:46:06 WARN DAGScheduler: Broadcasting large task binary with size 20.4 MiB\n",
      "22/11/11 12:46:07 WARN DAGScheduler: Broadcasting large task binary with size 20.4 MiB\n",
      "22/11/11 12:46:09 WARN DAGScheduler: Broadcasting large task binary with size 20.4 MiB\n",
      "22/11/11 12:46:14 WARN DAGScheduler: Broadcasting large task binary with size 20.9 MiB\n",
      "22/11/11 12:46:15 WARN DAGScheduler: Broadcasting large task binary with size 20.9 MiB\n",
      "22/11/11 12:46:16 WARN DAGScheduler: Broadcasting large task binary with size 20.9 MiB\n",
      "22/11/11 12:46:17 WARN DAGScheduler: Broadcasting large task binary with size 20.9 MiB\n",
      "22/11/11 12:46:18 WARN DAGScheduler: Broadcasting large task binary with size 20.9 MiB\n",
      "22/11/11 12:46:19 WARN DAGScheduler: Broadcasting large task binary with size 20.9 MiB\n",
      "22/11/11 12:46:28 WARN DAGScheduler: Broadcasting large task binary with size 12.9 MiB\n",
      "22/11/11 12:46:29 WARN DAGScheduler: Broadcasting large task binary with size 12.9 MiB\n",
      "22/11/11 12:46:30 WARN DAGScheduler: Broadcasting large task binary with size 12.9 MiB\n",
      "22/11/11 12:46:37 WARN DAGScheduler: Broadcasting large task binary with size 12.9 MiB\n",
      "22/11/11 12:46:38 WARN DAGScheduler: Broadcasting large task binary with size 12.9 MiB\n",
      "22/11/11 12:46:39 WARN DAGScheduler: Broadcasting large task binary with size 12.9 MiB\n",
      "                                                                                \r"
     ]
    },
    {
     "name": "stdout",
     "output_type": "stream",
     "text": [
      "Iteration 13 finished in 138.2699625492096 sec.\n"
     ]
    },
    {
     "name": "stderr",
     "output_type": "stream",
     "text": [
      "22/11/11 12:47:47 WARN DAGScheduler: Broadcasting large task binary with size 13.1 MiB\n",
      "22/11/11 12:47:48 WARN DAGScheduler: Broadcasting large task binary with size 13.1 MiB\n",
      "22/11/11 12:47:53 WARN DAGScheduler: Broadcasting large task binary with size 20.1 MiB\n",
      "22/11/11 12:47:54 WARN DAGScheduler: Broadcasting large task binary with size 20.2 MiB\n",
      "22/11/11 12:47:56 WARN DAGScheduler: Broadcasting large task binary with size 20.5 MiB\n",
      "22/11/11 12:48:04 WARN DAGScheduler: Broadcasting large task binary with size 13.6 MiB\n",
      "22/11/11 12:48:04 WARN DAGScheduler: Broadcasting large task binary with size 13.1 MiB\n",
      "22/11/11 12:48:05 WARN DAGScheduler: Broadcasting large task binary with size 13.6 MiB\n",
      "22/11/11 12:48:08 WARN DAGScheduler: Broadcasting large task binary with size 20.6 MiB\n",
      "22/11/11 12:48:10 WARN DAGScheduler: Broadcasting large task binary with size 20.6 MiB\n",
      "22/11/11 12:48:11 WARN DAGScheduler: Broadcasting large task binary with size 21.0 MiB\n",
      "22/11/11 12:48:18 WARN DAGScheduler: Broadcasting large task binary with size 20.4 MiB\n",
      "22/11/11 12:48:19 WARN DAGScheduler: Broadcasting large task binary with size 20.4 MiB\n",
      "22/11/11 12:48:19 WARN DAGScheduler: Broadcasting large task binary with size 20.4 MiB\n",
      "22/11/11 12:48:21 WARN DAGScheduler: Broadcasting large task binary with size 20.4 MiB\n",
      "22/11/11 12:48:22 WARN DAGScheduler: Broadcasting large task binary with size 20.4 MiB\n",
      "22/11/11 12:48:24 WARN DAGScheduler: Broadcasting large task binary with size 20.4 MiB\n",
      "22/11/11 12:48:29 WARN DAGScheduler: Broadcasting large task binary with size 20.9 MiB\n",
      "22/11/11 12:48:30 WARN DAGScheduler: Broadcasting large task binary with size 20.9 MiB\n",
      "22/11/11 12:48:30 WARN DAGScheduler: Broadcasting large task binary with size 20.9 MiB\n",
      "22/11/11 12:48:32 WARN DAGScheduler: Broadcasting large task binary with size 20.9 MiB\n",
      "22/11/11 12:48:33 WARN DAGScheduler: Broadcasting large task binary with size 20.9 MiB\n",
      "22/11/11 12:48:34 WARN DAGScheduler: Broadcasting large task binary with size 20.9 MiB\n",
      "22/11/11 12:48:43 WARN DAGScheduler: Broadcasting large task binary with size 12.9 MiB\n",
      "22/11/11 12:48:44 WARN DAGScheduler: Broadcasting large task binary with size 12.9 MiB\n",
      "22/11/11 12:48:45 WARN DAGScheduler: Broadcasting large task binary with size 12.9 MiB\n",
      "22/11/11 12:48:52 WARN DAGScheduler: Broadcasting large task binary with size 12.9 MiB\n",
      "22/11/11 12:48:53 WARN DAGScheduler: Broadcasting large task binary with size 12.9 MiB\n",
      "22/11/11 12:48:54 WARN DAGScheduler: Broadcasting large task binary with size 12.9 MiB\n",
      "                                                                                \r"
     ]
    },
    {
     "name": "stdout",
     "output_type": "stream",
     "text": [
      "Iteration 14 finished in 134.7328395843506 sec.\n"
     ]
    },
    {
     "name": "stderr",
     "output_type": "stream",
     "text": [
      "22/11/11 12:50:05 WARN DAGScheduler: Broadcasting large task binary with size 13.1 MiB\n",
      "22/11/11 12:50:05 WARN DAGScheduler: Broadcasting large task binary with size 13.1 MiB\n",
      "22/11/11 12:50:10 WARN DAGScheduler: Broadcasting large task binary with size 20.1 MiB\n",
      "22/11/11 12:50:11 WARN DAGScheduler: Broadcasting large task binary with size 20.2 MiB\n",
      "22/11/11 12:50:13 WARN DAGScheduler: Broadcasting large task binary with size 20.5 MiB\n",
      "22/11/11 12:50:21 WARN DAGScheduler: Broadcasting large task binary with size 13.6 MiB\n",
      "22/11/11 12:50:22 WARN DAGScheduler: Broadcasting large task binary with size 13.1 MiB\n",
      "22/11/11 12:50:23 WARN DAGScheduler: Broadcasting large task binary with size 13.6 MiB\n",
      "22/11/11 12:50:26 WARN DAGScheduler: Broadcasting large task binary with size 20.6 MiB\n",
      "22/11/11 12:50:27 WARN DAGScheduler: Broadcasting large task binary with size 20.6 MiB\n",
      "22/11/11 12:50:29 WARN DAGScheduler: Broadcasting large task binary with size 21.0 MiB\n",
      "22/11/11 12:50:36 WARN DAGScheduler: Broadcasting large task binary with size 20.4 MiB\n",
      "22/11/11 12:50:36 WARN DAGScheduler: Broadcasting large task binary with size 20.4 MiB\n",
      "22/11/11 12:50:37 WARN DAGScheduler: Broadcasting large task binary with size 20.4 MiB\n",
      "22/11/11 12:50:39 WARN DAGScheduler: Broadcasting large task binary with size 20.4 MiB\n",
      "22/11/11 12:50:40 WARN DAGScheduler: Broadcasting large task binary with size 20.4 MiB\n",
      "22/11/11 12:50:41 WARN DAGScheduler: Broadcasting large task binary with size 20.4 MiB\n",
      "22/11/11 12:50:47 WARN DAGScheduler: Broadcasting large task binary with size 20.9 MiB\n",
      "22/11/11 12:50:47 WARN DAGScheduler: Broadcasting large task binary with size 20.9 MiB\n",
      "22/11/11 12:50:48 WARN DAGScheduler: Broadcasting large task binary with size 20.9 MiB\n",
      "22/11/11 12:50:50 WARN DAGScheduler: Broadcasting large task binary with size 20.9 MiB\n",
      "22/11/11 12:50:51 WARN DAGScheduler: Broadcasting large task binary with size 20.9 MiB\n",
      "22/11/11 12:50:52 WARN DAGScheduler: Broadcasting large task binary with size 20.9 MiB\n",
      "22/11/11 12:51:02 WARN DAGScheduler: Broadcasting large task binary with size 12.9 MiB\n",
      "22/11/11 12:51:03 WARN DAGScheduler: Broadcasting large task binary with size 12.9 MiB\n",
      "22/11/11 12:51:04 WARN DAGScheduler: Broadcasting large task binary with size 12.9 MiB\n",
      "22/11/11 12:51:12 WARN DAGScheduler: Broadcasting large task binary with size 12.9 MiB\n",
      "22/11/11 12:51:13 WARN DAGScheduler: Broadcasting large task binary with size 12.9 MiB\n",
      "22/11/11 12:51:14 WARN DAGScheduler: Broadcasting large task binary with size 12.9 MiB\n"
     ]
    },
    {
     "name": "stdout",
     "output_type": "stream",
     "text": [
      "Iteration 15 finished in 139.82418155670166 sec.\n"
     ]
    },
    {
     "name": "stderr",
     "output_type": "stream",
     "text": [
      "22/11/11 12:52:25 WARN DAGScheduler: Broadcasting large task binary with size 13.1 MiB\n",
      "22/11/11 12:52:26 WARN DAGScheduler: Broadcasting large task binary with size 13.1 MiB\n",
      "22/11/11 12:52:31 WARN DAGScheduler: Broadcasting large task binary with size 20.1 MiB\n",
      "22/11/11 12:52:33 WARN DAGScheduler: Broadcasting large task binary with size 20.2 MiB\n",
      "22/11/11 12:52:34 WARN DAGScheduler: Broadcasting large task binary with size 20.5 MiB\n",
      "22/11/11 12:52:42 WARN DAGScheduler: Broadcasting large task binary with size 13.6 MiB\n",
      "22/11/11 12:52:43 WARN DAGScheduler: Broadcasting large task binary with size 13.1 MiB\n",
      "22/11/11 12:52:44 WARN DAGScheduler: Broadcasting large task binary with size 13.6 MiB\n",
      "22/11/11 12:52:47 WARN DAGScheduler: Broadcasting large task binary with size 20.6 MiB\n",
      "22/11/11 12:52:48 WARN DAGScheduler: Broadcasting large task binary with size 20.6 MiB\n",
      "22/11/11 12:52:50 WARN DAGScheduler: Broadcasting large task binary with size 21.0 MiB\n",
      "22/11/11 12:52:57 WARN DAGScheduler: Broadcasting large task binary with size 20.4 MiB\n",
      "22/11/11 12:52:57 WARN DAGScheduler: Broadcasting large task binary with size 20.4 MiB\n",
      "22/11/11 12:52:58 WARN DAGScheduler: Broadcasting large task binary with size 20.4 MiB\n",
      "22/11/11 12:53:00 WARN DAGScheduler: Broadcasting large task binary with size 20.4 MiB\n",
      "22/11/11 12:53:01 WARN DAGScheduler: Broadcasting large task binary with size 20.4 MiB\n",
      "22/11/11 12:53:02 WARN DAGScheduler: Broadcasting large task binary with size 20.4 MiB\n",
      "22/11/11 12:53:08 WARN DAGScheduler: Broadcasting large task binary with size 20.9 MiB\n",
      "22/11/11 12:53:09 WARN DAGScheduler: Broadcasting large task binary with size 20.9 MiB\n",
      "22/11/11 12:53:10 WARN DAGScheduler: Broadcasting large task binary with size 20.9 MiB\n",
      "22/11/11 12:53:11 WARN DAGScheduler: Broadcasting large task binary with size 20.9 MiB\n",
      "22/11/11 12:53:12 WARN DAGScheduler: Broadcasting large task binary with size 20.9 MiB\n",
      "22/11/11 12:53:14 WARN DAGScheduler: Broadcasting large task binary with size 20.9 MiB\n",
      "22/11/11 12:53:24 WARN DAGScheduler: Broadcasting large task binary with size 12.9 MiB\n",
      "22/11/11 12:53:25 WARN DAGScheduler: Broadcasting large task binary with size 12.9 MiB\n",
      "22/11/11 12:53:27 WARN DAGScheduler: Broadcasting large task binary with size 12.9 MiB\n",
      "22/11/11 12:53:34 WARN DAGScheduler: Broadcasting large task binary with size 12.9 MiB\n",
      "22/11/11 12:53:35 WARN DAGScheduler: Broadcasting large task binary with size 12.9 MiB\n",
      "22/11/11 12:53:36 WARN DAGScheduler: Broadcasting large task binary with size 12.9 MiB\n"
     ]
    },
    {
     "name": "stdout",
     "output_type": "stream",
     "text": [
      "Iteration 16 finished in 142.33988404273987 sec.\n"
     ]
    },
    {
     "name": "stderr",
     "output_type": "stream",
     "text": [
      "22/11/11 12:54:48 WARN DAGScheduler: Broadcasting large task binary with size 13.1 MiB\n",
      "22/11/11 12:54:49 WARN DAGScheduler: Broadcasting large task binary with size 13.1 MiB\n",
      "22/11/11 12:54:53 WARN DAGScheduler: Broadcasting large task binary with size 20.1 MiB\n",
      "22/11/11 12:54:55 WARN DAGScheduler: Broadcasting large task binary with size 20.2 MiB\n",
      "22/11/11 12:54:56 WARN DAGScheduler: Broadcasting large task binary with size 20.5 MiB\n",
      "22/11/11 12:55:04 WARN DAGScheduler: Broadcasting large task binary with size 13.1 MiB\n",
      "22/11/11 12:55:05 WARN DAGScheduler: Broadcasting large task binary with size 13.6 MiB\n",
      "22/11/11 12:55:06 WARN DAGScheduler: Broadcasting large task binary with size 13.6 MiB\n",
      "22/11/11 12:55:09 WARN DAGScheduler: Broadcasting large task binary with size 20.6 MiB\n",
      "22/11/11 12:55:10 WARN DAGScheduler: Broadcasting large task binary with size 20.6 MiB\n",
      "22/11/11 12:55:11 WARN DAGScheduler: Broadcasting large task binary with size 21.0 MiB\n",
      "22/11/11 12:55:18 WARN DAGScheduler: Broadcasting large task binary with size 20.4 MiB\n",
      "22/11/11 12:55:19 WARN DAGScheduler: Broadcasting large task binary with size 20.4 MiB\n",
      "22/11/11 12:55:20 WARN DAGScheduler: Broadcasting large task binary with size 20.4 MiB\n",
      "22/11/11 12:55:22 WARN DAGScheduler: Broadcasting large task binary with size 20.4 MiB\n",
      "22/11/11 12:55:23 WARN DAGScheduler: Broadcasting large task binary with size 20.4 MiB\n",
      "22/11/11 12:55:24 WARN DAGScheduler: Broadcasting large task binary with size 20.4 MiB\n",
      "22/11/11 12:55:30 WARN DAGScheduler: Broadcasting large task binary with size 20.9 MiB\n",
      "22/11/11 12:55:30 WARN DAGScheduler: Broadcasting large task binary with size 20.9 MiB\n",
      "22/11/11 12:55:31 WARN DAGScheduler: Broadcasting large task binary with size 20.9 MiB\n",
      "22/11/11 12:55:33 WARN DAGScheduler: Broadcasting large task binary with size 20.9 MiB\n",
      "22/11/11 12:55:34 WARN DAGScheduler: Broadcasting large task binary with size 20.9 MiB\n",
      "22/11/11 12:55:35 WARN DAGScheduler: Broadcasting large task binary with size 20.9 MiB\n",
      "22/11/11 12:55:45 WARN DAGScheduler: Broadcasting large task binary with size 12.9 MiB\n",
      "22/11/11 12:55:46 WARN DAGScheduler: Broadcasting large task binary with size 12.9 MiB\n",
      "22/11/11 12:55:48 WARN DAGScheduler: Broadcasting large task binary with size 12.9 MiB\n",
      "22/11/11 12:55:55 WARN DAGScheduler: Broadcasting large task binary with size 12.9 MiB\n",
      "22/11/11 12:55:56 WARN DAGScheduler: Broadcasting large task binary with size 12.9 MiB\n",
      "22/11/11 12:55:58 WARN DAGScheduler: Broadcasting large task binary with size 12.9 MiB\n",
      "                                                                                \r"
     ]
    },
    {
     "name": "stdout",
     "output_type": "stream",
     "text": [
      "Iteration 17 finished in 141.51814317703247 sec.\n"
     ]
    },
    {
     "name": "stderr",
     "output_type": "stream",
     "text": [
      "22/11/11 12:57:10 WARN DAGScheduler: Broadcasting large task binary with size 13.1 MiB\n",
      "22/11/11 12:57:10 WARN DAGScheduler: Broadcasting large task binary with size 13.1 MiB\n",
      "22/11/11 12:57:15 WARN DAGScheduler: Broadcasting large task binary with size 20.1 MiB\n",
      "22/11/11 12:57:17 WARN DAGScheduler: Broadcasting large task binary with size 20.2 MiB\n",
      "22/11/11 12:57:18 WARN DAGScheduler: Broadcasting large task binary with size 20.5 MiB\n",
      "22/11/11 12:57:26 WARN DAGScheduler: Broadcasting large task binary with size 13.1 MiB\n",
      "22/11/11 12:57:27 WARN DAGScheduler: Broadcasting large task binary with size 13.6 MiB\n",
      "22/11/11 12:57:27 WARN DAGScheduler: Broadcasting large task binary with size 13.6 MiB\n",
      "22/11/11 12:57:31 WARN DAGScheduler: Broadcasting large task binary with size 20.6 MiB\n",
      "22/11/11 12:57:32 WARN DAGScheduler: Broadcasting large task binary with size 20.6 MiB\n",
      "22/11/11 12:57:33 WARN DAGScheduler: Broadcasting large task binary with size 21.0 MiB\n",
      "22/11/11 12:57:40 WARN DAGScheduler: Broadcasting large task binary with size 20.4 MiB\n",
      "22/11/11 12:57:41 WARN DAGScheduler: Broadcasting large task binary with size 20.4 MiB\n",
      "22/11/11 12:57:42 WARN DAGScheduler: Broadcasting large task binary with size 20.4 MiB\n",
      "22/11/11 12:57:43 WARN DAGScheduler: Broadcasting large task binary with size 20.4 MiB\n",
      "22/11/11 12:57:45 WARN DAGScheduler: Broadcasting large task binary with size 20.4 MiB\n",
      "22/11/11 12:57:46 WARN DAGScheduler: Broadcasting large task binary with size 20.4 MiB\n",
      "22/11/11 12:57:51 WARN DAGScheduler: Broadcasting large task binary with size 20.9 MiB\n",
      "22/11/11 12:57:52 WARN DAGScheduler: Broadcasting large task binary with size 20.9 MiB\n",
      "22/11/11 12:57:53 WARN DAGScheduler: Broadcasting large task binary with size 20.9 MiB\n",
      "22/11/11 12:57:54 WARN DAGScheduler: Broadcasting large task binary with size 20.9 MiB\n",
      "22/11/11 12:57:55 WARN DAGScheduler: Broadcasting large task binary with size 20.9 MiB\n",
      "22/11/11 12:57:57 WARN DAGScheduler: Broadcasting large task binary with size 20.9 MiB\n",
      "22/11/11 12:58:07 WARN DAGScheduler: Broadcasting large task binary with size 12.9 MiB\n",
      "22/11/11 12:58:09 WARN DAGScheduler: Broadcasting large task binary with size 12.9 MiB\n",
      "22/11/11 12:58:10 WARN DAGScheduler: Broadcasting large task binary with size 12.9 MiB\n",
      "22/11/11 12:58:17 WARN DAGScheduler: Broadcasting large task binary with size 12.9 MiB\n",
      "22/11/11 12:58:19 WARN DAGScheduler: Broadcasting large task binary with size 12.9 MiB\n",
      "22/11/11 12:58:20 WARN DAGScheduler: Broadcasting large task binary with size 12.9 MiB\n",
      "                                                                                \r"
     ]
    },
    {
     "name": "stdout",
     "output_type": "stream",
     "text": [
      "Iteration 18 finished in 142.16049456596375 sec.\n"
     ]
    },
    {
     "name": "stderr",
     "output_type": "stream",
     "text": [
      "22/11/11 12:59:26 WARN DAGScheduler: Broadcasting large task binary with size 13.1 MiB\n",
      "22/11/11 12:59:27 WARN DAGScheduler: Broadcasting large task binary with size 13.1 MiB\n",
      "22/11/11 12:59:31 WARN DAGScheduler: Broadcasting large task binary with size 20.1 MiB\n",
      "22/11/11 12:59:32 WARN DAGScheduler: Broadcasting large task binary with size 20.2 MiB\n",
      "22/11/11 12:59:34 WARN DAGScheduler: Broadcasting large task binary with size 20.6 MiB\n",
      "22/11/11 12:59:43 WARN DAGScheduler: Broadcasting large task binary with size 13.1 MiB\n",
      "22/11/11 12:59:43 WARN DAGScheduler: Broadcasting large task binary with size 13.6 MiB\n",
      "22/11/11 12:59:44 WARN DAGScheduler: Broadcasting large task binary with size 13.6 MiB\n",
      "22/11/11 12:59:47 WARN DAGScheduler: Broadcasting large task binary with size 20.6 MiB\n",
      "22/11/11 12:59:48 WARN DAGScheduler: Broadcasting large task binary with size 20.6 MiB\n",
      "22/11/11 12:59:50 WARN DAGScheduler: Broadcasting large task binary with size 21.0 MiB\n",
      "22/11/11 12:59:57 WARN DAGScheduler: Broadcasting large task binary with size 20.4 MiB\n",
      "22/11/11 12:59:58 WARN DAGScheduler: Broadcasting large task binary with size 20.4 MiB\n",
      "22/11/11 12:59:58 WARN DAGScheduler: Broadcasting large task binary with size 20.4 MiB\n",
      "22/11/11 13:00:00 WARN DAGScheduler: Broadcasting large task binary with size 20.4 MiB\n",
      "22/11/11 13:00:01 WARN DAGScheduler: Broadcasting large task binary with size 20.4 MiB\n",
      "22/11/11 13:00:03 WARN DAGScheduler: Broadcasting large task binary with size 20.4 MiB\n",
      "22/11/11 13:00:08 WARN DAGScheduler: Broadcasting large task binary with size 20.9 MiB\n",
      "22/11/11 13:00:09 WARN DAGScheduler: Broadcasting large task binary with size 20.9 MiB\n",
      "22/11/11 13:00:09 WARN DAGScheduler: Broadcasting large task binary with size 20.9 MiB\n",
      "22/11/11 13:00:10 WARN DAGScheduler: Broadcasting large task binary with size 20.9 MiB\n",
      "22/11/11 13:00:12 WARN DAGScheduler: Broadcasting large task binary with size 20.9 MiB\n",
      "22/11/11 13:00:13 WARN DAGScheduler: Broadcasting large task binary with size 20.9 MiB\n",
      "22/11/11 13:00:23 WARN DAGScheduler: Broadcasting large task binary with size 12.9 MiB\n",
      "22/11/11 13:00:25 WARN DAGScheduler: Broadcasting large task binary with size 12.9 MiB\n",
      "22/11/11 13:00:26 WARN DAGScheduler: Broadcasting large task binary with size 12.9 MiB\n",
      "22/11/11 13:00:34 WARN DAGScheduler: Broadcasting large task binary with size 12.9 MiB\n",
      "22/11/11 13:00:35 WARN DAGScheduler: Broadcasting large task binary with size 12.9 MiB\n",
      "22/11/11 13:00:36 WARN DAGScheduler: Broadcasting large task binary with size 12.9 MiB\n",
      "                                                                                \r"
     ]
    },
    {
     "name": "stdout",
     "output_type": "stream",
     "text": [
      "Iteration 19 finished in 136.56179332733154 sec.\n"
     ]
    },
    {
     "name": "stderr",
     "output_type": "stream",
     "text": [
      "22/11/11 13:01:49 WARN DAGScheduler: Broadcasting large task binary with size 13.1 MiB\n",
      "22/11/11 13:01:50 WARN DAGScheduler: Broadcasting large task binary with size 13.1 MiB\n",
      "22/11/11 13:01:54 WARN DAGScheduler: Broadcasting large task binary with size 20.1 MiB\n",
      "22/11/11 13:01:56 WARN DAGScheduler: Broadcasting large task binary with size 20.2 MiB\n",
      "22/11/11 13:01:58 WARN DAGScheduler: Broadcasting large task binary with size 20.5 MiB\n",
      "22/11/11 13:02:06 WARN DAGScheduler: Broadcasting large task binary with size 13.6 MiB\n",
      "22/11/11 13:02:06 WARN DAGScheduler: Broadcasting large task binary with size 13.1 MiB\n",
      "22/11/11 13:02:07 WARN DAGScheduler: Broadcasting large task binary with size 13.6 MiB\n",
      "22/11/11 13:02:10 WARN DAGScheduler: Broadcasting large task binary with size 20.6 MiB\n",
      "22/11/11 13:02:11 WARN DAGScheduler: Broadcasting large task binary with size 20.6 MiB\n",
      "22/11/11 13:02:13 WARN DAGScheduler: Broadcasting large task binary with size 21.0 MiB\n",
      "22/11/11 13:02:20 WARN DAGScheduler: Broadcasting large task binary with size 20.4 MiB\n",
      "22/11/11 13:02:21 WARN DAGScheduler: Broadcasting large task binary with size 20.4 MiB\n",
      "22/11/11 13:02:22 WARN DAGScheduler: Broadcasting large task binary with size 20.4 MiB\n",
      "22/11/11 13:02:23 WARN DAGScheduler: Broadcasting large task binary with size 20.4 MiB\n",
      "22/11/11 13:02:24 WARN DAGScheduler: Broadcasting large task binary with size 20.4 MiB\n",
      "22/11/11 13:02:26 WARN DAGScheduler: Broadcasting large task binary with size 20.4 MiB\n",
      "22/11/11 13:02:31 WARN DAGScheduler: Broadcasting large task binary with size 20.9 MiB\n",
      "22/11/11 13:02:32 WARN DAGScheduler: Broadcasting large task binary with size 20.9 MiB\n",
      "22/11/11 13:02:33 WARN DAGScheduler: Broadcasting large task binary with size 20.9 MiB\n",
      "22/11/11 13:02:34 WARN DAGScheduler: Broadcasting large task binary with size 20.9 MiB\n",
      "22/11/11 13:02:36 WARN DAGScheduler: Broadcasting large task binary with size 20.9 MiB\n",
      "22/11/11 13:02:37 WARN DAGScheduler: Broadcasting large task binary with size 20.9 MiB\n",
      "22/11/11 13:02:47 WARN DAGScheduler: Broadcasting large task binary with size 12.9 MiB\n",
      "22/11/11 13:02:49 WARN DAGScheduler: Broadcasting large task binary with size 12.9 MiB\n",
      "22/11/11 13:02:50 WARN DAGScheduler: Broadcasting large task binary with size 12.9 MiB\n",
      "22/11/11 13:02:58 WARN DAGScheduler: Broadcasting large task binary with size 12.9 MiB\n",
      "22/11/11 13:02:59 WARN DAGScheduler: Broadcasting large task binary with size 12.9 MiB\n",
      "22/11/11 13:03:00 WARN DAGScheduler: Broadcasting large task binary with size 12.9 MiB\n",
      "                                                                                \r"
     ]
    },
    {
     "name": "stdout",
     "output_type": "stream",
     "text": [
      "Iteration 20 finished in 143.43372774124146 sec.\n"
     ]
    },
    {
     "name": "stderr",
     "output_type": "stream",
     "text": [
      "22/11/11 13:04:29 WARN DAGScheduler: Broadcasting large task binary with size 13.1 MiB\n",
      "22/11/11 13:04:29 WARN DAGScheduler: Broadcasting large task binary with size 13.1 MiB\n",
      "22/11/11 13:04:34 WARN DAGScheduler: Broadcasting large task binary with size 20.1 MiB\n",
      "22/11/11 13:04:36 WARN DAGScheduler: Broadcasting large task binary with size 20.2 MiB\n",
      "22/11/11 13:04:38 WARN DAGScheduler: Broadcasting large task binary with size 20.5 MiB\n",
      "22/11/11 13:04:49 WARN DAGScheduler: Broadcasting large task binary with size 13.1 MiB\n",
      "22/11/11 13:04:50 WARN DAGScheduler: Broadcasting large task binary with size 13.6 MiB\n",
      "22/11/11 13:04:51 WARN DAGScheduler: Broadcasting large task binary with size 13.6 MiB\n",
      "22/11/11 13:04:55 WARN DAGScheduler: Broadcasting large task binary with size 20.6 MiB\n",
      "22/11/11 13:04:57 WARN DAGScheduler: Broadcasting large task binary with size 20.6 MiB\n",
      "22/11/11 13:04:58 WARN DAGScheduler: Broadcasting large task binary with size 21.0 MiB\n",
      "22/11/11 13:05:08 WARN DAGScheduler: Broadcasting large task binary with size 20.4 MiB\n",
      "22/11/11 13:05:09 WARN DAGScheduler: Broadcasting large task binary with size 20.4 MiB\n",
      "22/11/11 13:05:09 WARN DAGScheduler: Broadcasting large task binary with size 20.4 MiB\n",
      "22/11/11 13:05:11 WARN DAGScheduler: Broadcasting large task binary with size 20.4 MiB\n",
      "22/11/11 13:05:13 WARN DAGScheduler: Broadcasting large task binary with size 20.4 MiB\n",
      "22/11/11 13:05:14 WARN DAGScheduler: Broadcasting large task binary with size 20.4 MiB\n",
      "22/11/11 13:05:20 WARN DAGScheduler: Broadcasting large task binary with size 20.9 MiB\n",
      "22/11/11 13:05:21 WARN DAGScheduler: Broadcasting large task binary with size 20.9 MiB\n",
      "22/11/11 13:05:21 WARN DAGScheduler: Broadcasting large task binary with size 20.9 MiB\n",
      "22/11/11 13:05:23 WARN DAGScheduler: Broadcasting large task binary with size 20.9 MiB\n",
      "22/11/11 13:05:24 WARN DAGScheduler: Broadcasting large task binary with size 20.9 MiB\n",
      "22/11/11 13:05:26 WARN DAGScheduler: Broadcasting large task binary with size 20.9 MiB\n",
      "22/11/11 13:05:39 WARN DAGScheduler: Broadcasting large task binary with size 12.9 MiB\n",
      "22/11/11 13:05:41 WARN DAGScheduler: Broadcasting large task binary with size 12.9 MiB\n",
      "22/11/11 13:05:42 WARN DAGScheduler: Broadcasting large task binary with size 12.9 MiB\n",
      "22/11/11 13:05:51 WARN DAGScheduler: Broadcasting large task binary with size 12.9 MiB\n",
      "22/11/11 13:05:52 WARN DAGScheduler: Broadcasting large task binary with size 12.9 MiB\n",
      "22/11/11 13:05:53 WARN DAGScheduler: Broadcasting large task binary with size 12.9 MiB\n",
      "                                                                                \r"
     ]
    },
    {
     "name": "stdout",
     "output_type": "stream",
     "text": [
      "Iteration 21 finished in 172.82772517204285 sec.\n"
     ]
    },
    {
     "name": "stderr",
     "output_type": "stream",
     "text": [
      "22/11/11 13:07:01 WARN DAGScheduler: Broadcasting large task binary with size 13.1 MiB\n",
      "22/11/11 13:07:01 WARN DAGScheduler: Broadcasting large task binary with size 13.1 MiB\n",
      "22/11/11 13:07:06 WARN DAGScheduler: Broadcasting large task binary with size 20.1 MiB\n",
      "22/11/11 13:07:08 WARN DAGScheduler: Broadcasting large task binary with size 20.2 MiB\n",
      "22/11/11 13:07:09 WARN DAGScheduler: Broadcasting large task binary with size 20.6 MiB\n",
      "22/11/11 13:07:17 WARN DAGScheduler: Broadcasting large task binary with size 13.6 MiB\n",
      "22/11/11 13:07:17 WARN DAGScheduler: Broadcasting large task binary with size 13.1 MiB\n",
      "22/11/11 13:07:18 WARN DAGScheduler: Broadcasting large task binary with size 13.6 MiB\n",
      "22/11/11 13:07:21 WARN DAGScheduler: Broadcasting large task binary with size 20.6 MiB\n",
      "22/11/11 13:07:23 WARN DAGScheduler: Broadcasting large task binary with size 20.6 MiB\n",
      "22/11/11 13:07:25 WARN DAGScheduler: Broadcasting large task binary with size 21.0 MiB\n",
      "22/11/11 13:07:31 WARN DAGScheduler: Broadcasting large task binary with size 20.4 MiB\n",
      "22/11/11 13:07:32 WARN DAGScheduler: Broadcasting large task binary with size 20.4 MiB\n",
      "22/11/11 13:07:33 WARN DAGScheduler: Broadcasting large task binary with size 20.4 MiB\n",
      "22/11/11 13:07:35 WARN DAGScheduler: Broadcasting large task binary with size 20.4 MiB\n",
      "22/11/11 13:07:36 WARN DAGScheduler: Broadcasting large task binary with size 20.4 MiB\n",
      "22/11/11 13:07:37 WARN DAGScheduler: Broadcasting large task binary with size 20.4 MiB\n",
      "22/11/11 13:07:43 WARN DAGScheduler: Broadcasting large task binary with size 20.9 MiB\n",
      "22/11/11 13:07:43 WARN DAGScheduler: Broadcasting large task binary with size 20.9 MiB\n",
      "22/11/11 13:07:45 WARN DAGScheduler: Broadcasting large task binary with size 20.9 MiB\n",
      "22/11/11 13:07:46 WARN DAGScheduler: Broadcasting large task binary with size 20.9 MiB\n",
      "22/11/11 13:07:47 WARN DAGScheduler: Broadcasting large task binary with size 20.9 MiB\n",
      "22/11/11 13:07:48 WARN DAGScheduler: Broadcasting large task binary with size 20.9 MiB\n",
      "22/11/11 13:08:00 WARN DAGScheduler: Broadcasting large task binary with size 12.9 MiB\n",
      "22/11/11 13:08:02 WARN DAGScheduler: Broadcasting large task binary with size 12.9 MiB\n",
      "22/11/11 13:08:03 WARN DAGScheduler: Broadcasting large task binary with size 12.9 MiB\n",
      "22/11/11 13:08:11 WARN DAGScheduler: Broadcasting large task binary with size 12.9 MiB\n",
      "22/11/11 13:08:12 WARN DAGScheduler: Broadcasting large task binary with size 12.9 MiB\n",
      "22/11/11 13:08:14 WARN DAGScheduler: Broadcasting large task binary with size 12.9 MiB\n",
      "                                                                                \r"
     ]
    },
    {
     "name": "stdout",
     "output_type": "stream",
     "text": [
      "Iteration 22 finished in 140.89141988754272 sec.\n"
     ]
    },
    {
     "name": "stderr",
     "output_type": "stream",
     "text": [
      "22/11/11 13:09:23 WARN DAGScheduler: Broadcasting large task binary with size 13.1 MiB\n",
      "22/11/11 13:09:24 WARN DAGScheduler: Broadcasting large task binary with size 13.1 MiB\n",
      "22/11/11 13:09:28 WARN DAGScheduler: Broadcasting large task binary with size 20.1 MiB\n",
      "22/11/11 13:09:30 WARN DAGScheduler: Broadcasting large task binary with size 20.2 MiB\n",
      "22/11/11 13:09:32 WARN DAGScheduler: Broadcasting large task binary with size 20.5 MiB\n",
      "22/11/11 13:09:40 WARN DAGScheduler: Broadcasting large task binary with size 13.6 MiB\n",
      "22/11/11 13:09:41 WARN DAGScheduler: Broadcasting large task binary with size 13.1 MiB\n",
      "22/11/11 13:09:42 WARN DAGScheduler: Broadcasting large task binary with size 13.6 MiB\n",
      "22/11/11 13:09:45 WARN DAGScheduler: Broadcasting large task binary with size 20.6 MiB\n",
      "22/11/11 13:09:46 WARN DAGScheduler: Broadcasting large task binary with size 20.6 MiB\n",
      "22/11/11 13:09:48 WARN DAGScheduler: Broadcasting large task binary with size 21.0 MiB\n",
      "22/11/11 13:09:55 WARN DAGScheduler: Broadcasting large task binary with size 20.4 MiB\n",
      "22/11/11 13:09:56 WARN DAGScheduler: Broadcasting large task binary with size 20.4 MiB\n",
      "22/11/11 13:09:56 WARN DAGScheduler: Broadcasting large task binary with size 20.4 MiB\n",
      "22/11/11 13:09:58 WARN DAGScheduler: Broadcasting large task binary with size 20.4 MiB\n",
      "22/11/11 13:09:59 WARN DAGScheduler: Broadcasting large task binary with size 20.4 MiB\n",
      "22/11/11 13:10:00 WARN DAGScheduler: Broadcasting large task binary with size 20.4 MiB\n",
      "22/11/11 13:10:06 WARN DAGScheduler: Broadcasting large task binary with size 20.9 MiB\n",
      "22/11/11 13:10:07 WARN DAGScheduler: Broadcasting large task binary with size 20.9 MiB\n",
      "22/11/11 13:10:08 WARN DAGScheduler: Broadcasting large task binary with size 20.9 MiB\n",
      "22/11/11 13:10:09 WARN DAGScheduler: Broadcasting large task binary with size 20.9 MiB\n",
      "22/11/11 13:10:10 WARN DAGScheduler: Broadcasting large task binary with size 20.9 MiB\n",
      "22/11/11 13:10:12 WARN DAGScheduler: Broadcasting large task binary with size 20.9 MiB\n",
      "22/11/11 13:10:23 WARN DAGScheduler: Broadcasting large task binary with size 12.9 MiB\n",
      "22/11/11 13:10:25 WARN DAGScheduler: Broadcasting large task binary with size 12.9 MiB\n",
      "22/11/11 13:10:26 WARN DAGScheduler: Broadcasting large task binary with size 12.9 MiB\n",
      "22/11/11 13:10:34 WARN DAGScheduler: Broadcasting large task binary with size 12.9 MiB\n",
      "22/11/11 13:10:35 WARN DAGScheduler: Broadcasting large task binary with size 12.9 MiB\n",
      "22/11/11 13:10:37 WARN DAGScheduler: Broadcasting large task binary with size 12.9 MiB\n",
      "                                                                                \r"
     ]
    },
    {
     "name": "stdout",
     "output_type": "stream",
     "text": [
      "Iteration 23 finished in 142.91205835342407 sec.\n"
     ]
    },
    {
     "name": "stderr",
     "output_type": "stream",
     "text": [
      "22/11/11 13:11:53 WARN DAGScheduler: Broadcasting large task binary with size 13.1 MiB\n",
      "22/11/11 13:11:53 WARN DAGScheduler: Broadcasting large task binary with size 13.1 MiB\n",
      "22/11/11 13:11:58 WARN DAGScheduler: Broadcasting large task binary with size 20.1 MiB\n",
      "22/11/11 13:12:00 WARN DAGScheduler: Broadcasting large task binary with size 20.2 MiB\n",
      "22/11/11 13:12:01 WARN DAGScheduler: Broadcasting large task binary with size 20.5 MiB\n",
      "22/11/11 13:12:10 WARN DAGScheduler: Broadcasting large task binary with size 13.1 MiB\n",
      "22/11/11 13:12:10 WARN DAGScheduler: Broadcasting large task binary with size 13.6 MiB\n",
      "22/11/11 13:12:11 WARN DAGScheduler: Broadcasting large task binary with size 13.6 MiB\n",
      "22/11/11 13:12:14 WARN DAGScheduler: Broadcasting large task binary with size 20.6 MiB\n",
      "22/11/11 13:12:16 WARN DAGScheduler: Broadcasting large task binary with size 20.6 MiB\n",
      "22/11/11 13:12:17 WARN DAGScheduler: Broadcasting large task binary with size 21.0 MiB\n",
      "22/11/11 13:12:24 WARN DAGScheduler: Broadcasting large task binary with size 20.4 MiB\n",
      "22/11/11 13:12:25 WARN DAGScheduler: Broadcasting large task binary with size 20.4 MiB\n",
      "22/11/11 13:12:26 WARN DAGScheduler: Broadcasting large task binary with size 20.4 MiB\n",
      "22/11/11 13:12:27 WARN DAGScheduler: Broadcasting large task binary with size 20.4 MiB\n",
      "22/11/11 13:12:29 WARN DAGScheduler: Broadcasting large task binary with size 20.4 MiB\n",
      "22/11/11 13:12:30 WARN DAGScheduler: Broadcasting large task binary with size 20.4 MiB\n",
      "22/11/11 13:12:36 WARN DAGScheduler: Broadcasting large task binary with size 20.9 MiB\n",
      "22/11/11 13:12:36 WARN DAGScheduler: Broadcasting large task binary with size 20.9 MiB\n",
      "22/11/11 13:12:37 WARN DAGScheduler: Broadcasting large task binary with size 20.9 MiB\n",
      "22/11/11 13:12:39 WARN DAGScheduler: Broadcasting large task binary with size 20.9 MiB\n",
      "22/11/11 13:12:40 WARN DAGScheduler: Broadcasting large task binary with size 20.9 MiB\n",
      "22/11/11 13:12:41 WARN DAGScheduler: Broadcasting large task binary with size 20.9 MiB\n",
      "22/11/11 13:12:54 WARN DAGScheduler: Broadcasting large task binary with size 12.9 MiB\n",
      "22/11/11 13:12:56 WARN DAGScheduler: Broadcasting large task binary with size 12.9 MiB\n",
      "22/11/11 13:12:57 WARN DAGScheduler: Broadcasting large task binary with size 12.9 MiB\n",
      "22/11/11 13:13:05 WARN DAGScheduler: Broadcasting large task binary with size 12.9 MiB\n",
      "22/11/11 13:13:06 WARN DAGScheduler: Broadcasting large task binary with size 12.9 MiB\n",
      "22/11/11 13:13:08 WARN DAGScheduler: Broadcasting large task binary with size 12.9 MiB\n",
      "                                                                                \r"
     ]
    },
    {
     "name": "stdout",
     "output_type": "stream",
     "text": [
      "Iteration 24 finished in 151.09209871292114 sec.\n"
     ]
    },
    {
     "name": "stderr",
     "output_type": "stream",
     "text": [
      "22/11/11 13:14:24 WARN DAGScheduler: Broadcasting large task binary with size 13.1 MiB\n",
      "22/11/11 13:14:25 WARN DAGScheduler: Broadcasting large task binary with size 13.1 MiB\n",
      "22/11/11 13:14:29 WARN DAGScheduler: Broadcasting large task binary with size 20.1 MiB\n",
      "22/11/11 13:14:30 WARN DAGScheduler: Broadcasting large task binary with size 20.2 MiB\n",
      "22/11/11 13:14:32 WARN DAGScheduler: Broadcasting large task binary with size 20.5 MiB\n",
      "22/11/11 13:14:41 WARN DAGScheduler: Broadcasting large task binary with size 13.1 MiB\n",
      "22/11/11 13:14:41 WARN DAGScheduler: Broadcasting large task binary with size 13.6 MiB\n",
      "22/11/11 13:14:42 WARN DAGScheduler: Broadcasting large task binary with size 13.6 MiB\n",
      "22/11/11 13:14:46 WARN DAGScheduler: Broadcasting large task binary with size 20.6 MiB\n",
      "22/11/11 13:14:47 WARN DAGScheduler: Broadcasting large task binary with size 20.6 MiB\n",
      "22/11/11 13:14:49 WARN DAGScheduler: Broadcasting large task binary with size 21.0 MiB\n",
      "22/11/11 13:14:56 WARN DAGScheduler: Broadcasting large task binary with size 20.4 MiB\n",
      "22/11/11 13:14:57 WARN DAGScheduler: Broadcasting large task binary with size 20.4 MiB\n",
      "22/11/11 13:14:57 WARN DAGScheduler: Broadcasting large task binary with size 20.4 MiB\n",
      "22/11/11 13:14:59 WARN DAGScheduler: Broadcasting large task binary with size 20.4 MiB\n",
      "22/11/11 13:15:00 WARN DAGScheduler: Broadcasting large task binary with size 20.4 MiB\n",
      "22/11/11 13:15:01 WARN DAGScheduler: Broadcasting large task binary with size 20.4 MiB\n",
      "22/11/11 13:15:07 WARN DAGScheduler: Broadcasting large task binary with size 20.9 MiB\n",
      "22/11/11 13:15:08 WARN DAGScheduler: Broadcasting large task binary with size 20.9 MiB\n",
      "22/11/11 13:15:09 WARN DAGScheduler: Broadcasting large task binary with size 20.9 MiB\n",
      "22/11/11 13:15:10 WARN DAGScheduler: Broadcasting large task binary with size 20.9 MiB\n",
      "22/11/11 13:15:11 WARN DAGScheduler: Broadcasting large task binary with size 20.9 MiB\n",
      "22/11/11 13:15:13 WARN DAGScheduler: Broadcasting large task binary with size 20.9 MiB\n",
      "22/11/11 13:15:24 WARN DAGScheduler: Broadcasting large task binary with size 12.9 MiB\n",
      "22/11/11 13:15:26 WARN DAGScheduler: Broadcasting large task binary with size 12.9 MiB\n",
      "22/11/11 13:15:27 WARN DAGScheduler: Broadcasting large task binary with size 12.9 MiB\n",
      "22/11/11 13:15:35 WARN DAGScheduler: Broadcasting large task binary with size 12.9 MiB\n",
      "22/11/11 13:15:36 WARN DAGScheduler: Broadcasting large task binary with size 12.9 MiB\n",
      "22/11/11 13:15:38 WARN DAGScheduler: Broadcasting large task binary with size 12.9 MiB\n",
      "                                                                                \r"
     ]
    },
    {
     "name": "stdout",
     "output_type": "stream",
     "text": [
      "Iteration 25 finished in 150.28691840171814 sec.\n"
     ]
    },
    {
     "name": "stderr",
     "output_type": "stream",
     "text": [
      "22/11/11 13:17:01 WARN DAGScheduler: Broadcasting large task binary with size 13.1 MiB\n",
      "22/11/11 13:17:02 WARN DAGScheduler: Broadcasting large task binary with size 13.1 MiB\n",
      "22/11/11 13:17:06 WARN DAGScheduler: Broadcasting large task binary with size 20.1 MiB\n",
      "22/11/11 13:17:08 WARN DAGScheduler: Broadcasting large task binary with size 20.2 MiB\n",
      "22/11/11 13:17:09 WARN DAGScheduler: Broadcasting large task binary with size 20.5 MiB\n",
      "22/11/11 13:17:18 WARN DAGScheduler: Broadcasting large task binary with size 13.6 MiB\n",
      "22/11/11 13:17:18 WARN DAGScheduler: Broadcasting large task binary with size 13.1 MiB\n",
      "22/11/11 13:17:19 WARN DAGScheduler: Broadcasting large task binary with size 13.6 MiB\n",
      "22/11/11 13:17:23 WARN DAGScheduler: Broadcasting large task binary with size 20.6 MiB\n",
      "22/11/11 13:17:24 WARN DAGScheduler: Broadcasting large task binary with size 20.6 MiB\n",
      "22/11/11 13:17:25 WARN DAGScheduler: Broadcasting large task binary with size 21.0 MiB\n",
      "22/11/11 13:17:32 WARN DAGScheduler: Broadcasting large task binary with size 20.4 MiB\n",
      "22/11/11 13:17:33 WARN DAGScheduler: Broadcasting large task binary with size 20.4 MiB\n",
      "22/11/11 13:17:34 WARN DAGScheduler: Broadcasting large task binary with size 20.4 MiB\n",
      "22/11/11 13:17:36 WARN DAGScheduler: Broadcasting large task binary with size 20.4 MiB\n",
      "22/11/11 13:17:37 WARN DAGScheduler: Broadcasting large task binary with size 20.4 MiB\n",
      "22/11/11 13:17:39 WARN DAGScheduler: Broadcasting large task binary with size 20.4 MiB\n",
      "22/11/11 13:17:44 WARN DAGScheduler: Broadcasting large task binary with size 20.9 MiB\n",
      "22/11/11 13:17:45 WARN DAGScheduler: Broadcasting large task binary with size 20.9 MiB\n",
      "22/11/11 13:17:45 WARN DAGScheduler: Broadcasting large task binary with size 20.9 MiB\n",
      "22/11/11 13:17:46 WARN DAGScheduler: Broadcasting large task binary with size 20.9 MiB\n",
      "22/11/11 13:17:48 WARN DAGScheduler: Broadcasting large task binary with size 20.9 MiB\n",
      "22/11/11 13:17:49 WARN DAGScheduler: Broadcasting large task binary with size 20.9 MiB\n",
      "22/11/11 13:18:02 WARN DAGScheduler: Broadcasting large task binary with size 12.9 MiB\n",
      "22/11/11 13:18:03 WARN DAGScheduler: Broadcasting large task binary with size 12.9 MiB\n",
      "22/11/11 13:18:05 WARN DAGScheduler: Broadcasting large task binary with size 12.9 MiB\n",
      "22/11/11 13:18:13 WARN DAGScheduler: Broadcasting large task binary with size 12.9 MiB\n",
      "22/11/11 13:18:14 WARN DAGScheduler: Broadcasting large task binary with size 12.9 MiB\n",
      "22/11/11 13:18:15 WARN DAGScheduler: Broadcasting large task binary with size 12.9 MiB\n",
      "                                                                                \r"
     ]
    },
    {
     "name": "stdout",
     "output_type": "stream",
     "text": [
      "Iteration 26 finished in 157.14746475219727 sec.\n"
     ]
    },
    {
     "name": "stderr",
     "output_type": "stream",
     "text": [
      "22/11/11 13:19:24 WARN DAGScheduler: Broadcasting large task binary with size 13.1 MiB\n",
      "22/11/11 13:19:25 WARN DAGScheduler: Broadcasting large task binary with size 13.1 MiB\n",
      "22/11/11 13:19:29 WARN DAGScheduler: Broadcasting large task binary with size 20.1 MiB\n",
      "22/11/11 13:19:31 WARN DAGScheduler: Broadcasting large task binary with size 20.2 MiB\n",
      "22/11/11 13:19:33 WARN DAGScheduler: Broadcasting large task binary with size 20.5 MiB\n",
      "22/11/11 13:19:41 WARN DAGScheduler: Broadcasting large task binary with size 13.6 MiB\n",
      "22/11/11 13:19:41 WARN DAGScheduler: Broadcasting large task binary with size 13.1 MiB\n",
      "22/11/11 13:19:42 WARN DAGScheduler: Broadcasting large task binary with size 13.6 MiB\n",
      "22/11/11 13:19:46 WARN DAGScheduler: Broadcasting large task binary with size 20.6 MiB\n",
      "22/11/11 13:19:47 WARN DAGScheduler: Broadcasting large task binary with size 20.6 MiB\n",
      "22/11/11 13:19:49 WARN DAGScheduler: Broadcasting large task binary with size 21.0 MiB\n",
      "22/11/11 13:19:56 WARN DAGScheduler: Broadcasting large task binary with size 20.4 MiB\n",
      "22/11/11 13:19:56 WARN DAGScheduler: Broadcasting large task binary with size 20.4 MiB\n",
      "22/11/11 13:19:57 WARN DAGScheduler: Broadcasting large task binary with size 20.4 MiB\n",
      "22/11/11 13:19:59 WARN DAGScheduler: Broadcasting large task binary with size 20.4 MiB\n",
      "22/11/11 13:20:00 WARN DAGScheduler: Broadcasting large task binary with size 20.4 MiB\n",
      "22/11/11 13:20:01 WARN DAGScheduler: Broadcasting large task binary with size 20.4 MiB\n",
      "22/11/11 13:20:07 WARN DAGScheduler: Broadcasting large task binary with size 20.9 MiB\n",
      "22/11/11 13:20:08 WARN DAGScheduler: Broadcasting large task binary with size 20.9 MiB\n",
      "22/11/11 13:20:09 WARN DAGScheduler: Broadcasting large task binary with size 20.9 MiB\n",
      "22/11/11 13:20:10 WARN DAGScheduler: Broadcasting large task binary with size 20.9 MiB\n",
      "22/11/11 13:20:12 WARN DAGScheduler: Broadcasting large task binary with size 20.9 MiB\n",
      "22/11/11 13:20:13 WARN DAGScheduler: Broadcasting large task binary with size 20.9 MiB\n",
      "22/11/11 13:20:27 WARN DAGScheduler: Broadcasting large task binary with size 12.9 MiB\n",
      "22/11/11 13:20:29 WARN DAGScheduler: Broadcasting large task binary with size 12.9 MiB\n",
      "22/11/11 13:20:30 WARN DAGScheduler: Broadcasting large task binary with size 12.9 MiB\n",
      "22/11/11 13:20:39 WARN DAGScheduler: Broadcasting large task binary with size 12.9 MiB\n",
      "22/11/11 13:20:40 WARN DAGScheduler: Broadcasting large task binary with size 12.9 MiB\n",
      "22/11/11 13:20:41 WARN DAGScheduler: Broadcasting large task binary with size 12.9 MiB\n"
     ]
    },
    {
     "name": "stdout",
     "output_type": "stream",
     "text": [
      "Iteration 27 finished in 145.9503893852234 sec.\n"
     ]
    },
    {
     "name": "stderr",
     "output_type": "stream",
     "text": [
      "22/11/11 13:21:52 WARN DAGScheduler: Broadcasting large task binary with size 13.1 MiB\n",
      "22/11/11 13:21:52 WARN DAGScheduler: Broadcasting large task binary with size 13.1 MiB\n",
      "22/11/11 13:21:57 WARN DAGScheduler: Broadcasting large task binary with size 20.1 MiB\n",
      "22/11/11 13:21:58 WARN DAGScheduler: Broadcasting large task binary with size 20.2 MiB\n",
      "22/11/11 13:22:00 WARN DAGScheduler: Broadcasting large task binary with size 20.5 MiB\n",
      "22/11/11 13:22:08 WARN DAGScheduler: Broadcasting large task binary with size 13.6 MiB\n",
      "22/11/11 13:22:08 WARN DAGScheduler: Broadcasting large task binary with size 13.1 MiB\n",
      "22/11/11 13:22:09 WARN DAGScheduler: Broadcasting large task binary with size 13.6 MiB\n",
      "22/11/11 13:22:12 WARN DAGScheduler: Broadcasting large task binary with size 20.6 MiB\n",
      "22/11/11 13:22:13 WARN DAGScheduler: Broadcasting large task binary with size 20.6 MiB\n",
      "22/11/11 13:22:15 WARN DAGScheduler: Broadcasting large task binary with size 21.0 MiB\n",
      "22/11/11 13:22:21 WARN DAGScheduler: Broadcasting large task binary with size 20.4 MiB\n",
      "22/11/11 13:22:22 WARN DAGScheduler: Broadcasting large task binary with size 20.4 MiB\n",
      "22/11/11 13:22:23 WARN DAGScheduler: Broadcasting large task binary with size 20.4 MiB\n",
      "22/11/11 13:22:25 WARN DAGScheduler: Broadcasting large task binary with size 20.4 MiB\n",
      "22/11/11 13:22:26 WARN DAGScheduler: Broadcasting large task binary with size 20.4 MiB\n",
      "22/11/11 13:22:27 WARN DAGScheduler: Broadcasting large task binary with size 20.4 MiB\n",
      "22/11/11 13:22:33 WARN DAGScheduler: Broadcasting large task binary with size 20.9 MiB\n",
      "22/11/11 13:22:33 WARN DAGScheduler: Broadcasting large task binary with size 20.9 MiB\n",
      "22/11/11 13:22:34 WARN DAGScheduler: Broadcasting large task binary with size 20.9 MiB\n",
      "22/11/11 13:22:36 WARN DAGScheduler: Broadcasting large task binary with size 20.9 MiB\n",
      "22/11/11 13:22:37 WARN DAGScheduler: Broadcasting large task binary with size 20.9 MiB\n",
      "22/11/11 13:22:38 WARN DAGScheduler: Broadcasting large task binary with size 20.9 MiB\n",
      "22/11/11 13:22:51 WARN DAGScheduler: Broadcasting large task binary with size 12.9 MiB\n",
      "22/11/11 13:22:52 WARN DAGScheduler: Broadcasting large task binary with size 12.9 MiB\n",
      "22/11/11 13:22:54 WARN DAGScheduler: Broadcasting large task binary with size 12.9 MiB\n",
      "22/11/11 13:23:02 WARN DAGScheduler: Broadcasting large task binary with size 12.9 MiB\n",
      "22/11/11 13:23:03 WARN DAGScheduler: Broadcasting large task binary with size 12.9 MiB\n",
      "22/11/11 13:23:05 WARN DAGScheduler: Broadcasting large task binary with size 12.9 MiB\n",
      "                                                                                \r"
     ]
    },
    {
     "name": "stdout",
     "output_type": "stream",
     "text": [
      "Iteration 28 finished in 143.8473677635193 sec.\n"
     ]
    },
    {
     "name": "stderr",
     "output_type": "stream",
     "text": [
      "22/11/11 13:24:14 WARN DAGScheduler: Broadcasting large task binary with size 13.1 MiB\n",
      "22/11/11 13:24:15 WARN DAGScheduler: Broadcasting large task binary with size 13.1 MiB\n",
      "22/11/11 13:24:19 WARN DAGScheduler: Broadcasting large task binary with size 20.1 MiB\n",
      "22/11/11 13:24:20 WARN DAGScheduler: Broadcasting large task binary with size 20.2 MiB\n",
      "22/11/11 13:24:22 WARN DAGScheduler: Broadcasting large task binary with size 20.5 MiB\n",
      "22/11/11 13:24:31 WARN DAGScheduler: Broadcasting large task binary with size 13.6 MiB\n",
      "22/11/11 13:24:31 WARN DAGScheduler: Broadcasting large task binary with size 13.1 MiB\n",
      "22/11/11 13:24:32 WARN DAGScheduler: Broadcasting large task binary with size 13.6 MiB\n",
      "22/11/11 13:24:36 WARN DAGScheduler: Broadcasting large task binary with size 20.6 MiB\n",
      "22/11/11 13:24:37 WARN DAGScheduler: Broadcasting large task binary with size 20.6 MiB\n",
      "22/11/11 13:24:38 WARN DAGScheduler: Broadcasting large task binary with size 21.0 MiB\n",
      "22/11/11 13:24:46 WARN DAGScheduler: Broadcasting large task binary with size 20.4 MiB\n",
      "22/11/11 13:24:46 WARN DAGScheduler: Broadcasting large task binary with size 20.4 MiB\n",
      "22/11/11 13:24:47 WARN DAGScheduler: Broadcasting large task binary with size 20.4 MiB\n",
      "22/11/11 13:24:49 WARN DAGScheduler: Broadcasting large task binary with size 20.4 MiB\n",
      "22/11/11 13:24:50 WARN DAGScheduler: Broadcasting large task binary with size 20.4 MiB\n",
      "22/11/11 13:24:52 WARN DAGScheduler: Broadcasting large task binary with size 20.4 MiB\n",
      "22/11/11 13:24:57 WARN DAGScheduler: Broadcasting large task binary with size 20.9 MiB\n",
      "22/11/11 13:24:58 WARN DAGScheduler: Broadcasting large task binary with size 20.9 MiB\n",
      "22/11/11 13:24:59 WARN DAGScheduler: Broadcasting large task binary with size 20.9 MiB\n",
      "22/11/11 13:25:00 WARN DAGScheduler: Broadcasting large task binary with size 20.9 MiB\n",
      "22/11/11 13:25:01 WARN DAGScheduler: Broadcasting large task binary with size 20.9 MiB\n",
      "22/11/11 13:25:03 WARN DAGScheduler: Broadcasting large task binary with size 20.9 MiB\n",
      "22/11/11 13:25:15 WARN DAGScheduler: Broadcasting large task binary with size 12.9 MiB\n",
      "22/11/11 13:25:17 WARN DAGScheduler: Broadcasting large task binary with size 12.9 MiB\n",
      "22/11/11 13:25:19 WARN DAGScheduler: Broadcasting large task binary with size 12.9 MiB\n",
      "22/11/11 13:25:27 WARN DAGScheduler: Broadcasting large task binary with size 12.9 MiB\n",
      "22/11/11 13:25:28 WARN DAGScheduler: Broadcasting large task binary with size 12.9 MiB\n",
      "22/11/11 13:25:30 WARN DAGScheduler: Broadcasting large task binary with size 12.9 MiB\n",
      "                                                                                \r"
     ]
    },
    {
     "name": "stdout",
     "output_type": "stream",
     "text": [
      "Iteration 29 finished in 144.8708209991455 sec.\n"
     ]
    },
    {
     "name": "stderr",
     "output_type": "stream",
     "text": [
      "22/11/11 13:26:46 WARN DAGScheduler: Broadcasting large task binary with size 13.1 MiB\n",
      "22/11/11 13:26:46 WARN DAGScheduler: Broadcasting large task binary with size 13.1 MiB\n",
      "22/11/11 13:26:51 WARN DAGScheduler: Broadcasting large task binary with size 20.1 MiB\n",
      "22/11/11 13:26:52 WARN DAGScheduler: Broadcasting large task binary with size 20.1 MiB\n",
      "22/11/11 13:26:54 WARN DAGScheduler: Broadcasting large task binary with size 20.5 MiB\n",
      "22/11/11 13:27:02 WARN DAGScheduler: Broadcasting large task binary with size 13.1 MiB\n",
      "22/11/11 13:27:02 WARN DAGScheduler: Broadcasting large task binary with size 13.6 MiB\n",
      "22/11/11 13:27:03 WARN DAGScheduler: Broadcasting large task binary with size 13.6 MiB\n",
      "22/11/11 13:27:06 WARN DAGScheduler: Broadcasting large task binary with size 20.6 MiB\n",
      "22/11/11 13:27:08 WARN DAGScheduler: Broadcasting large task binary with size 20.6 MiB\n",
      "22/11/11 13:27:09 WARN DAGScheduler: Broadcasting large task binary with size 21.0 MiB\n",
      "22/11/11 13:27:16 WARN DAGScheduler: Broadcasting large task binary with size 20.4 MiB\n",
      "22/11/11 13:27:16 WARN DAGScheduler: Broadcasting large task binary with size 20.4 MiB\n",
      "22/11/11 13:27:17 WARN DAGScheduler: Broadcasting large task binary with size 20.4 MiB\n",
      "22/11/11 13:27:19 WARN DAGScheduler: Broadcasting large task binary with size 20.4 MiB\n",
      "22/11/11 13:27:21 WARN DAGScheduler: Broadcasting large task binary with size 20.4 MiB\n",
      "22/11/11 13:27:22 WARN DAGScheduler: Broadcasting large task binary with size 20.4 MiB\n",
      "22/11/11 13:27:28 WARN DAGScheduler: Broadcasting large task binary with size 20.9 MiB\n",
      "22/11/11 13:27:28 WARN DAGScheduler: Broadcasting large task binary with size 20.9 MiB\n",
      "22/11/11 13:27:29 WARN DAGScheduler: Broadcasting large task binary with size 20.9 MiB\n",
      "22/11/11 13:27:30 WARN DAGScheduler: Broadcasting large task binary with size 20.9 MiB\n",
      "22/11/11 13:27:31 WARN DAGScheduler: Broadcasting large task binary with size 20.9 MiB\n",
      "22/11/11 13:27:33 WARN DAGScheduler: Broadcasting large task binary with size 20.9 MiB\n",
      "22/11/11 13:27:46 WARN DAGScheduler: Broadcasting large task binary with size 12.9 MiB\n",
      "22/11/11 13:27:47 WARN DAGScheduler: Broadcasting large task binary with size 12.9 MiB\n",
      "22/11/11 13:27:49 WARN DAGScheduler: Broadcasting large task binary with size 12.9 MiB\n",
      "22/11/11 13:27:58 WARN DAGScheduler: Broadcasting large task binary with size 12.9 MiB\n",
      "22/11/11 13:27:59 WARN DAGScheduler: Broadcasting large task binary with size 12.9 MiB\n",
      "22/11/11 13:28:00 WARN DAGScheduler: Broadcasting large task binary with size 12.9 MiB\n",
      "                                                                                \r"
     ]
    },
    {
     "name": "stdout",
     "output_type": "stream",
     "text": [
      "Iteration 30 finished in 150.4049563407898 sec.\n"
     ]
    },
    {
     "name": "stderr",
     "output_type": "stream",
     "text": [
      "22/11/11 13:29:13 WARN DAGScheduler: Broadcasting large task binary with size 13.1 MiB\n",
      "22/11/11 13:29:14 WARN DAGScheduler: Broadcasting large task binary with size 13.1 MiB\n",
      "22/11/11 13:29:18 WARN DAGScheduler: Broadcasting large task binary with size 20.1 MiB\n",
      "22/11/11 13:29:20 WARN DAGScheduler: Broadcasting large task binary with size 20.2 MiB\n",
      "22/11/11 13:29:21 WARN DAGScheduler: Broadcasting large task binary with size 20.6 MiB\n",
      "22/11/11 13:29:30 WARN DAGScheduler: Broadcasting large task binary with size 13.1 MiB\n",
      "22/11/11 13:29:30 WARN DAGScheduler: Broadcasting large task binary with size 13.6 MiB\n",
      "22/11/11 13:29:31 WARN DAGScheduler: Broadcasting large task binary with size 13.6 MiB\n",
      "22/11/11 13:29:35 WARN DAGScheduler: Broadcasting large task binary with size 20.6 MiB\n",
      "22/11/11 13:29:36 WARN DAGScheduler: Broadcasting large task binary with size 20.6 MiB\n",
      "22/11/11 13:29:37 WARN DAGScheduler: Broadcasting large task binary with size 21.0 MiB\n",
      "22/11/11 13:29:44 WARN DAGScheduler: Broadcasting large task binary with size 20.4 MiB\n",
      "22/11/11 13:29:45 WARN DAGScheduler: Broadcasting large task binary with size 20.4 MiB\n",
      "22/11/11 13:29:45 WARN DAGScheduler: Broadcasting large task binary with size 20.4 MiB\n",
      "22/11/11 13:29:47 WARN DAGScheduler: Broadcasting large task binary with size 20.4 MiB\n",
      "22/11/11 13:29:48 WARN DAGScheduler: Broadcasting large task binary with size 20.4 MiB\n",
      "22/11/11 13:29:50 WARN DAGScheduler: Broadcasting large task binary with size 20.4 MiB\n",
      "22/11/11 13:29:55 WARN DAGScheduler: Broadcasting large task binary with size 20.9 MiB\n",
      "22/11/11 13:29:56 WARN DAGScheduler: Broadcasting large task binary with size 20.9 MiB\n",
      "22/11/11 13:29:57 WARN DAGScheduler: Broadcasting large task binary with size 20.9 MiB\n",
      "22/11/11 13:29:58 WARN DAGScheduler: Broadcasting large task binary with size 20.9 MiB\n",
      "22/11/11 13:29:59 WARN DAGScheduler: Broadcasting large task binary with size 20.9 MiB\n",
      "22/11/11 13:30:00 WARN DAGScheduler: Broadcasting large task binary with size 20.9 MiB\n",
      "22/11/11 13:30:14 WARN DAGScheduler: Broadcasting large task binary with size 12.9 MiB\n",
      "22/11/11 13:30:15 WARN DAGScheduler: Broadcasting large task binary with size 12.9 MiB\n",
      "22/11/11 13:30:17 WARN DAGScheduler: Broadcasting large task binary with size 12.9 MiB\n",
      "22/11/11 13:30:26 WARN DAGScheduler: Broadcasting large task binary with size 12.9 MiB\n",
      "22/11/11 13:30:27 WARN DAGScheduler: Broadcasting large task binary with size 12.9 MiB\n",
      "22/11/11 13:30:28 WARN DAGScheduler: Broadcasting large task binary with size 12.9 MiB\n",
      "                                                                                \r"
     ]
    },
    {
     "name": "stdout",
     "output_type": "stream",
     "text": [
      "Iteration 31 finished in 148.31642317771912 sec.\n"
     ]
    },
    {
     "name": "stderr",
     "output_type": "stream",
     "text": [
      "22/11/11 13:31:34 WARN DAGScheduler: Broadcasting large task binary with size 13.1 MiB\n",
      "22/11/11 13:31:35 WARN DAGScheduler: Broadcasting large task binary with size 13.1 MiB\n",
      "22/11/11 13:31:40 WARN DAGScheduler: Broadcasting large task binary with size 20.1 MiB\n",
      "22/11/11 13:31:42 WARN DAGScheduler: Broadcasting large task binary with size 20.2 MiB\n",
      "22/11/11 13:31:43 WARN DAGScheduler: Broadcasting large task binary with size 20.5 MiB\n",
      "22/11/11 13:31:51 WARN DAGScheduler: Broadcasting large task binary with size 13.1 MiB\n",
      "22/11/11 13:31:51 WARN DAGScheduler: Broadcasting large task binary with size 13.6 MiB\n",
      "22/11/11 13:31:52 WARN DAGScheduler: Broadcasting large task binary with size 13.6 MiB\n",
      "22/11/11 13:31:56 WARN DAGScheduler: Broadcasting large task binary with size 20.6 MiB\n",
      "22/11/11 13:31:57 WARN DAGScheduler: Broadcasting large task binary with size 20.6 MiB\n",
      "22/11/11 13:31:58 WARN DAGScheduler: Broadcasting large task binary with size 21.0 MiB\n",
      "22/11/11 13:32:05 WARN DAGScheduler: Broadcasting large task binary with size 20.4 MiB\n",
      "22/11/11 13:32:06 WARN DAGScheduler: Broadcasting large task binary with size 20.4 MiB\n",
      "22/11/11 13:32:07 WARN DAGScheduler: Broadcasting large task binary with size 20.4 MiB\n",
      "22/11/11 13:32:09 WARN DAGScheduler: Broadcasting large task binary with size 20.4 MiB\n",
      "22/11/11 13:32:10 WARN DAGScheduler: Broadcasting large task binary with size 20.4 MiB\n",
      "22/11/11 13:32:11 WARN DAGScheduler: Broadcasting large task binary with size 20.4 MiB\n",
      "22/11/11 13:32:17 WARN DAGScheduler: Broadcasting large task binary with size 20.9 MiB\n",
      "22/11/11 13:32:17 WARN DAGScheduler: Broadcasting large task binary with size 20.9 MiB\n",
      "22/11/11 13:32:19 WARN DAGScheduler: Broadcasting large task binary with size 20.9 MiB\n",
      "22/11/11 13:32:20 WARN DAGScheduler: Broadcasting large task binary with size 20.9 MiB\n",
      "22/11/11 13:32:21 WARN DAGScheduler: Broadcasting large task binary with size 20.9 MiB\n",
      "22/11/11 13:32:22 WARN DAGScheduler: Broadcasting large task binary with size 20.9 MiB\n",
      "22/11/11 13:32:37 WARN DAGScheduler: Broadcasting large task binary with size 12.9 MiB\n",
      "22/11/11 13:32:38 WARN DAGScheduler: Broadcasting large task binary with size 12.9 MiB\n",
      "22/11/11 13:32:40 WARN DAGScheduler: Broadcasting large task binary with size 12.9 MiB\n",
      "22/11/11 13:32:49 WARN DAGScheduler: Broadcasting large task binary with size 12.9 MiB\n",
      "22/11/11 13:32:50 WARN DAGScheduler: Broadcasting large task binary with size 12.9 MiB\n",
      "22/11/11 13:32:51 WARN DAGScheduler: Broadcasting large task binary with size 12.9 MiB\n"
     ]
    },
    {
     "name": "stdout",
     "output_type": "stream",
     "text": [
      "Iteration 32 finished in 142.90884923934937 sec.\n"
     ]
    },
    {
     "name": "stderr",
     "output_type": "stream",
     "text": [
      "22/11/11 13:34:01 WARN DAGScheduler: Broadcasting large task binary with size 13.1 MiB\n",
      "22/11/11 13:34:02 WARN DAGScheduler: Broadcasting large task binary with size 13.1 MiB\n",
      "22/11/11 13:34:07 WARN DAGScheduler: Broadcasting large task binary with size 20.1 MiB\n",
      "22/11/11 13:34:08 WARN DAGScheduler: Broadcasting large task binary with size 20.2 MiB\n",
      "22/11/11 13:34:10 WARN DAGScheduler: Broadcasting large task binary with size 20.5 MiB\n",
      "22/11/11 13:34:35 WARN DAGScheduler: Broadcasting large task binary with size 13.1 MiB\n",
      "22/11/11 13:34:35 WARN DAGScheduler: Broadcasting large task binary with size 13.6 MiB\n",
      "22/11/11 13:34:36 WARN DAGScheduler: Broadcasting large task binary with size 13.6 MiB\n",
      "22/11/11 13:34:40 WARN DAGScheduler: Broadcasting large task binary with size 20.6 MiB\n",
      "22/11/11 13:34:42 WARN DAGScheduler: Broadcasting large task binary with size 20.6 MiB\n",
      "22/11/11 13:34:43 WARN DAGScheduler: Broadcasting large task binary with size 21.0 MiB\n",
      "22/11/11 13:34:54 WARN DAGScheduler: Broadcasting large task binary with size 20.4 MiB\n",
      "22/11/11 13:34:55 WARN DAGScheduler: Broadcasting large task binary with size 20.4 MiB\n",
      "22/11/11 13:34:56 WARN DAGScheduler: Broadcasting large task binary with size 20.4 MiB\n",
      "22/11/11 13:34:58 WARN DAGScheduler: Broadcasting large task binary with size 20.4 MiB\n",
      "22/11/11 13:34:59 WARN DAGScheduler: Broadcasting large task binary with size 20.4 MiB\n",
      "22/11/11 13:35:01 WARN DAGScheduler: Broadcasting large task binary with size 20.4 MiB\n",
      "22/11/11 13:35:09 WARN DAGScheduler: Broadcasting large task binary with size 20.9 MiB\n",
      "22/11/11 13:35:09 WARN DAGScheduler: Broadcasting large task binary with size 20.9 MiB\n",
      "22/11/11 13:35:10 WARN DAGScheduler: Broadcasting large task binary with size 20.9 MiB\n",
      "22/11/11 13:35:11 WARN DAGScheduler: Broadcasting large task binary with size 20.9 MiB\n",
      "22/11/11 13:35:13 WARN DAGScheduler: Broadcasting large task binary with size 20.9 MiB\n",
      "22/11/11 13:35:14 WARN DAGScheduler: Broadcasting large task binary with size 20.9 MiB\n",
      "22/11/11 13:35:29 WARN DAGScheduler: Broadcasting large task binary with size 12.9 MiB\n",
      "22/11/11 13:35:31 WARN DAGScheduler: Broadcasting large task binary with size 12.9 MiB\n",
      "22/11/11 13:35:33 WARN DAGScheduler: Broadcasting large task binary with size 12.9 MiB\n",
      "22/11/11 13:35:42 WARN DAGScheduler: Broadcasting large task binary with size 12.9 MiB\n",
      "22/11/11 13:35:43 WARN DAGScheduler: Broadcasting large task binary with size 12.9 MiB\n",
      "22/11/11 13:35:44 WARN DAGScheduler: Broadcasting large task binary with size 12.9 MiB\n"
     ]
    },
    {
     "name": "stdout",
     "output_type": "stream",
     "text": [
      "Iteration 33 finished in 172.99174737930298 sec.\n"
     ]
    },
    {
     "name": "stderr",
     "output_type": "stream",
     "text": [
      "22/11/11 13:36:50 WARN DAGScheduler: Broadcasting large task binary with size 13.1 MiB\n",
      "22/11/11 13:36:51 WARN DAGScheduler: Broadcasting large task binary with size 13.1 MiB\n",
      "22/11/11 13:36:55 WARN DAGScheduler: Broadcasting large task binary with size 20.1 MiB\n",
      "22/11/11 13:36:56 WARN DAGScheduler: Broadcasting large task binary with size 20.2 MiB\n",
      "22/11/11 13:36:58 WARN DAGScheduler: Broadcasting large task binary with size 20.6 MiB\n",
      "22/11/11 13:37:06 WARN DAGScheduler: Broadcasting large task binary with size 13.6 MiB\n",
      "22/11/11 13:37:06 WARN DAGScheduler: Broadcasting large task binary with size 13.1 MiB\n",
      "22/11/11 13:37:07 WARN DAGScheduler: Broadcasting large task binary with size 13.6 MiB\n",
      "22/11/11 13:37:11 WARN DAGScheduler: Broadcasting large task binary with size 20.6 MiB\n",
      "22/11/11 13:37:12 WARN DAGScheduler: Broadcasting large task binary with size 20.6 MiB\n",
      "22/11/11 13:37:14 WARN DAGScheduler: Broadcasting large task binary with size 21.0 MiB\n",
      "22/11/11 13:37:21 WARN DAGScheduler: Broadcasting large task binary with size 20.4 MiB\n",
      "22/11/11 13:37:21 WARN DAGScheduler: Broadcasting large task binary with size 20.4 MiB\n",
      "22/11/11 13:37:22 WARN DAGScheduler: Broadcasting large task binary with size 20.4 MiB\n",
      "22/11/11 13:37:24 WARN DAGScheduler: Broadcasting large task binary with size 20.4 MiB\n",
      "22/11/11 13:37:26 WARN DAGScheduler: Broadcasting large task binary with size 20.4 MiB\n",
      "22/11/11 13:37:27 WARN DAGScheduler: Broadcasting large task binary with size 20.4 MiB\n",
      "22/11/11 13:37:32 WARN DAGScheduler: Broadcasting large task binary with size 20.9 MiB\n",
      "22/11/11 13:37:33 WARN DAGScheduler: Broadcasting large task binary with size 20.9 MiB\n",
      "22/11/11 13:37:34 WARN DAGScheduler: Broadcasting large task binary with size 20.9 MiB\n",
      "22/11/11 13:37:35 WARN DAGScheduler: Broadcasting large task binary with size 20.9 MiB\n",
      "22/11/11 13:37:37 WARN DAGScheduler: Broadcasting large task binary with size 20.9 MiB\n",
      "22/11/11 13:37:38 WARN DAGScheduler: Broadcasting large task binary with size 20.9 MiB\n",
      "22/11/11 13:37:54 WARN DAGScheduler: Broadcasting large task binary with size 12.9 MiB\n",
      "22/11/11 13:37:56 WARN DAGScheduler: Broadcasting large task binary with size 12.9 MiB\n",
      "22/11/11 13:37:58 WARN DAGScheduler: Broadcasting large task binary with size 12.9 MiB\n",
      "22/11/11 13:38:08 WARN DAGScheduler: Broadcasting large task binary with size 12.9 MiB\n",
      "22/11/11 13:38:09 WARN DAGScheduler: Broadcasting large task binary with size 12.9 MiB\n",
      "22/11/11 13:38:10 WARN DAGScheduler: Broadcasting large task binary with size 12.9 MiB\n"
     ]
    },
    {
     "name": "stdout",
     "output_type": "stream",
     "text": [
      "Iteration 34 finished in 146.00781869888306 sec.\n"
     ]
    },
    {
     "name": "stderr",
     "output_type": "stream",
     "text": [
      "22/11/11 13:39:23 WARN DAGScheduler: Broadcasting large task binary with size 13.1 MiB\n",
      "22/11/11 13:39:23 WARN DAGScheduler: Broadcasting large task binary with size 13.1 MiB\n",
      "22/11/11 13:39:28 WARN DAGScheduler: Broadcasting large task binary with size 20.1 MiB\n",
      "22/11/11 13:39:30 WARN DAGScheduler: Broadcasting large task binary with size 20.2 MiB\n",
      "22/11/11 13:39:31 WARN DAGScheduler: Broadcasting large task binary with size 20.5 MiB\n",
      "22/11/11 13:39:40 WARN DAGScheduler: Broadcasting large task binary with size 13.1 MiB\n",
      "22/11/11 13:39:40 WARN DAGScheduler: Broadcasting large task binary with size 13.6 MiB\n",
      "22/11/11 13:39:41 WARN DAGScheduler: Broadcasting large task binary with size 13.6 MiB\n",
      "22/11/11 13:39:44 WARN DAGScheduler: Broadcasting large task binary with size 20.6 MiB\n",
      "22/11/11 13:39:46 WARN DAGScheduler: Broadcasting large task binary with size 20.6 MiB\n",
      "22/11/11 13:39:47 WARN DAGScheduler: Broadcasting large task binary with size 21.0 MiB\n",
      "22/11/11 13:39:54 WARN DAGScheduler: Broadcasting large task binary with size 20.4 MiB\n",
      "22/11/11 13:39:54 WARN DAGScheduler: Broadcasting large task binary with size 20.4 MiB\n",
      "22/11/11 13:39:55 WARN DAGScheduler: Broadcasting large task binary with size 20.4 MiB\n",
      "22/11/11 13:39:57 WARN DAGScheduler: Broadcasting large task binary with size 20.4 MiB\n",
      "22/11/11 13:39:58 WARN DAGScheduler: Broadcasting large task binary with size 20.4 MiB\n",
      "22/11/11 13:40:00 WARN DAGScheduler: Broadcasting large task binary with size 20.4 MiB\n",
      "22/11/11 13:40:05 WARN DAGScheduler: Broadcasting large task binary with size 20.9 MiB\n",
      "22/11/11 13:40:06 WARN DAGScheduler: Broadcasting large task binary with size 20.9 MiB\n",
      "22/11/11 13:40:07 WARN DAGScheduler: Broadcasting large task binary with size 20.9 MiB\n",
      "22/11/11 13:40:08 WARN DAGScheduler: Broadcasting large task binary with size 20.9 MiB\n",
      "22/11/11 13:40:09 WARN DAGScheduler: Broadcasting large task binary with size 20.9 MiB\n",
      "22/11/11 13:40:10 WARN DAGScheduler: Broadcasting large task binary with size 20.9 MiB\n",
      "22/11/11 13:40:26 WARN DAGScheduler: Broadcasting large task binary with size 12.9 MiB\n",
      "22/11/11 13:40:29 WARN DAGScheduler: Broadcasting large task binary with size 12.9 MiB\n",
      "22/11/11 13:40:31 WARN DAGScheduler: Broadcasting large task binary with size 12.9 MiB\n",
      "22/11/11 13:40:40 WARN DAGScheduler: Broadcasting large task binary with size 12.9 MiB\n",
      "22/11/11 13:40:41 WARN DAGScheduler: Broadcasting large task binary with size 12.9 MiB\n",
      "22/11/11 13:40:43 WARN DAGScheduler: Broadcasting large task binary with size 12.9 MiB\n",
      "                                                                                \r"
     ]
    },
    {
     "name": "stdout",
     "output_type": "stream",
     "text": [
      "Iteration 35 finished in 152.36009740829468 sec.\n"
     ]
    },
    {
     "name": "stderr",
     "output_type": "stream",
     "text": [
      "22/11/11 13:41:54 WARN DAGScheduler: Broadcasting large task binary with size 13.1 MiB\n",
      "22/11/11 13:41:55 WARN DAGScheduler: Broadcasting large task binary with size 13.1 MiB\n",
      "22/11/11 13:42:00 WARN DAGScheduler: Broadcasting large task binary with size 20.1 MiB\n",
      "22/11/11 13:42:01 WARN DAGScheduler: Broadcasting large task binary with size 20.1 MiB\n",
      "22/11/11 13:42:03 WARN DAGScheduler: Broadcasting large task binary with size 20.5 MiB\n",
      "22/11/11 13:42:11 WARN DAGScheduler: Broadcasting large task binary with size 13.6 MiB\n",
      "22/11/11 13:42:11 WARN DAGScheduler: Broadcasting large task binary with size 13.1 MiB\n",
      "22/11/11 13:42:12 WARN DAGScheduler: Broadcasting large task binary with size 13.6 MiB\n",
      "22/11/11 13:42:16 WARN DAGScheduler: Broadcasting large task binary with size 20.6 MiB\n",
      "22/11/11 13:42:17 WARN DAGScheduler: Broadcasting large task binary with size 20.6 MiB\n",
      "22/11/11 13:42:18 WARN DAGScheduler: Broadcasting large task binary with size 21.0 MiB\n",
      "22/11/11 13:42:25 WARN DAGScheduler: Broadcasting large task binary with size 20.4 MiB\n",
      "22/11/11 13:42:26 WARN DAGScheduler: Broadcasting large task binary with size 20.4 MiB\n",
      "22/11/11 13:42:27 WARN DAGScheduler: Broadcasting large task binary with size 20.4 MiB\n",
      "22/11/11 13:42:29 WARN DAGScheduler: Broadcasting large task binary with size 20.4 MiB\n",
      "22/11/11 13:42:30 WARN DAGScheduler: Broadcasting large task binary with size 20.4 MiB\n",
      "22/11/11 13:42:31 WARN DAGScheduler: Broadcasting large task binary with size 20.4 MiB\n",
      "22/11/11 13:42:37 WARN DAGScheduler: Broadcasting large task binary with size 20.9 MiB\n",
      "22/11/11 13:42:38 WARN DAGScheduler: Broadcasting large task binary with size 20.9 MiB\n",
      "22/11/11 13:42:39 WARN DAGScheduler: Broadcasting large task binary with size 20.9 MiB\n",
      "22/11/11 13:42:40 WARN DAGScheduler: Broadcasting large task binary with size 20.9 MiB\n",
      "22/11/11 13:42:41 WARN DAGScheduler: Broadcasting large task binary with size 20.9 MiB\n",
      "22/11/11 13:42:42 WARN DAGScheduler: Broadcasting large task binary with size 20.9 MiB\n",
      "22/11/11 13:42:59 WARN DAGScheduler: Broadcasting large task binary with size 12.9 MiB\n",
      "22/11/11 13:43:01 WARN DAGScheduler: Broadcasting large task binary with size 12.9 MiB\n",
      "22/11/11 13:43:03 WARN DAGScheduler: Broadcasting large task binary with size 12.9 MiB\n",
      "22/11/11 13:43:13 WARN DAGScheduler: Broadcasting large task binary with size 12.9 MiB\n",
      "22/11/11 13:43:14 WARN DAGScheduler: Broadcasting large task binary with size 12.9 MiB\n",
      "22/11/11 13:43:16 WARN DAGScheduler: Broadcasting large task binary with size 12.9 MiB\n",
      "                                                                                \r"
     ]
    },
    {
     "name": "stdout",
     "output_type": "stream",
     "text": [
      "Iteration 36 finished in 153.0214672088623 sec.\n"
     ]
    },
    {
     "name": "stderr",
     "output_type": "stream",
     "text": [
      "22/11/11 13:44:25 WARN DAGScheduler: Broadcasting large task binary with size 13.1 MiB\n",
      "22/11/11 13:44:26 WARN DAGScheduler: Broadcasting large task binary with size 13.1 MiB\n",
      "22/11/11 13:44:30 WARN DAGScheduler: Broadcasting large task binary with size 20.1 MiB\n",
      "22/11/11 13:44:31 WARN DAGScheduler: Broadcasting large task binary with size 20.1 MiB\n",
      "22/11/11 13:44:33 WARN DAGScheduler: Broadcasting large task binary with size 20.5 MiB\n",
      "22/11/11 13:44:42 WARN DAGScheduler: Broadcasting large task binary with size 13.1 MiB\n",
      "22/11/11 13:44:42 WARN DAGScheduler: Broadcasting large task binary with size 13.6 MiB\n",
      "22/11/11 13:44:43 WARN DAGScheduler: Broadcasting large task binary with size 13.6 MiB\n",
      "22/11/11 13:44:47 WARN DAGScheduler: Broadcasting large task binary with size 20.6 MiB\n",
      "22/11/11 13:44:48 WARN DAGScheduler: Broadcasting large task binary with size 20.6 MiB\n",
      "22/11/11 13:44:49 WARN DAGScheduler: Broadcasting large task binary with size 21.0 MiB\n",
      "22/11/11 13:44:56 WARN DAGScheduler: Broadcasting large task binary with size 20.4 MiB\n",
      "22/11/11 13:44:57 WARN DAGScheduler: Broadcasting large task binary with size 20.4 MiB\n",
      "22/11/11 13:44:58 WARN DAGScheduler: Broadcasting large task binary with size 20.4 MiB\n",
      "22/11/11 13:44:59 WARN DAGScheduler: Broadcasting large task binary with size 20.4 MiB\n",
      "22/11/11 13:45:01 WARN DAGScheduler: Broadcasting large task binary with size 20.4 MiB\n",
      "22/11/11 13:45:02 WARN DAGScheduler: Broadcasting large task binary with size 20.4 MiB\n",
      "22/11/11 13:45:08 WARN DAGScheduler: Broadcasting large task binary with size 20.9 MiB\n",
      "22/11/11 13:45:08 WARN DAGScheduler: Broadcasting large task binary with size 20.9 MiB\n",
      "22/11/11 13:45:09 WARN DAGScheduler: Broadcasting large task binary with size 20.9 MiB\n",
      "22/11/11 13:45:10 WARN DAGScheduler: Broadcasting large task binary with size 20.9 MiB\n",
      "22/11/11 13:45:11 WARN DAGScheduler: Broadcasting large task binary with size 20.9 MiB\n",
      "22/11/11 13:45:13 WARN DAGScheduler: Broadcasting large task binary with size 20.9 MiB\n",
      "22/11/11 13:45:30 WARN DAGScheduler: Broadcasting large task binary with size 12.9 MiB\n",
      "22/11/11 13:45:31 WARN DAGScheduler: Broadcasting large task binary with size 12.9 MiB\n",
      "22/11/11 13:45:34 WARN DAGScheduler: Broadcasting large task binary with size 12.9 MiB\n",
      "22/11/11 13:45:43 WARN DAGScheduler: Broadcasting large task binary with size 12.9 MiB\n",
      "22/11/11 13:45:44 WARN DAGScheduler: Broadcasting large task binary with size 12.9 MiB\n",
      "22/11/11 13:45:46 WARN DAGScheduler: Broadcasting large task binary with size 12.9 MiB\n",
      "                                                                                \r"
     ]
    },
    {
     "name": "stdout",
     "output_type": "stream",
     "text": [
      "Iteration 37 finished in 150.13430976867676 sec.\n"
     ]
    },
    {
     "name": "stderr",
     "output_type": "stream",
     "text": [
      "22/11/11 13:46:56 WARN DAGScheduler: Broadcasting large task binary with size 13.1 MiB\n",
      "22/11/11 13:46:56 WARN DAGScheduler: Broadcasting large task binary with size 13.1 MiB\n",
      "22/11/11 13:47:01 WARN DAGScheduler: Broadcasting large task binary with size 20.1 MiB\n",
      "22/11/11 13:47:02 WARN DAGScheduler: Broadcasting large task binary with size 20.2 MiB\n",
      "22/11/11 13:47:04 WARN DAGScheduler: Broadcasting large task binary with size 20.5 MiB\n",
      "22/11/11 13:47:12 WARN DAGScheduler: Broadcasting large task binary with size 13.6 MiB\n",
      "22/11/11 13:47:12 WARN DAGScheduler: Broadcasting large task binary with size 13.1 MiB\n",
      "22/11/11 13:47:13 WARN DAGScheduler: Broadcasting large task binary with size 13.6 MiB\n",
      "22/11/11 13:47:17 WARN DAGScheduler: Broadcasting large task binary with size 20.6 MiB\n",
      "22/11/11 13:47:18 WARN DAGScheduler: Broadcasting large task binary with size 20.6 MiB\n",
      "22/11/11 13:47:19 WARN DAGScheduler: Broadcasting large task binary with size 21.0 MiB\n",
      "22/11/11 13:47:26 WARN DAGScheduler: Broadcasting large task binary with size 20.4 MiB\n",
      "22/11/11 13:47:27 WARN DAGScheduler: Broadcasting large task binary with size 20.4 MiB\n",
      "22/11/11 13:47:28 WARN DAGScheduler: Broadcasting large task binary with size 20.4 MiB\n",
      "22/11/11 13:47:30 WARN DAGScheduler: Broadcasting large task binary with size 20.4 MiB\n",
      "22/11/11 13:47:31 WARN DAGScheduler: Broadcasting large task binary with size 20.4 MiB\n",
      "22/11/11 13:47:33 WARN DAGScheduler: Broadcasting large task binary with size 20.4 MiB\n",
      "22/11/11 13:47:38 WARN DAGScheduler: Broadcasting large task binary with size 20.9 MiB\n",
      "22/11/11 13:47:39 WARN DAGScheduler: Broadcasting large task binary with size 20.9 MiB\n",
      "22/11/11 13:47:40 WARN DAGScheduler: Broadcasting large task binary with size 20.9 MiB\n",
      "22/11/11 13:47:41 WARN DAGScheduler: Broadcasting large task binary with size 20.9 MiB\n",
      "22/11/11 13:47:42 WARN DAGScheduler: Broadcasting large task binary with size 20.9 MiB\n",
      "22/11/11 13:47:43 WARN DAGScheduler: Broadcasting large task binary with size 20.9 MiB\n",
      "22/11/11 13:47:59 WARN DAGScheduler: Broadcasting large task binary with size 12.9 MiB\n",
      "22/11/11 13:48:02 WARN DAGScheduler: Broadcasting large task binary with size 12.9 MiB\n",
      "22/11/11 13:48:04 WARN DAGScheduler: Broadcasting large task binary with size 12.9 MiB\n",
      "22/11/11 13:48:14 WARN DAGScheduler: Broadcasting large task binary with size 12.9 MiB\n",
      "22/11/11 13:48:15 WARN DAGScheduler: Broadcasting large task binary with size 12.9 MiB\n",
      "22/11/11 13:48:17 WARN DAGScheduler: Broadcasting large task binary with size 12.9 MiB\n",
      "                                                                                \r"
     ]
    },
    {
     "name": "stdout",
     "output_type": "stream",
     "text": [
      "Iteration 38 finished in 150.87486100196838 sec.\n"
     ]
    },
    {
     "name": "stderr",
     "output_type": "stream",
     "text": [
      "22/11/11 13:49:26 WARN DAGScheduler: Broadcasting large task binary with size 13.1 MiB\n",
      "22/11/11 13:49:26 WARN DAGScheduler: Broadcasting large task binary with size 13.1 MiB\n",
      "22/11/11 13:49:31 WARN DAGScheduler: Broadcasting large task binary with size 20.1 MiB\n",
      "22/11/11 13:49:33 WARN DAGScheduler: Broadcasting large task binary with size 20.2 MiB\n",
      "22/11/11 13:49:35 WARN DAGScheduler: Broadcasting large task binary with size 20.5 MiB\n",
      "22/11/11 13:49:43 WARN DAGScheduler: Broadcasting large task binary with size 13.1 MiB\n",
      "22/11/11 13:49:43 WARN DAGScheduler: Broadcasting large task binary with size 13.6 MiB\n",
      "22/11/11 13:49:44 WARN DAGScheduler: Broadcasting large task binary with size 13.6 MiB\n",
      "22/11/11 13:49:48 WARN DAGScheduler: Broadcasting large task binary with size 20.6 MiB\n",
      "22/11/11 13:49:50 WARN DAGScheduler: Broadcasting large task binary with size 20.6 MiB\n",
      "22/11/11 13:49:52 WARN DAGScheduler: Broadcasting large task binary with size 21.0 MiB\n",
      "22/11/11 13:49:58 WARN DAGScheduler: Broadcasting large task binary with size 20.4 MiB\n",
      "22/11/11 13:49:59 WARN DAGScheduler: Broadcasting large task binary with size 20.4 MiB\n",
      "22/11/11 13:50:00 WARN DAGScheduler: Broadcasting large task binary with size 20.4 MiB\n",
      "22/11/11 13:50:02 WARN DAGScheduler: Broadcasting large task binary with size 20.4 MiB\n",
      "22/11/11 13:50:03 WARN DAGScheduler: Broadcasting large task binary with size 20.4 MiB\n",
      "22/11/11 13:50:04 WARN DAGScheduler: Broadcasting large task binary with size 20.4 MiB\n",
      "22/11/11 13:50:11 WARN DAGScheduler: Broadcasting large task binary with size 20.9 MiB\n",
      "22/11/11 13:50:11 WARN DAGScheduler: Broadcasting large task binary with size 20.9 MiB\n",
      "22/11/11 13:50:13 WARN DAGScheduler: Broadcasting large task binary with size 20.9 MiB\n",
      "22/11/11 13:50:14 WARN DAGScheduler: Broadcasting large task binary with size 20.9 MiB\n",
      "22/11/11 13:50:15 WARN DAGScheduler: Broadcasting large task binary with size 20.9 MiB\n",
      "22/11/11 13:50:16 WARN DAGScheduler: Broadcasting large task binary with size 20.9 MiB\n",
      "22/11/11 13:50:33 WARN DAGScheduler: Broadcasting large task binary with size 12.9 MiB\n",
      "22/11/11 13:50:36 WARN DAGScheduler: Broadcasting large task binary with size 12.9 MiB\n",
      "22/11/11 13:50:38 WARN DAGScheduler: Broadcasting large task binary with size 12.9 MiB\n",
      "22/11/11 13:50:48 WARN DAGScheduler: Broadcasting large task binary with size 12.9 MiB\n",
      "22/11/11 13:50:49 WARN DAGScheduler: Broadcasting large task binary with size 12.9 MiB\n",
      "22/11/11 13:50:51 WARN DAGScheduler: Broadcasting large task binary with size 12.9 MiB\n"
     ]
    },
    {
     "name": "stdout",
     "output_type": "stream",
     "text": [
      "Iteration 39 finished in 154.1710159778595 sec.\n"
     ]
    },
    {
     "name": "stderr",
     "output_type": "stream",
     "text": [
      "22/11/11 13:52:00 WARN DAGScheduler: Broadcasting large task binary with size 13.1 MiB\n",
      "22/11/11 13:52:00 WARN DAGScheduler: Broadcasting large task binary with size 13.1 MiB\n",
      "22/11/11 13:52:05 WARN DAGScheduler: Broadcasting large task binary with size 20.1 MiB\n",
      "22/11/11 13:52:06 WARN DAGScheduler: Broadcasting large task binary with size 20.2 MiB\n",
      "22/11/11 13:52:08 WARN DAGScheduler: Broadcasting large task binary with size 20.5 MiB\n",
      "22/11/11 13:52:16 WARN DAGScheduler: Broadcasting large task binary with size 13.1 MiB\n",
      "22/11/11 13:52:16 WARN DAGScheduler: Broadcasting large task binary with size 13.6 MiB\n",
      "22/11/11 13:52:17 WARN DAGScheduler: Broadcasting large task binary with size 13.6 MiB\n",
      "22/11/11 13:52:21 WARN DAGScheduler: Broadcasting large task binary with size 20.6 MiB\n",
      "22/11/11 13:52:22 WARN DAGScheduler: Broadcasting large task binary with size 20.6 MiB\n",
      "22/11/11 13:52:24 WARN DAGScheduler: Broadcasting large task binary with size 21.0 MiB\n",
      "22/11/11 13:52:30 WARN DAGScheduler: Broadcasting large task binary with size 20.4 MiB\n",
      "22/11/11 13:52:31 WARN DAGScheduler: Broadcasting large task binary with size 20.4 MiB\n",
      "22/11/11 13:52:32 WARN DAGScheduler: Broadcasting large task binary with size 20.4 MiB\n",
      "22/11/11 13:52:34 WARN DAGScheduler: Broadcasting large task binary with size 20.4 MiB\n",
      "22/11/11 13:52:35 WARN DAGScheduler: Broadcasting large task binary with size 20.4 MiB\n",
      "22/11/11 13:52:36 WARN DAGScheduler: Broadcasting large task binary with size 20.4 MiB\n",
      "22/11/11 13:52:42 WARN DAGScheduler: Broadcasting large task binary with size 20.9 MiB\n",
      "22/11/11 13:52:43 WARN DAGScheduler: Broadcasting large task binary with size 20.9 MiB\n",
      "22/11/11 13:52:43 WARN DAGScheduler: Broadcasting large task binary with size 20.9 MiB\n",
      "22/11/11 13:52:44 WARN DAGScheduler: Broadcasting large task binary with size 20.9 MiB\n",
      "22/11/11 13:52:46 WARN DAGScheduler: Broadcasting large task binary with size 20.9 MiB\n",
      "22/11/11 13:52:47 WARN DAGScheduler: Broadcasting large task binary with size 20.9 MiB\n",
      "22/11/11 13:53:03 WARN DAGScheduler: Broadcasting large task binary with size 12.9 MiB\n",
      "22/11/11 13:53:06 WARN DAGScheduler: Broadcasting large task binary with size 12.9 MiB\n",
      "22/11/11 13:53:08 WARN DAGScheduler: Broadcasting large task binary with size 12.9 MiB\n",
      "22/11/11 13:53:18 WARN DAGScheduler: Broadcasting large task binary with size 12.9 MiB\n",
      "22/11/11 13:53:19 WARN DAGScheduler: Broadcasting large task binary with size 12.9 MiB\n",
      "22/11/11 13:53:21 WARN DAGScheduler: Broadcasting large task binary with size 12.9 MiB\n",
      "                                                                                \r"
     ]
    },
    {
     "name": "stdout",
     "output_type": "stream",
     "text": [
      "Iteration 40 finished in 150.34377026557922 sec.\n"
     ]
    },
    {
     "name": "stderr",
     "output_type": "stream",
     "text": [
      "22/11/11 13:54:28 WARN DAGScheduler: Broadcasting large task binary with size 13.1 MiB\n",
      "22/11/11 13:54:29 WARN DAGScheduler: Broadcasting large task binary with size 13.1 MiB\n",
      "22/11/11 13:54:34 WARN DAGScheduler: Broadcasting large task binary with size 20.1 MiB\n",
      "22/11/11 13:54:36 WARN DAGScheduler: Broadcasting large task binary with size 20.1 MiB\n",
      "22/11/11 13:54:37 WARN DAGScheduler: Broadcasting large task binary with size 20.5 MiB\n",
      "22/11/11 13:54:45 WARN DAGScheduler: Broadcasting large task binary with size 13.1 MiB\n",
      "22/11/11 13:54:45 WARN DAGScheduler: Broadcasting large task binary with size 13.6 MiB\n",
      "22/11/11 13:54:46 WARN DAGScheduler: Broadcasting large task binary with size 13.6 MiB\n",
      "22/11/11 13:54:50 WARN DAGScheduler: Broadcasting large task binary with size 20.6 MiB\n",
      "22/11/11 13:54:51 WARN DAGScheduler: Broadcasting large task binary with size 20.6 MiB\n",
      "22/11/11 13:54:52 WARN DAGScheduler: Broadcasting large task binary with size 21.0 MiB\n",
      "22/11/11 13:54:59 WARN DAGScheduler: Broadcasting large task binary with size 20.4 MiB\n",
      "22/11/11 13:55:00 WARN DAGScheduler: Broadcasting large task binary with size 20.4 MiB\n",
      "22/11/11 13:55:01 WARN DAGScheduler: Broadcasting large task binary with size 20.4 MiB\n",
      "22/11/11 13:55:02 WARN DAGScheduler: Broadcasting large task binary with size 20.4 MiB\n",
      "22/11/11 13:55:03 WARN DAGScheduler: Broadcasting large task binary with size 20.4 MiB\n",
      "22/11/11 13:55:05 WARN DAGScheduler: Broadcasting large task binary with size 20.4 MiB\n",
      "22/11/11 13:55:10 WARN DAGScheduler: Broadcasting large task binary with size 20.9 MiB\n",
      "22/11/11 13:55:11 WARN DAGScheduler: Broadcasting large task binary with size 20.9 MiB\n",
      "22/11/11 13:55:11 WARN DAGScheduler: Broadcasting large task binary with size 20.9 MiB\n",
      "22/11/11 13:55:13 WARN DAGScheduler: Broadcasting large task binary with size 20.9 MiB\n",
      "22/11/11 13:55:14 WARN DAGScheduler: Broadcasting large task binary with size 20.9 MiB\n",
      "22/11/11 13:55:15 WARN DAGScheduler: Broadcasting large task binary with size 20.9 MiB\n",
      "22/11/11 13:55:32 WARN DAGScheduler: Broadcasting large task binary with size 12.9 MiB\n",
      "22/11/11 13:55:35 WARN DAGScheduler: Broadcasting large task binary with size 12.9 MiB\n",
      "22/11/11 13:55:37 WARN DAGScheduler: Broadcasting large task binary with size 12.9 MiB\n",
      "22/11/11 13:55:47 WARN DAGScheduler: Broadcasting large task binary with size 12.9 MiB\n",
      "22/11/11 13:55:48 WARN DAGScheduler: Broadcasting large task binary with size 12.9 MiB\n",
      "22/11/11 13:55:50 WARN DAGScheduler: Broadcasting large task binary with size 12.9 MiB\n",
      "                                                                                \r"
     ]
    },
    {
     "name": "stdout",
     "output_type": "stream",
     "text": [
      "Iteration 41 finished in 148.41237139701843 sec.\n"
     ]
    },
    {
     "name": "stderr",
     "output_type": "stream",
     "text": [
      "22/11/11 13:57:03 WARN DAGScheduler: Broadcasting large task binary with size 13.1 MiB\n",
      "22/11/11 13:57:04 WARN DAGScheduler: Broadcasting large task binary with size 13.1 MiB\n",
      "22/11/11 13:57:08 WARN DAGScheduler: Broadcasting large task binary with size 20.1 MiB\n",
      "22/11/11 13:57:10 WARN DAGScheduler: Broadcasting large task binary with size 20.2 MiB\n",
      "22/11/11 13:57:11 WARN DAGScheduler: Broadcasting large task binary with size 20.5 MiB\n",
      "22/11/11 13:57:19 WARN DAGScheduler: Broadcasting large task binary with size 13.6 MiB\n",
      "22/11/11 13:57:20 WARN DAGScheduler: Broadcasting large task binary with size 13.1 MiB\n",
      "22/11/11 13:57:20 WARN DAGScheduler: Broadcasting large task binary with size 13.6 MiB\n",
      "22/11/11 13:57:24 WARN DAGScheduler: Broadcasting large task binary with size 20.6 MiB\n",
      "22/11/11 13:57:25 WARN DAGScheduler: Broadcasting large task binary with size 20.6 MiB\n",
      "22/11/11 13:57:26 WARN DAGScheduler: Broadcasting large task binary with size 21.0 MiB\n",
      "22/11/11 13:57:33 WARN DAGScheduler: Broadcasting large task binary with size 20.4 MiB\n",
      "22/11/11 13:57:34 WARN DAGScheduler: Broadcasting large task binary with size 20.4 MiB\n",
      "22/11/11 13:57:35 WARN DAGScheduler: Broadcasting large task binary with size 20.4 MiB\n",
      "22/11/11 13:57:37 WARN DAGScheduler: Broadcasting large task binary with size 20.4 MiB\n",
      "22/11/11 13:57:38 WARN DAGScheduler: Broadcasting large task binary with size 20.4 MiB\n",
      "22/11/11 13:57:39 WARN DAGScheduler: Broadcasting large task binary with size 20.4 MiB\n",
      "22/11/11 13:57:45 WARN DAGScheduler: Broadcasting large task binary with size 20.9 MiB\n",
      "22/11/11 13:57:45 WARN DAGScheduler: Broadcasting large task binary with size 20.9 MiB\n",
      "22/11/11 13:57:46 WARN DAGScheduler: Broadcasting large task binary with size 20.9 MiB\n",
      "22/11/11 13:57:47 WARN DAGScheduler: Broadcasting large task binary with size 20.9 MiB\n",
      "22/11/11 13:57:48 WARN DAGScheduler: Broadcasting large task binary with size 20.9 MiB\n",
      "22/11/11 13:57:50 WARN DAGScheduler: Broadcasting large task binary with size 20.9 MiB\n",
      "22/11/11 13:58:07 WARN DAGScheduler: Broadcasting large task binary with size 12.9 MiB\n",
      "22/11/11 13:58:10 WARN DAGScheduler: Broadcasting large task binary with size 12.9 MiB\n",
      "22/11/11 13:58:12 WARN DAGScheduler: Broadcasting large task binary with size 12.9 MiB\n",
      "22/11/11 13:58:22 WARN DAGScheduler: Broadcasting large task binary with size 12.9 MiB\n",
      "22/11/11 13:58:24 WARN DAGScheduler: Broadcasting large task binary with size 12.9 MiB\n",
      "22/11/11 13:58:25 WARN DAGScheduler: Broadcasting large task binary with size 12.9 MiB\n",
      "                                                                                \r"
     ]
    },
    {
     "name": "stdout",
     "output_type": "stream",
     "text": [
      "Iteration 42 finished in 155.57101249694824 sec.\n"
     ]
    },
    {
     "name": "stderr",
     "output_type": "stream",
     "text": [
      "22/11/11 13:59:40 WARN DAGScheduler: Broadcasting large task binary with size 13.1 MiB\n",
      "22/11/11 13:59:41 WARN DAGScheduler: Broadcasting large task binary with size 13.1 MiB\n",
      "22/11/11 13:59:45 WARN DAGScheduler: Broadcasting large task binary with size 20.1 MiB\n",
      "22/11/11 13:59:47 WARN DAGScheduler: Broadcasting large task binary with size 20.1 MiB\n",
      "22/11/11 13:59:48 WARN DAGScheduler: Broadcasting large task binary with size 20.5 MiB\n",
      "22/11/11 13:59:57 WARN DAGScheduler: Broadcasting large task binary with size 13.6 MiB\n",
      "22/11/11 13:59:57 WARN DAGScheduler: Broadcasting large task binary with size 13.1 MiB\n",
      "22/11/11 13:59:58 WARN DAGScheduler: Broadcasting large task binary with size 13.6 MiB\n",
      "22/11/11 14:00:02 WARN DAGScheduler: Broadcasting large task binary with size 20.6 MiB\n",
      "22/11/11 14:00:03 WARN DAGScheduler: Broadcasting large task binary with size 20.6 MiB\n",
      "22/11/11 14:00:04 WARN DAGScheduler: Broadcasting large task binary with size 21.0 MiB\n",
      "22/11/11 14:00:11 WARN DAGScheduler: Broadcasting large task binary with size 20.4 MiB\n",
      "22/11/11 14:00:12 WARN DAGScheduler: Broadcasting large task binary with size 20.4 MiB\n",
      "22/11/11 14:00:12 WARN DAGScheduler: Broadcasting large task binary with size 20.4 MiB\n",
      "22/11/11 14:00:14 WARN DAGScheduler: Broadcasting large task binary with size 20.4 MiB\n",
      "22/11/11 14:00:15 WARN DAGScheduler: Broadcasting large task binary with size 20.4 MiB\n",
      "22/11/11 14:00:16 WARN DAGScheduler: Broadcasting large task binary with size 20.4 MiB\n",
      "22/11/11 14:00:22 WARN DAGScheduler: Broadcasting large task binary with size 20.9 MiB\n",
      "22/11/11 14:00:23 WARN DAGScheduler: Broadcasting large task binary with size 20.9 MiB\n",
      "22/11/11 14:00:24 WARN DAGScheduler: Broadcasting large task binary with size 20.9 MiB\n",
      "22/11/11 14:00:25 WARN DAGScheduler: Broadcasting large task binary with size 20.9 MiB\n",
      "22/11/11 14:00:26 WARN DAGScheduler: Broadcasting large task binary with size 20.9 MiB\n",
      "22/11/11 14:00:27 WARN DAGScheduler: Broadcasting large task binary with size 20.9 MiB\n",
      "22/11/11 14:00:44 WARN DAGScheduler: Broadcasting large task binary with size 12.9 MiB\n",
      "22/11/11 14:00:47 WARN DAGScheduler: Broadcasting large task binary with size 12.9 MiB\n",
      "22/11/11 14:00:49 WARN DAGScheduler: Broadcasting large task binary with size 12.9 MiB\n",
      "22/11/11 14:01:00 WARN DAGScheduler: Broadcasting large task binary with size 12.9 MiB\n",
      "22/11/11 14:01:01 WARN DAGScheduler: Broadcasting large task binary with size 12.9 MiB\n",
      "22/11/11 14:01:03 WARN DAGScheduler: Broadcasting large task binary with size 12.9 MiB\n",
      "                                                                                \r"
     ]
    },
    {
     "name": "stdout",
     "output_type": "stream",
     "text": [
      "Iteration 43 finished in 157.52404689788818 sec.\n"
     ]
    },
    {
     "name": "stderr",
     "output_type": "stream",
     "text": [
      "22/11/11 14:02:12 WARN DAGScheduler: Broadcasting large task binary with size 13.1 MiB\n",
      "22/11/11 14:02:13 WARN DAGScheduler: Broadcasting large task binary with size 13.1 MiB\n",
      "22/11/11 14:02:18 WARN DAGScheduler: Broadcasting large task binary with size 20.1 MiB\n",
      "22/11/11 14:02:20 WARN DAGScheduler: Broadcasting large task binary with size 20.2 MiB\n",
      "22/11/11 14:02:21 WARN DAGScheduler: Broadcasting large task binary with size 20.6 MiB\n",
      "22/11/11 14:02:29 WARN DAGScheduler: Broadcasting large task binary with size 13.1 MiB\n",
      "22/11/11 14:02:30 WARN DAGScheduler: Broadcasting large task binary with size 13.6 MiB\n",
      "22/11/11 14:02:30 WARN DAGScheduler: Broadcasting large task binary with size 13.6 MiB\n",
      "22/11/11 14:02:34 WARN DAGScheduler: Broadcasting large task binary with size 20.6 MiB\n",
      "22/11/11 14:02:35 WARN DAGScheduler: Broadcasting large task binary with size 20.6 MiB\n",
      "22/11/11 14:02:36 WARN DAGScheduler: Broadcasting large task binary with size 21.0 MiB\n",
      "22/11/11 14:02:43 WARN DAGScheduler: Broadcasting large task binary with size 20.4 MiB\n",
      "22/11/11 14:02:44 WARN DAGScheduler: Broadcasting large task binary with size 20.4 MiB\n",
      "22/11/11 14:02:45 WARN DAGScheduler: Broadcasting large task binary with size 20.4 MiB\n",
      "22/11/11 14:02:46 WARN DAGScheduler: Broadcasting large task binary with size 20.4 MiB\n",
      "22/11/11 14:02:47 WARN DAGScheduler: Broadcasting large task binary with size 20.4 MiB\n",
      "22/11/11 14:02:49 WARN DAGScheduler: Broadcasting large task binary with size 20.4 MiB\n",
      "22/11/11 14:02:54 WARN DAGScheduler: Broadcasting large task binary with size 20.9 MiB\n",
      "22/11/11 14:02:55 WARN DAGScheduler: Broadcasting large task binary with size 20.9 MiB\n",
      "22/11/11 14:02:56 WARN DAGScheduler: Broadcasting large task binary with size 20.9 MiB\n",
      "22/11/11 14:02:57 WARN DAGScheduler: Broadcasting large task binary with size 20.9 MiB\n",
      "22/11/11 14:02:58 WARN DAGScheduler: Broadcasting large task binary with size 20.9 MiB\n",
      "22/11/11 14:02:59 WARN DAGScheduler: Broadcasting large task binary with size 20.9 MiB\n",
      "22/11/11 14:03:18 WARN DAGScheduler: Broadcasting large task binary with size 12.9 MiB\n",
      "22/11/11 14:03:20 WARN DAGScheduler: Broadcasting large task binary with size 12.9 MiB\n",
      "22/11/11 14:03:22 WARN DAGScheduler: Broadcasting large task binary with size 12.9 MiB\n",
      "22/11/11 14:03:33 WARN DAGScheduler: Broadcasting large task binary with size 12.9 MiB\n",
      "22/11/11 14:03:34 WARN DAGScheduler: Broadcasting large task binary with size 12.9 MiB\n",
      "22/11/11 14:03:36 WARN DAGScheduler: Broadcasting large task binary with size 12.9 MiB\n",
      "                                                                                \r"
     ]
    },
    {
     "name": "stdout",
     "output_type": "stream",
     "text": [
      "Iteration 44 finished in 153.16862964630127 sec.\n"
     ]
    },
    {
     "name": "stderr",
     "output_type": "stream",
     "text": [
      "22/11/11 14:05:07 WARN DAGScheduler: Broadcasting large task binary with size 13.1 MiB\n",
      "22/11/11 14:05:08 WARN DAGScheduler: Broadcasting large task binary with size 13.1 MiB\n",
      "22/11/11 14:05:13 WARN DAGScheduler: Broadcasting large task binary with size 20.1 MiB\n",
      "22/11/11 14:05:15 WARN DAGScheduler: Broadcasting large task binary with size 20.2 MiB\n",
      "22/11/11 14:05:16 WARN DAGScheduler: Broadcasting large task binary with size 20.5 MiB\n",
      "22/11/11 14:05:26 WARN DAGScheduler: Broadcasting large task binary with size 13.6 MiB\n",
      "22/11/11 14:05:27 WARN DAGScheduler: Broadcasting large task binary with size 13.1 MiB\n",
      "22/11/11 14:05:30 WARN DAGScheduler: Broadcasting large task binary with size 13.6 MiB\n",
      "22/11/11 14:05:35 WARN DAGScheduler: Broadcasting large task binary with size 20.6 MiB\n",
      "22/11/11 14:05:36 WARN DAGScheduler: Broadcasting large task binary with size 20.6 MiB\n",
      "22/11/11 14:05:38 WARN DAGScheduler: Broadcasting large task binary with size 21.0 MiB\n",
      "22/11/11 14:05:46 WARN DAGScheduler: Broadcasting large task binary with size 20.4 MiB\n",
      "22/11/11 14:05:46 WARN DAGScheduler: Broadcasting large task binary with size 20.4 MiB\n",
      "22/11/11 14:05:47 WARN DAGScheduler: Broadcasting large task binary with size 20.4 MiB\n",
      "22/11/11 14:05:49 WARN DAGScheduler: Broadcasting large task binary with size 20.4 MiB\n",
      "22/11/11 14:05:50 WARN DAGScheduler: Broadcasting large task binary with size 20.4 MiB\n",
      "22/11/11 14:05:52 WARN DAGScheduler: Broadcasting large task binary with size 20.4 MiB\n",
      "22/11/11 14:05:59 WARN DAGScheduler: Broadcasting large task binary with size 20.9 MiB\n",
      "22/11/11 14:06:00 WARN DAGScheduler: Broadcasting large task binary with size 20.9 MiB\n",
      "22/11/11 14:06:01 WARN DAGScheduler: Broadcasting large task binary with size 20.9 MiB\n",
      "22/11/11 14:06:02 WARN DAGScheduler: Broadcasting large task binary with size 20.9 MiB\n",
      "22/11/11 14:06:04 WARN DAGScheduler: Broadcasting large task binary with size 20.9 MiB\n",
      "22/11/11 14:06:05 WARN DAGScheduler: Broadcasting large task binary with size 20.9 MiB\n",
      "22/11/11 14:06:24 WARN DAGScheduler: Broadcasting large task binary with size 12.9 MiB\n",
      "22/11/11 14:06:26 WARN DAGScheduler: Broadcasting large task binary with size 12.9 MiB\n",
      "22/11/11 14:06:28 WARN DAGScheduler: Broadcasting large task binary with size 12.9 MiB\n",
      "22/11/11 14:06:39 WARN DAGScheduler: Broadcasting large task binary with size 12.9 MiB\n",
      "22/11/11 14:06:40 WARN DAGScheduler: Broadcasting large task binary with size 12.9 MiB\n",
      "22/11/11 14:06:42 WARN DAGScheduler: Broadcasting large task binary with size 12.9 MiB\n",
      "                                                                                \r"
     ]
    },
    {
     "name": "stdout",
     "output_type": "stream",
     "text": [
      "Iteration 45 finished in 186.06139636039734 sec.\n"
     ]
    },
    {
     "name": "stderr",
     "output_type": "stream",
     "text": [
      "22/11/11 14:07:58 WARN DAGScheduler: Broadcasting large task binary with size 13.1 MiB\n",
      "22/11/11 14:07:59 WARN DAGScheduler: Broadcasting large task binary with size 13.1 MiB\n",
      "22/11/11 14:08:04 WARN DAGScheduler: Broadcasting large task binary with size 20.1 MiB\n",
      "22/11/11 14:08:05 WARN DAGScheduler: Broadcasting large task binary with size 20.2 MiB\n",
      "22/11/11 14:08:07 WARN DAGScheduler: Broadcasting large task binary with size 20.5 MiB\n",
      "22/11/11 14:08:16 WARN DAGScheduler: Broadcasting large task binary with size 13.6 MiB\n",
      "22/11/11 14:08:16 WARN DAGScheduler: Broadcasting large task binary with size 13.1 MiB\n",
      "22/11/11 14:08:17 WARN DAGScheduler: Broadcasting large task binary with size 13.6 MiB\n",
      "22/11/11 14:08:20 WARN DAGScheduler: Broadcasting large task binary with size 20.6 MiB\n",
      "22/11/11 14:08:21 WARN DAGScheduler: Broadcasting large task binary with size 20.6 MiB\n",
      "22/11/11 14:08:23 WARN DAGScheduler: Broadcasting large task binary with size 21.0 MiB\n",
      "22/11/11 14:08:30 WARN DAGScheduler: Broadcasting large task binary with size 20.4 MiB\n",
      "22/11/11 14:08:30 WARN DAGScheduler: Broadcasting large task binary with size 20.4 MiB\n",
      "22/11/11 14:08:31 WARN DAGScheduler: Broadcasting large task binary with size 20.4 MiB\n",
      "22/11/11 14:08:33 WARN DAGScheduler: Broadcasting large task binary with size 20.4 MiB\n",
      "22/11/11 14:08:34 WARN DAGScheduler: Broadcasting large task binary with size 20.4 MiB\n",
      "22/11/11 14:08:35 WARN DAGScheduler: Broadcasting large task binary with size 20.4 MiB\n",
      "22/11/11 14:08:41 WARN DAGScheduler: Broadcasting large task binary with size 20.9 MiB\n",
      "22/11/11 14:08:41 WARN DAGScheduler: Broadcasting large task binary with size 20.9 MiB\n",
      "22/11/11 14:08:42 WARN DAGScheduler: Broadcasting large task binary with size 20.9 MiB\n",
      "22/11/11 14:08:43 WARN DAGScheduler: Broadcasting large task binary with size 20.9 MiB\n",
      "22/11/11 14:08:44 WARN DAGScheduler: Broadcasting large task binary with size 20.9 MiB\n",
      "22/11/11 14:08:45 WARN DAGScheduler: Broadcasting large task binary with size 20.9 MiB\n",
      "22/11/11 14:09:06 WARN DAGScheduler: Broadcasting large task binary with size 12.9 MiB\n",
      "22/11/11 14:09:08 WARN DAGScheduler: Broadcasting large task binary with size 12.9 MiB\n",
      "22/11/11 14:09:10 WARN DAGScheduler: Broadcasting large task binary with size 12.9 MiB\n",
      "22/11/11 14:09:20 WARN DAGScheduler: Broadcasting large task binary with size 12.9 MiB\n",
      "22/11/11 14:09:22 WARN DAGScheduler: Broadcasting large task binary with size 12.9 MiB\n",
      "22/11/11 14:09:23 WARN DAGScheduler: Broadcasting large task binary with size 12.9 MiB\n",
      "                                                                                \r"
     ]
    },
    {
     "name": "stdout",
     "output_type": "stream",
     "text": [
      "Iteration 46 finished in 161.2101411819458 sec.\n"
     ]
    },
    {
     "name": "stderr",
     "output_type": "stream",
     "text": [
      "22/11/11 14:10:38 WARN DAGScheduler: Broadcasting large task binary with size 13.1 MiB\n",
      "22/11/11 14:10:39 WARN DAGScheduler: Broadcasting large task binary with size 13.1 MiB\n",
      "22/11/11 14:10:43 WARN DAGScheduler: Broadcasting large task binary with size 20.1 MiB\n",
      "22/11/11 14:10:44 WARN DAGScheduler: Broadcasting large task binary with size 20.2 MiB\n",
      "22/11/11 14:10:46 WARN DAGScheduler: Broadcasting large task binary with size 20.5 MiB\n",
      "22/11/11 14:10:54 WARN DAGScheduler: Broadcasting large task binary with size 13.6 MiB\n",
      "22/11/11 14:10:55 WARN DAGScheduler: Broadcasting large task binary with size 13.1 MiB\n",
      "22/11/11 14:10:56 WARN DAGScheduler: Broadcasting large task binary with size 13.6 MiB\n",
      "22/11/11 14:10:59 WARN DAGScheduler: Broadcasting large task binary with size 20.6 MiB\n",
      "22/11/11 14:11:00 WARN DAGScheduler: Broadcasting large task binary with size 20.6 MiB\n",
      "22/11/11 14:11:01 WARN DAGScheduler: Broadcasting large task binary with size 21.0 MiB\n",
      "22/11/11 14:11:08 WARN DAGScheduler: Broadcasting large task binary with size 20.4 MiB\n",
      "22/11/11 14:11:09 WARN DAGScheduler: Broadcasting large task binary with size 20.4 MiB\n",
      "22/11/11 14:11:10 WARN DAGScheduler: Broadcasting large task binary with size 20.4 MiB\n",
      "22/11/11 14:11:12 WARN DAGScheduler: Broadcasting large task binary with size 20.4 MiB\n",
      "22/11/11 14:11:13 WARN DAGScheduler: Broadcasting large task binary with size 20.4 MiB\n",
      "22/11/11 14:11:14 WARN DAGScheduler: Broadcasting large task binary with size 20.4 MiB\n",
      "22/11/11 14:11:20 WARN DAGScheduler: Broadcasting large task binary with size 20.9 MiB\n",
      "22/11/11 14:11:21 WARN DAGScheduler: Broadcasting large task binary with size 20.9 MiB\n",
      "22/11/11 14:11:21 WARN DAGScheduler: Broadcasting large task binary with size 20.9 MiB\n",
      "22/11/11 14:11:22 WARN DAGScheduler: Broadcasting large task binary with size 20.9 MiB\n",
      "22/11/11 14:11:24 WARN DAGScheduler: Broadcasting large task binary with size 20.9 MiB\n",
      "22/11/11 14:11:25 WARN DAGScheduler: Broadcasting large task binary with size 20.9 MiB\n",
      "22/11/11 14:11:45 WARN DAGScheduler: Broadcasting large task binary with size 12.9 MiB\n",
      "22/11/11 14:11:48 WARN DAGScheduler: Broadcasting large task binary with size 12.9 MiB\n",
      "22/11/11 14:11:50 WARN DAGScheduler: Broadcasting large task binary with size 12.9 MiB\n",
      "22/11/11 14:12:01 WARN DAGScheduler: Broadcasting large task binary with size 12.9 MiB\n",
      "22/11/11 14:12:02 WARN DAGScheduler: Broadcasting large task binary with size 12.9 MiB\n",
      "22/11/11 14:12:04 WARN DAGScheduler: Broadcasting large task binary with size 12.9 MiB\n",
      "                                                                                \r"
     ]
    },
    {
     "name": "stdout",
     "output_type": "stream",
     "text": [
      "Iteration 47 finished in 160.89194869995117 sec.\n"
     ]
    },
    {
     "name": "stderr",
     "output_type": "stream",
     "text": [
      "22/11/11 14:13:15 WARN DAGScheduler: Broadcasting large task binary with size 13.1 MiB\n",
      "22/11/11 14:13:16 WARN DAGScheduler: Broadcasting large task binary with size 13.1 MiB\n",
      "22/11/11 14:13:21 WARN DAGScheduler: Broadcasting large task binary with size 20.1 MiB\n",
      "22/11/11 14:13:22 WARN DAGScheduler: Broadcasting large task binary with size 20.2 MiB\n",
      "22/11/11 14:13:24 WARN DAGScheduler: Broadcasting large task binary with size 20.5 MiB\n",
      "22/11/11 14:13:32 WARN DAGScheduler: Broadcasting large task binary with size 13.6 MiB\n",
      "22/11/11 14:13:32 WARN DAGScheduler: Broadcasting large task binary with size 13.1 MiB\n",
      "22/11/11 14:13:33 WARN DAGScheduler: Broadcasting large task binary with size 13.6 MiB\n",
      "22/11/11 14:13:36 WARN DAGScheduler: Broadcasting large task binary with size 20.6 MiB\n",
      "22/11/11 14:13:38 WARN DAGScheduler: Broadcasting large task binary with size 20.6 MiB\n",
      "22/11/11 14:13:39 WARN DAGScheduler: Broadcasting large task binary with size 21.0 MiB\n",
      "22/11/11 14:13:46 WARN DAGScheduler: Broadcasting large task binary with size 20.4 MiB\n",
      "22/11/11 14:13:46 WARN DAGScheduler: Broadcasting large task binary with size 20.4 MiB\n",
      "22/11/11 14:13:48 WARN DAGScheduler: Broadcasting large task binary with size 20.4 MiB\n",
      "22/11/11 14:13:49 WARN DAGScheduler: Broadcasting large task binary with size 20.4 MiB\n",
      "22/11/11 14:13:51 WARN DAGScheduler: Broadcasting large task binary with size 20.4 MiB\n",
      "22/11/11 14:13:52 WARN DAGScheduler: Broadcasting large task binary with size 20.4 MiB\n",
      "22/11/11 14:13:57 WARN DAGScheduler: Broadcasting large task binary with size 20.9 MiB\n",
      "22/11/11 14:13:58 WARN DAGScheduler: Broadcasting large task binary with size 20.9 MiB\n",
      "22/11/11 14:13:59 WARN DAGScheduler: Broadcasting large task binary with size 20.9 MiB\n",
      "22/11/11 14:14:00 WARN DAGScheduler: Broadcasting large task binary with size 20.9 MiB\n",
      "22/11/11 14:14:01 WARN DAGScheduler: Broadcasting large task binary with size 20.9 MiB\n",
      "22/11/11 14:14:02 WARN DAGScheduler: Broadcasting large task binary with size 20.9 MiB\n",
      "22/11/11 14:14:21 WARN DAGScheduler: Broadcasting large task binary with size 12.9 MiB\n",
      "22/11/11 14:14:24 WARN DAGScheduler: Broadcasting large task binary with size 12.9 MiB\n",
      "22/11/11 14:14:26 WARN DAGScheduler: Broadcasting large task binary with size 12.9 MiB\n",
      "22/11/11 14:14:36 WARN DAGScheduler: Broadcasting large task binary with size 12.9 MiB\n",
      "22/11/11 14:14:38 WARN DAGScheduler: Broadcasting large task binary with size 12.9 MiB\n",
      "22/11/11 14:14:39 WARN DAGScheduler: Broadcasting large task binary with size 12.9 MiB\n",
      "                                                                                \r"
     ]
    },
    {
     "name": "stdout",
     "output_type": "stream",
     "text": [
      "Iteration 48 finished in 155.4462730884552 sec.\n"
     ]
    },
    {
     "name": "stderr",
     "output_type": "stream",
     "text": [
      "22/11/11 14:15:46 WARN DAGScheduler: Broadcasting large task binary with size 13.1 MiB\n",
      "22/11/11 14:15:47 WARN DAGScheduler: Broadcasting large task binary with size 13.1 MiB\n",
      "22/11/11 14:15:52 WARN DAGScheduler: Broadcasting large task binary with size 20.1 MiB\n",
      "22/11/11 14:15:53 WARN DAGScheduler: Broadcasting large task binary with size 20.2 MiB\n",
      "22/11/11 14:15:55 WARN DAGScheduler: Broadcasting large task binary with size 20.5 MiB\n",
      "22/11/11 14:16:02 WARN DAGScheduler: Broadcasting large task binary with size 13.6 MiB\n",
      "22/11/11 14:16:03 WARN DAGScheduler: Broadcasting large task binary with size 13.1 MiB\n",
      "22/11/11 14:16:04 WARN DAGScheduler: Broadcasting large task binary with size 13.6 MiB\n",
      "22/11/11 14:16:07 WARN DAGScheduler: Broadcasting large task binary with size 20.6 MiB\n",
      "22/11/11 14:16:08 WARN DAGScheduler: Broadcasting large task binary with size 20.6 MiB\n",
      "22/11/11 14:16:10 WARN DAGScheduler: Broadcasting large task binary with size 21.0 MiB\n",
      "22/11/11 14:16:17 WARN DAGScheduler: Broadcasting large task binary with size 20.4 MiB\n",
      "22/11/11 14:16:17 WARN DAGScheduler: Broadcasting large task binary with size 20.4 MiB\n",
      "22/11/11 14:16:19 WARN DAGScheduler: Broadcasting large task binary with size 20.4 MiB\n",
      "22/11/11 14:16:20 WARN DAGScheduler: Broadcasting large task binary with size 20.4 MiB\n",
      "22/11/11 14:16:22 WARN DAGScheduler: Broadcasting large task binary with size 20.4 MiB\n",
      "22/11/11 14:16:23 WARN DAGScheduler: Broadcasting large task binary with size 20.4 MiB\n",
      "22/11/11 14:16:28 WARN DAGScheduler: Broadcasting large task binary with size 20.9 MiB\n",
      "22/11/11 14:16:29 WARN DAGScheduler: Broadcasting large task binary with size 20.9 MiB\n",
      "22/11/11 14:16:30 WARN DAGScheduler: Broadcasting large task binary with size 20.9 MiB\n",
      "22/11/11 14:16:31 WARN DAGScheduler: Broadcasting large task binary with size 20.9 MiB\n",
      "22/11/11 14:16:32 WARN DAGScheduler: Broadcasting large task binary with size 20.9 MiB\n",
      "22/11/11 14:16:34 WARN DAGScheduler: Broadcasting large task binary with size 20.9 MiB\n",
      "22/11/11 14:16:54 WARN DAGScheduler: Broadcasting large task binary with size 12.9 MiB\n",
      "22/11/11 14:16:56 WARN DAGScheduler: Broadcasting large task binary with size 12.9 MiB\n",
      "22/11/11 14:16:58 WARN DAGScheduler: Broadcasting large task binary with size 12.9 MiB\n",
      "22/11/11 14:17:09 WARN DAGScheduler: Broadcasting large task binary with size 12.9 MiB\n",
      "22/11/11 14:17:11 WARN DAGScheduler: Broadcasting large task binary with size 12.9 MiB\n",
      "22/11/11 14:17:12 WARN DAGScheduler: Broadcasting large task binary with size 12.9 MiB\n",
      "                                                                                \r"
     ]
    },
    {
     "name": "stdout",
     "output_type": "stream",
     "text": [
      "Iteration 49 finished in 152.7877218723297 sec.\n"
     ]
    },
    {
     "name": "stderr",
     "output_type": "stream",
     "text": [
      "22/11/11 14:18:23 WARN DAGScheduler: Broadcasting large task binary with size 13.1 MiB\n",
      "22/11/11 14:18:24 WARN DAGScheduler: Broadcasting large task binary with size 13.1 MiB\n",
      "22/11/11 14:18:28 WARN DAGScheduler: Broadcasting large task binary with size 20.1 MiB\n",
      "22/11/11 14:18:30 WARN DAGScheduler: Broadcasting large task binary with size 20.2 MiB\n",
      "22/11/11 14:18:31 WARN DAGScheduler: Broadcasting large task binary with size 20.6 MiB\n",
      "22/11/11 14:18:40 WARN DAGScheduler: Broadcasting large task binary with size 13.6 MiB\n",
      "22/11/11 14:18:40 WARN DAGScheduler: Broadcasting large task binary with size 13.1 MiB\n",
      "22/11/11 14:18:41 WARN DAGScheduler: Broadcasting large task binary with size 13.6 MiB\n",
      "22/11/11 14:18:44 WARN DAGScheduler: Broadcasting large task binary with size 20.6 MiB\n",
      "22/11/11 14:18:45 WARN DAGScheduler: Broadcasting large task binary with size 20.6 MiB\n",
      "22/11/11 14:18:47 WARN DAGScheduler: Broadcasting large task binary with size 21.0 MiB\n",
      "22/11/11 14:18:54 WARN DAGScheduler: Broadcasting large task binary with size 20.4 MiB\n",
      "22/11/11 14:18:54 WARN DAGScheduler: Broadcasting large task binary with size 20.4 MiB\n",
      "22/11/11 14:18:55 WARN DAGScheduler: Broadcasting large task binary with size 20.4 MiB\n",
      "22/11/11 14:18:57 WARN DAGScheduler: Broadcasting large task binary with size 20.4 MiB\n",
      "22/11/11 14:18:58 WARN DAGScheduler: Broadcasting large task binary with size 20.4 MiB\n",
      "22/11/11 14:18:59 WARN DAGScheduler: Broadcasting large task binary with size 20.4 MiB\n",
      "22/11/11 14:19:04 WARN DAGScheduler: Broadcasting large task binary with size 20.9 MiB\n",
      "22/11/11 14:19:05 WARN DAGScheduler: Broadcasting large task binary with size 20.9 MiB\n",
      "22/11/11 14:19:06 WARN DAGScheduler: Broadcasting large task binary with size 20.9 MiB\n",
      "22/11/11 14:19:07 WARN DAGScheduler: Broadcasting large task binary with size 20.9 MiB\n",
      "22/11/11 14:19:08 WARN DAGScheduler: Broadcasting large task binary with size 20.9 MiB\n",
      "22/11/11 14:19:09 WARN DAGScheduler: Broadcasting large task binary with size 20.9 MiB\n",
      "22/11/11 14:19:30 WARN DAGScheduler: Broadcasting large task binary with size 12.9 MiB\n",
      "22/11/11 14:19:32 WARN DAGScheduler: Broadcasting large task binary with size 12.9 MiB\n",
      "22/11/11 14:19:34 WARN DAGScheduler: Broadcasting large task binary with size 12.9 MiB\n",
      "22/11/11 14:19:45 WARN DAGScheduler: Broadcasting large task binary with size 12.9 MiB\n",
      "22/11/11 14:19:47 WARN DAGScheduler: Broadcasting large task binary with size 12.9 MiB\n",
      "22/11/11 14:19:48 WARN DAGScheduler: Broadcasting large task binary with size 12.9 MiB\n",
      "                                                                                \r"
     ]
    },
    {
     "name": "stdout",
     "output_type": "stream",
     "text": [
      "Iteration 50 finished in 156.307475566864 sec.\n"
     ]
    },
    {
     "name": "stderr",
     "output_type": "stream",
     "text": [
      "22/11/11 14:21:02 WARN DAGScheduler: Broadcasting large task binary with size 13.1 MiB\n",
      "22/11/11 14:21:03 WARN DAGScheduler: Broadcasting large task binary with size 13.1 MiB\n",
      "22/11/11 14:21:08 WARN DAGScheduler: Broadcasting large task binary with size 20.1 MiB\n",
      "22/11/11 14:21:10 WARN DAGScheduler: Broadcasting large task binary with size 20.2 MiB\n",
      "22/11/11 14:21:11 WARN DAGScheduler: Broadcasting large task binary with size 20.5 MiB\n",
      "22/11/11 14:21:19 WARN DAGScheduler: Broadcasting large task binary with size 13.1 MiB\n",
      "22/11/11 14:21:20 WARN DAGScheduler: Broadcasting large task binary with size 13.6 MiB\n",
      "22/11/11 14:21:20 WARN DAGScheduler: Broadcasting large task binary with size 13.6 MiB\n",
      "22/11/11 14:21:24 WARN DAGScheduler: Broadcasting large task binary with size 20.6 MiB\n",
      "22/11/11 14:21:25 WARN DAGScheduler: Broadcasting large task binary with size 20.6 MiB\n",
      "22/11/11 14:21:26 WARN DAGScheduler: Broadcasting large task binary with size 21.0 MiB\n",
      "22/11/11 14:21:33 WARN DAGScheduler: Broadcasting large task binary with size 20.4 MiB\n",
      "22/11/11 14:21:34 WARN DAGScheduler: Broadcasting large task binary with size 20.4 MiB\n",
      "22/11/11 14:21:35 WARN DAGScheduler: Broadcasting large task binary with size 20.4 MiB\n",
      "22/11/11 14:21:36 WARN DAGScheduler: Broadcasting large task binary with size 20.4 MiB\n",
      "22/11/11 14:21:38 WARN DAGScheduler: Broadcasting large task binary with size 20.4 MiB\n",
      "22/11/11 14:21:39 WARN DAGScheduler: Broadcasting large task binary with size 20.4 MiB\n",
      "22/11/11 14:21:44 WARN DAGScheduler: Broadcasting large task binary with size 20.9 MiB\n",
      "22/11/11 14:21:45 WARN DAGScheduler: Broadcasting large task binary with size 20.9 MiB\n",
      "22/11/11 14:21:46 WARN DAGScheduler: Broadcasting large task binary with size 20.9 MiB\n",
      "22/11/11 14:21:47 WARN DAGScheduler: Broadcasting large task binary with size 20.9 MiB\n",
      "22/11/11 14:21:48 WARN DAGScheduler: Broadcasting large task binary with size 20.9 MiB\n",
      "22/11/11 14:21:49 WARN DAGScheduler: Broadcasting large task binary with size 20.9 MiB\n",
      "22/11/11 14:22:10 WARN DAGScheduler: Broadcasting large task binary with size 12.9 MiB\n",
      "22/11/11 14:22:12 WARN DAGScheduler: Broadcasting large task binary with size 12.9 MiB\n",
      "22/11/11 14:22:14 WARN DAGScheduler: Broadcasting large task binary with size 12.9 MiB\n",
      "22/11/11 14:22:25 WARN DAGScheduler: Broadcasting large task binary with size 12.9 MiB\n",
      "22/11/11 14:22:27 WARN DAGScheduler: Broadcasting large task binary with size 12.9 MiB\n",
      "22/11/11 14:22:28 WARN DAGScheduler: Broadcasting large task binary with size 12.9 MiB\n"
     ]
    },
    {
     "name": "stdout",
     "output_type": "stream",
     "text": [
      "Iteration 51 finished in 159.75158166885376 sec.\n"
     ]
    },
    {
     "name": "stderr",
     "output_type": "stream",
     "text": [
      "22/11/11 14:23:42 WARN DAGScheduler: Broadcasting large task binary with size 13.1 MiB\n",
      "22/11/11 14:23:44 WARN DAGScheduler: Broadcasting large task binary with size 13.1 MiB\n",
      "22/11/11 14:23:49 WARN DAGScheduler: Broadcasting large task binary with size 20.1 MiB\n",
      "22/11/11 14:23:50 WARN DAGScheduler: Broadcasting large task binary with size 20.1 MiB\n",
      "22/11/11 14:23:52 WARN DAGScheduler: Broadcasting large task binary with size 20.5 MiB\n",
      "22/11/11 14:24:02 WARN DAGScheduler: Broadcasting large task binary with size 13.6 MiB\n",
      "22/11/11 14:24:03 WARN DAGScheduler: Broadcasting large task binary with size 13.1 MiB\n",
      "22/11/11 14:24:03 WARN DAGScheduler: Broadcasting large task binary with size 13.6 MiB\n",
      "22/11/11 14:24:08 WARN DAGScheduler: Broadcasting large task binary with size 20.6 MiB\n",
      "22/11/11 14:24:10 WARN DAGScheduler: Broadcasting large task binary with size 20.6 MiB\n",
      "22/11/11 14:24:13 WARN DAGScheduler: Broadcasting large task binary with size 21.0 MiB\n",
      "22/11/11 14:24:20 WARN DAGScheduler: Broadcasting large task binary with size 20.4 MiB\n",
      "22/11/11 14:24:21 WARN DAGScheduler: Broadcasting large task binary with size 20.4 MiB\n",
      "22/11/11 14:24:22 WARN DAGScheduler: Broadcasting large task binary with size 20.4 MiB\n",
      "22/11/11 14:24:24 WARN DAGScheduler: Broadcasting large task binary with size 20.4 MiB\n",
      "22/11/11 14:24:25 WARN DAGScheduler: Broadcasting large task binary with size 20.4 MiB\n",
      "22/11/11 14:24:26 WARN DAGScheduler: Broadcasting large task binary with size 20.4 MiB\n",
      "22/11/11 14:24:32 WARN DAGScheduler: Broadcasting large task binary with size 20.9 MiB\n",
      "22/11/11 14:24:32 WARN DAGScheduler: Broadcasting large task binary with size 20.9 MiB\n",
      "22/11/11 14:24:33 WARN DAGScheduler: Broadcasting large task binary with size 20.9 MiB\n",
      "22/11/11 14:24:34 WARN DAGScheduler: Broadcasting large task binary with size 20.9 MiB\n",
      "22/11/11 14:24:35 WARN DAGScheduler: Broadcasting large task binary with size 20.9 MiB\n",
      "22/11/11 14:24:37 WARN DAGScheduler: Broadcasting large task binary with size 20.9 MiB\n",
      "22/11/11 14:24:58 WARN DAGScheduler: Broadcasting large task binary with size 12.9 MiB\n",
      "22/11/11 14:25:00 WARN DAGScheduler: Broadcasting large task binary with size 12.9 MiB\n",
      "22/11/11 14:25:03 WARN DAGScheduler: Broadcasting large task binary with size 12.9 MiB\n",
      "22/11/11 14:25:14 WARN DAGScheduler: Broadcasting large task binary with size 12.9 MiB\n",
      "22/11/11 14:25:15 WARN DAGScheduler: Broadcasting large task binary with size 12.9 MiB\n",
      "22/11/11 14:25:17 WARN DAGScheduler: Broadcasting large task binary with size 12.9 MiB\n",
      "                                                                                \r"
     ]
    },
    {
     "name": "stdout",
     "output_type": "stream",
     "text": [
      "Iteration 52 finished in 168.93642449378967 sec.\n"
     ]
    },
    {
     "name": "stderr",
     "output_type": "stream",
     "text": [
      "22/11/11 14:26:39 WARN DAGScheduler: Broadcasting large task binary with size 13.1 MiB\n",
      "22/11/11 14:26:41 WARN DAGScheduler: Broadcasting large task binary with size 13.1 MiB\n",
      "22/11/11 14:26:48 WARN DAGScheduler: Broadcasting large task binary with size 20.1 MiB\n",
      "22/11/11 14:26:50 WARN DAGScheduler: Broadcasting large task binary with size 20.1 MiB\n",
      "22/11/11 14:26:52 WARN DAGScheduler: Broadcasting large task binary with size 20.5 MiB\n",
      "22/11/11 14:27:01 WARN DAGScheduler: Broadcasting large task binary with size 13.6 MiB\n",
      "22/11/11 14:27:01 WARN DAGScheduler: Broadcasting large task binary with size 13.1 MiB\n",
      "22/11/11 14:27:02 WARN DAGScheduler: Broadcasting large task binary with size 13.6 MiB\n",
      "22/11/11 14:27:06 WARN DAGScheduler: Broadcasting large task binary with size 20.6 MiB\n",
      "22/11/11 14:27:07 WARN DAGScheduler: Broadcasting large task binary with size 20.6 MiB\n",
      "22/11/11 14:27:08 WARN DAGScheduler: Broadcasting large task binary with size 21.0 MiB\n",
      "22/11/11 14:27:16 WARN DAGScheduler: Broadcasting large task binary with size 20.4 MiB\n",
      "22/11/11 14:27:16 WARN DAGScheduler: Broadcasting large task binary with size 20.4 MiB\n",
      "22/11/11 14:27:18 WARN DAGScheduler: Broadcasting large task binary with size 20.4 MiB\n",
      "22/11/11 14:27:19 WARN DAGScheduler: Broadcasting large task binary with size 20.4 MiB\n",
      "22/11/11 14:27:21 WARN DAGScheduler: Broadcasting large task binary with size 20.4 MiB\n",
      "22/11/11 14:27:22 WARN DAGScheduler: Broadcasting large task binary with size 20.4 MiB\n",
      "22/11/11 14:27:28 WARN DAGScheduler: Broadcasting large task binary with size 20.9 MiB\n",
      "22/11/11 14:27:28 WARN DAGScheduler: Broadcasting large task binary with size 20.9 MiB\n",
      "22/11/11 14:27:30 WARN DAGScheduler: Broadcasting large task binary with size 20.9 MiB\n",
      "22/11/11 14:27:31 WARN DAGScheduler: Broadcasting large task binary with size 20.9 MiB\n",
      "22/11/11 14:27:32 WARN DAGScheduler: Broadcasting large task binary with size 20.9 MiB\n",
      "22/11/11 14:27:34 WARN DAGScheduler: Broadcasting large task binary with size 20.9 MiB\n",
      "22/11/11 14:27:55 WARN DAGScheduler: Broadcasting large task binary with size 12.9 MiB\n",
      "22/11/11 14:27:58 WARN DAGScheduler: Broadcasting large task binary with size 12.9 MiB\n",
      "22/11/11 14:28:00 WARN DAGScheduler: Broadcasting large task binary with size 12.9 MiB\n",
      "22/11/11 14:28:11 WARN DAGScheduler: Broadcasting large task binary with size 12.9 MiB\n",
      "22/11/11 14:28:13 WARN DAGScheduler: Broadcasting large task binary with size 12.9 MiB\n",
      "22/11/11 14:28:15 WARN DAGScheduler: Broadcasting large task binary with size 12.9 MiB\n",
      "                                                                                \r"
     ]
    },
    {
     "name": "stdout",
     "output_type": "stream",
     "text": [
      "Iteration 53 finished in 177.73666501045227 sec.\n"
     ]
    },
    {
     "name": "stderr",
     "output_type": "stream",
     "text": [
      "22/11/11 14:29:29 WARN DAGScheduler: Broadcasting large task binary with size 13.1 MiB\n",
      "22/11/11 14:29:30 WARN DAGScheduler: Broadcasting large task binary with size 13.1 MiB\n",
      "22/11/11 14:29:35 WARN DAGScheduler: Broadcasting large task binary with size 20.1 MiB\n",
      "22/11/11 14:29:36 WARN DAGScheduler: Broadcasting large task binary with size 20.2 MiB\n",
      "22/11/11 14:29:38 WARN DAGScheduler: Broadcasting large task binary with size 20.5 MiB\n",
      "22/11/11 14:29:47 WARN DAGScheduler: Broadcasting large task binary with size 13.6 MiB\n",
      "22/11/11 14:29:47 WARN DAGScheduler: Broadcasting large task binary with size 13.1 MiB\n",
      "22/11/11 14:29:48 WARN DAGScheduler: Broadcasting large task binary with size 13.6 MiB\n",
      "22/11/11 14:29:51 WARN DAGScheduler: Broadcasting large task binary with size 20.6 MiB\n",
      "22/11/11 14:29:52 WARN DAGScheduler: Broadcasting large task binary with size 20.6 MiB\n",
      "22/11/11 14:29:54 WARN DAGScheduler: Broadcasting large task binary with size 21.0 MiB\n",
      "22/11/11 14:30:01 WARN DAGScheduler: Broadcasting large task binary with size 20.4 MiB\n",
      "22/11/11 14:30:02 WARN DAGScheduler: Broadcasting large task binary with size 20.4 MiB\n",
      "22/11/11 14:30:03 WARN DAGScheduler: Broadcasting large task binary with size 20.4 MiB\n",
      "22/11/11 14:30:04 WARN DAGScheduler: Broadcasting large task binary with size 20.4 MiB\n",
      "22/11/11 14:30:06 WARN DAGScheduler: Broadcasting large task binary with size 20.4 MiB\n",
      "22/11/11 14:30:07 WARN DAGScheduler: Broadcasting large task binary with size 20.4 MiB\n",
      "22/11/11 14:30:13 WARN DAGScheduler: Broadcasting large task binary with size 20.9 MiB\n",
      "22/11/11 14:30:13 WARN DAGScheduler: Broadcasting large task binary with size 20.9 MiB\n",
      "22/11/11 14:30:14 WARN DAGScheduler: Broadcasting large task binary with size 20.9 MiB\n",
      "22/11/11 14:30:15 WARN DAGScheduler: Broadcasting large task binary with size 20.9 MiB\n",
      "22/11/11 14:30:16 WARN DAGScheduler: Broadcasting large task binary with size 20.9 MiB\n",
      "22/11/11 14:30:18 WARN DAGScheduler: Broadcasting large task binary with size 20.9 MiB\n",
      "22/11/11 14:30:39 WARN DAGScheduler: Broadcasting large task binary with size 12.9 MiB\n",
      "22/11/11 14:30:41 WARN DAGScheduler: Broadcasting large task binary with size 12.9 MiB\n",
      "22/11/11 14:30:43 WARN DAGScheduler: Broadcasting large task binary with size 12.9 MiB\n",
      "22/11/11 14:30:55 WARN DAGScheduler: Broadcasting large task binary with size 12.9 MiB\n",
      "22/11/11 14:30:57 WARN DAGScheduler: Broadcasting large task binary with size 12.9 MiB\n",
      "22/11/11 14:30:58 WARN DAGScheduler: Broadcasting large task binary with size 12.9 MiB\n",
      "                                                                                \r"
     ]
    },
    {
     "name": "stdout",
     "output_type": "stream",
     "text": [
      "Iteration 54 finished in 163.6070830821991 sec.\n"
     ]
    },
    {
     "name": "stderr",
     "output_type": "stream",
     "text": [
      "22/11/11 14:32:14 WARN DAGScheduler: Broadcasting large task binary with size 13.1 MiB\n",
      "22/11/11 14:32:15 WARN DAGScheduler: Broadcasting large task binary with size 13.1 MiB\n",
      "22/11/11 14:32:19 WARN DAGScheduler: Broadcasting large task binary with size 20.1 MiB\n",
      "22/11/11 14:32:20 WARN DAGScheduler: Broadcasting large task binary with size 20.1 MiB\n",
      "22/11/11 14:32:22 WARN DAGScheduler: Broadcasting large task binary with size 20.5 MiB\n",
      "22/11/11 14:32:30 WARN DAGScheduler: Broadcasting large task binary with size 13.6 MiB\n",
      "22/11/11 14:32:31 WARN DAGScheduler: Broadcasting large task binary with size 13.1 MiB\n",
      "22/11/11 14:32:32 WARN DAGScheduler: Broadcasting large task binary with size 13.6 MiB\n",
      "22/11/11 14:32:35 WARN DAGScheduler: Broadcasting large task binary with size 20.6 MiB\n",
      "22/11/11 14:32:36 WARN DAGScheduler: Broadcasting large task binary with size 20.6 MiB\n",
      "22/11/11 14:32:38 WARN DAGScheduler: Broadcasting large task binary with size 21.0 MiB\n",
      "22/11/11 14:32:45 WARN DAGScheduler: Broadcasting large task binary with size 20.4 MiB\n",
      "22/11/11 14:32:46 WARN DAGScheduler: Broadcasting large task binary with size 20.4 MiB\n",
      "22/11/11 14:32:47 WARN DAGScheduler: Broadcasting large task binary with size 20.4 MiB\n",
      "22/11/11 14:32:48 WARN DAGScheduler: Broadcasting large task binary with size 20.4 MiB\n",
      "22/11/11 14:32:50 WARN DAGScheduler: Broadcasting large task binary with size 20.4 MiB\n",
      "22/11/11 14:32:51 WARN DAGScheduler: Broadcasting large task binary with size 20.4 MiB\n",
      "22/11/11 14:32:57 WARN DAGScheduler: Broadcasting large task binary with size 20.9 MiB\n",
      "22/11/11 14:32:57 WARN DAGScheduler: Broadcasting large task binary with size 20.9 MiB\n",
      "22/11/11 14:32:58 WARN DAGScheduler: Broadcasting large task binary with size 20.9 MiB\n",
      "22/11/11 14:32:59 WARN DAGScheduler: Broadcasting large task binary with size 20.9 MiB\n",
      "22/11/11 14:33:00 WARN DAGScheduler: Broadcasting large task binary with size 20.9 MiB\n",
      "22/11/11 14:33:01 WARN DAGScheduler: Broadcasting large task binary with size 20.9 MiB\n",
      "22/11/11 14:33:24 WARN DAGScheduler: Broadcasting large task binary with size 12.9 MiB\n",
      "22/11/11 14:33:27 WARN DAGScheduler: Broadcasting large task binary with size 12.9 MiB\n",
      "22/11/11 14:33:29 WARN DAGScheduler: Broadcasting large task binary with size 12.9 MiB\n",
      "22/11/11 14:33:41 WARN DAGScheduler: Broadcasting large task binary with size 12.9 MiB\n",
      "22/11/11 14:33:42 WARN DAGScheduler: Broadcasting large task binary with size 12.9 MiB\n",
      "22/11/11 14:33:44 WARN DAGScheduler: Broadcasting large task binary with size 12.9 MiB\n",
      "                                                                                \r"
     ]
    },
    {
     "name": "stdout",
     "output_type": "stream",
     "text": [
      "Iteration 55 finished in 165.11433291435242 sec.\n"
     ]
    },
    {
     "name": "stderr",
     "output_type": "stream",
     "text": [
      "22/11/11 14:35:07 WARN DAGScheduler: Broadcasting large task binary with size 13.1 MiB\n",
      "22/11/11 14:35:08 WARN DAGScheduler: Broadcasting large task binary with size 13.1 MiB\n",
      "22/11/11 14:35:13 WARN DAGScheduler: Broadcasting large task binary with size 20.1 MiB\n",
      "22/11/11 14:35:14 WARN DAGScheduler: Broadcasting large task binary with size 20.2 MiB\n",
      "22/11/11 14:35:16 WARN DAGScheduler: Broadcasting large task binary with size 20.5 MiB\n",
      "22/11/11 14:35:26 WARN DAGScheduler: Broadcasting large task binary with size 13.1 MiB\n",
      "22/11/11 14:35:27 WARN DAGScheduler: Broadcasting large task binary with size 13.6 MiB\n",
      "22/11/11 14:35:28 WARN DAGScheduler: Broadcasting large task binary with size 13.6 MiB\n",
      "22/11/11 14:35:31 WARN DAGScheduler: Broadcasting large task binary with size 20.6 MiB\n",
      "22/11/11 14:35:33 WARN DAGScheduler: Broadcasting large task binary with size 20.6 MiB\n",
      "22/11/11 14:35:35 WARN DAGScheduler: Broadcasting large task binary with size 21.0 MiB\n",
      "22/11/11 14:35:42 WARN DAGScheduler: Broadcasting large task binary with size 20.4 MiB\n",
      "22/11/11 14:35:43 WARN DAGScheduler: Broadcasting large task binary with size 20.4 MiB\n",
      "22/11/11 14:35:44 WARN DAGScheduler: Broadcasting large task binary with size 20.4 MiB\n",
      "22/11/11 14:35:46 WARN DAGScheduler: Broadcasting large task binary with size 20.4 MiB\n",
      "22/11/11 14:35:47 WARN DAGScheduler: Broadcasting large task binary with size 20.4 MiB\n",
      "22/11/11 14:35:48 WARN DAGScheduler: Broadcasting large task binary with size 20.4 MiB\n",
      "22/11/11 14:35:54 WARN DAGScheduler: Broadcasting large task binary with size 20.9 MiB\n",
      "22/11/11 14:35:55 WARN DAGScheduler: Broadcasting large task binary with size 20.9 MiB\n",
      "22/11/11 14:35:55 WARN DAGScheduler: Broadcasting large task binary with size 20.9 MiB\n",
      "22/11/11 14:35:56 WARN DAGScheduler: Broadcasting large task binary with size 20.9 MiB\n",
      "22/11/11 14:35:58 WARN DAGScheduler: Broadcasting large task binary with size 20.9 MiB\n",
      "22/11/11 14:35:59 WARN DAGScheduler: Broadcasting large task binary with size 20.9 MiB\n",
      "22/11/11 14:36:20 WARN DAGScheduler: Broadcasting large task binary with size 12.9 MiB\n",
      "22/11/11 14:36:23 WARN DAGScheduler: Broadcasting large task binary with size 12.9 MiB\n",
      "22/11/11 14:36:25 WARN DAGScheduler: Broadcasting large task binary with size 12.9 MiB\n",
      "22/11/11 14:36:37 WARN DAGScheduler: Broadcasting large task binary with size 12.9 MiB\n",
      "22/11/11 14:36:38 WARN DAGScheduler: Broadcasting large task binary with size 12.9 MiB\n",
      "22/11/11 14:36:40 WARN DAGScheduler: Broadcasting large task binary with size 12.9 MiB\n",
      "                                                                                \r"
     ]
    },
    {
     "name": "stdout",
     "output_type": "stream",
     "text": [
      "Iteration 56 finished in 176.6416015625 sec.\n"
     ]
    },
    {
     "name": "stderr",
     "output_type": "stream",
     "text": [
      "                                                                                \r"
     ]
    }
   ],
   "source": [
    "user_frac = 10000 / user_generator.getDataSize()\n",
    "item_frac = 2000 / item_generator.getDataSize()\n",
    "\n",
    "random_rec_simulator = Simulator(None, None, f'{CHECKPOINT_DIR}/netflix_response_rnd', None, 'user_id', 'item_id', spark)\n",
    "\n",
    "ucb_metrics = []\n",
    "rnd_metrics = []\n",
    "for i in range(100):\n",
    "    iter_start = time.time()\n",
    "\n",
    "    users = simulator.sample_users(user_frac).cache()\n",
    "    items = simulator.sample_items(item_frac).cache()\n",
    "    log = simulator.get_log(users)\n",
    "    log = dummy_log if log is None else log\n",
    "    log = log.cache()\n",
    "\n",
    "    recs_ucb = ucb.predict(\n",
    "        log=indexer.transform(log),\n",
    "        k=10,\n",
    "        users=indexer.transform(users),\n",
    "        items=indexer.transform(items),\n",
    "        filter_seen_items=False\n",
    "    )\n",
    "    recs_ucb = indexer.inverse_transform(recs_ucb).cache()\n",
    "    recs_rnd = random_rec.predict(\n",
    "        log=indexer.transform(log),\n",
    "        k=10,\n",
    "        users=indexer.transform(users),\n",
    "        items=indexer.transform(items),\n",
    "        filter_seen_items=False\n",
    "    )\n",
    "    recs_rnd = indexer.inverse_transform(recs_rnd).cache()\n",
    "\n",
    "    resp_ucb = simulator.sample_responses(\n",
    "        recs_df=recs_ucb,\n",
    "        user_features=users,\n",
    "        item_features=items,\n",
    "        action_models=pipeline\n",
    "    ).select('user_id', 'item_id', 'relevance', 'response').cache()\n",
    "    resp_rnd = simulator.sample_responses(\n",
    "        recs_df=recs_rnd,\n",
    "        user_features=users,\n",
    "        item_features=items,\n",
    "        action_models=pipeline\n",
    "    ).select('user_id', 'item_id', 'relevance', 'response').cache()\n",
    "\n",
    "    simulator.update_log(resp_ucb, iteration=i)\n",
    "    random_rec_simulator.update_log(resp_rnd, iteration=i)\n",
    "\n",
    "    ucb_metrics.append(evaluator(resp_ucb))\n",
    "    rnd_metrics.append(evaluator(resp_rnd))\n",
    "\n",
    "    ucb._clear_cache()\n",
    "    ucb_train_log = simulator.log.cache()\n",
    "    ucb.fit(log=indexer.transform(\n",
    "        ucb_train_log.select('user_id', 'item_id', 'response').withColumnRenamed('response', 'relevance')\n",
    "    ))\n",
    "\n",
    "    random_rec._clear_cache()\n",
    "    rnd_train_log = random_rec_simulator.log.cache()\n",
    "    random_rec.fit(log=indexer.transform(\n",
    "        rnd_train_log.select('user_id', 'item_id', 'response')\\\n",
    "                     .withColumnRenamed('response', 'relevance')\\\n",
    "                     .filter(sf.col('relevance') == 1)\n",
    "    ))\n",
    "\n",
    "    users.unpersist()\n",
    "    items.unpersist()\n",
    "    log.unpersist()\n",
    "    recs_ucb.unpersist()\n",
    "    recs_rnd.unpersist()\n",
    "    resp_ucb.unpersist()\n",
    "    resp_rnd.unpersist()\n",
    "    ucb_train_log.unpersist()\n",
    "    rnd_train_log.unpersist()\n",
    "\n",
    "    print(f'Iteration {i} finished in {time.time() - iter_start} sec.')"
   ]
  },
  {
   "cell_type": "code",
   "execution_count": 25,
   "metadata": {},
   "outputs": [
    {
     "data": {
      "text/plain": [
       "(0.5, 0.7)"
      ]
     },
     "execution_count": 25,
     "metadata": {},
     "output_type": "execute_result"
    },
    {
     "data": {
      "image/png": "[encoded data removed]",
      "text/plain": [
       "<Figure size 640x480 with 1 Axes>"
      ]
     },
     "metadata": {},
     "output_type": "display_data"
    }
   ],
   "source": [
    "ucb_metrics_pdf = pd.DataFrame(ucb_metrics)\n",
    "rnd_metrics_pdf = pd.DataFrame(rnd_metrics)\n",
    "\n",
    "plt.plot(ucb_metrics_pdf['NDCG@10'], color='b')\n",
    "plt.plot(rnd_metrics_pdf['NDCG@10'], color='g')\n",
    "plt.xlabel('iteration')\n",
    "plt.ylabel('NDCG')\n",
    "plt.ylim(0.5, 0.7)"
   ]
  },
  {
   "cell_type": "code",
   "execution_count": 26,
   "metadata": {},
   "outputs": [
    {
     "data": {
      "text/plain": [
       "(0.2, 0.3)"
      ]
     },
     "execution_count": 26,
     "metadata": {},
     "output_type": "execute_result"
    },
    {
     "data": {
      "image/png": "[encoded data removed]",
      "text/plain": [
       "<Figure size 640x480 with 1 Axes>"
      ]
     },
     "metadata": {},
     "output_type": "display_data"
    }
   ],
   "source": [
    "plt.plot(ucb_metrics_pdf['Precision@10'], color='b')\n",
    "plt.plot(rnd_metrics_pdf['Precision@10'], color='g')\n",
    "plt.xlabel('iteration')\n",
    "plt.ylabel('Precision')\n",
    "plt.ylim(0.2, 0.3)"
   ]
  },
  {
   "cell_type": "code",
   "execution_count": 27,
   "metadata": {},
   "outputs": [
    {
     "data": {
      "text/plain": [
       "(0.4, 0.6)"
      ]
     },
     "execution_count": 27,
     "metadata": {},
     "output_type": "execute_result"
    },
    {
     "data": {
      "image/png": "[encoded data removed]",
      "text/plain": [
       "<Figure size 640x480 with 1 Axes>"
      ]
     },
     "metadata": {},
     "output_type": "display_data"
    }
   ],
   "source": [
    "plt.plot(ucb_metrics_pdf['RocAuc@10'], color='b')\n",
    "plt.plot(rnd_metrics_pdf['RocAuc@10'], color='g')\n",
    "plt.xlabel('iteration')\n",
    "plt.ylabel('RocAuc')\n",
    "plt.ylim(0.4, 0.6)"
   ]
  },
  {
   "cell_type": "code",
   "execution_count": null,
   "metadata": {},
   "outputs": [],
   "source": []
  },
  {
   "cell_type": "code",
   "execution_count": null,
   "metadata": {},
   "outputs": [],
   "source": []
  },
  {
   "cell_type": "code",
   "execution_count": null,
   "metadata": {},
   "outputs": [],
   "source": []
  },
  {
   "cell_type": "code",
   "execution_count": null,
   "metadata": {},
   "outputs": [],
   "source": []
  },
  {
   "cell_type": "code",
   "execution_count": null,
   "metadata": {},
   "outputs": [],
   "source": []
  }
 ],
 "metadata": {
  "kernelspec": {
   "display_name": "Python [conda env:.conda-simulator]",
   "language": "python",
   "name": "conda-env-.conda-simulator-py"
  },
  "language_info": {
   "codemirror_mode": {
    "name": "ipython",
    "version": 3
   },
   "file_extension": ".py",
   "mimetype": "text/x-python",
   "name": "python",
   "nbconvert_exporter": "python",
   "pygments_lexer": "ipython3",
   "version": "3.8.13"
  },
  "vscode": {
   "interpreter": {
    "hash": "0c23ac1ac3d03469769ffca4283c7852312778d94b2cbd9b1a60eeafc1c4055f"
   }
  }
 },
 "nbformat": 4,
 "nbformat_minor": 4
}
