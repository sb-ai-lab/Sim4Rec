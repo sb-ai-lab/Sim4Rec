{
 "cells": [
  {
   "cell_type": "code",
   "execution_count": 1,
   "metadata": {
    "cellId": "huydgn44hwaihflq1o7s"
   },
   "outputs": [],
   "source": [
    "%load_ext autoreload\n",
    "%autoreload 2"
   ]
  },
  {
   "cell_type": "markdown",
   "metadata": {
    "cellId": "5nmr5qtyi4l6dv4003f5hk",
    "execution_id": "b4c3a56f-dd79-4dc8-9c15-e451a726c6d8"
   },
   "source": [
    "# Recommending popular items"
   ]
  },
  {
   "cell_type": "markdown",
   "metadata": {
    "cellId": "4st89ea75i9z0offn8c4d",
    "execution_id": "69ada54d-c332-4dd2-9b9a-72f16d1bfb76"
   },
   "source": [
    "This tutorial shows how to create custom response function and use it in Sim4Rec.\n",
    "\n",
    "\n",
    "### Users\n",
    "5000 anonymous users\n",
    "\n",
    "### Items\n",
    "10 items\n",
    "\n",
    "### Response function\n",
    "Users are more likely to choose the most popular items.\n"
   ]
  },
  {
   "cell_type": "markdown",
   "metadata": {
    "cellId": "a23y5u7l746q73y0tqxss",
    "execution_id": "b0740c39-9cda-411d-b832-490de8695080"
   },
   "source": [
    "## Imports and preparations"
   ]
  },
  {
   "cell_type": "code",
   "execution_count": 2,
   "metadata": {},
   "outputs": [],
   "source": [
    "import os\n",
    "import sys\n",
    "os.environ[\"PYSPARK_PYTHON\"]=sys.executable\n",
    "os.environ[\"PYSPARK_DRIVER_PYTHON\"]=sys.executable"
   ]
  },
  {
   "cell_type": "code",
   "execution_count": 3,
   "metadata": {},
   "outputs": [
    {
     "name": "stdout",
     "output_type": "stream",
     "text": [
      "replay-rec                    0.10.0      /home/anna/airi_summer_school23/RePlay\r\n"
     ]
    }
   ],
   "source": [
    "!pip list | grep \"replay\""
   ]
  },
  {
   "cell_type": "code",
   "execution_count": 4,
   "metadata": {
    "cellId": "jlz0twee16goe1fisulv5"
   },
   "outputs": [],
   "source": [
    "import random\n",
    "import time\n",
    "\n",
    "import pandas as pd\n",
    "import numpy as np\n",
    "\n",
    "import pyspark.sql.functions as sf\n",
    "from pyspark import SparkConf\n",
    "from pyspark.ml import PipelineModel\n",
    "from pyspark.sql import SparkSession\n",
    "\n",
    "from replay.models import UCB\n",
    "from replay.session_handler import State\n",
    "from replay.utils import get_top_k_recs\n",
    "\n",
    "# path to spark tmp folder and simulator checkpoints\n",
    "SPARK_LOCAL_DIR = './tmp/task_1'\n",
    "CHECKPOINT_DIR = './tmp/task_1_checkpoints'"
   ]
  },
  {
   "cell_type": "code",
   "execution_count": 5,
   "metadata": {
    "cellId": "cs1ysc6amtr9plpbijvt"
   },
   "outputs": [],
   "source": [
    "from sim4rec.modules import RealDataGenerator\n",
    "from sim4rec.modules import Simulator\n",
    "\n",
    "from response_models.task_1_popular_items import TaskOneResponse\n",
    "from response_models.utils import plot_metric, calc_metric"
   ]
  },
  {
   "cell_type": "code",
   "execution_count": 6,
   "metadata": {
    "cellId": "ku55idy38nqtlrc187ucq"
   },
   "outputs": [],
   "source": [
    "%%bash -s \"$CHECKPOINT_DIR\" \"$SPARK_LOCAL_DIR\"\n",
    "# simulator saves the interaction history between users and recommender system\n",
    "# to rerun the simulation cycle or begin a new one, clear the directory or use another CHECKPOINT_DIR\n",
    "rm -rf $1 $2"
   ]
  },
  {
   "cell_type": "code",
   "execution_count": 7,
   "metadata": {
    "cellId": "v1uc08ym8h8d7qxpmsop4"
   },
   "outputs": [
    {
     "name": "stderr",
     "output_type": "stream",
     "text": [
      "23/07/13 17:58:55 WARN Utils: Your hostname, trans4rec resolves to a loopback address: 127.0.1.1; using 192.168.1.13 instead (on interface ens160)\n",
      "23/07/13 17:58:55 WARN Utils: Set SPARK_LOCAL_IP if you need to bind to another address\n",
      "23/07/13 17:58:57 WARN NativeCodeLoader: Unable to load native-hadoop library for your platform... using builtin-java classes where applicable\n",
      "Using Spark's default log4j profile: org/apache/spark/log4j-defaults.properties\n",
      "Setting default log level to \"WARN\".\n",
      "To adjust logging level use sc.setLogLevel(newLevel). For SparkR, use setLogLevel(newLevel).\n",
      "23/07/13 17:58:58 WARN SparkConf: Note that spark.local.dir will be overridden by the value set by the cluster manager (via SPARK_LOCAL_DIRS in mesos/standalone/kubernetes and LOCAL_DIRS in YARN).\n",
      "23/07/13 17:59:00 WARN Utils: Service 'SparkUI' could not bind on port 4040. Attempting port 4041.\n",
      "23/07/13 17:59:00 WARN Utils: Service 'SparkUI' could not bind on port 4041. Attempting port 4042.\n",
      "23/07/13 17:59:00 WARN Utils: Service 'SparkUI' could not bind on port 4042. Attempting port 4043.\n",
      "23/07/13 17:59:00 WARN Utils: Service 'SparkUI' could not bind on port 4043. Attempting port 4044.\n",
      "23/07/13 17:59:00 WARN Utils: Service 'SparkUI' could not bind on port 4044. Attempting port 4045.\n",
      "23/07/13 17:59:00 WARN Utils: Service 'SparkUI' could not bind on port 4045. Attempting port 4046.\n",
      "23/07/13 17:59:00 WARN Utils: Service 'SparkUI' could not bind on port 4046. Attempting port 4047.\n"
     ]
    }
   ],
   "source": [
    "NUM_THREADS = 4\n",
    "\n",
    "spark = SparkSession.builder\\\n",
    "    .appName('simulator')\\\n",
    "    .master(f'local[{NUM_THREADS}]')\\\n",
    "    .config('spark.sql.shuffle.partitions', f'{NUM_THREADS * 3}')\\\n",
    "    .config('spark.default.parallelism', f'{NUM_THREADS * 3}')\\\n",
    "    .config('spark.driver.extraJavaOptions', '-XX:+UseG1GC')\\\n",
    "    .config('spark.executor.extraJavaOptions', '-XX:+UseG1GC')\\\n",
    "    .config('spark.local.dir', SPARK_LOCAL_DIR)\\\n",
    "    .getOrCreate()\n",
    "\n",
    "State(spark)\n",
    "spark.sparkContext.setLogLevel('ERROR')"
   ]
  },
  {
   "cell_type": "code",
   "execution_count": 8,
   "metadata": {
    "cellId": "9vf3sqixr4vgau073549pv"
   },
   "outputs": [],
   "source": [
    "NUM_USERS = 5000\n",
    "NUM_ITEMS = 10\n",
    "# number of recommendations generated by recommender system per user per one iteration\n",
    "K = 1\n",
    "# number of iterations\n",
    "NUM_ITER = 20\n",
    "SEED = 1234"
   ]
  },
  {
   "cell_type": "markdown",
   "metadata": {
    "cellId": "ffl9l89trncxzwbk5zq7gn",
    "execution_id": "cbbf5328-af84-4368-957e-3c000bd80332"
   },
   "source": [
    "## Data"
   ]
  },
  {
   "cell_type": "code",
   "execution_count": 9,
   "metadata": {
    "cellId": "zh9qtijcn5143mi4887od"
   },
   "outputs": [
    {
     "name": "stderr",
     "output_type": "stream",
     "text": [
      "                                                                                \r"
     ]
    },
    {
     "name": "stdout",
     "output_type": "stream",
     "text": [
      "+--------+\n",
      "|item_idx|\n",
      "+--------+\n",
      "|       0|\n",
      "|       1|\n",
      "+--------+\n",
      "only showing top 2 rows\n",
      "\n"
     ]
    }
   ],
   "source": [
    "users = spark.createDataFrame([[x] for x in range(NUM_USERS)], schema=[\"user_idx\"])\n",
    "items = spark.createDataFrame([[x] for x in range(NUM_ITEMS)], schema=[\"item_idx\"])\n",
    "items.show(2)"
   ]
  },
  {
   "cell_type": "code",
   "execution_count": 10,
   "metadata": {
    "cellId": "3btpzal8hblukqhq46asd"
   },
   "outputs": [
    {
     "name": "stderr",
     "output_type": "stream",
     "text": [
      "                                                                                \r"
     ]
    },
    {
     "data": {
      "text/plain": [
       "DataFrame[user_idx: bigint]"
      ]
     },
     "execution_count": 10,
     "metadata": {},
     "output_type": "execute_result"
    }
   ],
   "source": [
    "item_generator = RealDataGenerator(label='items_real', seed=SEED)\n",
    "user_generator = RealDataGenerator(label='users_real', seed=SEED)\n",
    "\n",
    "item_generator.fit(items)\n",
    "user_generator.fit(users)\n",
    "\n",
    "item_generator.generate(NUM_ITEMS)\n",
    "user_generator.generate(NUM_USERS)"
   ]
  },
  {
   "cell_type": "markdown",
   "metadata": {
    "cellId": "1crcvslqi2qm4dnavh3obq",
    "execution_id": "2c640f43-9dd5-445d-9511-d0d100fc830c"
   },
   "source": [
    "# One iteration of simulation cycle step by step"
   ]
  },
  {
   "cell_type": "markdown",
   "metadata": {
    "cellId": "q2oio9pylodwwu9qptdom",
    "execution_id": "0f252faf-52c4-4a99-ac83-b425c14d055e"
   },
   "source": [
    "## (1) Choise of users"
   ]
  },
  {
   "cell_type": "code",
   "execution_count": 11,
   "metadata": {
    "cellId": "erkzmjzvo06nl5bok1qv5n"
   },
   "outputs": [
    {
     "data": {
      "text/plain": [
       "504"
      ]
     },
     "execution_count": 11,
     "metadata": {},
     "output_type": "execute_result"
    }
   ],
   "source": [
    "user_generator.sample(0.1).count()"
   ]
  },
  {
   "cell_type": "markdown",
   "metadata": {
    "cellId": "tnbcus0l6hcbvoht2rnge",
    "execution_id": "a45bc1e9-f284-4702-bfeb-d525f9349d20"
   },
   "source": [
    "## (2) Choise of items\n",
    "During simulation cycle all 10 items will be avaliable at each iteration."
   ]
  },
  {
   "cell_type": "markdown",
   "metadata": {
    "cellId": "4kfl2on9vg46431mkek4ot",
    "execution_id": "85a06070-5f73-407a-ad84-ff781e7d04fb"
   },
   "source": [
    "## (3) Initialization of recommender model"
   ]
  },
  {
   "cell_type": "markdown",
   "metadata": {
    "cellId": "p7qktnabe0pupwrpgo1vu",
    "execution_id": "4f4957f4-cea9-47fe-9140-95dafb48e159"
   },
   "source": [
    "### Baseline"
   ]
  },
  {
   "cell_type": "code",
   "execution_count": 12,
   "metadata": {
    "cellId": "kck71xz164nwlq1tlo81d"
   },
   "outputs": [],
   "source": [
    "model = UCB(sample=True, seed=SEED, exploration_coef=0.1)\n",
    "# RePlay model should be fitted on historic data before it can be refitted in cycle\n",
    "# Let's assume we had one interaction for simplicity\n",
    "model.fit(log=users.limit(1).crossJoin(items.limit(1)).withColumn(\"relevance\", sf.lit(1)))"
   ]
  },
  {
   "cell_type": "code",
   "execution_count": 13,
   "metadata": {
    "cellId": "qanbfdw727flloimcyztvg"
   },
   "outputs": [
    {
     "name": "stderr",
     "output_type": "stream",
     "text": [
      "                                                                                \r"
     ]
    },
    {
     "name": "stdout",
     "output_type": "stream",
     "text": [
      "+--------+--------+---------+\n",
      "|user_idx|item_idx|relevance|\n",
      "+--------+--------+---------+\n",
      "|       0|       6|      0.1|\n",
      "|       0|       1|      0.1|\n",
      "|       0|       7|      0.1|\n",
      "|       1|       3|      0.1|\n",
      "|       1|       9|      0.1|\n",
      "|       1|       8|      0.1|\n",
      "+--------+--------+---------+\n",
      "\n"
     ]
    }
   ],
   "source": [
    "pred = model.predict(log=None, users=users.limit(2), items=items, k=3)\n",
    "pred.show(6)"
   ]
  },
  {
   "cell_type": "markdown",
   "metadata": {
    "cellId": "6tn53xv939c0ph8cth3961",
    "execution_id": "2c95f94f-97cc-4007-a971-d340645e0f90"
   },
   "source": [
    "## (4) Response Function"
   ]
  },
  {
   "cell_type": "markdown",
   "metadata": {
    "cellId": "7m11axprgbnc8wgrnr20km",
    "execution_id": "1bf409d8-8df8-4ff6-a96d-eab7b07f54d8"
   },
   "source": [
    "Response function in this tutorial is very simple. The response is binary, response == 1 means that user bought the item. The probability of response is proportional to the popularity of item in the past. Response function is constant in time.\n",
    "\n",
    "Response function gets dataframe with columns <user_idx, item_idx, relevance>, and returns dataframe with columns <user_idx, item_idx, relevance, response>, adding the response column to the initial ones. If the initial dataframe had some other columns, they will be returned as well."
   ]
  },
  {
   "cell_type": "code",
   "execution_count": 15,
   "metadata": {},
   "outputs": [
    {
     "name": "stdout",
     "output_type": "stream",
     "text": [
      "/home/anna/airi_summer_school23\r\n"
     ]
    }
   ],
   "source": [
    "!pwd"
   ]
  },
  {
   "cell_type": "code",
   "execution_count": 15,
   "metadata": {
    "cellId": "uayt15jraspro9gjta45f"
   },
   "outputs": [],
   "source": [
    "popularity_model = TaskOneResponse(spark=spark, seed=SEED)"
   ]
  },
  {
   "cell_type": "markdown",
   "metadata": {
    "cellId": "w6ds3t0qf5l0zbfq4l9u15",
    "execution_id": "f80a707c-ac52-4669-bf19-44e93f9a1f18"
   },
   "source": [
    "Example how the response is generated for user-item pair"
   ]
  },
  {
   "cell_type": "code",
   "execution_count": 16,
   "metadata": {
    "cellId": "0oh4d53bucmmcamy8oc28u7"
   },
   "outputs": [
    {
     "name": "stderr",
     "output_type": "stream",
     "text": [
      "\r\n",
      "[Stage 68:>                                                         (0 + 1) / 1]\r\n",
      "\r\n",
      "                                                                                \r"
     ]
    },
    {
     "name": "stdout",
     "output_type": "stream",
     "text": [
      "+--------+--------+---------+--------+\n",
      "|item_idx|user_idx|relevance|response|\n",
      "+--------+--------+---------+--------+\n",
      "|       6|       0|      0.1|       0|\n",
      "|       1|       0|      0.1|       0|\n",
      "|       7|       0|      0.1|       0|\n",
      "|       3|       1|      0.1|       0|\n",
      "|       9|       1|      0.1|       1|\n",
      "|       8|       1|      0.1|       1|\n",
      "+--------+--------+---------+--------+\n",
      "\n"
     ]
    }
   ],
   "source": [
    "test_response = popularity_model.transform(pred)\n",
    "test_response.show()"
   ]
  },
  {
   "cell_type": "markdown",
   "metadata": {
    "cellId": "oklaxbiawagxloskdgy6g",
    "execution_id": "418b174f-f4be-49fe-88aa-585826871197"
   },
   "source": [
    "## (5) Refitting of recommender model"
   ]
  },
  {
   "cell_type": "markdown",
   "metadata": {},
   "source": [
    "After receiving responses for recommendations we can use this information to update the recommender model. To do that, we should rename column response to relevance."
   ]
  },
  {
   "cell_type": "code",
   "execution_count": 17,
   "metadata": {},
   "outputs": [
    {
     "name": "stdout",
     "output_type": "stream",
     "text": [
      "+--------+--------+---------+\n",
      "|item_idx|user_idx|relevance|\n",
      "+--------+--------+---------+\n",
      "|       6|       0|        0|\n",
      "|       1|       0|        0|\n",
      "|       7|       0|        0|\n",
      "|       3|       1|        0|\n",
      "|       9|       1|        1|\n",
      "|       8|       1|        1|\n",
      "+--------+--------+---------+\n",
      "\n"
     ]
    }
   ],
   "source": [
    "new_log = test_response.drop(\"relevance\").withColumnRenamed(\"response\", \"relevance\")\n",
    "new_log.show()"
   ]
  },
  {
   "cell_type": "code",
   "execution_count": 18,
   "metadata": {
    "cellId": "6s4g64l6fgjg50d1ccnyqn"
   },
   "outputs": [],
   "source": [
    "### YOUR CODE HERE\n",
    "model.refit(log=test_response.drop(\"relevance\").withColumnRenamed(\"response\", \"relevance\"))\n",
    "###"
   ]
  },
  {
   "cell_type": "markdown",
   "metadata": {
    "cellId": "ytr06uktdlrtba7yym35z",
    "execution_id": "875247d7-4576-4f2e-8524-57a90ec7b530"
   },
   "source": [
    "## (6) Quality of recommendations"
   ]
  },
  {
   "cell_type": "markdown",
   "metadata": {
    "cellId": "rlp6n6ghul6do1y9tnfs3",
    "execution_id": "c66c5616-7b51-46fb-bf64-ff3aae3560a3"
   },
   "source": [
    "Quality is the mean number of positive responses per user."
   ]
  },
  {
   "cell_type": "code",
   "execution_count": 19,
   "metadata": {
    "cellId": "ggmpn0ggz9nq4qt06ubae"
   },
   "outputs": [
    {
     "data": {
      "text/plain": [
       "1.0"
      ]
     },
     "execution_count": 19,
     "metadata": {},
     "output_type": "execute_result"
    }
   ],
   "source": [
    "calc_metric(test_response)"
   ]
  },
  {
   "cell_type": "markdown",
   "metadata": {
    "cellId": "o0o3kq6tjrs7tuvbdikavd",
    "execution_id": "7c137458-8817-41ef-aa39-c255fe3286f6"
   },
   "source": [
    "# Training the model in simulator"
   ]
  },
  {
   "cell_type": "code",
   "execution_count": 20,
   "metadata": {
    "cellId": "kkg4h3xdwqhgpk4gs9y37m"
   },
   "outputs": [],
   "source": [
    "%%bash -s \"$CHECKPOINT_DIR\"\n",
    "rm -rf $1"
   ]
  },
  {
   "cell_type": "markdown",
   "metadata": {
    "cellId": "wkff236bnjdemsw693fj6s",
    "execution_id": "2f344684-ba2b-4d19-9079-527e6e2d7969"
   },
   "source": [
    "## Initialization of simulator"
   ]
  },
  {
   "cell_type": "code",
   "execution_count": 21,
   "metadata": {
    "cellId": "9eplt0wb7cnd273dkt5n6"
   },
   "outputs": [],
   "source": [
    "user_generator.initSeedSequence(SEED)\n",
    "item_generator.initSeedSequence(SEED)\n",
    "\n",
    "sim = Simulator(\n",
    "    user_gen=user_generator,\n",
    "    item_gen=item_generator,\n",
    "    data_dir=f'{CHECKPOINT_DIR}/pipeline',\n",
    "    user_key_col='user_idx',\n",
    "    item_key_col='item_idx',\n",
    "    spark_session=spark\n",
    ")"
   ]
  },
  {
   "cell_type": "markdown",
   "metadata": {
    "cellId": "32xq7dw4q0uk4bwf04bzac",
    "execution_id": "5a37dcac-ecb3-4c8a-b613-96059682e31d"
   },
   "source": [
    "### Check that format is correct"
   ]
  },
  {
   "cell_type": "code",
   "execution_count": 23,
   "metadata": {
    "cellId": "mz1tro3j75j8a8hcuvjvl7"
   },
   "outputs": [],
   "source": [
    "pred = model.predict(log=None, users=users.limit(10), items=items, k=K)\n",
    "###\n",
    "\n",
    "assert pred.columns == [\"user_idx\", \"item_idx\", \"relevance\"]\n",
    "assert pred.groupBy('user_idx').agg(sf.countDistinct(\"item_idx\").alias(\"num_items\")).filter(sf.col(\"num_items\") == sf.lit(K)).count() == 10\n",
    "assert pred.groupBy('user_idx').agg(sf.count(\"item_idx\").alias(\"num_items\")).filter(sf.col(\"num_items\") == sf.lit(K)).count() == 10"
   ]
  },
  {
   "cell_type": "markdown",
   "metadata": {
    "cellId": "363j2r5xezoduowlgowzy8",
    "execution_id": "23bcc021-9eb1-4d41-b46b-6a05442fd92e"
   },
   "source": [
    "## Response function initialization"
   ]
  },
  {
   "cell_type": "code",
   "execution_count": 24,
   "metadata": {
    "cellId": "0gtzwgls0htlluzisn2m2"
   },
   "outputs": [],
   "source": [
    "popularity_model = TaskOneResponse(seed=SEED, spark=spark)"
   ]
  },
  {
   "cell_type": "markdown",
   "metadata": {
    "cellId": "1t5x6egzvjmz7yk9tc7gf",
    "execution_id": "50e4dc71-1b47-4832-af9f-efcd08b5b47c"
   },
   "source": [
    "## Simulation cycle"
   ]
  },
  {
   "cell_type": "code",
   "execution_count": 25,
   "metadata": {
    "cellId": "m8cqe5z1g7huuqmkea7hsf"
   },
   "outputs": [],
   "source": [
    "# run this if you didn't end the simulation cycle\n",
    "# current_users.unpersist()\n",
    "# if log is not None:\n",
    "#     log.unpersist()\n",
    "# recs.unpersist()\n",
    "# true_resp.unpersist()\n",
    "# train_log..unpersist()"
   ]
  },
  {
   "cell_type": "code",
   "execution_count": 26,
   "metadata": {
    "cellId": "9xd6azbslgcdb0hsl7sm"
   },
   "outputs": [
    {
     "data": {
      "image/png": "[encoded data removed]",
      "text/plain": [
       "<Figure size 640x480 with 1 Axes>"
      ]
     },
     "metadata": {},
     "output_type": "display_data"
    },
    {
     "name": "stdout",
     "output_type": "stream",
     "text": [
      "Iteration 19 finished in 5.989673376083374 sec.\n"
     ]
    }
   ],
   "source": [
    "metrics = []\n",
    "for i in range(NUM_ITER):\n",
    "    print(f'Iteration {i} started')\n",
    "    iter_time = time.time()\n",
    "    # users that will buy items\n",
    "    current_users = sim.sample_users(0.1).cache()\n",
    "    # history of interactions\n",
    "    log = sim.get_log(users)\n",
    "\n",
    "    recs = model.predict(\n",
    "        log=log,\n",
    "        k=K,\n",
    "        users=current_users,\n",
    "        items=items,\n",
    "        filter_seen_items=False\n",
    "    ).cache()\n",
    "    ###\n",
    "    \n",
    "    assert (recs\n",
    "            .groupBy('user_idx')\n",
    "            .agg(sf.count(\"item_idx\").alias(\"num_items\"))\n",
    "            .filter(sf.col(\"num_items\") == sf.lit(K))\n",
    "            .count() \n",
    "            == \n",
    "            current_users.count()\n",
    "           )\n",
    "    \n",
    "    # getting responses\n",
    "    true_resp = sim.sample_responses(\n",
    "        recs_df=recs,\n",
    "        user_features=current_users,\n",
    "        item_features=items,\n",
    "        action_models=popularity_model\n",
    "    ).cache()\n",
    "\n",
    "    # update the interaction history\n",
    "    sim.update_log(true_resp, iteration=i)\n",
    "\n",
    "    # measure quality\n",
    "    metrics.append(calc_metric(true_resp))\n",
    "\n",
    "    # refitting the model\n",
    "    model._clear_cache()\n",
    "    train_log = sim.log.cache()\n",
    "    model.fit(\n",
    "        log=train_log.select('user_idx', 'item_idx', 'response')\\\n",
    "                     .withColumnRenamed('response', 'relevance')\n",
    "        )\n",
    "    ###\n",
    "\n",
    "    current_users.unpersist()\n",
    "    if log is not None:\n",
    "        log.unpersist()\n",
    "    recs.unpersist()\n",
    "    true_resp.unpersist()\n",
    "    train_log.unpersist()\n",
    "\n",
    "    plot_metric(metrics)\n",
    "    print(f'Iteration {i} finished in {time.time() - iter_time} sec.')"
   ]
  },
  {
   "cell_type": "code",
   "execution_count": 27,
   "metadata": {
    "cellId": "zpg8amfm8mvopmyulehl9"
   },
   "outputs": [
    {
     "name": "stdout",
     "output_type": "stream",
     "text": [
      "+--------+--------+-------------------+--------+------+\n",
      "|item_idx|user_idx|          relevance|response|__iter|\n",
      "+--------+--------+-------------------+--------+------+\n",
      "|       0|       6|0.08652388167095482|       0|     1|\n",
      "|       3|       9|0.08787193847894961|       1|     1|\n",
      "+--------+--------+-------------------+--------+------+\n",
      "only showing top 2 rows\n",
      "\n"
     ]
    }
   ],
   "source": [
    "sim.log.filter(sf.col(\"__iter\") == 1).show(2)"
   ]
  },
  {
   "cell_type": "markdown",
   "metadata": {},
   "source": [
    "# Final prediction"
   ]
  },
  {
   "cell_type": "code",
   "execution_count": 28,
   "metadata": {
    "cellId": "s06ebpys4j0613t0tm6h5p"
   },
   "outputs": [
    {
     "name": "stderr",
     "output_type": "stream",
     "text": [
      "                                                                                \r"
     ]
    }
   ],
   "source": [
    "recs = model.predict(\n",
    "    log=sim.log,\n",
    "    k=K,\n",
    "    users=users,\n",
    "    items=items,\n",
    "    filter_seen_items=False\n",
    ").cache()\n",
    "###\n",
    "\n",
    "assert (recs\n",
    "        .groupBy('user_idx')\n",
    "        .agg(sf.count(\"item_idx\").alias(\"num_items\"))\n",
    "        .filter(sf.col(\"num_items\") == sf.lit(K))\n",
    "        .count() == users.count()\n",
    "       )"
   ]
  },
  {
   "cell_type": "code",
   "execution_count": 29,
   "metadata": {
    "cellId": "jkr7id6a4fotox3u6qyrn"
   },
   "outputs": [
    {
     "name": "stdout",
     "output_type": "stream",
     "text": [
      "Среднее число купленных товаров на пользователя после обучения модели = 0.5424\n"
     ]
    }
   ],
   "source": [
    "# responses\n",
    "true_resp = sim.sample_responses(\n",
    "    recs_df=recs,\n",
    "    user_features=users,\n",
    "    item_features=items,\n",
    "    action_models=popularity_model\n",
    ").cache()\n",
    "\n",
    "# quality\n",
    "print(f\"Среднее число купленных товаров на пользователя после обучения модели = {calc_metric(true_resp)}\")"
   ]
  },
  {
   "cell_type": "code",
   "execution_count": 30,
   "metadata": {
    "cellId": "yangpy3fohj3mn1c5yz2bf"
   },
   "outputs": [
    {
     "data": {
      "text/plain": [
       "DataFrame[item_idx: int, user_idx: int, relevance: double, response: int]"
      ]
     },
     "execution_count": 30,
     "metadata": {},
     "output_type": "execute_result"
    }
   ],
   "source": [
    "recs.unpersist()\n",
    "true_resp.unpersist()"
   ]
  },
  {
   "cell_type": "code",
   "execution_count": 31,
   "metadata": {
    "cellId": "p8gg6nh7uua3kdxoc8x7wn"
   },
   "outputs": [
    {
     "name": "stdout",
     "output_type": "stream",
     "text": [
      "+--------+-------------------+\n",
      "|item_idx|          relevance|\n",
      "+--------+-------------------+\n",
      "|       2| 0.7896858967192077|\n",
      "|       6| 0.7767498362076933|\n",
      "|       8| 0.7609249395208071|\n",
      "|       0| 0.4604719932907454|\n",
      "|       5|  0.453050186818375|\n",
      "|       3|0.43415641349761486|\n",
      "|       9|0.43080461761176597|\n",
      "|       1|0.15269372987556257|\n",
      "|       7| 0.1418713271137655|\n",
      "|       4|0.13983079457070446|\n",
      "+--------+-------------------+\n",
      "\n"
     ]
    }
   ],
   "source": [
    "model.item_popularity.orderBy(sf.col('relevance').desc()).show()"
   ]
  },
  {
   "cell_type": "markdown",
   "metadata": {},
   "source": [
    "True relevances:"
   ]
  },
  {
   "cell_type": "code",
   "execution_count": 32,
   "metadata": {},
   "outputs": [
    {
     "name": "stdout",
     "output_type": "stream",
     "text": [
      "+--------+----------+------------+----------+\n",
      "|item_idx|is_popular|is_unpopular|popularity|\n",
      "+--------+----------+------------+----------+\n",
      "|       8|         1|           0|      0.75|\n",
      "|       6|         1|           0|      0.75|\n",
      "|       2|         1|           0|      0.75|\n",
      "|       5|         0|           0|       0.4|\n",
      "|       0|         0|           0|       0.4|\n",
      "|       9|         0|           0|       0.4|\n",
      "|       3|         0|           0|       0.4|\n",
      "|       1|         0|           1|       0.1|\n",
      "|       4|         0|           1|       0.1|\n",
      "|       7|         0|           1|       0.1|\n",
      "+--------+----------+------------+----------+\n",
      "\n"
     ]
    }
   ],
   "source": [
    "popularity_model.model.stages[0].pop_df.orderBy(sf.col('popularity').desc()).show()"
   ]
  },
  {
   "cell_type": "code",
   "execution_count": null,
   "metadata": {},
   "outputs": [],
   "source": []
  }
 ],
 "metadata": {
  "kernelspec": {
   "display_name": "Python 3 (ipykernel)",
   "language": "python",
   "name": "python3"
  },
  "language_info": {
   "codemirror_mode": {
    "name": "ipython",
    "version": 3
   },
   "file_extension": ".py",
   "mimetype": "text/x-python",
   "name": "python",
   "nbconvert_exporter": "python",
   "pygments_lexer": "ipython3",
   "version": "3.9.13"
  },
  "notebookId": "cd4e698e-7892-45e1-a7aa-fe1453f4b402",
  "notebookPath": "sources/sim4rec/sber-simulator-main/task_1.ipynb",
  "vscode": {
   "interpreter": {
    "hash": "0c23ac1ac3d03469769ffca4283c7852312778d94b2cbd9b1a60eeafc1c4055f"
   }
  }
 },
 "nbformat": 4,
 "nbformat_minor": 4
}
