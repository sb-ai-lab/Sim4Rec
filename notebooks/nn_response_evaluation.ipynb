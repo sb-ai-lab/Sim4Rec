{
 "cells": [
  {
   "cell_type": "markdown",
   "metadata": {
    "cellId": "5nmr5qtyi4l6dv4003f5hk",
    "execution_id": "b4c3a56f-dd79-4dc8-9c15-e451a726c6d8"
   },
   "source": [
    "# RS evaluation with a custom response model"
   ]
  },
  {
   "cell_type": "markdown",
   "metadata": {
    "cellId": "a23y5u7l746q73y0tqxss",
    "execution_id": "b0740c39-9cda-411d-b832-490de8695080"
   },
   "source": [
    "## Imports and preparations"
   ]
  },
  {
   "cell_type": "code",
   "execution_count": 1,
   "metadata": {},
   "outputs": [],
   "source": [
    "%load_ext autoreload\n",
    "%autoreload 2\n",
    "# !pip install jupyter-black\n",
    "%load_ext jupyter_black"
   ]
  },
  {
   "cell_type": "code",
   "execution_count": 2,
   "metadata": {},
   "outputs": [],
   "source": [
    "import os\n",
    "import sys\n",
    "\n",
    "os.environ[\"JAVA_HOME\"] = \"/usr\"\n",
    "os.environ[\"PYSPARK_PYTHON\"] = sys.executable\n",
    "os.environ[\"PYSPARK_DRIVER_PYTHON\"] = sys.executable\n",
    "os.environ[\"CUDA_LAUNCH_BLOCKING\"] = \"1\"\n",
    "os.environ[\"OMP_NUM_THREADS\"] = \"32\"\n",
    "os.environ[\"NUMBA_NUM_THREADS\"] = \"4\""
   ]
  },
  {
   "cell_type": "code",
   "execution_count": 3,
   "metadata": {
    "cellId": "jlz0twee16goe1fisulv5"
   },
   "outputs": [],
   "source": [
    "import random\n",
    "import time\n",
    "import scipy\n",
    "import torch\n",
    "import numpy as np\n",
    "import pandas as pd\n",
    "import warnings\n",
    "\n",
    "from pyspark import SparkConf, StorageLevel\n",
    "from pyspark.ml import Pipeline\n",
    "from pyspark.sql import SparkSession\n",
    "import pyspark.sql.functions as sf\n",
    "from replay.models import UCB\n",
    "from tqdm.auto import tqdm\n",
    "\n",
    "from experiments.response_models.utils import plot_metric, calc_metric\n",
    "from pyspark.sql.functions import col"
   ]
  },
  {
   "cell_type": "code",
   "execution_count": 4,
   "metadata": {
    "cellId": "jlz0twee16goe1fisulv5"
   },
   "outputs": [],
   "source": [
    "from sim4rec.modules import RealDataGenerator\n",
    "from sim4rec.modules import Simulator\n",
    "from sim4rec.response import BernoulliResponse, ActionModelTransformer\n",
    "\n",
    "\n",
    "def warn(*args, **kwargs):\n",
    "    pass\n",
    "\n",
    "\n",
    "warnings.warn = warn"
   ]
  },
  {
   "cell_type": "code",
   "execution_count": 5,
   "metadata": {},
   "outputs": [],
   "source": [
    "# path to spark tmp folder and simulator checkpoints\n",
    "SPARK_LOCAL_DIR = \"./tmp/task_1\"\n",
    "CHECKPOINT_DIR = \"./tmp/task_1_checkpoints\""
   ]
  },
  {
   "cell_type": "code",
   "execution_count": 6,
   "metadata": {
    "cellId": "ku55idy38nqtlrc187ucq"
   },
   "outputs": [],
   "source": [
    "%%bash -s \"$CHECKPOINT_DIR\" \"$SPARK_LOCAL_DIR\"\n",
    "# simulator saves the interaction history between users and recommender system\n",
    "# to rerun the simulation cycle or begin a new one, clear the directory or use another CHECKPOINT_DIR\n",
    "rm -rf $1 $2"
   ]
  },
  {
   "cell_type": "code",
   "execution_count": 7,
   "metadata": {
    "cellId": "v1uc08ym8h8d7qxpmsop4"
   },
   "outputs": [
    {
     "name": "stderr",
     "output_type": "stream",
     "text": [
      "WARNING: An illegal reflective access operation has occurred\n",
      "WARNING: Illegal reflective access by org.apache.spark.unsafe.Platform (file:/root/.cache/pypoetry/virtualenvs/sim4rec-lKa0R1gD-py3.9/lib/python3.9/site-packages/pyspark/jars/spark-unsafe_2.12-3.1.3.jar) to constructor java.nio.DirectByteBuffer(long,int)\n",
      "WARNING: Please consider reporting this to the maintainers of org.apache.spark.unsafe.Platform\n",
      "WARNING: Use --illegal-access=warn to enable warnings of further illegal reflective access operations\n",
      "WARNING: All illegal access operations will be denied in a future release\n",
      "24/11/24 21:38:08 WARN NativeCodeLoader: Unable to load native-hadoop library for your platform... using builtin-java classes where applicable\n",
      "Using Spark's default log4j profile: org/apache/spark/log4j-defaults.properties\n",
      "Setting default log level to \"WARN\".\n",
      "To adjust logging level use sc.setLogLevel(newLevel). For SparkR, use setLogLevel(newLevel).\n",
      "24/11/24 21:38:09 WARN SparkConf: Note that spark.local.dir will be overridden by the value set by the cluster manager (via SPARK_LOCAL_DIRS in mesos/standalone/kubernetes and LOCAL_DIRS in YARN).\n"
     ]
    }
   ],
   "source": [
    "NUM_THREADS = 4\n",
    "\n",
    "spark = (\n",
    "    SparkSession.builder.appName(\"simulator\")\n",
    "    .master(f\"local[{NUM_THREADS}]\")\n",
    "    .config(\"spark.sql.shuffle.partitions\", f\"{NUM_THREADS * 3}\")\n",
    "    .config(\"spark.default.parallelism\", f\"{NUM_THREADS * 3}\")\n",
    "    .config(\"spark.driver.memory\", \"4G\")\n",
    "    .config(\"spark.executor.memory\", \"4G\")\n",
    "    .config(\"spark.driver.extraJavaOptions\", \"-XX:+UseG1GC\")\n",
    "    .config(\"spark.executor.extraJavaOptions\", \"-XX:+UseG1GC\")\n",
    "    .config(\"spark.local.dir\", SPARK_LOCAL_DIR)\n",
    "    .getOrCreate()\n",
    ")\n",
    "\n",
    "spark.sparkContext.setLogLevel(\"ERROR\")"
   ]
  },
  {
   "cell_type": "code",
   "execution_count": 8,
   "metadata": {
    "cellId": "9vf3sqixr4vgau073549pv"
   },
   "outputs": [],
   "source": [
    "K = 10  # number of iterations\n",
    "NUM_ITER = 10\n",
    "SEED = 1234\n",
    "np.random.seed(SEED)"
   ]
  },
  {
   "cell_type": "markdown",
   "metadata": {
    "cellId": "ffl9l89trncxzwbk5zq7gn",
    "execution_id": "cbbf5328-af84-4368-957e-3c000bd80332"
   },
   "source": [
    "## Data"
   ]
  },
  {
   "cell_type": "markdown",
   "metadata": {},
   "source": [
    "### Load ContentWise in tabular form. Uncomment for the first run.\n",
    "\n",
    "This preprocessing is similat to preprocessing in old `ContentWise` class: \n",
    "join interactions with impressions, binarize clicks, etc.\n",
    "\n",
    "ContentWise consists of following files:\n",
    "1. interactions.csv.gz:\n",
    "    * `utc_ts_milliseconds` -- interaction timestamp  \n",
    "    * `user_id` -- user id\n",
    "    * `item_id`, `series_id` -- video id, video series id. As long as only series were recommended, we threat 'series' as primary items\n",
    "    * `recommendation_id` -- key to match with recommendations\n",
    "    * `episode_number`, `series_length`, `item_type`, `interaction_type`, `vision_factor`, `explicit_rating` are ignored\n",
    "\n",
    "2. impressions-direct-link.csv.gz:\n",
    "   * `recommendation_id` -- impression id to match with responses, `-1` for unknown recommendation\n",
    "   * `recommendation_list_length`\n",
    "   * `recommended_series_list` -- string representation of python list of series ids\n",
    "   * `row_position` -- a position of recommendation slate on the site"
   ]
  },
  {
   "cell_type": "code",
   "execution_count": 9,
   "metadata": {},
   "outputs": [],
   "source": [
    "# cw_impr = \"data/ContentWiseImpressions/CW10M-CSV/impressions-direct-link.csv\"\n",
    "# impressions = spark.read.option(\"header\", \"true\").csv(cw_impr)\n",
    "# impressions = impressions.filter(col(\"recommendation_list_length\") == K)\n",
    "# impressions = impressions.withColumn(\n",
    "#     \"tmp\", sf.regexp_replace(\"recommended_series_list\", r\"\\[\\s*\", \"\")\n",
    "# )\n",
    "# impressions = impressions.withColumn(\"tmp\", sf.regexp_replace(\"tmp\", r\"\\s*\\]\", \"\"))\n",
    "# impressions = impressions.withColumn(\"tmp\", sf.regexp_replace(\"tmp\", r\"\\s+\", \" \"))\n",
    "# impressions = impressions.withColumn(\"tmp\", sf.split(\"tmp\", \" \"))\n",
    "# impressions = impressions.select(\n",
    "#     \"recommendation_id\", sf.posexplode(\"tmp\").alias(\"slate_pos\", \"item_id\")\n",
    "# ).drop(\"tmp\", \"recommendation_list_length\", \"recommended_series_list\", \"row_position\")\n",
    "# cw_inter = \"data/ContentWiseImpressions/CW10M-CSV/interactions.csv\"\n",
    "# interactions = spark.read.option(\"header\", \"true\").csv(cw_inter)\n",
    "# interactions = interactions.filter(col(\"recommendation_id\") != -1)\n",
    "# interactions = interactions.drop(\n",
    "#     \"item_id\",\n",
    "#     \"episode_number\",\n",
    "#     \"series_length\",\n",
    "#     \"item_type\",\n",
    "#     \"interaction_type\",\n",
    "#     \"vision_factor\",\n",
    "#     \"explicit_rating\",\n",
    "# )\n",
    "# interactions = interactions.withColumnRenamed(\"series_id\", \"item_id\")\n",
    "\n",
    "# recommendation_metadata = interactions.groupBy(\"recommendation_id\").agg(\n",
    "#     sf.min(\"utc_ts_milliseconds\").alias(\"recommendation_timestamp\"),\n",
    "#     sf.first(\"user_id\").alias(\"user_id\"),\n",
    "# )\n",
    "# # click om item = first click on item\n",
    "# interactions = interactions.drop(\"user_id\")\n",
    "# interactions = interactions.groupBy(\"recommendation_id\", \"item_id\").agg(\n",
    "#     sf.min(\"utc_ts_milliseconds\").alias(\"response_timestamp\")\n",
    "# )\n",
    "# # add response\n",
    "# interactions = interactions.withColumn(\"response\", sf.lit(1))\n",
    "# content_wise_all = impressions.join(\n",
    "#     interactions, how=\"left\", on=[\"recommendation_id\", \"item_id\"]\n",
    "# ).join(recommendation_metadata, on=\"recommendation_id\")\n",
    "# content_wise_all = content_wise_all.withColumn(\n",
    "#     \"response\", sf.coalesce(\"response\", sf.lit(0))\n",
    "# )\n",
    "\n",
    "# # split train-val-test by global time:\n",
    "# total_cnt = content_wise_all.count()\n",
    "# train_cnt = int(0.6 * total_cnt)\n",
    "# test_cnt = int(0.2 * total_cnt)\n",
    "# val_cnt = int(0.2 * total_cnt)\n",
    "# sorted_df = content_wise_all.orderBy(\"recommendation_timestamp\")\n",
    "# train = sorted_df.limit(train_cnt)\n",
    "# val = sorted_df.subtract(train).limit(val_cnt)\n",
    "# test = sorted_df.subtract(train).subtract(val)\n",
    "# MAX_TIME = content_wise_all.agg(sf.max(\"recommendation_timestamp\")).collect()[0][0]\n",
    "# MAX_TIME"
   ]
  },
  {
   "cell_type": "code",
   "execution_count": 10,
   "metadata": {},
   "outputs": [],
   "source": [
    "# def content_wise_to_simlog_format(df: \"DataFrame\"):\n",
    "#     \"\"\"Convert ContentWise dataset to math sim4rec log schema\"\"\"\n",
    "#     df = df.drop(\"response_timestamp\")\n",
    "#     df = df.withColumn(\"response_proba\", sf.col(\"response\").cast(\"float\"))\n",
    "#     df = df.withColumnRenamed(\"item_id\", \"item_idx\")\n",
    "#     df = df.withColumnRenamed(\"user_id\", \"user_idx\")\n",
    "#     # place all historical interactions BEFORE the simulated\n",
    "#     df = df.withColumn(\n",
    "#         \"__iter\",\n",
    "#         (sf.col(\"recommendation_timestamp\").cast(\"bigint\") - int(MAX_TIME)) / 1000,\n",
    "#     ).drop(\"recommendation_timestamp\", \"recommendation_id\")\n",
    "#     return df\n",
    "\n",
    "\n",
    "# train = content_wise_to_simlog_format(train)\n",
    "# test = content_wise_to_simlog_format(test)\n",
    "# val = content_wise_to_simlog_format(val)\n",
    "# val.show(10)"
   ]
  },
  {
   "cell_type": "code",
   "execution_count": 11,
   "metadata": {},
   "outputs": [],
   "source": [
    "# from sim4rec.response.nn_response import SIM_LOG_SCHEMA\n",
    "# print(SIM_LOG_SCHEMA, train.schema)\n",
    "\n",
    "# # cast types to match simlog schema\n",
    "# train = train.withColumn(\"relevance\", 1 / (sf.col(\"slate_pos\") + 1))\n",
    "# val = train.withColumn(\"relevance\", 1 / (sf.col(\"slate_pos\") + 1))\n",
    "# test = train.withColumn(\"relevance\", 1 / (sf.col(\"slate_pos\") + 1))\n",
    "\n",
    "# for field in SIM_LOG_SCHEMA:\n",
    "#     train = train.withColumn(field.name, train[field.name].cast(field.dataType))\n",
    "#     val = val.withColumn(field.name, val[field.name].cast(field.dataType))\n",
    "#     test = test.withColumn(field.name, test[field.name].cast(field.dataType))"
   ]
  },
  {
   "cell_type": "code",
   "execution_count": 12,
   "metadata": {},
   "outputs": [],
   "source": [
    "# # this takes some time\n",
    "# !rm -rdf parquet && mkdir parquet\n",
    "# train.write.partitionBy(\"user_idx\").parquet(\"parquet/train\")\n",
    "# val.write.partitionBy(\"user_idx\").parquet(\"parquet/val\")\n",
    "# test.write.partitionBy(\"user_idx\").parquet(\"parquet/test\")"
   ]
  },
  {
   "cell_type": "code",
   "execution_count": 13,
   "metadata": {},
   "outputs": [
    {
     "name": "stderr",
     "output_type": "stream",
     "text": [
      "                                                                                \r"
     ]
    }
   ],
   "source": [
    "# re-read:\n",
    "train = spark.read.parquet(\"../parquet/train\")\n",
    "val = spark.read.parquet(\"../parquet/val\")\n",
    "test = spark.read.parquet(\"../parquet/test\")"
   ]
  },
  {
   "cell_type": "code",
   "execution_count": 14,
   "metadata": {},
   "outputs": [
    {
     "name": "stdout",
     "output_type": "stream",
     "text": [
      "+--------+---------+--------+--------------+--------+-------------------+--------+\n",
      "|item_idx|slate_pos|response|response_proba|  __iter|          relevance|user_idx|\n",
      "+--------+---------+--------+--------------+--------+-------------------+--------+\n",
      "|   25508|        0|       0|           0.0|-8211853|                1.0|   35783|\n",
      "|    9245|        8|       0|           0.0|-8211853| 0.1111111111111111|   35783|\n",
      "|    5368|        6|       1|           1.0|-8211853|0.14285714285714285|   35783|\n",
      "|    5939|        4|       0|           0.0|-8211853|                0.2|   35783|\n",
      "|   10685|        5|       0|           0.0|-8211853|0.16666666666666666|   35783|\n",
      "|   21058|        3|       0|           0.0|-8211853|               0.25|   35783|\n",
      "|    5018|        9|       0|           0.0|-8211853|                0.1|   35783|\n",
      "|   22613|        7|       0|           0.0|-8211853|              0.125|   35783|\n",
      "|   17175|        2|       0|           0.0|-8211853| 0.3333333333333333|   35783|\n",
      "|    7618|        1|       0|           0.0|-8211853|                0.5|   35783|\n",
      "+--------+---------+--------+--------------+--------+-------------------+--------+\n",
      "only showing top 10 rows\n",
      "\n"
     ]
    }
   ],
   "source": [
    "train.show(10)"
   ]
  },
  {
   "cell_type": "code",
   "execution_count": 15,
   "metadata": {
    "cellId": "zh9qtijcn5143mi4887od"
   },
   "outputs": [
    {
     "name": "stderr",
     "output_type": "stream",
     "text": [
      "                                                                                \r"
     ]
    },
    {
     "data": {
      "text/plain": [
       "(2658, 19205)"
      ]
     },
     "execution_count": 15,
     "metadata": {},
     "output_type": "execute_result"
    }
   ],
   "source": [
    "users = [\n",
    "    [int(row[\"user_idx\"])] for row in train.select(\"user_idx\").distinct().collect()\n",
    "]\n",
    "NUM_USERS = len(users)\n",
    "users = spark.createDataFrame(users, schema=[\"user_idx\"])\n",
    "\n",
    "items = [\n",
    "    [int(row[\"item_idx\"])] for row in train.select(\"item_idx\").distinct().collect()\n",
    "]\n",
    "NUM_ITEMS = len(items)\n",
    "items = spark.createDataFrame(items, schema=[\"item_idx\"])\n",
    "\n",
    "NUM_ITEMS, NUM_USERS"
   ]
  },
  {
   "cell_type": "code",
   "execution_count": 16,
   "metadata": {
    "cellId": "3btpzal8hblukqhq46asd"
   },
   "outputs": [
    {
     "name": "stderr",
     "output_type": "stream",
     "text": [
      "                                                                                \r"
     ]
    },
    {
     "data": {
      "text/plain": [
       "2658"
      ]
     },
     "execution_count": 16,
     "metadata": {},
     "output_type": "execute_result"
    }
   ],
   "source": [
    "item_generator = RealDataGenerator(label=\"items_real\", seed=SEED)\n",
    "user_generator = RealDataGenerator(label=\"users_real\", seed=SEED)\n",
    "\n",
    "item_generator.fit(items)\n",
    "user_generator.fit(users)\n",
    "\n",
    "item_generator.generate(NUM_ITEMS)\n",
    "user_generator.generate(NUM_USERS)\n",
    "item_generator.getDataSize()"
   ]
  },
  {
   "cell_type": "markdown",
   "metadata": {
    "cellId": "1crcvslqi2qm4dnavh3obq",
    "execution_id": "2c640f43-9dd5-445d-9511-d0d100fc830c"
   },
   "source": [
    "# One iteration of simulation cycle step by step"
   ]
  },
  {
   "cell_type": "markdown",
   "metadata": {
    "cellId": "q2oio9pylodwwu9qptdom",
    "execution_id": "0f252faf-52c4-4a99-ac83-b425c14d055e"
   },
   "source": [
    "## (1) Choise of users"
   ]
  },
  {
   "cell_type": "code",
   "execution_count": 17,
   "metadata": {
    "cellId": "erkzmjzvo06nl5bok1qv5n"
   },
   "outputs": [
    {
     "data": {
      "text/plain": [
       "1964"
      ]
     },
     "execution_count": 17,
     "metadata": {},
     "output_type": "execute_result"
    }
   ],
   "source": [
    "user_generator.sample(0.1).count()"
   ]
  },
  {
   "cell_type": "markdown",
   "metadata": {
    "cellId": "tnbcus0l6hcbvoht2rnge",
    "execution_id": "a45bc1e9-f284-4702-bfeb-d525f9349d20"
   },
   "source": [
    "## (2) Choise of items\n",
    "During the simulation cycle all 5276 items will be available at each iteration."
   ]
  },
  {
   "cell_type": "markdown",
   "metadata": {
    "cellId": "4kfl2on9vg46431mkek4ot",
    "execution_id": "85a06070-5f73-407a-ad84-ff781e7d04fb"
   },
   "source": [
    "## (3) Initialization of recommender model"
   ]
  },
  {
   "cell_type": "markdown",
   "metadata": {
    "cellId": "p7qktnabe0pupwrpgo1vu",
    "execution_id": "4f4957f4-cea9-47fe-9140-95dafb48e159"
   },
   "source": [
    "### Baseline"
   ]
  },
  {
   "cell_type": "code",
   "execution_count": 18,
   "metadata": {
    "cellId": "kck71xz164nwlq1tlo81d"
   },
   "outputs": [
    {
     "name": "stderr",
     "output_type": "stream",
     "text": [
      "                                                                                \r"
     ]
    },
    {
     "data": {
      "text/html": [
       "<div>\n",
       "<style scoped>\n",
       "    .dataframe tbody tr th:only-of-type {\n",
       "        vertical-align: middle;\n",
       "    }\n",
       "\n",
       "    .dataframe tbody tr th {\n",
       "        vertical-align: top;\n",
       "    }\n",
       "\n",
       "    .dataframe thead th {\n",
       "        text-align: right;\n",
       "    }\n",
       "</style>\n",
       "<table border=\"1\" class=\"dataframe\">\n",
       "  <thead>\n",
       "    <tr style=\"text-align: right;\">\n",
       "      <th></th>\n",
       "      <th>user_idx</th>\n",
       "      <th>item_idx</th>\n",
       "      <th>relevance</th>\n",
       "    </tr>\n",
       "  </thead>\n",
       "  <tbody>\n",
       "    <tr>\n",
       "      <th>0</th>\n",
       "      <td>232</td>\n",
       "      <td>16330</td>\n",
       "      <td>0.000376</td>\n",
       "    </tr>\n",
       "    <tr>\n",
       "      <th>1</th>\n",
       "      <td>232</td>\n",
       "      <td>17915</td>\n",
       "      <td>0.000376</td>\n",
       "    </tr>\n",
       "    <tr>\n",
       "      <th>2</th>\n",
       "      <td>23288</td>\n",
       "      <td>17599</td>\n",
       "      <td>0.000376</td>\n",
       "    </tr>\n",
       "    <tr>\n",
       "      <th>3</th>\n",
       "      <td>23288</td>\n",
       "      <td>14627</td>\n",
       "      <td>0.000376</td>\n",
       "    </tr>\n",
       "  </tbody>\n",
       "</table>\n",
       "</div>"
      ],
      "text/plain": [
       "   user_idx  item_idx  relevance\n",
       "0       232     16330   0.000376\n",
       "1       232     17915   0.000376\n",
       "2     23288     17599   0.000376\n",
       "3     23288     14627   0.000376"
      ]
     },
     "execution_count": 18,
     "metadata": {},
     "output_type": "execute_result"
    }
   ],
   "source": [
    "# RePlay model should be fitted on historic data before it can be refitted in cycle\n",
    "# Let's assume we had one interaction for simplicity\n",
    "model = UCB(sample=True, seed=SEED, exploration_coef=0.1)\n",
    "model.fit(\n",
    "    log=users.limit(1).crossJoin(items.limit(1)).withColumn(\"relevance\", sf.lit(1))\n",
    ")\n",
    "pred = model.predict(log=None, users=users.limit(2), items=items, k=2)\n",
    "pred.toPandas()"
   ]
  },
  {
   "cell_type": "markdown",
   "metadata": {
    "cellId": "7m11axprgbnc8wgrnr20km",
    "execution_id": "1bf409d8-8df8-4ff6-a96d-eab7b07f54d8"
   },
   "source": [
    "The response function in this tutorial is very simple. The response is binary, response == 1 means the user bought the item.  \n",
    "The probability of response is one tenth of the last digit of an `item_idx`. The response function is constant over time.\n",
    "\n",
    "Response function gets dataframe with columns `user_idx`, `item_idx`, `relevance`, and returns dataframe with columns `user_idx`, `item_idx`, `relevance`, `response`, adding the response column to the initial ones. If the initial dataframe had some other columns, these will also be returned."
   ]
  },
  {
   "cell_type": "markdown",
   "metadata": {},
   "source": [
    "Example how the response is generated for user-item pair"
   ]
  },
  {
   "cell_type": "markdown",
   "metadata": {},
   "source": [
    "## (4) Neural response function"
   ]
  },
  {
   "cell_type": "code",
   "execution_count": 19,
   "metadata": {},
   "outputs": [],
   "source": [
    "from sim4rec.response import NNResponseEstimator, NNResponseTransformer\n",
    "\n",
    "proba_model = NNResponseEstimator(\n",
    "    outputCol=\"response_proba\",\n",
    "    log_dir=f\"{CHECKPOINT_DIR}/pipeline\",\n",
    "    model_name=\"SlatewiseTransformer\",\n",
    "    hist_data_dir=\"../parquet/train\",\n",
    "    val_data_dir=\"../parquet/val\",\n",
    "    batch_size=256,\n",
    "    lr=1e-3,\n",
    "    num_epochs=5,\n",
    ")"
   ]
  },
  {
   "cell_type": "code",
   "execution_count": 20,
   "metadata": {},
   "outputs": [
    {
     "data": {
      "text/plain": [
       "'1.9.1+cu102'"
      ]
     },
     "execution_count": 20,
     "metadata": {},
     "output_type": "execute_result"
    }
   ],
   "source": [
    "torch.__version__"
   ]
  },
  {
   "cell_type": "code",
   "execution_count": 21,
   "metadata": {},
   "outputs": [
    {
     "name": "stderr",
     "output_type": "stream",
     "text": [
      "                                                                                \r"
     ]
    },
    {
     "data": {
      "application/vnd.jupyter.widget-view+json": {
       "model_id": "c92619a38c4448efbf86acaa2e3404b6",
       "version_major": 2,
       "version_minor": 0
      },
      "text/plain": [
       "epoch:   0%|          | 0/5 [00:00<?, ?it/s]"
      ]
     },
     "metadata": {},
     "output_type": "display_data"
    },
    {
     "data": {
      "application/vnd.jupyter.widget-view+json": {
       "model_id": "5aa3f610333a4184a1309dc23a2f7a4e",
       "version_major": 2,
       "version_minor": 0
      },
      "text/plain": [
       "evaluate::   0%|          | 0/76 [00:00<?, ?it/s]"
      ]
     },
     "metadata": {},
     "output_type": "display_data"
    },
    {
     "name": "stdout",
     "output_type": "stream",
     "text": [
      "metrics(rocauc=tensor(0.5021), f1=tensor(0.1555), accuracy=tensor(0.6724))\n"
     ]
    },
    {
     "data": {
      "application/vnd.jupyter.widget-view+json": {
       "model_id": "0b8abae4c59b445bba05faa1dd2d80ca",
       "version_major": 2,
       "version_minor": 0
      },
      "text/plain": [
       "train epoch::   0%|          | 0/76 [00:00<?, ?it/s]"
      ]
     },
     "metadata": {},
     "output_type": "display_data"
    },
    {
     "data": {
      "application/vnd.jupyter.widget-view+json": {
       "model_id": "13646cb019684e7fbfd8231ee19dca91",
       "version_major": 2,
       "version_minor": 0
      },
      "text/plain": [
       "evaluate::   0%|          | 0/76 [00:00<?, ?it/s]"
      ]
     },
     "metadata": {},
     "output_type": "display_data"
    },
    {
     "name": "stdout",
     "output_type": "stream",
     "text": [
      "metrics(rocauc=tensor(0.6201), f1=tensor(0.2110), accuracy=tensor(0.2747))\n"
     ]
    },
    {
     "data": {
      "application/vnd.jupyter.widget-view+json": {
       "model_id": "556abf1aec6145faa616a0120475ec5a",
       "version_major": 2,
       "version_minor": 0
      },
      "text/plain": [
       "train epoch::   0%|          | 0/76 [00:00<?, ?it/s]"
      ]
     },
     "metadata": {},
     "output_type": "display_data"
    },
    {
     "data": {
      "application/vnd.jupyter.widget-view+json": {
       "model_id": "5277b94fe96e44b983043bfd30168fe8",
       "version_major": 2,
       "version_minor": 0
      },
      "text/plain": [
       "evaluate::   0%|          | 0/76 [00:00<?, ?it/s]"
      ]
     },
     "metadata": {},
     "output_type": "display_data"
    },
    {
     "name": "stdout",
     "output_type": "stream",
     "text": [
      "metrics(rocauc=tensor(0.6472), f1=tensor(0.2158), accuracy=tensor(0.2727))\n"
     ]
    },
    {
     "data": {
      "application/vnd.jupyter.widget-view+json": {
       "model_id": "b0de39b1b337487e91956f124442ea69",
       "version_major": 2,
       "version_minor": 0
      },
      "text/plain": [
       "train epoch::   0%|          | 0/76 [00:00<?, ?it/s]"
      ]
     },
     "metadata": {},
     "output_type": "display_data"
    },
    {
     "data": {
      "application/vnd.jupyter.widget-view+json": {
       "model_id": "5b0847aae54e40cd83f1949604411b2d",
       "version_major": 2,
       "version_minor": 0
      },
      "text/plain": [
       "evaluate::   0%|          | 0/76 [00:00<?, ?it/s]"
      ]
     },
     "metadata": {},
     "output_type": "display_data"
    },
    {
     "name": "stdout",
     "output_type": "stream",
     "text": [
      "metrics(rocauc=tensor(0.7152), f1=tensor(0.2459), accuracy=tensor(0.8811))\n"
     ]
    },
    {
     "data": {
      "application/vnd.jupyter.widget-view+json": {
       "model_id": "b5eded98dde34ea5aa4413da59eb7f12",
       "version_major": 2,
       "version_minor": 0
      },
      "text/plain": [
       "train epoch::   0%|          | 0/76 [00:00<?, ?it/s]"
      ]
     },
     "metadata": {},
     "output_type": "display_data"
    },
    {
     "data": {
      "application/vnd.jupyter.widget-view+json": {
       "model_id": "88ed4271bd584c59bdd6816a5aa5663c",
       "version_major": 2,
       "version_minor": 0
      },
      "text/plain": [
       "evaluate::   0%|          | 0/76 [00:00<?, ?it/s]"
      ]
     },
     "metadata": {},
     "output_type": "display_data"
    },
    {
     "name": "stdout",
     "output_type": "stream",
     "text": [
      "metrics(rocauc=tensor(0.7275), f1=tensor(0.2512), accuracy=tensor(0.4530))\n"
     ]
    },
    {
     "data": {
      "application/vnd.jupyter.widget-view+json": {
       "model_id": "5044cb0b74e34474974c6e72b768e082",
       "version_major": 2,
       "version_minor": 0
      },
      "text/plain": [
       "train epoch::   0%|          | 0/76 [00:00<?, ?it/s]"
      ]
     },
     "metadata": {},
     "output_type": "display_data"
    },
    {
     "data": {
      "application/vnd.jupyter.widget-view+json": {
       "model_id": "71ff502c71fb432d8d745c8767f9cc76",
       "version_major": 2,
       "version_minor": 0
      },
      "text/plain": [
       "evaluate::   0%|          | 0/76 [00:00<?, ?it/s]"
      ]
     },
     "metadata": {},
     "output_type": "display_data"
    },
    {
     "name": "stdout",
     "output_type": "stream",
     "text": [
      "metrics(rocauc=tensor(0.7352), f1=tensor(0.2665), accuracy=tensor(0.8777))\n"
     ]
    }
   ],
   "source": [
    "# Fit and train NN response function, save checkpoint to the disk\n",
    "\n",
    "proba_model = proba_model.fit(train)\n",
    "!rm -rdf response_function_checkpoint\n",
    "proba_model.save(\"response_function_checkpoint\")"
   ]
  },
  {
   "cell_type": "code",
   "execution_count": 22,
   "metadata": {},
   "outputs": [],
   "source": [
    "# reload saved response model\n",
    "proba_model = NNResponseTransformer.load(\"response_function_checkpoint\")"
   ]
  },
  {
   "cell_type": "code",
   "execution_count": 23,
   "metadata": {},
   "outputs": [],
   "source": [
    "# create simlog dir (naturally it is created within the simulator pipeline)\n",
    "!mkdir -p /root/notebooks/tmp/task_1_checkpoints/pipeline"
   ]
  },
  {
   "cell_type": "code",
   "execution_count": 25,
   "metadata": {},
   "outputs": [
    {
     "name": "stderr",
     "output_type": "stream",
     "text": [
      "[Stage 4272:>                                                       (0 + 1) / 1]\r"
     ]
    },
    {
     "name": "stdout",
     "output_type": "stream",
     "text": [
      "+--------+--------+--------------------+-------------------+\n",
      "|user_idx|item_idx|           relevance|     response_proba|\n",
      "+--------+--------+--------------------+-------------------+\n",
      "|   23288|   17599|3.762227238525207E-4|0.19280970096588135|\n",
      "|   23288|   14627|3.762227238525207E-4| 0.1980724036693573|\n",
      "|     232|   16330|3.762227238525207E-4| 0.1340920478105545|\n",
      "|     232|   17915|3.762227238525207E-4|0.07575525343418121|\n",
      "+--------+--------+--------------------+-------------------+\n",
      "\n"
     ]
    },
    {
     "name": "stderr",
     "output_type": "stream",
     "text": [
      "                                                                                \r"
     ]
    }
   ],
   "source": [
    "test_response = proba_model.transform(pred)\n",
    "test_response.show()"
   ]
  },
  {
   "cell_type": "markdown",
   "metadata": {},
   "source": [
    "### Pipelines work as well"
   ]
  },
  {
   "cell_type": "code",
   "execution_count": 26,
   "metadata": {},
   "outputs": [],
   "source": [
    "br = BernoulliResponse(inputCol=\"response_proba\", outputCol=\"response\", seed=SEED)\n",
    "response_pipeline = Pipeline(stages=[proba_model, br])\n",
    "response_pipeline = response_pipeline.fit(items)"
   ]
  },
  {
   "cell_type": "code",
   "execution_count": 27,
   "metadata": {},
   "outputs": [
    {
     "name": "stderr",
     "output_type": "stream",
     "text": [
      "                                                                                \r"
     ]
    }
   ],
   "source": [
    "test_response = response_pipeline.transform(pred)"
   ]
  },
  {
   "cell_type": "code",
   "execution_count": 28,
   "metadata": {},
   "outputs": [
    {
     "name": "stderr",
     "output_type": "stream",
     "text": [
      "                                                                                \r"
     ]
    },
    {
     "data": {
      "text/html": [
       "<div>\n",
       "<style scoped>\n",
       "    .dataframe tbody tr th:only-of-type {\n",
       "        vertical-align: middle;\n",
       "    }\n",
       "\n",
       "    .dataframe tbody tr th {\n",
       "        vertical-align: top;\n",
       "    }\n",
       "\n",
       "    .dataframe thead th {\n",
       "        text-align: right;\n",
       "    }\n",
       "</style>\n",
       "<table border=\"1\" class=\"dataframe\">\n",
       "  <thead>\n",
       "    <tr style=\"text-align: right;\">\n",
       "      <th></th>\n",
       "      <th>user_idx</th>\n",
       "      <th>item_idx</th>\n",
       "      <th>relevance</th>\n",
       "      <th>response_proba</th>\n",
       "      <th>response</th>\n",
       "    </tr>\n",
       "  </thead>\n",
       "  <tbody>\n",
       "    <tr>\n",
       "      <th>0</th>\n",
       "      <td>23288</td>\n",
       "      <td>17599</td>\n",
       "      <td>0.000376</td>\n",
       "      <td>0.192810</td>\n",
       "      <td>0</td>\n",
       "    </tr>\n",
       "    <tr>\n",
       "      <th>1</th>\n",
       "      <td>23288</td>\n",
       "      <td>14627</td>\n",
       "      <td>0.000376</td>\n",
       "      <td>0.198072</td>\n",
       "      <td>0</td>\n",
       "    </tr>\n",
       "    <tr>\n",
       "      <th>2</th>\n",
       "      <td>232</td>\n",
       "      <td>16330</td>\n",
       "      <td>0.000376</td>\n",
       "      <td>0.134092</td>\n",
       "      <td>0</td>\n",
       "    </tr>\n",
       "    <tr>\n",
       "      <th>3</th>\n",
       "      <td>232</td>\n",
       "      <td>17915</td>\n",
       "      <td>0.000376</td>\n",
       "      <td>0.075755</td>\n",
       "      <td>0</td>\n",
       "    </tr>\n",
       "  </tbody>\n",
       "</table>\n",
       "</div>"
      ],
      "text/plain": [
       "   user_idx  item_idx  relevance  response_proba  response\n",
       "0     23288     17599   0.000376        0.192810         0\n",
       "1     23288     14627   0.000376        0.198072         0\n",
       "2       232     16330   0.000376        0.134092         0\n",
       "3       232     17915   0.000376        0.075755         0"
      ]
     },
     "execution_count": 28,
     "metadata": {},
     "output_type": "execute_result"
    }
   ],
   "source": [
    "test_response.toPandas()"
   ]
  },
  {
   "cell_type": "markdown",
   "metadata": {
    "cellId": "oklaxbiawagxloskdgy6g",
    "execution_id": "418b174f-f4be-49fe-88aa-585826871197"
   },
   "source": [
    "## (5) Fitting of new recommender model"
   ]
  },
  {
   "cell_type": "markdown",
   "metadata": {},
   "source": [
    "After receiving responses to recommendations, we can use this information to update the recommender model. To do this, we should rename column `response` to `relevance`."
   ]
  },
  {
   "cell_type": "code",
   "execution_count": 29,
   "metadata": {},
   "outputs": [
    {
     "name": "stderr",
     "output_type": "stream",
     "text": [
      "                                                                                \r"
     ]
    },
    {
     "data": {
      "text/html": [
       "<div>\n",
       "<style scoped>\n",
       "    .dataframe tbody tr th:only-of-type {\n",
       "        vertical-align: middle;\n",
       "    }\n",
       "\n",
       "    .dataframe tbody tr th {\n",
       "        vertical-align: top;\n",
       "    }\n",
       "\n",
       "    .dataframe thead th {\n",
       "        text-align: right;\n",
       "    }\n",
       "</style>\n",
       "<table border=\"1\" class=\"dataframe\">\n",
       "  <thead>\n",
       "    <tr style=\"text-align: right;\">\n",
       "      <th></th>\n",
       "      <th>user_idx</th>\n",
       "      <th>item_idx</th>\n",
       "      <th>relevance</th>\n",
       "    </tr>\n",
       "  </thead>\n",
       "  <tbody>\n",
       "    <tr>\n",
       "      <th>0</th>\n",
       "      <td>23288</td>\n",
       "      <td>17599</td>\n",
       "      <td>0</td>\n",
       "    </tr>\n",
       "    <tr>\n",
       "      <th>1</th>\n",
       "      <td>23288</td>\n",
       "      <td>14627</td>\n",
       "      <td>0</td>\n",
       "    </tr>\n",
       "    <tr>\n",
       "      <th>2</th>\n",
       "      <td>232</td>\n",
       "      <td>16330</td>\n",
       "      <td>0</td>\n",
       "    </tr>\n",
       "    <tr>\n",
       "      <th>3</th>\n",
       "      <td>232</td>\n",
       "      <td>17915</td>\n",
       "      <td>0</td>\n",
       "    </tr>\n",
       "  </tbody>\n",
       "</table>\n",
       "</div>"
      ],
      "text/plain": [
       "   user_idx  item_idx  relevance\n",
       "0     23288     17599          0\n",
       "1     23288     14627          0\n",
       "2       232     16330          0\n",
       "3       232     17915          0"
      ]
     },
     "execution_count": 29,
     "metadata": {},
     "output_type": "execute_result"
    }
   ],
   "source": [
    "new_log = test_response.drop(\"relevance\", \"response_proba\").withColumnRenamed(\n",
    "    \"response\", \"relevance\"\n",
    ")\n",
    "new_log.limit(5).toPandas()"
   ]
  },
  {
   "cell_type": "code",
   "execution_count": 30,
   "metadata": {},
   "outputs": [
    {
     "name": "stderr",
     "output_type": "stream",
     "text": [
      "                                                                                \r"
     ]
    },
    {
     "data": {
      "text/html": [
       "<div>\n",
       "<style scoped>\n",
       "    .dataframe tbody tr th:only-of-type {\n",
       "        vertical-align: middle;\n",
       "    }\n",
       "\n",
       "    .dataframe tbody tr th {\n",
       "        vertical-align: top;\n",
       "    }\n",
       "\n",
       "    .dataframe thead th {\n",
       "        text-align: right;\n",
       "    }\n",
       "</style>\n",
       "<table border=\"1\" class=\"dataframe\">\n",
       "  <thead>\n",
       "    <tr style=\"text-align: right;\">\n",
       "      <th></th>\n",
       "      <th>item_idx</th>\n",
       "      <th>relevance</th>\n",
       "    </tr>\n",
       "  </thead>\n",
       "  <tbody>\n",
       "    <tr>\n",
       "      <th>0</th>\n",
       "      <td>16330</td>\n",
       "      <td>0.37233</td>\n",
       "    </tr>\n",
       "    <tr>\n",
       "      <th>1</th>\n",
       "      <td>17915</td>\n",
       "      <td>0.37233</td>\n",
       "    </tr>\n",
       "    <tr>\n",
       "      <th>2</th>\n",
       "      <td>14627</td>\n",
       "      <td>0.37233</td>\n",
       "    </tr>\n",
       "    <tr>\n",
       "      <th>3</th>\n",
       "      <td>17599</td>\n",
       "      <td>0.37233</td>\n",
       "    </tr>\n",
       "  </tbody>\n",
       "</table>\n",
       "</div>"
      ],
      "text/plain": [
       "   item_idx  relevance\n",
       "0     16330    0.37233\n",
       "1     17915    0.37233\n",
       "2     14627    0.37233\n",
       "3     17599    0.37233"
      ]
     },
     "execution_count": 30,
     "metadata": {},
     "output_type": "execute_result"
    }
   ],
   "source": [
    "model.fit(log=new_log)\n",
    "model.item_popularity.limit(5).toPandas()"
   ]
  },
  {
   "cell_type": "markdown",
   "metadata": {
    "cellId": "ytr06uktdlrtba7yym35z",
    "execution_id": "875247d7-4576-4f2e-8524-57a90ec7b530"
   },
   "source": [
    "## (6) Quality of recommendations"
   ]
  },
  {
   "cell_type": "markdown",
   "metadata": {
    "cellId": "rlp6n6ghul6do1y9tnfs3",
    "execution_id": "c66c5616-7b51-46fb-bf64-ff3aae3560a3"
   },
   "source": [
    "Quality is the mean number of positive responses per user."
   ]
  },
  {
   "cell_type": "code",
   "execution_count": 31,
   "metadata": {
    "cellId": "ggmpn0ggz9nq4qt06ubae"
   },
   "outputs": [
    {
     "name": "stderr",
     "output_type": "stream",
     "text": [
      "                                                                                \r"
     ]
    },
    {
     "data": {
      "text/plain": [
       "0.0"
      ]
     },
     "execution_count": 31,
     "metadata": {},
     "output_type": "execute_result"
    }
   ],
   "source": [
    "calc_metric(test_response)"
   ]
  },
  {
   "cell_type": "markdown",
   "metadata": {
    "cellId": "o0o3kq6tjrs7tuvbdikavd",
    "execution_id": "7c137458-8817-41ef-aa39-c255fe3286f6"
   },
   "source": [
    "# Training the model in the simulator"
   ]
  },
  {
   "cell_type": "code",
   "execution_count": 32,
   "metadata": {
    "cellId": "kkg4h3xdwqhgpk4gs9y37m"
   },
   "outputs": [],
   "source": [
    "%%bash -s \"$CHECKPOINT_DIR\"\n",
    "rm -rf $1"
   ]
  },
  {
   "cell_type": "markdown",
   "metadata": {
    "cellId": "wkff236bnjdemsw693fj6s",
    "execution_id": "2f344684-ba2b-4d19-9079-527e6e2d7969"
   },
   "source": [
    "## Simulator initialization"
   ]
  },
  {
   "cell_type": "code",
   "execution_count": 33,
   "metadata": {
    "cellId": "9eplt0wb7cnd273dkt5n6"
   },
   "outputs": [],
   "source": [
    "user_generator.initSeedSequence(SEED)\n",
    "item_generator.initSeedSequence(SEED)\n",
    "\n",
    "sim = Simulator(\n",
    "    user_gen=user_generator,\n",
    "    item_gen=item_generator,\n",
    "    data_dir=f\"{CHECKPOINT_DIR}/pipeline\",\n",
    "    user_key_col=\"user_idx\",\n",
    "    item_key_col=\"item_idx\",\n",
    "    spark_session=spark,\n",
    ")"
   ]
  },
  {
   "cell_type": "markdown",
   "metadata": {
    "cellId": "32xq7dw4q0uk4bwf04bzac",
    "execution_id": "5a37dcac-ecb3-4c8a-b613-96059682e31d"
   },
   "source": [
    "### Check that the format is correct"
   ]
  },
  {
   "cell_type": "code",
   "execution_count": 34,
   "metadata": {
    "cellId": "mz1tro3j75j8a8hcuvjvl7"
   },
   "outputs": [],
   "source": [
    "pred = model.predict(log=None, users=users.limit(10), items=items, k=K)\n",
    "\n",
    "assert pred.columns == [\"user_idx\", \"item_idx\", \"relevance\"]\n",
    "assert (\n",
    "    pred.groupBy(\"user_idx\")\n",
    "    .agg(sf.countDistinct(\"item_idx\").alias(\"num_items\"))\n",
    "    .filter(sf.col(\"num_items\") == sf.lit(K))\n",
    "    .count()\n",
    "    == 10\n",
    ")\n",
    "assert (\n",
    "    pred.groupBy(\"user_idx\")\n",
    "    .agg(sf.count(\"item_idx\").alias(\"num_items\"))\n",
    "    .filter(sf.col(\"num_items\") == sf.lit(K))\n",
    "    .count()\n",
    "    == 10\n",
    ")"
   ]
  },
  {
   "cell_type": "code",
   "execution_count": 35,
   "metadata": {},
   "outputs": [],
   "source": [
    "log = sim.get_log(users)"
   ]
  },
  {
   "cell_type": "markdown",
   "metadata": {
    "cellId": "363j2r5xezoduowlgowzy8",
    "execution_id": "23bcc021-9eb1-4d41-b46b-6a05442fd92e"
   },
   "source": [
    "## Response function initialization"
   ]
  },
  {
   "cell_type": "code",
   "execution_count": 36,
   "metadata": {},
   "outputs": [],
   "source": [
    "proba_model = NNResponseTransformer.load(\"response_function_checkpoint\")\n",
    "br = BernoulliResponse(inputCol=\"response_proba\", outputCol=\"response\", seed=SEED)\n",
    "response_pipeline = Pipeline(stages=[proba_model, br])\n",
    "response_model = response_pipeline.fit(items)"
   ]
  },
  {
   "cell_type": "markdown",
   "metadata": {
    "cellId": "1t5x6egzvjmz7yk9tc7gf",
    "execution_id": "50e4dc71-1b47-4832-af9f-efcd08b5b47c"
   },
   "source": [
    "## Simulation cycle"
   ]
  },
  {
   "cell_type": "code",
   "execution_count": 37,
   "metadata": {
    "cellId": "9xd6azbslgcdb0hsl7sm"
   },
   "outputs": [
    {
     "data": {
      "image/png": "[encoded data removed]",
      "text/plain": [
       "<Figure size 640x480 with 1 Axes>"
      ]
     },
     "metadata": {},
     "output_type": "display_data"
    },
    {
     "name": "stdout",
     "output_type": "stream",
     "text": [
      "Iteration 9 finished in 72.66888523101807 sec.\n"
     ]
    }
   ],
   "source": [
    "metrics = []\n",
    "# sim.update_log(spark.createDataFrame([], schema=SIM_LOG_SCHEMA), iteration=-1)\n",
    "\n",
    "for i in range(NUM_ITER):\n",
    "    print(f\"Iteration {i} started\")\n",
    "    iter_time = time.time()\n",
    "    # visiting users\n",
    "    current_users = sim.sample_users(0.05).cache()\n",
    "    user_idx = current_users.select(\"user_idx\").rdd.flatMap(lambda x: x).collect()\n",
    "\n",
    "    log = sim.get_log(users)\n",
    "    recs = model.predict(\n",
    "        log=log, k=K, users=current_users, items=items, filter_seen_items=False\n",
    "    )\n",
    "    # getting responses\n",
    "    true_resp = sim.sample_responses(\n",
    "        recs_df=recs,\n",
    "        user_features=current_users,\n",
    "        item_features=items,\n",
    "        action_models=response_model,\n",
    "    )\n",
    "    # update the interaction history\n",
    "    sim.update_log(true_resp, iteration=i)\n",
    "    # measure quality\n",
    "    metrics.append(calc_metric(true_resp))\n",
    "    # refitting the model\n",
    "    model._clear_cache()\n",
    "    train_log = sim.log\n",
    "    model.fit(\n",
    "        log=train_log.select(\"user_idx\", \"item_idx\", \"response\").withColumnRenamed(\n",
    "            \"response\", \"relevance\"\n",
    "        )\n",
    "    )\n",
    "\n",
    "    current_users.unpersist()\n",
    "    if log is not None:\n",
    "        log.unpersist()\n",
    "    recs.unpersist()\n",
    "    true_resp.unpersist()\n",
    "    train_log.unpersist()\n",
    "\n",
    "    plot_metric(metrics)\n",
    "    print(f\"Iteration {i} finished in {time.time() - iter_time} sec.\")"
   ]
  },
  {
   "cell_type": "code",
   "execution_count": 38,
   "metadata": {
    "cellId": "zpg8amfm8mvopmyulehl9"
   },
   "outputs": [
    {
     "name": "stdout",
     "output_type": "stream",
     "text": [
      "+--------+--------+--------------------+-------------------+--------+------+\n",
      "|item_idx|user_idx|           relevance|     response_proba|response|__iter|\n",
      "+--------+--------+--------------------+-------------------+--------+------+\n",
      "|    4743|      90|8.490598951946013E-4|0.23457157611846924|       1|     1|\n",
      "|    2483|      90|5.957144256105823E-4|0.24364517629146576|       1|     1|\n",
      "|    4641|      90|4.484400617341632E-4|0.23488779366016388|       1|     1|\n",
      "|    3372|      90|4.484400617341632E-4| 0.2816031575202942|       0|     1|\n",
      "|   25689|      90|3.178713280692018...| 0.2057647705078125|       0|     1|\n",
      "+--------+--------+--------------------+-------------------+--------+------+\n",
      "only showing top 5 rows\n",
      "\n"
     ]
    }
   ],
   "source": [
    "sim.log.filter(sf.col(\"__iter\") == 1).filter(sf.col(\"response_proba\") > 0.2).show(5)"
   ]
  },
  {
   "cell_type": "markdown",
   "metadata": {},
   "source": [
    "# Final prediction"
   ]
  },
  {
   "cell_type": "code",
   "execution_count": 39,
   "metadata": {
    "cellId": "s06ebpys4j0613t0tm6h5p"
   },
   "outputs": [
    {
     "name": "stderr",
     "output_type": "stream",
     "text": [
      "                                                                                \r"
     ]
    }
   ],
   "source": [
    "recs = model.predict(\n",
    "    log=sim.log, k=K, users=users, items=items, filter_seen_items=False\n",
    ").cache()"
   ]
  },
  {
   "cell_type": "code",
   "execution_count": null,
   "metadata": {
    "cellId": "jkr7id6a4fotox3u6qyrn"
   },
   "outputs": [
    {
     "name": "stderr",
     "output_type": "stream",
     "text": [
      "[Stage 5082:====================================>                 (48 + 4) / 72]\r"
     ]
    }
   ],
   "source": [
    "# responses\n",
    "true_resp = sim.sample_responses(\n",
    "    recs_df=recs,\n",
    "    user_features=users,\n",
    "    item_features=items,\n",
    "    action_models=response_model,\n",
    ").cache()\n",
    "\n",
    "# quality\n",
    "print(\n",
    "    f\"Average number of items purchased per user after model training = {calc_metric(true_resp)}\"\n",
    ")"
   ]
  }
 ],
 "metadata": {
  "kernelspec": {
   "display_name": "Python 3 (ipykernel)",
   "language": "python",
   "name": "python3"
  },
  "language_info": {
   "codemirror_mode": {
    "name": "ipython",
    "version": 3
   },
   "file_extension": ".py",
   "mimetype": "text/x-python",
   "name": "python",
   "nbconvert_exporter": "python",
   "pygments_lexer": "ipython3",
   "version": "3.9.19"
  },
  "notebookId": "cd4e698e-7892-45e1-a7aa-fe1453f4b402",
  "notebookPath": "sources/sim4rec/sber-simulator-main/task_1.ipynb",
  "vscode": {
   "interpreter": {
    "hash": "0c23ac1ac3d03469769ffca4283c7852312778d94b2cbd9b1a60eeafc1c4055f"
   }
  }
 },
 "nbformat": 4,
 "nbformat_minor": 4
}
