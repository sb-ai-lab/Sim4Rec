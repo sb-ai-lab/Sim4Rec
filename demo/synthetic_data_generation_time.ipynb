{
 "cells": [
  {
   "cell_type": "markdown",
   "metadata": {},
   "source": [
    "# Synthetic data generation time"
   ]
  },
  {
   "cell_type": "markdown",
   "metadata": {},
   "source": [
    "This tutorial demonstrates the speed of synthetic data generation.\n",
    "\n",
    "Before generating synthetic data, we need to\n",
    "\n",
    "- fit non-negative ALS to real data containing user interactions,\n",
    "- obtain vector representations of real users,\n",
    "- fit CopulaGAN to non-negative ALS embeddings of real users. \n",
    "\n",
    "We measure the generation time of synthetic users with CopulaGAN for samples in the range of 100K to 10M.\n",
    "\n",
    "The speed of synthetic data generation using SDVDataGenerator is linearly dependent on the number of created users.  The generation time for 2 million synthetic users is 500 seconds, and for 10 million synthetic users is 2000 seconds for a dense user feature vector of length 64."
   ]
  },
  {
   "cell_type": "code",
   "execution_count": 2,
   "metadata": {},
   "outputs": [],
   "source": [
    "import os\n",
    "import sys\n",
    "os.environ[\"JAVA_HOME\"] = \"/home/jovyan/ivanova/env39_sim4rec_check\"\n",
    "os.environ[\"PYSPARK_PYTHON\"] = sys.executable\n",
    "os.environ[\"PYSPARK_DRIVER_PYTHON\"] = sys.executable\n",
    "os.environ[\"CUDA_LAUNCH_BLOCKING\"] = \"1\"\n",
    "os.environ[\"OMP_NUM_THREADS\"] = \"32\"\n",
    "os.environ[\"NUMBA_NUM_THREADS\"] = \"4\""
   ]
  },
  {
   "cell_type": "code",
   "execution_count": 3,
   "metadata": {},
   "outputs": [
    {
     "data": {
      "text/html": [
       "<style type='text/css'>\n",
       ".datatable table.frame { margin-bottom: 0; }\n",
       ".datatable table.frame thead { border-bottom: none; }\n",
       ".datatable table.frame tr.coltypes td {  color: #FFFFFF;  line-height: 6px;  padding: 0 0.5em;}\n",
       ".datatable .bool    { background: #DDDD99; }\n",
       ".datatable .object  { background: #565656; }\n",
       ".datatable .int     { background: #5D9E5D; }\n",
       ".datatable .float   { background: #4040CC; }\n",
       ".datatable .str     { background: #CC4040; }\n",
       ".datatable .time    { background: #40CC40; }\n",
       ".datatable .row_index {  background: var(--jp-border-color3);  border-right: 1px solid var(--jp-border-color0);  color: var(--jp-ui-font-color3);  font-size: 9px;}\n",
       ".datatable .frame tbody td { text-align: left; }\n",
       ".datatable .frame tr.coltypes .row_index {  background: var(--jp-border-color0);}\n",
       ".datatable th:nth-child(2) { padding-left: 12px; }\n",
       ".datatable .hellipsis {  color: var(--jp-cell-editor-border-color);}\n",
       ".datatable .vellipsis {  background: var(--jp-layout-color0);  color: var(--jp-cell-editor-border-color);}\n",
       ".datatable .na {  color: var(--jp-cell-editor-border-color);  font-size: 80%;}\n",
       ".datatable .sp {  opacity: 0.25;}\n",
       ".datatable .footer { font-size: 9px; }\n",
       ".datatable .frame_dimensions {  background: var(--jp-border-color3);  border-top: 1px solid var(--jp-border-color0);  color: var(--jp-ui-font-color3);  display: inline-block;  opacity: 0.6;  padding: 1px 10px 1px 5px;}\n",
       "</style>\n"
      ],
      "text/plain": [
       "<IPython.core.display.HTML object>"
      ]
     },
     "metadata": {},
     "output_type": "display_data"
    }
   ],
   "source": [
    "import random\n",
    "import time\n",
    "\n",
    "import matplotlib.pyplot as plt\n",
    "import numpy as np\n",
    "import pandas as pd\n",
    "from rs_datasets import MovieLens\n",
    "import seaborn as sns\n",
    "import warnings\n",
    "\n",
    "from pyspark import SparkConf\n",
    "from pyspark.ml.recommendation import ALS\n",
    "from pyspark.sql import SparkSession\n",
    "from pyspark.sql.functions import col\n",
    "\n",
    "from sim4rec.modules import SDVDataGenerator\n",
    "from sim4rec.utils import pandas_to_spark\n",
    "\n",
    "warnings.filterwarnings(\"ignore\") "
   ]
  },
  {
   "cell_type": "code",
   "execution_count": 4,
   "metadata": {},
   "outputs": [],
   "source": [
    "SPARK_LOCAL_DIR = \"./tmp/task_5\""
   ]
  },
  {
   "cell_type": "code",
   "execution_count": 5,
   "metadata": {},
   "outputs": [],
   "source": [
    "%%bash -s \"$SPARK_LOCAL_DIR\"\n",
    "rm -rf $1"
   ]
  },
  {
   "cell_type": "code",
   "execution_count": 6,
   "metadata": {},
   "outputs": [
    {
     "name": "stderr",
     "output_type": "stream",
     "text": [
      "Setting default log level to \"WARN\".\n",
      "To adjust logging level use sc.setLogLevel(newLevel). For SparkR, use setLogLevel(newLevel).\n",
      "25/03/13 17:09:30 WARN NativeCodeLoader: Unable to load native-hadoop library for your platform... using builtin-java classes where applicable\n",
      "25/03/13 17:09:30 WARN SparkConf: Note that spark.local.dir will be overridden by the value set by the cluster manager (via SPARK_LOCAL_DIRS in mesos/standalone/kubernetes and LOCAL_DIRS in YARN).\n",
      "25/03/13 17:09:31 WARN Utils: Service 'SparkUI' could not bind on port 4040. Attempting port 4041.\n",
      "25/03/13 17:09:31 WARN Utils: Service 'SparkUI' could not bind on port 4041. Attempting port 4042.\n",
      "25/03/13 17:09:31 WARN Utils: Service 'SparkUI' could not bind on port 4042. Attempting port 4043.\n",
      "25/03/13 17:09:31 WARN Utils: Service 'SparkUI' could not bind on port 4043. Attempting port 4044.\n",
      "25/03/13 17:09:31 WARN Utils: Service 'SparkUI' could not bind on port 4044. Attempting port 4045.\n"
     ]
    }
   ],
   "source": [
    "NUM_JOBS = 16\n",
    "\n",
    "spark = SparkSession.builder\\\n",
    "    .appName(\"simulator\")\\\n",
    "    .master(f\"local[{NUM_JOBS}]\")\\\n",
    "    .config(\"spark.sql.shuffle.partitions\", f\"{3 * NUM_JOBS}\")\\\n",
    "    .config(\"spark.default.parallelism\", f\"{3 * NUM_JOBS}\")\\\n",
    "    .config(\"spark.driver.extraJavaOptions\", \"-XX:+UseG1GC\")\\\n",
    "    .config(\"spark.executor.extraJavaOptions\", \"-XX:+UseG1GC\")\\\n",
    "    .config(\"spark.sql.autoBroadcastJoinThreshold\", \"-1\")\\\n",
    "    .config(\"spark.driver.memory\", \"4g\")\\\n",
    "    .config(\"spark.local.dir\", SPARK_LOCAL_DIR)\\\n",
    "    .getOrCreate()\n",
    "\n",
    "spark.sparkContext.setLogLevel(\"ERROR\")"
   ]
  },
  {
   "cell_type": "code",
   "execution_count": 7,
   "metadata": {},
   "outputs": [],
   "source": [
    "SEED = 1234\n",
    "np.random.seed(SEED)"
   ]
  },
  {
   "cell_type": "markdown",
   "metadata": {},
   "source": [
    "## Download Data"
   ]
  },
  {
   "cell_type": "code",
   "execution_count": 7,
   "metadata": {},
   "outputs": [
    {
     "data": {
      "text/html": [
       "<div>\n",
       "<style scoped>\n",
       "    .dataframe tbody tr th:only-of-type {\n",
       "        vertical-align: middle;\n",
       "    }\n",
       "\n",
       "    .dataframe tbody tr th {\n",
       "        vertical-align: top;\n",
       "    }\n",
       "\n",
       "    .dataframe thead th {\n",
       "        text-align: right;\n",
       "    }\n",
       "</style>\n",
       "<table border=\"1\" class=\"dataframe\">\n",
       "  <thead>\n",
       "    <tr style=\"text-align: right;\">\n",
       "      <th></th>\n",
       "      <th>user_id</th>\n",
       "      <th>item_id</th>\n",
       "      <th>rating</th>\n",
       "      <th>timestamp</th>\n",
       "    </tr>\n",
       "  </thead>\n",
       "  <tbody>\n",
       "    <tr>\n",
       "      <th>0</th>\n",
       "      <td>1</td>\n",
       "      <td>2</td>\n",
       "      <td>3.5</td>\n",
       "      <td>1112486027</td>\n",
       "    </tr>\n",
       "    <tr>\n",
       "      <th>1</th>\n",
       "      <td>1</td>\n",
       "      <td>29</td>\n",
       "      <td>3.5</td>\n",
       "      <td>1112484676</td>\n",
       "    </tr>\n",
       "    <tr>\n",
       "      <th>2</th>\n",
       "      <td>1</td>\n",
       "      <td>32</td>\n",
       "      <td>3.5</td>\n",
       "      <td>1112484819</td>\n",
       "    </tr>\n",
       "    <tr>\n",
       "      <th>3</th>\n",
       "      <td>1</td>\n",
       "      <td>47</td>\n",
       "      <td>3.5</td>\n",
       "      <td>1112484727</td>\n",
       "    </tr>\n",
       "    <tr>\n",
       "      <th>4</th>\n",
       "      <td>1</td>\n",
       "      <td>50</td>\n",
       "      <td>3.5</td>\n",
       "      <td>1112484580</td>\n",
       "    </tr>\n",
       "  </tbody>\n",
       "</table>\n",
       "</div>"
      ],
      "text/plain": [
       "   user_id  item_id  rating   timestamp\n",
       "0        1        2     3.5  1112486027\n",
       "1        1       29     3.5  1112484676\n",
       "2        1       32     3.5  1112484819\n",
       "3        1       47     3.5  1112484727\n",
       "4        1       50     3.5  1112484580"
      ]
     },
     "execution_count": 7,
     "metadata": {},
     "output_type": "execute_result"
    }
   ],
   "source": [
    "data = MovieLens(\"20m\")\n",
    "ratings_df = data.ratings\n",
    "ratings_df.head()"
   ]
  },
  {
   "cell_type": "code",
   "execution_count": 8,
   "metadata": {},
   "outputs": [
    {
     "data": {
      "text/plain": [
       "3.5"
      ]
     },
     "execution_count": 8,
     "metadata": {},
     "output_type": "execute_result"
    }
   ],
   "source": [
    "rating_threshold = ratings_df[\"rating\"].median()\n",
    "rating_threshold"
   ]
  },
  {
   "cell_type": "code",
   "execution_count": 9,
   "metadata": {},
   "outputs": [],
   "source": [
    "ratings_df[\"relevance\"] = (ratings_df[\"rating\"] >= rating_threshold).astype(int)"
   ]
  },
  {
   "cell_type": "markdown",
   "metadata": {},
   "source": [
    "## Data Preprocessing"
   ]
  },
  {
   "cell_type": "markdown",
   "metadata": {},
   "source": [
    "We encode the user and item IDs with consecutive values so that the new IDs do not contain missing values."
   ]
  },
  {
   "cell_type": "code",
   "execution_count": 10,
   "metadata": {},
   "outputs": [],
   "source": [
    "ratings_df[\"user_idx\"] = ratings_df[\"user_id\"].astype(\"category\").cat.codes\n",
    "ratings_df[\"item_idx\"] = ratings_df[\"item_id\"].astype(\"category\").cat.codes"
   ]
  },
  {
   "cell_type": "code",
   "execution_count": 11,
   "metadata": {},
   "outputs": [],
   "source": [
    "train = pandas_to_spark(ratings_df)"
   ]
  },
  {
   "cell_type": "markdown",
   "metadata": {},
   "source": [
    "## Non-negative ALS for User Embeddings"
   ]
  },
  {
   "cell_type": "markdown",
   "metadata": {},
   "source": [
    "Fit non-negative ALS to historical data to produce the real user vectors that represent their profiles."
   ]
  },
  {
   "cell_type": "code",
   "execution_count": 12,
   "metadata": {},
   "outputs": [
    {
     "name": "stderr",
     "output_type": "stream",
     "text": [
      "                                                                                \r"
     ]
    }
   ],
   "source": [
    "# initialization of non-negative ALS\n",
    "als = ALS(\n",
    "    rank=64,\n",
    "    maxIter=5,\n",
    "    userCol=\"user_idx\",\n",
    "    itemCol=\"item_idx\",\n",
    "    ratingCol=\"relevance\",\n",
    "    seed=SEED,\n",
    "    nonnegative=True,\n",
    ")\n",
    "# fit ALS\n",
    "als_model = als.fit(train)"
   ]
  },
  {
   "cell_type": "markdown",
   "metadata": {},
   "source": [
    "Obtain vector representations of real users."
   ]
  },
  {
   "cell_type": "code",
   "execution_count": 13,
   "metadata": {},
   "outputs": [
    {
     "data": {
      "text/html": [
       "<div>\n",
       "<style scoped>\n",
       "    .dataframe tbody tr th:only-of-type {\n",
       "        vertical-align: middle;\n",
       "    }\n",
       "\n",
       "    .dataframe tbody tr th {\n",
       "        vertical-align: top;\n",
       "    }\n",
       "\n",
       "    .dataframe thead th {\n",
       "        text-align: right;\n",
       "    }\n",
       "</style>\n",
       "<table border=\"1\" class=\"dataframe\">\n",
       "  <thead>\n",
       "    <tr style=\"text-align: right;\">\n",
       "      <th></th>\n",
       "      <th>id</th>\n",
       "      <th>user_feature[0]</th>\n",
       "      <th>user_feature[1]</th>\n",
       "      <th>user_feature[2]</th>\n",
       "      <th>user_feature[3]</th>\n",
       "      <th>user_feature[4]</th>\n",
       "      <th>user_feature[5]</th>\n",
       "      <th>user_feature[6]</th>\n",
       "      <th>user_feature[7]</th>\n",
       "      <th>user_feature[8]</th>\n",
       "      <th>...</th>\n",
       "      <th>user_feature[54]</th>\n",
       "      <th>user_feature[55]</th>\n",
       "      <th>user_feature[56]</th>\n",
       "      <th>user_feature[57]</th>\n",
       "      <th>user_feature[58]</th>\n",
       "      <th>user_feature[59]</th>\n",
       "      <th>user_feature[60]</th>\n",
       "      <th>user_feature[61]</th>\n",
       "      <th>user_feature[62]</th>\n",
       "      <th>user_feature[63]</th>\n",
       "    </tr>\n",
       "  </thead>\n",
       "  <tbody>\n",
       "    <tr>\n",
       "      <th>0</th>\n",
       "      <td>0</td>\n",
       "      <td>0.098465</td>\n",
       "      <td>0.052241</td>\n",
       "      <td>0.125119</td>\n",
       "      <td>0.202401</td>\n",
       "      <td>0.178767</td>\n",
       "      <td>0.148965</td>\n",
       "      <td>0.118857</td>\n",
       "      <td>0.080273</td>\n",
       "      <td>0.152939</td>\n",
       "      <td>...</td>\n",
       "      <td>0.077556</td>\n",
       "      <td>0.187669</td>\n",
       "      <td>0.081136</td>\n",
       "      <td>0.129824</td>\n",
       "      <td>0.078120</td>\n",
       "      <td>0.145179</td>\n",
       "      <td>0.096780</td>\n",
       "      <td>0.099917</td>\n",
       "      <td>0.154622</td>\n",
       "      <td>0.113657</td>\n",
       "    </tr>\n",
       "    <tr>\n",
       "      <th>1</th>\n",
       "      <td>1</td>\n",
       "      <td>0.083297</td>\n",
       "      <td>0.047674</td>\n",
       "      <td>0.103928</td>\n",
       "      <td>0.181666</td>\n",
       "      <td>0.161923</td>\n",
       "      <td>0.128280</td>\n",
       "      <td>0.096112</td>\n",
       "      <td>0.068772</td>\n",
       "      <td>0.143337</td>\n",
       "      <td>...</td>\n",
       "      <td>0.059835</td>\n",
       "      <td>0.174903</td>\n",
       "      <td>0.070022</td>\n",
       "      <td>0.122740</td>\n",
       "      <td>0.070366</td>\n",
       "      <td>0.123795</td>\n",
       "      <td>0.083381</td>\n",
       "      <td>0.087477</td>\n",
       "      <td>0.137442</td>\n",
       "      <td>0.099442</td>\n",
       "    </tr>\n",
       "    <tr>\n",
       "      <th>2</th>\n",
       "      <td>2</td>\n",
       "      <td>0.089750</td>\n",
       "      <td>0.044578</td>\n",
       "      <td>0.118326</td>\n",
       "      <td>0.188298</td>\n",
       "      <td>0.157684</td>\n",
       "      <td>0.135538</td>\n",
       "      <td>0.109513</td>\n",
       "      <td>0.071072</td>\n",
       "      <td>0.142481</td>\n",
       "      <td>...</td>\n",
       "      <td>0.074062</td>\n",
       "      <td>0.166076</td>\n",
       "      <td>0.075291</td>\n",
       "      <td>0.117528</td>\n",
       "      <td>0.068250</td>\n",
       "      <td>0.135233</td>\n",
       "      <td>0.085594</td>\n",
       "      <td>0.092989</td>\n",
       "      <td>0.142653</td>\n",
       "      <td>0.100441</td>\n",
       "    </tr>\n",
       "    <tr>\n",
       "      <th>3</th>\n",
       "      <td>3</td>\n",
       "      <td>0.065662</td>\n",
       "      <td>0.048028</td>\n",
       "      <td>0.068513</td>\n",
       "      <td>0.146848</td>\n",
       "      <td>0.143943</td>\n",
       "      <td>0.101966</td>\n",
       "      <td>0.062271</td>\n",
       "      <td>0.059757</td>\n",
       "      <td>0.128780</td>\n",
       "      <td>...</td>\n",
       "      <td>0.031322</td>\n",
       "      <td>0.164175</td>\n",
       "      <td>0.050798</td>\n",
       "      <td>0.111714</td>\n",
       "      <td>0.065364</td>\n",
       "      <td>0.094431</td>\n",
       "      <td>0.072750</td>\n",
       "      <td>0.065016</td>\n",
       "      <td>0.117407</td>\n",
       "      <td>0.087755</td>\n",
       "    </tr>\n",
       "    <tr>\n",
       "      <th>4</th>\n",
       "      <td>4</td>\n",
       "      <td>0.076065</td>\n",
       "      <td>0.054559</td>\n",
       "      <td>0.085825</td>\n",
       "      <td>0.180649</td>\n",
       "      <td>0.170346</td>\n",
       "      <td>0.122832</td>\n",
       "      <td>0.076311</td>\n",
       "      <td>0.067553</td>\n",
       "      <td>0.156395</td>\n",
       "      <td>...</td>\n",
       "      <td>0.041212</td>\n",
       "      <td>0.192011</td>\n",
       "      <td>0.060475</td>\n",
       "      <td>0.133150</td>\n",
       "      <td>0.074588</td>\n",
       "      <td>0.115542</td>\n",
       "      <td>0.083266</td>\n",
       "      <td>0.077581</td>\n",
       "      <td>0.139359</td>\n",
       "      <td>0.101348</td>\n",
       "    </tr>\n",
       "  </tbody>\n",
       "</table>\n",
       "<p>5 rows × 65 columns</p>\n",
       "</div>"
      ],
      "text/plain": [
       "   id  user_feature[0]  user_feature[1]  user_feature[2]  user_feature[3]  \\\n",
       "0   0         0.098465         0.052241         0.125119         0.202401   \n",
       "1   1         0.083297         0.047674         0.103928         0.181666   \n",
       "2   2         0.089750         0.044578         0.118326         0.188298   \n",
       "3   3         0.065662         0.048028         0.068513         0.146848   \n",
       "4   4         0.076065         0.054559         0.085825         0.180649   \n",
       "\n",
       "   user_feature[4]  user_feature[5]  user_feature[6]  user_feature[7]  \\\n",
       "0         0.178767         0.148965         0.118857         0.080273   \n",
       "1         0.161923         0.128280         0.096112         0.068772   \n",
       "2         0.157684         0.135538         0.109513         0.071072   \n",
       "3         0.143943         0.101966         0.062271         0.059757   \n",
       "4         0.170346         0.122832         0.076311         0.067553   \n",
       "\n",
       "   user_feature[8]  ...  user_feature[54]  user_feature[55]  user_feature[56]  \\\n",
       "0         0.152939  ...          0.077556          0.187669          0.081136   \n",
       "1         0.143337  ...          0.059835          0.174903          0.070022   \n",
       "2         0.142481  ...          0.074062          0.166076          0.075291   \n",
       "3         0.128780  ...          0.031322          0.164175          0.050798   \n",
       "4         0.156395  ...          0.041212          0.192011          0.060475   \n",
       "\n",
       "   user_feature[57]  user_feature[58]  user_feature[59]  user_feature[60]  \\\n",
       "0          0.129824          0.078120          0.145179          0.096780   \n",
       "1          0.122740          0.070366          0.123795          0.083381   \n",
       "2          0.117528          0.068250          0.135233          0.085594   \n",
       "3          0.111714          0.065364          0.094431          0.072750   \n",
       "4          0.133150          0.074588          0.115542          0.083266   \n",
       "\n",
       "   user_feature[61]  user_feature[62]  user_feature[63]  \n",
       "0          0.099917          0.154622          0.113657  \n",
       "1          0.087477          0.137442          0.099442  \n",
       "2          0.092989          0.142653          0.100441  \n",
       "3          0.065016          0.117407          0.087755  \n",
       "4          0.077581          0.139359          0.101348  \n",
       "\n",
       "[5 rows x 65 columns]"
      ]
     },
     "execution_count": 13,
     "metadata": {},
     "output_type": "execute_result"
    }
   ],
   "source": [
    "user_features = als_model.userFactors.orderBy(\"id\")\n",
    "user_features = (user_features.withColumn(\"user_feature\", col(\"features\"))).select(\n",
    "    [\"id\"] + [col(\"user_feature\")[i] for i in range(64)]\n",
    ")\n",
    "user_features.limit(5).toPandas()"
   ]
  },
  {
   "cell_type": "markdown",
   "metadata": {},
   "source": [
    "## CopulaGAN User Embeddings Generator"
   ]
  },
  {
   "cell_type": "markdown",
   "metadata": {},
   "source": [
    "Fit the SDVDataGenerator with the CopulaGAN synthetic data model to non-negative ALS embeddings of real users."
   ]
  },
  {
   "cell_type": "code",
   "execution_count": null,
   "metadata": {},
   "outputs": [
    {
     "name": "stderr",
     "output_type": "stream",
     "text": [
      "                                                                                \r"
     ]
    }
   ],
   "source": [
    "# initialization of data generator\n",
    "sdv_data_generator = SDVDataGenerator(\n",
    "    label=\"synth\",\n",
    "    id_column_name=\"user_id\",\n",
    "    model_name=\"copulagan\",\n",
    "    parallelization_level=3 * NUM_JOBS,\n",
    "    device_name=\"cuda:0\",\n",
    "    seed=SEED,\n",
    ")\n",
    "# fit data generator\n",
    "sdv_data_generator.fit(user_features.drop(\"id\"))"
   ]
  },
  {
   "cell_type": "markdown",
   "metadata": {},
   "source": [
    "We measure the generation time of synthetic users with CopulaGAN for samples in the range of 100K to 10M."
   ]
  },
  {
   "cell_type": "code",
   "execution_count": null,
   "metadata": {},
   "outputs": [],
   "source": [
    "num_samples = np.linspace(100000, 10000000, 21)\n",
    "gen_time_list = []\n",
    "_ = sdv_data_generator.generate(100).cache().count()\n",
    "for num in num_samples:\n",
    "    gen_time = {}\n",
    "    start = time.time()\n",
    "    synthetic_users = sdv_data_generator.generate(num).cache()\n",
    "    synthetic_users.count()\n",
    "    \n",
    "    gen_time['n_samples'] = num\n",
    "    gen_time['time, s'] = time.time() - start\n",
    "    \n",
    "    synthetic_users.unpersist()\n",
    "    gen_time_list.append(gen_time)\n",
    "    pd.DataFrame(gen_time_list).to_csv('synthetic_gen_time.csv', index=False)"
   ]
  },
  {
   "cell_type": "code",
   "execution_count": 14,
   "metadata": {},
   "outputs": [],
   "source": [
    "gen_time_df = pd.read_csv('synthetic_gen_time.csv')"
   ]
  },
  {
   "cell_type": "code",
   "execution_count": 15,
   "metadata": {},
   "outputs": [
    {
     "data": {
      "image/png": "[encoded data removed]",
      "text/plain": [
       "<Figure size 640x480 with 1 Axes>"
      ]
     },
     "metadata": {},
     "output_type": "display_data"
    }
   ],
   "source": [
    "sns.lineplot(gen_time_df, x='n_samples', y='time, s');\n",
    "plt.grid()\n",
    "plt.xlabel(\"# of generated users\")\n",
    "plt.ylabel(\"time, s\");"
   ]
  },
  {
   "cell_type": "markdown",
   "metadata": {},
   "source": [
    "The speed of synthetic data generation using SDVDataGenerator is linearly dependent on the number of created users."
   ]
  },
  {
   "cell_type": "code",
   "execution_count": null,
   "metadata": {},
   "outputs": [],
   "source": []
  }
 ],
 "metadata": {
  "kernelspec": {
   "display_name": "Python [conda env:env39_sim4rec_check]",
   "language": "python",
   "name": "conda-env-env39_sim4rec_check-py"
  },
  "language_info": {
   "codemirror_mode": {
    "name": "ipython",
    "version": 3
   },
   "file_extension": ".py",
   "mimetype": "text/x-python",
   "name": "python",
   "nbconvert_exporter": "python",
   "pygments_lexer": "ipython3",
   "version": "3.9.21"
  },
  "toc-autonumbering": true,
  "vscode": {
   "interpreter": {
    "hash": "c6b6b90ef95efe8079a3f0ef22bd6f68f431f523d74a0d8953a93119eedfde3b"
   }
  }
 },
 "nbformat": 4,
 "nbformat_minor": 4
}
