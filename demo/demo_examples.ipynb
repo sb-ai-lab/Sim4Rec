{
 "cells": [
  {
   "cell_type": "markdown",
   "id": "9639213e-c6b1-4135-8430-0397be4e286b",
   "metadata": {},
   "source": [
    "# Core modules of Sim4Rec"
   ]
  },
  {
   "cell_type": "markdown",
   "id": "b7549c08-97ba-4b41-83d0-ca50dee3729f",
   "metadata": {},
   "source": [
    "This notebook contains the core modules of Sim4Rec:\n",
    "1. Generator\n",
    "\n",
    "RealDataGenerator to sample from the real data and SDVDataGenerator to generate synthetic data.\n",
    "\n",
    "2. Response Pipeline\n",
    "\n",
    "The Response module allows you to model user responses to recommended items.\n",
    "\n",
    "3. Simulator\n",
    "\n",
    "The Simulator class stores and updates the simulation log and provides an API to invoke the core simulation pipeline models.\n",
    "\n",
    "4. Evaluation\n",
    "\n",
    "Sim4Rec provides functionality to evaluate synthetic data, a response model and a recommender system."
   ]
  },
  {
   "cell_type": "code",
   "execution_count": 1,
   "id": "fcce2946-32e2-4050-833c-ae1e9ce61abc",
   "metadata": {},
   "outputs": [],
   "source": [
    "import os\n",
    "import sys\n",
    "os.environ[\"JAVA_HOME\"] = \"/home/jovyan/ivanova/env39_sim4rec_check/lib/jvm\"\n",
    "os.environ[\"PYSPARK_PYTHON\"] = sys.executable\n",
    "os.environ[\"PYSPARK_DRIVER_PYTHON\"] = sys.executable\n",
    "os.environ[\"CUDA_LAUNCH_BLOCKING\"] = \"1\"\n",
    "os.environ[\"OMP_NUM_THREADS\"] = \"32\"\n",
    "os.environ[\"NUMBA_NUM_THREADS\"] = \"4\""
   ]
  },
  {
   "cell_type": "code",
   "execution_count": 2,
   "id": "fe74ffba-b4b2-42be-bf43-376651f2467e",
   "metadata": {},
   "outputs": [
    {
     "data": {
      "text/html": [
       "<style type='text/css'>\n",
       ".datatable table.frame { margin-bottom: 0; }\n",
       ".datatable table.frame thead { border-bottom: none; }\n",
       ".datatable table.frame tr.coltypes td {  color: #FFFFFF;  line-height: 6px;  padding: 0 0.5em;}\n",
       ".datatable .bool    { background: #DDDD99; }\n",
       ".datatable .object  { background: #565656; }\n",
       ".datatable .int     { background: #5D9E5D; }\n",
       ".datatable .float   { background: #4040CC; }\n",
       ".datatable .str     { background: #CC4040; }\n",
       ".datatable .time    { background: #40CC40; }\n",
       ".datatable .row_index {  background: var(--jp-border-color3);  border-right: 1px solid var(--jp-border-color0);  color: var(--jp-ui-font-color3);  font-size: 9px;}\n",
       ".datatable .frame tbody td { text-align: left; }\n",
       ".datatable .frame tr.coltypes .row_index {  background: var(--jp-border-color0);}\n",
       ".datatable th:nth-child(2) { padding-left: 12px; }\n",
       ".datatable .hellipsis {  color: var(--jp-cell-editor-border-color);}\n",
       ".datatable .vellipsis {  background: var(--jp-layout-color0);  color: var(--jp-cell-editor-border-color);}\n",
       ".datatable .na {  color: var(--jp-cell-editor-border-color);  font-size: 80%;}\n",
       ".datatable .sp {  opacity: 0.25;}\n",
       ".datatable .footer { font-size: 9px; }\n",
       ".datatable .frame_dimensions {  background: var(--jp-border-color3);  border-top: 1px solid var(--jp-border-color0);  color: var(--jp-ui-font-color3);  display: inline-block;  opacity: 0.6;  padding: 1px 10px 1px 5px;}\n",
       "</style>\n"
      ],
      "text/plain": [
       "<IPython.core.display.HTML object>"
      ]
     },
     "metadata": {},
     "output_type": "display_data"
    }
   ],
   "source": [
    "import random\n",
    "import time\n",
    "from typing import Tuple\n",
    "\n",
    "import numpy as np\n",
    "import pandas as pd\n",
    "from rs_datasets import MovieLens\n",
    "\n",
    "%matplotlib inline\n",
    "import warnings\n",
    "\n",
    "from pyspark import SparkConf\n",
    "from pyspark.ml import PipelineModel\n",
    "from pyspark.ml.classification import LogisticRegression\n",
    "from pyspark.ml.feature import VectorAssembler\n",
    "from pyspark.ml.recommendation import ALS\n",
    "from pyspark.sql import SparkSession\n",
    "import pyspark.sql.functions as sf\n",
    "\n",
    "from sim4rec.modules import (\n",
    "    evaluate_synthetic, \n",
    "    CompositeGenerator, \n",
    "    EvaluateMetrics, \n",
    "    RealDataGenerator, \n",
    "    SDVDataGenerator, \n",
    "    Simulator,\n",
    ")\n",
    "from sim4rec.recommenders.ucb import UCB\n",
    "from sim4rec.response import BernoulliResponse\n",
    "from sim4rec.utils import VectorElementExtractor, pandas_to_spark\n",
    "\n",
    "warnings.filterwarnings(\"ignore\")"
   ]
  },
  {
   "cell_type": "code",
   "execution_count": 3,
   "id": "cc426d65-859b-4232-b7e8-4b8f9df7ab4b",
   "metadata": {},
   "outputs": [],
   "source": [
    "SPARK_LOCAL_DIR = \"./tmp/task_3\"\n",
    "CHECKPOINT_DIR = \"./tmp/task_3_checkpoints\""
   ]
  },
  {
   "cell_type": "code",
   "execution_count": 4,
   "id": "c31399e2-5220-4774-b3b5-039384b4ea05",
   "metadata": {},
   "outputs": [],
   "source": [
    "%%bash -s \"$CHECKPOINT_DIR\" \"$SPARK_LOCAL_DIR\"\n",
    "# Simulator keeps history of interactions between users and recommender system\n",
    "# To re-run the simulation cycle or start a new one, clear the directory or use a different CHECKPOINT_DIR\n",
    "rm -rf $1 $2"
   ]
  },
  {
   "cell_type": "code",
   "execution_count": 5,
   "id": "11cf7e45-1fad-4cf4-8c55-bb293527cda2",
   "metadata": {},
   "outputs": [
    {
     "name": "stderr",
     "output_type": "stream",
     "text": [
      "Setting default log level to \"WARN\".\n",
      "To adjust logging level use sc.setLogLevel(newLevel). For SparkR, use setLogLevel(newLevel).\n",
      "25/03/12 17:51:15 WARN NativeCodeLoader: Unable to load native-hadoop library for your platform... using builtin-java classes where applicable\n",
      "25/03/12 17:51:15 WARN SparkConf: Note that spark.local.dir will be overridden by the value set by the cluster manager (via SPARK_LOCAL_DIRS in mesos/standalone/kubernetes and LOCAL_DIRS in YARN).\n",
      "25/03/12 17:51:16 WARN Utils: Service 'SparkUI' could not bind on port 4040. Attempting port 4041.\n",
      "25/03/12 17:51:16 WARN Utils: Service 'SparkUI' could not bind on port 4041. Attempting port 4042.\n",
      "25/03/12 17:51:16 WARN Utils: Service 'SparkUI' could not bind on port 4042. Attempting port 4043.\n",
      "25/03/12 17:51:16 WARN Utils: Service 'SparkUI' could not bind on port 4043. Attempting port 4044.\n"
     ]
    }
   ],
   "source": [
    "spark = SparkSession.builder\\\n",
    "    .appName(\"simulator\")\\\n",
    "    .master(\"local[4]\")\\\n",
    "    .config(\"spark.sql.shuffle.partitions\", \"4\")\\\n",
    "    .config(\"spark.default.parallelism\", \"4\")\\\n",
    "    .config(\"spark.driver.extraJavaOptions\", \"-XX:+UseG1GC\")\\\n",
    "    .config(\"spark.executor.extraJavaOptions\", \"-XX:+UseG1GC\")\\\n",
    "    .config(\"spark.sql.autoBroadcastJoinThreshold\", \"-1\")\\\n",
    "    .config(\"spark.driver.memory\", \"4g\")\\\n",
    "    .config(\"spark.local.dir\", SPARK_LOCAL_DIR)\\\n",
    "    .getOrCreate()\n",
    "\n",
    "spark.sparkContext.setLogLevel(\"ERROR\")"
   ]
  },
  {
   "cell_type": "code",
   "execution_count": 6,
   "id": "cb10062d-139a-4ad2-9b41-d9cf232fee33",
   "metadata": {},
   "outputs": [],
   "source": [
    "SEED = 1234\n",
    "np.random.seed(SEED)"
   ]
  },
  {
   "cell_type": "markdown",
   "id": "29a7549e-6d54-4980-bb6f-d80182003dca",
   "metadata": {},
   "source": [
    "## Download Data"
   ]
  },
  {
   "cell_type": "code",
   "execution_count": 7,
   "id": "c427eef0-e477-4788-92a1-bfd3d65afca0",
   "metadata": {},
   "outputs": [
    {
     "data": {
      "text/html": [
       "<div>\n",
       "<style scoped>\n",
       "    .dataframe tbody tr th:only-of-type {\n",
       "        vertical-align: middle;\n",
       "    }\n",
       "\n",
       "    .dataframe tbody tr th {\n",
       "        vertical-align: top;\n",
       "    }\n",
       "\n",
       "    .dataframe thead th {\n",
       "        text-align: right;\n",
       "    }\n",
       "</style>\n",
       "<table border=\"1\" class=\"dataframe\">\n",
       "  <thead>\n",
       "    <tr style=\"text-align: right;\">\n",
       "      <th></th>\n",
       "      <th>user_id</th>\n",
       "      <th>item_id</th>\n",
       "      <th>rating</th>\n",
       "      <th>timestamp</th>\n",
       "    </tr>\n",
       "  </thead>\n",
       "  <tbody>\n",
       "    <tr>\n",
       "      <th>0</th>\n",
       "      <td>1</td>\n",
       "      <td>2</td>\n",
       "      <td>3.5</td>\n",
       "      <td>1112486027</td>\n",
       "    </tr>\n",
       "    <tr>\n",
       "      <th>1</th>\n",
       "      <td>1</td>\n",
       "      <td>29</td>\n",
       "      <td>3.5</td>\n",
       "      <td>1112484676</td>\n",
       "    </tr>\n",
       "    <tr>\n",
       "      <th>2</th>\n",
       "      <td>1</td>\n",
       "      <td>32</td>\n",
       "      <td>3.5</td>\n",
       "      <td>1112484819</td>\n",
       "    </tr>\n",
       "    <tr>\n",
       "      <th>3</th>\n",
       "      <td>1</td>\n",
       "      <td>47</td>\n",
       "      <td>3.5</td>\n",
       "      <td>1112484727</td>\n",
       "    </tr>\n",
       "    <tr>\n",
       "      <th>4</th>\n",
       "      <td>1</td>\n",
       "      <td>50</td>\n",
       "      <td>3.5</td>\n",
       "      <td>1112484580</td>\n",
       "    </tr>\n",
       "  </tbody>\n",
       "</table>\n",
       "</div>"
      ],
      "text/plain": [
       "   user_id  item_id  rating   timestamp\n",
       "0        1        2     3.5  1112486027\n",
       "1        1       29     3.5  1112484676\n",
       "2        1       32     3.5  1112484819\n",
       "3        1       47     3.5  1112484727\n",
       "4        1       50     3.5  1112484580"
      ]
     },
     "execution_count": 7,
     "metadata": {},
     "output_type": "execute_result"
    }
   ],
   "source": [
    "data = MovieLens(\"20m\")\n",
    "ratings_df = data.ratings\n",
    "ratings_df.head()"
   ]
  },
  {
   "cell_type": "code",
   "execution_count": 8,
   "id": "fdcc93c7-8a63-4a93-be36-d643123c5cf6",
   "metadata": {},
   "outputs": [
    {
     "data": {
      "text/plain": [
       "3.5"
      ]
     },
     "execution_count": 8,
     "metadata": {},
     "output_type": "execute_result"
    }
   ],
   "source": [
    "rating_threshold = ratings_df[\"rating\"].median()\n",
    "rating_threshold"
   ]
  },
  {
   "cell_type": "code",
   "execution_count": 9,
   "id": "d33968ad-b88d-4df4-8610-7a3649e5999c",
   "metadata": {},
   "outputs": [],
   "source": [
    "ratings_df[\"relevance\"] = (ratings_df[\"rating\"] >= rating_threshold).astype(int)"
   ]
  },
  {
   "cell_type": "markdown",
   "id": "82fd85c3-3299-4c9c-ae07-777748a65232",
   "metadata": {},
   "source": [
    "## Train-test-split"
   ]
  },
  {
   "cell_type": "markdown",
   "id": "eda71a3d-3e9e-4c7d-8e8e-a96f428ec13c",
   "metadata": {},
   "source": [
    "We assume that the recommender model is trained on a small amount of data. Thus, we split 20% of the earliest interactions for training the recommender system, 20% of the latest interactions for testing the simulator, and the remaining 60% of the interactions for training the simulator."
   ]
  },
  {
   "cell_type": "code",
   "execution_count": 10,
   "id": "9d2059d5-734f-43a2-b19d-711586421fd7",
   "metadata": {},
   "outputs": [],
   "source": [
    "def train_test_split(\n",
    "    df: pd.DataFrame,\n",
    "    train_rs_quantile: float = 0.2,\n",
    "    test_sim_quantile: float = 0.8,\n",
    ") -> Tuple[pd.DataFrame, pd.DataFrame, pd.DataFrame]:\n",
    "    \"\"\"\n",
    "    Splits data to for recommender model training, simulator training and evaluation\n",
    "\n",
    "    :param df: \n",
    "        Ratings dataframe with users and items identifiers, rating and timestamp\n",
    "    :param train_rs_quantile: \n",
    "        quantile to split data for recommender model training by time point\n",
    "    :param test_sim_quantile: \n",
    "        quantile to split data for simulator evaluation by time point\n",
    "    :returns: Tuple of Pandas DataFrames:\n",
    "        train_sim_df is used to train simulator\n",
    "        train_rs_df is used to train recommender model on real data\n",
    "        test_sim_df is used to evaluate simulator\n",
    "    \"\"\"\n",
    "    train_rs_timepoint = df[\"timestamp\"].quantile(\n",
    "        q=train_rs_quantile, interpolation=\"nearest\"\n",
    "    )\n",
    "    test_sim_timepoint = df[\"timestamp\"].quantile(\n",
    "        q=test_sim_quantile, interpolation=\"nearest\"\n",
    "    )\n",
    "\n",
    "    test_sim_df = df.query(\"timestamp >= @test_sim_timepoint\")\n",
    "    train_sim_df = df.drop(test_sim_df.index)\n",
    "    train_rs_df = train_sim_df.query(\"timestamp < @train_rs_timepoint\")\n",
    "    return train_sim_df, train_rs_df, test_sim_df"
   ]
  },
  {
   "cell_type": "code",
   "execution_count": 11,
   "id": "dcb403c2-1d15-4998-b230-a87ec1413157",
   "metadata": {},
   "outputs": [],
   "source": [
    "train_sim_df, train_rs_df, test_sim_df = train_test_split(ratings_df)"
   ]
  },
  {
   "cell_type": "markdown",
   "id": "9322d0f5-5a22-4395-9d27-e700b30f1bf6",
   "metadata": {},
   "source": [
    "## Data Preprocessing"
   ]
  },
  {
   "cell_type": "markdown",
   "id": "80a1f11a-1f79-4865-ac24-ebf7077be6d8",
   "metadata": {},
   "source": [
    "We encode the user and item IDs with consecutive values so that the new IDs do not contain missing values. "
   ]
  },
  {
   "cell_type": "code",
   "execution_count": 12,
   "id": "6973dcbe-049c-42fa-a960-9e0315aef3cf",
   "metadata": {},
   "outputs": [
    {
     "data": {
      "text/plain": [
       "0"
      ]
     },
     "execution_count": 12,
     "metadata": {},
     "output_type": "execute_result"
    }
   ],
   "source": [
    "# check if any users are present in train_rs_df but not in train_sim_df\n",
    "(~train_rs_df.user_id.isin(train_sim_df.user_id)).sum()"
   ]
  },
  {
   "cell_type": "code",
   "execution_count": 13,
   "id": "697fcc0d-db34-4e98-869a-4e4d1a35d1f9",
   "metadata": {},
   "outputs": [
    {
     "data": {
      "text/plain": [
       "0"
      ]
     },
     "execution_count": 13,
     "metadata": {},
     "output_type": "execute_result"
    }
   ],
   "source": [
    "# check if any items are present in train_rs_df but not in train_sim_df\n",
    "(~train_rs_df.item_id.isin(train_sim_df.item_id)).sum()"
   ]
  },
  {
   "cell_type": "code",
   "execution_count": 14,
   "id": "734ad898-6772-45bd-be9c-4361ef4698f6",
   "metadata": {},
   "outputs": [],
   "source": [
    "all_users = train_sim_df[\"user_id\"].astype(\"category\").cat.codes\n",
    "all_items = train_sim_df[\"item_id\"].astype(\"category\").cat.codes\n",
    "\n",
    "user_id2idx = dict(zip(train_sim_df[\"user_id\"], all_users))\n",
    "item_id2idx = dict(zip(train_sim_df[\"item_id\"], all_items))"
   ]
  },
  {
   "cell_type": "code",
   "execution_count": 15,
   "id": "b9303fe8-013e-4a42-8a66-c27b4bfd096d",
   "metadata": {},
   "outputs": [],
   "source": [
    "def encode_ids(df: pd.DataFrame, user_id2idx: dict, item_id2idx: dict) -> pd.DataFrame:\n",
    "    \"\"\"\n",
    "    Encodes users and items identifiers\n",
    "\n",
    "    :param df:\n",
    "        dataframe with user_id and item_id columns\n",
    "    :param user_id2idx:\n",
    "        dict to encode users identifiers to indexes\n",
    "    :param item_id2idx:\n",
    "        dict to encode items identifiers to indexes\n",
    "    :returns: Pandas DataFrame with encoded columns\n",
    "    \"\"\"\n",
    "    df.loc[:, \"user_idx\"] = df[\"user_id\"].map(user_id2idx)\n",
    "    df.loc[:, \"item_idx\"] = df[\"item_id\"].map(item_id2idx)\n",
    "    return df"
   ]
  },
  {
   "cell_type": "code",
   "execution_count": 16,
   "id": "aad73ec1-251e-4b45-a6b1-ca7019d1ff38",
   "metadata": {},
   "outputs": [],
   "source": [
    "train_sim_df = encode_ids(train_sim_df, user_id2idx, item_id2idx)\n",
    "train_rs_df = encode_ids(train_rs_df, user_id2idx, item_id2idx) \n",
    "test_sim_df = encode_ids(test_sim_df, user_id2idx, item_id2idx)"
   ]
  },
  {
   "cell_type": "code",
   "execution_count": 17,
   "id": "a612f0f3-dfcc-460e-ab6c-18790c611ab6",
   "metadata": {},
   "outputs": [],
   "source": [
    "train_rs = pandas_to_spark(train_rs_df)"
   ]
  },
  {
   "cell_type": "code",
   "execution_count": 18,
   "id": "70f238e7-58e7-44bc-b968-38521c922418",
   "metadata": {},
   "outputs": [],
   "source": [
    "train_sim_positive_df = train_sim_df.query(\"relevance == 1\")\n",
    "train_sim_positive = pandas_to_spark(train_sim_positive_df)"
   ]
  },
  {
   "cell_type": "markdown",
   "id": "3ecdd1cb-0528-46ee-8928-619cfb56212f",
   "metadata": {},
   "source": [
    "We filter cold items and users from test_sim dataframe. "
   ]
  },
  {
   "cell_type": "code",
   "execution_count": 19,
   "id": "e5c5e1b2-4f09-4871-9e9a-bf1d6e5ec7b7",
   "metadata": {},
   "outputs": [],
   "source": [
    "users_train_sim = train_sim_positive_df[\"user_id\"].unique()\n",
    "test_sim_df = test_sim_df[test_sim_df[\"user_id\"].isin(users_train_sim)]\n",
    "\n",
    "items_train_sim = train_sim_positive_df[\"item_id\"].unique()\n",
    "test_sim_df = test_sim_df[test_sim_df[\"item_id\"].isin(items_train_sim)]\n",
    "\n",
    "test_sim = pandas_to_spark(test_sim_df)"
   ]
  },
  {
   "cell_type": "markdown",
   "id": "77df0426-e485-4688-abd7-715d0b615e4f",
   "metadata": {},
   "source": [
    "We will train the synthetic data generator on the entire dataframe. We encode the user and item IDs with consecutive values."
   ]
  },
  {
   "cell_type": "code",
   "execution_count": 20,
   "id": "72947c99-f70b-46ab-b700-8a45c1587395",
   "metadata": {},
   "outputs": [],
   "source": [
    "ratings_df[\"user_idx\"] = ratings_df[\"user_id\"].astype(\"category\").cat.codes\n",
    "ratings_df[\"item_idx\"] = ratings_df[\"item_id\"].astype(\"category\").cat.codes\n",
    "train = pandas_to_spark(ratings_df)"
   ]
  },
  {
   "cell_type": "markdown",
   "id": "a943be55-9409-45b8-8585-a8d1d46422e2",
   "metadata": {},
   "source": [
    "## Generator"
   ]
  },
  {
   "cell_type": "markdown",
   "id": "32f837aa-c878-4dee-94a1-eafaff84718a",
   "metadata": {},
   "source": [
    "The generator module implements functionality to store and sample data for an iteration and to generate synthetic data. "
   ]
  },
  {
   "cell_type": "markdown",
   "id": "a44f9268-739b-4031-ba0c-d735ce4800fa",
   "metadata": {},
   "source": [
    "#### RealDataGenerator\n",
    "\n",
    "RealDataGenerator works with the real data and returns only ids."
   ]
  },
  {
   "cell_type": "code",
   "execution_count": 21,
   "id": "14479d19-f526-4576-9319-8148f81d39f1",
   "metadata": {},
   "outputs": [],
   "source": [
    "users_gen_df = ratings_df[[\"user_idx\"]].drop_duplicates()\n",
    "users_gen = pandas_to_spark(users_gen_df)"
   ]
  },
  {
   "cell_type": "code",
   "execution_count": 22,
   "id": "51b8f847-f1e0-4408-9e4d-2aea70a17d2f",
   "metadata": {},
   "outputs": [
    {
     "name": "stderr",
     "output_type": "stream",
     "text": [
      "                                                                                \r"
     ]
    },
    {
     "name": "stdout",
     "output_type": "stream",
     "text": [
      "n_samples = 1006\n"
     ]
    },
    {
     "data": {
      "text/html": [
       "<div>\n",
       "<style scoped>\n",
       "    .dataframe tbody tr th:only-of-type {\n",
       "        vertical-align: middle;\n",
       "    }\n",
       "\n",
       "    .dataframe tbody tr th {\n",
       "        vertical-align: top;\n",
       "    }\n",
       "\n",
       "    .dataframe thead th {\n",
       "        text-align: right;\n",
       "    }\n",
       "</style>\n",
       "<table border=\"1\" class=\"dataframe\">\n",
       "  <thead>\n",
       "    <tr style=\"text-align: right;\">\n",
       "      <th></th>\n",
       "      <th>user_idx</th>\n",
       "    </tr>\n",
       "  </thead>\n",
       "  <tbody>\n",
       "    <tr>\n",
       "      <th>0</th>\n",
       "      <td>22079</td>\n",
       "    </tr>\n",
       "    <tr>\n",
       "      <th>1</th>\n",
       "      <td>49583</td>\n",
       "    </tr>\n",
       "    <tr>\n",
       "      <th>2</th>\n",
       "      <td>51156</td>\n",
       "    </tr>\n",
       "    <tr>\n",
       "      <th>3</th>\n",
       "      <td>11094</td>\n",
       "    </tr>\n",
       "    <tr>\n",
       "      <th>4</th>\n",
       "      <td>46008</td>\n",
       "    </tr>\n",
       "  </tbody>\n",
       "</table>\n",
       "</div>"
      ],
      "text/plain": [
       "   user_idx\n",
       "0     22079\n",
       "1     49583\n",
       "2     51156\n",
       "3     11094\n",
       "4     46008"
      ]
     },
     "execution_count": 22,
     "metadata": {},
     "output_type": "execute_result"
    }
   ],
   "source": [
    "real_data_generator = RealDataGenerator(\n",
    "    label=\"users_real\", \n",
    "    seed=SEED\n",
    ")\n",
    "real_data_generator.fit(users_gen)\n",
    "real_data_generator.generate(10000)\n",
    "real_users = real_data_generator.sample(0.1)\n",
    "print(f\"n_samples = {real_users.count()}\")\n",
    "real_users.limit(5).toPandas()"
   ]
  },
  {
   "cell_type": "markdown",
   "id": "e4cff885-ba37-4c51-87bf-85f16c3f12dc",
   "metadata": {},
   "source": [
    "#### SDVDataGenerator\n",
    "\n",
    "SDVDataGenerator generates synthetic data and returns both ids and user features."
   ]
  },
  {
   "cell_type": "code",
   "execution_count": 23,
   "id": "808b7b8f-0e3d-4854-adc0-9c1c3a6b8e12",
   "metadata": {},
   "outputs": [
    {
     "name": "stderr",
     "output_type": "stream",
     "text": [
      "                                                                                \r"
     ]
    }
   ],
   "source": [
    "als = ALS(\n",
    "    rank=4,\n",
    "    maxIter=5,\n",
    "    userCol=\"user_idx\",\n",
    "    itemCol=\"item_idx\",\n",
    "    ratingCol=\"relevance\",\n",
    "    seed=SEED,\n",
    "    nonnegative=True,\n",
    ")\n",
    "als_model = als.fit(train)"
   ]
  },
  {
   "cell_type": "markdown",
   "id": "ca6631e8-ef20-48fc-8be3-fd6ac11724b2",
   "metadata": {},
   "source": [
    "Obtain vector representations of real users."
   ]
  },
  {
   "cell_type": "code",
   "execution_count": 24,
   "id": "1a7fd2c7-573c-49de-85ee-76b1781fa0ab",
   "metadata": {},
   "outputs": [
    {
     "data": {
      "text/html": [
       "<div>\n",
       "<style scoped>\n",
       "    .dataframe tbody tr th:only-of-type {\n",
       "        vertical-align: middle;\n",
       "    }\n",
       "\n",
       "    .dataframe tbody tr th {\n",
       "        vertical-align: top;\n",
       "    }\n",
       "\n",
       "    .dataframe thead th {\n",
       "        text-align: right;\n",
       "    }\n",
       "</style>\n",
       "<table border=\"1\" class=\"dataframe\">\n",
       "  <thead>\n",
       "    <tr style=\"text-align: right;\">\n",
       "      <th></th>\n",
       "      <th>id</th>\n",
       "      <th>user_feature[0]</th>\n",
       "      <th>user_feature[1]</th>\n",
       "      <th>user_feature[2]</th>\n",
       "      <th>user_feature[3]</th>\n",
       "    </tr>\n",
       "  </thead>\n",
       "  <tbody>\n",
       "    <tr>\n",
       "      <th>0</th>\n",
       "      <td>0</td>\n",
       "      <td>0.600763</td>\n",
       "      <td>0.386934</td>\n",
       "      <td>0.554788</td>\n",
       "      <td>0.442143</td>\n",
       "    </tr>\n",
       "    <tr>\n",
       "      <th>1</th>\n",
       "      <td>1</td>\n",
       "      <td>0.527399</td>\n",
       "      <td>0.336708</td>\n",
       "      <td>0.494451</td>\n",
       "      <td>0.395085</td>\n",
       "    </tr>\n",
       "    <tr>\n",
       "      <th>2</th>\n",
       "      <td>2</td>\n",
       "      <td>0.537320</td>\n",
       "      <td>0.359514</td>\n",
       "      <td>0.510023</td>\n",
       "      <td>0.404002</td>\n",
       "    </tr>\n",
       "    <tr>\n",
       "      <th>3</th>\n",
       "      <td>3</td>\n",
       "      <td>0.451957</td>\n",
       "      <td>0.267677</td>\n",
       "      <td>0.403091</td>\n",
       "      <td>0.333005</td>\n",
       "    </tr>\n",
       "    <tr>\n",
       "      <th>4</th>\n",
       "      <td>4</td>\n",
       "      <td>0.526905</td>\n",
       "      <td>0.322884</td>\n",
       "      <td>0.482649</td>\n",
       "      <td>0.398983</td>\n",
       "    </tr>\n",
       "  </tbody>\n",
       "</table>\n",
       "</div>"
      ],
      "text/plain": [
       "   id  user_feature[0]  user_feature[1]  user_feature[2]  user_feature[3]\n",
       "0   0         0.600763         0.386934         0.554788         0.442143\n",
       "1   1         0.527399         0.336708         0.494451         0.395085\n",
       "2   2         0.537320         0.359514         0.510023         0.404002\n",
       "3   3         0.451957         0.267677         0.403091         0.333005\n",
       "4   4         0.526905         0.322884         0.482649         0.398983"
      ]
     },
     "execution_count": 24,
     "metadata": {},
     "output_type": "execute_result"
    }
   ],
   "source": [
    "user_features = als_model.userFactors.orderBy(\"id\")\n",
    "user_features = (user_features.withColumn(\"user_feature\", sf.col(\"features\"))).select(\n",
    "    [\"id\"] + [sf.col(\"user_feature\")[i] for i in range(4)]\n",
    ")\n",
    "user_features.limit(5).toPandas()"
   ]
  },
  {
   "cell_type": "markdown",
   "id": "c3d1dedb-75e1-486e-bdef-781e707402bf",
   "metadata": {},
   "source": [
    "Fit CopulaGAN to non-negative ALS embeddings of real users and generate synthetic user feature vectors."
   ]
  },
  {
   "cell_type": "code",
   "execution_count": 40,
   "id": "cd36f78b-9504-4cf7-a6ea-20c075bdfaf7",
   "metadata": {},
   "outputs": [
    {
     "name": "stderr",
     "output_type": "stream",
     "text": [
      "                                                                                \r"
     ]
    },
    {
     "data": {
      "text/html": [
       "<div>\n",
       "<style scoped>\n",
       "    .dataframe tbody tr th:only-of-type {\n",
       "        vertical-align: middle;\n",
       "    }\n",
       "\n",
       "    .dataframe tbody tr th {\n",
       "        vertical-align: top;\n",
       "    }\n",
       "\n",
       "    .dataframe thead th {\n",
       "        text-align: right;\n",
       "    }\n",
       "</style>\n",
       "<table border=\"1\" class=\"dataframe\">\n",
       "  <thead>\n",
       "    <tr style=\"text-align: right;\">\n",
       "      <th></th>\n",
       "      <th>user_id</th>\n",
       "      <th>user_feature[0]</th>\n",
       "      <th>user_feature[1]</th>\n",
       "      <th>user_feature[2]</th>\n",
       "      <th>user_feature[3]</th>\n",
       "    </tr>\n",
       "  </thead>\n",
       "  <tbody>\n",
       "    <tr>\n",
       "      <th>0</th>\n",
       "      <td>synth_0</td>\n",
       "      <td>0.394790</td>\n",
       "      <td>0.282485</td>\n",
       "      <td>0.484643</td>\n",
       "      <td>0.369866</td>\n",
       "    </tr>\n",
       "    <tr>\n",
       "      <th>1</th>\n",
       "      <td>synth_1</td>\n",
       "      <td>0.582869</td>\n",
       "      <td>0.371751</td>\n",
       "      <td>0.528684</td>\n",
       "      <td>0.345175</td>\n",
       "    </tr>\n",
       "    <tr>\n",
       "      <th>2</th>\n",
       "      <td>synth_2</td>\n",
       "      <td>0.508617</td>\n",
       "      <td>0.297746</td>\n",
       "      <td>0.380002</td>\n",
       "      <td>0.357792</td>\n",
       "    </tr>\n",
       "    <tr>\n",
       "      <th>3</th>\n",
       "      <td>synth_3</td>\n",
       "      <td>0.688060</td>\n",
       "      <td>0.349757</td>\n",
       "      <td>0.562963</td>\n",
       "      <td>0.421951</td>\n",
       "    </tr>\n",
       "    <tr>\n",
       "      <th>4</th>\n",
       "      <td>synth_4</td>\n",
       "      <td>0.515549</td>\n",
       "      <td>0.356184</td>\n",
       "      <td>0.452109</td>\n",
       "      <td>0.359094</td>\n",
       "    </tr>\n",
       "  </tbody>\n",
       "</table>\n",
       "</div>"
      ],
      "text/plain": [
       "   user_id  user_feature[0]  user_feature[1]  user_feature[2]  user_feature[3]\n",
       "0  synth_0         0.394790         0.282485         0.484643         0.369866\n",
       "1  synth_1         0.582869         0.371751         0.528684         0.345175\n",
       "2  synth_2         0.508617         0.297746         0.380002         0.357792\n",
       "3  synth_3         0.688060         0.349757         0.562963         0.421951\n",
       "4  synth_4         0.515549         0.356184         0.452109         0.359094"
      ]
     },
     "execution_count": 40,
     "metadata": {},
     "output_type": "execute_result"
    }
   ],
   "source": [
    "svd_data_generator = SDVDataGenerator(\n",
    "    label=\"synth\",\n",
    "    id_column_name=\"user_id\",\n",
    "    model_name=\"copulagan\",\n",
    "    parallelization_level=4,\n",
    "    device_name=\"cpu\",\n",
    "    seed=SEED,\n",
    ")\n",
    "svd_data_generator.fit(user_features.drop(\"id\").sample(0.1))\n",
    "synthetic_users = svd_data_generator.generate(user_features.sample(0.1).count())\n",
    "synthetic_users.limit(5).toPandas()"
   ]
  },
  {
   "cell_type": "markdown",
   "id": "5518303b-d814-47e3-9b89-fa9df7b1ca3b",
   "metadata": {},
   "source": [
    "## Response"
   ]
  },
  {
   "cell_type": "markdown",
   "id": "6afd22a1-daa3-4e9c-940e-b9628e9bdee7",
   "metadata": {},
   "source": [
    "The response pipeline consists of the following core components: an ALS model for predicting scores, LogisticRegression for transforming scores into probabilities, and BernoulliResponse for sampling responses with the given probability for each user-item pair."
   ]
  },
  {
   "cell_type": "code",
   "execution_count": 26,
   "id": "861a8536-8212-4343-9974-678a01fb57f8",
   "metadata": {},
   "outputs": [
    {
     "name": "stderr",
     "output_type": "stream",
     "text": [
      "                                                                                \r"
     ]
    },
    {
     "data": {
      "text/html": [
       "<div>\n",
       "<style scoped>\n",
       "    .dataframe tbody tr th:only-of-type {\n",
       "        vertical-align: middle;\n",
       "    }\n",
       "\n",
       "    .dataframe tbody tr th {\n",
       "        vertical-align: top;\n",
       "    }\n",
       "\n",
       "    .dataframe thead th {\n",
       "        text-align: right;\n",
       "    }\n",
       "</style>\n",
       "<table border=\"1\" class=\"dataframe\">\n",
       "  <thead>\n",
       "    <tr style=\"text-align: right;\">\n",
       "      <th></th>\n",
       "      <th>user_idx</th>\n",
       "      <th>item_idx</th>\n",
       "      <th>relevance</th>\n",
       "      <th>response_proba</th>\n",
       "      <th>response</th>\n",
       "    </tr>\n",
       "  </thead>\n",
       "  <tbody>\n",
       "    <tr>\n",
       "      <th>0</th>\n",
       "      <td>1357.0</td>\n",
       "      <td>2.0</td>\n",
       "      <td>1</td>\n",
       "      <td>0.204251</td>\n",
       "      <td>0</td>\n",
       "    </tr>\n",
       "    <tr>\n",
       "      <th>1</th>\n",
       "      <td>22360.0</td>\n",
       "      <td>2.0</td>\n",
       "      <td>0</td>\n",
       "      <td>0.221479</td>\n",
       "      <td>0</td>\n",
       "    </tr>\n",
       "    <tr>\n",
       "      <th>2</th>\n",
       "      <td>24012.0</td>\n",
       "      <td>2.0</td>\n",
       "      <td>1</td>\n",
       "      <td>0.238128</td>\n",
       "      <td>0</td>\n",
       "    </tr>\n",
       "    <tr>\n",
       "      <th>3</th>\n",
       "      <td>27728.0</td>\n",
       "      <td>2.0</td>\n",
       "      <td>1</td>\n",
       "      <td>0.267854</td>\n",
       "      <td>0</td>\n",
       "    </tr>\n",
       "    <tr>\n",
       "      <th>4</th>\n",
       "      <td>35923.0</td>\n",
       "      <td>2.0</td>\n",
       "      <td>1</td>\n",
       "      <td>0.266895</td>\n",
       "      <td>0</td>\n",
       "    </tr>\n",
       "  </tbody>\n",
       "</table>\n",
       "</div>"
      ],
      "text/plain": [
       "   user_idx  item_idx  relevance  response_proba  response\n",
       "0    1357.0       2.0          1        0.204251         0\n",
       "1   22360.0       2.0          0        0.221479         0\n",
       "2   24012.0       2.0          1        0.238128         0\n",
       "3   27728.0       2.0          1        0.267854         0\n",
       "4   35923.0       2.0          1        0.266895         0"
      ]
     },
     "execution_count": 26,
     "metadata": {},
     "output_type": "execute_result"
    }
   ],
   "source": [
    "als = ALS(\n",
    "    rank=10,\n",
    "    maxIter=5,\n",
    "    userCol=\"user_idx\",\n",
    "    itemCol=\"item_idx\",\n",
    "    ratingCol=\"relevance\",\n",
    "    seed=SEED,\n",
    ")\n",
    "als_model = als.fit(train_sim_positive)\n",
    "\n",
    "va = VectorAssembler(inputCols=[\"prediction\"], outputCol=\"features\")\n",
    "\n",
    "calibration = LogisticRegression(\n",
    "    featuresCol=\"features\",\n",
    "    labelCol=\"relevance\",\n",
    "    predictionCol=\"lr_pred\",\n",
    "    probabilityCol=\"lr_prob\",\n",
    "    maxIter=500,\n",
    "    tol=1e-2\n",
    ")\n",
    "calibration_model = calibration.fit(va.transform(als_model.transform(test_sim)))\n",
    "\n",
    "vee = VectorElementExtractor(inputCol=\"lr_prob\", outputCol=\"response_proba\", index=1)\n",
    "br = BernoulliResponse(inputCol=\"response_proba\", outputCol=\"response\", seed=SEED)\n",
    "\n",
    "response_pipeline = PipelineModel(stages=[als_model, va, calibration_model, vee, br])\n",
    "predictions = response_pipeline.transform(test_sim).select(\n",
    "    \"user_idx\",\n",
    "    \"item_idx\",\n",
    "    \"relevance\",\n",
    "    \"response_proba\",\n",
    "    \"response\"\n",
    ")\n",
    "predictions.limit(5).toPandas()"
   ]
  },
  {
   "cell_type": "markdown",
   "id": "0dd6df79-4bcf-4e70-922e-04f9e52999ab",
   "metadata": {},
   "source": [
    "## Simulator"
   ]
  },
  {
   "cell_type": "markdown",
   "id": "e1bd1d9e-a6f6-4fe4-a3ca-e2f047421b01",
   "metadata": {},
   "source": [
    "The Simulator class stores and checks the consistency of the simulation log with the Update Log function, and provides an API for invoking the core simulation pipeline models. "
   ]
  },
  {
   "cell_type": "markdown",
   "id": "0364825c-e73f-4ee6-a3e2-9e7f4e699667",
   "metadata": {},
   "source": [
    "#### Simulator Initialization"
   ]
  },
  {
   "cell_type": "code",
   "execution_count": 27,
   "id": "eb664d5f-c269-4186-8890-01e67a40e2b5",
   "metadata": {},
   "outputs": [],
   "source": [
    "train_users_gen_df = train_sim_positive_df[[\"user_idx\"]].drop_duplicates()\n",
    "train_users_gen = pandas_to_spark(train_users_gen_df)"
   ]
  },
  {
   "cell_type": "code",
   "execution_count": 28,
   "id": "cad1b558-152f-4747-a48f-fec6f5e6de52",
   "metadata": {},
   "outputs": [],
   "source": [
    "train_items_gen_df = train_sim_positive_df[[\"item_idx\"]].drop_duplicates()\n",
    "train_items_gen = pandas_to_spark(train_items_gen_df)"
   ]
  },
  {
   "cell_type": "code",
   "execution_count": 29,
   "id": "9ca525d3-2bc3-4ac9-8412-f7925191af4b",
   "metadata": {},
   "outputs": [
    {
     "data": {
      "text/plain": [
       "DataFrame[user_idx: bigint]"
      ]
     },
     "execution_count": 29,
     "metadata": {},
     "output_type": "execute_result"
    }
   ],
   "source": [
    "users_generator = RealDataGenerator(label=\"users_real\", seed=SEED)\n",
    "users_generator.fit(train_users_gen)\n",
    "users_generator.generate(500)"
   ]
  },
  {
   "cell_type": "code",
   "execution_count": 41,
   "id": "c0f43284-92dd-4e34-8f10-bcce7c956b7e",
   "metadata": {},
   "outputs": [],
   "source": [
    "items_generator = RealDataGenerator(label=\"items_real\", seed=SEED)\n",
    "items_generator.fit(train_items_gen)"
   ]
  },
  {
   "cell_type": "code",
   "execution_count": 47,
   "id": "18fcf6f4-5299-4d6e-889f-600223e9f721",
   "metadata": {},
   "outputs": [],
   "source": [
    "%%bash -s \"$CHECKPOINT_DIR\"\n",
    "rm -rf $1"
   ]
  },
  {
   "cell_type": "code",
   "execution_count": 44,
   "id": "1376761f-8bb2-4993-a9d0-4c85fd835309",
   "metadata": {},
   "outputs": [],
   "source": [
    "sim = Simulator(\n",
    "    user_gen=users_generator,\n",
    "    item_gen=items_generator,\n",
    "    data_dir=f\"{CHECKPOINT_DIR}/pipeline\",\n",
    "    spark_session=spark\n",
    ")"
   ]
  },
  {
   "cell_type": "markdown",
   "id": "e4086683-5c78-4027-a179-a5865fc0a3e8",
   "metadata": {},
   "source": [
    "#### Users and responses sampling"
   ]
  },
  {
   "cell_type": "code",
   "execution_count": 33,
   "id": "3aeaded1-7f65-43bd-b796-61b8d9ad5d74",
   "metadata": {},
   "outputs": [
    {
     "name": "stderr",
     "output_type": "stream",
     "text": [
      "                                                                                \r"
     ]
    }
   ],
   "source": [
    "rs_model = UCB(sample=True, seed=SEED)\n",
    "rs_model.fit(train_rs)"
   ]
  },
  {
   "cell_type": "code",
   "execution_count": 34,
   "id": "dcccf564-1e79-4171-97c0-ca47d1395015",
   "metadata": {},
   "outputs": [
    {
     "name": "stderr",
     "output_type": "stream",
     "text": [
      "                                                                                \r"
     ]
    }
   ],
   "source": [
    "current_users = sim.sample_users(0.1).cache()\n",
    "log = sim.get_log(train_users_gen)\n",
    "recs = rs_model.predict(\n",
    "    log=log, \n",
    "    k=50, \n",
    "    users=current_users, \n",
    "    items=train_items_gen, \n",
    "    filter_seen_items=False\n",
    ")\n",
    "true_resp = sim.sample_responses(\n",
    "        recs_df=recs,\n",
    "        user_features=current_users,\n",
    "        item_features=train_items_gen,\n",
    "        action_models=response_pipeline,\n",
    ")\n",
    "sim.update_log(true_resp, iteration=0)"
   ]
  },
  {
   "cell_type": "markdown",
   "id": "721bdf9c-2759-4c04-a6fb-e67c4b583840",
   "metadata": {},
   "source": [
    "## Evaluation"
   ]
  },
  {
   "cell_type": "markdown",
   "id": "75b5a706-47af-45e0-9f4a-ca9f9d75fbf9",
   "metadata": {},
   "source": [
    "The evaluation module provides functionality to evaluate the quality of synthetic data generation, the quality of the response model and recommender system. The custom metrics are supported."
   ]
  },
  {
   "cell_type": "markdown",
   "id": "2dfaccd4-be2d-4b3b-b22b-5da6e3027781",
   "metadata": {},
   "source": [
    "#### Evaluation of synthetic data"
   ]
  },
  {
   "cell_type": "markdown",
   "id": "7b9b8028-56d1-4f2e-a3c6-0418fdae8d04",
   "metadata": {},
   "source": [
    "Graphs from [Sim4Rec repo](https://github.com/sb-ai-lab/Sim4Rec/blob/main/experiments/amazon_embeddings.ipynb) Generators quality with ALS."
   ]
  },
  {
   "cell_type": "code",
   "execution_count": 35,
   "id": "162c3ec5-baa1-4442-9728-dc306bef67da",
   "metadata": {},
   "outputs": [
    {
     "name": "stderr",
     "output_type": "stream",
     "text": [
      "                                                                                \r"
     ]
    }
   ],
   "source": [
    "real_users = user_features.sample(0.1)\n",
    "synthetic_users = svd_data_generator.generate(real_users.count())\n",
    "gen_score = evaluate_synthetic(\n",
    "    synthetic_users.drop(\"user_id\"), \n",
    "    real_users.drop(\"id\")\n",
    ")"
   ]
  },
  {
   "cell_type": "markdown",
   "id": "36fae3ca-79e1-4293-ba03-8abfbce3ea2a",
   "metadata": {},
   "source": [
    "#### Evaluation of a response model"
   ]
  },
  {
   "cell_type": "code",
   "execution_count": 36,
   "id": "fbe49b1f-c722-4d78-8c6d-1e3dc27bdc37",
   "metadata": {},
   "outputs": [
    {
     "name": "stderr",
     "output_type": "stream",
     "text": [
      "                                                                                \r"
     ]
    },
    {
     "name": "stdout",
     "output_type": "stream",
     "text": [
      "ROC-AUC = 0.6132717980328471\n"
     ]
    }
   ],
   "source": [
    "pipeline_eval = EvaluateMetrics(\n",
    "    userKeyCol=\"user_idx\",\n",
    "    itemKeyCol=\"item_idx\",\n",
    "    predictionCol=\"response_proba\",\n",
    "    labelCol=\"relevance\",\n",
    "    mllib_metrics=[\"areaUnderROC\"],\n",
    ")\n",
    "\n",
    "predictions = response_pipeline.transform(test_sim)\n",
    "predictions = predictions.withColumn(\n",
    "    \"response_proba\", predictions[\"response_proba\"].astype(\"double\")\n",
    ")\n",
    "pipeline_eval(predictions)\n",
    "print(f\"ROC-AUC = {pipeline_eval(predictions)['areaUnderROC']}\")"
   ]
  },
  {
   "cell_type": "markdown",
   "id": "d5033021-b931-4ecc-baf0-1f87140b9da2",
   "metadata": {},
   "source": [
    "#### Evaluation of a recommender system with custom metric"
   ]
  },
  {
   "cell_type": "code",
   "execution_count": null,
   "id": "dc7fce79-25a2-487c-9856-d043424045b9",
   "metadata": {},
   "outputs": [],
   "source": [
    "%%bash -s \"$CHECKPOINT_DIR\"\n",
    "rm -rf $1"
   ]
  },
  {
   "cell_type": "code",
   "execution_count": 48,
   "id": "5334594f-242d-424e-9d3c-bbb9b2519f1a",
   "metadata": {},
   "outputs": [],
   "source": [
    "sim = Simulator(\n",
    "    user_gen=users_generator,\n",
    "    item_gen=items_generator,\n",
    "    data_dir=f\"{CHECKPOINT_DIR}/pipeline_eval\",\n",
    "    spark_session=spark\n",
    ")"
   ]
  },
  {
   "cell_type": "code",
   "execution_count": 49,
   "id": "05a3241d-57d0-440a-b6ba-1de537f9646a",
   "metadata": {},
   "outputs": [],
   "source": [
    "def n_clicks_per_user(response):\n",
    "    return (\n",
    "        response.groupBy(\"user_idx\")\n",
    "        .agg(sf.sum(\"response\").alias(\"num_positive\"))\n",
    "        .select(sf.mean(\"num_positive\"))\n",
    "        .collect()[0][0]\n",
    "    )"
   ]
  },
  {
   "cell_type": "code",
   "execution_count": 50,
   "id": "629c2558-f6da-483d-8765-f94e221200b2",
   "metadata": {},
   "outputs": [
    {
     "name": "stderr",
     "output_type": "stream",
     "text": [
      "                                                                                \r"
     ]
    }
   ],
   "source": [
    "metrics = []\n",
    "\n",
    "recs = rs_model.predict(\n",
    "    log=log, k=50, users=current_users, items=train_items_gen, filter_seen_items=False\n",
    ").cache()\n",
    "\n",
    "true_resp = (\n",
    "    sim.sample_responses(\n",
    "        recs_df=recs,\n",
    "        user_features=current_users,\n",
    "        item_features=train_items_gen,\n",
    "        action_models=response_pipeline,\n",
    "    )\n",
    "    .select(\"user_idx\", \"item_idx\", \"relevance\", \"response\")\n",
    "    .cache()\n",
    ")\n",
    "\n",
    "sim.update_log(true_resp, iteration=0)\n",
    "\n",
    "metrics.append(n_clicks_per_user(true_resp))"
   ]
  },
  {
   "cell_type": "code",
   "execution_count": null,
   "id": "6aa4ebe6-8884-44f9-a151-777158892a67",
   "metadata": {},
   "outputs": [],
   "source": []
  }
 ],
 "metadata": {
  "kernelspec": {
   "display_name": "Python [conda env:env39_sim4rec_check]",
   "language": "python",
   "name": "conda-env-env39_sim4rec_check-py"
  },
  "language_info": {
   "codemirror_mode": {
    "name": "ipython",
    "version": 3
   },
   "file_extension": ".py",
   "mimetype": "text/x-python",
   "name": "python",
   "nbconvert_exporter": "python",
   "pygments_lexer": "ipython3",
   "version": "3.9.21"
  }
 },
 "nbformat": 4,
 "nbformat_minor": 5
}
