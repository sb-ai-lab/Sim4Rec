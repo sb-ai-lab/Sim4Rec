{
 "cells": [
  {
   "cell_type": "markdown",
   "metadata": {},
   "source": [
    "# Simulation cycle time"
   ]
  },
  {
   "cell_type": "markdown",
   "metadata": {},
   "source": [
    "This tutorial demonstrates the speed of the simulation cycle for retraining RS model. We evaluate the time of the main steps of the cycle, shown in rs_performance_evaluation.ipynb notebook, but with a larger size of data.  \n",
    "\n",
    "Before running the simulation cycle, we need to\n",
    " - initialize the recommender model and fit it to the historical data,\n",
    " - construct the response function pipeline and fit it to the items.\n",
    " \n",
    "We measure the time of the main steps of the simulation cycle:\n",
    "\n",
    "- sampling visiting users, \n",
    "- generating responses to recommendations, \n",
    "- updating user history with received responses, \n",
    "- metric computation time.\n",
    "\n",
    "We excluded the RS retraining stage from the measurement, since RS is not part of the simulator and did not include the RS model prediction time to the results. We did not show the time to obtain the history of interactions because the size of the logged data is the same before the cycle starts for each sample size.\n",
    "\n",
    "For each sample of visiting users in the range of 1M to 50M, we measured the time for the first interaction of the simulation cycle. The time was averaged over 5 runs for each sample size.\n",
    "\n",
    "We observe that the iteration time increases approximately twice, from 23 to 40 seconds, with the sample size increasing by 5 times, from 10 to 50 million users, with the most size-dependent operations being the response generation and the generated data saving. "
   ]
  },
  {
   "cell_type": "markdown",
   "metadata": {
    "cellId": "a23y5u7l746q73y0tqxss",
    "execution_id": "b0740c39-9cda-411d-b832-490de8695080"
   },
   "source": [
    "## Imports and preparations"
   ]
  },
  {
   "cell_type": "code",
   "execution_count": 1,
   "metadata": {},
   "outputs": [],
   "source": [
    "import os\n",
    "import sys\n",
    "os.environ[\"JAVA_HOME\"] = \"/home/jovyan/ivanova/env39_sim4rec_demo_new\"\n",
    "os.environ[\"PYSPARK_PYTHON\"] = sys.executable\n",
    "os.environ[\"PYSPARK_DRIVER_PYTHON\"] = sys.executable\n",
    "os.environ[\"CUDA_LAUNCH_BLOCKING\"] = \"1\"\n",
    "os.environ[\"OMP_NUM_THREADS\"] = \"32\"\n",
    "os.environ[\"NUMBA_NUM_THREADS\"] = \"4\""
   ]
  },
  {
   "cell_type": "code",
   "execution_count": 2,
   "metadata": {
    "cellId": "jlz0twee16goe1fisulv5"
   },
   "outputs": [],
   "source": [
    "import random\n",
    "import time\n",
    "\n",
    "import matplotlib.pyplot as plt\n",
    "import numpy as np\n",
    "import pandas as pd\n",
    "import seaborn as sns\n",
    "import warnings\n",
    "\n",
    "from pyspark import SparkConf\n",
    "from pyspark.ml import Pipeline\n",
    "from pyspark.sql import SparkSession\n",
    "import pyspark.sql.functions as sf\n",
    "\n",
    "from experiments.response_models.utils import calc_metric\n",
    "from sim4rec.modules import RealDataGenerator\n",
    "from sim4rec.modules import Simulator\n",
    "from sim4rec.recommenders.ucb import UCB\n",
    "from sim4rec.response import BernoulliResponse,  ActionModelTransformer\n",
    "\n",
    "warnings.filterwarnings(\"ignore\") "
   ]
  },
  {
   "cell_type": "code",
   "execution_count": 3,
   "metadata": {},
   "outputs": [],
   "source": [
    "# path to spark tmp folder and simulator checkpoints\n",
    "SPARK_LOCAL_DIR = './tmp/task_1'\n",
    "CHECKPOINT_DIR = './tmp/task_1_checkpoints'"
   ]
  },
  {
   "cell_type": "code",
   "execution_count": 4,
   "metadata": {
    "cellId": "ku55idy38nqtlrc187ucq"
   },
   "outputs": [],
   "source": [
    "%%bash -s \"$CHECKPOINT_DIR\" \"$SPARK_LOCAL_DIR\"\n",
    "# Simulator keeps history of interactions between users and recommender system\n",
    "# To re-run the simulation cycle or start a new one, clear the directory or use a different CHECKPOINT_DIR\n",
    "rm -rf $1 $2"
   ]
  },
  {
   "cell_type": "code",
   "execution_count": 4,
   "metadata": {
    "cellId": "v1uc08ym8h8d7qxpmsop4"
   },
   "outputs": [
    {
     "name": "stderr",
     "output_type": "stream",
     "text": [
      "WARNING: An illegal reflective access operation has occurred\n",
      "WARNING: Illegal reflective access by org.apache.spark.unsafe.Platform (file:/home/jovyan/ivanova/env39_sim4rec_demo_new/lib/python3.9/site-packages/pyspark/jars/spark-unsafe_2.12-3.1.3.jar) to constructor java.nio.DirectByteBuffer(long,int)\n",
      "WARNING: Please consider reporting this to the maintainers of org.apache.spark.unsafe.Platform\n",
      "WARNING: Use --illegal-access=warn to enable warnings of further illegal reflective access operations\n",
      "WARNING: All illegal access operations will be denied in a future release\n",
      "24/10/09 23:16:29 WARN NativeCodeLoader: Unable to load native-hadoop library for your platform... using builtin-java classes where applicable\n",
      "Using Spark's default log4j profile: org/apache/spark/log4j-defaults.properties\n",
      "Setting default log level to \"WARN\".\n",
      "To adjust logging level use sc.setLogLevel(newLevel). For SparkR, use setLogLevel(newLevel).\n",
      "24/10/09 23:16:29 WARN SparkConf: Note that spark.local.dir will be overridden by the value set by the cluster manager (via SPARK_LOCAL_DIRS in mesos/standalone/kubernetes and LOCAL_DIRS in YARN).\n",
      "24/10/09 23:16:30 WARN Utils: Service 'SparkUI' could not bind on port 4040. Attempting port 4041.\n",
      "24/10/09 23:16:30 WARN Utils: Service 'SparkUI' could not bind on port 4041. Attempting port 4042.\n",
      "24/10/09 23:16:30 WARN Utils: Service 'SparkUI' could not bind on port 4042. Attempting port 4043.\n",
      "24/10/09 23:16:30 WARN Utils: Service 'SparkUI' could not bind on port 4043. Attempting port 4044.\n"
     ]
    }
   ],
   "source": [
    "NUM_JOBS = 16\n",
    "\n",
    "spark = SparkSession.builder\\\n",
    "    .appName('simulator')\\\n",
    "    .master(f'local[{NUM_JOBS}]')\\\n",
    "    .config('spark.sql.shuffle.partitions', f'{NUM_JOBS * 3}')\\\n",
    "    .config('spark.default.parallelism', f'{NUM_JOBS * 3}')\\\n",
    "    .config('spark.driver.extraJavaOptions', '-XX:+UseG1GC')\\\n",
    "    .config('spark.executor.extraJavaOptions', '-XX:+UseG1GC')\\\n",
    "    .config(\"spark.sql.autoBroadcastJoinThreshold\", \"-1\")\\\n",
    "    .config(\"spark.driver.memory\", \"64g\")\\\n",
    "    .config('spark.local.dir', SPARK_LOCAL_DIR)\\\n",
    "    .getOrCreate()\n",
    "\n",
    "spark.sparkContext.setLogLevel('ERROR')"
   ]
  },
  {
   "cell_type": "code",
   "execution_count": 6,
   "metadata": {
    "cellId": "9vf3sqixr4vgau073549pv"
   },
   "outputs": [],
   "source": [
    "NUM_USERS = 50000000 # number of generated users\n",
    "NUM_ITEMS = 10000 # number of generated items\n",
    "K = 5 # number of predicted items\n",
    "NUM_ITER = 1 # number of iterations\n",
    "SEED = 1234\n",
    "np.random.seed(SEED)"
   ]
  },
  {
   "cell_type": "markdown",
   "metadata": {
    "cellId": "ffl9l89trncxzwbk5zq7gn",
    "execution_id": "cbbf5328-af84-4368-957e-3c000bd80332"
   },
   "source": [
    "## Data generation"
   ]
  },
  {
   "cell_type": "markdown",
   "metadata": {},
   "source": [
    "We create 50M users and 10K items, fit RealDataGenerator to them and then generate 50M users and 10K items. "
   ]
  },
  {
   "cell_type": "code",
   "execution_count": 7,
   "metadata": {},
   "outputs": [
    {
     "name": "stderr",
     "output_type": "stream",
     "text": [
      "                                                                                \r"
     ]
    },
    {
     "data": {
      "text/plain": [
       "50000000"
      ]
     },
     "execution_count": 7,
     "metadata": {},
     "output_type": "execute_result"
    }
   ],
   "source": [
    "users = spark.createDataFrame([[x] for x in range(NUM_USERS)], schema=[\"user_idx\"])\n",
    "users.count()"
   ]
  },
  {
   "cell_type": "code",
   "execution_count": 8,
   "metadata": {},
   "outputs": [
    {
     "data": {
      "text/plain": [
       "10000"
      ]
     },
     "execution_count": 8,
     "metadata": {},
     "output_type": "execute_result"
    }
   ],
   "source": [
    "items = spark.createDataFrame([[x] for x in range(NUM_ITEMS)], schema=[\"item_idx\"])\n",
    "items.count()"
   ]
  },
  {
   "cell_type": "code",
   "execution_count": 9,
   "metadata": {
    "cellId": "3btpzal8hblukqhq46asd"
   },
   "outputs": [
    {
     "name": "stderr",
     "output_type": "stream",
     "text": [
      "                                                                                \r"
     ]
    },
    {
     "data": {
      "text/plain": [
       "10000"
      ]
     },
     "execution_count": 9,
     "metadata": {},
     "output_type": "execute_result"
    }
   ],
   "source": [
    "item_generator = RealDataGenerator(label='items_real', seed=SEED, parallelization_level=NUM_JOBS * 3)\n",
    "user_generator = RealDataGenerator(label='users_real', seed=SEED, parallelization_level=NUM_JOBS * 3)\n",
    "\n",
    "item_generator.fit(items)\n",
    "user_generator.fit(users)\n",
    "\n",
    "item_generator.generate(NUM_ITEMS)\n",
    "user_generator.generate(NUM_USERS)\n",
    "item_generator.getDataSize()"
   ]
  },
  {
   "cell_type": "code",
   "execution_count": 10,
   "metadata": {},
   "outputs": [
    {
     "data": {
      "text/plain": [
       "5001100"
      ]
     },
     "execution_count": 10,
     "metadata": {},
     "output_type": "execute_result"
    }
   ],
   "source": [
    "user_generator.sample(0.1).count()"
   ]
  },
  {
   "cell_type": "markdown",
   "metadata": {
    "cellId": "1crcvslqi2qm4dnavh3obq",
    "execution_id": "2c640f43-9dd5-445d-9511-d0d100fc830c"
   },
   "source": [
    "# Before running the simulation cycle"
   ]
  },
  {
   "cell_type": "markdown",
   "metadata": {
    "cellId": "4kfl2on9vg46431mkek4ot",
    "execution_id": "85a06070-5f73-407a-ad84-ff781e7d04fb"
   },
   "source": [
    "## Recommender model"
   ]
  },
  {
   "cell_type": "markdown",
   "metadata": {},
   "source": [
    "UCB model should be fitted to historical data before it can be refitted in cycle. Let's assume we had one interaction for simplicity."
   ]
  },
  {
   "cell_type": "code",
   "execution_count": 11,
   "metadata": {
    "cellId": "kck71xz164nwlq1tlo81d"
   },
   "outputs": [
    {
     "name": "stderr",
     "output_type": "stream",
     "text": [
      "                                                                                \r"
     ]
    }
   ],
   "source": [
    "# initialization of recommender model\n",
    "rs_model = UCB(sample=False, seed=SEED)\n",
    "# fit recommender model\n",
    "rs_model.fit(\n",
    "    log=users.limit(1).crossJoin(items.limit(1)).withColumn(\"relevance\", sf.lit(1))\n",
    ")"
   ]
  },
  {
   "cell_type": "markdown",
   "metadata": {
    "cellId": "6tn53xv939c0ph8cth3961",
    "execution_id": "2c95f94f-97cc-4007-a971-d340645e0f90"
   },
   "source": [
    "## Response Function"
   ]
  },
  {
   "cell_type": "markdown",
   "metadata": {
    "cellId": "7m11axprgbnc8wgrnr20km",
    "execution_id": "1bf409d8-8df8-4ff6-a96d-eab7b07f54d8"
   },
   "source": [
    "The response function in this tutorial is constant over time and very simple. The response is binary, response == 1 means the user bought the item.  \n",
    "\n",
    "The probability of a response is fixed and is equal to one tenth of the last digit of an `item_idx`. So there are more popular items with higher probability of a response and a simple recommender model should be able to identify them.\n",
    "\n",
    "The response function takes a dataframe with the columns `user_idx`, `item_idx`, `relevance` and returns a dataframe with the columns `user_idx`, `item_idx`, `relevance`, `response_proba`, `response`, adding the response column to the original columns. If the initial dataframe had other columns, they are returned as well."
   ]
  },
  {
   "cell_type": "code",
   "execution_count": 12,
   "metadata": {},
   "outputs": [],
   "source": [
    "class PopBasedTransformer(ActionModelTransformer):\n",
    "    def __init__(\n",
    "        self,\n",
    "        inputCol: str = None,\n",
    "        outputCol: str = None,\n",
    "    ):\n",
    "        \"\"\"\n",
    "        Class for the response function. \n",
    "        The probability of a response is fixed and \n",
    "        is equal to one tenth of the last digit of an item id from inputCol. \n",
    "        The probability of response is one tenth of the last digit of an item_idx.\n",
    "        :param inputCol: Name of the item_id column\n",
    "        :param outputCol: Name of the response probability column\n",
    "        :returns: dataframe with outputCol\n",
    "        \"\"\"\n",
    "        self.inputCol = inputCol\n",
    "        self.outputCol = outputCol\n",
    "\n",
    "    def _transform(self, dataframe):\n",
    "        return dataframe.withColumn(\n",
    "            self.outputCol, (sf.col(self.inputCol) % sf.lit(10)) / sf.lit(10)\n",
    "        )"
   ]
  },
  {
   "cell_type": "markdown",
   "metadata": {},
   "source": [
    "To construct the response function pipeline, we need to initialize PopBasedTransformer to get the response probability for each item and BernoulliResponse to model the non-deterministic behavior of the user."
   ]
  },
  {
   "cell_type": "code",
   "execution_count": 13,
   "metadata": {
    "cellId": "uayt15jraspro9gjta45f"
   },
   "outputs": [],
   "source": [
    "# initialization of response function\n",
    "popularity_model = PopBasedTransformer(inputCol=\"item_idx\", outputCol=\"response_proba\")\n",
    "# initialization of Bernoulli response sampling\n",
    "br = BernoulliResponse(inputCol=\"response_proba\", outputCol=\"response\", seed=SEED)\n",
    "# get response pipeline\n",
    "response_pipeline = Pipeline(stages=[popularity_model, br])\n",
    "# fit response pipeline\n",
    "response_model = response_pipeline.fit(items)"
   ]
  },
  {
   "cell_type": "markdown",
   "metadata": {
    "cellId": "o0o3kq6tjrs7tuvbdikavd",
    "execution_id": "7c137458-8817-41ef-aa39-c255fe3286f6"
   },
   "source": [
    "# Training the model in the simulator"
   ]
  },
  {
   "cell_type": "code",
   "execution_count": 14,
   "metadata": {
    "cellId": "kkg4h3xdwqhgpk4gs9y37m"
   },
   "outputs": [],
   "source": [
    "%%bash -s \"$CHECKPOINT_DIR\"\n",
    "rm -rf $1"
   ]
  },
  {
   "cell_type": "markdown",
   "metadata": {
    "cellId": "1t5x6egzvjmz7yk9tc7gf",
    "execution_id": "50e4dc71-1b47-4832-af9f-efcd08b5b47c"
   },
   "source": [
    "## Simulation cycle"
   ]
  },
  {
   "cell_type": "markdown",
   "metadata": {},
   "source": [
    "For each sample of visiting users in the range of 1M to 50M, we initialize the simulator and start the simulation cycle. We collected the time for the first interaction of the simulation cycle for the following steps:\n",
    "\n",
    "- sampling of visiting users, \n",
    "- generating responses to recommendations, \n",
    "- updating the user history with the received responses, \n",
    "- metric computation time.\n",
    "\n",
    "We also collected additional information, such as total iteration time and sample size.\n",
    "\n",
    "We did not show the time of obtaining the history of interactions because the size of the logged data is the same before the cycle starts for each sample size. We also did not show the RS model prediction time because RS is not part of the simulator."
   ]
  },
  {
   "cell_type": "code",
   "execution_count": 15,
   "metadata": {},
   "outputs": [
    {
     "name": "stderr",
     "output_type": "stream",
     "text": [
      "                                                                                \r"
     ]
    },
    {
     "name": "stdout",
     "output_type": "stream",
     "text": [
      "Iteration 0 ended in 26.025669813156128 seconds\n"
     ]
    },
    {
     "name": "stderr",
     "output_type": "stream",
     "text": [
      "                                                                                \r"
     ]
    },
    {
     "name": "stdout",
     "output_type": "stream",
     "text": [
      "Iteration 0 ended in 20.607492923736572 seconds\n"
     ]
    },
    {
     "name": "stderr",
     "output_type": "stream",
     "text": [
      "                                                                                \r"
     ]
    },
    {
     "name": "stdout",
     "output_type": "stream",
     "text": [
      "Iteration 0 ended in 25.37016487121582 seconds\n"
     ]
    },
    {
     "name": "stderr",
     "output_type": "stream",
     "text": [
      "                                                                                \r"
     ]
    },
    {
     "name": "stdout",
     "output_type": "stream",
     "text": [
      "Iteration 0 ended in 23.709872245788574 seconds\n"
     ]
    },
    {
     "name": "stderr",
     "output_type": "stream",
     "text": [
      "                                                                                \r"
     ]
    },
    {
     "name": "stdout",
     "output_type": "stream",
     "text": [
      "Iteration 0 ended in 23.787129878997803 seconds\n"
     ]
    },
    {
     "name": "stderr",
     "output_type": "stream",
     "text": [
      "                                                                                \r"
     ]
    },
    {
     "name": "stdout",
     "output_type": "stream",
     "text": [
      "Iteration 0 ended in 28.174647331237793 seconds\n"
     ]
    },
    {
     "name": "stderr",
     "output_type": "stream",
     "text": [
      "                                                                                \r"
     ]
    },
    {
     "name": "stdout",
     "output_type": "stream",
     "text": [
      "Iteration 0 ended in 34.7930908203125 seconds\n"
     ]
    },
    {
     "name": "stderr",
     "output_type": "stream",
     "text": [
      "                                                                                \r"
     ]
    },
    {
     "name": "stdout",
     "output_type": "stream",
     "text": [
      "Iteration 0 ended in 34.87754034996033 seconds\n"
     ]
    },
    {
     "name": "stderr",
     "output_type": "stream",
     "text": [
      "                                                                                \r"
     ]
    },
    {
     "name": "stdout",
     "output_type": "stream",
     "text": [
      "Iteration 0 ended in 37.753700494766235 seconds\n"
     ]
    },
    {
     "name": "stderr",
     "output_type": "stream",
     "text": [
      "                                                                                \r"
     ]
    },
    {
     "name": "stdout",
     "output_type": "stream",
     "text": [
      "Iteration 0 ended in 34.05193638801575 seconds\n"
     ]
    },
    {
     "name": "stderr",
     "output_type": "stream",
     "text": [
      "                                                                                \r"
     ]
    },
    {
     "name": "stdout",
     "output_type": "stream",
     "text": [
      "Iteration 0 ended in 35.776469469070435 seconds\n"
     ]
    },
    {
     "name": "stderr",
     "output_type": "stream",
     "text": [
      "                                                                                \r"
     ]
    },
    {
     "name": "stdout",
     "output_type": "stream",
     "text": [
      "Iteration 0 ended in 41.16743874549866 seconds\n"
     ]
    },
    {
     "name": "stderr",
     "output_type": "stream",
     "text": [
      "                                                                                \r"
     ]
    },
    {
     "name": "stdout",
     "output_type": "stream",
     "text": [
      "Iteration 0 ended in 41.907142877578735 seconds\n"
     ]
    },
    {
     "name": "stderr",
     "output_type": "stream",
     "text": [
      "                                                                                \r"
     ]
    },
    {
     "name": "stdout",
     "output_type": "stream",
     "text": [
      "Iteration 0 ended in 42.37422752380371 seconds\n"
     ]
    },
    {
     "name": "stderr",
     "output_type": "stream",
     "text": [
      "                                                                                \r"
     ]
    },
    {
     "name": "stdout",
     "output_type": "stream",
     "text": [
      "Iteration 0 ended in 38.64884424209595 seconds\n"
     ]
    },
    {
     "name": "stderr",
     "output_type": "stream",
     "text": [
      "                                                                                \r"
     ]
    },
    {
     "name": "stdout",
     "output_type": "stream",
     "text": [
      "Iteration 0 ended in 45.65352129936218 seconds\n"
     ]
    },
    {
     "name": "stderr",
     "output_type": "stream",
     "text": [
      "                                                                                \r"
     ]
    },
    {
     "name": "stdout",
     "output_type": "stream",
     "text": [
      "Iteration 0 ended in 42.494946002960205 seconds\n"
     ]
    },
    {
     "name": "stderr",
     "output_type": "stream",
     "text": [
      "                                                                                \r"
     ]
    },
    {
     "name": "stdout",
     "output_type": "stream",
     "text": [
      "Iteration 0 ended in 46.69434404373169 seconds\n"
     ]
    },
    {
     "name": "stderr",
     "output_type": "stream",
     "text": [
      "                                                                                \r"
     ]
    },
    {
     "name": "stdout",
     "output_type": "stream",
     "text": [
      "Iteration 0 ended in 48.16459345817566 seconds\n"
     ]
    },
    {
     "name": "stderr",
     "output_type": "stream",
     "text": [
      "                                                                                \r"
     ]
    },
    {
     "name": "stdout",
     "output_type": "stream",
     "text": [
      "Iteration 0 ended in 51.17348074913025 seconds\n"
     ]
    },
    {
     "name": "stderr",
     "output_type": "stream",
     "text": [
      "[Stage 974:=================================================>     (43 + 5) / 48]\r"
     ]
    },
    {
     "name": "stdout",
     "output_type": "stream",
     "text": [
      "Iteration 0 ended in 50.241539001464844 seconds\n"
     ]
    },
    {
     "name": "stderr",
     "output_type": "stream",
     "text": [
      "                                                                                \r"
     ]
    }
   ],
   "source": [
    "users_shares = np.linspace(1000000, 50000000, 21) / NUM_USERS\n",
    "\n",
    "time_list = []\n",
    "for users_share in users_shares: \n",
    "    # Simulator initialization\n",
    "    user_generator.initSeedSequence(SEED)\n",
    "    item_generator.initSeedSequence(SEED)\n",
    "\n",
    "    sim = Simulator(\n",
    "        user_gen=user_generator,\n",
    "        item_gen=item_generator,\n",
    "        data_dir=f'{CHECKPOINT_DIR}/users_share_{users_share}',\n",
    "        user_key_col='user_idx',\n",
    "        item_key_col='item_idx',\n",
    "        spark_session=spark\n",
    "    )\n",
    "    metrics = []\n",
    "    for i in range(NUM_ITER):\n",
    "        cycle_time = {}\n",
    "        iter_start = time.time()\n",
    "        \n",
    "        # sample users\n",
    "        start = time.time()\n",
    "        current_users = sim.sample_users(users_share).cache()\n",
    "        users_num = current_users.count()\n",
    "        cycle_time['sample_users_time'] = time.time() - start\n",
    "\n",
    "        # history of interactions\n",
    "        log = sim.get_log(current_users)\n",
    "        if log is not None:\n",
    "            log = log.cache()\n",
    "        else:\n",
    "            log = users.limit(1).crossJoin(items.limit(1)).withColumn(\"relevance\", sf.lit(1)).cache()\n",
    "        log.count()\n",
    "\n",
    "        # getting recommendations for sampled users from the recommender system\n",
    "        recs = rs_model.predict(\n",
    "            log=log, k=5, users=current_users, items=items, filter_seen_items=False\n",
    "        ).cache()\n",
    "        recs.count()\n",
    "\n",
    "        # getting responses to recommended items from the response function\n",
    "        start = time.time()\n",
    "        true_resp = sim.sample_responses(\n",
    "            recs_df=recs,\n",
    "            user_features=None,\n",
    "            item_features=None,\n",
    "            action_models=response_model,\n",
    "        ).cache()\n",
    "        true_resp.count()\n",
    "        cycle_time['sample_responses_time'] = time.time() - start\n",
    "\n",
    "        # update user interaction history\n",
    "        start = time.time()\n",
    "        sim.update_log(true_resp, iteration=i)\n",
    "        cycle_time['update_log_time'] = time.time() - start\n",
    "\n",
    "        # measure the quality of the recommender system\n",
    "        start = time.time()\n",
    "        metrics.append(calc_metric(true_resp))\n",
    "        cycle_time['metrics_time'] = time.time() - start\n",
    "\n",
    "        current_users.unpersist()\n",
    "        if log is not None:\n",
    "            log.unpersist()\n",
    "        recs.unpersist()\n",
    "        true_resp.unpersist()\n",
    "\n",
    "        cycle_time['iter_time'] = time.time() - iter_start\n",
    "        cycle_time['users_num'] = users_num\n",
    "\n",
    "        time_list.append(cycle_time)\n",
    "        print(f'Iteration {i} ended in {cycle_time[\"iter_time\"]} seconds')\n",
    "        pd.DataFrame(time_list).to_csv('cycle_time_50M_users.csv', index=False)"
   ]
  },
  {
   "cell_type": "code",
   "execution_count": 22,
   "metadata": {},
   "outputs": [],
   "source": [
    "cycle_time_df = pd.read_csv('cycle_time_50M_users_5seeds.csv')"
   ]
  },
  {
   "cell_type": "code",
   "execution_count": 29,
   "metadata": {},
   "outputs": [],
   "source": [
    "cycle_time_df = cycle_time_df.groupby(['index']).mean()\n",
    "cycle_time_df['simulator_time'] = cycle_time_df.iloc[:, :-2].sum(axis=1)"
   ]
  },
  {
   "cell_type": "code",
   "execution_count": 30,
   "metadata": {},
   "outputs": [
    {
     "data": {
      "image/png": "[encoded data removed]",
      "text/plain": [
       "<Figure size 1200x700 with 1 Axes>"
      ]
     },
     "metadata": {},
     "output_type": "display_data"
    }
   ],
   "source": [
    "plt.figure(figsize=(12, 7))\n",
    "sns.lineplot(cycle_time_df, x='users_num', y='sample_users_time', label='sample users');\n",
    "sns.lineplot(cycle_time_df, x='users_num', y='sample_responses_time', label='generate responses');\n",
    "sns.lineplot(cycle_time_df, x='users_num', y='update_log_time', label='save responses');\n",
    "sns.lineplot(cycle_time_df, x='users_num', y='metrics_time', label='calculate metric');\n",
    "sns.lineplot(cycle_time_df, x='users_num', y='simulator_time', label='total', color='black');\n",
    "plt.legend(loc='upper left', fontsize=14);\n",
    "plt.grid()\n",
    "plt.xlabel(\"# of sampled users\", fontsize=18)\n",
    "plt.ylabel(\"time, s\", fontsize=18);"
   ]
  },
  {
   "cell_type": "markdown",
   "metadata": {},
   "source": [
    "The most size-dependent operations are the response generation and the generated data saving. "
   ]
  },
  {
   "cell_type": "code",
   "execution_count": null,
   "metadata": {},
   "outputs": [],
   "source": []
  }
 ],
 "metadata": {
  "kernelspec": {
   "display_name": "env39_sim4rec_demo_new",
   "language": "python",
   "name": "env39_sim4rec_demo_new"
  },
  "language_info": {
   "codemirror_mode": {
    "name": "ipython",
    "version": 3
   },
   "file_extension": ".py",
   "mimetype": "text/x-python",
   "name": "python",
   "nbconvert_exporter": "python",
   "pygments_lexer": "ipython3",
   "version": "3.9.19"
  },
  "notebookId": "cd4e698e-7892-45e1-a7aa-fe1453f4b402",
  "notebookPath": "sources/sim4rec/sber-simulator-main/task_1.ipynb",
  "vscode": {
   "interpreter": {
    "hash": "0c23ac1ac3d03469769ffca4283c7852312778d94b2cbd9b1a60eeafc1c4055f"
   }
  }
 },
 "nbformat": 4,
 "nbformat_minor": 4
}
